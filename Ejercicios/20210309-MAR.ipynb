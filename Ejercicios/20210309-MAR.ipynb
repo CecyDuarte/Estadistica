{
 "cells": [
  {
   "cell_type": "code",
   "execution_count": 2,
   "id": "entitled-designation",
   "metadata": {},
   "outputs": [
    {
     "name": "stdout",
     "output_type": "stream",
     "text": [
      "package 'TSA' successfully unpacked and MD5 sums checked\n",
      "\n",
      "The downloaded binary packages are in\n",
      "\tC:\\Users\\almac\\AppData\\Local\\Temp\\Rtmpu0mz6u\\downloaded_packages\n",
      "package 'TSA' successfully unpacked and MD5 sums checked\n",
      "\n",
      "The downloaded binary packages are in\n",
      "\tC:\\Users\\almac\\AppData\\Local\\Temp\\Rtmpu0mz6u\\downloaded_packages\n"
     ]
    }
   ],
   "source": [
    "install.packages(\"TSA\")\n",
    "install.packages(\"TSA\")"
   ]
  },
  {
   "cell_type": "code",
   "execution_count": 4,
   "id": "romantic-treatment",
   "metadata": {},
   "outputs": [
    {
     "data": {
      "text/html": [
       "<ol class=list-inline>\n",
       "\t<li>1500</li>\n",
       "\t<li>1</li>\n",
       "</ol>\n"
      ],
      "text/latex": [
       "\\begin{enumerate*}\n",
       "\\item 1500\n",
       "\\item 1\n",
       "\\end{enumerate*}\n"
      ],
      "text/markdown": [
       "1. 1500\n",
       "2. 1\n",
       "\n",
       "\n"
      ],
      "text/plain": [
       "[1] 1500    1"
      ]
     },
     "metadata": {},
     "output_type": "display_data"
    },
    {
     "data": {
      "text/html": [
       "<ol class=list-inline>\n",
       "\t<li>1869</li>\n",
       "\t<li>1</li>\n",
       "</ol>\n"
      ],
      "text/latex": [
       "\\begin{enumerate*}\n",
       "\\item 1869\n",
       "\\item 1\n",
       "\\end{enumerate*}\n"
      ],
      "text/markdown": [
       "1. 1869\n",
       "2. 1\n",
       "\n",
       "\n"
      ],
      "text/plain": [
       "[1] 1869    1"
      ]
     },
     "metadata": {},
     "output_type": "display_data"
    },
    {
     "name": "stderr",
     "output_type": "stream",
     "text": [
      "ERROR while rich displaying an object: Error in if (many_rows) {: argumento tiene longitud cero\n",
      "\n",
      "Traceback:\n",
      "1. FUN(X[[i]], ...)\n",
      "2. tryCatch(withCallingHandlers({\n",
      " .     if (!mime %in% names(repr::mime2repr)) \n",
      " .         stop(\"No repr_* for mimetype \", mime, \" in repr::mime2repr\")\n",
      " .     rpr <- repr::mime2repr[[mime]](obj)\n",
      " .     if (is.null(rpr)) \n",
      " .         return(NULL)\n",
      " .     prepare_content(is.raw(rpr), rpr)\n",
      " . }, error = error_handler), error = outer_handler)\n",
      "3. tryCatchList(expr, classes, parentenv, handlers)\n",
      "4. tryCatchOne(expr, names, parentenv, handlers[[1L]])\n",
      "5. doTryCatch(return(expr), name, parentenv, handler)\n",
      "6. withCallingHandlers({\n",
      " .     if (!mime %in% names(repr::mime2repr)) \n",
      " .         stop(\"No repr_* for mimetype \", mime, \" in repr::mime2repr\")\n",
      " .     rpr <- repr::mime2repr[[mime]](obj)\n",
      " .     if (is.null(rpr)) \n",
      " .         return(NULL)\n",
      " .     prepare_content(is.raw(rpr), rpr)\n",
      " . }, error = error_handler)\n",
      "7. repr::mime2repr[[mime]](obj)\n",
      "8. repr_text.ts(obj)\n",
      "9. repr_ts_generic(obj, repr_text.matrix, ...)\n",
      "10. repr_func(m, ..., rows = nrow(m), cols = ncol(m))\n",
      "11. ellip_limit_arr(obj, ...)\n",
      "12. arr_partition(a, rows, cols)\n"
     ]
    },
    {
     "data": {
      "image/png": "[encoded data removed]",
      "text/plain": [
       "plot without title"
      ]
     },
     "metadata": {},
     "output_type": "display_data"
    }
   ],
   "source": [
    "library(\"TSA\")\n",
    "library(\"tseries\")\n",
    "\n",
    "data(bev)\n",
    "#descriptiva\n",
    "start(bev)\n",
    "end(bev)\n",
    "time(bev)\n",
    "plot(bev)\n"
   ]
  },
  {
   "cell_type": "markdown",
   "id": "typical-manchester",
   "metadata": {},
   "source": [
    "## Clasificación"
   ]
  },
  {
   "cell_type": "markdown",
   "id": "established-public",
   "metadata": {},
   "source": [
    "## Media"
   ]
  },
  {
   "cell_type": "code",
   "execution_count": 5,
   "id": "excited-jonathan",
   "metadata": {},
   "outputs": [
    {
     "data": {
      "text/plain": [
       "\n",
       "Call:\n",
       "lm(formula = bev ~ time(bev))\n",
       "\n",
       "Residuals:\n",
       "    Min      1Q  Median      3Q     Max \n",
       "-56.850 -22.737  -2.556  15.325 201.219 \n",
       "\n",
       "Coefficients:\n",
       "              Estimate Std. Error t value Pr(>|t|)    \n",
       "(Intercept) -813.21332   27.24345  -29.85   <2e-16 ***\n",
       "time(bev)      0.54680    0.01614   33.88   <2e-16 ***\n",
       "---\n",
       "Signif. codes:  0 '***' 0.001 '**' 0.01 '*' 0.05 '.' 0.1 ' ' 1\n",
       "\n",
       "Residual standard error: 33.16 on 368 degrees of freedom\n",
       "Multiple R-squared:  0.7572,\tAdjusted R-squared:  0.7565 \n",
       "F-statistic:  1148 on 1 and 368 DF,  p-value: < 2.2e-16\n"
      ]
     },
     "metadata": {},
     "output_type": "display_data"
    }
   ],
   "source": [
    "ale<-lm(bev~time(bev))\n",
    "summary(ale)"
   ]
  },
  {
   "cell_type": "markdown",
   "id": "toxic-thirty",
   "metadata": {},
   "source": [
    "Regresión significativa"
   ]
  },
  {
   "cell_type": "code",
   "execution_count": 7,
   "id": "stuffed-impossible",
   "metadata": {},
   "outputs": [
    {
     "data": {
      "image/png": "[encoded data removed]",
      "text/plain": [
       "plot without title"
      ]
     },
     "metadata": {},
     "output_type": "display_data"
    }
   ],
   "source": [
    "plot(bev)\n",
    "abline(ale, col=\"magenta\")"
   ]
  },
  {
   "cell_type": "markdown",
   "id": "interested-activation",
   "metadata": {},
   "source": [
    "# Modelo de tendencia log"
   ]
  },
  {
   "cell_type": "code",
   "execution_count": 8,
   "id": "young-cooper",
   "metadata": {},
   "outputs": [
    {
     "data": {
      "text/plain": [
       "\n",
       "Call:\n",
       "lm(formula = bev ~ x.)\n",
       "\n",
       "Residuals:\n",
       "    Min      1Q  Median      3Q     Max \n",
       "-58.177 -23.398  -1.953  14.632 202.474 \n",
       "\n",
       "Coefficients:\n",
       "            Estimate Std. Error t value Pr(>|t|)    \n",
       "(Intercept)  -6690.5      203.5  -32.87   <2e-16 ***\n",
       "x.             915.3       27.4   33.41   <2e-16 ***\n",
       "---\n",
       "Signif. codes:  0 '***' 0.001 '**' 0.01 '*' 0.05 '.' 0.1 ' ' 1\n",
       "\n",
       "Residual standard error: 33.51 on 368 degrees of freedom\n",
       "Multiple R-squared:  0.752,\tAdjusted R-squared:  0.7513 \n",
       "F-statistic:  1116 on 1 and 368 DF,  p-value: < 2.2e-16\n"
      ]
     },
     "metadata": {},
     "output_type": "display_data"
    }
   ],
   "source": [
    "x.<-log(time(bev))\n",
    "tlog<-lm(bev~x.)\n",
    "summary(tlog)"
   ]
  },
  {
   "cell_type": "code",
   "execution_count": 9,
   "id": "public-booth",
   "metadata": {},
   "outputs": [
    {
     "data": {
      "image/png": "[encoded data removed]",
      "text/plain": [
       "plot without title"
      ]
     },
     "metadata": {},
     "output_type": "display_data"
    }
   ],
   "source": [
    "plot(x., bev,type=\"l\")\n",
    "plot(bev)\n",
    "abline(ale, col=\"magenta\")\n",
    "\n",
    "abline(tlog, col=\"purple\")"
   ]
  },
  {
   "cell_type": "code",
   "execution_count": 12,
   "id": "sixth-diesel",
   "metadata": {},
   "outputs": [
    {
     "data": {
      "text/html": [
       "<strong>(Intercept):</strong> -6690.46385994149"
      ],
      "text/latex": [
       "\\textbf{(Intercept):} -6690.46385994149"
      ],
      "text/markdown": [
       "**(Intercept):** -6690.46385994149"
      ],
      "text/plain": [
       "(Intercept) \n",
       "  -6690.464 "
      ]
     },
     "metadata": {},
     "output_type": "display_data"
    },
    {
     "name": "stderr",
     "output_type": "stream",
     "text": [
      "ERROR while rich displaying an object: Error in if (many_rows) {: argumento tiene longitud cero\n",
      "\n",
      "Traceback:\n",
      "1. FUN(X[[i]], ...)\n",
      "2. tryCatch(withCallingHandlers({\n",
      " .     if (!mime %in% names(repr::mime2repr)) \n",
      " .         stop(\"No repr_* for mimetype \", mime, \" in repr::mime2repr\")\n",
      " .     rpr <- repr::mime2repr[[mime]](obj)\n",
      " .     if (is.null(rpr)) \n",
      " .         return(NULL)\n",
      " .     prepare_content(is.raw(rpr), rpr)\n",
      " . }, error = error_handler), error = outer_handler)\n",
      "3. tryCatchList(expr, classes, parentenv, handlers)\n",
      "4. tryCatchOne(expr, names, parentenv, handlers[[1L]])\n",
      "5. doTryCatch(return(expr), name, parentenv, handler)\n",
      "6. withCallingHandlers({\n",
      " .     if (!mime %in% names(repr::mime2repr)) \n",
      " .         stop(\"No repr_* for mimetype \", mime, \" in repr::mime2repr\")\n",
      " .     rpr <- repr::mime2repr[[mime]](obj)\n",
      " .     if (is.null(rpr)) \n",
      " .         return(NULL)\n",
      " .     prepare_content(is.raw(rpr), rpr)\n",
      " . }, error = error_handler)\n",
      "7. repr::mime2repr[[mime]](obj)\n",
      "8. repr_text.ts(obj)\n",
      "9. repr_ts_generic(obj, repr_text.matrix, ...)\n",
      "10. repr_func(m, ..., rows = nrow(m), cols = ncol(m))\n",
      "11. ellip_limit_arr(obj, ...)\n",
      "12. arr_partition(a, rows, cols)\n"
     ]
    },
    {
     "ename": "ERROR",
     "evalue": "Error: $ operator is invalid for atomic vectors\n",
     "output_type": "error",
     "traceback": [
      "Error: $ operator is invalid for atomic vectors\nTraceback:\n",
      "1. abline(tenl, col = \"blue\")",
      "2. as.vector(coef(a))",
      "3. coef(a)",
      "4. coef.default(a)"
     ]
    },
    {
     "data": {
      "image/png": "[encoded data removed]",
      "text/plain": [
       "plot without title"
      ]
     },
     "metadata": {},
     "output_type": "display_data"
    }
   ],
   "source": [
    "plot(bev)\n",
    "tlog$coefficients[1]\n",
    "tenl<-tlog$coefficients[1]+tlog$coefficients[2]*x.\n",
    "tenl\n",
    "\n",
    "abline(ale, col=\"magenta\")\n",
    "abline(tenl, col=\"blue\")"
   ]
  },
  {
   "cell_type": "markdown",
   "id": "atomic-regular",
   "metadata": {},
   "source": [
    "El modelo muestra tendencia creciente"
   ]
  },
  {
   "cell_type": "markdown",
   "id": "visible-daisy",
   "metadata": {},
   "source": [
    "## Varianza"
   ]
  },
  {
   "cell_type": "code",
   "execution_count": 13,
   "id": "enabling-surgery",
   "metadata": {},
   "outputs": [
    {
     "name": "stderr",
     "output_type": "stream",
     "text": [
      "Warning message in adf.test(bev, alternative = \"stationary\"):\n",
      "\"p-value smaller than printed p-value\""
     ]
    },
    {
     "data": {
      "text/plain": [
       "\n",
       "\tAugmented Dickey-Fuller Test\n",
       "\n",
       "data:  bev\n",
       "Dickey-Fuller = -4.0942, Lag order = 7, p-value = 0.01\n",
       "alternative hypothesis: stationary\n"
      ]
     },
     "metadata": {},
     "output_type": "display_data"
    }
   ],
   "source": [
    "adf.test(bev, alternative=\"stationary\")"
   ]
  },
  {
   "cell_type": "markdown",
   "id": "abroad-purchase",
   "metadata": {},
   "source": [
    "Rechazamos Ho, estacionaria en varianza"
   ]
  },
  {
   "cell_type": "markdown",
   "id": "failing-highlight",
   "metadata": {},
   "source": [
    "Clasificación de la serie como: NO ESTACIONARIA"
   ]
  },
  {
   "cell_type": "markdown",
   "id": "continental-spank",
   "metadata": {},
   "source": [
    "**Corrección**"
   ]
  },
  {
   "cell_type": "code",
   "execution_count": 14,
   "id": "sharp-consultancy",
   "metadata": {},
   "outputs": [],
   "source": [
    "c1<-diff(bev) #diferenciando serie original"
   ]
  },
  {
   "cell_type": "code",
   "execution_count": 15,
   "id": "domestic-founder",
   "metadata": {},
   "outputs": [
    {
     "data": {
      "image/png": "[encoded data removed]",
      "text/plain": [
       "plot without title"
      ]
     },
     "metadata": {},
     "output_type": "display_data"
    }
   ],
   "source": [
    "plot(c1)"
   ]
  },
  {
   "cell_type": "markdown",
   "id": "consistent-boost",
   "metadata": {},
   "source": [
    "# Tendencia"
   ]
  },
  {
   "cell_type": "code",
   "execution_count": 16,
   "id": "weighted-wagon",
   "metadata": {},
   "outputs": [
    {
     "data": {
      "text/plain": [
       "\n",
       "Call:\n",
       "lm(formula = c1 ~ time(c1))\n",
       "\n",
       "Residuals:\n",
       "     Min       1Q   Median       3Q      Max \n",
       "-115.708   -9.390    0.332    8.255  100.293 \n",
       "\n",
       "Coefficients:\n",
       "             Estimate Std. Error t value Pr(>|t|)\n",
       "(Intercept) -1.318719  18.725665  -0.070    0.944\n",
       "time(c1)     0.001116   0.011091   0.101    0.920\n",
       "\n",
       "Residual standard error: 22.69 on 367 degrees of freedom\n",
       "Multiple R-squared:  2.756e-05,\tAdjusted R-squared:  -0.002697 \n",
       "F-statistic: 0.01012 on 1 and 367 DF,  p-value: 0.9199\n"
      ]
     },
     "metadata": {},
     "output_type": "display_data"
    }
   ],
   "source": [
    "summary(lm(c1~time(c1)))"
   ]
  },
  {
   "cell_type": "markdown",
   "id": "informed-tourism",
   "metadata": {},
   "source": [
    "No tiene tendencia lineal, entonces es estacionaria."
   ]
  },
  {
   "cell_type": "markdown",
   "id": "outside-engine",
   "metadata": {},
   "source": [
    "# Varianza"
   ]
  },
  {
   "cell_type": "code",
   "execution_count": 18,
   "id": "competitive-bangladesh",
   "metadata": {},
   "outputs": [
    {
     "name": "stderr",
     "output_type": "stream",
     "text": [
      "Warning message in adf.test(c1, alternative = \"stationary\"):\n",
      "\"p-value smaller than printed p-value\""
     ]
    },
    {
     "data": {
      "text/plain": [
       "\n",
       "\tAugmented Dickey-Fuller Test\n",
       "\n",
       "data:  c1\n",
       "Dickey-Fuller = -10.043, Lag order = 7, p-value = 0.01\n",
       "alternative hypothesis: stationary\n"
      ]
     },
     "metadata": {},
     "output_type": "display_data"
    }
   ],
   "source": [
    "adf.test(c1, alternative=\"stationary\")"
   ]
  },
  {
   "cell_type": "markdown",
   "id": "unusual-cassette",
   "metadata": {},
   "source": [
    "La serie es estacionaria en varianza"
   ]
  },
  {
   "cell_type": "markdown",
   "id": "cathedral-assets",
   "metadata": {},
   "source": [
    "Clasificación para C1: Estacionaria"
   ]
  },
  {
   "cell_type": "markdown",
   "id": "cardiac-semiconductor",
   "metadata": {},
   "source": [
    "# Modelado"
   ]
  },
  {
   "cell_type": "code",
   "execution_count": 19,
   "id": "altered-compensation",
   "metadata": {},
   "outputs": [
    {
     "data": {
      "text/plain": [
       "\n",
       "Call:\n",
       "ar(x = c1)\n",
       "\n",
       "Coefficients:\n",
       "      1        2        3        4        5        6        7        8  \n",
       "-0.0257  -0.4214  -0.3146  -0.2784  -0.1454  -0.2565  -0.1067  -0.2065  \n",
       "      9       10       11       12       13       14       15       16  \n",
       "-0.1787  -0.1483  -0.0825   0.0025  -0.1093   0.0611   0.0200   0.1523  \n",
       "\n",
       "Order selected 16  sigma^2 estimated as  383.1"
      ]
     },
     "metadata": {},
     "output_type": "display_data"
    }
   ],
   "source": [
    "ar(c1)\n",
    "AIC(arima(correc2, order=c(16,0,0), method=\"ML\"))"
   ]
  },
  {
   "cell_type": "code",
   "execution_count": 22,
   "id": "accessory-addiction",
   "metadata": {},
   "outputs": [
    {
     "data": {
      "text/html": [
       "3247.57117189804"
      ],
      "text/latex": [
       "3247.57117189804"
      ],
      "text/markdown": [
       "3247.57117189804"
      ],
      "text/plain": [
       "[1] 3247.571"
      ]
     },
     "metadata": {},
     "output_type": "display_data"
    },
    {
     "data": {
      "text/html": [
       "20"
      ],
      "text/latex": [
       "20"
      ],
      "text/markdown": [
       "20"
      ],
      "text/plain": [
       "[1] 20"
      ]
     },
     "metadata": {},
     "output_type": "display_data"
    }
   ],
   "source": [
    "#MA\n",
    "aic0<-Inf # le das un numero muy grande\n",
    "for (i in 1:20)\n",
    "{\n",
    "  aic1<-AIC(arima(c1, order = c(0,0,i), method =\"ML\" ))\n",
    "  if(aic1<aic0)\n",
    "  {\n",
    "    aic0<-aic1\n",
    "    MA.mejor<-i\n",
    "  }\n",
    "}\n",
    "aic0 #AIC del mejor MA: 3247.57\n",
    "MA.mejor# el orden del mejor MA 20\n",
    "AIC(arima(c1, order=c(0,0,20), method=\"ML\"))"
   ]
  },
  {
   "cell_type": "markdown",
   "id": "collective-decline",
   "metadata": {},
   "source": [
    "# Ruido blanco"
   ]
  },
  {
   "cell_type": "code",
   "execution_count": 23,
   "id": "residential-samuel",
   "metadata": {},
   "outputs": [
    {
     "name": "stderr",
     "output_type": "stream",
     "text": [
      "Warning message in stats::arima(x = x, order = order, seasonal = seasonal, xreg = xreg, :\n",
      "\"possible convergence problem: optim gave code = 1\"Warning message in stats::arima(x = x, order = order, seasonal = seasonal, xreg = xreg, :\n",
      "\"possible convergence problem: optim gave code = 1\"Warning message in stats::arima(x = x, order = order, seasonal = seasonal, xreg = xreg, :\n",
      "\"possible convergence problem: optim gave code = 1\"Warning message in stats::arima(x = x, order = order, seasonal = seasonal, xreg = xreg, :\n",
      "\"possible convergence problem: optim gave code = 1\"Warning message in stats::arima(x = x, order = order, seasonal = seasonal, xreg = xreg, :\n",
      "\"possible convergence problem: optim gave code = 1\"Warning message in stats::arima(x = x, order = order, seasonal = seasonal, xreg = xreg, :\n",
      "\"possible convergence problem: optim gave code = 1\"Warning message in stats::arima(x = x, order = order, seasonal = seasonal, xreg = xreg, :\n",
      "\"possible convergence problem: optim gave code = 1\"Warning message in stats::arima(x = x, order = order, seasonal = seasonal, xreg = xreg, :\n",
      "\"possible convergence problem: optim gave code = 1\"Warning message in stats::arima(x = x, order = order, seasonal = seasonal, xreg = xreg, :\n",
      "\"possible convergence problem: optim gave code = 1\"Warning message in stats::arima(x = x, order = order, seasonal = seasonal, xreg = xreg, :\n",
      "\"possible convergence problem: optim gave code = 1\"Warning message in stats::arima(x = x, order = order, seasonal = seasonal, xreg = xreg, :\n",
      "\"possible convergence problem: optim gave code = 1\"Warning message in stats::arima(x = x, order = order, seasonal = seasonal, xreg = xreg, :\n",
      "\"possible convergence problem: optim gave code = 1\"Warning message in stats::arima(x = x, order = order, seasonal = seasonal, xreg = xreg, :\n",
      "\"possible convergence problem: optim gave code = 1\"Warning message in stats::arima(x = x, order = order, seasonal = seasonal, xreg = xreg, :\n",
      "\"possible convergence problem: optim gave code = 1\"Warning message in stats::arima(x = x, order = order, seasonal = seasonal, xreg = xreg, :\n",
      "\"possible convergence problem: optim gave code = 1\"Warning message in stats::arima(x = x, order = order, seasonal = seasonal, xreg = xreg, :\n",
      "\"possible convergence problem: optim gave code = 1\"Warning message in stats::arima(x = x, order = order, seasonal = seasonal, xreg = xreg, :\n",
      "\"possible convergence problem: optim gave code = 1\"Warning message in stats::arima(x = x, order = order, seasonal = seasonal, xreg = xreg, :\n",
      "\"possible convergence problem: optim gave code = 1\"Warning message in stats::arima(x = x, order = order, seasonal = seasonal, xreg = xreg, :\n",
      "\"possible convergence problem: optim gave code = 1\"Warning message in stats::arima(x = x, order = order, seasonal = seasonal, xreg = xreg, :\n",
      "\"possible convergence problem: optim gave code = 1\"Warning message in stats::arima(x = x, order = order, seasonal = seasonal, xreg = xreg, :\n",
      "\"possible convergence problem: optim gave code = 1\"Warning message in stats::arima(x = x, order = order, seasonal = seasonal, xreg = xreg, :\n",
      "\"possible convergence problem: optim gave code = 1\"Warning message in log(s2):\n",
      "\"Se han producido NaNs\"Warning message in log(s2):\n",
      "\"Se han producido NaNs\"Warning message in stats::arima(x = x, order = order, seasonal = seasonal, xreg = xreg, :\n",
      "\"possible convergence problem: optim gave code = 1\"Warning message in stats::arima(x = x, order = order, seasonal = seasonal, xreg = xreg, :\n",
      "\"possible convergence problem: optim gave code = 1\"Warning message in stats::arima(x = x, order = order, seasonal = seasonal, xreg = xreg, :\n",
      "\"possible convergence problem: optim gave code = 1\"Warning message in stats::arima(x = x, order = order, seasonal = seasonal, xreg = xreg, :\n",
      "\"possible convergence problem: optim gave code = 1\"Warning message in stats::arima(x = x, order = order, seasonal = seasonal, xreg = xreg, :\n",
      "\"possible convergence problem: optim gave code = 1\"Warning message in stats::arima(x = x, order = order, seasonal = seasonal, xreg = xreg, :\n",
      "\"possible convergence problem: optim gave code = 1\"Warning message in stats::arima(x = x, order = order, seasonal = seasonal, xreg = xreg, :\n",
      "\"possible convergence problem: optim gave code = 1\"Warning message in stats::arima(x = x, order = order, seasonal = seasonal, xreg = xreg, :\n",
      "\"possible convergence problem: optim gave code = 1\"Warning message in stats::arima(x = x, order = order, seasonal = seasonal, xreg = xreg, :\n",
      "\"possible convergence problem: optim gave code = 1\"Warning message in stats::arima(x = x, order = order, seasonal = seasonal, xreg = xreg, :\n",
      "\"possible convergence problem: optim gave code = 1\"Warning message in log(s2):\n",
      "\"Se han producido NaNs\"Warning message in log(s2):\n",
      "\"Se han producido NaNs\"Warning message in stats::arima(x = x, order = order, seasonal = seasonal, xreg = xreg, :\n",
      "\"possible convergence problem: optim gave code = 1\"Warning message in stats::arima(x = x, order = order, seasonal = seasonal, xreg = xreg, :\n",
      "\"possible convergence problem: optim gave code = 1\"Warning message in stats::arima(x = x, order = order, seasonal = seasonal, xreg = xreg, :\n",
      "\"possible convergence problem: optim gave code = 1\"Warning message in stats::arima(x = x, order = order, seasonal = seasonal, xreg = xreg, :\n",
      "\"possible convergence problem: optim gave code = 1\"Warning message in stats::arima(x = x, order = order, seasonal = seasonal, xreg = xreg, :\n",
      "\"possible convergence problem: optim gave code = 1\"Warning message in stats::arima(x = x, order = order, seasonal = seasonal, xreg = xreg, :\n",
      "\"possible convergence problem: optim gave code = 1\"Warning message in stats::arima(x = x, order = order, seasonal = seasonal, xreg = xreg, :\n",
      "\"possible convergence problem: optim gave code = 1\"Warning message in stats::arima(x = x, order = order, seasonal = seasonal, xreg = xreg, :\n",
      "\"possible convergence problem: optim gave code = 1\"Warning message in stats::arima(x = x, order = order, seasonal = seasonal, xreg = xreg, :\n",
      "\"possible convergence problem: optim gave code = 1\"Warning message in stats::arima(x = x, order = order, seasonal = seasonal, xreg = xreg, :\n",
      "\"possible convergence problem: optim gave code = 1\"Warning message in stats::arima(x = x, order = order, seasonal = seasonal, xreg = xreg, :\n",
      "\"possible convergence problem: optim gave code = 1\"Warning message in stats::arima(x = x, order = order, seasonal = seasonal, xreg = xreg, :\n",
      "\"possible convergence problem: optim gave code = 1\"Warning message in stats::arima(x = x, order = order, seasonal = seasonal, xreg = xreg, :\n",
      "\"possible convergence problem: optim gave code = 1\"Warning message in stats::arima(x = x, order = order, seasonal = seasonal, xreg = xreg, :\n",
      "\"possible convergence problem: optim gave code = 1\"Warning message in stats::arima(x = x, order = order, seasonal = seasonal, xreg = xreg, :\n",
      "\"possible convergence problem: optim gave code = 1\"Warning message in stats::arima(x = x, order = order, seasonal = seasonal, xreg = xreg, :\n",
      "\"possible convergence problem: optim gave code = 1\"Warning message in stats::arima(x = x, order = order, seasonal = seasonal, xreg = xreg, :\n",
      "\"possible convergence problem: optim gave code = 1\"Warning message in stats::arima(x = x, order = order, seasonal = seasonal, xreg = xreg, :\n",
      "\"possible convergence problem: optim gave code = 1\""
     ]
    },
    {
     "ename": "ERROR",
     "evalue": "Error in optim(init[mask], armafn, method = optim.method, hessian = TRUE, : non-finite finite-difference value [11]\n",
     "output_type": "error",
     "traceback": [
      "Error in optim(init[mask], armafn, method = optim.method, hessian = TRUE, : non-finite finite-difference value [11]\nTraceback:\n",
      "1. AIC(arima(c1, order = c(j, 0, i), method = \"ML\"))",
      "2. arima(c1, order = c(j, 0, i), method = \"ML\")",
      "3. stats::arima(x = x, order = order, seasonal = seasonal, xreg = xreg, \n .     include.mean = include.mean, transform.pars = transform.pars, \n .     fixed = fixed, init = init, method = method, n.cond = if (!missing(n.cond)) n.cond, \n .     optim.control = optim.control, kappa = kappa)",
      "4. optim(init[mask], armafn, method = optim.method, hessian = TRUE, \n .     control = optim.control, trans = as.logical(transform.pars))"
     ]
    }
   ],
   "source": [
    "#ARMA\n",
    "arma.aic<-Inf\n",
    "for(j in 1:15)\n",
    "{\n",
    "  for (i in 1:15)\n",
    "  {\n",
    "    aux<-AIC(arima(c1, order = c(j,0,i), method =\"ML\" ))\n",
    "    if(aux<arma.aic)\n",
    "    {\n",
    "      arma.aic<-aux\n",
    "      ARMA.mejor<-c(j,i)\n",
    "    }\n",
    "  }\n",
    "}\n",
    "arma.aic\n",
    "ARMA.mejor \n",
    "AIC(arima(c1, order=c(5,0,17), method=\"ML\"))"
   ]
  },
  {
   "cell_type": "markdown",
   "id": "completed-thinking",
   "metadata": {},
   "source": [
    "# Ruido blanco de los residuales"
   ]
  },
  {
   "cell_type": "code",
   "execution_count": 25,
   "id": "mineral-memory",
   "metadata": {},
   "outputs": [],
   "source": [
    "res.517<-residuals(arima(c1, order=c(5,0,17), method=\"ML\"))"
   ]
  },
  {
   "cell_type": "markdown",
   "id": "frozen-enlargement",
   "metadata": {},
   "source": [
    "## Media"
   ]
  },
  {
   "cell_type": "code",
   "execution_count": 26,
   "id": "varied-preparation",
   "metadata": {},
   "outputs": [
    {
     "data": {
      "text/html": [
       "-0.218279168283637"
      ],
      "text/latex": [
       "-0.218279168283637"
      ],
      "text/markdown": [
       "-0.218279168283637"
      ],
      "text/plain": [
       "[1] -0.2182792"
      ]
     },
     "metadata": {},
     "output_type": "display_data"
    }
   ],
   "source": [
    "mean(res.517)"
   ]
  },
  {
   "cell_type": "markdown",
   "id": "outer-distinction",
   "metadata": {},
   "source": [
    "## Varianza"
   ]
  },
  {
   "cell_type": "code",
   "execution_count": 27,
   "id": "rental-compact",
   "metadata": {},
   "outputs": [
    {
     "data": {
      "image/png": "[encoded data removed]",
      "text/plain": [
       "plot without title"
      ]
     },
     "metadata": {},
     "output_type": "display_data"
    }
   ],
   "source": [
    "plot(res.517, type=\"p\")"
   ]
  },
  {
   "cell_type": "markdown",
   "id": "moral-intellectual",
   "metadata": {},
   "source": [
    "## incorrelación"
   ]
  },
  {
   "cell_type": "code",
   "execution_count": null,
   "id": "conventional-george",
   "metadata": {},
   "outputs": [],
   "source": [
    "Tarea: "
   ]
  },
  {
   "cell_type": "code",
   "execution_count": 28,
   "id": "primary-castle",
   "metadata": {},
   "outputs": [
    {
     "data": {
      "image/png": "[encoded data removed]",
      "text/plain": [
       "Plot with title \"Series res.517\""
      ]
     },
     "metadata": {},
     "output_type": "display_data"
    },
    {
     "data": {
      "image/png": "[encoded data removed]",
      "text/plain": [
       "Plot with title \"Series  res.517\""
      ]
     },
     "metadata": {},
     "output_type": "display_data"
    }
   ],
   "source": [
    "acf(res.517)# incorrelación, porque ninguno de los dos graficos se pasa de los límites\n",
    "pacf(res.517) "
   ]
  },
  {
   "cell_type": "markdown",
   "id": "special-punch",
   "metadata": {},
   "source": [
    "## Predicciones"
   ]
  },
  {
   "cell_type": "code",
   "execution_count": 29,
   "id": "instructional-harrison",
   "metadata": {},
   "outputs": [
    {
     "data": {
      "image/png": "[encoded data removed]",
      "text/plain": [
       "plot without title"
      ]
     },
     "metadata": {},
     "output_type": "display_data"
    }
   ],
   "source": [
    "p<-predict(arima(c1, order=c(5, 0,17), method=\"ML\"), n.ahead=20)$pred\n",
    "plot(c1, xlim=c(1500, 1890))\n",
    "lines(p, col=\"magenta\")"
   ]
  },
  {
   "cell_type": "code",
   "execution_count": 32,
   "id": "systematic-roommate",
   "metadata": {},
   "outputs": [
    {
     "data": {
      "image/png": "[encoded data removed]",
      "text/plain": [
       "plot without title"
      ]
     },
     "metadata": {},
     "output_type": "display_data"
    }
   ],
   "source": [
    "p5<-predict(arima(bev, order=c(5, 1,17), method=\"ML\"), n.ahead=20)$pred\n",
    "plot(bev, xlim=c(1500, 1890))\n",
    "lines(p5, col=\"blue\")\n",
    "abline(ale, col=\"green\", lty=2)"
   ]
  },
  {
   "cell_type": "code",
   "execution_count": null,
   "id": "patient-dealer",
   "metadata": {},
   "outputs": [],
   "source": []
  }
 ],
 "metadata": {
  "kernelspec": {
   "display_name": "R",
   "language": "R",
   "name": "ir"
  },
  "language_info": {
   "codemirror_mode": "r",
   "file_extension": ".r",
   "mimetype": "text/x-r-source",
   "name": "R",
   "pygments_lexer": "r",
   "version": "3.6.1"
  }
 },
 "nbformat": 4,
 "nbformat_minor": 5
}
