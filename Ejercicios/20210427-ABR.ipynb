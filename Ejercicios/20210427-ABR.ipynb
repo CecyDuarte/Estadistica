{
 "cells": [
  {
   "cell_type": "code",
   "execution_count": 31,
   "id": "possible-fiber",
   "metadata": {},
   "outputs": [],
   "source": [
    "library(survival)"
   ]
  },
  {
   "cell_type": "code",
   "execution_count": 32,
   "id": "pursuant-blair",
   "metadata": {},
   "outputs": [
    {
     "name": "stderr",
     "output_type": "stream",
     "text": [
      "Warning message in data(rats):\n",
      "\"data set 'rats' not found\""
     ]
    }
   ],
   "source": [
    "data(rats)"
   ]
  },
  {
   "cell_type": "code",
   "execution_count": 33,
   "id": "banner-humanitarian",
   "metadata": {},
   "outputs": [
    {
     "data": {
      "text/html": [
       "<table>\n",
       "<thead><tr><th scope=col>litter</th><th scope=col>rx</th><th scope=col>time</th><th scope=col>status</th><th scope=col>sex</th></tr></thead>\n",
       "<tbody>\n",
       "\t<tr><td> 1 </td><td>1  </td><td>101</td><td>0  </td><td>f  </td></tr>\n",
       "\t<tr><td> 1 </td><td>0  </td><td> 49</td><td>1  </td><td>f  </td></tr>\n",
       "\t<tr><td> 1 </td><td>0  </td><td>104</td><td>0  </td><td>f  </td></tr>\n",
       "\t<tr><td> 2 </td><td>1  </td><td> 91</td><td>0  </td><td>m  </td></tr>\n",
       "\t<tr><td> 2 </td><td>0  </td><td>104</td><td>0  </td><td>m  </td></tr>\n",
       "\t<tr><td> 2 </td><td>0  </td><td>102</td><td>0  </td><td>m  </td></tr>\n",
       "\t<tr><td> 3 </td><td>1  </td><td>104</td><td>0  </td><td>f  </td></tr>\n",
       "\t<tr><td> 3 </td><td>0  </td><td>102</td><td>0  </td><td>f  </td></tr>\n",
       "\t<tr><td> 3 </td><td>0  </td><td>104</td><td>0  </td><td>f  </td></tr>\n",
       "\t<tr><td> 4 </td><td>1  </td><td> 91</td><td>0  </td><td>m  </td></tr>\n",
       "\t<tr><td> 4 </td><td>0  </td><td>104</td><td>0  </td><td>m  </td></tr>\n",
       "\t<tr><td> 4 </td><td>0  </td><td>102</td><td>0  </td><td>m  </td></tr>\n",
       "\t<tr><td> 5 </td><td>1  </td><td>104</td><td>0  </td><td>f  </td></tr>\n",
       "\t<tr><td> 5 </td><td>0  </td><td>104</td><td>0  </td><td>f  </td></tr>\n",
       "\t<tr><td> 5 </td><td>0  </td><td>104</td><td>0  </td><td>f  </td></tr>\n",
       "\t<tr><td> 6 </td><td>1  </td><td> 98</td><td>0  </td><td>m  </td></tr>\n",
       "\t<tr><td> 6 </td><td>0  </td><td> 62</td><td>0  </td><td>m  </td></tr>\n",
       "\t<tr><td> 6 </td><td>0  </td><td> 77</td><td>0  </td><td>m  </td></tr>\n",
       "\t<tr><td> 7 </td><td>1  </td><td> 77</td><td>0  </td><td>f  </td></tr>\n",
       "\t<tr><td> 7 </td><td>0  </td><td> 97</td><td>0  </td><td>f  </td></tr>\n",
       "\t<tr><td> 7 </td><td>0  </td><td> 79</td><td>0  </td><td>f  </td></tr>\n",
       "\t<tr><td> 8 </td><td>1  </td><td> 91</td><td>0  </td><td>m  </td></tr>\n",
       "\t<tr><td> 8 </td><td>0  </td><td> 98</td><td>0  </td><td>m  </td></tr>\n",
       "\t<tr><td> 8 </td><td>0  </td><td> 76</td><td>0  </td><td>m  </td></tr>\n",
       "\t<tr><td> 9 </td><td>1  </td><td> 89</td><td>0  </td><td>f  </td></tr>\n",
       "\t<tr><td> 9 </td><td>0  </td><td>104</td><td>0  </td><td>f  </td></tr>\n",
       "\t<tr><td> 9 </td><td>0  </td><td>104</td><td>0  </td><td>f  </td></tr>\n",
       "\t<tr><td>10 </td><td>1  </td><td>104</td><td>0  </td><td>m  </td></tr>\n",
       "\t<tr><td>10 </td><td>0  </td><td>104</td><td>0  </td><td>m  </td></tr>\n",
       "\t<tr><td>10 </td><td>0  </td><td> 98</td><td>0  </td><td>m  </td></tr>\n",
       "\t<tr><td>...</td><td>...</td><td>...</td><td>...</td><td>...</td></tr>\n",
       "\t<tr><td> 91</td><td>1  </td><td> 49</td><td>0  </td><td>f  </td></tr>\n",
       "\t<tr><td> 91</td><td>0  </td><td> 83</td><td>0  </td><td>f  </td></tr>\n",
       "\t<tr><td> 91</td><td>0  </td><td> 77</td><td>0  </td><td>f  </td></tr>\n",
       "\t<tr><td> 92</td><td>1  </td><td> 94</td><td>0  </td><td>m  </td></tr>\n",
       "\t<tr><td> 92</td><td>0  </td><td>104</td><td>0  </td><td>m  </td></tr>\n",
       "\t<tr><td> 92</td><td>0  </td><td>102</td><td>0  </td><td>m  </td></tr>\n",
       "\t<tr><td> 93</td><td>1  </td><td> 89</td><td>1  </td><td>f  </td></tr>\n",
       "\t<tr><td> 93</td><td>0  </td><td>104</td><td>0  </td><td>f  </td></tr>\n",
       "\t<tr><td> 93</td><td>0  </td><td>104</td><td>0  </td><td>f  </td></tr>\n",
       "\t<tr><td> 94</td><td>1  </td><td>104</td><td>0  </td><td>m  </td></tr>\n",
       "\t<tr><td> 94</td><td>0  </td><td> 89</td><td>0  </td><td>m  </td></tr>\n",
       "\t<tr><td> 94</td><td>0  </td><td> 77</td><td>0  </td><td>m  </td></tr>\n",
       "\t<tr><td> 95</td><td>1  </td><td> 88</td><td>0  </td><td>f  </td></tr>\n",
       "\t<tr><td> 95</td><td>0  </td><td> 79</td><td>0  </td><td>f  </td></tr>\n",
       "\t<tr><td> 95</td><td>0  </td><td> 99</td><td>0  </td><td>f  </td></tr>\n",
       "\t<tr><td> 96</td><td>1  </td><td>104</td><td>0  </td><td>m  </td></tr>\n",
       "\t<tr><td> 96</td><td>0  </td><td> 69</td><td>0  </td><td>m  </td></tr>\n",
       "\t<tr><td> 96</td><td>0  </td><td>102</td><td>0  </td><td>m  </td></tr>\n",
       "\t<tr><td> 97</td><td>1  </td><td>103</td><td>1  </td><td>f  </td></tr>\n",
       "\t<tr><td> 97</td><td>0  </td><td> 91</td><td>0  </td><td>f  </td></tr>\n",
       "\t<tr><td> 97</td><td>0  </td><td>104</td><td>0  </td><td>f  </td></tr>\n",
       "\t<tr><td> 98</td><td>1  </td><td>104</td><td>0  </td><td>m  </td></tr>\n",
       "\t<tr><td> 98</td><td>0  </td><td> 75</td><td>1  </td><td>m  </td></tr>\n",
       "\t<tr><td> 98</td><td>0  </td><td> 64</td><td>0  </td><td>m  </td></tr>\n",
       "\t<tr><td> 99</td><td>1  </td><td>104</td><td>0  </td><td>f  </td></tr>\n",
       "\t<tr><td> 99</td><td>0  </td><td>104</td><td>0  </td><td>f  </td></tr>\n",
       "\t<tr><td> 99</td><td>0  </td><td> 79</td><td>1  </td><td>f  </td></tr>\n",
       "\t<tr><td>100</td><td>1  </td><td> 92</td><td>0  </td><td>m  </td></tr>\n",
       "\t<tr><td>100</td><td>0  </td><td>104</td><td>0  </td><td>m  </td></tr>\n",
       "\t<tr><td>100</td><td>0  </td><td>102</td><td>0  </td><td>m  </td></tr>\n",
       "</tbody>\n",
       "</table>\n"
      ],
      "text/latex": [
       "\\begin{tabular}{r|lllll}\n",
       " litter & rx & time & status & sex\\\\\n",
       "\\hline\n",
       "\t  1  & 1   & 101 & 0   & f  \\\\\n",
       "\t  1  & 0   &  49 & 1   & f  \\\\\n",
       "\t  1  & 0   & 104 & 0   & f  \\\\\n",
       "\t  2  & 1   &  91 & 0   & m  \\\\\n",
       "\t  2  & 0   & 104 & 0   & m  \\\\\n",
       "\t  2  & 0   & 102 & 0   & m  \\\\\n",
       "\t  3  & 1   & 104 & 0   & f  \\\\\n",
       "\t  3  & 0   & 102 & 0   & f  \\\\\n",
       "\t  3  & 0   & 104 & 0   & f  \\\\\n",
       "\t  4  & 1   &  91 & 0   & m  \\\\\n",
       "\t  4  & 0   & 104 & 0   & m  \\\\\n",
       "\t  4  & 0   & 102 & 0   & m  \\\\\n",
       "\t  5  & 1   & 104 & 0   & f  \\\\\n",
       "\t  5  & 0   & 104 & 0   & f  \\\\\n",
       "\t  5  & 0   & 104 & 0   & f  \\\\\n",
       "\t  6  & 1   &  98 & 0   & m  \\\\\n",
       "\t  6  & 0   &  62 & 0   & m  \\\\\n",
       "\t  6  & 0   &  77 & 0   & m  \\\\\n",
       "\t  7  & 1   &  77 & 0   & f  \\\\\n",
       "\t  7  & 0   &  97 & 0   & f  \\\\\n",
       "\t  7  & 0   &  79 & 0   & f  \\\\\n",
       "\t  8  & 1   &  91 & 0   & m  \\\\\n",
       "\t  8  & 0   &  98 & 0   & m  \\\\\n",
       "\t  8  & 0   &  76 & 0   & m  \\\\\n",
       "\t  9  & 1   &  89 & 0   & f  \\\\\n",
       "\t  9  & 0   & 104 & 0   & f  \\\\\n",
       "\t  9  & 0   & 104 & 0   & f  \\\\\n",
       "\t 10  & 1   & 104 & 0   & m  \\\\\n",
       "\t 10  & 0   & 104 & 0   & m  \\\\\n",
       "\t 10  & 0   &  98 & 0   & m  \\\\\n",
       "\t ... & ... & ... & ... & ...\\\\\n",
       "\t  91 & 1   &  49 & 0   & f  \\\\\n",
       "\t  91 & 0   &  83 & 0   & f  \\\\\n",
       "\t  91 & 0   &  77 & 0   & f  \\\\\n",
       "\t  92 & 1   &  94 & 0   & m  \\\\\n",
       "\t  92 & 0   & 104 & 0   & m  \\\\\n",
       "\t  92 & 0   & 102 & 0   & m  \\\\\n",
       "\t  93 & 1   &  89 & 1   & f  \\\\\n",
       "\t  93 & 0   & 104 & 0   & f  \\\\\n",
       "\t  93 & 0   & 104 & 0   & f  \\\\\n",
       "\t  94 & 1   & 104 & 0   & m  \\\\\n",
       "\t  94 & 0   &  89 & 0   & m  \\\\\n",
       "\t  94 & 0   &  77 & 0   & m  \\\\\n",
       "\t  95 & 1   &  88 & 0   & f  \\\\\n",
       "\t  95 & 0   &  79 & 0   & f  \\\\\n",
       "\t  95 & 0   &  99 & 0   & f  \\\\\n",
       "\t  96 & 1   & 104 & 0   & m  \\\\\n",
       "\t  96 & 0   &  69 & 0   & m  \\\\\n",
       "\t  96 & 0   & 102 & 0   & m  \\\\\n",
       "\t  97 & 1   & 103 & 1   & f  \\\\\n",
       "\t  97 & 0   &  91 & 0   & f  \\\\\n",
       "\t  97 & 0   & 104 & 0   & f  \\\\\n",
       "\t  98 & 1   & 104 & 0   & m  \\\\\n",
       "\t  98 & 0   &  75 & 1   & m  \\\\\n",
       "\t  98 & 0   &  64 & 0   & m  \\\\\n",
       "\t  99 & 1   & 104 & 0   & f  \\\\\n",
       "\t  99 & 0   & 104 & 0   & f  \\\\\n",
       "\t  99 & 0   &  79 & 1   & f  \\\\\n",
       "\t 100 & 1   &  92 & 0   & m  \\\\\n",
       "\t 100 & 0   & 104 & 0   & m  \\\\\n",
       "\t 100 & 0   & 102 & 0   & m  \\\\\n",
       "\\end{tabular}\n"
      ],
      "text/markdown": [
       "\n",
       "| litter | rx | time | status | sex |\n",
       "|---|---|---|---|---|\n",
       "|  1  | 1   | 101 | 0   | f   |\n",
       "|  1  | 0   |  49 | 1   | f   |\n",
       "|  1  | 0   | 104 | 0   | f   |\n",
       "|  2  | 1   |  91 | 0   | m   |\n",
       "|  2  | 0   | 104 | 0   | m   |\n",
       "|  2  | 0   | 102 | 0   | m   |\n",
       "|  3  | 1   | 104 | 0   | f   |\n",
       "|  3  | 0   | 102 | 0   | f   |\n",
       "|  3  | 0   | 104 | 0   | f   |\n",
       "|  4  | 1   |  91 | 0   | m   |\n",
       "|  4  | 0   | 104 | 0   | m   |\n",
       "|  4  | 0   | 102 | 0   | m   |\n",
       "|  5  | 1   | 104 | 0   | f   |\n",
       "|  5  | 0   | 104 | 0   | f   |\n",
       "|  5  | 0   | 104 | 0   | f   |\n",
       "|  6  | 1   |  98 | 0   | m   |\n",
       "|  6  | 0   |  62 | 0   | m   |\n",
       "|  6  | 0   |  77 | 0   | m   |\n",
       "|  7  | 1   |  77 | 0   | f   |\n",
       "|  7  | 0   |  97 | 0   | f   |\n",
       "|  7  | 0   |  79 | 0   | f   |\n",
       "|  8  | 1   |  91 | 0   | m   |\n",
       "|  8  | 0   |  98 | 0   | m   |\n",
       "|  8  | 0   |  76 | 0   | m   |\n",
       "|  9  | 1   |  89 | 0   | f   |\n",
       "|  9  | 0   | 104 | 0   | f   |\n",
       "|  9  | 0   | 104 | 0   | f   |\n",
       "| 10  | 1   | 104 | 0   | m   |\n",
       "| 10  | 0   | 104 | 0   | m   |\n",
       "| 10  | 0   |  98 | 0   | m   |\n",
       "| ... | ... | ... | ... | ... |\n",
       "|  91 | 1   |  49 | 0   | f   |\n",
       "|  91 | 0   |  83 | 0   | f   |\n",
       "|  91 | 0   |  77 | 0   | f   |\n",
       "|  92 | 1   |  94 | 0   | m   |\n",
       "|  92 | 0   | 104 | 0   | m   |\n",
       "|  92 | 0   | 102 | 0   | m   |\n",
       "|  93 | 1   |  89 | 1   | f   |\n",
       "|  93 | 0   | 104 | 0   | f   |\n",
       "|  93 | 0   | 104 | 0   | f   |\n",
       "|  94 | 1   | 104 | 0   | m   |\n",
       "|  94 | 0   |  89 | 0   | m   |\n",
       "|  94 | 0   |  77 | 0   | m   |\n",
       "|  95 | 1   |  88 | 0   | f   |\n",
       "|  95 | 0   |  79 | 0   | f   |\n",
       "|  95 | 0   |  99 | 0   | f   |\n",
       "|  96 | 1   | 104 | 0   | m   |\n",
       "|  96 | 0   |  69 | 0   | m   |\n",
       "|  96 | 0   | 102 | 0   | m   |\n",
       "|  97 | 1   | 103 | 1   | f   |\n",
       "|  97 | 0   |  91 | 0   | f   |\n",
       "|  97 | 0   | 104 | 0   | f   |\n",
       "|  98 | 1   | 104 | 0   | m   |\n",
       "|  98 | 0   |  75 | 1   | m   |\n",
       "|  98 | 0   |  64 | 0   | m   |\n",
       "|  99 | 1   | 104 | 0   | f   |\n",
       "|  99 | 0   | 104 | 0   | f   |\n",
       "|  99 | 0   |  79 | 1   | f   |\n",
       "| 100 | 1   |  92 | 0   | m   |\n",
       "| 100 | 0   | 104 | 0   | m   |\n",
       "| 100 | 0   | 102 | 0   | m   |\n",
       "\n"
      ],
      "text/plain": [
       "    litter rx  time status sex\n",
       "1    1     1   101  0      f  \n",
       "2    1     0    49  1      f  \n",
       "3    1     0   104  0      f  \n",
       "4    2     1    91  0      m  \n",
       "5    2     0   104  0      m  \n",
       "6    2     0   102  0      m  \n",
       "7    3     1   104  0      f  \n",
       "8    3     0   102  0      f  \n",
       "9    3     0   104  0      f  \n",
       "10   4     1    91  0      m  \n",
       "11   4     0   104  0      m  \n",
       "12   4     0   102  0      m  \n",
       "13   5     1   104  0      f  \n",
       "14   5     0   104  0      f  \n",
       "15   5     0   104  0      f  \n",
       "16   6     1    98  0      m  \n",
       "17   6     0    62  0      m  \n",
       "18   6     0    77  0      m  \n",
       "19   7     1    77  0      f  \n",
       "20   7     0    97  0      f  \n",
       "21   7     0    79  0      f  \n",
       "22   8     1    91  0      m  \n",
       "23   8     0    98  0      m  \n",
       "24   8     0    76  0      m  \n",
       "25   9     1    89  0      f  \n",
       "26   9     0   104  0      f  \n",
       "27   9     0   104  0      f  \n",
       "28  10     1   104  0      m  \n",
       "29  10     0   104  0      m  \n",
       "30  10     0    98  0      m  \n",
       "... ...    ... ...  ...    ...\n",
       "271  91    1    49  0      f  \n",
       "272  91    0    83  0      f  \n",
       "273  91    0    77  0      f  \n",
       "274  92    1    94  0      m  \n",
       "275  92    0   104  0      m  \n",
       "276  92    0   102  0      m  \n",
       "277  93    1    89  1      f  \n",
       "278  93    0   104  0      f  \n",
       "279  93    0   104  0      f  \n",
       "280  94    1   104  0      m  \n",
       "281  94    0    89  0      m  \n",
       "282  94    0    77  0      m  \n",
       "283  95    1    88  0      f  \n",
       "284  95    0    79  0      f  \n",
       "285  95    0    99  0      f  \n",
       "286  96    1   104  0      m  \n",
       "287  96    0    69  0      m  \n",
       "288  96    0   102  0      m  \n",
       "289  97    1   103  1      f  \n",
       "290  97    0    91  0      f  \n",
       "291  97    0   104  0      f  \n",
       "292  98    1   104  0      m  \n",
       "293  98    0    75  1      m  \n",
       "294  98    0    64  0      m  \n",
       "295  99    1   104  0      f  \n",
       "296  99    0   104  0      f  \n",
       "297  99    0    79  1      f  \n",
       "298 100    1    92  0      m  \n",
       "299 100    0   104  0      m  \n",
       "300 100    0   102  0      m  "
      ]
     },
     "metadata": {},
     "output_type": "display_data"
    }
   ],
   "source": [
    "rats"
   ]
  },
  {
   "cell_type": "markdown",
   "id": "lasting-transportation",
   "metadata": {},
   "source": [
    "**Objeto sur.**"
   ]
  },
  {
   "cell_type": "code",
   "execution_count": 34,
   "id": "dressed-tournament",
   "metadata": {},
   "outputs": [
    {
     "data": {
      "text/plain": [
       "  [1] 101+  49  104+  91+ 104+ 102+ 104+ 102+ 104+  91+ 104+ 102+ 104+ 104+ 104+\n",
       " [16]  98+  62+  77+  77+  97+  79+  91+  98+  76+  89+ 104+ 104+ 104+ 104+  98+\n",
       " [31]  88   96  104+  96+  71+  91+ 104   94+  77   79+ 104+  99+  96  104+ 104+\n",
       " [46]  61+  88+  85+  82+  77+ 104+  63+ 104+ 102+  70  104+  77+ 104+ 104+ 102+\n",
       " [61]  89   91+  90+ 104+  80+  92+  91+  70+  92+ 104+ 104+ 101+  39   45+  50 \n",
       " [76] 104+  53+ 102+ 103   69+  91+  65+ 104+  91+  93+ 104+ 103+  86+ 104+  75+\n",
       " [91]  85+  72+ 104+ 104+ 100+ 102+ 104+  63+ 104+  95+ 104+  95+ 104+ 104+  74+\n",
       "[106] 104+ 104+ 102+  81+ 104+  69+ 104+  93+  80+  67  104+  68   92+  98+  83+\n",
       "[121] 104+ 104+ 104+ 104+  89+  89+ 104+ 104+ 104+  63+  32+  51+ 104+  83+  40 \n",
       "[136] 104+  98+  78+  87+ 104+ 104+ 104+ 104+ 102+ 104+ 104+ 104+  87+ 104+  94+\n",
       "[151]  89+ 104+ 104+ 104+ 104+ 102+  78+ 104+ 104+ 104+  91+ 102+ 104+  81   64 \n",
       "[166]  90+ 104+  55+  86   55   94+  91+ 104+ 102+  34  104+  54  104+ 104+ 102+\n",
       "[181]  76+  87+  74+  23+ 104+ 102+ 103   73   84  104+  71   90+ 102  104+  80+\n",
       "[196]  87+  51+ 102+  80  104+  73+ 104+  83+ 102+  45   79+ 104+ 104+ 104+  96+\n",
       "[211]  94  104+ 104+  67+  84+  94+ 104+ 104+ 104+ 104+ 104+  99+ 104+ 101   94+\n",
       "[226] 104+  94+ 102+  76+  84   78  104+ 103+ 102+  80   81   76+  51+ 104+  91+\n",
       "[241]  72   95+ 104+ 102+  98+ 102+  73  104+  66   88+  54+  39+  92  104+ 102 \n",
       "[256]  67+  84+  54+ 104+  98+  73+ 104+ 104+  87+  55+ 104+ 104+  81+  82+ 102+\n",
       "[271]  49+  83+  77+  94+ 104+ 102+  89  104+ 104+ 104+  89+  77+  88+  79+  99+\n",
       "[286] 104+  69+ 102+ 103   91+ 104+ 104+  75   64+ 104+ 104+  79   92+ 104+ 102+"
      ]
     },
     "metadata": {},
     "output_type": "display_data"
    }
   ],
   "source": [
    "rp<-Surv(rats$time, rats$status)\n",
    "rp"
   ]
  },
  {
   "cell_type": "markdown",
   "id": "regional-luxembourg",
   "metadata": {},
   "source": [
    "**H0:** ninguna variable es importe en el modelo.\n",
    "\n",
    "**Ha:** Al menos una es significativa"
   ]
  },
  {
   "cell_type": "code",
   "execution_count": 35,
   "id": "fundamental-workshop",
   "metadata": {},
   "outputs": [
    {
     "data": {
      "text/plain": [
       "Call:\n",
       "coxph(formula = rp ~ rats$litter + rats$rx + rats$sex)\n",
       "\n",
       "                 coef exp(coef)  se(coef)      z        p\n",
       "rats$litter  0.008465  1.008501  0.005344  1.584  0.11315\n",
       "rats$rx      0.805296  2.237359  0.309431  2.603  0.00925\n",
       "rats$sexm   -3.085125  0.045724  0.724932 -4.256 2.08e-05\n",
       "\n",
       "Likelihood ratio test=52.58  on 3 df, p=2.252e-11\n",
       "n= 300, number of events= 42 "
      ]
     },
     "metadata": {},
     "output_type": "display_data"
    }
   ],
   "source": [
    "cox.rats<-coxph(rp~rats$litter+rats$rx+rats$sex)\n",
    "cox.rats"
   ]
  },
  {
   "cell_type": "markdown",
   "id": "living-final",
   "metadata": {},
   "source": [
    "Este me va a servir para ver que variables son las que influyen. Permite ver los riesgos proporcionales"
   ]
  },
  {
   "cell_type": "code",
   "execution_count": 36,
   "id": "welcome-relations",
   "metadata": {},
   "outputs": [
    {
     "data": {
      "text/plain": [
       "Call:\n",
       "coxph(formula = rp ~ rats$litter + rats$rx + rats$sex)\n",
       "\n",
       "  n= 300, number of events= 42 \n",
       "\n",
       "                 coef exp(coef)  se(coef)      z Pr(>|z|)    \n",
       "rats$litter  0.008465  1.008501  0.005344  1.584  0.11315    \n",
       "rats$rx      0.805296  2.237359  0.309431  2.603  0.00925 ** \n",
       "rats$sexm   -3.085125  0.045724  0.724932 -4.256 2.08e-05 ***\n",
       "---\n",
       "Signif. codes:  0 '***' 0.001 '**' 0.01 '*' 0.05 '.' 0.1 ' ' 1\n",
       "\n",
       "            exp(coef) exp(-coef) lower .95 upper .95\n",
       "rats$litter   1.00850     0.9916   0.99799    1.0191\n",
       "rats$rx       2.23736     0.4470   1.21997    4.1032\n",
       "rats$sexm     0.04572    21.8702   0.01104    0.1893\n",
       "\n",
       "Concordance= 0.781  (se = 0.031 )\n",
       "Likelihood ratio test= 52.58  on 3 df,   p=2e-11\n",
       "Wald test            = 26.54  on 3 df,   p=7e-06\n",
       "Score (logrank) test = 45.02  on 3 df,   p=9e-10\n"
      ]
     },
     "metadata": {},
     "output_type": "display_data"
    }
   ],
   "source": [
    "summary(cox.rats)"
   ]
  },
  {
   "cell_type": "markdown",
   "id": "impaired-spokesman",
   "metadata": {},
   "source": [
    "Prueba de hipótesis general, contrastes, es la prueba de significancia. Revisar si los coeficientes es 0 o no, para ver si al menos una esta influyendo. \n",
    "\n",
    "Hay tres contrastes, verosimilitud, Wald test y la prueba de puntajes . para ver si al menos una de las variables es importante, revisamos el p valor."
   ]
  },
  {
   "cell_type": "markdown",
   "id": "multiple-teach",
   "metadata": {},
   "source": [
    "Se rechaza H0, por lo que al menos una es significativa."
   ]
  },
  {
   "cell_type": "markdown",
   "id": "chronic-palmer",
   "metadata": {},
   "source": [
    "z Pr(>|z|), muestra la significancia de cada una de las categorías.\n",
    "exp(coef), en las categóricas muestra el riesgo que es mayor entre los grupos distintos de la categoría. Si es binaria, ver si son 0 y 1, o M y F, y el riesgo es comparable entre el numero de variables."
   ]
  },
  {
   "cell_type": "markdown",
   "id": "stupid-muslim",
   "metadata": {},
   "source": [
    "Las variables sexo y rx son significativas."
   ]
  },
  {
   "cell_type": "code",
   "execution_count": 37,
   "id": "muslim-schema",
   "metadata": {},
   "outputs": [
    {
     "data": {
      "text/plain": [
       "Call:\n",
       "coxph(formula = rp ~ rats$rx + rats$sex)\n",
       "\n",
       "  n= 300, number of events= 42 \n",
       "\n",
       "              coef exp(coef) se(coef)      z Pr(>|z|)    \n",
       "rats$rx    0.79100   2.20559  0.30936  2.557   0.0106 *  \n",
       "rats$sexm -3.06769   0.04653  0.72480 -4.232 2.31e-05 ***\n",
       "---\n",
       "Signif. codes:  0 '***' 0.001 '**' 0.01 '*' 0.05 '.' 0.1 ' ' 1\n",
       "\n",
       "          exp(coef) exp(-coef) lower .95 upper .95\n",
       "rats$rx     2.20559     0.4534   1.20281    4.0444\n",
       "rats$sexm   0.04653    21.4923   0.01124    0.1926\n",
       "\n",
       "Concordance= 0.764  (se = 0.031 )\n",
       "Likelihood ratio test= 50.04  on 2 df,   p=1e-11\n",
       "Wald test            = 24.08  on 2 df,   p=6e-06\n",
       "Score (logrank) test = 42.68  on 2 df,   p=5e-10\n"
      ]
     },
     "metadata": {},
     "output_type": "display_data"
    }
   ],
   "source": [
    "cox.rats2<-coxph(rp~rats$rx+rats$sex)\n",
    "summary(cox.rats2)\n",
    "#en rx no dice a que variable se refiere porque son 0 y 1"
   ]
  },
  {
   "cell_type": "markdown",
   "id": "diverse-concept",
   "metadata": {},
   "source": [
    "El tipo de sexo y tratamiento de la rata, afecta la supervivencia del animalito"
   ]
  },
  {
   "cell_type": "code",
   "execution_count": 38,
   "id": "incorporated-server",
   "metadata": {},
   "outputs": [
    {
     "data": {
      "text/plain": [
       "Call: survfit(formula = cox.rats2)\n",
       "\n",
       "      n  events  median 0.95LCL 0.95UCL \n",
       "    300      42      NA      NA      NA "
      ]
     },
     "metadata": {},
     "output_type": "display_data"
    }
   ],
   "source": [
    "sup<-survfit(cox.rats2)\n",
    "sup"
   ]
  },
  {
   "cell_type": "code",
   "execution_count": 39,
   "id": "suited-seattle",
   "metadata": {},
   "outputs": [
    {
     "data": {
      "image/png": "[encoded data removed]",
      "text/plain": [
       "plot without title"
      ]
     },
     "metadata": {},
     "output_type": "display_data"
    }
   ],
   "source": [
    "plot(sup)"
   ]
  },
  {
   "cell_type": "code",
   "execution_count": 40,
   "id": "brilliant-mountain",
   "metadata": {},
   "outputs": [
    {
     "data": {
      "text/plain": [
       "Call: survfit(formula = cox.rats2)\n",
       "\n",
       " time n.risk n.event survival std.err lower 95% CI upper 95% CI\n",
       "   34    298       1    0.995 0.00459        0.987        1.000\n",
       "   39    297       1    0.991 0.00657        0.978        1.000\n",
       "   40    295       1    0.986 0.00816        0.970        1.000\n",
       "   45    294       1    0.982 0.00952        0.963        1.000\n",
       "   49    292       1    0.977 0.01078        0.956        0.998\n",
       "   50    290       1    0.972 0.01196        0.949        0.996\n",
       "   54    285       1    0.968 0.01307        0.942        0.994\n",
       "   55    282       1    0.963 0.01412        0.936        0.991\n",
       "   64    274       1    0.958 0.01516        0.929        0.988\n",
       "   66    271       1    0.953 0.01616        0.922        0.986\n",
       "   67    270       1    0.949 0.01713        0.916        0.983\n",
       "   68    267       1    0.944 0.01808        0.909        0.980\n",
       "   70    263       1    0.939 0.01902        0.902        0.977\n",
       "   71    261       1    0.934 0.01995        0.896        0.974\n",
       "   72    259       1    0.929 0.02085        0.889        0.971\n",
       "   73    257       2    0.919 0.02264        0.876        0.965\n",
       "   75    251       1    0.914 0.02355        0.869        0.961\n",
       "   77    245       1    0.909 0.02447        0.862        0.958\n",
       "   78    238       1    0.904 0.02543        0.855        0.955\n",
       "   79    235       1    0.898 0.02638        0.848        0.951\n",
       "   80    230       2    0.887 0.02832        0.833        0.944\n",
       "   81    225       2    0.875 0.03024        0.818        0.937\n",
       "   84    215       2    0.864 0.03221        0.803        0.929\n",
       "   86    209       1    0.857 0.03320        0.795        0.925\n",
       "   88    202       1    0.851 0.03420        0.787        0.921\n",
       "   89    198       2    0.838 0.03619        0.770        0.912\n",
       "   92    176       1    0.831 0.03730        0.761        0.908\n",
       "   94    169       1    0.824 0.03842        0.752        0.902\n",
       "   96    158       2    0.808 0.04079        0.732        0.892\n",
       "  101    142       1    0.799 0.04202        0.721        0.886\n",
       "  102    139       2    0.782 0.04444        0.700        0.874\n",
       "  103    113       3    0.755 0.04798        0.667        0.856\n",
       "  104    108       1    0.746 0.04912        0.656        0.849"
      ]
     },
     "metadata": {},
     "output_type": "display_data"
    }
   ],
   "source": [
    "summary(sup)"
   ]
  },
  {
   "cell_type": "markdown",
   "id": "artificial-islam",
   "metadata": {},
   "source": [
    "**Revisando funciones de sup mediante KM**"
   ]
  },
  {
   "cell_type": "markdown",
   "id": "regular-latin",
   "metadata": {},
   "source": [
    "**SEX**"
   ]
  },
  {
   "cell_type": "code",
   "execution_count": 41,
   "id": "historical-walnut",
   "metadata": {},
   "outputs": [
    {
     "data": {
      "text/plain": [
       "Call: survfit(formula = rp ~ rats$sex)\n",
       "\n",
       "             n events median 0.95LCL 0.95UCL\n",
       "rats$sex=f 150     40     NA      NA      NA\n",
       "rats$sex=m 150      2     NA      NA      NA"
      ]
     },
     "metadata": {},
     "output_type": "display_data"
    }
   ],
   "source": [
    "km.sex<-survfit(rp~rats$sex)\n",
    "km.sex"
   ]
  },
  {
   "cell_type": "code",
   "execution_count": 42,
   "id": "descending-arnold",
   "metadata": {},
   "outputs": [
    {
     "data": {
      "text/plain": [
       "Call: survfit(formula = rp ~ rats$sex)\n",
       "\n",
       "                rats$sex=f \n",
       " time n.risk n.event survival std.err lower 95% CI upper 95% CI\n",
       "   34    150       1    0.993 0.00664        0.980        1.000\n",
       "   39    149       1    0.987 0.00937        0.968        1.000\n",
       "   40    148       1    0.980 0.01143        0.958        1.000\n",
       "   45    147       1    0.973 0.01315        0.948        0.999\n",
       "   49    145       1    0.967 0.01468        0.938        0.996\n",
       "   50    143       1    0.960 0.01606        0.929        0.992\n",
       "   54    142       1    0.953 0.01731        0.920        0.988\n",
       "   55    141       1    0.946 0.01846        0.911        0.983\n",
       "   64    138       1    0.939 0.01956        0.902        0.979\n",
       "   66    137       1    0.933 0.02058        0.893        0.974\n",
       "   67    136       1    0.926 0.02154        0.884        0.969\n",
       "   68    135       1    0.919 0.02245        0.876        0.964\n",
       "   70    132       1    0.912 0.02333        0.867        0.959\n",
       "   72    130       1    0.905 0.02418        0.859        0.954\n",
       "   73    128       2    0.891 0.02579        0.842        0.943\n",
       "   77    119       1    0.883 0.02664        0.833        0.937\n",
       "   78    114       1    0.876 0.02751        0.823        0.931\n",
       "   79    112       1    0.868 0.02835        0.814        0.925\n",
       "   80    108       2    0.852 0.03002        0.795        0.913\n",
       "   81    105       2    0.835 0.03156        0.776        0.900\n",
       "   84     99       2    0.819 0.03310        0.756        0.886\n",
       "   86     96       1    0.810 0.03384        0.746        0.879\n",
       "   88     93       1    0.801 0.03458        0.736        0.872\n",
       "   89     91       2    0.784 0.03599        0.716        0.858\n",
       "   92     82       1    0.774 0.03680        0.705        0.850\n",
       "   94     79       1    0.764 0.03761        0.694        0.842\n",
       "   96     74       2    0.744 0.03933        0.670        0.825\n",
       "  101     69       1    0.733 0.04021        0.658        0.816\n",
       "  102     67       2    0.711 0.04188        0.634        0.798\n",
       "  103     64       3    0.678 0.04412        0.597        0.770\n",
       "  104     60       1    0.666 0.04481        0.584        0.760\n",
       "\n",
       "                rats$sex=m \n",
       " time n.risk n.event survival std.err lower 95% CI upper 95% CI\n",
       "   71    131       1    0.992  0.0076        0.978            1\n",
       "   75    129       1    0.985  0.0108        0.964            1\n"
      ]
     },
     "metadata": {},
     "output_type": "display_data"
    }
   ],
   "source": [
    "summary(km.sex)"
   ]
  },
  {
   "cell_type": "code",
   "execution_count": 43,
   "id": "realistic-management",
   "metadata": {},
   "outputs": [
    {
     "data": {
      "image/png": "[encoded data removed]",
      "text/plain": [
       "Plot with title \"comparación por sex\""
      ]
     },
     "metadata": {},
     "output_type": "display_data"
    }
   ],
   "source": [
    "plot(km.sex, col=c(\"magenta\", \"green\"), main=\"comparación por sex\", ylim=c(0.6, 1.1))"
   ]
  },
  {
   "cell_type": "code",
   "execution_count": 44,
   "id": "wired-baptist",
   "metadata": {},
   "outputs": [
    {
     "data": {
      "text/plain": [
       "Call:\n",
       "survdiff(formula = rp ~ rats$sex, rho = 0)\n",
       "\n",
       "             N Observed Expected (O-E)^2/E (O-E)^2/V\n",
       "rats$sex=f 150       40     20.6      18.1      35.9\n",
       "rats$sex=m 150        2     21.4      17.5      35.9\n",
       "\n",
       " Chisq= 35.9  on 1 degrees of freedom, p= 2e-09 "
      ]
     },
     "metadata": {},
     "output_type": "display_data"
    }
   ],
   "source": [
    "survdiff(rp~rats$sex, rho=0)"
   ]
  },
  {
   "cell_type": "markdown",
   "id": "nuclear-staff",
   "metadata": {},
   "source": [
    "Dado que el p-valor es menor, por lo que las funciones difieren.\n",
    "Apoyados del gráfico, las hembras son las que tienen menor supervivencia."
   ]
  },
  {
   "cell_type": "code",
   "execution_count": 45,
   "id": "fluid-supply",
   "metadata": {},
   "outputs": [],
   "source": [
    "data(cancer)\n",
    "#como contar los NA por columna\n",
    "#como quitar los renglones, si tienen muchos NA\n",
    "# que porcentajes de NA para decir quitar la columna\n",
    "#rellenar los datos NA."
   ]
  },
  {
   "cell_type": "code",
   "execution_count": 46,
   "id": "extreme-conditions",
   "metadata": {},
   "outputs": [
    {
     "data": {
      "text/html": [
       "<table>\n",
       "<thead><tr><th scope=col>inst</th><th scope=col>time</th><th scope=col>status</th><th scope=col>age</th><th scope=col>sex</th><th scope=col>ph.ecog</th><th scope=col>ph.karno</th><th scope=col>pat.karno</th><th scope=col>meal.cal</th><th scope=col>wt.loss</th></tr></thead>\n",
       "<tbody>\n",
       "\t<tr><td>FALSE</td><td>FALSE</td><td>FALSE</td><td>FALSE</td><td>FALSE</td><td>FALSE</td><td>FALSE</td><td>FALSE</td><td>FALSE</td><td> TRUE</td></tr>\n",
       "\t<tr><td>FALSE</td><td>FALSE</td><td>FALSE</td><td>FALSE</td><td>FALSE</td><td>FALSE</td><td>FALSE</td><td>FALSE</td><td>FALSE</td><td>FALSE</td></tr>\n",
       "\t<tr><td>FALSE</td><td>FALSE</td><td>FALSE</td><td>FALSE</td><td>FALSE</td><td>FALSE</td><td>FALSE</td><td>FALSE</td><td> TRUE</td><td>FALSE</td></tr>\n",
       "\t<tr><td>FALSE</td><td>FALSE</td><td>FALSE</td><td>FALSE</td><td>FALSE</td><td>FALSE</td><td>FALSE</td><td>FALSE</td><td>FALSE</td><td>FALSE</td></tr>\n",
       "\t<tr><td>FALSE</td><td>FALSE</td><td>FALSE</td><td>FALSE</td><td>FALSE</td><td>FALSE</td><td>FALSE</td><td>FALSE</td><td> TRUE</td><td>FALSE</td></tr>\n",
       "\t<tr><td>FALSE</td><td>FALSE</td><td>FALSE</td><td>FALSE</td><td>FALSE</td><td>FALSE</td><td>FALSE</td><td>FALSE</td><td>FALSE</td><td>FALSE</td></tr>\n",
       "\t<tr><td>FALSE</td><td>FALSE</td><td>FALSE</td><td>FALSE</td><td>FALSE</td><td>FALSE</td><td>FALSE</td><td>FALSE</td><td>FALSE</td><td>FALSE</td></tr>\n",
       "\t<tr><td>FALSE</td><td>FALSE</td><td>FALSE</td><td>FALSE</td><td>FALSE</td><td>FALSE</td><td>FALSE</td><td>FALSE</td><td>FALSE</td><td>FALSE</td></tr>\n",
       "\t<tr><td>FALSE</td><td>FALSE</td><td>FALSE</td><td>FALSE</td><td>FALSE</td><td>FALSE</td><td>FALSE</td><td>FALSE</td><td>FALSE</td><td>FALSE</td></tr>\n",
       "\t<tr><td>FALSE</td><td>FALSE</td><td>FALSE</td><td>FALSE</td><td>FALSE</td><td>FALSE</td><td>FALSE</td><td>FALSE</td><td>FALSE</td><td>FALSE</td></tr>\n",
       "\t<tr><td>FALSE</td><td>FALSE</td><td>FALSE</td><td>FALSE</td><td>FALSE</td><td>FALSE</td><td>FALSE</td><td>FALSE</td><td>FALSE</td><td>FALSE</td></tr>\n",
       "\t<tr><td>FALSE</td><td>FALSE</td><td>FALSE</td><td>FALSE</td><td>FALSE</td><td>FALSE</td><td>FALSE</td><td>FALSE</td><td> TRUE</td><td>FALSE</td></tr>\n",
       "\t<tr><td>FALSE</td><td>FALSE</td><td>FALSE</td><td>FALSE</td><td>FALSE</td><td>FALSE</td><td>FALSE</td><td>FALSE</td><td> TRUE</td><td>FALSE</td></tr>\n",
       "\t<tr><td>FALSE</td><td>FALSE</td><td>FALSE</td><td>FALSE</td><td>FALSE</td><td> TRUE</td><td>FALSE</td><td>FALSE</td><td>FALSE</td><td>FALSE</td></tr>\n",
       "\t<tr><td>FALSE</td><td>FALSE</td><td>FALSE</td><td>FALSE</td><td>FALSE</td><td>FALSE</td><td>FALSE</td><td>FALSE</td><td>FALSE</td><td>FALSE</td></tr>\n",
       "\t<tr><td>FALSE</td><td>FALSE</td><td>FALSE</td><td>FALSE</td><td>FALSE</td><td>FALSE</td><td>FALSE</td><td>FALSE</td><td> TRUE</td><td>FALSE</td></tr>\n",
       "\t<tr><td>FALSE</td><td>FALSE</td><td>FALSE</td><td>FALSE</td><td>FALSE</td><td>FALSE</td><td>FALSE</td><td>FALSE</td><td>FALSE</td><td>FALSE</td></tr>\n",
       "\t<tr><td>FALSE</td><td>FALSE</td><td>FALSE</td><td>FALSE</td><td>FALSE</td><td>FALSE</td><td>FALSE</td><td>FALSE</td><td>FALSE</td><td>FALSE</td></tr>\n",
       "\t<tr><td>FALSE</td><td>FALSE</td><td>FALSE</td><td>FALSE</td><td>FALSE</td><td>FALSE</td><td>FALSE</td><td>FALSE</td><td>FALSE</td><td>FALSE</td></tr>\n",
       "\t<tr><td>FALSE</td><td>FALSE</td><td>FALSE</td><td>FALSE</td><td>FALSE</td><td>FALSE</td><td>FALSE</td><td>FALSE</td><td>FALSE</td><td> TRUE</td></tr>\n",
       "\t<tr><td>FALSE</td><td>FALSE</td><td>FALSE</td><td>FALSE</td><td>FALSE</td><td>FALSE</td><td>FALSE</td><td>FALSE</td><td>FALSE</td><td>FALSE</td></tr>\n",
       "\t<tr><td>FALSE</td><td>FALSE</td><td>FALSE</td><td>FALSE</td><td>FALSE</td><td>FALSE</td><td>FALSE</td><td>FALSE</td><td>FALSE</td><td>FALSE</td></tr>\n",
       "\t<tr><td>FALSE</td><td>FALSE</td><td>FALSE</td><td>FALSE</td><td>FALSE</td><td>FALSE</td><td>FALSE</td><td>FALSE</td><td> TRUE</td><td>FALSE</td></tr>\n",
       "\t<tr><td>FALSE</td><td>FALSE</td><td>FALSE</td><td>FALSE</td><td>FALSE</td><td>FALSE</td><td>FALSE</td><td>FALSE</td><td>FALSE</td><td>FALSE</td></tr>\n",
       "\t<tr><td>FALSE</td><td>FALSE</td><td>FALSE</td><td>FALSE</td><td>FALSE</td><td>FALSE</td><td>FALSE</td><td>FALSE</td><td> TRUE</td><td>FALSE</td></tr>\n",
       "\t<tr><td>FALSE</td><td>FALSE</td><td>FALSE</td><td>FALSE</td><td>FALSE</td><td>FALSE</td><td>FALSE</td><td>FALSE</td><td>FALSE</td><td>FALSE</td></tr>\n",
       "\t<tr><td>FALSE</td><td>FALSE</td><td>FALSE</td><td>FALSE</td><td>FALSE</td><td>FALSE</td><td>FALSE</td><td>FALSE</td><td>FALSE</td><td>FALSE</td></tr>\n",
       "\t<tr><td>FALSE</td><td>FALSE</td><td>FALSE</td><td>FALSE</td><td>FALSE</td><td>FALSE</td><td>FALSE</td><td>FALSE</td><td>FALSE</td><td>FALSE</td></tr>\n",
       "\t<tr><td>FALSE</td><td>FALSE</td><td>FALSE</td><td>FALSE</td><td>FALSE</td><td>FALSE</td><td>FALSE</td><td>FALSE</td><td>FALSE</td><td>FALSE</td></tr>\n",
       "\t<tr><td>FALSE</td><td>FALSE</td><td>FALSE</td><td>FALSE</td><td>FALSE</td><td>FALSE</td><td>FALSE</td><td>FALSE</td><td>FALSE</td><td>FALSE</td></tr>\n",
       "\t<tr><td>...</td><td>...</td><td>...</td><td>...</td><td>...</td><td>...</td><td>...</td><td>...</td><td>...</td><td>...</td></tr>\n",
       "\t<tr><td>FALSE</td><td>FALSE</td><td>FALSE</td><td>FALSE</td><td>FALSE</td><td>FALSE</td><td>FALSE</td><td>FALSE</td><td>FALSE</td><td>FALSE</td></tr>\n",
       "\t<tr><td>FALSE</td><td>FALSE</td><td>FALSE</td><td>FALSE</td><td>FALSE</td><td>FALSE</td><td>FALSE</td><td>FALSE</td><td>FALSE</td><td>FALSE</td></tr>\n",
       "\t<tr><td>FALSE</td><td>FALSE</td><td>FALSE</td><td>FALSE</td><td>FALSE</td><td>FALSE</td><td>FALSE</td><td>FALSE</td><td>FALSE</td><td>FALSE</td></tr>\n",
       "\t<tr><td>FALSE</td><td>FALSE</td><td>FALSE</td><td>FALSE</td><td>FALSE</td><td>FALSE</td><td>FALSE</td><td>FALSE</td><td>FALSE</td><td>FALSE</td></tr>\n",
       "\t<tr><td>FALSE</td><td>FALSE</td><td>FALSE</td><td>FALSE</td><td>FALSE</td><td>FALSE</td><td>FALSE</td><td>FALSE</td><td>FALSE</td><td>FALSE</td></tr>\n",
       "\t<tr><td>FALSE</td><td>FALSE</td><td>FALSE</td><td>FALSE</td><td>FALSE</td><td>FALSE</td><td>FALSE</td><td>FALSE</td><td>FALSE</td><td>FALSE</td></tr>\n",
       "\t<tr><td>FALSE</td><td>FALSE</td><td>FALSE</td><td>FALSE</td><td>FALSE</td><td>FALSE</td><td>FALSE</td><td>FALSE</td><td>FALSE</td><td>FALSE</td></tr>\n",
       "\t<tr><td>FALSE</td><td>FALSE</td><td>FALSE</td><td>FALSE</td><td>FALSE</td><td>FALSE</td><td> TRUE</td><td>FALSE</td><td> TRUE</td><td> TRUE</td></tr>\n",
       "\t<tr><td>FALSE</td><td>FALSE</td><td>FALSE</td><td>FALSE</td><td>FALSE</td><td>FALSE</td><td>FALSE</td><td>FALSE</td><td> TRUE</td><td>FALSE</td></tr>\n",
       "\t<tr><td>FALSE</td><td>FALSE</td><td>FALSE</td><td>FALSE</td><td>FALSE</td><td>FALSE</td><td>FALSE</td><td>FALSE</td><td>FALSE</td><td>FALSE</td></tr>\n",
       "\t<tr><td>FALSE</td><td>FALSE</td><td>FALSE</td><td>FALSE</td><td>FALSE</td><td>FALSE</td><td>FALSE</td><td>FALSE</td><td> TRUE</td><td> TRUE</td></tr>\n",
       "\t<tr><td>FALSE</td><td>FALSE</td><td>FALSE</td><td>FALSE</td><td>FALSE</td><td>FALSE</td><td>FALSE</td><td>FALSE</td><td> TRUE</td><td>FALSE</td></tr>\n",
       "\t<tr><td>FALSE</td><td>FALSE</td><td>FALSE</td><td>FALSE</td><td>FALSE</td><td>FALSE</td><td>FALSE</td><td>FALSE</td><td>FALSE</td><td>FALSE</td></tr>\n",
       "\t<tr><td>FALSE</td><td>FALSE</td><td>FALSE</td><td>FALSE</td><td>FALSE</td><td>FALSE</td><td>FALSE</td><td>FALSE</td><td>FALSE</td><td>FALSE</td></tr>\n",
       "\t<tr><td>FALSE</td><td>FALSE</td><td>FALSE</td><td>FALSE</td><td>FALSE</td><td>FALSE</td><td>FALSE</td><td>FALSE</td><td>FALSE</td><td>FALSE</td></tr>\n",
       "\t<tr><td>FALSE</td><td>FALSE</td><td>FALSE</td><td>FALSE</td><td>FALSE</td><td>FALSE</td><td>FALSE</td><td>FALSE</td><td> TRUE</td><td>FALSE</td></tr>\n",
       "\t<tr><td>FALSE</td><td>FALSE</td><td>FALSE</td><td>FALSE</td><td>FALSE</td><td>FALSE</td><td>FALSE</td><td>FALSE</td><td> TRUE</td><td>FALSE</td></tr>\n",
       "\t<tr><td>FALSE</td><td>FALSE</td><td>FALSE</td><td>FALSE</td><td>FALSE</td><td>FALSE</td><td>FALSE</td><td>FALSE</td><td>FALSE</td><td>FALSE</td></tr>\n",
       "\t<tr><td>FALSE</td><td>FALSE</td><td>FALSE</td><td>FALSE</td><td>FALSE</td><td>FALSE</td><td>FALSE</td><td>FALSE</td><td> TRUE</td><td>FALSE</td></tr>\n",
       "\t<tr><td>FALSE</td><td>FALSE</td><td>FALSE</td><td>FALSE</td><td>FALSE</td><td>FALSE</td><td>FALSE</td><td>FALSE</td><td>FALSE</td><td>FALSE</td></tr>\n",
       "\t<tr><td>FALSE</td><td>FALSE</td><td>FALSE</td><td>FALSE</td><td>FALSE</td><td>FALSE</td><td>FALSE</td><td>FALSE</td><td>FALSE</td><td>FALSE</td></tr>\n",
       "\t<tr><td>FALSE</td><td>FALSE</td><td>FALSE</td><td>FALSE</td><td>FALSE</td><td>FALSE</td><td>FALSE</td><td>FALSE</td><td>FALSE</td><td>FALSE</td></tr>\n",
       "\t<tr><td>FALSE</td><td>FALSE</td><td>FALSE</td><td>FALSE</td><td>FALSE</td><td>FALSE</td><td>FALSE</td><td>FALSE</td><td>FALSE</td><td>FALSE</td></tr>\n",
       "\t<tr><td>FALSE</td><td>FALSE</td><td>FALSE</td><td>FALSE</td><td>FALSE</td><td>FALSE</td><td>FALSE</td><td>FALSE</td><td>FALSE</td><td>FALSE</td></tr>\n",
       "\t<tr><td>FALSE</td><td>FALSE</td><td>FALSE</td><td>FALSE</td><td>FALSE</td><td>FALSE</td><td>FALSE</td><td>FALSE</td><td> TRUE</td><td>FALSE</td></tr>\n",
       "\t<tr><td>FALSE</td><td>FALSE</td><td>FALSE</td><td>FALSE</td><td>FALSE</td><td>FALSE</td><td>FALSE</td><td>FALSE</td><td> TRUE</td><td>FALSE</td></tr>\n",
       "\t<tr><td>FALSE</td><td>FALSE</td><td>FALSE</td><td>FALSE</td><td>FALSE</td><td>FALSE</td><td>FALSE</td><td>FALSE</td><td>FALSE</td><td>FALSE</td></tr>\n",
       "\t<tr><td>FALSE</td><td>FALSE</td><td>FALSE</td><td>FALSE</td><td>FALSE</td><td>FALSE</td><td>FALSE</td><td>FALSE</td><td>FALSE</td><td>FALSE</td></tr>\n",
       "\t<tr><td>FALSE</td><td>FALSE</td><td>FALSE</td><td>FALSE</td><td>FALSE</td><td>FALSE</td><td>FALSE</td><td>FALSE</td><td>FALSE</td><td>FALSE</td></tr>\n",
       "\t<tr><td>FALSE</td><td>FALSE</td><td>FALSE</td><td>FALSE</td><td>FALSE</td><td>FALSE</td><td>FALSE</td><td>FALSE</td><td>FALSE</td><td>FALSE</td></tr>\n",
       "</tbody>\n",
       "</table>\n"
      ],
      "text/latex": [
       "\\begin{tabular}{r|llllllllll}\n",
       " inst & time & status & age & sex & ph.ecog & ph.karno & pat.karno & meal.cal & wt.loss\\\\\n",
       "\\hline\n",
       "\t FALSE & FALSE & FALSE & FALSE & FALSE & FALSE & FALSE & FALSE & FALSE &  TRUE\\\\\n",
       "\t FALSE & FALSE & FALSE & FALSE & FALSE & FALSE & FALSE & FALSE & FALSE & FALSE\\\\\n",
       "\t FALSE & FALSE & FALSE & FALSE & FALSE & FALSE & FALSE & FALSE &  TRUE & FALSE\\\\\n",
       "\t FALSE & FALSE & FALSE & FALSE & FALSE & FALSE & FALSE & FALSE & FALSE & FALSE\\\\\n",
       "\t FALSE & FALSE & FALSE & FALSE & FALSE & FALSE & FALSE & FALSE &  TRUE & FALSE\\\\\n",
       "\t FALSE & FALSE & FALSE & FALSE & FALSE & FALSE & FALSE & FALSE & FALSE & FALSE\\\\\n",
       "\t FALSE & FALSE & FALSE & FALSE & FALSE & FALSE & FALSE & FALSE & FALSE & FALSE\\\\\n",
       "\t FALSE & FALSE & FALSE & FALSE & FALSE & FALSE & FALSE & FALSE & FALSE & FALSE\\\\\n",
       "\t FALSE & FALSE & FALSE & FALSE & FALSE & FALSE & FALSE & FALSE & FALSE & FALSE\\\\\n",
       "\t FALSE & FALSE & FALSE & FALSE & FALSE & FALSE & FALSE & FALSE & FALSE & FALSE\\\\\n",
       "\t FALSE & FALSE & FALSE & FALSE & FALSE & FALSE & FALSE & FALSE & FALSE & FALSE\\\\\n",
       "\t FALSE & FALSE & FALSE & FALSE & FALSE & FALSE & FALSE & FALSE &  TRUE & FALSE\\\\\n",
       "\t FALSE & FALSE & FALSE & FALSE & FALSE & FALSE & FALSE & FALSE &  TRUE & FALSE\\\\\n",
       "\t FALSE & FALSE & FALSE & FALSE & FALSE &  TRUE & FALSE & FALSE & FALSE & FALSE\\\\\n",
       "\t FALSE & FALSE & FALSE & FALSE & FALSE & FALSE & FALSE & FALSE & FALSE & FALSE\\\\\n",
       "\t FALSE & FALSE & FALSE & FALSE & FALSE & FALSE & FALSE & FALSE &  TRUE & FALSE\\\\\n",
       "\t FALSE & FALSE & FALSE & FALSE & FALSE & FALSE & FALSE & FALSE & FALSE & FALSE\\\\\n",
       "\t FALSE & FALSE & FALSE & FALSE & FALSE & FALSE & FALSE & FALSE & FALSE & FALSE\\\\\n",
       "\t FALSE & FALSE & FALSE & FALSE & FALSE & FALSE & FALSE & FALSE & FALSE & FALSE\\\\\n",
       "\t FALSE & FALSE & FALSE & FALSE & FALSE & FALSE & FALSE & FALSE & FALSE &  TRUE\\\\\n",
       "\t FALSE & FALSE & FALSE & FALSE & FALSE & FALSE & FALSE & FALSE & FALSE & FALSE\\\\\n",
       "\t FALSE & FALSE & FALSE & FALSE & FALSE & FALSE & FALSE & FALSE & FALSE & FALSE\\\\\n",
       "\t FALSE & FALSE & FALSE & FALSE & FALSE & FALSE & FALSE & FALSE &  TRUE & FALSE\\\\\n",
       "\t FALSE & FALSE & FALSE & FALSE & FALSE & FALSE & FALSE & FALSE & FALSE & FALSE\\\\\n",
       "\t FALSE & FALSE & FALSE & FALSE & FALSE & FALSE & FALSE & FALSE &  TRUE & FALSE\\\\\n",
       "\t FALSE & FALSE & FALSE & FALSE & FALSE & FALSE & FALSE & FALSE & FALSE & FALSE\\\\\n",
       "\t FALSE & FALSE & FALSE & FALSE & FALSE & FALSE & FALSE & FALSE & FALSE & FALSE\\\\\n",
       "\t FALSE & FALSE & FALSE & FALSE & FALSE & FALSE & FALSE & FALSE & FALSE & FALSE\\\\\n",
       "\t FALSE & FALSE & FALSE & FALSE & FALSE & FALSE & FALSE & FALSE & FALSE & FALSE\\\\\n",
       "\t FALSE & FALSE & FALSE & FALSE & FALSE & FALSE & FALSE & FALSE & FALSE & FALSE\\\\\n",
       "\t ... & ... & ... & ... & ... & ... & ... & ... & ... & ...\\\\\n",
       "\t FALSE & FALSE & FALSE & FALSE & FALSE & FALSE & FALSE & FALSE & FALSE & FALSE\\\\\n",
       "\t FALSE & FALSE & FALSE & FALSE & FALSE & FALSE & FALSE & FALSE & FALSE & FALSE\\\\\n",
       "\t FALSE & FALSE & FALSE & FALSE & FALSE & FALSE & FALSE & FALSE & FALSE & FALSE\\\\\n",
       "\t FALSE & FALSE & FALSE & FALSE & FALSE & FALSE & FALSE & FALSE & FALSE & FALSE\\\\\n",
       "\t FALSE & FALSE & FALSE & FALSE & FALSE & FALSE & FALSE & FALSE & FALSE & FALSE\\\\\n",
       "\t FALSE & FALSE & FALSE & FALSE & FALSE & FALSE & FALSE & FALSE & FALSE & FALSE\\\\\n",
       "\t FALSE & FALSE & FALSE & FALSE & FALSE & FALSE & FALSE & FALSE & FALSE & FALSE\\\\\n",
       "\t FALSE & FALSE & FALSE & FALSE & FALSE & FALSE &  TRUE & FALSE &  TRUE &  TRUE\\\\\n",
       "\t FALSE & FALSE & FALSE & FALSE & FALSE & FALSE & FALSE & FALSE &  TRUE & FALSE\\\\\n",
       "\t FALSE & FALSE & FALSE & FALSE & FALSE & FALSE & FALSE & FALSE & FALSE & FALSE\\\\\n",
       "\t FALSE & FALSE & FALSE & FALSE & FALSE & FALSE & FALSE & FALSE &  TRUE &  TRUE\\\\\n",
       "\t FALSE & FALSE & FALSE & FALSE & FALSE & FALSE & FALSE & FALSE &  TRUE & FALSE\\\\\n",
       "\t FALSE & FALSE & FALSE & FALSE & FALSE & FALSE & FALSE & FALSE & FALSE & FALSE\\\\\n",
       "\t FALSE & FALSE & FALSE & FALSE & FALSE & FALSE & FALSE & FALSE & FALSE & FALSE\\\\\n",
       "\t FALSE & FALSE & FALSE & FALSE & FALSE & FALSE & FALSE & FALSE & FALSE & FALSE\\\\\n",
       "\t FALSE & FALSE & FALSE & FALSE & FALSE & FALSE & FALSE & FALSE &  TRUE & FALSE\\\\\n",
       "\t FALSE & FALSE & FALSE & FALSE & FALSE & FALSE & FALSE & FALSE &  TRUE & FALSE\\\\\n",
       "\t FALSE & FALSE & FALSE & FALSE & FALSE & FALSE & FALSE & FALSE & FALSE & FALSE\\\\\n",
       "\t FALSE & FALSE & FALSE & FALSE & FALSE & FALSE & FALSE & FALSE &  TRUE & FALSE\\\\\n",
       "\t FALSE & FALSE & FALSE & FALSE & FALSE & FALSE & FALSE & FALSE & FALSE & FALSE\\\\\n",
       "\t FALSE & FALSE & FALSE & FALSE & FALSE & FALSE & FALSE & FALSE & FALSE & FALSE\\\\\n",
       "\t FALSE & FALSE & FALSE & FALSE & FALSE & FALSE & FALSE & FALSE & FALSE & FALSE\\\\\n",
       "\t FALSE & FALSE & FALSE & FALSE & FALSE & FALSE & FALSE & FALSE & FALSE & FALSE\\\\\n",
       "\t FALSE & FALSE & FALSE & FALSE & FALSE & FALSE & FALSE & FALSE & FALSE & FALSE\\\\\n",
       "\t FALSE & FALSE & FALSE & FALSE & FALSE & FALSE & FALSE & FALSE &  TRUE & FALSE\\\\\n",
       "\t FALSE & FALSE & FALSE & FALSE & FALSE & FALSE & FALSE & FALSE &  TRUE & FALSE\\\\\n",
       "\t FALSE & FALSE & FALSE & FALSE & FALSE & FALSE & FALSE & FALSE & FALSE & FALSE\\\\\n",
       "\t FALSE & FALSE & FALSE & FALSE & FALSE & FALSE & FALSE & FALSE & FALSE & FALSE\\\\\n",
       "\t FALSE & FALSE & FALSE & FALSE & FALSE & FALSE & FALSE & FALSE & FALSE & FALSE\\\\\n",
       "\t FALSE & FALSE & FALSE & FALSE & FALSE & FALSE & FALSE & FALSE & FALSE & FALSE\\\\\n",
       "\\end{tabular}\n"
      ],
      "text/markdown": [
       "\n",
       "| inst | time | status | age | sex | ph.ecog | ph.karno | pat.karno | meal.cal | wt.loss |\n",
       "|---|---|---|---|---|---|---|---|---|---|\n",
       "| FALSE | FALSE | FALSE | FALSE | FALSE | FALSE | FALSE | FALSE | FALSE |  TRUE |\n",
       "| FALSE | FALSE | FALSE | FALSE | FALSE | FALSE | FALSE | FALSE | FALSE | FALSE |\n",
       "| FALSE | FALSE | FALSE | FALSE | FALSE | FALSE | FALSE | FALSE |  TRUE | FALSE |\n",
       "| FALSE | FALSE | FALSE | FALSE | FALSE | FALSE | FALSE | FALSE | FALSE | FALSE |\n",
       "| FALSE | FALSE | FALSE | FALSE | FALSE | FALSE | FALSE | FALSE |  TRUE | FALSE |\n",
       "| FALSE | FALSE | FALSE | FALSE | FALSE | FALSE | FALSE | FALSE | FALSE | FALSE |\n",
       "| FALSE | FALSE | FALSE | FALSE | FALSE | FALSE | FALSE | FALSE | FALSE | FALSE |\n",
       "| FALSE | FALSE | FALSE | FALSE | FALSE | FALSE | FALSE | FALSE | FALSE | FALSE |\n",
       "| FALSE | FALSE | FALSE | FALSE | FALSE | FALSE | FALSE | FALSE | FALSE | FALSE |\n",
       "| FALSE | FALSE | FALSE | FALSE | FALSE | FALSE | FALSE | FALSE | FALSE | FALSE |\n",
       "| FALSE | FALSE | FALSE | FALSE | FALSE | FALSE | FALSE | FALSE | FALSE | FALSE |\n",
       "| FALSE | FALSE | FALSE | FALSE | FALSE | FALSE | FALSE | FALSE |  TRUE | FALSE |\n",
       "| FALSE | FALSE | FALSE | FALSE | FALSE | FALSE | FALSE | FALSE |  TRUE | FALSE |\n",
       "| FALSE | FALSE | FALSE | FALSE | FALSE |  TRUE | FALSE | FALSE | FALSE | FALSE |\n",
       "| FALSE | FALSE | FALSE | FALSE | FALSE | FALSE | FALSE | FALSE | FALSE | FALSE |\n",
       "| FALSE | FALSE | FALSE | FALSE | FALSE | FALSE | FALSE | FALSE |  TRUE | FALSE |\n",
       "| FALSE | FALSE | FALSE | FALSE | FALSE | FALSE | FALSE | FALSE | FALSE | FALSE |\n",
       "| FALSE | FALSE | FALSE | FALSE | FALSE | FALSE | FALSE | FALSE | FALSE | FALSE |\n",
       "| FALSE | FALSE | FALSE | FALSE | FALSE | FALSE | FALSE | FALSE | FALSE | FALSE |\n",
       "| FALSE | FALSE | FALSE | FALSE | FALSE | FALSE | FALSE | FALSE | FALSE |  TRUE |\n",
       "| FALSE | FALSE | FALSE | FALSE | FALSE | FALSE | FALSE | FALSE | FALSE | FALSE |\n",
       "| FALSE | FALSE | FALSE | FALSE | FALSE | FALSE | FALSE | FALSE | FALSE | FALSE |\n",
       "| FALSE | FALSE | FALSE | FALSE | FALSE | FALSE | FALSE | FALSE |  TRUE | FALSE |\n",
       "| FALSE | FALSE | FALSE | FALSE | FALSE | FALSE | FALSE | FALSE | FALSE | FALSE |\n",
       "| FALSE | FALSE | FALSE | FALSE | FALSE | FALSE | FALSE | FALSE |  TRUE | FALSE |\n",
       "| FALSE | FALSE | FALSE | FALSE | FALSE | FALSE | FALSE | FALSE | FALSE | FALSE |\n",
       "| FALSE | FALSE | FALSE | FALSE | FALSE | FALSE | FALSE | FALSE | FALSE | FALSE |\n",
       "| FALSE | FALSE | FALSE | FALSE | FALSE | FALSE | FALSE | FALSE | FALSE | FALSE |\n",
       "| FALSE | FALSE | FALSE | FALSE | FALSE | FALSE | FALSE | FALSE | FALSE | FALSE |\n",
       "| FALSE | FALSE | FALSE | FALSE | FALSE | FALSE | FALSE | FALSE | FALSE | FALSE |\n",
       "| ... | ... | ... | ... | ... | ... | ... | ... | ... | ... |\n",
       "| FALSE | FALSE | FALSE | FALSE | FALSE | FALSE | FALSE | FALSE | FALSE | FALSE |\n",
       "| FALSE | FALSE | FALSE | FALSE | FALSE | FALSE | FALSE | FALSE | FALSE | FALSE |\n",
       "| FALSE | FALSE | FALSE | FALSE | FALSE | FALSE | FALSE | FALSE | FALSE | FALSE |\n",
       "| FALSE | FALSE | FALSE | FALSE | FALSE | FALSE | FALSE | FALSE | FALSE | FALSE |\n",
       "| FALSE | FALSE | FALSE | FALSE | FALSE | FALSE | FALSE | FALSE | FALSE | FALSE |\n",
       "| FALSE | FALSE | FALSE | FALSE | FALSE | FALSE | FALSE | FALSE | FALSE | FALSE |\n",
       "| FALSE | FALSE | FALSE | FALSE | FALSE | FALSE | FALSE | FALSE | FALSE | FALSE |\n",
       "| FALSE | FALSE | FALSE | FALSE | FALSE | FALSE |  TRUE | FALSE |  TRUE |  TRUE |\n",
       "| FALSE | FALSE | FALSE | FALSE | FALSE | FALSE | FALSE | FALSE |  TRUE | FALSE |\n",
       "| FALSE | FALSE | FALSE | FALSE | FALSE | FALSE | FALSE | FALSE | FALSE | FALSE |\n",
       "| FALSE | FALSE | FALSE | FALSE | FALSE | FALSE | FALSE | FALSE |  TRUE |  TRUE |\n",
       "| FALSE | FALSE | FALSE | FALSE | FALSE | FALSE | FALSE | FALSE |  TRUE | FALSE |\n",
       "| FALSE | FALSE | FALSE | FALSE | FALSE | FALSE | FALSE | FALSE | FALSE | FALSE |\n",
       "| FALSE | FALSE | FALSE | FALSE | FALSE | FALSE | FALSE | FALSE | FALSE | FALSE |\n",
       "| FALSE | FALSE | FALSE | FALSE | FALSE | FALSE | FALSE | FALSE | FALSE | FALSE |\n",
       "| FALSE | FALSE | FALSE | FALSE | FALSE | FALSE | FALSE | FALSE |  TRUE | FALSE |\n",
       "| FALSE | FALSE | FALSE | FALSE | FALSE | FALSE | FALSE | FALSE |  TRUE | FALSE |\n",
       "| FALSE | FALSE | FALSE | FALSE | FALSE | FALSE | FALSE | FALSE | FALSE | FALSE |\n",
       "| FALSE | FALSE | FALSE | FALSE | FALSE | FALSE | FALSE | FALSE |  TRUE | FALSE |\n",
       "| FALSE | FALSE | FALSE | FALSE | FALSE | FALSE | FALSE | FALSE | FALSE | FALSE |\n",
       "| FALSE | FALSE | FALSE | FALSE | FALSE | FALSE | FALSE | FALSE | FALSE | FALSE |\n",
       "| FALSE | FALSE | FALSE | FALSE | FALSE | FALSE | FALSE | FALSE | FALSE | FALSE |\n",
       "| FALSE | FALSE | FALSE | FALSE | FALSE | FALSE | FALSE | FALSE | FALSE | FALSE |\n",
       "| FALSE | FALSE | FALSE | FALSE | FALSE | FALSE | FALSE | FALSE | FALSE | FALSE |\n",
       "| FALSE | FALSE | FALSE | FALSE | FALSE | FALSE | FALSE | FALSE |  TRUE | FALSE |\n",
       "| FALSE | FALSE | FALSE | FALSE | FALSE | FALSE | FALSE | FALSE |  TRUE | FALSE |\n",
       "| FALSE | FALSE | FALSE | FALSE | FALSE | FALSE | FALSE | FALSE | FALSE | FALSE |\n",
       "| FALSE | FALSE | FALSE | FALSE | FALSE | FALSE | FALSE | FALSE | FALSE | FALSE |\n",
       "| FALSE | FALSE | FALSE | FALSE | FALSE | FALSE | FALSE | FALSE | FALSE | FALSE |\n",
       "| FALSE | FALSE | FALSE | FALSE | FALSE | FALSE | FALSE | FALSE | FALSE | FALSE |\n",
       "\n"
      ],
      "text/plain": [
       "    inst  time  status age   sex   ph.ecog ph.karno pat.karno meal.cal wt.loss\n",
       "1   FALSE FALSE FALSE  FALSE FALSE FALSE   FALSE    FALSE     FALSE     TRUE  \n",
       "2   FALSE FALSE FALSE  FALSE FALSE FALSE   FALSE    FALSE     FALSE    FALSE  \n",
       "3   FALSE FALSE FALSE  FALSE FALSE FALSE   FALSE    FALSE      TRUE    FALSE  \n",
       "4   FALSE FALSE FALSE  FALSE FALSE FALSE   FALSE    FALSE     FALSE    FALSE  \n",
       "5   FALSE FALSE FALSE  FALSE FALSE FALSE   FALSE    FALSE      TRUE    FALSE  \n",
       "6   FALSE FALSE FALSE  FALSE FALSE FALSE   FALSE    FALSE     FALSE    FALSE  \n",
       "7   FALSE FALSE FALSE  FALSE FALSE FALSE   FALSE    FALSE     FALSE    FALSE  \n",
       "8   FALSE FALSE FALSE  FALSE FALSE FALSE   FALSE    FALSE     FALSE    FALSE  \n",
       "9   FALSE FALSE FALSE  FALSE FALSE FALSE   FALSE    FALSE     FALSE    FALSE  \n",
       "10  FALSE FALSE FALSE  FALSE FALSE FALSE   FALSE    FALSE     FALSE    FALSE  \n",
       "11  FALSE FALSE FALSE  FALSE FALSE FALSE   FALSE    FALSE     FALSE    FALSE  \n",
       "12  FALSE FALSE FALSE  FALSE FALSE FALSE   FALSE    FALSE      TRUE    FALSE  \n",
       "13  FALSE FALSE FALSE  FALSE FALSE FALSE   FALSE    FALSE      TRUE    FALSE  \n",
       "14  FALSE FALSE FALSE  FALSE FALSE  TRUE   FALSE    FALSE     FALSE    FALSE  \n",
       "15  FALSE FALSE FALSE  FALSE FALSE FALSE   FALSE    FALSE     FALSE    FALSE  \n",
       "16  FALSE FALSE FALSE  FALSE FALSE FALSE   FALSE    FALSE      TRUE    FALSE  \n",
       "17  FALSE FALSE FALSE  FALSE FALSE FALSE   FALSE    FALSE     FALSE    FALSE  \n",
       "18  FALSE FALSE FALSE  FALSE FALSE FALSE   FALSE    FALSE     FALSE    FALSE  \n",
       "19  FALSE FALSE FALSE  FALSE FALSE FALSE   FALSE    FALSE     FALSE    FALSE  \n",
       "20  FALSE FALSE FALSE  FALSE FALSE FALSE   FALSE    FALSE     FALSE     TRUE  \n",
       "21  FALSE FALSE FALSE  FALSE FALSE FALSE   FALSE    FALSE     FALSE    FALSE  \n",
       "22  FALSE FALSE FALSE  FALSE FALSE FALSE   FALSE    FALSE     FALSE    FALSE  \n",
       "23  FALSE FALSE FALSE  FALSE FALSE FALSE   FALSE    FALSE      TRUE    FALSE  \n",
       "24  FALSE FALSE FALSE  FALSE FALSE FALSE   FALSE    FALSE     FALSE    FALSE  \n",
       "25  FALSE FALSE FALSE  FALSE FALSE FALSE   FALSE    FALSE      TRUE    FALSE  \n",
       "26  FALSE FALSE FALSE  FALSE FALSE FALSE   FALSE    FALSE     FALSE    FALSE  \n",
       "27  FALSE FALSE FALSE  FALSE FALSE FALSE   FALSE    FALSE     FALSE    FALSE  \n",
       "28  FALSE FALSE FALSE  FALSE FALSE FALSE   FALSE    FALSE     FALSE    FALSE  \n",
       "29  FALSE FALSE FALSE  FALSE FALSE FALSE   FALSE    FALSE     FALSE    FALSE  \n",
       "30  FALSE FALSE FALSE  FALSE FALSE FALSE   FALSE    FALSE     FALSE    FALSE  \n",
       "... ...   ...   ...    ...   ...   ...     ...      ...       ...      ...    \n",
       "199 FALSE FALSE FALSE  FALSE FALSE FALSE   FALSE    FALSE     FALSE    FALSE  \n",
       "200 FALSE FALSE FALSE  FALSE FALSE FALSE   FALSE    FALSE     FALSE    FALSE  \n",
       "201 FALSE FALSE FALSE  FALSE FALSE FALSE   FALSE    FALSE     FALSE    FALSE  \n",
       "202 FALSE FALSE FALSE  FALSE FALSE FALSE   FALSE    FALSE     FALSE    FALSE  \n",
       "203 FALSE FALSE FALSE  FALSE FALSE FALSE   FALSE    FALSE     FALSE    FALSE  \n",
       "204 FALSE FALSE FALSE  FALSE FALSE FALSE   FALSE    FALSE     FALSE    FALSE  \n",
       "205 FALSE FALSE FALSE  FALSE FALSE FALSE   FALSE    FALSE     FALSE    FALSE  \n",
       "206 FALSE FALSE FALSE  FALSE FALSE FALSE    TRUE    FALSE      TRUE     TRUE  \n",
       "207 FALSE FALSE FALSE  FALSE FALSE FALSE   FALSE    FALSE      TRUE    FALSE  \n",
       "208 FALSE FALSE FALSE  FALSE FALSE FALSE   FALSE    FALSE     FALSE    FALSE  \n",
       "209 FALSE FALSE FALSE  FALSE FALSE FALSE   FALSE    FALSE      TRUE     TRUE  \n",
       "210 FALSE FALSE FALSE  FALSE FALSE FALSE   FALSE    FALSE      TRUE    FALSE  \n",
       "211 FALSE FALSE FALSE  FALSE FALSE FALSE   FALSE    FALSE     FALSE    FALSE  \n",
       "212 FALSE FALSE FALSE  FALSE FALSE FALSE   FALSE    FALSE     FALSE    FALSE  \n",
       "213 FALSE FALSE FALSE  FALSE FALSE FALSE   FALSE    FALSE     FALSE    FALSE  \n",
       "214 FALSE FALSE FALSE  FALSE FALSE FALSE   FALSE    FALSE      TRUE    FALSE  \n",
       "215 FALSE FALSE FALSE  FALSE FALSE FALSE   FALSE    FALSE      TRUE    FALSE  \n",
       "216 FALSE FALSE FALSE  FALSE FALSE FALSE   FALSE    FALSE     FALSE    FALSE  \n",
       "217 FALSE FALSE FALSE  FALSE FALSE FALSE   FALSE    FALSE      TRUE    FALSE  \n",
       "218 FALSE FALSE FALSE  FALSE FALSE FALSE   FALSE    FALSE     FALSE    FALSE  \n",
       "219 FALSE FALSE FALSE  FALSE FALSE FALSE   FALSE    FALSE     FALSE    FALSE  \n",
       "220 FALSE FALSE FALSE  FALSE FALSE FALSE   FALSE    FALSE     FALSE    FALSE  \n",
       "221 FALSE FALSE FALSE  FALSE FALSE FALSE   FALSE    FALSE     FALSE    FALSE  \n",
       "222 FALSE FALSE FALSE  FALSE FALSE FALSE   FALSE    FALSE     FALSE    FALSE  \n",
       "223 FALSE FALSE FALSE  FALSE FALSE FALSE   FALSE    FALSE      TRUE    FALSE  \n",
       "224 FALSE FALSE FALSE  FALSE FALSE FALSE   FALSE    FALSE      TRUE    FALSE  \n",
       "225 FALSE FALSE FALSE  FALSE FALSE FALSE   FALSE    FALSE     FALSE    FALSE  \n",
       "226 FALSE FALSE FALSE  FALSE FALSE FALSE   FALSE    FALSE     FALSE    FALSE  \n",
       "227 FALSE FALSE FALSE  FALSE FALSE FALSE   FALSE    FALSE     FALSE    FALSE  \n",
       "228 FALSE FALSE FALSE  FALSE FALSE FALSE   FALSE    FALSE     FALSE    FALSE  "
      ]
     },
     "metadata": {},
     "output_type": "display_data"
    }
   ],
   "source": [
    "is.na(cancer)"
   ]
  },
  {
   "cell_type": "code",
   "execution_count": 47,
   "id": "recreational-netscape",
   "metadata": {},
   "outputs": [
    {
     "data": {
      "text/html": [
       "67"
      ],
      "text/latex": [
       "67"
      ],
      "text/markdown": [
       "67"
      ],
      "text/plain": [
       "[1] 67"
      ]
     },
     "metadata": {},
     "output_type": "display_data"
    }
   ],
   "source": [
    "sum(is.na(cancer))"
   ]
  },
  {
   "cell_type": "code",
   "execution_count": 48,
   "id": "golden-particular",
   "metadata": {},
   "outputs": [
    {
     "data": {
      "text/html": [
       "47"
      ],
      "text/latex": [
       "47"
      ],
      "text/markdown": [
       "47"
      ],
      "text/plain": [
       "[1] 47"
      ]
     },
     "metadata": {},
     "output_type": "display_data"
    }
   ],
   "source": [
    "sum(is.na(cancer$meal.cal))"
   ]
  },
  {
   "cell_type": "code",
   "execution_count": 49,
   "id": "auburn-committee",
   "metadata": {},
   "outputs": [
    {
     "data": {
      "text/html": [
       "14"
      ],
      "text/latex": [
       "14"
      ],
      "text/markdown": [
       "14"
      ],
      "text/plain": [
       "[1] 14"
      ]
     },
     "metadata": {},
     "output_type": "display_data"
    }
   ],
   "source": [
    "sum(is.na(cancer$wt.loss))"
   ]
  },
  {
   "cell_type": "code",
   "execution_count": 50,
   "id": "violent-fields",
   "metadata": {},
   "outputs": [
    {
     "data": {
      "text/html": [
       "1"
      ],
      "text/latex": [
       "1"
      ],
      "text/markdown": [
       "1"
      ],
      "text/plain": [
       "[1] 1"
      ]
     },
     "metadata": {},
     "output_type": "display_data"
    }
   ],
   "source": [
    "sum(is.na(cancer$ph.ecog))"
   ]
  },
  {
   "cell_type": "code",
   "execution_count": 51,
   "id": "amateur-transcript",
   "metadata": {},
   "outputs": [
    {
     "data": {
      "text/html": [
       "&lt;NA&gt;"
      ],
      "text/latex": [
       "<NA>"
      ],
      "text/markdown": [
       "&lt;NA&gt;"
      ],
      "text/plain": [
       "[1] NA"
      ]
     },
     "metadata": {},
     "output_type": "display_data"
    }
   ],
   "source": [
    "mean(cancer$meal.cal) #arroja NA porque hay algunas casillas que no tienen información"
   ]
  },
  {
   "cell_type": "code",
   "execution_count": 52,
   "id": "killing-april",
   "metadata": {},
   "outputs": [
    {
     "data": {
      "text/html": [
       "167"
      ],
      "text/latex": [
       "167"
      ],
      "text/markdown": [
       "167"
      ],
      "text/plain": [
       "[1] 167"
      ]
     },
     "metadata": {},
     "output_type": "display_data"
    }
   ],
   "source": [
    "sum(complete.cases(cancer))"
   ]
  },
  {
   "cell_type": "code",
   "execution_count": 53,
   "id": "electronic-thumb",
   "metadata": {},
   "outputs": [
    {
     "data": {
      "text/html": [
       "928.779005524862"
      ],
      "text/latex": [
       "928.779005524862"
      ],
      "text/markdown": [
       "928.779005524862"
      ],
      "text/plain": [
       "[1] 928.779"
      ]
     },
     "metadata": {},
     "output_type": "display_data"
    }
   ],
   "source": [
    "mean(cancer$meal.cal, na.rm=T) #excluye los valores na de la media"
   ]
  },
  {
   "cell_type": "code",
   "execution_count": 54,
   "id": "chronic-conditioning",
   "metadata": {},
   "outputs": [
    {
     "data": {
      "text/html": [
       "167"
      ],
      "text/latex": [
       "167"
      ],
      "text/markdown": [
       "167"
      ],
      "text/plain": [
       "[1] 167"
      ]
     },
     "metadata": {},
     "output_type": "display_data"
    },
    {
     "data": {
      "text/html": [
       "<table>\n",
       "<thead><tr><th></th><th scope=col>inst</th><th scope=col>time</th><th scope=col>status</th><th scope=col>age</th><th scope=col>sex</th><th scope=col>ph.ecog</th><th scope=col>ph.karno</th><th scope=col>pat.karno</th><th scope=col>meal.cal</th><th scope=col>wt.loss</th></tr></thead>\n",
       "<tbody>\n",
       "\t<tr><th scope=row>2</th><td> 3  </td><td> 455</td><td>2   </td><td>68  </td><td>1   </td><td>0   </td><td> 90 </td><td> 90 </td><td>1225</td><td> 15 </td></tr>\n",
       "\t<tr><th scope=row>4</th><td> 5  </td><td> 210</td><td>2   </td><td>57  </td><td>1   </td><td>1   </td><td> 90 </td><td> 60 </td><td>1150</td><td> 11 </td></tr>\n",
       "\t<tr><th scope=row>6</th><td>12  </td><td>1022</td><td>1   </td><td>74  </td><td>1   </td><td>1   </td><td> 50 </td><td> 80 </td><td> 513</td><td>  0 </td></tr>\n",
       "\t<tr><th scope=row>7</th><td> 7  </td><td> 310</td><td>2   </td><td>68  </td><td>2   </td><td>2   </td><td> 70 </td><td> 60 </td><td> 384</td><td> 10 </td></tr>\n",
       "\t<tr><th scope=row>8</th><td>11  </td><td> 361</td><td>2   </td><td>71  </td><td>2   </td><td>2   </td><td> 60 </td><td> 80 </td><td> 538</td><td>  1 </td></tr>\n",
       "\t<tr><th scope=row>9</th><td> 1  </td><td> 218</td><td>2   </td><td>53  </td><td>1   </td><td>1   </td><td> 70 </td><td> 80 </td><td> 825</td><td> 16 </td></tr>\n",
       "\t<tr><th scope=row>10</th><td> 7  </td><td> 166</td><td>2   </td><td>61  </td><td>1   </td><td>2   </td><td> 70 </td><td> 70 </td><td> 271</td><td> 34 </td></tr>\n",
       "\t<tr><th scope=row>11</th><td> 6  </td><td> 170</td><td>2   </td><td>57  </td><td>1   </td><td>1   </td><td> 80 </td><td> 80 </td><td>1025</td><td> 27 </td></tr>\n",
       "\t<tr><th scope=row>15</th><td>12  </td><td> 567</td><td>2   </td><td>57  </td><td>1   </td><td>1   </td><td> 80 </td><td> 70 </td><td>2600</td><td> 60 </td></tr>\n",
       "\t<tr><th scope=row>17</th><td>22  </td><td> 613</td><td>2   </td><td>70  </td><td>1   </td><td>1   </td><td> 90 </td><td>100 </td><td>1150</td><td> -5 </td></tr>\n",
       "\t<tr><th scope=row>18</th><td>16  </td><td> 707</td><td>2   </td><td>63  </td><td>1   </td><td>2   </td><td> 50 </td><td> 70 </td><td>1025</td><td> 22 </td></tr>\n",
       "\t<tr><th scope=row>19</th><td> 1  </td><td>  61</td><td>2   </td><td>56  </td><td>2   </td><td>2   </td><td> 60 </td><td> 60 </td><td> 238</td><td> 10 </td></tr>\n",
       "\t<tr><th scope=row>21</th><td>11  </td><td> 301</td><td>2   </td><td>67  </td><td>1   </td><td>1   </td><td> 80 </td><td> 80 </td><td>1025</td><td> 17 </td></tr>\n",
       "\t<tr><th scope=row>22</th><td> 6  </td><td>  81</td><td>2   </td><td>49  </td><td>2   </td><td>0   </td><td>100 </td><td> 70 </td><td>1175</td><td> -8 </td></tr>\n",
       "\t<tr><th scope=row>24</th><td>15  </td><td> 371</td><td>2   </td><td>58  </td><td>1   </td><td>0   </td><td> 90 </td><td>100 </td><td> 975</td><td> 13 </td></tr>\n",
       "\t<tr><th scope=row>26</th><td>12  </td><td> 520</td><td>2   </td><td>70  </td><td>2   </td><td>1   </td><td> 90 </td><td> 80 </td><td> 825</td><td>  6 </td></tr>\n",
       "\t<tr><th scope=row>27</th><td> 4  </td><td> 574</td><td>2   </td><td>60  </td><td>1   </td><td>0   </td><td>100 </td><td>100 </td><td>1025</td><td>-13 </td></tr>\n",
       "\t<tr><th scope=row>28</th><td>13  </td><td> 118</td><td>2   </td><td>70  </td><td>1   </td><td>3   </td><td> 60 </td><td> 70 </td><td>1075</td><td> 20 </td></tr>\n",
       "\t<tr><th scope=row>29</th><td>13  </td><td> 390</td><td>2   </td><td>53  </td><td>1   </td><td>1   </td><td> 80 </td><td> 70 </td><td> 875</td><td> -7 </td></tr>\n",
       "\t<tr><th scope=row>30</th><td> 1  </td><td>  12</td><td>2   </td><td>74  </td><td>1   </td><td>2   </td><td> 70 </td><td> 50 </td><td> 305</td><td> 20 </td></tr>\n",
       "\t<tr><th scope=row>31</th><td>12  </td><td> 473</td><td>2   </td><td>69  </td><td>2   </td><td>1   </td><td> 90 </td><td> 90 </td><td>1025</td><td> -1 </td></tr>\n",
       "\t<tr><th scope=row>32</th><td> 1  </td><td>  26</td><td>2   </td><td>73  </td><td>1   </td><td>2   </td><td> 60 </td><td> 70 </td><td> 388</td><td> 20 </td></tr>\n",
       "\t<tr><th scope=row>34</th><td>16  </td><td> 107</td><td>2   </td><td>60  </td><td>2   </td><td>2   </td><td> 50 </td><td> 60 </td><td> 925</td><td>-15 </td></tr>\n",
       "\t<tr><th scope=row>35</th><td>12  </td><td>  53</td><td>2   </td><td>61  </td><td>1   </td><td>2   </td><td> 70 </td><td>100 </td><td>1075</td><td> 10 </td></tr>\n",
       "\t<tr><th scope=row>37</th><td>22  </td><td> 814</td><td>2   </td><td>65  </td><td>1   </td><td>2   </td><td> 70 </td><td> 60 </td><td> 513</td><td> 28 </td></tr>\n",
       "\t<tr><th scope=row>38</th><td>15  </td><td> 965</td><td>1   </td><td>66  </td><td>2   </td><td>1   </td><td> 70 </td><td> 90 </td><td> 875</td><td>  4 </td></tr>\n",
       "\t<tr><th scope=row>39</th><td> 1  </td><td>  93</td><td>2   </td><td>74  </td><td>1   </td><td>2   </td><td> 50 </td><td> 40 </td><td>1225</td><td> 24 </td></tr>\n",
       "\t<tr><th scope=row>40</th><td> 1  </td><td> 731</td><td>2   </td><td>64  </td><td>2   </td><td>1   </td><td> 80 </td><td>100 </td><td>1175</td><td> 15 </td></tr>\n",
       "\t<tr><th scope=row>41</th><td> 5  </td><td> 460</td><td>2   </td><td>70  </td><td>1   </td><td>1   </td><td> 80 </td><td> 60 </td><td> 975</td><td> 10 </td></tr>\n",
       "\t<tr><th scope=row>42</th><td>11  </td><td> 153</td><td>2   </td><td>73  </td><td>2   </td><td>2   </td><td> 60 </td><td> 70 </td><td>1075</td><td> 11 </td></tr>\n",
       "\t<tr><th scope=row>...</th><td>...</td><td>...</td><td>...</td><td>...</td><td>...</td><td>...</td><td>...</td><td>...</td><td>...</td><td>...</td></tr>\n",
       "\t<tr><th scope=row>187</th><td> 2  </td><td>285 </td><td>2   </td><td>72  </td><td>2   </td><td>2   </td><td> 70 </td><td> 90 </td><td> 463</td><td>20  </td></tr>\n",
       "\t<tr><th scope=row>188</th><td> 3  </td><td>259 </td><td>1   </td><td>58  </td><td>1   </td><td>0   </td><td> 90 </td><td> 80 </td><td>1300</td><td> 8  </td></tr>\n",
       "\t<tr><th scope=row>189</th><td>15  </td><td>110 </td><td>2   </td><td>64  </td><td>1   </td><td>1   </td><td> 80 </td><td> 60 </td><td>1025</td><td>12  </td></tr>\n",
       "\t<tr><th scope=row>190</th><td>22  </td><td>286 </td><td>2   </td><td>53  </td><td>1   </td><td>0   </td><td> 90 </td><td> 90 </td><td>1225</td><td> 8  </td></tr>\n",
       "\t<tr><th scope=row>191</th><td>16  </td><td>270 </td><td>2   </td><td>72  </td><td>1   </td><td>1   </td><td> 80 </td><td> 90 </td><td> 488</td><td>14  </td></tr>\n",
       "\t<tr><th scope=row>194</th><td> 1  </td><td>225 </td><td>1   </td><td>64  </td><td>1   </td><td>1   </td><td> 90 </td><td> 80 </td><td> 825</td><td>33  </td></tr>\n",
       "\t<tr><th scope=row>195</th><td>22  </td><td>269 </td><td>2   </td><td>71  </td><td>1   </td><td>1   </td><td> 90 </td><td> 90 </td><td>1300</td><td>-2  </td></tr>\n",
       "\t<tr><th scope=row>196</th><td>12  </td><td>225 </td><td>1   </td><td>70  </td><td>1   </td><td>0   </td><td>100 </td><td>100 </td><td>1175</td><td> 6  </td></tr>\n",
       "\t<tr><th scope=row>197</th><td>32  </td><td>243 </td><td>1   </td><td>63  </td><td>2   </td><td>1   </td><td> 80 </td><td> 90 </td><td> 825</td><td> 0  </td></tr>\n",
       "\t<tr><th scope=row>199</th><td> 1  </td><td>276 </td><td>1   </td><td>52  </td><td>2   </td><td>0   </td><td>100 </td><td> 80 </td><td> 975</td><td> 0  </td></tr>\n",
       "\t<tr><th scope=row>200</th><td>32  </td><td>135 </td><td>2   </td><td>60  </td><td>1   </td><td>1   </td><td> 90 </td><td> 70 </td><td>1275</td><td> 0  </td></tr>\n",
       "\t<tr><th scope=row>201</th><td>15  </td><td> 79 </td><td>2   </td><td>64  </td><td>2   </td><td>1   </td><td> 90 </td><td> 90 </td><td> 488</td><td>37  </td></tr>\n",
       "\t<tr><th scope=row>202</th><td>22  </td><td> 59 </td><td>2   </td><td>73  </td><td>1   </td><td>1   </td><td> 60 </td><td> 60 </td><td>2200</td><td> 5  </td></tr>\n",
       "\t<tr><th scope=row>203</th><td>32  </td><td>240 </td><td>1   </td><td>63  </td><td>2   </td><td>0   </td><td> 90 </td><td>100 </td><td>1025</td><td> 0  </td></tr>\n",
       "\t<tr><th scope=row>204</th><td> 3  </td><td>202 </td><td>1   </td><td>50  </td><td>2   </td><td>0   </td><td>100 </td><td>100 </td><td> 635</td><td> 1  </td></tr>\n",
       "\t<tr><th scope=row>205</th><td>26  </td><td>235 </td><td>1   </td><td>63  </td><td>2   </td><td>0   </td><td>100 </td><td> 90 </td><td> 413</td><td> 0  </td></tr>\n",
       "\t<tr><th scope=row>208</th><td>13  </td><td>239 </td><td>2   </td><td>50  </td><td>2   </td><td>2   </td><td> 60 </td><td> 60 </td><td>1025</td><td>-3  </td></tr>\n",
       "\t<tr><th scope=row>211</th><td> 1  </td><td>252 </td><td>1   </td><td>60  </td><td>2   </td><td>0   </td><td>100 </td><td> 90 </td><td> 488</td><td>-2  </td></tr>\n",
       "\t<tr><th scope=row>212</th><td> 6  </td><td>221 </td><td>1   </td><td>67  </td><td>1   </td><td>1   </td><td> 80 </td><td> 70 </td><td> 413</td><td>23  </td></tr>\n",
       "\t<tr><th scope=row>213</th><td>15  </td><td>185 </td><td>1   </td><td>69  </td><td>1   </td><td>1   </td><td> 90 </td><td> 70 </td><td>1075</td><td> 0  </td></tr>\n",
       "\t<tr><th scope=row>216</th><td>11  </td><td>222 </td><td>1   </td><td>65  </td><td>1   </td><td>1   </td><td> 90 </td><td> 70 </td><td>1025</td><td>18  </td></tr>\n",
       "\t<tr><th scope=row>218</th><td>21  </td><td>183 </td><td>2   </td><td>76  </td><td>1   </td><td>2   </td><td> 80 </td><td> 60 </td><td> 825</td><td> 7  </td></tr>\n",
       "\t<tr><th scope=row>219</th><td>11  </td><td>211 </td><td>1   </td><td>70  </td><td>2   </td><td>2   </td><td> 70 </td><td> 30 </td><td> 131</td><td> 3  </td></tr>\n",
       "\t<tr><th scope=row>220</th><td> 2  </td><td>175 </td><td>1   </td><td>57  </td><td>2   </td><td>0   </td><td> 80 </td><td> 80 </td><td> 725</td><td>11  </td></tr>\n",
       "\t<tr><th scope=row>221</th><td>22  </td><td>197 </td><td>1   </td><td>67  </td><td>1   </td><td>1   </td><td> 80 </td><td> 90 </td><td>1500</td><td> 2  </td></tr>\n",
       "\t<tr><th scope=row>222</th><td>11  </td><td>203 </td><td>1   </td><td>71  </td><td>2   </td><td>1   </td><td> 80 </td><td> 90 </td><td>1025</td><td> 0  </td></tr>\n",
       "\t<tr><th scope=row>225</th><td>13  </td><td>191 </td><td>1   </td><td>39  </td><td>1   </td><td>0   </td><td> 90 </td><td> 90 </td><td>2350</td><td>-5  </td></tr>\n",
       "\t<tr><th scope=row>226</th><td>32  </td><td>105 </td><td>1   </td><td>75  </td><td>2   </td><td>2   </td><td> 60 </td><td> 70 </td><td>1025</td><td> 5  </td></tr>\n",
       "\t<tr><th scope=row>227</th><td> 6  </td><td>174 </td><td>1   </td><td>66  </td><td>1   </td><td>1   </td><td> 90 </td><td>100 </td><td>1075</td><td> 1  </td></tr>\n",
       "\t<tr><th scope=row>228</th><td>22  </td><td>177 </td><td>1   </td><td>58  </td><td>2   </td><td>1   </td><td> 80 </td><td> 90 </td><td>1060</td><td> 0  </td></tr>\n",
       "</tbody>\n",
       "</table>\n"
      ],
      "text/latex": [
       "\\begin{tabular}{r|llllllllll}\n",
       "  & inst & time & status & age & sex & ph.ecog & ph.karno & pat.karno & meal.cal & wt.loss\\\\\n",
       "\\hline\n",
       "\t2 &  3   &  455 & 2    & 68   & 1    & 0    &  90  &  90  & 1225 &  15 \\\\\n",
       "\t4 &  5   &  210 & 2    & 57   & 1    & 1    &  90  &  60  & 1150 &  11 \\\\\n",
       "\t6 & 12   & 1022 & 1    & 74   & 1    & 1    &  50  &  80  &  513 &   0 \\\\\n",
       "\t7 &  7   &  310 & 2    & 68   & 2    & 2    &  70  &  60  &  384 &  10 \\\\\n",
       "\t8 & 11   &  361 & 2    & 71   & 2    & 2    &  60  &  80  &  538 &   1 \\\\\n",
       "\t9 &  1   &  218 & 2    & 53   & 1    & 1    &  70  &  80  &  825 &  16 \\\\\n",
       "\t10 &  7   &  166 & 2    & 61   & 1    & 2    &  70  &  70  &  271 &  34 \\\\\n",
       "\t11 &  6   &  170 & 2    & 57   & 1    & 1    &  80  &  80  & 1025 &  27 \\\\\n",
       "\t15 & 12   &  567 & 2    & 57   & 1    & 1    &  80  &  70  & 2600 &  60 \\\\\n",
       "\t17 & 22   &  613 & 2    & 70   & 1    & 1    &  90  & 100  & 1150 &  -5 \\\\\n",
       "\t18 & 16   &  707 & 2    & 63   & 1    & 2    &  50  &  70  & 1025 &  22 \\\\\n",
       "\t19 &  1   &   61 & 2    & 56   & 2    & 2    &  60  &  60  &  238 &  10 \\\\\n",
       "\t21 & 11   &  301 & 2    & 67   & 1    & 1    &  80  &  80  & 1025 &  17 \\\\\n",
       "\t22 &  6   &   81 & 2    & 49   & 2    & 0    & 100  &  70  & 1175 &  -8 \\\\\n",
       "\t24 & 15   &  371 & 2    & 58   & 1    & 0    &  90  & 100  &  975 &  13 \\\\\n",
       "\t26 & 12   &  520 & 2    & 70   & 2    & 1    &  90  &  80  &  825 &   6 \\\\\n",
       "\t27 &  4   &  574 & 2    & 60   & 1    & 0    & 100  & 100  & 1025 & -13 \\\\\n",
       "\t28 & 13   &  118 & 2    & 70   & 1    & 3    &  60  &  70  & 1075 &  20 \\\\\n",
       "\t29 & 13   &  390 & 2    & 53   & 1    & 1    &  80  &  70  &  875 &  -7 \\\\\n",
       "\t30 &  1   &   12 & 2    & 74   & 1    & 2    &  70  &  50  &  305 &  20 \\\\\n",
       "\t31 & 12   &  473 & 2    & 69   & 2    & 1    &  90  &  90  & 1025 &  -1 \\\\\n",
       "\t32 &  1   &   26 & 2    & 73   & 1    & 2    &  60  &  70  &  388 &  20 \\\\\n",
       "\t34 & 16   &  107 & 2    & 60   & 2    & 2    &  50  &  60  &  925 & -15 \\\\\n",
       "\t35 & 12   &   53 & 2    & 61   & 1    & 2    &  70  & 100  & 1075 &  10 \\\\\n",
       "\t37 & 22   &  814 & 2    & 65   & 1    & 2    &  70  &  60  &  513 &  28 \\\\\n",
       "\t38 & 15   &  965 & 1    & 66   & 2    & 1    &  70  &  90  &  875 &   4 \\\\\n",
       "\t39 &  1   &   93 & 2    & 74   & 1    & 2    &  50  &  40  & 1225 &  24 \\\\\n",
       "\t40 &  1   &  731 & 2    & 64   & 2    & 1    &  80  & 100  & 1175 &  15 \\\\\n",
       "\t41 &  5   &  460 & 2    & 70   & 1    & 1    &  80  &  60  &  975 &  10 \\\\\n",
       "\t42 & 11   &  153 & 2    & 73   & 2    & 2    &  60  &  70  & 1075 &  11 \\\\\n",
       "\t... & ... & ... & ... & ... & ... & ... & ... & ... & ... & ...\\\\\n",
       "\t187 &  2   & 285  & 2    & 72   & 2    & 2    &  70  &  90  &  463 & 20  \\\\\n",
       "\t188 &  3   & 259  & 1    & 58   & 1    & 0    &  90  &  80  & 1300 &  8  \\\\\n",
       "\t189 & 15   & 110  & 2    & 64   & 1    & 1    &  80  &  60  & 1025 & 12  \\\\\n",
       "\t190 & 22   & 286  & 2    & 53   & 1    & 0    &  90  &  90  & 1225 &  8  \\\\\n",
       "\t191 & 16   & 270  & 2    & 72   & 1    & 1    &  80  &  90  &  488 & 14  \\\\\n",
       "\t194 &  1   & 225  & 1    & 64   & 1    & 1    &  90  &  80  &  825 & 33  \\\\\n",
       "\t195 & 22   & 269  & 2    & 71   & 1    & 1    &  90  &  90  & 1300 & -2  \\\\\n",
       "\t196 & 12   & 225  & 1    & 70   & 1    & 0    & 100  & 100  & 1175 &  6  \\\\\n",
       "\t197 & 32   & 243  & 1    & 63   & 2    & 1    &  80  &  90  &  825 &  0  \\\\\n",
       "\t199 &  1   & 276  & 1    & 52   & 2    & 0    & 100  &  80  &  975 &  0  \\\\\n",
       "\t200 & 32   & 135  & 2    & 60   & 1    & 1    &  90  &  70  & 1275 &  0  \\\\\n",
       "\t201 & 15   &  79  & 2    & 64   & 2    & 1    &  90  &  90  &  488 & 37  \\\\\n",
       "\t202 & 22   &  59  & 2    & 73   & 1    & 1    &  60  &  60  & 2200 &  5  \\\\\n",
       "\t203 & 32   & 240  & 1    & 63   & 2    & 0    &  90  & 100  & 1025 &  0  \\\\\n",
       "\t204 &  3   & 202  & 1    & 50   & 2    & 0    & 100  & 100  &  635 &  1  \\\\\n",
       "\t205 & 26   & 235  & 1    & 63   & 2    & 0    & 100  &  90  &  413 &  0  \\\\\n",
       "\t208 & 13   & 239  & 2    & 50   & 2    & 2    &  60  &  60  & 1025 & -3  \\\\\n",
       "\t211 &  1   & 252  & 1    & 60   & 2    & 0    & 100  &  90  &  488 & -2  \\\\\n",
       "\t212 &  6   & 221  & 1    & 67   & 1    & 1    &  80  &  70  &  413 & 23  \\\\\n",
       "\t213 & 15   & 185  & 1    & 69   & 1    & 1    &  90  &  70  & 1075 &  0  \\\\\n",
       "\t216 & 11   & 222  & 1    & 65   & 1    & 1    &  90  &  70  & 1025 & 18  \\\\\n",
       "\t218 & 21   & 183  & 2    & 76   & 1    & 2    &  80  &  60  &  825 &  7  \\\\\n",
       "\t219 & 11   & 211  & 1    & 70   & 2    & 2    &  70  &  30  &  131 &  3  \\\\\n",
       "\t220 &  2   & 175  & 1    & 57   & 2    & 0    &  80  &  80  &  725 & 11  \\\\\n",
       "\t221 & 22   & 197  & 1    & 67   & 1    & 1    &  80  &  90  & 1500 &  2  \\\\\n",
       "\t222 & 11   & 203  & 1    & 71   & 2    & 1    &  80  &  90  & 1025 &  0  \\\\\n",
       "\t225 & 13   & 191  & 1    & 39   & 1    & 0    &  90  &  90  & 2350 & -5  \\\\\n",
       "\t226 & 32   & 105  & 1    & 75   & 2    & 2    &  60  &  70  & 1025 &  5  \\\\\n",
       "\t227 &  6   & 174  & 1    & 66   & 1    & 1    &  90  & 100  & 1075 &  1  \\\\\n",
       "\t228 & 22   & 177  & 1    & 58   & 2    & 1    &  80  &  90  & 1060 &  0  \\\\\n",
       "\\end{tabular}\n"
      ],
      "text/markdown": [
       "\n",
       "| <!--/--> | inst | time | status | age | sex | ph.ecog | ph.karno | pat.karno | meal.cal | wt.loss |\n",
       "|---|---|---|---|---|---|---|---|---|---|---|\n",
       "| 2 |  3   |  455 | 2    | 68   | 1    | 0    |  90  |  90  | 1225 |  15  |\n",
       "| 4 |  5   |  210 | 2    | 57   | 1    | 1    |  90  |  60  | 1150 |  11  |\n",
       "| 6 | 12   | 1022 | 1    | 74   | 1    | 1    |  50  |  80  |  513 |   0  |\n",
       "| 7 |  7   |  310 | 2    | 68   | 2    | 2    |  70  |  60  |  384 |  10  |\n",
       "| 8 | 11   |  361 | 2    | 71   | 2    | 2    |  60  |  80  |  538 |   1  |\n",
       "| 9 |  1   |  218 | 2    | 53   | 1    | 1    |  70  |  80  |  825 |  16  |\n",
       "| 10 |  7   |  166 | 2    | 61   | 1    | 2    |  70  |  70  |  271 |  34  |\n",
       "| 11 |  6   |  170 | 2    | 57   | 1    | 1    |  80  |  80  | 1025 |  27  |\n",
       "| 15 | 12   |  567 | 2    | 57   | 1    | 1    |  80  |  70  | 2600 |  60  |\n",
       "| 17 | 22   |  613 | 2    | 70   | 1    | 1    |  90  | 100  | 1150 |  -5  |\n",
       "| 18 | 16   |  707 | 2    | 63   | 1    | 2    |  50  |  70  | 1025 |  22  |\n",
       "| 19 |  1   |   61 | 2    | 56   | 2    | 2    |  60  |  60  |  238 |  10  |\n",
       "| 21 | 11   |  301 | 2    | 67   | 1    | 1    |  80  |  80  | 1025 |  17  |\n",
       "| 22 |  6   |   81 | 2    | 49   | 2    | 0    | 100  |  70  | 1175 |  -8  |\n",
       "| 24 | 15   |  371 | 2    | 58   | 1    | 0    |  90  | 100  |  975 |  13  |\n",
       "| 26 | 12   |  520 | 2    | 70   | 2    | 1    |  90  |  80  |  825 |   6  |\n",
       "| 27 |  4   |  574 | 2    | 60   | 1    | 0    | 100  | 100  | 1025 | -13  |\n",
       "| 28 | 13   |  118 | 2    | 70   | 1    | 3    |  60  |  70  | 1075 |  20  |\n",
       "| 29 | 13   |  390 | 2    | 53   | 1    | 1    |  80  |  70  |  875 |  -7  |\n",
       "| 30 |  1   |   12 | 2    | 74   | 1    | 2    |  70  |  50  |  305 |  20  |\n",
       "| 31 | 12   |  473 | 2    | 69   | 2    | 1    |  90  |  90  | 1025 |  -1  |\n",
       "| 32 |  1   |   26 | 2    | 73   | 1    | 2    |  60  |  70  |  388 |  20  |\n",
       "| 34 | 16   |  107 | 2    | 60   | 2    | 2    |  50  |  60  |  925 | -15  |\n",
       "| 35 | 12   |   53 | 2    | 61   | 1    | 2    |  70  | 100  | 1075 |  10  |\n",
       "| 37 | 22   |  814 | 2    | 65   | 1    | 2    |  70  |  60  |  513 |  28  |\n",
       "| 38 | 15   |  965 | 1    | 66   | 2    | 1    |  70  |  90  |  875 |   4  |\n",
       "| 39 |  1   |   93 | 2    | 74   | 1    | 2    |  50  |  40  | 1225 |  24  |\n",
       "| 40 |  1   |  731 | 2    | 64   | 2    | 1    |  80  | 100  | 1175 |  15  |\n",
       "| 41 |  5   |  460 | 2    | 70   | 1    | 1    |  80  |  60  |  975 |  10  |\n",
       "| 42 | 11   |  153 | 2    | 73   | 2    | 2    |  60  |  70  | 1075 |  11  |\n",
       "| ... | ... | ... | ... | ... | ... | ... | ... | ... | ... | ... |\n",
       "| 187 |  2   | 285  | 2    | 72   | 2    | 2    |  70  |  90  |  463 | 20   |\n",
       "| 188 |  3   | 259  | 1    | 58   | 1    | 0    |  90  |  80  | 1300 |  8   |\n",
       "| 189 | 15   | 110  | 2    | 64   | 1    | 1    |  80  |  60  | 1025 | 12   |\n",
       "| 190 | 22   | 286  | 2    | 53   | 1    | 0    |  90  |  90  | 1225 |  8   |\n",
       "| 191 | 16   | 270  | 2    | 72   | 1    | 1    |  80  |  90  |  488 | 14   |\n",
       "| 194 |  1   | 225  | 1    | 64   | 1    | 1    |  90  |  80  |  825 | 33   |\n",
       "| 195 | 22   | 269  | 2    | 71   | 1    | 1    |  90  |  90  | 1300 | -2   |\n",
       "| 196 | 12   | 225  | 1    | 70   | 1    | 0    | 100  | 100  | 1175 |  6   |\n",
       "| 197 | 32   | 243  | 1    | 63   | 2    | 1    |  80  |  90  |  825 |  0   |\n",
       "| 199 |  1   | 276  | 1    | 52   | 2    | 0    | 100  |  80  |  975 |  0   |\n",
       "| 200 | 32   | 135  | 2    | 60   | 1    | 1    |  90  |  70  | 1275 |  0   |\n",
       "| 201 | 15   |  79  | 2    | 64   | 2    | 1    |  90  |  90  |  488 | 37   |\n",
       "| 202 | 22   |  59  | 2    | 73   | 1    | 1    |  60  |  60  | 2200 |  5   |\n",
       "| 203 | 32   | 240  | 1    | 63   | 2    | 0    |  90  | 100  | 1025 |  0   |\n",
       "| 204 |  3   | 202  | 1    | 50   | 2    | 0    | 100  | 100  |  635 |  1   |\n",
       "| 205 | 26   | 235  | 1    | 63   | 2    | 0    | 100  |  90  |  413 |  0   |\n",
       "| 208 | 13   | 239  | 2    | 50   | 2    | 2    |  60  |  60  | 1025 | -3   |\n",
       "| 211 |  1   | 252  | 1    | 60   | 2    | 0    | 100  |  90  |  488 | -2   |\n",
       "| 212 |  6   | 221  | 1    | 67   | 1    | 1    |  80  |  70  |  413 | 23   |\n",
       "| 213 | 15   | 185  | 1    | 69   | 1    | 1    |  90  |  70  | 1075 |  0   |\n",
       "| 216 | 11   | 222  | 1    | 65   | 1    | 1    |  90  |  70  | 1025 | 18   |\n",
       "| 218 | 21   | 183  | 2    | 76   | 1    | 2    |  80  |  60  |  825 |  7   |\n",
       "| 219 | 11   | 211  | 1    | 70   | 2    | 2    |  70  |  30  |  131 |  3   |\n",
       "| 220 |  2   | 175  | 1    | 57   | 2    | 0    |  80  |  80  |  725 | 11   |\n",
       "| 221 | 22   | 197  | 1    | 67   | 1    | 1    |  80  |  90  | 1500 |  2   |\n",
       "| 222 | 11   | 203  | 1    | 71   | 2    | 1    |  80  |  90  | 1025 |  0   |\n",
       "| 225 | 13   | 191  | 1    | 39   | 1    | 0    |  90  |  90  | 2350 | -5   |\n",
       "| 226 | 32   | 105  | 1    | 75   | 2    | 2    |  60  |  70  | 1025 |  5   |\n",
       "| 227 |  6   | 174  | 1    | 66   | 1    | 1    |  90  | 100  | 1075 |  1   |\n",
       "| 228 | 22   | 177  | 1    | 58   | 2    | 1    |  80  |  90  | 1060 |  0   |\n",
       "\n"
      ],
      "text/plain": [
       "    inst time status age sex ph.ecog ph.karno pat.karno meal.cal wt.loss\n",
       "2    3    455 2      68  1   0        90       90       1225      15    \n",
       "4    5    210 2      57  1   1        90       60       1150      11    \n",
       "6   12   1022 1      74  1   1        50       80        513       0    \n",
       "7    7    310 2      68  2   2        70       60        384      10    \n",
       "8   11    361 2      71  2   2        60       80        538       1    \n",
       "9    1    218 2      53  1   1        70       80        825      16    \n",
       "10   7    166 2      61  1   2        70       70        271      34    \n",
       "11   6    170 2      57  1   1        80       80       1025      27    \n",
       "15  12    567 2      57  1   1        80       70       2600      60    \n",
       "17  22    613 2      70  1   1        90      100       1150      -5    \n",
       "18  16    707 2      63  1   2        50       70       1025      22    \n",
       "19   1     61 2      56  2   2        60       60        238      10    \n",
       "21  11    301 2      67  1   1        80       80       1025      17    \n",
       "22   6     81 2      49  2   0       100       70       1175      -8    \n",
       "24  15    371 2      58  1   0        90      100        975      13    \n",
       "26  12    520 2      70  2   1        90       80        825       6    \n",
       "27   4    574 2      60  1   0       100      100       1025     -13    \n",
       "28  13    118 2      70  1   3        60       70       1075      20    \n",
       "29  13    390 2      53  1   1        80       70        875      -7    \n",
       "30   1     12 2      74  1   2        70       50        305      20    \n",
       "31  12    473 2      69  2   1        90       90       1025      -1    \n",
       "32   1     26 2      73  1   2        60       70        388      20    \n",
       "34  16    107 2      60  2   2        50       60        925     -15    \n",
       "35  12     53 2      61  1   2        70      100       1075      10    \n",
       "37  22    814 2      65  1   2        70       60        513      28    \n",
       "38  15    965 1      66  2   1        70       90        875       4    \n",
       "39   1     93 2      74  1   2        50       40       1225      24    \n",
       "40   1    731 2      64  2   1        80      100       1175      15    \n",
       "41   5    460 2      70  1   1        80       60        975      10    \n",
       "42  11    153 2      73  2   2        60       70       1075      11    \n",
       "... ...  ...  ...    ... ... ...     ...      ...       ...      ...    \n",
       "187  2   285  2      72  2   2        70       90        463     20     \n",
       "188  3   259  1      58  1   0        90       80       1300      8     \n",
       "189 15   110  2      64  1   1        80       60       1025     12     \n",
       "190 22   286  2      53  1   0        90       90       1225      8     \n",
       "191 16   270  2      72  1   1        80       90        488     14     \n",
       "194  1   225  1      64  1   1        90       80        825     33     \n",
       "195 22   269  2      71  1   1        90       90       1300     -2     \n",
       "196 12   225  1      70  1   0       100      100       1175      6     \n",
       "197 32   243  1      63  2   1        80       90        825      0     \n",
       "199  1   276  1      52  2   0       100       80        975      0     \n",
       "200 32   135  2      60  1   1        90       70       1275      0     \n",
       "201 15    79  2      64  2   1        90       90        488     37     \n",
       "202 22    59  2      73  1   1        60       60       2200      5     \n",
       "203 32   240  1      63  2   0        90      100       1025      0     \n",
       "204  3   202  1      50  2   0       100      100        635      1     \n",
       "205 26   235  1      63  2   0       100       90        413      0     \n",
       "208 13   239  2      50  2   2        60       60       1025     -3     \n",
       "211  1   252  1      60  2   0       100       90        488     -2     \n",
       "212  6   221  1      67  1   1        80       70        413     23     \n",
       "213 15   185  1      69  1   1        90       70       1075      0     \n",
       "216 11   222  1      65  1   1        90       70       1025     18     \n",
       "218 21   183  2      76  1   2        80       60        825      7     \n",
       "219 11   211  1      70  2   2        70       30        131      3     \n",
       "220  2   175  1      57  2   0        80       80        725     11     \n",
       "221 22   197  1      67  1   1        80       90       1500      2     \n",
       "222 11   203  1      71  2   1        80       90       1025      0     \n",
       "225 13   191  1      39  1   0        90       90       2350     -5     \n",
       "226 32   105  1      75  2   2        60       70       1025      5     \n",
       "227  6   174  1      66  1   1        90      100       1075      1     \n",
       "228 22   177  1      58  2   1        80       90       1060      0     "
      ]
     },
     "metadata": {},
     "output_type": "display_data"
    }
   ],
   "source": [
    "#eliminar de tu base de datos los casos donde tengas los valores faltantes\n",
    "cancer2<-na.omit(cancer)\n",
    "nrow(cancer2) #pone el numero de filas\n",
    "cancer2\n",
    "#lo malo es que trabajas con menos datos"
   ]
  },
  {
   "cell_type": "markdown",
   "id": "embedded-consumer",
   "metadata": {},
   "source": [
    "Cuando tenemos datos faltantes, son replanzados por:\n",
    "Media- para datos numéricos\n",
    "Moda-para datos categoricos"
   ]
  },
  {
   "cell_type": "code",
   "execution_count": 55,
   "id": "welsh-arrow",
   "metadata": {},
   "outputs": [],
   "source": [
    "media_faltantes=mean(cancer$meal.cal, na.rm=T)\n",
    "cancer$meal.cal[is.na(cancer$meal.cal)]=media_faltantes"
   ]
  },
  {
   "cell_type": "code",
   "execution_count": 56,
   "id": "specified-worth",
   "metadata": {},
   "outputs": [],
   "source": [
    "library(missForest)"
   ]
  },
  {
   "cell_type": "code",
   "execution_count": 57,
   "id": "returning-creature",
   "metadata": {},
   "outputs": [
    {
     "name": "stdout",
     "output_type": "stream",
     "text": [
      "  missForest iteration 1 in progress..."
     ]
    },
    {
     "name": "stderr",
     "output_type": "stream",
     "text": [
      "Warning message in randomForest.default(x = obsX, y = obsY, ntree = ntree, mtry = mtry, :\n",
      "\"The response has five or fewer unique values.  Are you sure you want to do regression?\""
     ]
    },
    {
     "name": "stdout",
     "output_type": "stream",
     "text": [
      "done!\n",
      "    estimated error(s): 0.02235581 \n",
      "    difference(s): 3.038935e-06 \n",
      "    time: 0.22 seconds\n",
      "\n",
      "  missForest iteration 2 in progress..."
     ]
    },
    {
     "name": "stderr",
     "output_type": "stream",
     "text": [
      "Warning message in randomForest.default(x = obsX, y = obsY, ntree = ntree, mtry = mtry, :\n",
      "\"The response has five or fewer unique values.  Are you sure you want to do regression?\""
     ]
    },
    {
     "name": "stdout",
     "output_type": "stream",
     "text": [
      "done!\n",
      "    estimated error(s): 0.02262376 \n",
      "    difference(s): 2.550092e-07 \n",
      "    time: 0.17 seconds\n",
      "\n",
      "  missForest iteration 3 in progress..."
     ]
    },
    {
     "name": "stderr",
     "output_type": "stream",
     "text": [
      "Warning message in randomForest.default(x = obsX, y = obsY, ntree = ntree, mtry = mtry, :\n",
      "\"The response has five or fewer unique values.  Are you sure you want to do regression?\""
     ]
    },
    {
     "name": "stdout",
     "output_type": "stream",
     "text": [
      "done!\n",
      "    estimated error(s): 0.02272829 \n",
      "    difference(s): 1.6605e-07 \n",
      "    time: 0.22 seconds\n",
      "\n",
      "  missForest iteration 4 in progress..."
     ]
    },
    {
     "name": "stderr",
     "output_type": "stream",
     "text": [
      "Warning message in randomForest.default(x = obsX, y = obsY, ntree = ntree, mtry = mtry, :\n",
      "\"The response has five or fewer unique values.  Are you sure you want to do regression?\""
     ]
    },
    {
     "name": "stdout",
     "output_type": "stream",
     "text": [
      "done!\n",
      "    estimated error(s): 0.02267439 \n",
      "    difference(s): 1.620312e-07 \n",
      "    time: 0.19 seconds\n",
      "\n",
      "  missForest iteration 5 in progress..."
     ]
    },
    {
     "name": "stderr",
     "output_type": "stream",
     "text": [
      "Warning message in randomForest.default(x = obsX, y = obsY, ntree = ntree, mtry = mtry, :\n",
      "\"The response has five or fewer unique values.  Are you sure you want to do regression?\""
     ]
    },
    {
     "name": "stdout",
     "output_type": "stream",
     "text": [
      "done!\n",
      "    estimated error(s): 0.02273807 \n",
      "    difference(s): 2.169964e-07 \n",
      "    time: 0.2 seconds\n",
      "\n"
     ]
    }
   ],
   "source": [
    "imp<-missForest(cancer,verbose = TRUE,variablewise = FALSE)"
   ]
  },
  {
   "cell_type": "code",
   "execution_count": 58,
   "id": "hybrid-insider",
   "metadata": {},
   "outputs": [
    {
     "data": {
      "text/html": [
       "<strong>NRMSE:</strong> 0.0226743881277594"
      ],
      "text/latex": [
       "\\textbf{NRMSE:} 0.0226743881277594"
      ],
      "text/markdown": [
       "**NRMSE:** 0.0226743881277594"
      ],
      "text/plain": [
       "     NRMSE \n",
       "0.02267439 "
      ]
     },
     "metadata": {},
     "output_type": "display_data"
    }
   ],
   "source": [
    "imp$OOBerror"
   ]
  },
  {
   "cell_type": "code",
   "execution_count": 59,
   "id": "medium-thing",
   "metadata": {},
   "outputs": [
    {
     "name": "stdout",
     "output_type": "stream",
     "text": [
      "  missForest iteration 1 in progress..."
     ]
    },
    {
     "name": "stderr",
     "output_type": "stream",
     "text": [
      "Warning message in randomForest.default(x = obsX, y = obsY, ntree = ntree, mtry = mtry, :\n",
      "\"The response has five or fewer unique values.  Are you sure you want to do regression?\""
     ]
    },
    {
     "name": "stdout",
     "output_type": "stream",
     "text": [
      "done!\n",
      "    estimated error(s): 72.87644 0 0 0 0 0.1855528 58.13064 166.2859 0 177.4321 \n",
      "    difference(s): 3.382899e-06 \n",
      "    time: 0.2 seconds\n",
      "\n",
      "  missForest iteration 2 in progress..."
     ]
    },
    {
     "name": "stderr",
     "output_type": "stream",
     "text": [
      "Warning message in randomForest.default(x = obsX, y = obsY, ntree = ntree, mtry = mtry, :\n",
      "\"The response has five or fewer unique values.  Are you sure you want to do regression?\""
     ]
    },
    {
     "name": "stdout",
     "output_type": "stream",
     "text": [
      "done!\n",
      "    estimated error(s): 72.81263 0 0 0 0 0.1812231 60.45623 162.6621 0 175.1857 \n",
      "    difference(s): 1.343952e-07 \n",
      "    time: 0.19 seconds\n",
      "\n",
      "  missForest iteration 3 in progress..."
     ]
    },
    {
     "name": "stderr",
     "output_type": "stream",
     "text": [
      "Warning message in randomForest.default(x = obsX, y = obsY, ntree = ntree, mtry = mtry, :\n",
      "\"The response has five or fewer unique values.  Are you sure you want to do regression?\""
     ]
    },
    {
     "name": "stdout",
     "output_type": "stream",
     "text": [
      "done!\n",
      "    estimated error(s): 75.8454 0 0 0 0 0.1789423 60.66078 165.7202 0 178.7088 \n",
      "    difference(s): 2.378586e-07 \n",
      "    time: 0.2 seconds\n",
      "\n"
     ]
    },
    {
     "data": {
      "text/html": [
       "<dl class=dl-horizontal>\n",
       "\t<dt>MSE</dt>\n",
       "\t\t<dd>72.8126263386755</dd>\n",
       "\t<dt>MSE</dt>\n",
       "\t\t<dd>0</dd>\n",
       "\t<dt>MSE</dt>\n",
       "\t\t<dd>0</dd>\n",
       "\t<dt>MSE</dt>\n",
       "\t\t<dd>0</dd>\n",
       "\t<dt>MSE</dt>\n",
       "\t\t<dd>0</dd>\n",
       "\t<dt>MSE</dt>\n",
       "\t\t<dd>0.181223067573009</dd>\n",
       "\t<dt>MSE</dt>\n",
       "\t\t<dd>60.4562338287639</dd>\n",
       "\t<dt>MSE</dt>\n",
       "\t\t<dd>162.662116343247</dd>\n",
       "\t<dt>MSE</dt>\n",
       "\t\t<dd>0</dd>\n",
       "\t<dt>MSE</dt>\n",
       "\t\t<dd>175.185666958974</dd>\n",
       "</dl>\n"
      ],
      "text/latex": [
       "\\begin{description*}\n",
       "\\item[MSE] 72.8126263386755\n",
       "\\item[MSE] 0\n",
       "\\item[MSE] 0\n",
       "\\item[MSE] 0\n",
       "\\item[MSE] 0\n",
       "\\item[MSE] 0.181223067573009\n",
       "\\item[MSE] 60.4562338287639\n",
       "\\item[MSE] 162.662116343247\n",
       "\\item[MSE] 0\n",
       "\\item[MSE] 175.185666958974\n",
       "\\end{description*}\n"
      ],
      "text/markdown": [
       "MSE\n",
       ":   72.8126263386755MSE\n",
       ":   0MSE\n",
       ":   0MSE\n",
       ":   0MSE\n",
       ":   0MSE\n",
       ":   0.181223067573009MSE\n",
       ":   60.4562338287639MSE\n",
       ":   162.662116343247MSE\n",
       ":   0MSE\n",
       ":   175.185666958974\n",
       "\n"
      ],
      "text/plain": [
       "        MSE         MSE         MSE         MSE         MSE         MSE \n",
       " 72.8126263   0.0000000   0.0000000   0.0000000   0.0000000   0.1812231 \n",
       "        MSE         MSE         MSE         MSE \n",
       " 60.4562338 162.6621163   0.0000000 175.1856670 "
      ]
     },
     "metadata": {},
     "output_type": "display_data"
    }
   ],
   "source": [
    "imp<-missForest(cancer,verbose = TRUE,variablewise = TRUE)\n",
    "imp$OOBerror"
   ]
  },
  {
   "cell_type": "code",
   "execution_count": 60,
   "id": "veterinary-license",
   "metadata": {},
   "outputs": [
    {
     "data": {
      "text/html": [
       "<table>\n",
       "<thead><tr><th scope=col>inst</th><th scope=col>time</th><th scope=col>status</th><th scope=col>age</th><th scope=col>sex</th><th scope=col>ph.ecog</th><th scope=col>ph.karno</th><th scope=col>pat.karno</th><th scope=col>meal.cal</th><th scope=col>wt.loss</th></tr></thead>\n",
       "<tbody>\n",
       "\t<tr><td> 3      </td><td> 306    </td><td>2       </td><td>74      </td><td>1       </td><td>1.00    </td><td> 90     </td><td>100     </td><td>1175.000</td><td>  7.072 </td></tr>\n",
       "\t<tr><td> 3      </td><td> 455    </td><td>2       </td><td>68      </td><td>1       </td><td>0.00    </td><td> 90     </td><td> 90     </td><td>1225.000</td><td> 15.000 </td></tr>\n",
       "\t<tr><td> 3      </td><td>1010    </td><td>1       </td><td>56      </td><td>1       </td><td>0.00    </td><td> 90     </td><td> 90     </td><td> 928.779</td><td> 15.000 </td></tr>\n",
       "\t<tr><td> 5      </td><td> 210    </td><td>2       </td><td>57      </td><td>1       </td><td>1.00    </td><td> 90     </td><td> 60     </td><td>1150.000</td><td> 11.000 </td></tr>\n",
       "\t<tr><td> 1      </td><td> 883    </td><td>2       </td><td>60      </td><td>1       </td><td>0.00    </td><td>100     </td><td> 90     </td><td> 928.779</td><td>  0.000 </td></tr>\n",
       "\t<tr><td>12      </td><td>1022    </td><td>1       </td><td>74      </td><td>1       </td><td>1.00    </td><td> 50     </td><td> 80     </td><td> 513.000</td><td>  0.000 </td></tr>\n",
       "\t<tr><td> 7      </td><td> 310    </td><td>2       </td><td>68      </td><td>2       </td><td>2.00    </td><td> 70     </td><td> 60     </td><td> 384.000</td><td> 10.000 </td></tr>\n",
       "\t<tr><td>11      </td><td> 361    </td><td>2       </td><td>71      </td><td>2       </td><td>2.00    </td><td> 60     </td><td> 80     </td><td> 538.000</td><td>  1.000 </td></tr>\n",
       "\t<tr><td> 1      </td><td> 218    </td><td>2       </td><td>53      </td><td>1       </td><td>1.00    </td><td> 70     </td><td> 80     </td><td> 825.000</td><td> 16.000 </td></tr>\n",
       "\t<tr><td> 7      </td><td> 166    </td><td>2       </td><td>61      </td><td>1       </td><td>2.00    </td><td> 70     </td><td> 70     </td><td> 271.000</td><td> 34.000 </td></tr>\n",
       "\t<tr><td> 6      </td><td> 170    </td><td>2       </td><td>57      </td><td>1       </td><td>1.00    </td><td> 80     </td><td> 80     </td><td>1025.000</td><td> 27.000 </td></tr>\n",
       "\t<tr><td>16      </td><td> 654    </td><td>2       </td><td>68      </td><td>2       </td><td>2.00    </td><td> 70     </td><td> 70     </td><td> 928.779</td><td> 23.000 </td></tr>\n",
       "\t<tr><td>11      </td><td> 728    </td><td>2       </td><td>68      </td><td>2       </td><td>1.00    </td><td> 90     </td><td> 90     </td><td> 928.779</td><td>  5.000 </td></tr>\n",
       "\t<tr><td>21      </td><td>  71    </td><td>2       </td><td>60      </td><td>1       </td><td>2.03    </td><td> 60     </td><td> 70     </td><td>1225.000</td><td> 32.000 </td></tr>\n",
       "\t<tr><td>12      </td><td> 567    </td><td>2       </td><td>57      </td><td>1       </td><td>1.00    </td><td> 80     </td><td> 70     </td><td>2600.000</td><td> 60.000 </td></tr>\n",
       "\t<tr><td> 1      </td><td> 144    </td><td>2       </td><td>67      </td><td>1       </td><td>1.00    </td><td> 80     </td><td> 90     </td><td> 928.779</td><td> 15.000 </td></tr>\n",
       "\t<tr><td>22      </td><td> 613    </td><td>2       </td><td>70      </td><td>1       </td><td>1.00    </td><td> 90     </td><td>100     </td><td>1150.000</td><td> -5.000 </td></tr>\n",
       "\t<tr><td>16      </td><td> 707    </td><td>2       </td><td>63      </td><td>1       </td><td>2.00    </td><td> 50     </td><td> 70     </td><td>1025.000</td><td> 22.000 </td></tr>\n",
       "\t<tr><td> 1      </td><td>  61    </td><td>2       </td><td>56      </td><td>2       </td><td>2.00    </td><td> 60     </td><td> 60     </td><td> 238.000</td><td> 10.000 </td></tr>\n",
       "\t<tr><td>21      </td><td>  88    </td><td>2       </td><td>57      </td><td>1       </td><td>1.00    </td><td> 90     </td><td> 80     </td><td>1175.000</td><td>  9.340 </td></tr>\n",
       "\t<tr><td>11      </td><td> 301    </td><td>2       </td><td>67      </td><td>1       </td><td>1.00    </td><td> 80     </td><td> 80     </td><td>1025.000</td><td> 17.000 </td></tr>\n",
       "\t<tr><td> 6      </td><td>  81    </td><td>2       </td><td>49      </td><td>2       </td><td>0.00    </td><td>100     </td><td> 70     </td><td>1175.000</td><td> -8.000 </td></tr>\n",
       "\t<tr><td>11      </td><td> 624    </td><td>2       </td><td>50      </td><td>1       </td><td>1.00    </td><td> 70     </td><td> 80     </td><td> 928.779</td><td> 16.000 </td></tr>\n",
       "\t<tr><td>15      </td><td> 371    </td><td>2       </td><td>58      </td><td>1       </td><td>0.00    </td><td> 90     </td><td>100     </td><td> 975.000</td><td> 13.000 </td></tr>\n",
       "\t<tr><td>12      </td><td> 394    </td><td>2       </td><td>72      </td><td>1       </td><td>0.00    </td><td> 90     </td><td> 80     </td><td> 928.779</td><td>  0.000 </td></tr>\n",
       "\t<tr><td>12      </td><td> 520    </td><td>2       </td><td>70      </td><td>2       </td><td>1.00    </td><td> 90     </td><td> 80     </td><td> 825.000</td><td>  6.000 </td></tr>\n",
       "\t<tr><td> 4      </td><td> 574    </td><td>2       </td><td>60      </td><td>1       </td><td>0.00    </td><td>100     </td><td>100     </td><td>1025.000</td><td>-13.000 </td></tr>\n",
       "\t<tr><td>13      </td><td> 118    </td><td>2       </td><td>70      </td><td>1       </td><td>3.00    </td><td> 60     </td><td> 70     </td><td>1075.000</td><td> 20.000 </td></tr>\n",
       "\t<tr><td>13      </td><td> 390    </td><td>2       </td><td>53      </td><td>1       </td><td>1.00    </td><td> 80     </td><td> 70     </td><td> 875.000</td><td> -7.000 </td></tr>\n",
       "\t<tr><td> 1      </td><td>  12    </td><td>2       </td><td>74      </td><td>1       </td><td>2.00    </td><td> 70     </td><td> 50     </td><td> 305.000</td><td> 20.000 </td></tr>\n",
       "\t<tr><td>...</td><td>...</td><td>...</td><td>...</td><td>...</td><td>...</td><td>...</td><td>...</td><td>...</td><td>...</td></tr>\n",
       "\t<tr><td> 1       </td><td>276      </td><td>1        </td><td>52       </td><td>2        </td><td>0        </td><td>100.0    </td><td> 80      </td><td> 975.000 </td><td>  0.00000</td></tr>\n",
       "\t<tr><td>32       </td><td>135      </td><td>2        </td><td>60       </td><td>1        </td><td>1        </td><td> 90.0    </td><td> 70      </td><td>1275.000 </td><td>  0.00000</td></tr>\n",
       "\t<tr><td>15       </td><td> 79      </td><td>2        </td><td>64       </td><td>2        </td><td>1        </td><td> 90.0    </td><td> 90      </td><td> 488.000 </td><td> 37.00000</td></tr>\n",
       "\t<tr><td>22       </td><td> 59      </td><td>2        </td><td>73       </td><td>1        </td><td>1        </td><td> 60.0    </td><td> 60      </td><td>2200.000 </td><td>  5.00000</td></tr>\n",
       "\t<tr><td>32       </td><td>240      </td><td>1        </td><td>63       </td><td>2        </td><td>0        </td><td> 90.0    </td><td>100      </td><td>1025.000 </td><td>  0.00000</td></tr>\n",
       "\t<tr><td> 3       </td><td>202      </td><td>1        </td><td>50       </td><td>2        </td><td>0        </td><td>100.0    </td><td>100      </td><td> 635.000 </td><td>  1.00000</td></tr>\n",
       "\t<tr><td>26       </td><td>235      </td><td>1        </td><td>63       </td><td>2        </td><td>0        </td><td>100.0    </td><td> 90      </td><td> 413.000 </td><td>  0.00000</td></tr>\n",
       "\t<tr><td>33       </td><td>105      </td><td>2        </td><td>62       </td><td>1        </td><td>2        </td><td> 64.3    </td><td> 70      </td><td> 928.779 </td><td> 15.31286</td></tr>\n",
       "\t<tr><td> 5       </td><td>224      </td><td>1        </td><td>55       </td><td>2        </td><td>0        </td><td> 80.0    </td><td> 90      </td><td> 928.779 </td><td> 23.00000</td></tr>\n",
       "\t<tr><td>13       </td><td>239      </td><td>2        </td><td>50       </td><td>2        </td><td>2        </td><td> 60.0    </td><td> 60      </td><td>1025.000 </td><td> -3.00000</td></tr>\n",
       "\t<tr><td>21       </td><td>237      </td><td>1        </td><td>69       </td><td>1        </td><td>1        </td><td> 80.0    </td><td> 70      </td><td> 928.779 </td><td> 12.32750</td></tr>\n",
       "\t<tr><td>33       </td><td>173      </td><td>1        </td><td>59       </td><td>2        </td><td>1        </td><td> 90.0    </td><td> 80      </td><td> 928.779 </td><td> 10.00000</td></tr>\n",
       "\t<tr><td> 1       </td><td>252      </td><td>1        </td><td>60       </td><td>2        </td><td>0        </td><td>100.0    </td><td> 90      </td><td> 488.000 </td><td> -2.00000</td></tr>\n",
       "\t<tr><td> 6       </td><td>221      </td><td>1        </td><td>67       </td><td>1        </td><td>1        </td><td> 80.0    </td><td> 70      </td><td> 413.000 </td><td> 23.00000</td></tr>\n",
       "\t<tr><td>15       </td><td>185      </td><td>1        </td><td>69       </td><td>1        </td><td>1        </td><td> 90.0    </td><td> 70      </td><td>1075.000 </td><td>  0.00000</td></tr>\n",
       "\t<tr><td>11       </td><td> 92      </td><td>1        </td><td>64       </td><td>2        </td><td>2        </td><td> 70.0    </td><td>100      </td><td> 928.779 </td><td> 31.00000</td></tr>\n",
       "\t<tr><td>11       </td><td> 13      </td><td>2        </td><td>65       </td><td>1        </td><td>1        </td><td> 80.0    </td><td> 90      </td><td> 928.779 </td><td> 10.00000</td></tr>\n",
       "\t<tr><td>11       </td><td>222      </td><td>1        </td><td>65       </td><td>1        </td><td>1        </td><td> 90.0    </td><td> 70      </td><td>1025.000 </td><td> 18.00000</td></tr>\n",
       "\t<tr><td>13       </td><td>192      </td><td>1        </td><td>41       </td><td>2        </td><td>1        </td><td> 90.0    </td><td> 80      </td><td> 928.779 </td><td>-10.00000</td></tr>\n",
       "\t<tr><td>21       </td><td>183      </td><td>2        </td><td>76       </td><td>1        </td><td>2        </td><td> 80.0    </td><td> 60      </td><td> 825.000 </td><td>  7.00000</td></tr>\n",
       "\t<tr><td>11       </td><td>211      </td><td>1        </td><td>70       </td><td>2        </td><td>2        </td><td> 70.0    </td><td> 30      </td><td> 131.000 </td><td>  3.00000</td></tr>\n",
       "\t<tr><td> 2       </td><td>175      </td><td>1        </td><td>57       </td><td>2        </td><td>0        </td><td> 80.0    </td><td> 80      </td><td> 725.000 </td><td> 11.00000</td></tr>\n",
       "\t<tr><td>22       </td><td>197      </td><td>1        </td><td>67       </td><td>1        </td><td>1        </td><td> 80.0    </td><td> 90      </td><td>1500.000 </td><td>  2.00000</td></tr>\n",
       "\t<tr><td>11       </td><td>203      </td><td>1        </td><td>71       </td><td>2        </td><td>1        </td><td> 80.0    </td><td> 90      </td><td>1025.000 </td><td>  0.00000</td></tr>\n",
       "\t<tr><td> 1       </td><td>116      </td><td>2        </td><td>76       </td><td>1        </td><td>1        </td><td> 80.0    </td><td> 80      </td><td> 928.779 </td><td>  0.00000</td></tr>\n",
       "\t<tr><td> 1       </td><td>188      </td><td>1        </td><td>77       </td><td>1        </td><td>1        </td><td> 80.0    </td><td> 60      </td><td> 928.779 </td><td>  3.00000</td></tr>\n",
       "\t<tr><td>13       </td><td>191      </td><td>1        </td><td>39       </td><td>1        </td><td>0        </td><td> 90.0    </td><td> 90      </td><td>2350.000 </td><td> -5.00000</td></tr>\n",
       "\t<tr><td>32       </td><td>105      </td><td>1        </td><td>75       </td><td>2        </td><td>2        </td><td> 60.0    </td><td> 70      </td><td>1025.000 </td><td>  5.00000</td></tr>\n",
       "\t<tr><td> 6       </td><td>174      </td><td>1        </td><td>66       </td><td>1        </td><td>1        </td><td> 90.0    </td><td>100      </td><td>1075.000 </td><td>  1.00000</td></tr>\n",
       "\t<tr><td>22       </td><td>177      </td><td>1        </td><td>58       </td><td>2        </td><td>1        </td><td> 80.0    </td><td> 90      </td><td>1060.000 </td><td>  0.00000</td></tr>\n",
       "</tbody>\n",
       "</table>\n"
      ],
      "text/latex": [
       "\\begin{tabular}{r|llllllllll}\n",
       " inst & time & status & age & sex & ph.ecog & ph.karno & pat.karno & meal.cal & wt.loss\\\\\n",
       "\\hline\n",
       "\t  3       &  306     & 2        & 74       & 1        & 1.00     &  90      & 100      & 1175.000 &   7.072 \\\\\n",
       "\t  3       &  455     & 2        & 68       & 1        & 0.00     &  90      &  90      & 1225.000 &  15.000 \\\\\n",
       "\t  3       & 1010     & 1        & 56       & 1        & 0.00     &  90      &  90      &  928.779 &  15.000 \\\\\n",
       "\t  5       &  210     & 2        & 57       & 1        & 1.00     &  90      &  60      & 1150.000 &  11.000 \\\\\n",
       "\t  1       &  883     & 2        & 60       & 1        & 0.00     & 100      &  90      &  928.779 &   0.000 \\\\\n",
       "\t 12       & 1022     & 1        & 74       & 1        & 1.00     &  50      &  80      &  513.000 &   0.000 \\\\\n",
       "\t  7       &  310     & 2        & 68       & 2        & 2.00     &  70      &  60      &  384.000 &  10.000 \\\\\n",
       "\t 11       &  361     & 2        & 71       & 2        & 2.00     &  60      &  80      &  538.000 &   1.000 \\\\\n",
       "\t  1       &  218     & 2        & 53       & 1        & 1.00     &  70      &  80      &  825.000 &  16.000 \\\\\n",
       "\t  7       &  166     & 2        & 61       & 1        & 2.00     &  70      &  70      &  271.000 &  34.000 \\\\\n",
       "\t  6       &  170     & 2        & 57       & 1        & 1.00     &  80      &  80      & 1025.000 &  27.000 \\\\\n",
       "\t 16       &  654     & 2        & 68       & 2        & 2.00     &  70      &  70      &  928.779 &  23.000 \\\\\n",
       "\t 11       &  728     & 2        & 68       & 2        & 1.00     &  90      &  90      &  928.779 &   5.000 \\\\\n",
       "\t 21       &   71     & 2        & 60       & 1        & 2.03     &  60      &  70      & 1225.000 &  32.000 \\\\\n",
       "\t 12       &  567     & 2        & 57       & 1        & 1.00     &  80      &  70      & 2600.000 &  60.000 \\\\\n",
       "\t  1       &  144     & 2        & 67       & 1        & 1.00     &  80      &  90      &  928.779 &  15.000 \\\\\n",
       "\t 22       &  613     & 2        & 70       & 1        & 1.00     &  90      & 100      & 1150.000 &  -5.000 \\\\\n",
       "\t 16       &  707     & 2        & 63       & 1        & 2.00     &  50      &  70      & 1025.000 &  22.000 \\\\\n",
       "\t  1       &   61     & 2        & 56       & 2        & 2.00     &  60      &  60      &  238.000 &  10.000 \\\\\n",
       "\t 21       &   88     & 2        & 57       & 1        & 1.00     &  90      &  80      & 1175.000 &   9.340 \\\\\n",
       "\t 11       &  301     & 2        & 67       & 1        & 1.00     &  80      &  80      & 1025.000 &  17.000 \\\\\n",
       "\t  6       &   81     & 2        & 49       & 2        & 0.00     & 100      &  70      & 1175.000 &  -8.000 \\\\\n",
       "\t 11       &  624     & 2        & 50       & 1        & 1.00     &  70      &  80      &  928.779 &  16.000 \\\\\n",
       "\t 15       &  371     & 2        & 58       & 1        & 0.00     &  90      & 100      &  975.000 &  13.000 \\\\\n",
       "\t 12       &  394     & 2        & 72       & 1        & 0.00     &  90      &  80      &  928.779 &   0.000 \\\\\n",
       "\t 12       &  520     & 2        & 70       & 2        & 1.00     &  90      &  80      &  825.000 &   6.000 \\\\\n",
       "\t  4       &  574     & 2        & 60       & 1        & 0.00     & 100      & 100      & 1025.000 & -13.000 \\\\\n",
       "\t 13       &  118     & 2        & 70       & 1        & 3.00     &  60      &  70      & 1075.000 &  20.000 \\\\\n",
       "\t 13       &  390     & 2        & 53       & 1        & 1.00     &  80      &  70      &  875.000 &  -7.000 \\\\\n",
       "\t  1       &   12     & 2        & 74       & 1        & 2.00     &  70      &  50      &  305.000 &  20.000 \\\\\n",
       "\t ... & ... & ... & ... & ... & ... & ... & ... & ... & ...\\\\\n",
       "\t  1        & 276       & 1         & 52        & 2         & 0         & 100.0     &  80       &  975.000  &   0.00000\\\\\n",
       "\t 32        & 135       & 2         & 60        & 1         & 1         &  90.0     &  70       & 1275.000  &   0.00000\\\\\n",
       "\t 15        &  79       & 2         & 64        & 2         & 1         &  90.0     &  90       &  488.000  &  37.00000\\\\\n",
       "\t 22        &  59       & 2         & 73        & 1         & 1         &  60.0     &  60       & 2200.000  &   5.00000\\\\\n",
       "\t 32        & 240       & 1         & 63        & 2         & 0         &  90.0     & 100       & 1025.000  &   0.00000\\\\\n",
       "\t  3        & 202       & 1         & 50        & 2         & 0         & 100.0     & 100       &  635.000  &   1.00000\\\\\n",
       "\t 26        & 235       & 1         & 63        & 2         & 0         & 100.0     &  90       &  413.000  &   0.00000\\\\\n",
       "\t 33        & 105       & 2         & 62        & 1         & 2         &  64.3     &  70       &  928.779  &  15.31286\\\\\n",
       "\t  5        & 224       & 1         & 55        & 2         & 0         &  80.0     &  90       &  928.779  &  23.00000\\\\\n",
       "\t 13        & 239       & 2         & 50        & 2         & 2         &  60.0     &  60       & 1025.000  &  -3.00000\\\\\n",
       "\t 21        & 237       & 1         & 69        & 1         & 1         &  80.0     &  70       &  928.779  &  12.32750\\\\\n",
       "\t 33        & 173       & 1         & 59        & 2         & 1         &  90.0     &  80       &  928.779  &  10.00000\\\\\n",
       "\t  1        & 252       & 1         & 60        & 2         & 0         & 100.0     &  90       &  488.000  &  -2.00000\\\\\n",
       "\t  6        & 221       & 1         & 67        & 1         & 1         &  80.0     &  70       &  413.000  &  23.00000\\\\\n",
       "\t 15        & 185       & 1         & 69        & 1         & 1         &  90.0     &  70       & 1075.000  &   0.00000\\\\\n",
       "\t 11        &  92       & 1         & 64        & 2         & 2         &  70.0     & 100       &  928.779  &  31.00000\\\\\n",
       "\t 11        &  13       & 2         & 65        & 1         & 1         &  80.0     &  90       &  928.779  &  10.00000\\\\\n",
       "\t 11        & 222       & 1         & 65        & 1         & 1         &  90.0     &  70       & 1025.000  &  18.00000\\\\\n",
       "\t 13        & 192       & 1         & 41        & 2         & 1         &  90.0     &  80       &  928.779  & -10.00000\\\\\n",
       "\t 21        & 183       & 2         & 76        & 1         & 2         &  80.0     &  60       &  825.000  &   7.00000\\\\\n",
       "\t 11        & 211       & 1         & 70        & 2         & 2         &  70.0     &  30       &  131.000  &   3.00000\\\\\n",
       "\t  2        & 175       & 1         & 57        & 2         & 0         &  80.0     &  80       &  725.000  &  11.00000\\\\\n",
       "\t 22        & 197       & 1         & 67        & 1         & 1         &  80.0     &  90       & 1500.000  &   2.00000\\\\\n",
       "\t 11        & 203       & 1         & 71        & 2         & 1         &  80.0     &  90       & 1025.000  &   0.00000\\\\\n",
       "\t  1        & 116       & 2         & 76        & 1         & 1         &  80.0     &  80       &  928.779  &   0.00000\\\\\n",
       "\t  1        & 188       & 1         & 77        & 1         & 1         &  80.0     &  60       &  928.779  &   3.00000\\\\\n",
       "\t 13        & 191       & 1         & 39        & 1         & 0         &  90.0     &  90       & 2350.000  &  -5.00000\\\\\n",
       "\t 32        & 105       & 1         & 75        & 2         & 2         &  60.0     &  70       & 1025.000  &   5.00000\\\\\n",
       "\t  6        & 174       & 1         & 66        & 1         & 1         &  90.0     & 100       & 1075.000  &   1.00000\\\\\n",
       "\t 22        & 177       & 1         & 58        & 2         & 1         &  80.0     &  90       & 1060.000  &   0.00000\\\\\n",
       "\\end{tabular}\n"
      ],
      "text/markdown": [
       "\n",
       "| inst | time | status | age | sex | ph.ecog | ph.karno | pat.karno | meal.cal | wt.loss |\n",
       "|---|---|---|---|---|---|---|---|---|---|\n",
       "|  3       |  306     | 2        | 74       | 1        | 1.00     |  90      | 100      | 1175.000 |   7.072  |\n",
       "|  3       |  455     | 2        | 68       | 1        | 0.00     |  90      |  90      | 1225.000 |  15.000  |\n",
       "|  3       | 1010     | 1        | 56       | 1        | 0.00     |  90      |  90      |  928.779 |  15.000  |\n",
       "|  5       |  210     | 2        | 57       | 1        | 1.00     |  90      |  60      | 1150.000 |  11.000  |\n",
       "|  1       |  883     | 2        | 60       | 1        | 0.00     | 100      |  90      |  928.779 |   0.000  |\n",
       "| 12       | 1022     | 1        | 74       | 1        | 1.00     |  50      |  80      |  513.000 |   0.000  |\n",
       "|  7       |  310     | 2        | 68       | 2        | 2.00     |  70      |  60      |  384.000 |  10.000  |\n",
       "| 11       |  361     | 2        | 71       | 2        | 2.00     |  60      |  80      |  538.000 |   1.000  |\n",
       "|  1       |  218     | 2        | 53       | 1        | 1.00     |  70      |  80      |  825.000 |  16.000  |\n",
       "|  7       |  166     | 2        | 61       | 1        | 2.00     |  70      |  70      |  271.000 |  34.000  |\n",
       "|  6       |  170     | 2        | 57       | 1        | 1.00     |  80      |  80      | 1025.000 |  27.000  |\n",
       "| 16       |  654     | 2        | 68       | 2        | 2.00     |  70      |  70      |  928.779 |  23.000  |\n",
       "| 11       |  728     | 2        | 68       | 2        | 1.00     |  90      |  90      |  928.779 |   5.000  |\n",
       "| 21       |   71     | 2        | 60       | 1        | 2.03     |  60      |  70      | 1225.000 |  32.000  |\n",
       "| 12       |  567     | 2        | 57       | 1        | 1.00     |  80      |  70      | 2600.000 |  60.000  |\n",
       "|  1       |  144     | 2        | 67       | 1        | 1.00     |  80      |  90      |  928.779 |  15.000  |\n",
       "| 22       |  613     | 2        | 70       | 1        | 1.00     |  90      | 100      | 1150.000 |  -5.000  |\n",
       "| 16       |  707     | 2        | 63       | 1        | 2.00     |  50      |  70      | 1025.000 |  22.000  |\n",
       "|  1       |   61     | 2        | 56       | 2        | 2.00     |  60      |  60      |  238.000 |  10.000  |\n",
       "| 21       |   88     | 2        | 57       | 1        | 1.00     |  90      |  80      | 1175.000 |   9.340  |\n",
       "| 11       |  301     | 2        | 67       | 1        | 1.00     |  80      |  80      | 1025.000 |  17.000  |\n",
       "|  6       |   81     | 2        | 49       | 2        | 0.00     | 100      |  70      | 1175.000 |  -8.000  |\n",
       "| 11       |  624     | 2        | 50       | 1        | 1.00     |  70      |  80      |  928.779 |  16.000  |\n",
       "| 15       |  371     | 2        | 58       | 1        | 0.00     |  90      | 100      |  975.000 |  13.000  |\n",
       "| 12       |  394     | 2        | 72       | 1        | 0.00     |  90      |  80      |  928.779 |   0.000  |\n",
       "| 12       |  520     | 2        | 70       | 2        | 1.00     |  90      |  80      |  825.000 |   6.000  |\n",
       "|  4       |  574     | 2        | 60       | 1        | 0.00     | 100      | 100      | 1025.000 | -13.000  |\n",
       "| 13       |  118     | 2        | 70       | 1        | 3.00     |  60      |  70      | 1075.000 |  20.000  |\n",
       "| 13       |  390     | 2        | 53       | 1        | 1.00     |  80      |  70      |  875.000 |  -7.000  |\n",
       "|  1       |   12     | 2        | 74       | 1        | 2.00     |  70      |  50      |  305.000 |  20.000  |\n",
       "| ... | ... | ... | ... | ... | ... | ... | ... | ... | ... |\n",
       "|  1        | 276       | 1         | 52        | 2         | 0         | 100.0     |  80       |  975.000  |   0.00000 |\n",
       "| 32        | 135       | 2         | 60        | 1         | 1         |  90.0     |  70       | 1275.000  |   0.00000 |\n",
       "| 15        |  79       | 2         | 64        | 2         | 1         |  90.0     |  90       |  488.000  |  37.00000 |\n",
       "| 22        |  59       | 2         | 73        | 1         | 1         |  60.0     |  60       | 2200.000  |   5.00000 |\n",
       "| 32        | 240       | 1         | 63        | 2         | 0         |  90.0     | 100       | 1025.000  |   0.00000 |\n",
       "|  3        | 202       | 1         | 50        | 2         | 0         | 100.0     | 100       |  635.000  |   1.00000 |\n",
       "| 26        | 235       | 1         | 63        | 2         | 0         | 100.0     |  90       |  413.000  |   0.00000 |\n",
       "| 33        | 105       | 2         | 62        | 1         | 2         |  64.3     |  70       |  928.779  |  15.31286 |\n",
       "|  5        | 224       | 1         | 55        | 2         | 0         |  80.0     |  90       |  928.779  |  23.00000 |\n",
       "| 13        | 239       | 2         | 50        | 2         | 2         |  60.0     |  60       | 1025.000  |  -3.00000 |\n",
       "| 21        | 237       | 1         | 69        | 1         | 1         |  80.0     |  70       |  928.779  |  12.32750 |\n",
       "| 33        | 173       | 1         | 59        | 2         | 1         |  90.0     |  80       |  928.779  |  10.00000 |\n",
       "|  1        | 252       | 1         | 60        | 2         | 0         | 100.0     |  90       |  488.000  |  -2.00000 |\n",
       "|  6        | 221       | 1         | 67        | 1         | 1         |  80.0     |  70       |  413.000  |  23.00000 |\n",
       "| 15        | 185       | 1         | 69        | 1         | 1         |  90.0     |  70       | 1075.000  |   0.00000 |\n",
       "| 11        |  92       | 1         | 64        | 2         | 2         |  70.0     | 100       |  928.779  |  31.00000 |\n",
       "| 11        |  13       | 2         | 65        | 1         | 1         |  80.0     |  90       |  928.779  |  10.00000 |\n",
       "| 11        | 222       | 1         | 65        | 1         | 1         |  90.0     |  70       | 1025.000  |  18.00000 |\n",
       "| 13        | 192       | 1         | 41        | 2         | 1         |  90.0     |  80       |  928.779  | -10.00000 |\n",
       "| 21        | 183       | 2         | 76        | 1         | 2         |  80.0     |  60       |  825.000  |   7.00000 |\n",
       "| 11        | 211       | 1         | 70        | 2         | 2         |  70.0     |  30       |  131.000  |   3.00000 |\n",
       "|  2        | 175       | 1         | 57        | 2         | 0         |  80.0     |  80       |  725.000  |  11.00000 |\n",
       "| 22        | 197       | 1         | 67        | 1         | 1         |  80.0     |  90       | 1500.000  |   2.00000 |\n",
       "| 11        | 203       | 1         | 71        | 2         | 1         |  80.0     |  90       | 1025.000  |   0.00000 |\n",
       "|  1        | 116       | 2         | 76        | 1         | 1         |  80.0     |  80       |  928.779  |   0.00000 |\n",
       "|  1        | 188       | 1         | 77        | 1         | 1         |  80.0     |  60       |  928.779  |   3.00000 |\n",
       "| 13        | 191       | 1         | 39        | 1         | 0         |  90.0     |  90       | 2350.000  |  -5.00000 |\n",
       "| 32        | 105       | 1         | 75        | 2         | 2         |  60.0     |  70       | 1025.000  |   5.00000 |\n",
       "|  6        | 174       | 1         | 66        | 1         | 1         |  90.0     | 100       | 1075.000  |   1.00000 |\n",
       "| 22        | 177       | 1         | 58        | 2         | 1         |  80.0     |  90       | 1060.000  |   0.00000 |\n",
       "\n"
      ],
      "text/plain": [
       "    inst time status age sex ph.ecog ph.karno pat.karno meal.cal wt.loss  \n",
       "1    3    306 2      74  1   1.00     90      100       1175.000   7.072  \n",
       "2    3    455 2      68  1   0.00     90       90       1225.000  15.000  \n",
       "3    3   1010 1      56  1   0.00     90       90        928.779  15.000  \n",
       "4    5    210 2      57  1   1.00     90       60       1150.000  11.000  \n",
       "5    1    883 2      60  1   0.00    100       90        928.779   0.000  \n",
       "6   12   1022 1      74  1   1.00     50       80        513.000   0.000  \n",
       "7    7    310 2      68  2   2.00     70       60        384.000  10.000  \n",
       "8   11    361 2      71  2   2.00     60       80        538.000   1.000  \n",
       "9    1    218 2      53  1   1.00     70       80        825.000  16.000  \n",
       "10   7    166 2      61  1   2.00     70       70        271.000  34.000  \n",
       "11   6    170 2      57  1   1.00     80       80       1025.000  27.000  \n",
       "12  16    654 2      68  2   2.00     70       70        928.779  23.000  \n",
       "13  11    728 2      68  2   1.00     90       90        928.779   5.000  \n",
       "14  21     71 2      60  1   2.03     60       70       1225.000  32.000  \n",
       "15  12    567 2      57  1   1.00     80       70       2600.000  60.000  \n",
       "16   1    144 2      67  1   1.00     80       90        928.779  15.000  \n",
       "17  22    613 2      70  1   1.00     90      100       1150.000  -5.000  \n",
       "18  16    707 2      63  1   2.00     50       70       1025.000  22.000  \n",
       "19   1     61 2      56  2   2.00     60       60        238.000  10.000  \n",
       "20  21     88 2      57  1   1.00     90       80       1175.000   9.340  \n",
       "21  11    301 2      67  1   1.00     80       80       1025.000  17.000  \n",
       "22   6     81 2      49  2   0.00    100       70       1175.000  -8.000  \n",
       "23  11    624 2      50  1   1.00     70       80        928.779  16.000  \n",
       "24  15    371 2      58  1   0.00     90      100        975.000  13.000  \n",
       "25  12    394 2      72  1   0.00     90       80        928.779   0.000  \n",
       "26  12    520 2      70  2   1.00     90       80        825.000   6.000  \n",
       "27   4    574 2      60  1   0.00    100      100       1025.000 -13.000  \n",
       "28  13    118 2      70  1   3.00     60       70       1075.000  20.000  \n",
       "29  13    390 2      53  1   1.00     80       70        875.000  -7.000  \n",
       "30   1     12 2      74  1   2.00     70       50        305.000  20.000  \n",
       "... ...  ...  ...    ... ... ...     ...      ...       ...      ...      \n",
       "199  1   276  1      52  2   0       100.0     80        975.000   0.00000\n",
       "200 32   135  2      60  1   1        90.0     70       1275.000   0.00000\n",
       "201 15    79  2      64  2   1        90.0     90        488.000  37.00000\n",
       "202 22    59  2      73  1   1        60.0     60       2200.000   5.00000\n",
       "203 32   240  1      63  2   0        90.0    100       1025.000   0.00000\n",
       "204  3   202  1      50  2   0       100.0    100        635.000   1.00000\n",
       "205 26   235  1      63  2   0       100.0     90        413.000   0.00000\n",
       "206 33   105  2      62  1   2        64.3     70        928.779  15.31286\n",
       "207  5   224  1      55  2   0        80.0     90        928.779  23.00000\n",
       "208 13   239  2      50  2   2        60.0     60       1025.000  -3.00000\n",
       "209 21   237  1      69  1   1        80.0     70        928.779  12.32750\n",
       "210 33   173  1      59  2   1        90.0     80        928.779  10.00000\n",
       "211  1   252  1      60  2   0       100.0     90        488.000  -2.00000\n",
       "212  6   221  1      67  1   1        80.0     70        413.000  23.00000\n",
       "213 15   185  1      69  1   1        90.0     70       1075.000   0.00000\n",
       "214 11    92  1      64  2   2        70.0    100        928.779  31.00000\n",
       "215 11    13  2      65  1   1        80.0     90        928.779  10.00000\n",
       "216 11   222  1      65  1   1        90.0     70       1025.000  18.00000\n",
       "217 13   192  1      41  2   1        90.0     80        928.779 -10.00000\n",
       "218 21   183  2      76  1   2        80.0     60        825.000   7.00000\n",
       "219 11   211  1      70  2   2        70.0     30        131.000   3.00000\n",
       "220  2   175  1      57  2   0        80.0     80        725.000  11.00000\n",
       "221 22   197  1      67  1   1        80.0     90       1500.000   2.00000\n",
       "222 11   203  1      71  2   1        80.0     90       1025.000   0.00000\n",
       "223  1   116  2      76  1   1        80.0     80        928.779   0.00000\n",
       "224  1   188  1      77  1   1        80.0     60        928.779   3.00000\n",
       "225 13   191  1      39  1   0        90.0     90       2350.000  -5.00000\n",
       "226 32   105  1      75  2   2        60.0     70       1025.000   5.00000\n",
       "227  6   174  1      66  1   1        90.0    100       1075.000   1.00000\n",
       "228 22   177  1      58  2   1        80.0     90       1060.000   0.00000"
      ]
     },
     "metadata": {},
     "output_type": "display_data"
    }
   ],
   "source": [
    "dflimpio<-as.data.frame(imp$ximp)\n",
    "dflimpio"
   ]
  }
 ],
 "metadata": {
  "kernelspec": {
   "display_name": "R",
   "language": "R",
   "name": "ir"
  },
  "language_info": {
   "codemirror_mode": "r",
   "file_extension": ".r",
   "mimetype": "text/x-r-source",
   "name": "R",
   "pygments_lexer": "r",
   "version": "3.6.1"
  }
 },
 "nbformat": 4,
 "nbformat_minor": 5
}
