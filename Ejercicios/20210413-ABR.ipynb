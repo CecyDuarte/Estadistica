{
 "cells": [
  {
   "cell_type": "markdown",
   "id": "interested-banner",
   "metadata": {},
   "source": [
    "# Introducción a análisis de Supervivencia."
   ]
  },
  {
   "cell_type": "code",
   "execution_count": 1,
   "id": "strange-quick",
   "metadata": {},
   "outputs": [
    {
     "name": "stdout",
     "output_type": "stream",
     "text": [
      "package 'survival' successfully unpacked and MD5 sums checked\n",
      "\n",
      "The downloaded binary packages are in\n",
      "\tC:\\Users\\almac\\AppData\\Local\\Temp\\RtmpIbtvgd\\downloaded_packages\n"
     ]
    }
   ],
   "source": [
    "install.packages(\"survival\")"
   ]
  },
  {
   "cell_type": "code",
   "execution_count": 2,
   "id": "bridal-particle",
   "metadata": {},
   "outputs": [
    {
     "name": "stderr",
     "output_type": "stream",
     "text": [
      "Warning message:\n",
      "\"package 'survival' was built under R version 3.6.3\""
     ]
    }
   ],
   "source": [
    "library(survival)"
   ]
  },
  {
   "cell_type": "markdown",
   "id": "common-current",
   "metadata": {},
   "source": [
    "**Objetos tipo surv**"
   ]
  },
  {
   "cell_type": "code",
   "execution_count": 4,
   "id": "funded-ecuador",
   "metadata": {},
   "outputs": [
    {
     "data": {
      "text/plain": [
       "[1] 75"
      ]
     },
     "metadata": {},
     "output_type": "display_data"
    }
   ],
   "source": [
    "Surv(75,1)"
   ]
  },
  {
   "cell_type": "markdown",
   "id": "fifth-compatibility",
   "metadata": {},
   "source": [
    "items con falla, es decir que, falleció"
   ]
  },
  {
   "cell_type": "code",
   "execution_count": 5,
   "id": "intellectual-venue",
   "metadata": {},
   "outputs": [
    {
     "data": {
      "text/plain": [
       "[1] 55+"
      ]
     },
     "metadata": {},
     "output_type": "display_data"
    }
   ],
   "source": [
    "Surv(55,0)"
   ]
  },
  {
   "cell_type": "markdown",
   "id": "worst-officer",
   "metadata": {},
   "source": [
    "items con censura, tiene 55 o más, no lo sé"
   ]
  },
  {
   "cell_type": "code",
   "execution_count": 7,
   "id": "wicked-mercury",
   "metadata": {},
   "outputs": [],
   "source": [
    "tiempos<-c(2,1,1,2,4,5,6)"
   ]
  },
  {
   "cell_type": "code",
   "execution_count": 8,
   "id": "governing-murray",
   "metadata": {},
   "outputs": [],
   "source": [
    "evento<-c(0,0,1,1,0,1,0)"
   ]
  },
  {
   "cell_type": "code",
   "execution_count": 10,
   "id": "existing-testimony",
   "metadata": {},
   "outputs": [
    {
     "data": {
      "text/plain": [
       "[1] 2+ 1+ 1  2  4+ 5  6+"
      ]
     },
     "metadata": {},
     "output_type": "display_data"
    }
   ],
   "source": [
    "e1<-Surv(tiempos, evento)\n",
    "e1"
   ]
  },
  {
   "cell_type": "code",
   "execution_count": 11,
   "id": "included-longitude",
   "metadata": {},
   "outputs": [],
   "source": [
    "event<-c(\"si\", \"si\", \"no\",\"si\", \"si\", \"no\", \"no\")"
   ]
  },
  {
   "cell_type": "code",
   "execution_count": 12,
   "id": "fifty-concentration",
   "metadata": {},
   "outputs": [
    {
     "data": {
      "text/plain": [
       "[1] 2  1  1+ 2  4  5+ 6+"
      ]
     },
     "metadata": {},
     "output_type": "display_data"
    }
   ],
   "source": [
    "e2<-Surv(tiempos, event==\"si\")\n",
    "e2"
   ]
  },
  {
   "cell_type": "code",
   "execution_count": 13,
   "id": "equal-modification",
   "metadata": {},
   "outputs": [],
   "source": [
    "help(survfit)"
   ]
  },
  {
   "cell_type": "markdown",
   "id": "possible-resistance",
   "metadata": {},
   "source": [
    "estimación de Kaplan Meier"
   ]
  },
  {
   "cell_type": "code",
   "execution_count": 16,
   "id": "appointed-bradley",
   "metadata": {},
   "outputs": [
    {
     "data": {
      "text/plain": [
       "Call: survfit(formula = e1 ~ 1)\n",
       "\n",
       "      n  events  median 0.95LCL 0.95UCL \n",
       "      7       3       5       2      NA "
      ]
     },
     "metadata": {},
     "output_type": "display_data"
    }
   ],
   "source": [
    "KM.e1<-survfit(e1~1)#hace todas las estimaciones sin discriminante\n",
    "KM.e1"
   ]
  },
  {
   "cell_type": "code",
   "execution_count": 15,
   "id": "spoken-fireplace",
   "metadata": {},
   "outputs": [
    {
     "data": {
      "text/plain": [
       "Call: survfit(formula = e1 ~ 1)\n",
       "\n",
       " time n.risk n.event survival std.err lower 95% CI upper 95% CI\n",
       "    1      7       1    0.857   0.132       0.6334            1\n",
       "    2      5       1    0.686   0.186       0.4026            1\n",
       "    5      2       1    0.343   0.260       0.0777            1"
      ]
     },
     "metadata": {},
     "output_type": "display_data"
    }
   ],
   "source": [
    "summary(KM.e1)"
   ]
  },
  {
   "cell_type": "code",
   "execution_count": 17,
   "id": "humanitarian-numbers",
   "metadata": {},
   "outputs": [
    {
     "data": {
      "text/plain": [
       "[1] 1  1+ 2  2+ 4+ 5  6+"
      ]
     },
     "metadata": {},
     "output_type": "display_data"
    }
   ],
   "source": [
    "sort(e1) #ordenar datos"
   ]
  },
  {
   "cell_type": "code",
   "execution_count": 18,
   "id": "other-jewel",
   "metadata": {},
   "outputs": [
    {
     "data": {
      "image/png": "[encoded data removed]",
      "text/plain": [
       "plot without title"
      ]
     },
     "metadata": {},
     "output_type": "display_data"
    }
   ],
   "source": [
    "plot(KM.e1)"
   ]
  },
  {
   "cell_type": "code",
   "execution_count": null,
   "id": "documented-density",
   "metadata": {},
   "outputs": [],
   "source": []
  }
 ],
 "metadata": {
  "kernelspec": {
   "display_name": "R",
   "language": "R",
   "name": "ir"
  },
  "language_info": {
   "codemirror_mode": "r",
   "file_extension": ".r",
   "mimetype": "text/x-r-source",
   "name": "R",
   "pygments_lexer": "r",
   "version": "3.6.1"
  }
 },
 "nbformat": 4,
 "nbformat_minor": 5
}
