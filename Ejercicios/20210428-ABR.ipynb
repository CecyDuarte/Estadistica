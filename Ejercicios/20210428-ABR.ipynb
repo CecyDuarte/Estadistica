{
 "cells": [
  {
   "cell_type": "code",
   "execution_count": 1,
   "metadata": {},
   "outputs": [
    {
     "name": "stderr",
     "output_type": "stream",
     "text": [
      "Warning message:\n",
      "\"package 'survival' was built under R version 4.0.5\"\n"
     ]
    }
   ],
   "source": [
    "library(survival)"
   ]
  },
  {
   "cell_type": "code",
   "execution_count": 2,
   "metadata": {},
   "outputs": [],
   "source": [
    "data(cancer)"
   ]
  },
  {
   "cell_type": "markdown",
   "metadata": {},
   "source": [
    "### Limpieza de datos"
   ]
  },
  {
   "cell_type": "code",
   "execution_count": 3,
   "metadata": {},
   "outputs": [
    {
     "data": {
      "text/html": [
       "<table>\n",
       "<caption>A data.frame: 228 × 10</caption>\n",
       "<thead>\n",
       "\t<tr><th></th><th scope=col>inst</th><th scope=col>time</th><th scope=col>status</th><th scope=col>age</th><th scope=col>sex</th><th scope=col>ph.ecog</th><th scope=col>ph.karno</th><th scope=col>pat.karno</th><th scope=col>meal.cal</th><th scope=col>wt.loss</th></tr>\n",
       "\t<tr><th></th><th scope=col>&lt;dbl&gt;</th><th scope=col>&lt;dbl&gt;</th><th scope=col>&lt;dbl&gt;</th><th scope=col>&lt;dbl&gt;</th><th scope=col>&lt;dbl&gt;</th><th scope=col>&lt;dbl&gt;</th><th scope=col>&lt;dbl&gt;</th><th scope=col>&lt;dbl&gt;</th><th scope=col>&lt;dbl&gt;</th><th scope=col>&lt;dbl&gt;</th></tr>\n",
       "</thead>\n",
       "<tbody>\n",
       "\t<tr><th scope=row>1</th><td> 3</td><td> 306</td><td>2</td><td>74</td><td>1</td><td> 1</td><td> 90</td><td>100</td><td>1175</td><td> NA</td></tr>\n",
       "\t<tr><th scope=row>2</th><td> 3</td><td> 455</td><td>2</td><td>68</td><td>1</td><td> 0</td><td> 90</td><td> 90</td><td>1225</td><td> 15</td></tr>\n",
       "\t<tr><th scope=row>3</th><td> 3</td><td>1010</td><td>1</td><td>56</td><td>1</td><td> 0</td><td> 90</td><td> 90</td><td>  NA</td><td> 15</td></tr>\n",
       "\t<tr><th scope=row>4</th><td> 5</td><td> 210</td><td>2</td><td>57</td><td>1</td><td> 1</td><td> 90</td><td> 60</td><td>1150</td><td> 11</td></tr>\n",
       "\t<tr><th scope=row>5</th><td> 1</td><td> 883</td><td>2</td><td>60</td><td>1</td><td> 0</td><td>100</td><td> 90</td><td>  NA</td><td>  0</td></tr>\n",
       "\t<tr><th scope=row>6</th><td>12</td><td>1022</td><td>1</td><td>74</td><td>1</td><td> 1</td><td> 50</td><td> 80</td><td> 513</td><td>  0</td></tr>\n",
       "\t<tr><th scope=row>7</th><td> 7</td><td> 310</td><td>2</td><td>68</td><td>2</td><td> 2</td><td> 70</td><td> 60</td><td> 384</td><td> 10</td></tr>\n",
       "\t<tr><th scope=row>8</th><td>11</td><td> 361</td><td>2</td><td>71</td><td>2</td><td> 2</td><td> 60</td><td> 80</td><td> 538</td><td>  1</td></tr>\n",
       "\t<tr><th scope=row>9</th><td> 1</td><td> 218</td><td>2</td><td>53</td><td>1</td><td> 1</td><td> 70</td><td> 80</td><td> 825</td><td> 16</td></tr>\n",
       "\t<tr><th scope=row>10</th><td> 7</td><td> 166</td><td>2</td><td>61</td><td>1</td><td> 2</td><td> 70</td><td> 70</td><td> 271</td><td> 34</td></tr>\n",
       "\t<tr><th scope=row>11</th><td> 6</td><td> 170</td><td>2</td><td>57</td><td>1</td><td> 1</td><td> 80</td><td> 80</td><td>1025</td><td> 27</td></tr>\n",
       "\t<tr><th scope=row>12</th><td>16</td><td> 654</td><td>2</td><td>68</td><td>2</td><td> 2</td><td> 70</td><td> 70</td><td>  NA</td><td> 23</td></tr>\n",
       "\t<tr><th scope=row>13</th><td>11</td><td> 728</td><td>2</td><td>68</td><td>2</td><td> 1</td><td> 90</td><td> 90</td><td>  NA</td><td>  5</td></tr>\n",
       "\t<tr><th scope=row>14</th><td>21</td><td>  71</td><td>2</td><td>60</td><td>1</td><td>NA</td><td> 60</td><td> 70</td><td>1225</td><td> 32</td></tr>\n",
       "\t<tr><th scope=row>15</th><td>12</td><td> 567</td><td>2</td><td>57</td><td>1</td><td> 1</td><td> 80</td><td> 70</td><td>2600</td><td> 60</td></tr>\n",
       "\t<tr><th scope=row>16</th><td> 1</td><td> 144</td><td>2</td><td>67</td><td>1</td><td> 1</td><td> 80</td><td> 90</td><td>  NA</td><td> 15</td></tr>\n",
       "\t<tr><th scope=row>17</th><td>22</td><td> 613</td><td>2</td><td>70</td><td>1</td><td> 1</td><td> 90</td><td>100</td><td>1150</td><td> -5</td></tr>\n",
       "\t<tr><th scope=row>18</th><td>16</td><td> 707</td><td>2</td><td>63</td><td>1</td><td> 2</td><td> 50</td><td> 70</td><td>1025</td><td> 22</td></tr>\n",
       "\t<tr><th scope=row>19</th><td> 1</td><td>  61</td><td>2</td><td>56</td><td>2</td><td> 2</td><td> 60</td><td> 60</td><td> 238</td><td> 10</td></tr>\n",
       "\t<tr><th scope=row>20</th><td>21</td><td>  88</td><td>2</td><td>57</td><td>1</td><td> 1</td><td> 90</td><td> 80</td><td>1175</td><td> NA</td></tr>\n",
       "\t<tr><th scope=row>21</th><td>11</td><td> 301</td><td>2</td><td>67</td><td>1</td><td> 1</td><td> 80</td><td> 80</td><td>1025</td><td> 17</td></tr>\n",
       "\t<tr><th scope=row>22</th><td> 6</td><td>  81</td><td>2</td><td>49</td><td>2</td><td> 0</td><td>100</td><td> 70</td><td>1175</td><td> -8</td></tr>\n",
       "\t<tr><th scope=row>23</th><td>11</td><td> 624</td><td>2</td><td>50</td><td>1</td><td> 1</td><td> 70</td><td> 80</td><td>  NA</td><td> 16</td></tr>\n",
       "\t<tr><th scope=row>24</th><td>15</td><td> 371</td><td>2</td><td>58</td><td>1</td><td> 0</td><td> 90</td><td>100</td><td> 975</td><td> 13</td></tr>\n",
       "\t<tr><th scope=row>25</th><td>12</td><td> 394</td><td>2</td><td>72</td><td>1</td><td> 0</td><td> 90</td><td> 80</td><td>  NA</td><td>  0</td></tr>\n",
       "\t<tr><th scope=row>26</th><td>12</td><td> 520</td><td>2</td><td>70</td><td>2</td><td> 1</td><td> 90</td><td> 80</td><td> 825</td><td>  6</td></tr>\n",
       "\t<tr><th scope=row>27</th><td> 4</td><td> 574</td><td>2</td><td>60</td><td>1</td><td> 0</td><td>100</td><td>100</td><td>1025</td><td>-13</td></tr>\n",
       "\t<tr><th scope=row>28</th><td>13</td><td> 118</td><td>2</td><td>70</td><td>1</td><td> 3</td><td> 60</td><td> 70</td><td>1075</td><td> 20</td></tr>\n",
       "\t<tr><th scope=row>29</th><td>13</td><td> 390</td><td>2</td><td>53</td><td>1</td><td> 1</td><td> 80</td><td> 70</td><td> 875</td><td> -7</td></tr>\n",
       "\t<tr><th scope=row>30</th><td> 1</td><td>  12</td><td>2</td><td>74</td><td>1</td><td> 2</td><td> 70</td><td> 50</td><td> 305</td><td> 20</td></tr>\n",
       "\t<tr><th scope=row>...</th><td>...</td><td>...</td><td>...</td><td>...</td><td>...</td><td>...</td><td>...</td><td>...</td><td>...</td><td>...</td></tr>\n",
       "\t<tr><th scope=row>199</th><td> 1</td><td>276</td><td>1</td><td>52</td><td>2</td><td>0</td><td>100</td><td> 80</td><td> 975</td><td>  0</td></tr>\n",
       "\t<tr><th scope=row>200</th><td>32</td><td>135</td><td>2</td><td>60</td><td>1</td><td>1</td><td> 90</td><td> 70</td><td>1275</td><td>  0</td></tr>\n",
       "\t<tr><th scope=row>201</th><td>15</td><td> 79</td><td>2</td><td>64</td><td>2</td><td>1</td><td> 90</td><td> 90</td><td> 488</td><td> 37</td></tr>\n",
       "\t<tr><th scope=row>202</th><td>22</td><td> 59</td><td>2</td><td>73</td><td>1</td><td>1</td><td> 60</td><td> 60</td><td>2200</td><td>  5</td></tr>\n",
       "\t<tr><th scope=row>203</th><td>32</td><td>240</td><td>1</td><td>63</td><td>2</td><td>0</td><td> 90</td><td>100</td><td>1025</td><td>  0</td></tr>\n",
       "\t<tr><th scope=row>204</th><td> 3</td><td>202</td><td>1</td><td>50</td><td>2</td><td>0</td><td>100</td><td>100</td><td> 635</td><td>  1</td></tr>\n",
       "\t<tr><th scope=row>205</th><td>26</td><td>235</td><td>1</td><td>63</td><td>2</td><td>0</td><td>100</td><td> 90</td><td> 413</td><td>  0</td></tr>\n",
       "\t<tr><th scope=row>206</th><td>33</td><td>105</td><td>2</td><td>62</td><td>1</td><td>2</td><td> NA</td><td> 70</td><td>  NA</td><td> NA</td></tr>\n",
       "\t<tr><th scope=row>207</th><td> 5</td><td>224</td><td>1</td><td>55</td><td>2</td><td>0</td><td> 80</td><td> 90</td><td>  NA</td><td> 23</td></tr>\n",
       "\t<tr><th scope=row>208</th><td>13</td><td>239</td><td>2</td><td>50</td><td>2</td><td>2</td><td> 60</td><td> 60</td><td>1025</td><td> -3</td></tr>\n",
       "\t<tr><th scope=row>209</th><td>21</td><td>237</td><td>1</td><td>69</td><td>1</td><td>1</td><td> 80</td><td> 70</td><td>  NA</td><td> NA</td></tr>\n",
       "\t<tr><th scope=row>210</th><td>33</td><td>173</td><td>1</td><td>59</td><td>2</td><td>1</td><td> 90</td><td> 80</td><td>  NA</td><td> 10</td></tr>\n",
       "\t<tr><th scope=row>211</th><td> 1</td><td>252</td><td>1</td><td>60</td><td>2</td><td>0</td><td>100</td><td> 90</td><td> 488</td><td> -2</td></tr>\n",
       "\t<tr><th scope=row>212</th><td> 6</td><td>221</td><td>1</td><td>67</td><td>1</td><td>1</td><td> 80</td><td> 70</td><td> 413</td><td> 23</td></tr>\n",
       "\t<tr><th scope=row>213</th><td>15</td><td>185</td><td>1</td><td>69</td><td>1</td><td>1</td><td> 90</td><td> 70</td><td>1075</td><td>  0</td></tr>\n",
       "\t<tr><th scope=row>214</th><td>11</td><td> 92</td><td>1</td><td>64</td><td>2</td><td>2</td><td> 70</td><td>100</td><td>  NA</td><td> 31</td></tr>\n",
       "\t<tr><th scope=row>215</th><td>11</td><td> 13</td><td>2</td><td>65</td><td>1</td><td>1</td><td> 80</td><td> 90</td><td>  NA</td><td> 10</td></tr>\n",
       "\t<tr><th scope=row>216</th><td>11</td><td>222</td><td>1</td><td>65</td><td>1</td><td>1</td><td> 90</td><td> 70</td><td>1025</td><td> 18</td></tr>\n",
       "\t<tr><th scope=row>217</th><td>13</td><td>192</td><td>1</td><td>41</td><td>2</td><td>1</td><td> 90</td><td> 80</td><td>  NA</td><td>-10</td></tr>\n",
       "\t<tr><th scope=row>218</th><td>21</td><td>183</td><td>2</td><td>76</td><td>1</td><td>2</td><td> 80</td><td> 60</td><td> 825</td><td>  7</td></tr>\n",
       "\t<tr><th scope=row>219</th><td>11</td><td>211</td><td>1</td><td>70</td><td>2</td><td>2</td><td> 70</td><td> 30</td><td> 131</td><td>  3</td></tr>\n",
       "\t<tr><th scope=row>220</th><td> 2</td><td>175</td><td>1</td><td>57</td><td>2</td><td>0</td><td> 80</td><td> 80</td><td> 725</td><td> 11</td></tr>\n",
       "\t<tr><th scope=row>221</th><td>22</td><td>197</td><td>1</td><td>67</td><td>1</td><td>1</td><td> 80</td><td> 90</td><td>1500</td><td>  2</td></tr>\n",
       "\t<tr><th scope=row>222</th><td>11</td><td>203</td><td>1</td><td>71</td><td>2</td><td>1</td><td> 80</td><td> 90</td><td>1025</td><td>  0</td></tr>\n",
       "\t<tr><th scope=row>223</th><td> 1</td><td>116</td><td>2</td><td>76</td><td>1</td><td>1</td><td> 80</td><td> 80</td><td>  NA</td><td>  0</td></tr>\n",
       "\t<tr><th scope=row>224</th><td> 1</td><td>188</td><td>1</td><td>77</td><td>1</td><td>1</td><td> 80</td><td> 60</td><td>  NA</td><td>  3</td></tr>\n",
       "\t<tr><th scope=row>225</th><td>13</td><td>191</td><td>1</td><td>39</td><td>1</td><td>0</td><td> 90</td><td> 90</td><td>2350</td><td> -5</td></tr>\n",
       "\t<tr><th scope=row>226</th><td>32</td><td>105</td><td>1</td><td>75</td><td>2</td><td>2</td><td> 60</td><td> 70</td><td>1025</td><td>  5</td></tr>\n",
       "\t<tr><th scope=row>227</th><td> 6</td><td>174</td><td>1</td><td>66</td><td>1</td><td>1</td><td> 90</td><td>100</td><td>1075</td><td>  1</td></tr>\n",
       "\t<tr><th scope=row>228</th><td>22</td><td>177</td><td>1</td><td>58</td><td>2</td><td>1</td><td> 80</td><td> 90</td><td>1060</td><td>  0</td></tr>\n",
       "</tbody>\n",
       "</table>\n"
      ],
      "text/latex": [
       "A data.frame: 228 × 10\n",
       "\\begin{tabular}{r|llllllllll}\n",
       "  & inst & time & status & age & sex & ph.ecog & ph.karno & pat.karno & meal.cal & wt.loss\\\\\n",
       "  & <dbl> & <dbl> & <dbl> & <dbl> & <dbl> & <dbl> & <dbl> & <dbl> & <dbl> & <dbl>\\\\\n",
       "\\hline\n",
       "\t1 &  3 &  306 & 2 & 74 & 1 &  1 &  90 & 100 & 1175 &  NA\\\\\n",
       "\t2 &  3 &  455 & 2 & 68 & 1 &  0 &  90 &  90 & 1225 &  15\\\\\n",
       "\t3 &  3 & 1010 & 1 & 56 & 1 &  0 &  90 &  90 &   NA &  15\\\\\n",
       "\t4 &  5 &  210 & 2 & 57 & 1 &  1 &  90 &  60 & 1150 &  11\\\\\n",
       "\t5 &  1 &  883 & 2 & 60 & 1 &  0 & 100 &  90 &   NA &   0\\\\\n",
       "\t6 & 12 & 1022 & 1 & 74 & 1 &  1 &  50 &  80 &  513 &   0\\\\\n",
       "\t7 &  7 &  310 & 2 & 68 & 2 &  2 &  70 &  60 &  384 &  10\\\\\n",
       "\t8 & 11 &  361 & 2 & 71 & 2 &  2 &  60 &  80 &  538 &   1\\\\\n",
       "\t9 &  1 &  218 & 2 & 53 & 1 &  1 &  70 &  80 &  825 &  16\\\\\n",
       "\t10 &  7 &  166 & 2 & 61 & 1 &  2 &  70 &  70 &  271 &  34\\\\\n",
       "\t11 &  6 &  170 & 2 & 57 & 1 &  1 &  80 &  80 & 1025 &  27\\\\\n",
       "\t12 & 16 &  654 & 2 & 68 & 2 &  2 &  70 &  70 &   NA &  23\\\\\n",
       "\t13 & 11 &  728 & 2 & 68 & 2 &  1 &  90 &  90 &   NA &   5\\\\\n",
       "\t14 & 21 &   71 & 2 & 60 & 1 & NA &  60 &  70 & 1225 &  32\\\\\n",
       "\t15 & 12 &  567 & 2 & 57 & 1 &  1 &  80 &  70 & 2600 &  60\\\\\n",
       "\t16 &  1 &  144 & 2 & 67 & 1 &  1 &  80 &  90 &   NA &  15\\\\\n",
       "\t17 & 22 &  613 & 2 & 70 & 1 &  1 &  90 & 100 & 1150 &  -5\\\\\n",
       "\t18 & 16 &  707 & 2 & 63 & 1 &  2 &  50 &  70 & 1025 &  22\\\\\n",
       "\t19 &  1 &   61 & 2 & 56 & 2 &  2 &  60 &  60 &  238 &  10\\\\\n",
       "\t20 & 21 &   88 & 2 & 57 & 1 &  1 &  90 &  80 & 1175 &  NA\\\\\n",
       "\t21 & 11 &  301 & 2 & 67 & 1 &  1 &  80 &  80 & 1025 &  17\\\\\n",
       "\t22 &  6 &   81 & 2 & 49 & 2 &  0 & 100 &  70 & 1175 &  -8\\\\\n",
       "\t23 & 11 &  624 & 2 & 50 & 1 &  1 &  70 &  80 &   NA &  16\\\\\n",
       "\t24 & 15 &  371 & 2 & 58 & 1 &  0 &  90 & 100 &  975 &  13\\\\\n",
       "\t25 & 12 &  394 & 2 & 72 & 1 &  0 &  90 &  80 &   NA &   0\\\\\n",
       "\t26 & 12 &  520 & 2 & 70 & 2 &  1 &  90 &  80 &  825 &   6\\\\\n",
       "\t27 &  4 &  574 & 2 & 60 & 1 &  0 & 100 & 100 & 1025 & -13\\\\\n",
       "\t28 & 13 &  118 & 2 & 70 & 1 &  3 &  60 &  70 & 1075 &  20\\\\\n",
       "\t29 & 13 &  390 & 2 & 53 & 1 &  1 &  80 &  70 &  875 &  -7\\\\\n",
       "\t30 &  1 &   12 & 2 & 74 & 1 &  2 &  70 &  50 &  305 &  20\\\\\n",
       "\t... & ... & ... & ... & ... & ... & ... & ... & ... & ... & ...\\\\\n",
       "\t199 &  1 & 276 & 1 & 52 & 2 & 0 & 100 &  80 &  975 &   0\\\\\n",
       "\t200 & 32 & 135 & 2 & 60 & 1 & 1 &  90 &  70 & 1275 &   0\\\\\n",
       "\t201 & 15 &  79 & 2 & 64 & 2 & 1 &  90 &  90 &  488 &  37\\\\\n",
       "\t202 & 22 &  59 & 2 & 73 & 1 & 1 &  60 &  60 & 2200 &   5\\\\\n",
       "\t203 & 32 & 240 & 1 & 63 & 2 & 0 &  90 & 100 & 1025 &   0\\\\\n",
       "\t204 &  3 & 202 & 1 & 50 & 2 & 0 & 100 & 100 &  635 &   1\\\\\n",
       "\t205 & 26 & 235 & 1 & 63 & 2 & 0 & 100 &  90 &  413 &   0\\\\\n",
       "\t206 & 33 & 105 & 2 & 62 & 1 & 2 &  NA &  70 &   NA &  NA\\\\\n",
       "\t207 &  5 & 224 & 1 & 55 & 2 & 0 &  80 &  90 &   NA &  23\\\\\n",
       "\t208 & 13 & 239 & 2 & 50 & 2 & 2 &  60 &  60 & 1025 &  -3\\\\\n",
       "\t209 & 21 & 237 & 1 & 69 & 1 & 1 &  80 &  70 &   NA &  NA\\\\\n",
       "\t210 & 33 & 173 & 1 & 59 & 2 & 1 &  90 &  80 &   NA &  10\\\\\n",
       "\t211 &  1 & 252 & 1 & 60 & 2 & 0 & 100 &  90 &  488 &  -2\\\\\n",
       "\t212 &  6 & 221 & 1 & 67 & 1 & 1 &  80 &  70 &  413 &  23\\\\\n",
       "\t213 & 15 & 185 & 1 & 69 & 1 & 1 &  90 &  70 & 1075 &   0\\\\\n",
       "\t214 & 11 &  92 & 1 & 64 & 2 & 2 &  70 & 100 &   NA &  31\\\\\n",
       "\t215 & 11 &  13 & 2 & 65 & 1 & 1 &  80 &  90 &   NA &  10\\\\\n",
       "\t216 & 11 & 222 & 1 & 65 & 1 & 1 &  90 &  70 & 1025 &  18\\\\\n",
       "\t217 & 13 & 192 & 1 & 41 & 2 & 1 &  90 &  80 &   NA & -10\\\\\n",
       "\t218 & 21 & 183 & 2 & 76 & 1 & 2 &  80 &  60 &  825 &   7\\\\\n",
       "\t219 & 11 & 211 & 1 & 70 & 2 & 2 &  70 &  30 &  131 &   3\\\\\n",
       "\t220 &  2 & 175 & 1 & 57 & 2 & 0 &  80 &  80 &  725 &  11\\\\\n",
       "\t221 & 22 & 197 & 1 & 67 & 1 & 1 &  80 &  90 & 1500 &   2\\\\\n",
       "\t222 & 11 & 203 & 1 & 71 & 2 & 1 &  80 &  90 & 1025 &   0\\\\\n",
       "\t223 &  1 & 116 & 2 & 76 & 1 & 1 &  80 &  80 &   NA &   0\\\\\n",
       "\t224 &  1 & 188 & 1 & 77 & 1 & 1 &  80 &  60 &   NA &   3\\\\\n",
       "\t225 & 13 & 191 & 1 & 39 & 1 & 0 &  90 &  90 & 2350 &  -5\\\\\n",
       "\t226 & 32 & 105 & 1 & 75 & 2 & 2 &  60 &  70 & 1025 &   5\\\\\n",
       "\t227 &  6 & 174 & 1 & 66 & 1 & 1 &  90 & 100 & 1075 &   1\\\\\n",
       "\t228 & 22 & 177 & 1 & 58 & 2 & 1 &  80 &  90 & 1060 &   0\\\\\n",
       "\\end{tabular}\n"
      ],
      "text/markdown": [
       "\n",
       "A data.frame: 228 × 10\n",
       "\n",
       "| <!--/--> | inst &lt;dbl&gt; | time &lt;dbl&gt; | status &lt;dbl&gt; | age &lt;dbl&gt; | sex &lt;dbl&gt; | ph.ecog &lt;dbl&gt; | ph.karno &lt;dbl&gt; | pat.karno &lt;dbl&gt; | meal.cal &lt;dbl&gt; | wt.loss &lt;dbl&gt; |\n",
       "|---|---|---|---|---|---|---|---|---|---|---|\n",
       "| 1 |  3 |  306 | 2 | 74 | 1 |  1 |  90 | 100 | 1175 |  NA |\n",
       "| 2 |  3 |  455 | 2 | 68 | 1 |  0 |  90 |  90 | 1225 |  15 |\n",
       "| 3 |  3 | 1010 | 1 | 56 | 1 |  0 |  90 |  90 |   NA |  15 |\n",
       "| 4 |  5 |  210 | 2 | 57 | 1 |  1 |  90 |  60 | 1150 |  11 |\n",
       "| 5 |  1 |  883 | 2 | 60 | 1 |  0 | 100 |  90 |   NA |   0 |\n",
       "| 6 | 12 | 1022 | 1 | 74 | 1 |  1 |  50 |  80 |  513 |   0 |\n",
       "| 7 |  7 |  310 | 2 | 68 | 2 |  2 |  70 |  60 |  384 |  10 |\n",
       "| 8 | 11 |  361 | 2 | 71 | 2 |  2 |  60 |  80 |  538 |   1 |\n",
       "| 9 |  1 |  218 | 2 | 53 | 1 |  1 |  70 |  80 |  825 |  16 |\n",
       "| 10 |  7 |  166 | 2 | 61 | 1 |  2 |  70 |  70 |  271 |  34 |\n",
       "| 11 |  6 |  170 | 2 | 57 | 1 |  1 |  80 |  80 | 1025 |  27 |\n",
       "| 12 | 16 |  654 | 2 | 68 | 2 |  2 |  70 |  70 |   NA |  23 |\n",
       "| 13 | 11 |  728 | 2 | 68 | 2 |  1 |  90 |  90 |   NA |   5 |\n",
       "| 14 | 21 |   71 | 2 | 60 | 1 | NA |  60 |  70 | 1225 |  32 |\n",
       "| 15 | 12 |  567 | 2 | 57 | 1 |  1 |  80 |  70 | 2600 |  60 |\n",
       "| 16 |  1 |  144 | 2 | 67 | 1 |  1 |  80 |  90 |   NA |  15 |\n",
       "| 17 | 22 |  613 | 2 | 70 | 1 |  1 |  90 | 100 | 1150 |  -5 |\n",
       "| 18 | 16 |  707 | 2 | 63 | 1 |  2 |  50 |  70 | 1025 |  22 |\n",
       "| 19 |  1 |   61 | 2 | 56 | 2 |  2 |  60 |  60 |  238 |  10 |\n",
       "| 20 | 21 |   88 | 2 | 57 | 1 |  1 |  90 |  80 | 1175 |  NA |\n",
       "| 21 | 11 |  301 | 2 | 67 | 1 |  1 |  80 |  80 | 1025 |  17 |\n",
       "| 22 |  6 |   81 | 2 | 49 | 2 |  0 | 100 |  70 | 1175 |  -8 |\n",
       "| 23 | 11 |  624 | 2 | 50 | 1 |  1 |  70 |  80 |   NA |  16 |\n",
       "| 24 | 15 |  371 | 2 | 58 | 1 |  0 |  90 | 100 |  975 |  13 |\n",
       "| 25 | 12 |  394 | 2 | 72 | 1 |  0 |  90 |  80 |   NA |   0 |\n",
       "| 26 | 12 |  520 | 2 | 70 | 2 |  1 |  90 |  80 |  825 |   6 |\n",
       "| 27 |  4 |  574 | 2 | 60 | 1 |  0 | 100 | 100 | 1025 | -13 |\n",
       "| 28 | 13 |  118 | 2 | 70 | 1 |  3 |  60 |  70 | 1075 |  20 |\n",
       "| 29 | 13 |  390 | 2 | 53 | 1 |  1 |  80 |  70 |  875 |  -7 |\n",
       "| 30 |  1 |   12 | 2 | 74 | 1 |  2 |  70 |  50 |  305 |  20 |\n",
       "| ... | ... | ... | ... | ... | ... | ... | ... | ... | ... | ... |\n",
       "| 199 |  1 | 276 | 1 | 52 | 2 | 0 | 100 |  80 |  975 |   0 |\n",
       "| 200 | 32 | 135 | 2 | 60 | 1 | 1 |  90 |  70 | 1275 |   0 |\n",
       "| 201 | 15 |  79 | 2 | 64 | 2 | 1 |  90 |  90 |  488 |  37 |\n",
       "| 202 | 22 |  59 | 2 | 73 | 1 | 1 |  60 |  60 | 2200 |   5 |\n",
       "| 203 | 32 | 240 | 1 | 63 | 2 | 0 |  90 | 100 | 1025 |   0 |\n",
       "| 204 |  3 | 202 | 1 | 50 | 2 | 0 | 100 | 100 |  635 |   1 |\n",
       "| 205 | 26 | 235 | 1 | 63 | 2 | 0 | 100 |  90 |  413 |   0 |\n",
       "| 206 | 33 | 105 | 2 | 62 | 1 | 2 |  NA |  70 |   NA |  NA |\n",
       "| 207 |  5 | 224 | 1 | 55 | 2 | 0 |  80 |  90 |   NA |  23 |\n",
       "| 208 | 13 | 239 | 2 | 50 | 2 | 2 |  60 |  60 | 1025 |  -3 |\n",
       "| 209 | 21 | 237 | 1 | 69 | 1 | 1 |  80 |  70 |   NA |  NA |\n",
       "| 210 | 33 | 173 | 1 | 59 | 2 | 1 |  90 |  80 |   NA |  10 |\n",
       "| 211 |  1 | 252 | 1 | 60 | 2 | 0 | 100 |  90 |  488 |  -2 |\n",
       "| 212 |  6 | 221 | 1 | 67 | 1 | 1 |  80 |  70 |  413 |  23 |\n",
       "| 213 | 15 | 185 | 1 | 69 | 1 | 1 |  90 |  70 | 1075 |   0 |\n",
       "| 214 | 11 |  92 | 1 | 64 | 2 | 2 |  70 | 100 |   NA |  31 |\n",
       "| 215 | 11 |  13 | 2 | 65 | 1 | 1 |  80 |  90 |   NA |  10 |\n",
       "| 216 | 11 | 222 | 1 | 65 | 1 | 1 |  90 |  70 | 1025 |  18 |\n",
       "| 217 | 13 | 192 | 1 | 41 | 2 | 1 |  90 |  80 |   NA | -10 |\n",
       "| 218 | 21 | 183 | 2 | 76 | 1 | 2 |  80 |  60 |  825 |   7 |\n",
       "| 219 | 11 | 211 | 1 | 70 | 2 | 2 |  70 |  30 |  131 |   3 |\n",
       "| 220 |  2 | 175 | 1 | 57 | 2 | 0 |  80 |  80 |  725 |  11 |\n",
       "| 221 | 22 | 197 | 1 | 67 | 1 | 1 |  80 |  90 | 1500 |   2 |\n",
       "| 222 | 11 | 203 | 1 | 71 | 2 | 1 |  80 |  90 | 1025 |   0 |\n",
       "| 223 |  1 | 116 | 2 | 76 | 1 | 1 |  80 |  80 |   NA |   0 |\n",
       "| 224 |  1 | 188 | 1 | 77 | 1 | 1 |  80 |  60 |   NA |   3 |\n",
       "| 225 | 13 | 191 | 1 | 39 | 1 | 0 |  90 |  90 | 2350 |  -5 |\n",
       "| 226 | 32 | 105 | 1 | 75 | 2 | 2 |  60 |  70 | 1025 |   5 |\n",
       "| 227 |  6 | 174 | 1 | 66 | 1 | 1 |  90 | 100 | 1075 |   1 |\n",
       "| 228 | 22 | 177 | 1 | 58 | 2 | 1 |  80 |  90 | 1060 |   0 |\n",
       "\n"
      ],
      "text/plain": [
       "    inst time status age sex ph.ecog ph.karno pat.karno meal.cal wt.loss\n",
       "1    3    306 2      74  1    1       90      100       1175      NA    \n",
       "2    3    455 2      68  1    0       90       90       1225      15    \n",
       "3    3   1010 1      56  1    0       90       90         NA      15    \n",
       "4    5    210 2      57  1    1       90       60       1150      11    \n",
       "5    1    883 2      60  1    0      100       90         NA       0    \n",
       "6   12   1022 1      74  1    1       50       80        513       0    \n",
       "7    7    310 2      68  2    2       70       60        384      10    \n",
       "8   11    361 2      71  2    2       60       80        538       1    \n",
       "9    1    218 2      53  1    1       70       80        825      16    \n",
       "10   7    166 2      61  1    2       70       70        271      34    \n",
       "11   6    170 2      57  1    1       80       80       1025      27    \n",
       "12  16    654 2      68  2    2       70       70         NA      23    \n",
       "13  11    728 2      68  2    1       90       90         NA       5    \n",
       "14  21     71 2      60  1   NA       60       70       1225      32    \n",
       "15  12    567 2      57  1    1       80       70       2600      60    \n",
       "16   1    144 2      67  1    1       80       90         NA      15    \n",
       "17  22    613 2      70  1    1       90      100       1150      -5    \n",
       "18  16    707 2      63  1    2       50       70       1025      22    \n",
       "19   1     61 2      56  2    2       60       60        238      10    \n",
       "20  21     88 2      57  1    1       90       80       1175      NA    \n",
       "21  11    301 2      67  1    1       80       80       1025      17    \n",
       "22   6     81 2      49  2    0      100       70       1175      -8    \n",
       "23  11    624 2      50  1    1       70       80         NA      16    \n",
       "24  15    371 2      58  1    0       90      100        975      13    \n",
       "25  12    394 2      72  1    0       90       80         NA       0    \n",
       "26  12    520 2      70  2    1       90       80        825       6    \n",
       "27   4    574 2      60  1    0      100      100       1025     -13    \n",
       "28  13    118 2      70  1    3       60       70       1075      20    \n",
       "29  13    390 2      53  1    1       80       70        875      -7    \n",
       "30   1     12 2      74  1    2       70       50        305      20    \n",
       "... ...  ...  ...    ... ... ...     ...      ...       ...      ...    \n",
       "199  1   276  1      52  2   0       100       80        975       0    \n",
       "200 32   135  2      60  1   1        90       70       1275       0    \n",
       "201 15    79  2      64  2   1        90       90        488      37    \n",
       "202 22    59  2      73  1   1        60       60       2200       5    \n",
       "203 32   240  1      63  2   0        90      100       1025       0    \n",
       "204  3   202  1      50  2   0       100      100        635       1    \n",
       "205 26   235  1      63  2   0       100       90        413       0    \n",
       "206 33   105  2      62  1   2        NA       70         NA      NA    \n",
       "207  5   224  1      55  2   0        80       90         NA      23    \n",
       "208 13   239  2      50  2   2        60       60       1025      -3    \n",
       "209 21   237  1      69  1   1        80       70         NA      NA    \n",
       "210 33   173  1      59  2   1        90       80         NA      10    \n",
       "211  1   252  1      60  2   0       100       90        488      -2    \n",
       "212  6   221  1      67  1   1        80       70        413      23    \n",
       "213 15   185  1      69  1   1        90       70       1075       0    \n",
       "214 11    92  1      64  2   2        70      100         NA      31    \n",
       "215 11    13  2      65  1   1        80       90         NA      10    \n",
       "216 11   222  1      65  1   1        90       70       1025      18    \n",
       "217 13   192  1      41  2   1        90       80         NA     -10    \n",
       "218 21   183  2      76  1   2        80       60        825       7    \n",
       "219 11   211  1      70  2   2        70       30        131       3    \n",
       "220  2   175  1      57  2   0        80       80        725      11    \n",
       "221 22   197  1      67  1   1        80       90       1500       2    \n",
       "222 11   203  1      71  2   1        80       90       1025       0    \n",
       "223  1   116  2      76  1   1        80       80         NA       0    \n",
       "224  1   188  1      77  1   1        80       60         NA       3    \n",
       "225 13   191  1      39  1   0        90       90       2350      -5    \n",
       "226 32   105  1      75  2   2        60       70       1025       5    \n",
       "227  6   174  1      66  1   1        90      100       1075       1    \n",
       "228 22   177  1      58  2   1        80       90       1060       0    "
      ]
     },
     "metadata": {},
     "output_type": "display_data"
    }
   ],
   "source": [
    "cancer"
   ]
  },
  {
   "cell_type": "code",
   "execution_count": 4,
   "metadata": {},
   "outputs": [
    {
     "data": {
      "text/html": [
       "47"
      ],
      "text/latex": [
       "47"
      ],
      "text/markdown": [
       "47"
      ],
      "text/plain": [
       "[1] 47"
      ]
     },
     "metadata": {},
     "output_type": "display_data"
    }
   ],
   "source": [
    "sum(is.na(cancer$meal.cal))"
   ]
  },
  {
   "cell_type": "code",
   "execution_count": 5,
   "metadata": {},
   "outputs": [
    {
     "data": {
      "text/html": [
       "228"
      ],
      "text/latex": [
       "228"
      ],
      "text/markdown": [
       "228"
      ],
      "text/plain": [
       "[1] 228"
      ]
     },
     "metadata": {},
     "output_type": "display_data"
    }
   ],
   "source": [
    "length(cancer$meal.cal)"
   ]
  },
  {
   "cell_type": "code",
   "execution_count": 6,
   "metadata": {},
   "outputs": [
    {
     "data": {
      "text/html": [
       "<style>\n",
       ".dl-inline {width: auto; margin:0; padding: 0}\n",
       ".dl-inline>dt, .dl-inline>dd {float: none; width: auto; display: inline-block}\n",
       ".dl-inline>dt::after {content: \":\\0020\"; padding-right: .5ex}\n",
       ".dl-inline>dt:not(:first-of-type) {padding-left: .5ex}\n",
       "</style><dl class=dl-inline><dt>inst</dt><dd>1</dd><dt>time</dt><dd>0</dd><dt>status</dt><dd>0</dd><dt>age</dt><dd>0</dd><dt>sex</dt><dd>0</dd><dt>ph.ecog</dt><dd>1</dd><dt>ph.karno</dt><dd>1</dd><dt>pat.karno</dt><dd>3</dd><dt>meal.cal</dt><dd>47</dd><dt>wt.loss</dt><dd>14</dd></dl>\n"
      ],
      "text/latex": [
       "\\begin{description*}\n",
       "\\item[inst] 1\n",
       "\\item[time] 0\n",
       "\\item[status] 0\n",
       "\\item[age] 0\n",
       "\\item[sex] 0\n",
       "\\item[ph.ecog] 1\n",
       "\\item[ph.karno] 1\n",
       "\\item[pat.karno] 3\n",
       "\\item[meal.cal] 47\n",
       "\\item[wt.loss] 14\n",
       "\\end{description*}\n"
      ],
      "text/markdown": [
       "inst\n",
       ":   1time\n",
       ":   0status\n",
       ":   0age\n",
       ":   0sex\n",
       ":   0ph.ecog\n",
       ":   1ph.karno\n",
       ":   1pat.karno\n",
       ":   3meal.cal\n",
       ":   47wt.loss\n",
       ":   14\n",
       "\n"
      ],
      "text/plain": [
       "     inst      time    status       age       sex   ph.ecog  ph.karno pat.karno \n",
       "        1         0         0         0         0         1         1         3 \n",
       " meal.cal   wt.loss \n",
       "       47        14 "
      ]
     },
     "metadata": {},
     "output_type": "display_data"
    }
   ],
   "source": [
    "sapply(cancer, function(x) sum(is.na(x)))"
   ]
  },
  {
   "cell_type": "code",
   "execution_count": 7,
   "metadata": {},
   "outputs": [
    {
     "data": {
      "text/html": [
       "<table>\n",
       "<caption>A data.frame: 167 × 10</caption>\n",
       "<thead>\n",
       "\t<tr><th></th><th scope=col>inst</th><th scope=col>time</th><th scope=col>status</th><th scope=col>age</th><th scope=col>sex</th><th scope=col>ph.ecog</th><th scope=col>ph.karno</th><th scope=col>pat.karno</th><th scope=col>meal.cal</th><th scope=col>wt.loss</th></tr>\n",
       "\t<tr><th></th><th scope=col>&lt;dbl&gt;</th><th scope=col>&lt;dbl&gt;</th><th scope=col>&lt;dbl&gt;</th><th scope=col>&lt;dbl&gt;</th><th scope=col>&lt;dbl&gt;</th><th scope=col>&lt;dbl&gt;</th><th scope=col>&lt;dbl&gt;</th><th scope=col>&lt;dbl&gt;</th><th scope=col>&lt;dbl&gt;</th><th scope=col>&lt;dbl&gt;</th></tr>\n",
       "</thead>\n",
       "<tbody>\n",
       "\t<tr><th scope=row>2</th><td> 3</td><td> 455</td><td>2</td><td>68</td><td>1</td><td>0</td><td> 90</td><td> 90</td><td>1225</td><td> 15</td></tr>\n",
       "\t<tr><th scope=row>4</th><td> 5</td><td> 210</td><td>2</td><td>57</td><td>1</td><td>1</td><td> 90</td><td> 60</td><td>1150</td><td> 11</td></tr>\n",
       "\t<tr><th scope=row>6</th><td>12</td><td>1022</td><td>1</td><td>74</td><td>1</td><td>1</td><td> 50</td><td> 80</td><td> 513</td><td>  0</td></tr>\n",
       "\t<tr><th scope=row>7</th><td> 7</td><td> 310</td><td>2</td><td>68</td><td>2</td><td>2</td><td> 70</td><td> 60</td><td> 384</td><td> 10</td></tr>\n",
       "\t<tr><th scope=row>8</th><td>11</td><td> 361</td><td>2</td><td>71</td><td>2</td><td>2</td><td> 60</td><td> 80</td><td> 538</td><td>  1</td></tr>\n",
       "\t<tr><th scope=row>9</th><td> 1</td><td> 218</td><td>2</td><td>53</td><td>1</td><td>1</td><td> 70</td><td> 80</td><td> 825</td><td> 16</td></tr>\n",
       "\t<tr><th scope=row>10</th><td> 7</td><td> 166</td><td>2</td><td>61</td><td>1</td><td>2</td><td> 70</td><td> 70</td><td> 271</td><td> 34</td></tr>\n",
       "\t<tr><th scope=row>11</th><td> 6</td><td> 170</td><td>2</td><td>57</td><td>1</td><td>1</td><td> 80</td><td> 80</td><td>1025</td><td> 27</td></tr>\n",
       "\t<tr><th scope=row>15</th><td>12</td><td> 567</td><td>2</td><td>57</td><td>1</td><td>1</td><td> 80</td><td> 70</td><td>2600</td><td> 60</td></tr>\n",
       "\t<tr><th scope=row>17</th><td>22</td><td> 613</td><td>2</td><td>70</td><td>1</td><td>1</td><td> 90</td><td>100</td><td>1150</td><td> -5</td></tr>\n",
       "\t<tr><th scope=row>18</th><td>16</td><td> 707</td><td>2</td><td>63</td><td>1</td><td>2</td><td> 50</td><td> 70</td><td>1025</td><td> 22</td></tr>\n",
       "\t<tr><th scope=row>19</th><td> 1</td><td>  61</td><td>2</td><td>56</td><td>2</td><td>2</td><td> 60</td><td> 60</td><td> 238</td><td> 10</td></tr>\n",
       "\t<tr><th scope=row>21</th><td>11</td><td> 301</td><td>2</td><td>67</td><td>1</td><td>1</td><td> 80</td><td> 80</td><td>1025</td><td> 17</td></tr>\n",
       "\t<tr><th scope=row>22</th><td> 6</td><td>  81</td><td>2</td><td>49</td><td>2</td><td>0</td><td>100</td><td> 70</td><td>1175</td><td> -8</td></tr>\n",
       "\t<tr><th scope=row>24</th><td>15</td><td> 371</td><td>2</td><td>58</td><td>1</td><td>0</td><td> 90</td><td>100</td><td> 975</td><td> 13</td></tr>\n",
       "\t<tr><th scope=row>26</th><td>12</td><td> 520</td><td>2</td><td>70</td><td>2</td><td>1</td><td> 90</td><td> 80</td><td> 825</td><td>  6</td></tr>\n",
       "\t<tr><th scope=row>27</th><td> 4</td><td> 574</td><td>2</td><td>60</td><td>1</td><td>0</td><td>100</td><td>100</td><td>1025</td><td>-13</td></tr>\n",
       "\t<tr><th scope=row>28</th><td>13</td><td> 118</td><td>2</td><td>70</td><td>1</td><td>3</td><td> 60</td><td> 70</td><td>1075</td><td> 20</td></tr>\n",
       "\t<tr><th scope=row>29</th><td>13</td><td> 390</td><td>2</td><td>53</td><td>1</td><td>1</td><td> 80</td><td> 70</td><td> 875</td><td> -7</td></tr>\n",
       "\t<tr><th scope=row>30</th><td> 1</td><td>  12</td><td>2</td><td>74</td><td>1</td><td>2</td><td> 70</td><td> 50</td><td> 305</td><td> 20</td></tr>\n",
       "\t<tr><th scope=row>31</th><td>12</td><td> 473</td><td>2</td><td>69</td><td>2</td><td>1</td><td> 90</td><td> 90</td><td>1025</td><td> -1</td></tr>\n",
       "\t<tr><th scope=row>32</th><td> 1</td><td>  26</td><td>2</td><td>73</td><td>1</td><td>2</td><td> 60</td><td> 70</td><td> 388</td><td> 20</td></tr>\n",
       "\t<tr><th scope=row>34</th><td>16</td><td> 107</td><td>2</td><td>60</td><td>2</td><td>2</td><td> 50</td><td> 60</td><td> 925</td><td>-15</td></tr>\n",
       "\t<tr><th scope=row>35</th><td>12</td><td>  53</td><td>2</td><td>61</td><td>1</td><td>2</td><td> 70</td><td>100</td><td>1075</td><td> 10</td></tr>\n",
       "\t<tr><th scope=row>37</th><td>22</td><td> 814</td><td>2</td><td>65</td><td>1</td><td>2</td><td> 70</td><td> 60</td><td> 513</td><td> 28</td></tr>\n",
       "\t<tr><th scope=row>38</th><td>15</td><td> 965</td><td>1</td><td>66</td><td>2</td><td>1</td><td> 70</td><td> 90</td><td> 875</td><td>  4</td></tr>\n",
       "\t<tr><th scope=row>39</th><td> 1</td><td>  93</td><td>2</td><td>74</td><td>1</td><td>2</td><td> 50</td><td> 40</td><td>1225</td><td> 24</td></tr>\n",
       "\t<tr><th scope=row>40</th><td> 1</td><td> 731</td><td>2</td><td>64</td><td>2</td><td>1</td><td> 80</td><td>100</td><td>1175</td><td> 15</td></tr>\n",
       "\t<tr><th scope=row>41</th><td> 5</td><td> 460</td><td>2</td><td>70</td><td>1</td><td>1</td><td> 80</td><td> 60</td><td> 975</td><td> 10</td></tr>\n",
       "\t<tr><th scope=row>42</th><td>11</td><td> 153</td><td>2</td><td>73</td><td>2</td><td>2</td><td> 60</td><td> 70</td><td>1075</td><td> 11</td></tr>\n",
       "\t<tr><th scope=row>...</th><td>...</td><td>...</td><td>...</td><td>...</td><td>...</td><td>...</td><td>...</td><td>...</td><td>...</td><td>...</td></tr>\n",
       "\t<tr><th scope=row>187</th><td> 2</td><td>285</td><td>2</td><td>72</td><td>2</td><td>2</td><td> 70</td><td> 90</td><td> 463</td><td>20</td></tr>\n",
       "\t<tr><th scope=row>188</th><td> 3</td><td>259</td><td>1</td><td>58</td><td>1</td><td>0</td><td> 90</td><td> 80</td><td>1300</td><td> 8</td></tr>\n",
       "\t<tr><th scope=row>189</th><td>15</td><td>110</td><td>2</td><td>64</td><td>1</td><td>1</td><td> 80</td><td> 60</td><td>1025</td><td>12</td></tr>\n",
       "\t<tr><th scope=row>190</th><td>22</td><td>286</td><td>2</td><td>53</td><td>1</td><td>0</td><td> 90</td><td> 90</td><td>1225</td><td> 8</td></tr>\n",
       "\t<tr><th scope=row>191</th><td>16</td><td>270</td><td>2</td><td>72</td><td>1</td><td>1</td><td> 80</td><td> 90</td><td> 488</td><td>14</td></tr>\n",
       "\t<tr><th scope=row>194</th><td> 1</td><td>225</td><td>1</td><td>64</td><td>1</td><td>1</td><td> 90</td><td> 80</td><td> 825</td><td>33</td></tr>\n",
       "\t<tr><th scope=row>195</th><td>22</td><td>269</td><td>2</td><td>71</td><td>1</td><td>1</td><td> 90</td><td> 90</td><td>1300</td><td>-2</td></tr>\n",
       "\t<tr><th scope=row>196</th><td>12</td><td>225</td><td>1</td><td>70</td><td>1</td><td>0</td><td>100</td><td>100</td><td>1175</td><td> 6</td></tr>\n",
       "\t<tr><th scope=row>197</th><td>32</td><td>243</td><td>1</td><td>63</td><td>2</td><td>1</td><td> 80</td><td> 90</td><td> 825</td><td> 0</td></tr>\n",
       "\t<tr><th scope=row>199</th><td> 1</td><td>276</td><td>1</td><td>52</td><td>2</td><td>0</td><td>100</td><td> 80</td><td> 975</td><td> 0</td></tr>\n",
       "\t<tr><th scope=row>200</th><td>32</td><td>135</td><td>2</td><td>60</td><td>1</td><td>1</td><td> 90</td><td> 70</td><td>1275</td><td> 0</td></tr>\n",
       "\t<tr><th scope=row>201</th><td>15</td><td> 79</td><td>2</td><td>64</td><td>2</td><td>1</td><td> 90</td><td> 90</td><td> 488</td><td>37</td></tr>\n",
       "\t<tr><th scope=row>202</th><td>22</td><td> 59</td><td>2</td><td>73</td><td>1</td><td>1</td><td> 60</td><td> 60</td><td>2200</td><td> 5</td></tr>\n",
       "\t<tr><th scope=row>203</th><td>32</td><td>240</td><td>1</td><td>63</td><td>2</td><td>0</td><td> 90</td><td>100</td><td>1025</td><td> 0</td></tr>\n",
       "\t<tr><th scope=row>204</th><td> 3</td><td>202</td><td>1</td><td>50</td><td>2</td><td>0</td><td>100</td><td>100</td><td> 635</td><td> 1</td></tr>\n",
       "\t<tr><th scope=row>205</th><td>26</td><td>235</td><td>1</td><td>63</td><td>2</td><td>0</td><td>100</td><td> 90</td><td> 413</td><td> 0</td></tr>\n",
       "\t<tr><th scope=row>208</th><td>13</td><td>239</td><td>2</td><td>50</td><td>2</td><td>2</td><td> 60</td><td> 60</td><td>1025</td><td>-3</td></tr>\n",
       "\t<tr><th scope=row>211</th><td> 1</td><td>252</td><td>1</td><td>60</td><td>2</td><td>0</td><td>100</td><td> 90</td><td> 488</td><td>-2</td></tr>\n",
       "\t<tr><th scope=row>212</th><td> 6</td><td>221</td><td>1</td><td>67</td><td>1</td><td>1</td><td> 80</td><td> 70</td><td> 413</td><td>23</td></tr>\n",
       "\t<tr><th scope=row>213</th><td>15</td><td>185</td><td>1</td><td>69</td><td>1</td><td>1</td><td> 90</td><td> 70</td><td>1075</td><td> 0</td></tr>\n",
       "\t<tr><th scope=row>216</th><td>11</td><td>222</td><td>1</td><td>65</td><td>1</td><td>1</td><td> 90</td><td> 70</td><td>1025</td><td>18</td></tr>\n",
       "\t<tr><th scope=row>218</th><td>21</td><td>183</td><td>2</td><td>76</td><td>1</td><td>2</td><td> 80</td><td> 60</td><td> 825</td><td> 7</td></tr>\n",
       "\t<tr><th scope=row>219</th><td>11</td><td>211</td><td>1</td><td>70</td><td>2</td><td>2</td><td> 70</td><td> 30</td><td> 131</td><td> 3</td></tr>\n",
       "\t<tr><th scope=row>220</th><td> 2</td><td>175</td><td>1</td><td>57</td><td>2</td><td>0</td><td> 80</td><td> 80</td><td> 725</td><td>11</td></tr>\n",
       "\t<tr><th scope=row>221</th><td>22</td><td>197</td><td>1</td><td>67</td><td>1</td><td>1</td><td> 80</td><td> 90</td><td>1500</td><td> 2</td></tr>\n",
       "\t<tr><th scope=row>222</th><td>11</td><td>203</td><td>1</td><td>71</td><td>2</td><td>1</td><td> 80</td><td> 90</td><td>1025</td><td> 0</td></tr>\n",
       "\t<tr><th scope=row>225</th><td>13</td><td>191</td><td>1</td><td>39</td><td>1</td><td>0</td><td> 90</td><td> 90</td><td>2350</td><td>-5</td></tr>\n",
       "\t<tr><th scope=row>226</th><td>32</td><td>105</td><td>1</td><td>75</td><td>2</td><td>2</td><td> 60</td><td> 70</td><td>1025</td><td> 5</td></tr>\n",
       "\t<tr><th scope=row>227</th><td> 6</td><td>174</td><td>1</td><td>66</td><td>1</td><td>1</td><td> 90</td><td>100</td><td>1075</td><td> 1</td></tr>\n",
       "\t<tr><th scope=row>228</th><td>22</td><td>177</td><td>1</td><td>58</td><td>2</td><td>1</td><td> 80</td><td> 90</td><td>1060</td><td> 0</td></tr>\n",
       "</tbody>\n",
       "</table>\n"
      ],
      "text/latex": [
       "A data.frame: 167 × 10\n",
       "\\begin{tabular}{r|llllllllll}\n",
       "  & inst & time & status & age & sex & ph.ecog & ph.karno & pat.karno & meal.cal & wt.loss\\\\\n",
       "  & <dbl> & <dbl> & <dbl> & <dbl> & <dbl> & <dbl> & <dbl> & <dbl> & <dbl> & <dbl>\\\\\n",
       "\\hline\n",
       "\t2 &  3 &  455 & 2 & 68 & 1 & 0 &  90 &  90 & 1225 &  15\\\\\n",
       "\t4 &  5 &  210 & 2 & 57 & 1 & 1 &  90 &  60 & 1150 &  11\\\\\n",
       "\t6 & 12 & 1022 & 1 & 74 & 1 & 1 &  50 &  80 &  513 &   0\\\\\n",
       "\t7 &  7 &  310 & 2 & 68 & 2 & 2 &  70 &  60 &  384 &  10\\\\\n",
       "\t8 & 11 &  361 & 2 & 71 & 2 & 2 &  60 &  80 &  538 &   1\\\\\n",
       "\t9 &  1 &  218 & 2 & 53 & 1 & 1 &  70 &  80 &  825 &  16\\\\\n",
       "\t10 &  7 &  166 & 2 & 61 & 1 & 2 &  70 &  70 &  271 &  34\\\\\n",
       "\t11 &  6 &  170 & 2 & 57 & 1 & 1 &  80 &  80 & 1025 &  27\\\\\n",
       "\t15 & 12 &  567 & 2 & 57 & 1 & 1 &  80 &  70 & 2600 &  60\\\\\n",
       "\t17 & 22 &  613 & 2 & 70 & 1 & 1 &  90 & 100 & 1150 &  -5\\\\\n",
       "\t18 & 16 &  707 & 2 & 63 & 1 & 2 &  50 &  70 & 1025 &  22\\\\\n",
       "\t19 &  1 &   61 & 2 & 56 & 2 & 2 &  60 &  60 &  238 &  10\\\\\n",
       "\t21 & 11 &  301 & 2 & 67 & 1 & 1 &  80 &  80 & 1025 &  17\\\\\n",
       "\t22 &  6 &   81 & 2 & 49 & 2 & 0 & 100 &  70 & 1175 &  -8\\\\\n",
       "\t24 & 15 &  371 & 2 & 58 & 1 & 0 &  90 & 100 &  975 &  13\\\\\n",
       "\t26 & 12 &  520 & 2 & 70 & 2 & 1 &  90 &  80 &  825 &   6\\\\\n",
       "\t27 &  4 &  574 & 2 & 60 & 1 & 0 & 100 & 100 & 1025 & -13\\\\\n",
       "\t28 & 13 &  118 & 2 & 70 & 1 & 3 &  60 &  70 & 1075 &  20\\\\\n",
       "\t29 & 13 &  390 & 2 & 53 & 1 & 1 &  80 &  70 &  875 &  -7\\\\\n",
       "\t30 &  1 &   12 & 2 & 74 & 1 & 2 &  70 &  50 &  305 &  20\\\\\n",
       "\t31 & 12 &  473 & 2 & 69 & 2 & 1 &  90 &  90 & 1025 &  -1\\\\\n",
       "\t32 &  1 &   26 & 2 & 73 & 1 & 2 &  60 &  70 &  388 &  20\\\\\n",
       "\t34 & 16 &  107 & 2 & 60 & 2 & 2 &  50 &  60 &  925 & -15\\\\\n",
       "\t35 & 12 &   53 & 2 & 61 & 1 & 2 &  70 & 100 & 1075 &  10\\\\\n",
       "\t37 & 22 &  814 & 2 & 65 & 1 & 2 &  70 &  60 &  513 &  28\\\\\n",
       "\t38 & 15 &  965 & 1 & 66 & 2 & 1 &  70 &  90 &  875 &   4\\\\\n",
       "\t39 &  1 &   93 & 2 & 74 & 1 & 2 &  50 &  40 & 1225 &  24\\\\\n",
       "\t40 &  1 &  731 & 2 & 64 & 2 & 1 &  80 & 100 & 1175 &  15\\\\\n",
       "\t41 &  5 &  460 & 2 & 70 & 1 & 1 &  80 &  60 &  975 &  10\\\\\n",
       "\t42 & 11 &  153 & 2 & 73 & 2 & 2 &  60 &  70 & 1075 &  11\\\\\n",
       "\t... & ... & ... & ... & ... & ... & ... & ... & ... & ... & ...\\\\\n",
       "\t187 &  2 & 285 & 2 & 72 & 2 & 2 &  70 &  90 &  463 & 20\\\\\n",
       "\t188 &  3 & 259 & 1 & 58 & 1 & 0 &  90 &  80 & 1300 &  8\\\\\n",
       "\t189 & 15 & 110 & 2 & 64 & 1 & 1 &  80 &  60 & 1025 & 12\\\\\n",
       "\t190 & 22 & 286 & 2 & 53 & 1 & 0 &  90 &  90 & 1225 &  8\\\\\n",
       "\t191 & 16 & 270 & 2 & 72 & 1 & 1 &  80 &  90 &  488 & 14\\\\\n",
       "\t194 &  1 & 225 & 1 & 64 & 1 & 1 &  90 &  80 &  825 & 33\\\\\n",
       "\t195 & 22 & 269 & 2 & 71 & 1 & 1 &  90 &  90 & 1300 & -2\\\\\n",
       "\t196 & 12 & 225 & 1 & 70 & 1 & 0 & 100 & 100 & 1175 &  6\\\\\n",
       "\t197 & 32 & 243 & 1 & 63 & 2 & 1 &  80 &  90 &  825 &  0\\\\\n",
       "\t199 &  1 & 276 & 1 & 52 & 2 & 0 & 100 &  80 &  975 &  0\\\\\n",
       "\t200 & 32 & 135 & 2 & 60 & 1 & 1 &  90 &  70 & 1275 &  0\\\\\n",
       "\t201 & 15 &  79 & 2 & 64 & 2 & 1 &  90 &  90 &  488 & 37\\\\\n",
       "\t202 & 22 &  59 & 2 & 73 & 1 & 1 &  60 &  60 & 2200 &  5\\\\\n",
       "\t203 & 32 & 240 & 1 & 63 & 2 & 0 &  90 & 100 & 1025 &  0\\\\\n",
       "\t204 &  3 & 202 & 1 & 50 & 2 & 0 & 100 & 100 &  635 &  1\\\\\n",
       "\t205 & 26 & 235 & 1 & 63 & 2 & 0 & 100 &  90 &  413 &  0\\\\\n",
       "\t208 & 13 & 239 & 2 & 50 & 2 & 2 &  60 &  60 & 1025 & -3\\\\\n",
       "\t211 &  1 & 252 & 1 & 60 & 2 & 0 & 100 &  90 &  488 & -2\\\\\n",
       "\t212 &  6 & 221 & 1 & 67 & 1 & 1 &  80 &  70 &  413 & 23\\\\\n",
       "\t213 & 15 & 185 & 1 & 69 & 1 & 1 &  90 &  70 & 1075 &  0\\\\\n",
       "\t216 & 11 & 222 & 1 & 65 & 1 & 1 &  90 &  70 & 1025 & 18\\\\\n",
       "\t218 & 21 & 183 & 2 & 76 & 1 & 2 &  80 &  60 &  825 &  7\\\\\n",
       "\t219 & 11 & 211 & 1 & 70 & 2 & 2 &  70 &  30 &  131 &  3\\\\\n",
       "\t220 &  2 & 175 & 1 & 57 & 2 & 0 &  80 &  80 &  725 & 11\\\\\n",
       "\t221 & 22 & 197 & 1 & 67 & 1 & 1 &  80 &  90 & 1500 &  2\\\\\n",
       "\t222 & 11 & 203 & 1 & 71 & 2 & 1 &  80 &  90 & 1025 &  0\\\\\n",
       "\t225 & 13 & 191 & 1 & 39 & 1 & 0 &  90 &  90 & 2350 & -5\\\\\n",
       "\t226 & 32 & 105 & 1 & 75 & 2 & 2 &  60 &  70 & 1025 &  5\\\\\n",
       "\t227 &  6 & 174 & 1 & 66 & 1 & 1 &  90 & 100 & 1075 &  1\\\\\n",
       "\t228 & 22 & 177 & 1 & 58 & 2 & 1 &  80 &  90 & 1060 &  0\\\\\n",
       "\\end{tabular}\n"
      ],
      "text/markdown": [
       "\n",
       "A data.frame: 167 × 10\n",
       "\n",
       "| <!--/--> | inst &lt;dbl&gt; | time &lt;dbl&gt; | status &lt;dbl&gt; | age &lt;dbl&gt; | sex &lt;dbl&gt; | ph.ecog &lt;dbl&gt; | ph.karno &lt;dbl&gt; | pat.karno &lt;dbl&gt; | meal.cal &lt;dbl&gt; | wt.loss &lt;dbl&gt; |\n",
       "|---|---|---|---|---|---|---|---|---|---|---|\n",
       "| 2 |  3 |  455 | 2 | 68 | 1 | 0 |  90 |  90 | 1225 |  15 |\n",
       "| 4 |  5 |  210 | 2 | 57 | 1 | 1 |  90 |  60 | 1150 |  11 |\n",
       "| 6 | 12 | 1022 | 1 | 74 | 1 | 1 |  50 |  80 |  513 |   0 |\n",
       "| 7 |  7 |  310 | 2 | 68 | 2 | 2 |  70 |  60 |  384 |  10 |\n",
       "| 8 | 11 |  361 | 2 | 71 | 2 | 2 |  60 |  80 |  538 |   1 |\n",
       "| 9 |  1 |  218 | 2 | 53 | 1 | 1 |  70 |  80 |  825 |  16 |\n",
       "| 10 |  7 |  166 | 2 | 61 | 1 | 2 |  70 |  70 |  271 |  34 |\n",
       "| 11 |  6 |  170 | 2 | 57 | 1 | 1 |  80 |  80 | 1025 |  27 |\n",
       "| 15 | 12 |  567 | 2 | 57 | 1 | 1 |  80 |  70 | 2600 |  60 |\n",
       "| 17 | 22 |  613 | 2 | 70 | 1 | 1 |  90 | 100 | 1150 |  -5 |\n",
       "| 18 | 16 |  707 | 2 | 63 | 1 | 2 |  50 |  70 | 1025 |  22 |\n",
       "| 19 |  1 |   61 | 2 | 56 | 2 | 2 |  60 |  60 |  238 |  10 |\n",
       "| 21 | 11 |  301 | 2 | 67 | 1 | 1 |  80 |  80 | 1025 |  17 |\n",
       "| 22 |  6 |   81 | 2 | 49 | 2 | 0 | 100 |  70 | 1175 |  -8 |\n",
       "| 24 | 15 |  371 | 2 | 58 | 1 | 0 |  90 | 100 |  975 |  13 |\n",
       "| 26 | 12 |  520 | 2 | 70 | 2 | 1 |  90 |  80 |  825 |   6 |\n",
       "| 27 |  4 |  574 | 2 | 60 | 1 | 0 | 100 | 100 | 1025 | -13 |\n",
       "| 28 | 13 |  118 | 2 | 70 | 1 | 3 |  60 |  70 | 1075 |  20 |\n",
       "| 29 | 13 |  390 | 2 | 53 | 1 | 1 |  80 |  70 |  875 |  -7 |\n",
       "| 30 |  1 |   12 | 2 | 74 | 1 | 2 |  70 |  50 |  305 |  20 |\n",
       "| 31 | 12 |  473 | 2 | 69 | 2 | 1 |  90 |  90 | 1025 |  -1 |\n",
       "| 32 |  1 |   26 | 2 | 73 | 1 | 2 |  60 |  70 |  388 |  20 |\n",
       "| 34 | 16 |  107 | 2 | 60 | 2 | 2 |  50 |  60 |  925 | -15 |\n",
       "| 35 | 12 |   53 | 2 | 61 | 1 | 2 |  70 | 100 | 1075 |  10 |\n",
       "| 37 | 22 |  814 | 2 | 65 | 1 | 2 |  70 |  60 |  513 |  28 |\n",
       "| 38 | 15 |  965 | 1 | 66 | 2 | 1 |  70 |  90 |  875 |   4 |\n",
       "| 39 |  1 |   93 | 2 | 74 | 1 | 2 |  50 |  40 | 1225 |  24 |\n",
       "| 40 |  1 |  731 | 2 | 64 | 2 | 1 |  80 | 100 | 1175 |  15 |\n",
       "| 41 |  5 |  460 | 2 | 70 | 1 | 1 |  80 |  60 |  975 |  10 |\n",
       "| 42 | 11 |  153 | 2 | 73 | 2 | 2 |  60 |  70 | 1075 |  11 |\n",
       "| ... | ... | ... | ... | ... | ... | ... | ... | ... | ... | ... |\n",
       "| 187 |  2 | 285 | 2 | 72 | 2 | 2 |  70 |  90 |  463 | 20 |\n",
       "| 188 |  3 | 259 | 1 | 58 | 1 | 0 |  90 |  80 | 1300 |  8 |\n",
       "| 189 | 15 | 110 | 2 | 64 | 1 | 1 |  80 |  60 | 1025 | 12 |\n",
       "| 190 | 22 | 286 | 2 | 53 | 1 | 0 |  90 |  90 | 1225 |  8 |\n",
       "| 191 | 16 | 270 | 2 | 72 | 1 | 1 |  80 |  90 |  488 | 14 |\n",
       "| 194 |  1 | 225 | 1 | 64 | 1 | 1 |  90 |  80 |  825 | 33 |\n",
       "| 195 | 22 | 269 | 2 | 71 | 1 | 1 |  90 |  90 | 1300 | -2 |\n",
       "| 196 | 12 | 225 | 1 | 70 | 1 | 0 | 100 | 100 | 1175 |  6 |\n",
       "| 197 | 32 | 243 | 1 | 63 | 2 | 1 |  80 |  90 |  825 |  0 |\n",
       "| 199 |  1 | 276 | 1 | 52 | 2 | 0 | 100 |  80 |  975 |  0 |\n",
       "| 200 | 32 | 135 | 2 | 60 | 1 | 1 |  90 |  70 | 1275 |  0 |\n",
       "| 201 | 15 |  79 | 2 | 64 | 2 | 1 |  90 |  90 |  488 | 37 |\n",
       "| 202 | 22 |  59 | 2 | 73 | 1 | 1 |  60 |  60 | 2200 |  5 |\n",
       "| 203 | 32 | 240 | 1 | 63 | 2 | 0 |  90 | 100 | 1025 |  0 |\n",
       "| 204 |  3 | 202 | 1 | 50 | 2 | 0 | 100 | 100 |  635 |  1 |\n",
       "| 205 | 26 | 235 | 1 | 63 | 2 | 0 | 100 |  90 |  413 |  0 |\n",
       "| 208 | 13 | 239 | 2 | 50 | 2 | 2 |  60 |  60 | 1025 | -3 |\n",
       "| 211 |  1 | 252 | 1 | 60 | 2 | 0 | 100 |  90 |  488 | -2 |\n",
       "| 212 |  6 | 221 | 1 | 67 | 1 | 1 |  80 |  70 |  413 | 23 |\n",
       "| 213 | 15 | 185 | 1 | 69 | 1 | 1 |  90 |  70 | 1075 |  0 |\n",
       "| 216 | 11 | 222 | 1 | 65 | 1 | 1 |  90 |  70 | 1025 | 18 |\n",
       "| 218 | 21 | 183 | 2 | 76 | 1 | 2 |  80 |  60 |  825 |  7 |\n",
       "| 219 | 11 | 211 | 1 | 70 | 2 | 2 |  70 |  30 |  131 |  3 |\n",
       "| 220 |  2 | 175 | 1 | 57 | 2 | 0 |  80 |  80 |  725 | 11 |\n",
       "| 221 | 22 | 197 | 1 | 67 | 1 | 1 |  80 |  90 | 1500 |  2 |\n",
       "| 222 | 11 | 203 | 1 | 71 | 2 | 1 |  80 |  90 | 1025 |  0 |\n",
       "| 225 | 13 | 191 | 1 | 39 | 1 | 0 |  90 |  90 | 2350 | -5 |\n",
       "| 226 | 32 | 105 | 1 | 75 | 2 | 2 |  60 |  70 | 1025 |  5 |\n",
       "| 227 |  6 | 174 | 1 | 66 | 1 | 1 |  90 | 100 | 1075 |  1 |\n",
       "| 228 | 22 | 177 | 1 | 58 | 2 | 1 |  80 |  90 | 1060 |  0 |\n",
       "\n"
      ],
      "text/plain": [
       "    inst time status age sex ph.ecog ph.karno pat.karno meal.cal wt.loss\n",
       "2    3    455 2      68  1   0        90       90       1225      15    \n",
       "4    5    210 2      57  1   1        90       60       1150      11    \n",
       "6   12   1022 1      74  1   1        50       80        513       0    \n",
       "7    7    310 2      68  2   2        70       60        384      10    \n",
       "8   11    361 2      71  2   2        60       80        538       1    \n",
       "9    1    218 2      53  1   1        70       80        825      16    \n",
       "10   7    166 2      61  1   2        70       70        271      34    \n",
       "11   6    170 2      57  1   1        80       80       1025      27    \n",
       "15  12    567 2      57  1   1        80       70       2600      60    \n",
       "17  22    613 2      70  1   1        90      100       1150      -5    \n",
       "18  16    707 2      63  1   2        50       70       1025      22    \n",
       "19   1     61 2      56  2   2        60       60        238      10    \n",
       "21  11    301 2      67  1   1        80       80       1025      17    \n",
       "22   6     81 2      49  2   0       100       70       1175      -8    \n",
       "24  15    371 2      58  1   0        90      100        975      13    \n",
       "26  12    520 2      70  2   1        90       80        825       6    \n",
       "27   4    574 2      60  1   0       100      100       1025     -13    \n",
       "28  13    118 2      70  1   3        60       70       1075      20    \n",
       "29  13    390 2      53  1   1        80       70        875      -7    \n",
       "30   1     12 2      74  1   2        70       50        305      20    \n",
       "31  12    473 2      69  2   1        90       90       1025      -1    \n",
       "32   1     26 2      73  1   2        60       70        388      20    \n",
       "34  16    107 2      60  2   2        50       60        925     -15    \n",
       "35  12     53 2      61  1   2        70      100       1075      10    \n",
       "37  22    814 2      65  1   2        70       60        513      28    \n",
       "38  15    965 1      66  2   1        70       90        875       4    \n",
       "39   1     93 2      74  1   2        50       40       1225      24    \n",
       "40   1    731 2      64  2   1        80      100       1175      15    \n",
       "41   5    460 2      70  1   1        80       60        975      10    \n",
       "42  11    153 2      73  2   2        60       70       1075      11    \n",
       "... ...  ...  ...    ... ... ...     ...      ...       ...      ...    \n",
       "187  2   285  2      72  2   2        70       90        463     20     \n",
       "188  3   259  1      58  1   0        90       80       1300      8     \n",
       "189 15   110  2      64  1   1        80       60       1025     12     \n",
       "190 22   286  2      53  1   0        90       90       1225      8     \n",
       "191 16   270  2      72  1   1        80       90        488     14     \n",
       "194  1   225  1      64  1   1        90       80        825     33     \n",
       "195 22   269  2      71  1   1        90       90       1300     -2     \n",
       "196 12   225  1      70  1   0       100      100       1175      6     \n",
       "197 32   243  1      63  2   1        80       90        825      0     \n",
       "199  1   276  1      52  2   0       100       80        975      0     \n",
       "200 32   135  2      60  1   1        90       70       1275      0     \n",
       "201 15    79  2      64  2   1        90       90        488     37     \n",
       "202 22    59  2      73  1   1        60       60       2200      5     \n",
       "203 32   240  1      63  2   0        90      100       1025      0     \n",
       "204  3   202  1      50  2   0       100      100        635      1     \n",
       "205 26   235  1      63  2   0       100       90        413      0     \n",
       "208 13   239  2      50  2   2        60       60       1025     -3     \n",
       "211  1   252  1      60  2   0       100       90        488     -2     \n",
       "212  6   221  1      67  1   1        80       70        413     23     \n",
       "213 15   185  1      69  1   1        90       70       1075      0     \n",
       "216 11   222  1      65  1   1        90       70       1025     18     \n",
       "218 21   183  2      76  1   2        80       60        825      7     \n",
       "219 11   211  1      70  2   2        70       30        131      3     \n",
       "220  2   175  1      57  2   0        80       80        725     11     \n",
       "221 22   197  1      67  1   1        80       90       1500      2     \n",
       "222 11   203  1      71  2   1        80       90       1025      0     \n",
       "225 13   191  1      39  1   0        90       90       2350     -5     \n",
       "226 32   105  1      75  2   2        60       70       1025      5     \n",
       "227  6   174  1      66  1   1        90      100       1075      1     \n",
       "228 22   177  1      58  2   1        80       90       1060      0     "
      ]
     },
     "metadata": {},
     "output_type": "display_data"
    },
    {
     "data": {
      "text/html": [
       "<style>\n",
       ".dl-inline {width: auto; margin:0; padding: 0}\n",
       ".dl-inline>dt, .dl-inline>dd {float: none; width: auto; display: inline-block}\n",
       ".dl-inline>dt::after {content: \":\\0020\"; padding-right: .5ex}\n",
       ".dl-inline>dt:not(:first-of-type) {padding-left: .5ex}\n",
       "</style><dl class=dl-inline><dt>inst</dt><dd>0</dd><dt>time</dt><dd>0</dd><dt>status</dt><dd>0</dd><dt>age</dt><dd>0</dd><dt>sex</dt><dd>0</dd><dt>ph.ecog</dt><dd>0</dd><dt>ph.karno</dt><dd>0</dd><dt>pat.karno</dt><dd>0</dd><dt>meal.cal</dt><dd>0</dd><dt>wt.loss</dt><dd>0</dd></dl>\n"
      ],
      "text/latex": [
       "\\begin{description*}\n",
       "\\item[inst] 0\n",
       "\\item[time] 0\n",
       "\\item[status] 0\n",
       "\\item[age] 0\n",
       "\\item[sex] 0\n",
       "\\item[ph.ecog] 0\n",
       "\\item[ph.karno] 0\n",
       "\\item[pat.karno] 0\n",
       "\\item[meal.cal] 0\n",
       "\\item[wt.loss] 0\n",
       "\\end{description*}\n"
      ],
      "text/markdown": [
       "inst\n",
       ":   0time\n",
       ":   0status\n",
       ":   0age\n",
       ":   0sex\n",
       ":   0ph.ecog\n",
       ":   0ph.karno\n",
       ":   0pat.karno\n",
       ":   0meal.cal\n",
       ":   0wt.loss\n",
       ":   0\n",
       "\n"
      ],
      "text/plain": [
       "     inst      time    status       age       sex   ph.ecog  ph.karno pat.karno \n",
       "        0         0         0         0         0         0         0         0 \n",
       " meal.cal   wt.loss \n",
       "        0         0 "
      ]
     },
     "metadata": {},
     "output_type": "display_data"
    }
   ],
   "source": [
    "na.omit(cancer)\n",
    "sapply(na.omit(cancer), function(x) sum(is.na(na.omit(cancer))))"
   ]
  },
  {
   "cell_type": "code",
   "execution_count": 8,
   "metadata": {},
   "outputs": [],
   "source": [
    "CanCl <- na.omit(cancer)"
   ]
  },
  {
   "cell_type": "markdown",
   "metadata": {},
   "source": [
    "### Tabla descriptiva"
   ]
  },
  {
   "cell_type": "code",
   "execution_count": 9,
   "metadata": {},
   "outputs": [
    {
     "data": {
      "text/plain": [
       "   \n",
       "     1  2\n",
       "  1 21 26\n",
       "  2 82 38"
      ]
     },
     "metadata": {},
     "output_type": "display_data"
    }
   ],
   "source": [
    "table(CanCl$status,CanCl$sex)"
   ]
  },
  {
   "cell_type": "code",
   "execution_count": 10,
   "metadata": {},
   "outputs": [
    {
     "data": {
      "text/plain": [
       "sexo\n",
       "Masculino  Femenino \n",
       "      138        90 "
      ]
     },
     "metadata": {},
     "output_type": "display_data"
    }
   ],
   "source": [
    "sexo <- factor(cancer$sex)\n",
    "levels(sexo) <- c('Masculino', 'Femenino')\n",
    "table(sexo)"
   ]
  },
  {
   "cell_type": "code",
   "execution_count": 11,
   "metadata": {},
   "outputs": [
    {
     "data": {
      "image/png": "[encoded data removed]",
      "text/plain": [
       "Plot with title \"Proporciones por sexo\""
      ]
     },
     "metadata": {
      "image/png": {
       "height": 420,
       "width": 420
      }
     },
     "output_type": "display_data"
    }
   ],
   "source": [
    "pie(table(sexo),\n",
    "    col = c('green', 'purple'),\n",
    "   main = 'Proporciones por sexo')"
   ]
  },
  {
   "cell_type": "markdown",
   "metadata": {},
   "source": [
    "#### Respuesta compuesta"
   ]
  },
  {
   "cell_type": "code",
   "execution_count": 12,
   "metadata": {},
   "outputs": [],
   "source": [
    "Resp_comp <- Surv(CanCl$time, CanCl$status == 2)"
   ]
  },
  {
   "cell_type": "markdown",
   "metadata": {},
   "source": [
    "#### Modelo de Cox"
   ]
  },
  {
   "cell_type": "code",
   "execution_count": 13,
   "metadata": {},
   "outputs": [
    {
     "data": {
      "text/plain": [
       "Call:\n",
       "coxph(formula = Resp_comp ~ CanCl$inst + CanCl$age + CanCl$sex + \n",
       "    CanCl$ph.ecog + CanCl$ph.karno + CanCl$pat.karno + CanCl$meal.cal + \n",
       "    CanCl$wt.loss)\n",
       "\n",
       "  n= 167, number of events= 120 \n",
       "\n",
       "                      coef  exp(coef)   se(coef)      z Pr(>|z|)    \n",
       "CanCl$inst      -3.037e-02  9.701e-01  1.312e-02 -2.315 0.020619 *  \n",
       "CanCl$age        1.281e-02  1.013e+00  1.194e-02  1.073 0.283403    \n",
       "CanCl$sex       -5.666e-01  5.674e-01  2.014e-01 -2.814 0.004890 ** \n",
       "CanCl$ph.ecog    9.074e-01  2.478e+00  2.386e-01  3.803 0.000143 ***\n",
       "CanCl$ph.karno   2.658e-02  1.027e+00  1.163e-02  2.286 0.022231 *  \n",
       "CanCl$pat.karno -1.091e-02  9.891e-01  8.141e-03 -1.340 0.180160    \n",
       "CanCl$meal.cal   2.602e-06  1.000e+00  2.677e-04  0.010 0.992244    \n",
       "CanCl$wt.loss   -1.671e-02  9.834e-01  7.911e-03 -2.112 0.034647 *  \n",
       "---\n",
       "Signif. codes:  0 '***' 0.001 '**' 0.01 '*' 0.05 '.' 0.1 ' ' 1\n",
       "\n",
       "                exp(coef) exp(-coef) lower .95 upper .95\n",
       "CanCl$inst         0.9701     1.0308    0.9455    0.9954\n",
       "CanCl$age          1.0129     0.9873    0.9895    1.0369\n",
       "CanCl$sex          0.5674     1.7623    0.3824    0.8420\n",
       "CanCl$ph.ecog      2.4778     0.4036    1.5523    3.9552\n",
       "CanCl$ph.karno     1.0269     0.9738    1.0038    1.0506\n",
       "CanCl$pat.karno    0.9891     1.0110    0.9735    1.0051\n",
       "CanCl$meal.cal     1.0000     1.0000    0.9995    1.0005\n",
       "CanCl$wt.loss      0.9834     1.0169    0.9683    0.9988\n",
       "\n",
       "Concordance= 0.648  (se = 0.03 )\n",
       "Likelihood ratio test= 33.7  on 8 df,   p=5e-05\n",
       "Wald test            = 31.72  on 8 df,   p=1e-04\n",
       "Score (logrank) test = 32.51  on 8 df,   p=8e-05\n"
      ]
     },
     "metadata": {},
     "output_type": "display_data"
    }
   ],
   "source": [
    "summary(coxph(Resp_comp~CanCl$inst+CanCl$age+CanCl$sex+CanCl$ph.ecog+CanCl$ph.karno+CanCl$pat.karno+CanCl$meal.cal+CanCl$wt.loss))"
   ]
  },
  {
   "cell_type": "markdown",
   "metadata": {},
   "source": [
    "Al menos una variable es significativa"
   ]
  },
  {
   "cell_type": "code",
   "execution_count": 14,
   "metadata": {},
   "outputs": [
    {
     "data": {
      "text/plain": [
       "Call:\n",
       "coxph(formula = Resp_comp ~ CanCl$inst + CanCl$sex + CanCl$ph.ecog + \n",
       "    CanCl$ph.karno + CanCl$wt.loss)\n",
       "\n",
       "  n= 167, number of events= 120 \n",
       "\n",
       "                    coef exp(coef)  se(coef)      z Pr(>|z|)    \n",
       "CanCl$inst     -0.030042  0.970404  0.012931 -2.323  0.02016 *  \n",
       "CanCl$sex      -0.571959  0.564419  0.198865 -2.876  0.00403 ** \n",
       "CanCl$ph.ecog   0.993224  2.699926  0.232115  4.279 1.88e-05 ***\n",
       "CanCl$ph.karno  0.021492  1.021725  0.011222  1.915  0.05547 .  \n",
       "CanCl$wt.loss  -0.014800  0.985309  0.007664 -1.931  0.05348 .  \n",
       "---\n",
       "Signif. codes:  0 '***' 0.001 '**' 0.01 '*' 0.05 '.' 0.1 ' ' 1\n",
       "\n",
       "               exp(coef) exp(-coef) lower .95 upper .95\n",
       "CanCl$inst        0.9704     1.0305    0.9461    0.9953\n",
       "CanCl$sex         0.5644     1.7717    0.3822    0.8334\n",
       "CanCl$ph.ecog     2.6999     0.3704    1.7131    4.2553\n",
       "CanCl$ph.karno    1.0217     0.9787    0.9995    1.0444\n",
       "CanCl$wt.loss     0.9853     1.0149    0.9706    1.0002\n",
       "\n",
       "Concordance= 0.641  (se = 0.032 )\n",
       "Likelihood ratio test= 30.44  on 5 df,   p=1e-05\n",
       "Wald test            = 29.36  on 5 df,   p=2e-05\n",
       "Score (logrank) test = 29.49  on 5 df,   p=2e-05\n"
      ]
     },
     "metadata": {},
     "output_type": "display_data"
    }
   ],
   "source": [
    "summary( coxph(Resp_comp~CanCl$inst+CanCl$sex+CanCl$ph.ecog+CanCl$ph.karno+CanCl$wt.loss))"
   ]
  },
  {
   "cell_type": "markdown",
   "metadata": {},
   "source": [
    "Las variables son significativas para un alfa de 0.1"
   ]
  },
  {
   "cell_type": "code",
   "execution_count": 15,
   "metadata": {},
   "outputs": [],
   "source": [
    "Cox_Can <- coxph(Resp_comp~CanCl$inst+CanCl$sex+CanCl$ph.ecog+CanCl$ph.karno+CanCl$wt.loss)"
   ]
  },
  {
   "cell_type": "markdown",
   "metadata": {},
   "source": [
    "Modelo elegido al 90%"
   ]
  },
  {
   "cell_type": "markdown",
   "metadata": {},
   "source": [
    "Residuos de Martingala"
   ]
  },
  {
   "cell_type": "code",
   "execution_count": 16,
   "metadata": {},
   "outputs": [
    {
     "data": {
      "text/html": [
       "<style>\n",
       ".dl-inline {width: auto; margin:0; padding: 0}\n",
       ".dl-inline>dt, .dl-inline>dd {float: none; width: auto; display: inline-block}\n",
       ".dl-inline>dt::after {content: \":\\0020\"; padding-right: .5ex}\n",
       ".dl-inline>dt:not(:first-of-type) {padding-left: .5ex}\n",
       "</style><dl class=dl-inline><dt>1</dt><dd>0.277637402624833</dd><dt>2</dt><dd>0.396178178478339</dd><dt>3</dt><dd>-2.1496901510799</dd><dt>4</dt><dd>-0.133887819415373</dd><dt>5</dt><dd>-0.136068981036297</dd><dt>6</dt><dd>0.56477241111362</dd><dt>7</dt><dd>0.516673343095234</dd><dt>8</dt><dd>0.729834186051682</dd><dt>9</dt><dd>0.157979088691062</dd><dt>10</dt><dd>-1.2678832893926</dd><dt>11</dt><dd>-1.8269510370445</dd><dt>12</dt><dd>0.867877021871067</dd><dt>13</dt><dd>0.318298872593589</dd><dt>14</dt><dd>0.937917892990152</dd><dt>15</dt><dd>0.579152604545296</dd><dt>16</dt><dd>-0.140329166298875</dd><dt>17</dt><dd>-0.863498912948873</dd><dt>18</dt><dd>0.276059646340166</dd><dt>19</dt><dd>-0.341820169049754</dd><dt>20</dt><dd>0.953280299820386</dd><dt>21</dt><dd>-0.155874993212799</dd><dt>22</dt><dd>0.923059505943179</dd><dt>23</dt><dd>0.828281400480462</dd><dt>24</dt><dd>0.871484835023272</dd><dt>25</dt><dd>-3.36476844599365</dd><dt>26</dt><dd>-1.60622013849262</dd><dt>27</dt><dd>0.767465094923998</dd><dt>28</dt><dd>-1.06889258357391</dd><dt>29</dt><dd>-0.683480978854129</dd><dt>30</dt><dd>0.7763446085008</dd><dt>31</dt><dd>0.744187732971271</dd><dt>32</dt><dd>-0.503966878766506</dd><dt>33</dt><dd>0.702556473935029</dd><dt>34</dt><dd>0.642050375831644</dd><dt>35</dt><dd>-0.951075424394987</dd><dt>36</dt><dd>-0.0772843063279829</dd><dt>37</dt><dd>-0.708441105275158</dd><dt>38</dt><dd>0.976023708632861</dd><dt>39</dt><dd>0.563086775141117</dd><dt>40</dt><dd>-2.36083097601132</dd><dt>41</dt><dd>0.99747609471146</dd><dt>42</dt><dd>-0.726378666169379</dd><dt>43</dt><dd>-0.012806693014092</dd><dt>44</dt><dd>-0.15027883030035</dd><dt>45</dt><dd>0.764480126239516</dd><dt>46</dt><dd>0.92842946214774</dd><dt>47</dt><dd>0.612185537229057</dd><dt>48</dt><dd>0.678079756306794</dd><dt>49</dt><dd>-1.25323860250374</dd><dt>50</dt><dd>0.445712566170254</dd><dt>51</dt><dd>0.51887988236015</dd><dt>52</dt><dd>-1.85252866607959</dd><dt>53</dt><dd>0.568202131573263</dd><dt>54</dt><dd>0.963113077233403</dd><dt>55</dt><dd>0.726952786045094</dd><dt>56</dt><dd>0.323637357108975</dd><dt>57</dt><dd>-0.326453496742007</dd><dt>58</dt><dd>0.184384967273381</dd><dt>59</dt><dd>0.857766444494315</dd><dt>60</dt><dd>-1.50869002519895</dd><dt>61</dt><dd>0.886543451856769</dd><dt>62</dt><dd>-0.368179684341001</dd><dt>63</dt><dd>0.85743879736383</dd><dt>64</dt><dd>-3.26033347434659</dd><dt>65</dt><dd>0.305312843947303</dd><dt>66</dt><dd>0.0156794799418779</dd><dt>67</dt><dd>0.898350583730222</dd><dt>68</dt><dd>-1.25385503444845</dd><dt>69</dt><dd>0.129287112510584</dd><dt>70</dt><dd>-0.544947369404794</dd><dt>71</dt><dd>0.794036799155492</dd><dt>72</dt><dd>0.709710161067488</dd><dt>73</dt><dd>0.879109771467958</dd><dt>74</dt><dd>-1.13979625198157</dd><dt>75</dt><dd>-0.706058555612879</dd><dt>76</dt><dd>0.0558731520313512</dd><dt>77</dt><dd>0.779076659485055</dd><dt>78</dt><dd>-0.711977303642277</dd><dt>79</dt><dd>-0.470202628234637</dd><dt>80</dt><dd>-0.155744496223775</dd><dt>81</dt><dd>0.986523497955208</dd><dt>82</dt><dd>0.502267113712973</dd><dt>83</dt><dd>0.323795827263093</dd><dt>84</dt><dd>0.93724674010458</dd><dt>85</dt><dd>-0.0140099651377232</dd><dt>86</dt><dd>-1.88141380392706</dd><dt>87</dt><dd>-0.0678251592969168</dd><dt>88</dt><dd>0.0902981170183375</dd><dt>89</dt><dd>0.703105439688139</dd><dt>90</dt><dd>-0.134277335951051</dd><dt>91</dt><dd>0.848921631024456</dd><dt>92</dt><dd>0.0204108351008314</dd><dt>93</dt><dd>0.751253394740369</dd><dt>94</dt><dd>0.84675076581034</dd><dt>95</dt><dd>0.900746560032177</dd><dt>96</dt><dd>-1.69755033595741</dd><dt>97</dt><dd>0.724305512924381</dd><dt>98</dt><dd>0.31165854276923</dd><dt>99</dt><dd>0.632756297739945</dd><dt>100</dt><dd>-0.711151701396645</dd><dt>101</dt><dd>-1.85759807860777</dd><dt>102</dt><dd>0.454379623982318</dd><dt>103</dt><dd>0.478334123037065</dd><dt>104</dt><dd>-0.93094226244374</dd><dt>105</dt><dd>0.358083154597758</dd><dt>106</dt><dd>0.906544712632542</dd><dt>107</dt><dd>-1.01676510764872</dd><dt>108</dt><dd>0.467138640598241</dd><dt>109</dt><dd>0.731595209225512</dd><dt>110</dt><dd>0.978185681613205</dd><dt>111</dt><dd>0.556938567292417</dd><dt>112</dt><dd>0.720089850302884</dd><dt>113</dt><dd>-0.501217132648078</dd><dt>114</dt><dd>0.631600472215854</dd><dt>115</dt><dd>-0.742486905203334</dd><dt>116</dt><dd>-0.153483147925173</dd><dt>117</dt><dd>0.534975509339302</dd><dt>118</dt><dd>-0.858862567095457</dd><dt>119</dt><dd>0.668928196634891</dd><dt>120</dt><dd>-1.14325200335684</dd><dt>121</dt><dd>-0.134480087388611</dd><dt>122</dt><dd>0.613124693390209</dd><dt>123</dt><dd>0.428207569790542</dd><dt>124</dt><dd>0.577963258260084</dd><dt>125</dt><dd>-0.99369788035364</dd><dt>126</dt><dd>0.691888559512514</dd><dt>127</dt><dd>0.598924003185964</dd><dt>128</dt><dd>-0.316965776035996</dd><dt>129</dt><dd>-1.26145417773113</dd><dt>130</dt><dd>-0.454193024352005</dd><dt>131</dt><dd>0.0723064393309829</dd><dt>132</dt><dd>0.845163950974302</dd><dt>133</dt><dd>-0.246938930122427</dd><dt>134</dt><dd>-0.425431172527356</dd><dt>135</dt><dd>-0.608806568178015</dd><dt>136</dt><dd>-0.209502760480987</dd><dt>137</dt><dd>-0.227420655736065</dd><dt>138</dt><dd>0.0847187434514541</dd><dt>139</dt><dd>-0.326988794339416</dd><dt>140</dt><dd>0.844925722173156</dd><dt>141</dt><dd>0.767515476043325</dd><dt>142</dt><dd>0.510965524163895</dd><dt>143</dt><dd>-0.550193168325596</dd><dt>144</dt><dd>0.374616634480209</dd><dt>145</dt><dd>-0.270726065222399</dd><dt>146</dt><dd>-0.179533162434914</dd><dt>147</dt><dd>-0.303364839238195</dd><dt>148</dt><dd>0.850056953329805</dd><dt>149</dt><dd>0.950023604952067</dd><dt>150</dt><dd>0.960817082782628</dd><dt>151</dt><dd>-0.0824390427732173</dd><dt>152</dt><dd>-0.182091560187633</dd><dt>153</dt><dd>-0.119144463181057</dd><dt>154</dt><dd>0.416558583637165</dd><dt>155</dt><dd>-0.281737943434309</dd><dt>156</dt><dd>-0.41862647592134</dd><dt>157</dt><dd>-0.455650759415616</dd><dt>158</dt><dd>-0.494583531553765</dd><dt>159</dt><dd>0.25292069395197</dd><dt>160</dt><dd>-0.562754938790789</dd><dt>161</dt><dd>-0.0807070110599727</dd><dt>162</dt><dd>-0.297789211595895</dd><dt>163</dt><dd>-0.255276565245855</dd><dt>164</dt><dd>-0.19298030620491</dd><dt>165</dt><dd>-0.0935335487009361</dd><dt>166</dt><dd>-0.492140850671805</dd><dt>167</dt><dd>-0.145028058603603</dd></dl>\n"
      ],
      "text/latex": [
       "\\begin{description*}\n",
       "\\item[1] 0.277637402624833\n",
       "\\item[2] 0.396178178478339\n",
       "\\item[3] -2.1496901510799\n",
       "\\item[4] -0.133887819415373\n",
       "\\item[5] -0.136068981036297\n",
       "\\item[6] 0.56477241111362\n",
       "\\item[7] 0.516673343095234\n",
       "\\item[8] 0.729834186051682\n",
       "\\item[9] 0.157979088691062\n",
       "\\item[10] -1.2678832893926\n",
       "\\item[11] -1.8269510370445\n",
       "\\item[12] 0.867877021871067\n",
       "\\item[13] 0.318298872593589\n",
       "\\item[14] 0.937917892990152\n",
       "\\item[15] 0.579152604545296\n",
       "\\item[16] -0.140329166298875\n",
       "\\item[17] -0.863498912948873\n",
       "\\item[18] 0.276059646340166\n",
       "\\item[19] -0.341820169049754\n",
       "\\item[20] 0.953280299820386\n",
       "\\item[21] -0.155874993212799\n",
       "\\item[22] 0.923059505943179\n",
       "\\item[23] 0.828281400480462\n",
       "\\item[24] 0.871484835023272\n",
       "\\item[25] -3.36476844599365\n",
       "\\item[26] -1.60622013849262\n",
       "\\item[27] 0.767465094923998\n",
       "\\item[28] -1.06889258357391\n",
       "\\item[29] -0.683480978854129\n",
       "\\item[30] 0.7763446085008\n",
       "\\item[31] 0.744187732971271\n",
       "\\item[32] -0.503966878766506\n",
       "\\item[33] 0.702556473935029\n",
       "\\item[34] 0.642050375831644\n",
       "\\item[35] -0.951075424394987\n",
       "\\item[36] -0.0772843063279829\n",
       "\\item[37] -0.708441105275158\n",
       "\\item[38] 0.976023708632861\n",
       "\\item[39] 0.563086775141117\n",
       "\\item[40] -2.36083097601132\n",
       "\\item[41] 0.99747609471146\n",
       "\\item[42] -0.726378666169379\n",
       "\\item[43] -0.012806693014092\n",
       "\\item[44] -0.15027883030035\n",
       "\\item[45] 0.764480126239516\n",
       "\\item[46] 0.92842946214774\n",
       "\\item[47] 0.612185537229057\n",
       "\\item[48] 0.678079756306794\n",
       "\\item[49] -1.25323860250374\n",
       "\\item[50] 0.445712566170254\n",
       "\\item[51] 0.51887988236015\n",
       "\\item[52] -1.85252866607959\n",
       "\\item[53] 0.568202131573263\n",
       "\\item[54] 0.963113077233403\n",
       "\\item[55] 0.726952786045094\n",
       "\\item[56] 0.323637357108975\n",
       "\\item[57] -0.326453496742007\n",
       "\\item[58] 0.184384967273381\n",
       "\\item[59] 0.857766444494315\n",
       "\\item[60] -1.50869002519895\n",
       "\\item[61] 0.886543451856769\n",
       "\\item[62] -0.368179684341001\n",
       "\\item[63] 0.85743879736383\n",
       "\\item[64] -3.26033347434659\n",
       "\\item[65] 0.305312843947303\n",
       "\\item[66] 0.0156794799418779\n",
       "\\item[67] 0.898350583730222\n",
       "\\item[68] -1.25385503444845\n",
       "\\item[69] 0.129287112510584\n",
       "\\item[70] -0.544947369404794\n",
       "\\item[71] 0.794036799155492\n",
       "\\item[72] 0.709710161067488\n",
       "\\item[73] 0.879109771467958\n",
       "\\item[74] -1.13979625198157\n",
       "\\item[75] -0.706058555612879\n",
       "\\item[76] 0.0558731520313512\n",
       "\\item[77] 0.779076659485055\n",
       "\\item[78] -0.711977303642277\n",
       "\\item[79] -0.470202628234637\n",
       "\\item[80] -0.155744496223775\n",
       "\\item[81] 0.986523497955208\n",
       "\\item[82] 0.502267113712973\n",
       "\\item[83] 0.323795827263093\n",
       "\\item[84] 0.93724674010458\n",
       "\\item[85] -0.0140099651377232\n",
       "\\item[86] -1.88141380392706\n",
       "\\item[87] -0.0678251592969168\n",
       "\\item[88] 0.0902981170183375\n",
       "\\item[89] 0.703105439688139\n",
       "\\item[90] -0.134277335951051\n",
       "\\item[91] 0.848921631024456\n",
       "\\item[92] 0.0204108351008314\n",
       "\\item[93] 0.751253394740369\n",
       "\\item[94] 0.84675076581034\n",
       "\\item[95] 0.900746560032177\n",
       "\\item[96] -1.69755033595741\n",
       "\\item[97] 0.724305512924381\n",
       "\\item[98] 0.31165854276923\n",
       "\\item[99] 0.632756297739945\n",
       "\\item[100] -0.711151701396645\n",
       "\\item[101] -1.85759807860777\n",
       "\\item[102] 0.454379623982318\n",
       "\\item[103] 0.478334123037065\n",
       "\\item[104] -0.93094226244374\n",
       "\\item[105] 0.358083154597758\n",
       "\\item[106] 0.906544712632542\n",
       "\\item[107] -1.01676510764872\n",
       "\\item[108] 0.467138640598241\n",
       "\\item[109] 0.731595209225512\n",
       "\\item[110] 0.978185681613205\n",
       "\\item[111] 0.556938567292417\n",
       "\\item[112] 0.720089850302884\n",
       "\\item[113] -0.501217132648078\n",
       "\\item[114] 0.631600472215854\n",
       "\\item[115] -0.742486905203334\n",
       "\\item[116] -0.153483147925173\n",
       "\\item[117] 0.534975509339302\n",
       "\\item[118] -0.858862567095457\n",
       "\\item[119] 0.668928196634891\n",
       "\\item[120] -1.14325200335684\n",
       "\\item[121] -0.134480087388611\n",
       "\\item[122] 0.613124693390209\n",
       "\\item[123] 0.428207569790542\n",
       "\\item[124] 0.577963258260084\n",
       "\\item[125] -0.99369788035364\n",
       "\\item[126] 0.691888559512514\n",
       "\\item[127] 0.598924003185964\n",
       "\\item[128] -0.316965776035996\n",
       "\\item[129] -1.26145417773113\n",
       "\\item[130] -0.454193024352005\n",
       "\\item[131] 0.0723064393309829\n",
       "\\item[132] 0.845163950974302\n",
       "\\item[133] -0.246938930122427\n",
       "\\item[134] -0.425431172527356\n",
       "\\item[135] -0.608806568178015\n",
       "\\item[136] -0.209502760480987\n",
       "\\item[137] -0.227420655736065\n",
       "\\item[138] 0.0847187434514541\n",
       "\\item[139] -0.326988794339416\n",
       "\\item[140] 0.844925722173156\n",
       "\\item[141] 0.767515476043325\n",
       "\\item[142] 0.510965524163895\n",
       "\\item[143] -0.550193168325596\n",
       "\\item[144] 0.374616634480209\n",
       "\\item[145] -0.270726065222399\n",
       "\\item[146] -0.179533162434914\n",
       "\\item[147] -0.303364839238195\n",
       "\\item[148] 0.850056953329805\n",
       "\\item[149] 0.950023604952067\n",
       "\\item[150] 0.960817082782628\n",
       "\\item[151] -0.0824390427732173\n",
       "\\item[152] -0.182091560187633\n",
       "\\item[153] -0.119144463181057\n",
       "\\item[154] 0.416558583637165\n",
       "\\item[155] -0.281737943434309\n",
       "\\item[156] -0.41862647592134\n",
       "\\item[157] -0.455650759415616\n",
       "\\item[158] -0.494583531553765\n",
       "\\item[159] 0.25292069395197\n",
       "\\item[160] -0.562754938790789\n",
       "\\item[161] -0.0807070110599727\n",
       "\\item[162] -0.297789211595895\n",
       "\\item[163] -0.255276565245855\n",
       "\\item[164] -0.19298030620491\n",
       "\\item[165] -0.0935335487009361\n",
       "\\item[166] -0.492140850671805\n",
       "\\item[167] -0.145028058603603\n",
       "\\end{description*}\n"
      ],
      "text/markdown": [
       "1\n",
       ":   0.2776374026248332\n",
       ":   0.3961781784783393\n",
       ":   -2.14969015107994\n",
       ":   -0.1338878194153735\n",
       ":   -0.1360689810362976\n",
       ":   0.564772411113627\n",
       ":   0.5166733430952348\n",
       ":   0.7298341860516829\n",
       ":   0.15797908869106210\n",
       ":   -1.267883289392611\n",
       ":   -1.826951037044512\n",
       ":   0.86787702187106713\n",
       ":   0.31829887259358914\n",
       ":   0.93791789299015215\n",
       ":   0.57915260454529616\n",
       ":   -0.14032916629887517\n",
       ":   -0.86349891294887318\n",
       ":   0.27605964634016619\n",
       ":   -0.34182016904975420\n",
       ":   0.95328029982038621\n",
       ":   -0.15587499321279922\n",
       ":   0.92305950594317923\n",
       ":   0.82828140048046224\n",
       ":   0.87148483502327225\n",
       ":   -3.3647684459936526\n",
       ":   -1.6062201384926227\n",
       ":   0.76746509492399828\n",
       ":   -1.0688925835739129\n",
       ":   -0.68348097885412930\n",
       ":   0.776344608500831\n",
       ":   0.74418773297127132\n",
       ":   -0.50396687876650633\n",
       ":   0.70255647393502934\n",
       ":   0.64205037583164435\n",
       ":   -0.95107542439498736\n",
       ":   -0.077284306327982937\n",
       ":   -0.70844110527515838\n",
       ":   0.97602370863286139\n",
       ":   0.56308677514111740\n",
       ":   -2.3608309760113241\n",
       ":   0.9974760947114642\n",
       ":   -0.72637866616937943\n",
       ":   -0.01280669301409244\n",
       ":   -0.1502788303003545\n",
       ":   0.76448012623951646\n",
       ":   0.9284294621477447\n",
       ":   0.61218553722905748\n",
       ":   0.67807975630679449\n",
       ":   -1.2532386025037450\n",
       ":   0.44571256617025451\n",
       ":   0.5188798823601552\n",
       ":   -1.8525286660795953\n",
       ":   0.56820213157326354\n",
       ":   0.96311307723340355\n",
       ":   0.72695278604509456\n",
       ":   0.32363735710897557\n",
       ":   -0.32645349674200758\n",
       ":   0.18438496727338159\n",
       ":   0.85776644449431560\n",
       ":   -1.5086900251989561\n",
       ":   0.88654345185676962\n",
       ":   -0.36817968434100163\n",
       ":   0.8574387973638364\n",
       ":   -3.2603334743465965\n",
       ":   0.30531284394730366\n",
       ":   0.015679479941877967\n",
       ":   0.89835058373022268\n",
       ":   -1.2538550344484569\n",
       ":   0.12928711251058470\n",
       ":   -0.54494736940479471\n",
       ":   0.79403679915549272\n",
       ":   0.70971016106748873\n",
       ":   0.87910977146795874\n",
       ":   -1.1397962519815775\n",
       ":   -0.70605855561287976\n",
       ":   0.055873152031351277\n",
       ":   0.77907665948505578\n",
       ":   -0.71197730364227779\n",
       ":   -0.47020262823463780\n",
       ":   -0.15574449622377581\n",
       ":   0.98652349795520882\n",
       ":   0.50226711371297383\n",
       ":   0.32379582726309384\n",
       ":   0.9372467401045885\n",
       ":   -0.014009965137723286\n",
       ":   -1.8814138039270687\n",
       ":   -0.067825159296916888\n",
       ":   0.090298117018337589\n",
       ":   0.70310543968813990\n",
       ":   -0.13427733595105191\n",
       ":   0.84892163102445692\n",
       ":   0.020410835100831493\n",
       ":   0.75125339474036994\n",
       ":   0.8467507658103495\n",
       ":   0.90074656003217796\n",
       ":   -1.6975503359574197\n",
       ":   0.72430551292438198\n",
       ":   0.3116585427692399\n",
       ":   0.632756297739945100\n",
       ":   -0.711151701396645101\n",
       ":   -1.85759807860777102\n",
       ":   0.454379623982318103\n",
       ":   0.478334123037065104\n",
       ":   -0.93094226244374105\n",
       ":   0.358083154597758106\n",
       ":   0.906544712632542107\n",
       ":   -1.01676510764872108\n",
       ":   0.467138640598241109\n",
       ":   0.731595209225512110\n",
       ":   0.978185681613205111\n",
       ":   0.556938567292417112\n",
       ":   0.720089850302884113\n",
       ":   -0.501217132648078114\n",
       ":   0.631600472215854115\n",
       ":   -0.742486905203334116\n",
       ":   -0.153483147925173117\n",
       ":   0.534975509339302118\n",
       ":   -0.858862567095457119\n",
       ":   0.668928196634891120\n",
       ":   -1.14325200335684121\n",
       ":   -0.134480087388611122\n",
       ":   0.613124693390209123\n",
       ":   0.428207569790542124\n",
       ":   0.577963258260084125\n",
       ":   -0.99369788035364126\n",
       ":   0.691888559512514127\n",
       ":   0.598924003185964128\n",
       ":   -0.316965776035996129\n",
       ":   -1.26145417773113130\n",
       ":   -0.454193024352005131\n",
       ":   0.0723064393309829132\n",
       ":   0.845163950974302133\n",
       ":   -0.246938930122427134\n",
       ":   -0.425431172527356135\n",
       ":   -0.608806568178015136\n",
       ":   -0.209502760480987137\n",
       ":   -0.227420655736065138\n",
       ":   0.0847187434514541139\n",
       ":   -0.326988794339416140\n",
       ":   0.844925722173156141\n",
       ":   0.767515476043325142\n",
       ":   0.510965524163895143\n",
       ":   -0.550193168325596144\n",
       ":   0.374616634480209145\n",
       ":   -0.270726065222399146\n",
       ":   -0.179533162434914147\n",
       ":   -0.303364839238195148\n",
       ":   0.850056953329805149\n",
       ":   0.950023604952067150\n",
       ":   0.960817082782628151\n",
       ":   -0.0824390427732173152\n",
       ":   -0.182091560187633153\n",
       ":   -0.119144463181057154\n",
       ":   0.416558583637165155\n",
       ":   -0.281737943434309156\n",
       ":   -0.41862647592134157\n",
       ":   -0.455650759415616158\n",
       ":   -0.494583531553765159\n",
       ":   0.25292069395197160\n",
       ":   -0.562754938790789161\n",
       ":   -0.0807070110599727162\n",
       ":   -0.297789211595895163\n",
       ":   -0.255276565245855164\n",
       ":   -0.19298030620491165\n",
       ":   -0.0935335487009361166\n",
       ":   -0.492140850671805167\n",
       ":   -0.145028058603603\n",
       "\n"
      ],
      "text/plain": [
       "          1           2           3           4           5           6 \n",
       " 0.27763740  0.39617818 -2.14969015 -0.13388782 -0.13606898  0.56477241 \n",
       "          7           8           9          10          11          12 \n",
       " 0.51667334  0.72983419  0.15797909 -1.26788329 -1.82695104  0.86787702 \n",
       "         13          14          15          16          17          18 \n",
       " 0.31829887  0.93791789  0.57915260 -0.14032917 -0.86349891  0.27605965 \n",
       "         19          20          21          22          23          24 \n",
       "-0.34182017  0.95328030 -0.15587499  0.92305951  0.82828140  0.87148484 \n",
       "         25          26          27          28          29          30 \n",
       "-3.36476845 -1.60622014  0.76746509 -1.06889258 -0.68348098  0.77634461 \n",
       "         31          32          33          34          35          36 \n",
       " 0.74418773 -0.50396688  0.70255647  0.64205038 -0.95107542 -0.07728431 \n",
       "         37          38          39          40          41          42 \n",
       "-0.70844111  0.97602371  0.56308678 -2.36083098  0.99747609 -0.72637867 \n",
       "         43          44          45          46          47          48 \n",
       "-0.01280669 -0.15027883  0.76448013  0.92842946  0.61218554  0.67807976 \n",
       "         49          50          51          52          53          54 \n",
       "-1.25323860  0.44571257  0.51887988 -1.85252867  0.56820213  0.96311308 \n",
       "         55          56          57          58          59          60 \n",
       " 0.72695279  0.32363736 -0.32645350  0.18438497  0.85776644 -1.50869003 \n",
       "         61          62          63          64          65          66 \n",
       " 0.88654345 -0.36817968  0.85743880 -3.26033347  0.30531284  0.01567948 \n",
       "         67          68          69          70          71          72 \n",
       " 0.89835058 -1.25385503  0.12928711 -0.54494737  0.79403680  0.70971016 \n",
       "         73          74          75          76          77          78 \n",
       " 0.87910977 -1.13979625 -0.70605856  0.05587315  0.77907666 -0.71197730 \n",
       "         79          80          81          82          83          84 \n",
       "-0.47020263 -0.15574450  0.98652350  0.50226711  0.32379583  0.93724674 \n",
       "         85          86          87          88          89          90 \n",
       "-0.01400997 -1.88141380 -0.06782516  0.09029812  0.70310544 -0.13427734 \n",
       "         91          92          93          94          95          96 \n",
       " 0.84892163  0.02041084  0.75125339  0.84675077  0.90074656 -1.69755034 \n",
       "         97          98          99         100         101         102 \n",
       " 0.72430551  0.31165854  0.63275630 -0.71115170 -1.85759808  0.45437962 \n",
       "        103         104         105         106         107         108 \n",
       " 0.47833412 -0.93094226  0.35808315  0.90654471 -1.01676511  0.46713864 \n",
       "        109         110         111         112         113         114 \n",
       " 0.73159521  0.97818568  0.55693857  0.72008985 -0.50121713  0.63160047 \n",
       "        115         116         117         118         119         120 \n",
       "-0.74248691 -0.15348315  0.53497551 -0.85886257  0.66892820 -1.14325200 \n",
       "        121         122         123         124         125         126 \n",
       "-0.13448009  0.61312469  0.42820757  0.57796326 -0.99369788  0.69188856 \n",
       "        127         128         129         130         131         132 \n",
       " 0.59892400 -0.31696578 -1.26145418 -0.45419302  0.07230644  0.84516395 \n",
       "        133         134         135         136         137         138 \n",
       "-0.24693893 -0.42543117 -0.60880657 -0.20950276 -0.22742066  0.08471874 \n",
       "        139         140         141         142         143         144 \n",
       "-0.32698879  0.84492572  0.76751548  0.51096552 -0.55019317  0.37461663 \n",
       "        145         146         147         148         149         150 \n",
       "-0.27072607 -0.17953316 -0.30336484  0.85005695  0.95002360  0.96081708 \n",
       "        151         152         153         154         155         156 \n",
       "-0.08243904 -0.18209156 -0.11914446  0.41655858 -0.28173794 -0.41862648 \n",
       "        157         158         159         160         161         162 \n",
       "-0.45565076 -0.49458353  0.25292069 -0.56275494 -0.08070701 -0.29778921 \n",
       "        163         164         165         166         167 \n",
       "-0.25527657 -0.19298031 -0.09353355 -0.49214085 -0.14502806 "
      ]
     },
     "metadata": {},
     "output_type": "display_data"
    }
   ],
   "source": [
    "resid(Cox_Can, type = 'martingale')"
   ]
  },
  {
   "cell_type": "code",
   "execution_count": 17,
   "metadata": {},
   "outputs": [
    {
     "data": {
      "image/png": "[encoded data removed]",
      "text/plain": [
       "plot without title"
      ]
     },
     "metadata": {
      "image/png": {
       "height": 420,
       "width": 420
      }
     },
     "output_type": "display_data"
    }
   ],
   "source": [
    "plot(resid(Cox_Can, type = 'martingale'))"
   ]
  },
  {
   "cell_type": "code",
   "execution_count": 18,
   "metadata": {},
   "outputs": [
    {
     "data": {
      "image/png": "[encoded data removed]",
      "text/plain": [
       "plot without title"
      ]
     },
     "metadata": {
      "image/png": {
       "height": 420,
       "width": 420
      }
     },
     "output_type": "display_data"
    }
   ],
   "source": [
    "plot(resid(Cox_Can, type = 'deviance'))"
   ]
  },
  {
   "cell_type": "markdown",
   "metadata": {},
   "source": [
    "Residuo de desvios"
   ]
  },
  {
   "cell_type": "code",
   "execution_count": 19,
   "metadata": {},
   "outputs": [
    {
     "data": {
      "text/html": [
       "<strong>41:</strong> 3.15736338252216"
      ],
      "text/latex": [
       "\\textbf{41:} 3.15736338252216"
      ],
      "text/markdown": [
       "**41:** 3.15736338252216"
      ],
      "text/plain": [
       "      41 \n",
       "3.157363 "
      ]
     },
     "metadata": {},
     "output_type": "display_data"
    }
   ],
   "source": [
    "d <- resid(Cox_Can, type = 'deviance')\n",
    "d[abs(d)>3]"
   ]
  },
  {
   "cell_type": "code",
   "execution_count": 20,
   "metadata": {},
   "outputs": [
    {
     "data": {
      "image/png": "[encoded data removed]",
      "text/plain": [
       "plot without title"
      ]
     },
     "metadata": {
      "image/png": {
       "height": 420,
       "width": 420
      }
     },
     "output_type": "display_data"
    }
   ],
   "source": [
    "plot(d, ylim = c(-3.5,  3.5))\n",
    "abline(h = c(-3,3),\n",
    "      col = 'purple')"
   ]
  },
  {
   "cell_type": "markdown",
   "metadata": {},
   "source": [
    "Eliminación de dato atipico"
   ]
  },
  {
   "cell_type": "code",
   "execution_count": 21,
   "metadata": {},
   "outputs": [
    {
     "data": {
      "image/png": "[encoded data removed]",
      "text/plain": [
       "plot without title"
      ]
     },
     "metadata": {
      "image/png": {
       "height": 420,
       "width": 420
      }
     },
     "output_type": "display_data"
    }
   ],
   "source": [
    "nuevo <- d[-41]\n",
    "plot(nuevo, \n",
    "    ylim = c(-3.5,3.5))\n",
    "abline(h = c(-3,3),\n",
    "      col = 'purple')"
   ]
  },
  {
   "cell_type": "code",
   "execution_count": 22,
   "metadata": {},
   "outputs": [],
   "source": [
    "Cox_Sin41 <- coxph(Resp_comp[-41]~CanCl$inst[-41]+CanCl$sex[-41]+CanCl$ph.ecog[-41]+CanCl$ph.karno[-41]+CanCl$wt.loss[-41])"
   ]
  },
  {
   "cell_type": "code",
   "execution_count": 23,
   "metadata": {},
   "outputs": [
    {
     "data": {
      "image/png": "[encoded data removed]",
      "text/plain": [
       "plot without title"
      ]
     },
     "metadata": {
      "image/png": {
       "height": 420,
       "width": 420
      }
     },
     "output_type": "display_data"
    }
   ],
   "source": [
    "plot(resid(Cox_Sin41, type = 'deviance'),\n",
    "    ylim = c(-3.5,3.5))\n",
    "abline(h =c(-3,3),\n",
    "      col = 'purple')"
   ]
  },
  {
   "cell_type": "markdown",
   "metadata": {},
   "source": [
    "Residuales de Schoenfeld\n",
    "\n",
    "Imprime un vector de residuales por variable"
   ]
  },
  {
   "cell_type": "code",
   "execution_count": 24,
   "metadata": {},
   "outputs": [
    {
     "data": {
      "text/html": [
       "<table>\n",
       "<caption>A matrix: 119 × 5 of type dbl</caption>\n",
       "<thead>\n",
       "\t<tr><th></th><th scope=col>CanCl$inst[-41]</th><th scope=col>CanCl$sex[-41]</th><th scope=col>CanCl$ph.ecog[-41]</th><th scope=col>CanCl$ph.karno[-41]</th><th scope=col>CanCl$wt.loss[-41]</th></tr>\n",
       "</thead>\n",
       "<tbody>\n",
       "\t<tr><th scope=row>11</th><td>-4.229700</td><td>-0.2516312</td><td> 0.6887517</td><td> -8.00961047</td><td> -9.5388505</td></tr>\n",
       "\t<tr><th scope=row>12</th><td>-8.311822</td><td>-0.2565167</td><td> 0.7021241</td><td> -8.16512027</td><td> 10.2759489</td></tr>\n",
       "\t<tr><th scope=row>13</th><td>-8.448126</td><td>-0.2607233</td><td> 0.7136382</td><td> -8.29901888</td><td> 10.4444627</td></tr>\n",
       "\t<tr><th scope=row>15</th><td> 3.411025</td><td>-0.2650702</td><td>-1.2744639</td><td> 11.56261772</td><td>  0.6185955</td></tr>\n",
       "\t<tr><th scope=row>26</th><td>-8.579707</td><td>-0.2657904</td><td> 0.7220731</td><td>-18.40596429</td><td> 10.6202763</td></tr>\n",
       "\t<tr><th scope=row>30</th><td> 2.302766</td><td>-0.2694313</td><td> 0.7319643</td><td>  1.34190618</td><td> -2.2342444</td></tr>\n",
       "\t<tr><th scope=row>31</th><td> 2.345912</td><td>-0.2744795</td><td>-1.2543213</td><td> 21.36704883</td><td> 17.7238936</td></tr>\n",
       "\t<tr><th scope=row>53</th><td> 2.368396</td><td>-0.2764252</td><td> 0.7441037</td><td> -8.59773746</td><td>  0.7697824</td></tr>\n",
       "\t<tr><th scope=row>53</th><td>11.368396</td><td>-0.2764252</td><td>-1.2558963</td><td> 11.40226254</td><td> -9.2302176</td></tr>\n",
       "\t<tr><th scope=row>54</th><td> 1.416922</td><td>-0.2800243</td><td> 0.7498610</td><td>-18.67037126</td><td>-12.2398497</td></tr>\n",
       "\t<tr><th scope=row>59</th><td>12.438480</td><td>-0.2842849</td><td>-0.2387298</td><td>-18.95444170</td><td> -4.4260795</td></tr>\n",
       "\t<tr><th scope=row>60</th><td> 1.489119</td><td> 0.7151345</td><td>-0.2403695</td><td> 10.99593568</td><td> -9.4731921</td></tr>\n",
       "\t<tr><th scope=row>60</th><td> 2.489119</td><td>-0.2848655</td><td>-0.2403695</td><td>  0.99593568</td><td> -9.4731921</td></tr>\n",
       "\t<tr><th scope=row>61</th><td>-8.489921</td><td> 0.7164014</td><td> 0.7572068</td><td>-18.95262982</td><td>  0.4312868</td></tr>\n",
       "\t<tr><th scope=row>62</th><td>-8.570069</td><td> 0.7231644</td><td>-0.2356449</td><td>  0.86845077</td><td> -9.5646417</td></tr>\n",
       "\t<tr><th scope=row>65</th><td>-6.622496</td><td>-0.2724117</td><td> 0.7629135</td><td> -9.12623656</td><td> -1.6231526</td></tr>\n",
       "\t<tr><th scope=row>79</th><td> 5.236228</td><td> 0.7217770</td><td>-0.2208114</td><td> 10.67907482</td><td> 27.3422209</td></tr>\n",
       "\t<tr><th scope=row>81</th><td>-3.748578</td><td> 0.7238714</td><td>-1.2214521</td><td> 20.71006254</td><td>-17.5784395</td></tr>\n",
       "\t<tr><th scope=row>88</th><td>-4.761257</td><td>-0.2736803</td><td>-0.2255833</td><td> 10.78010777</td><td> -1.6378930</td></tr>\n",
       "\t<tr><th scope=row>92</th><td>-2.815102</td><td>-0.2767754</td><td>-0.2281344</td><td>  0.90201996</td><td>  3.3435841</td></tr>\n",
       "\t<tr><th scope=row>93</th><td>-8.837743</td><td>-0.2790014</td><td> 0.7700307</td><td>-29.09072518</td><td> 14.3704762</td></tr>\n",
       "\t<tr><th scope=row>95</th><td>-2.950530</td><td> 0.7198195</td><td> 0.7817841</td><td>-19.52301513</td><td>-33.5684031</td></tr>\n",
       "\t<tr><th scope=row>95</th><td> 3.049470</td><td>-0.2801805</td><td>-0.2182159</td><td> -9.52301513</td><td>  5.4315969</td></tr>\n",
       "\t<tr><th scope=row>107</th><td> 6.127081</td><td> 0.7296452</td><td> 0.7928078</td><td>-29.85955198</td><td>-24.9301240</td></tr>\n",
       "\t<tr><th scope=row>110</th><td> 5.175204</td><td>-0.2646241</td><td>-0.2009654</td><td> -0.09407153</td><td>  1.8740726</td></tr>\n",
       "\t<tr><th scope=row>118</th><td> 3.210198</td><td>-0.2664134</td><td> 1.7976757</td><td>-20.09470763</td><td>  9.8867448</td></tr>\n",
       "\t<tr><th scope=row>135</th><td>22.315637</td><td>-0.2751638</td><td>-0.1432794</td><td>  9.24527806</td><td> -9.7885232</td></tr>\n",
       "\t<tr><th scope=row>142</th><td>-3.544273</td><td>-0.2768912</td><td>-0.1441788</td><td>  9.30331652</td><td> -7.8499720</td></tr>\n",
       "\t<tr><th scope=row>145</th><td>-8.591879</td><td> 0.7193897</td><td>-0.1461154</td><td> -0.57172304</td><td>  3.0445886</td></tr>\n",
       "\t<tr><th scope=row>147</th><td>11.357779</td><td>-0.2763953</td><td>-1.1469715</td><td> 19.42492713</td><td> -5.9375725</td></tr>\n",
       "\t<tr><th scope=row>...</th><td>...</td><td>...</td><td>...</td><td>...</td><td>...</td></tr>\n",
       "\t<tr><th scope=row>428</th><td> 11.6735906</td><td>-0.3151090</td><td>-1.0062620711</td><td> 17.98111666</td><td> -9.7544913</td></tr>\n",
       "\t<tr><th scope=row>429</th><td> 10.8432507</td><td>-0.3196887</td><td>-0.0208867516</td><td> 18.24244827</td><td> -4.8962598</td></tr>\n",
       "\t<tr><th scope=row>433</th><td>  0.2762881</td><td> 0.6675442</td><td>-1.0217208876</td><td>  8.97098108</td><td> 16.9082025</td></tr>\n",
       "\t<tr><th scope=row>444</th><td> 12.2780490</td><td> 0.6717986</td><td> 0.9717674803</td><td>-10.97184506</td><td> -1.9840382</td></tr>\n",
       "\t<tr><th scope=row>450</th><td> -3.3454338</td><td> 0.6923999</td><td> 0.0015675915</td><td> -1.30830642</td><td> -7.0448804</td></tr>\n",
       "\t<tr><th scope=row>455</th><td> -6.4272598</td><td>-0.2906647</td><td>-0.9983940668</td><td>  8.65969368</td><td>  4.7828087</td></tr>\n",
       "\t<tr><th scope=row>457</th><td> -8.5466373</td><td>-0.2960634</td><td>-0.0169378641</td><td>  8.82053559</td><td>-15.1283573</td></tr>\n",
       "\t<tr><th scope=row>460</th><td> -5.2075196</td><td>-0.3289737</td><td>-0.0188206690</td><td> -0.48813572</td><td> -0.7979658</td></tr>\n",
       "\t<tr><th scope=row>473</th><td>  1.5360594</td><td> 0.6548275</td><td>-0.0197474086</td><td>  9.48782822</td><td>-11.8372581</td></tr>\n",
       "\t<tr><th scope=row>477</th><td>  0.5867023</td><td>-0.3235833</td><td>-0.0203984676</td><td>  9.80063563</td><td>-11.2275247</td></tr>\n",
       "\t<tr><th scope=row>519</th><td> -7.1216604</td><td>-0.3304113</td><td>-0.0004082277</td><td>  0.01371531</td><td> -1.4142580</td></tr>\n",
       "\t<tr><th scope=row>520</th><td>  1.4336139</td><td> 0.6489555</td><td>-0.0004337202</td><td> 10.01457179</td><td> -5.5025741</td></tr>\n",
       "\t<tr><th scope=row>524</th><td> -9.5155144</td><td>-0.3280163</td><td> 0.9995508892</td><td>-19.63006123</td><td> 18.3021672</td></tr>\n",
       "\t<tr><th scope=row>550</th><td> -8.1196322</td><td> 0.6545315</td><td> 0.1026941164</td><td>-11.64686597</td><td>-10.1677300</td></tr>\n",
       "\t<tr><th scope=row>558</th><td>-10.1497631</td><td>-0.2773265</td><td>-0.8239078900</td><td>  7.76766987</td><td>  7.5295166</td></tr>\n",
       "\t<tr><th scope=row>567</th><td>  0.2222376</td><td>-0.2690781</td><td> 0.1251142109</td><td> -1.49764330</td><td> 50.9445775</td></tr>\n",
       "\t<tr><th scope=row>574</th><td> -7.7707749</td><td>-0.2775384</td><td>-0.8709519638</td><td> 18.45526799</td><td>-20.4536295</td></tr>\n",
       "\t<tr><th scope=row>583</th><td> -5.3305179</td><td>-0.2975300</td><td> 0.0663117846</td><td>-20.21536555</td><td> -1.9269415</td></tr>\n",
       "\t<tr><th scope=row>613</th><td>  9.3451223</td><td>-0.3156346</td><td> 0.0703468286</td><td>  8.55453804</td><td>-14.0441951</td></tr>\n",
       "\t<tr><th scope=row>641</th><td> 10.2504241</td><td> 0.6537886</td><td> 0.0771616250</td><td> -0.61674748</td><td> -9.4047160</td></tr>\n",
       "\t<tr><th scope=row>643</th><td>  1.6668561</td><td>-0.3196507</td><td>-0.9197036199</td><td>  9.35819664</td><td> -8.7867904</td></tr>\n",
       "\t<tr><th scope=row>655</th><td> -0.2585098</td><td>-0.3339632</td><td>-0.9608837212</td><td> 19.77721368</td><td>-12.1802225</td></tr>\n",
       "\t<tr><th scope=row>687</th><td> -8.2754673</td><td> 0.6441297</td><td>-0.0239152174</td><td>  1.07454793</td><td> -1.9792137</td></tr>\n",
       "\t<tr><th scope=row>689</th><td> -5.8946571</td><td>-0.3076751</td><td>-0.0257046098</td><td> 11.15494812</td><td>  2.8726969</td></tr>\n",
       "\t<tr><th scope=row>705</th><td>-11.8825420</td><td> 0.6407617</td><td>-1.0300124421</td><td> 23.02440448</td><td>-11.6458682</td></tr>\n",
       "\t<tr><th scope=row>707</th><td>  2.3625474</td><td>-0.3185300</td><td> 0.9045497608</td><td>-25.51283036</td><td>  9.6142573</td></tr>\n",
       "\t<tr><th scope=row>731</th><td>-12.2517746</td><td> 0.6294710</td><td> 0.0522145126</td><td>  0.32228460</td><td>  4.1837529</td></tr>\n",
       "\t<tr><th scope=row>765</th><td>  7.1593127</td><td> 0.7584457</td><td> 0.0629129370</td><td> 11.15615093</td><td> -4.1162251</td></tr>\n",
       "\t<tr><th scope=row>791</th><td>-10.0452527</td><td>-0.1572873</td><td>-0.9300971287</td><td> 22.39565374</td><td> -3.5735578</td></tr>\n",
       "\t<tr><th scope=row>814</th><td>  6.1775524</td><td>-0.2455063</td><td> 0.8696456992</td><td> -1.47139309</td><td> 16.1364557</td></tr>\n",
       "</tbody>\n",
       "</table>\n"
      ],
      "text/latex": [
       "A matrix: 119 × 5 of type dbl\n",
       "\\begin{tabular}{r|lllll}\n",
       "  & CanCl\\$inst{[}-41{]} & CanCl\\$sex{[}-41{]} & CanCl\\$ph.ecog{[}-41{]} & CanCl\\$ph.karno{[}-41{]} & CanCl\\$wt.loss{[}-41{]}\\\\\n",
       "\\hline\n",
       "\t11 & -4.229700 & -0.2516312 &  0.6887517 &  -8.00961047 &  -9.5388505\\\\\n",
       "\t12 & -8.311822 & -0.2565167 &  0.7021241 &  -8.16512027 &  10.2759489\\\\\n",
       "\t13 & -8.448126 & -0.2607233 &  0.7136382 &  -8.29901888 &  10.4444627\\\\\n",
       "\t15 &  3.411025 & -0.2650702 & -1.2744639 &  11.56261772 &   0.6185955\\\\\n",
       "\t26 & -8.579707 & -0.2657904 &  0.7220731 & -18.40596429 &  10.6202763\\\\\n",
       "\t30 &  2.302766 & -0.2694313 &  0.7319643 &   1.34190618 &  -2.2342444\\\\\n",
       "\t31 &  2.345912 & -0.2744795 & -1.2543213 &  21.36704883 &  17.7238936\\\\\n",
       "\t53 &  2.368396 & -0.2764252 &  0.7441037 &  -8.59773746 &   0.7697824\\\\\n",
       "\t53 & 11.368396 & -0.2764252 & -1.2558963 &  11.40226254 &  -9.2302176\\\\\n",
       "\t54 &  1.416922 & -0.2800243 &  0.7498610 & -18.67037126 & -12.2398497\\\\\n",
       "\t59 & 12.438480 & -0.2842849 & -0.2387298 & -18.95444170 &  -4.4260795\\\\\n",
       "\t60 &  1.489119 &  0.7151345 & -0.2403695 &  10.99593568 &  -9.4731921\\\\\n",
       "\t60 &  2.489119 & -0.2848655 & -0.2403695 &   0.99593568 &  -9.4731921\\\\\n",
       "\t61 & -8.489921 &  0.7164014 &  0.7572068 & -18.95262982 &   0.4312868\\\\\n",
       "\t62 & -8.570069 &  0.7231644 & -0.2356449 &   0.86845077 &  -9.5646417\\\\\n",
       "\t65 & -6.622496 & -0.2724117 &  0.7629135 &  -9.12623656 &  -1.6231526\\\\\n",
       "\t79 &  5.236228 &  0.7217770 & -0.2208114 &  10.67907482 &  27.3422209\\\\\n",
       "\t81 & -3.748578 &  0.7238714 & -1.2214521 &  20.71006254 & -17.5784395\\\\\n",
       "\t88 & -4.761257 & -0.2736803 & -0.2255833 &  10.78010777 &  -1.6378930\\\\\n",
       "\t92 & -2.815102 & -0.2767754 & -0.2281344 &   0.90201996 &   3.3435841\\\\\n",
       "\t93 & -8.837743 & -0.2790014 &  0.7700307 & -29.09072518 &  14.3704762\\\\\n",
       "\t95 & -2.950530 &  0.7198195 &  0.7817841 & -19.52301513 & -33.5684031\\\\\n",
       "\t95 &  3.049470 & -0.2801805 & -0.2182159 &  -9.52301513 &   5.4315969\\\\\n",
       "\t107 &  6.127081 &  0.7296452 &  0.7928078 & -29.85955198 & -24.9301240\\\\\n",
       "\t110 &  5.175204 & -0.2646241 & -0.2009654 &  -0.09407153 &   1.8740726\\\\\n",
       "\t118 &  3.210198 & -0.2664134 &  1.7976757 & -20.09470763 &   9.8867448\\\\\n",
       "\t135 & 22.315637 & -0.2751638 & -0.1432794 &   9.24527806 &  -9.7885232\\\\\n",
       "\t142 & -3.544273 & -0.2768912 & -0.1441788 &   9.30331652 &  -7.8499720\\\\\n",
       "\t145 & -8.591879 &  0.7193897 & -0.1461154 &  -0.57172304 &   3.0445886\\\\\n",
       "\t147 & 11.357779 & -0.2763953 & -1.1469715 &  19.42492713 &  -5.9375725\\\\\n",
       "\t... & ... & ... & ... & ... & ...\\\\\n",
       "\t428 &  11.6735906 & -0.3151090 & -1.0062620711 &  17.98111666 &  -9.7544913\\\\\n",
       "\t429 &  10.8432507 & -0.3196887 & -0.0208867516 &  18.24244827 &  -4.8962598\\\\\n",
       "\t433 &   0.2762881 &  0.6675442 & -1.0217208876 &   8.97098108 &  16.9082025\\\\\n",
       "\t444 &  12.2780490 &  0.6717986 &  0.9717674803 & -10.97184506 &  -1.9840382\\\\\n",
       "\t450 &  -3.3454338 &  0.6923999 &  0.0015675915 &  -1.30830642 &  -7.0448804\\\\\n",
       "\t455 &  -6.4272598 & -0.2906647 & -0.9983940668 &   8.65969368 &   4.7828087\\\\\n",
       "\t457 &  -8.5466373 & -0.2960634 & -0.0169378641 &   8.82053559 & -15.1283573\\\\\n",
       "\t460 &  -5.2075196 & -0.3289737 & -0.0188206690 &  -0.48813572 &  -0.7979658\\\\\n",
       "\t473 &   1.5360594 &  0.6548275 & -0.0197474086 &   9.48782822 & -11.8372581\\\\\n",
       "\t477 &   0.5867023 & -0.3235833 & -0.0203984676 &   9.80063563 & -11.2275247\\\\\n",
       "\t519 &  -7.1216604 & -0.3304113 & -0.0004082277 &   0.01371531 &  -1.4142580\\\\\n",
       "\t520 &   1.4336139 &  0.6489555 & -0.0004337202 &  10.01457179 &  -5.5025741\\\\\n",
       "\t524 &  -9.5155144 & -0.3280163 &  0.9995508892 & -19.63006123 &  18.3021672\\\\\n",
       "\t550 &  -8.1196322 &  0.6545315 &  0.1026941164 & -11.64686597 & -10.1677300\\\\\n",
       "\t558 & -10.1497631 & -0.2773265 & -0.8239078900 &   7.76766987 &   7.5295166\\\\\n",
       "\t567 &   0.2222376 & -0.2690781 &  0.1251142109 &  -1.49764330 &  50.9445775\\\\\n",
       "\t574 &  -7.7707749 & -0.2775384 & -0.8709519638 &  18.45526799 & -20.4536295\\\\\n",
       "\t583 &  -5.3305179 & -0.2975300 &  0.0663117846 & -20.21536555 &  -1.9269415\\\\\n",
       "\t613 &   9.3451223 & -0.3156346 &  0.0703468286 &   8.55453804 & -14.0441951\\\\\n",
       "\t641 &  10.2504241 &  0.6537886 &  0.0771616250 &  -0.61674748 &  -9.4047160\\\\\n",
       "\t643 &   1.6668561 & -0.3196507 & -0.9197036199 &   9.35819664 &  -8.7867904\\\\\n",
       "\t655 &  -0.2585098 & -0.3339632 & -0.9608837212 &  19.77721368 & -12.1802225\\\\\n",
       "\t687 &  -8.2754673 &  0.6441297 & -0.0239152174 &   1.07454793 &  -1.9792137\\\\\n",
       "\t689 &  -5.8946571 & -0.3076751 & -0.0257046098 &  11.15494812 &   2.8726969\\\\\n",
       "\t705 & -11.8825420 &  0.6407617 & -1.0300124421 &  23.02440448 & -11.6458682\\\\\n",
       "\t707 &   2.3625474 & -0.3185300 &  0.9045497608 & -25.51283036 &   9.6142573\\\\\n",
       "\t731 & -12.2517746 &  0.6294710 &  0.0522145126 &   0.32228460 &   4.1837529\\\\\n",
       "\t765 &   7.1593127 &  0.7584457 &  0.0629129370 &  11.15615093 &  -4.1162251\\\\\n",
       "\t791 & -10.0452527 & -0.1572873 & -0.9300971287 &  22.39565374 &  -3.5735578\\\\\n",
       "\t814 &   6.1775524 & -0.2455063 &  0.8696456992 &  -1.47139309 &  16.1364557\\\\\n",
       "\\end{tabular}\n"
      ],
      "text/markdown": [
       "\n",
       "A matrix: 119 × 5 of type dbl\n",
       "\n",
       "| <!--/--> | CanCl$inst[-41] | CanCl$sex[-41] | CanCl$ph.ecog[-41] | CanCl$ph.karno[-41] | CanCl$wt.loss[-41] |\n",
       "|---|---|---|---|---|---|\n",
       "| 11 | -4.229700 | -0.2516312 |  0.6887517 |  -8.00961047 |  -9.5388505 |\n",
       "| 12 | -8.311822 | -0.2565167 |  0.7021241 |  -8.16512027 |  10.2759489 |\n",
       "| 13 | -8.448126 | -0.2607233 |  0.7136382 |  -8.29901888 |  10.4444627 |\n",
       "| 15 |  3.411025 | -0.2650702 | -1.2744639 |  11.56261772 |   0.6185955 |\n",
       "| 26 | -8.579707 | -0.2657904 |  0.7220731 | -18.40596429 |  10.6202763 |\n",
       "| 30 |  2.302766 | -0.2694313 |  0.7319643 |   1.34190618 |  -2.2342444 |\n",
       "| 31 |  2.345912 | -0.2744795 | -1.2543213 |  21.36704883 |  17.7238936 |\n",
       "| 53 |  2.368396 | -0.2764252 |  0.7441037 |  -8.59773746 |   0.7697824 |\n",
       "| 53 | 11.368396 | -0.2764252 | -1.2558963 |  11.40226254 |  -9.2302176 |\n",
       "| 54 |  1.416922 | -0.2800243 |  0.7498610 | -18.67037126 | -12.2398497 |\n",
       "| 59 | 12.438480 | -0.2842849 | -0.2387298 | -18.95444170 |  -4.4260795 |\n",
       "| 60 |  1.489119 |  0.7151345 | -0.2403695 |  10.99593568 |  -9.4731921 |\n",
       "| 60 |  2.489119 | -0.2848655 | -0.2403695 |   0.99593568 |  -9.4731921 |\n",
       "| 61 | -8.489921 |  0.7164014 |  0.7572068 | -18.95262982 |   0.4312868 |\n",
       "| 62 | -8.570069 |  0.7231644 | -0.2356449 |   0.86845077 |  -9.5646417 |\n",
       "| 65 | -6.622496 | -0.2724117 |  0.7629135 |  -9.12623656 |  -1.6231526 |\n",
       "| 79 |  5.236228 |  0.7217770 | -0.2208114 |  10.67907482 |  27.3422209 |\n",
       "| 81 | -3.748578 |  0.7238714 | -1.2214521 |  20.71006254 | -17.5784395 |\n",
       "| 88 | -4.761257 | -0.2736803 | -0.2255833 |  10.78010777 |  -1.6378930 |\n",
       "| 92 | -2.815102 | -0.2767754 | -0.2281344 |   0.90201996 |   3.3435841 |\n",
       "| 93 | -8.837743 | -0.2790014 |  0.7700307 | -29.09072518 |  14.3704762 |\n",
       "| 95 | -2.950530 |  0.7198195 |  0.7817841 | -19.52301513 | -33.5684031 |\n",
       "| 95 |  3.049470 | -0.2801805 | -0.2182159 |  -9.52301513 |   5.4315969 |\n",
       "| 107 |  6.127081 |  0.7296452 |  0.7928078 | -29.85955198 | -24.9301240 |\n",
       "| 110 |  5.175204 | -0.2646241 | -0.2009654 |  -0.09407153 |   1.8740726 |\n",
       "| 118 |  3.210198 | -0.2664134 |  1.7976757 | -20.09470763 |   9.8867448 |\n",
       "| 135 | 22.315637 | -0.2751638 | -0.1432794 |   9.24527806 |  -9.7885232 |\n",
       "| 142 | -3.544273 | -0.2768912 | -0.1441788 |   9.30331652 |  -7.8499720 |\n",
       "| 145 | -8.591879 |  0.7193897 | -0.1461154 |  -0.57172304 |   3.0445886 |\n",
       "| 147 | 11.357779 | -0.2763953 | -1.1469715 |  19.42492713 |  -5.9375725 |\n",
       "| ... | ... | ... | ... | ... | ... |\n",
       "| 428 |  11.6735906 | -0.3151090 | -1.0062620711 |  17.98111666 |  -9.7544913 |\n",
       "| 429 |  10.8432507 | -0.3196887 | -0.0208867516 |  18.24244827 |  -4.8962598 |\n",
       "| 433 |   0.2762881 |  0.6675442 | -1.0217208876 |   8.97098108 |  16.9082025 |\n",
       "| 444 |  12.2780490 |  0.6717986 |  0.9717674803 | -10.97184506 |  -1.9840382 |\n",
       "| 450 |  -3.3454338 |  0.6923999 |  0.0015675915 |  -1.30830642 |  -7.0448804 |\n",
       "| 455 |  -6.4272598 | -0.2906647 | -0.9983940668 |   8.65969368 |   4.7828087 |\n",
       "| 457 |  -8.5466373 | -0.2960634 | -0.0169378641 |   8.82053559 | -15.1283573 |\n",
       "| 460 |  -5.2075196 | -0.3289737 | -0.0188206690 |  -0.48813572 |  -0.7979658 |\n",
       "| 473 |   1.5360594 |  0.6548275 | -0.0197474086 |   9.48782822 | -11.8372581 |\n",
       "| 477 |   0.5867023 | -0.3235833 | -0.0203984676 |   9.80063563 | -11.2275247 |\n",
       "| 519 |  -7.1216604 | -0.3304113 | -0.0004082277 |   0.01371531 |  -1.4142580 |\n",
       "| 520 |   1.4336139 |  0.6489555 | -0.0004337202 |  10.01457179 |  -5.5025741 |\n",
       "| 524 |  -9.5155144 | -0.3280163 |  0.9995508892 | -19.63006123 |  18.3021672 |\n",
       "| 550 |  -8.1196322 |  0.6545315 |  0.1026941164 | -11.64686597 | -10.1677300 |\n",
       "| 558 | -10.1497631 | -0.2773265 | -0.8239078900 |   7.76766987 |   7.5295166 |\n",
       "| 567 |   0.2222376 | -0.2690781 |  0.1251142109 |  -1.49764330 |  50.9445775 |\n",
       "| 574 |  -7.7707749 | -0.2775384 | -0.8709519638 |  18.45526799 | -20.4536295 |\n",
       "| 583 |  -5.3305179 | -0.2975300 |  0.0663117846 | -20.21536555 |  -1.9269415 |\n",
       "| 613 |   9.3451223 | -0.3156346 |  0.0703468286 |   8.55453804 | -14.0441951 |\n",
       "| 641 |  10.2504241 |  0.6537886 |  0.0771616250 |  -0.61674748 |  -9.4047160 |\n",
       "| 643 |   1.6668561 | -0.3196507 | -0.9197036199 |   9.35819664 |  -8.7867904 |\n",
       "| 655 |  -0.2585098 | -0.3339632 | -0.9608837212 |  19.77721368 | -12.1802225 |\n",
       "| 687 |  -8.2754673 |  0.6441297 | -0.0239152174 |   1.07454793 |  -1.9792137 |\n",
       "| 689 |  -5.8946571 | -0.3076751 | -0.0257046098 |  11.15494812 |   2.8726969 |\n",
       "| 705 | -11.8825420 |  0.6407617 | -1.0300124421 |  23.02440448 | -11.6458682 |\n",
       "| 707 |   2.3625474 | -0.3185300 |  0.9045497608 | -25.51283036 |   9.6142573 |\n",
       "| 731 | -12.2517746 |  0.6294710 |  0.0522145126 |   0.32228460 |   4.1837529 |\n",
       "| 765 |   7.1593127 |  0.7584457 |  0.0629129370 |  11.15615093 |  -4.1162251 |\n",
       "| 791 | -10.0452527 | -0.1572873 | -0.9300971287 |  22.39565374 |  -3.5735578 |\n",
       "| 814 |   6.1775524 | -0.2455063 |  0.8696456992 |  -1.47139309 |  16.1364557 |\n",
       "\n"
      ],
      "text/plain": [
       "    CanCl$inst[-41] CanCl$sex[-41] CanCl$ph.ecog[-41] CanCl$ph.karno[-41]\n",
       "11  -4.229700       -0.2516312      0.6887517          -8.00961047       \n",
       "12  -8.311822       -0.2565167      0.7021241          -8.16512027       \n",
       "13  -8.448126       -0.2607233      0.7136382          -8.29901888       \n",
       "15   3.411025       -0.2650702     -1.2744639          11.56261772       \n",
       "26  -8.579707       -0.2657904      0.7220731         -18.40596429       \n",
       "30   2.302766       -0.2694313      0.7319643           1.34190618       \n",
       "31   2.345912       -0.2744795     -1.2543213          21.36704883       \n",
       "53   2.368396       -0.2764252      0.7441037          -8.59773746       \n",
       "53  11.368396       -0.2764252     -1.2558963          11.40226254       \n",
       "54   1.416922       -0.2800243      0.7498610         -18.67037126       \n",
       "59  12.438480       -0.2842849     -0.2387298         -18.95444170       \n",
       "60   1.489119        0.7151345     -0.2403695          10.99593568       \n",
       "60   2.489119       -0.2848655     -0.2403695           0.99593568       \n",
       "61  -8.489921        0.7164014      0.7572068         -18.95262982       \n",
       "62  -8.570069        0.7231644     -0.2356449           0.86845077       \n",
       "65  -6.622496       -0.2724117      0.7629135          -9.12623656       \n",
       "79   5.236228        0.7217770     -0.2208114          10.67907482       \n",
       "81  -3.748578        0.7238714     -1.2214521          20.71006254       \n",
       "88  -4.761257       -0.2736803     -0.2255833          10.78010777       \n",
       "92  -2.815102       -0.2767754     -0.2281344           0.90201996       \n",
       "93  -8.837743       -0.2790014      0.7700307         -29.09072518       \n",
       "95  -2.950530        0.7198195      0.7817841         -19.52301513       \n",
       "95   3.049470       -0.2801805     -0.2182159          -9.52301513       \n",
       "107  6.127081        0.7296452      0.7928078         -29.85955198       \n",
       "110  5.175204       -0.2646241     -0.2009654          -0.09407153       \n",
       "118  3.210198       -0.2664134      1.7976757         -20.09470763       \n",
       "135 22.315637       -0.2751638     -0.1432794           9.24527806       \n",
       "142 -3.544273       -0.2768912     -0.1441788           9.30331652       \n",
       "145 -8.591879        0.7193897     -0.1461154          -0.57172304       \n",
       "147 11.357779       -0.2763953     -1.1469715          19.42492713       \n",
       "... ...             ...            ...                ...                \n",
       "428  11.6735906     -0.3151090     -1.0062620711       17.98111666       \n",
       "429  10.8432507     -0.3196887     -0.0208867516       18.24244827       \n",
       "433   0.2762881      0.6675442     -1.0217208876        8.97098108       \n",
       "444  12.2780490      0.6717986      0.9717674803      -10.97184506       \n",
       "450  -3.3454338      0.6923999      0.0015675915       -1.30830642       \n",
       "455  -6.4272598     -0.2906647     -0.9983940668        8.65969368       \n",
       "457  -8.5466373     -0.2960634     -0.0169378641        8.82053559       \n",
       "460  -5.2075196     -0.3289737     -0.0188206690       -0.48813572       \n",
       "473   1.5360594      0.6548275     -0.0197474086        9.48782822       \n",
       "477   0.5867023     -0.3235833     -0.0203984676        9.80063563       \n",
       "519  -7.1216604     -0.3304113     -0.0004082277        0.01371531       \n",
       "520   1.4336139      0.6489555     -0.0004337202       10.01457179       \n",
       "524  -9.5155144     -0.3280163      0.9995508892      -19.63006123       \n",
       "550  -8.1196322      0.6545315      0.1026941164      -11.64686597       \n",
       "558 -10.1497631     -0.2773265     -0.8239078900        7.76766987       \n",
       "567   0.2222376     -0.2690781      0.1251142109       -1.49764330       \n",
       "574  -7.7707749     -0.2775384     -0.8709519638       18.45526799       \n",
       "583  -5.3305179     -0.2975300      0.0663117846      -20.21536555       \n",
       "613   9.3451223     -0.3156346      0.0703468286        8.55453804       \n",
       "641  10.2504241      0.6537886      0.0771616250       -0.61674748       \n",
       "643   1.6668561     -0.3196507     -0.9197036199        9.35819664       \n",
       "655  -0.2585098     -0.3339632     -0.9608837212       19.77721368       \n",
       "687  -8.2754673      0.6441297     -0.0239152174        1.07454793       \n",
       "689  -5.8946571     -0.3076751     -0.0257046098       11.15494812       \n",
       "705 -11.8825420      0.6407617     -1.0300124421       23.02440448       \n",
       "707   2.3625474     -0.3185300      0.9045497608      -25.51283036       \n",
       "731 -12.2517746      0.6294710      0.0522145126        0.32228460       \n",
       "765   7.1593127      0.7584457      0.0629129370       11.15615093       \n",
       "791 -10.0452527     -0.1572873     -0.9300971287       22.39565374       \n",
       "814   6.1775524     -0.2455063      0.8696456992       -1.47139309       \n",
       "    CanCl$wt.loss[-41]\n",
       "11   -9.5388505       \n",
       "12   10.2759489       \n",
       "13   10.4444627       \n",
       "15    0.6185955       \n",
       "26   10.6202763       \n",
       "30   -2.2342444       \n",
       "31   17.7238936       \n",
       "53    0.7697824       \n",
       "53   -9.2302176       \n",
       "54  -12.2398497       \n",
       "59   -4.4260795       \n",
       "60   -9.4731921       \n",
       "60   -9.4731921       \n",
       "61    0.4312868       \n",
       "62   -9.5646417       \n",
       "65   -1.6231526       \n",
       "79   27.3422209       \n",
       "81  -17.5784395       \n",
       "88   -1.6378930       \n",
       "92    3.3435841       \n",
       "93   14.3704762       \n",
       "95  -33.5684031       \n",
       "95    5.4315969       \n",
       "107 -24.9301240       \n",
       "110   1.8740726       \n",
       "118   9.8867448       \n",
       "135  -9.7885232       \n",
       "142  -7.8499720       \n",
       "145   3.0445886       \n",
       "147  -5.9375725       \n",
       "... ...               \n",
       "428  -9.7544913       \n",
       "429  -4.8962598       \n",
       "433  16.9082025       \n",
       "444  -1.9840382       \n",
       "450  -7.0448804       \n",
       "455   4.7828087       \n",
       "457 -15.1283573       \n",
       "460  -0.7979658       \n",
       "473 -11.8372581       \n",
       "477 -11.2275247       \n",
       "519  -1.4142580       \n",
       "520  -5.5025741       \n",
       "524  18.3021672       \n",
       "550 -10.1677300       \n",
       "558   7.5295166       \n",
       "567  50.9445775       \n",
       "574 -20.4536295       \n",
       "583  -1.9269415       \n",
       "613 -14.0441951       \n",
       "641  -9.4047160       \n",
       "643  -8.7867904       \n",
       "655 -12.1802225       \n",
       "687  -1.9792137       \n",
       "689   2.8726969       \n",
       "705 -11.6458682       \n",
       "707   9.6142573       \n",
       "731   4.1837529       \n",
       "765  -4.1162251       \n",
       "791  -3.5735578       \n",
       "814  16.1364557       "
      ]
     },
     "metadata": {},
     "output_type": "display_data"
    }
   ],
   "source": [
    "Res_Scho <- resid(Cox_Sin41, type = 'schoenfeld')\n",
    "Res_Scho"
   ]
  },
  {
   "cell_type": "code",
   "execution_count": 25,
   "metadata": {},
   "outputs": [
    {
     "data": {
      "image/png": "[encoded data removed]",
      "text/plain": [
       "plot without title"
      ]
     },
     "metadata": {
      "image/png": {
       "height": 420,
       "width": 420
      }
     },
     "output_type": "display_data"
    }
   ],
   "source": [
    "plot(Res_Scho)"
   ]
  },
  {
   "cell_type": "code",
   "execution_count": 35,
   "metadata": {},
   "outputs": [
    {
     "data": {
      "text/html": [
       "166"
      ],
      "text/latex": [
       "166"
      ],
      "text/markdown": [
       "166"
      ],
      "text/plain": [
       "[1] 166"
      ]
     },
     "metadata": {},
     "output_type": "display_data"
    }
   ],
   "source": [
    "length(CanCl$sex[-41])"
   ]
  },
  {
   "cell_type": "code",
   "execution_count": 39,
   "metadata": {},
   "outputs": [
    {
     "data": {
      "text/html": [
       "119"
      ],
      "text/latex": [
       "119"
      ],
      "text/markdown": [
       "119"
      ],
      "text/plain": [
       "[1] 119"
      ]
     },
     "metadata": {},
     "output_type": "display_data"
    }
   ],
   "source": [
    "length(CanCl_Sin41$sex[CanCl_Sin41$status == 2])"
   ]
  },
  {
   "cell_type": "code",
   "execution_count": 42,
   "metadata": {},
   "outputs": [
    {
     "data": {
      "image/png": "[encoded data removed]",
      "text/plain": [
       "plot without title"
      ]
     },
     "metadata": {
      "image/png": {
       "height": 420,
       "width": 420
      }
     },
     "output_type": "display_data"
    }
   ],
   "source": [
    "CanCl_Sin41 <- CanCl[-41,]\n",
    "plot(CanCl_Sin41$sex[CanCl_Sin41$status == 2], Res_Scho[,2])"
   ]
  },
  {
   "cell_type": "code",
   "execution_count": 43,
   "metadata": {},
   "outputs": [
    {
     "data": {
      "image/png": "[encoded data removed]",
      "text/plain": [
       "plot without title"
      ]
     },
     "metadata": {
      "image/png": {
       "height": 420,
       "width": 420
      }
     },
     "output_type": "display_data"
    }
   ],
   "source": [
    "plot(CanCl_Sin41$ph.ecog[CanCl_Sin41$status == 2], Res_Scho[,3])"
   ]
  },
  {
   "cell_type": "code",
   "execution_count": 44,
   "metadata": {},
   "outputs": [
    {
     "data": {
      "image/png": "[encoded data removed]",
      "text/plain": [
       "plot without title"
      ]
     },
     "metadata": {
      "image/png": {
       "height": 420,
       "width": 420
      }
     },
     "output_type": "display_data"
    }
   ],
   "source": [
    "plot(CanCl_Sin41$inst[CanCl_Sin41$status == 2], Res_Scho[,1])"
   ]
  },
  {
   "cell_type": "code",
   "execution_count": 45,
   "metadata": {},
   "outputs": [
    {
     "data": {
      "image/png": "[encoded data removed]",
      "text/plain": [
       "plot without title"
      ]
     },
     "metadata": {
      "image/png": {
       "height": 420,
       "width": 420
      }
     },
     "output_type": "display_data"
    }
   ],
   "source": [
    "plot(CanCl_Sin41$ph.karno[CanCl_Sin41$status == 2], Res_Scho[,4])"
   ]
  },
  {
   "cell_type": "code",
   "execution_count": 47,
   "metadata": {},
   "outputs": [
    {
     "data": {
      "image/png": "[encoded data removed]",
      "text/plain": [
       "plot without title"
      ]
     },
     "metadata": {
      "image/png": {
       "height": 420,
       "width": 420
      }
     },
     "output_type": "display_data"
    }
   ],
   "source": [
    "plot(CanCl_Sin41$wt.loss[CanCl_Sin41$status == 2], Res_Scho[,5])"
   ]
  },
  {
   "cell_type": "markdown",
   "metadata": {},
   "source": [
    "Residuales de puntaje"
   ]
  },
  {
   "cell_type": "code",
   "execution_count": 51,
   "metadata": {},
   "outputs": [],
   "source": [
    "Res_Punt <- resid(Cox_Sin41, type = 'score')"
   ]
  },
  {
   "cell_type": "code",
   "execution_count": 52,
   "metadata": {},
   "outputs": [
    {
     "data": {
      "image/png": "[encoded data removed]",
      "text/plain": [
       "plot without title"
      ]
     },
     "metadata": {
      "image/png": {
       "height": 420,
       "width": 420
      }
     },
     "output_type": "display_data"
    }
   ],
   "source": [
    "plot(Res_Punt[,1],Res_Punt[,2])"
   ]
  },
  {
   "cell_type": "code",
   "execution_count": 53,
   "metadata": {},
   "outputs": [
    {
     "data": {
      "image/png": "[encoded data removed]",
      "text/plain": [
       "plot without title"
      ]
     },
     "metadata": {
      "image/png": {
       "height": 420,
       "width": 420
      }
     },
     "output_type": "display_data"
    }
   ],
   "source": [
    "plot(Res_Punt[,2],Res_Punt[,3])"
   ]
  },
  {
   "cell_type": "code",
   "execution_count": 54,
   "metadata": {},
   "outputs": [
    {
     "data": {
      "image/png": "[encoded data removed]",
      "text/plain": [
       "plot without title"
      ]
     },
     "metadata": {
      "image/png": {
       "height": 420,
       "width": 420
      }
     },
     "output_type": "display_data"
    }
   ],
   "source": [
    "plot(Res_Punt[,4],Res_Punt[,5])"
   ]
  },
  {
   "cell_type": "markdown",
   "metadata": {},
   "source": [
    "Estimación de función de supervivencia general"
   ]
  },
  {
   "cell_type": "code",
   "execution_count": 58,
   "metadata": {},
   "outputs": [
    {
     "data": {
      "text/plain": [
       "Call: survfit(formula = Cox_Sin41)\n",
       "\n",
       " time n.risk n.event survival std.err lower 95% CI upper 95% CI\n",
       "   11    166       1   0.9951 0.00492       0.9855        1.000\n",
       "   12    165       1   0.9901 0.00701       0.9764        1.000\n",
       "   13    164       1   0.9850 0.00864       0.9683        1.000\n",
       "   15    163       1   0.9799 0.01003       0.9605        1.000\n",
       "   26    162       1   0.9748 0.01124       0.9531        0.997\n",
       "   30    161       1   0.9697 0.01234       0.9458        0.994\n",
       "   31    160       1   0.9645 0.01338       0.9386        0.991\n",
       "   53    159       2   0.9541 0.01523       0.9247        0.984\n",
       "   54    157       1   0.9489 0.01607       0.9179        0.981\n",
       "   59    156       1   0.9436 0.01688       0.9111        0.977\n",
       "   60    155       2   0.9331 0.01839       0.8977        0.970\n",
       "   61    153       1   0.9278 0.01909       0.8911        0.966\n",
       "   62    152       1   0.9225 0.01977       0.8845        0.962\n",
       "   65    151       1   0.9172 0.02042       0.8780        0.958\n",
       "   79    150       1   0.9118 0.02107       0.8714        0.954\n",
       "   81    149       1   0.9065 0.02169       0.8649        0.950\n",
       "   88    148       1   0.9011 0.02228       0.8585        0.946\n",
       "   92    147       1   0.8957 0.02286       0.8520        0.942\n",
       "   93    146       1   0.8903 0.02342       0.8456        0.937\n",
       "   95    145       2   0.8795 0.02451       0.8327        0.929\n",
       "  107    142       1   0.8740 0.02504       0.8263        0.924\n",
       "  110    141       1   0.8685 0.02556       0.8198        0.920\n",
       "  118    140       1   0.8630 0.02606       0.8134        0.916\n",
       "  135    139       1   0.8574 0.02656       0.8069        0.911\n",
       "  142    138       1   0.8517 0.02705       0.8003        0.906\n",
       "  145    137       1   0.8461 0.02753       0.7938        0.902\n",
       "  147    136       1   0.8404 0.02800       0.7873        0.897\n",
       "  153    135       1   0.8347 0.02845       0.7808        0.892\n",
       "  156    134       2   0.8234 0.02932       0.7679        0.883\n",
       "  163    132       3   0.8062 0.03057       0.7485        0.868\n",
       "  166    129       1   0.8003 0.03097       0.7419        0.863\n",
       "  167    128       1   0.7944 0.03136       0.7353        0.858\n",
       "  170    127       1   0.7885 0.03175       0.7287        0.853\n",
       "  176    124       1   0.7825 0.03214       0.7220        0.848\n",
       "  179    122       1   0.7765 0.03252       0.7153        0.843\n",
       "  180    121       1   0.7705 0.03289       0.7086        0.838\n",
       "  181    120       2   0.7581 0.03362       0.6950        0.827\n",
       "  183    118       1   0.7519 0.03398       0.6881        0.821\n",
       "  197    114       1   0.7453 0.03435       0.6810        0.816\n",
       "  199    112       1   0.7387 0.03473       0.6737        0.810\n",
       "  201    111       1   0.7321 0.03510       0.6665        0.804\n",
       "  207    108       1   0.7254 0.03547       0.6591        0.798\n",
       "  210    107       1   0.7187 0.03583       0.6518        0.792\n",
       "  212    105       1   0.7118 0.03619       0.6443        0.786\n",
       "  218    104       1   0.7048 0.03655       0.6367        0.780\n",
       "  222    102       1   0.6977 0.03691       0.6290        0.774\n",
       "  223    100       1   0.6904 0.03727       0.6211        0.767\n",
       "  226     97       1   0.6830 0.03764       0.6131        0.761\n",
       "  229     96       1   0.6756 0.03799       0.6051        0.754\n",
       "  230     95       1   0.6682 0.03833       0.5972        0.748\n",
       "  239     93       1   0.6608 0.03866       0.5892        0.741\n",
       "  245     90       1   0.6533 0.03899       0.5811        0.734\n",
       "  246     89       1   0.6458 0.03930       0.5732        0.728\n",
       "  267     85       1   0.6381 0.03962       0.5650        0.721\n",
       "  268     84       1   0.6305 0.03993       0.5569        0.714\n",
       "  269     83       1   0.6229 0.04022       0.5489        0.707\n",
       "  270     81       1   0.6152 0.04051       0.5407        0.700\n",
       "  283     79       1   0.6075 0.04079       0.5326        0.693\n",
       "  284     78       1   0.5997 0.04106       0.5244        0.686\n",
       "  285     76       2   0.5838 0.04159       0.5077        0.671\n",
       "  286     74       1   0.5758 0.04184       0.4994        0.664\n",
       "  288     73       1   0.5679 0.04206       0.4912        0.657\n",
       "  291     72       1   0.5599 0.04228       0.4829        0.649\n",
       "  293     69       1   0.5514 0.04252       0.4741        0.641\n",
       "  301     66       1   0.5429 0.04276       0.4652        0.633\n",
       "  303     64       1   0.5341 0.04301       0.4561        0.625\n",
       "  305     62       1   0.5250 0.04326       0.4467        0.617\n",
       "  310     61       1   0.5161 0.04348       0.4375        0.609\n",
       "  320     60       1   0.5070 0.04368       0.4282        0.600\n",
       "  337     58       1   0.4979 0.04387       0.4189        0.592\n",
       "  345     57       1   0.4889 0.04403       0.4098        0.583\n",
       "  348     56       1   0.4798 0.04417       0.4006        0.575\n",
       "  351     55       1   0.4708 0.04428       0.3915        0.566\n",
       "  353     54       2   0.4527 0.04445       0.3734        0.549\n",
       "  361     52       1   0.4437 0.04450       0.3645        0.540\n",
       "  363     51       2   0.4255 0.04455       0.3466        0.522\n",
       "  371     49       1   0.4164 0.04454       0.3377        0.514\n",
       "  390     45       1   0.4072 0.04454       0.3286        0.505\n",
       "  426     42       1   0.3973 0.04458       0.3189        0.495\n",
       "  428     41       1   0.3875 0.04459       0.3093        0.486\n",
       "  429     40       1   0.3778 0.04455       0.2999        0.476\n",
       "  433     39       1   0.3680 0.04451       0.2904        0.466\n",
       "  444     38       1   0.3584 0.04441       0.2811        0.457\n",
       "  450     37       1   0.3487 0.04430       0.2719        0.447\n",
       "  455     36       1   0.3391 0.04416       0.2627        0.438\n",
       "  457     35       1   0.3296 0.04398       0.2537        0.428\n",
       "  460     33       1   0.3193 0.04382       0.2440        0.418\n",
       "  473     32       1   0.3089 0.04363       0.2342        0.407\n",
       "  477     31       1   0.2984 0.04340       0.2244        0.397\n",
       "  519     29       1   0.2875 0.04318       0.2142        0.386\n",
       "  520     28       1   0.2763 0.04292       0.2038        0.375\n",
       "  524     27       1   0.2652 0.04261       0.1935        0.363\n",
       "  550     25       1   0.2532 0.04232       0.1824        0.351\n",
       "  558     23       1   0.2405 0.04202       0.1708        0.339\n",
       "  567     21       1   0.2278 0.04167       0.1592        0.326\n",
       "  574     20       1   0.2154 0.04119       0.1481        0.313\n",
       "  583     19       1   0.2028 0.04065       0.1369        0.300\n",
       "  613     18       1   0.1903 0.04001       0.1260        0.287\n",
       "  641     17       1   0.1774 0.03930       0.1150        0.274\n",
       "  643     16       1   0.1650 0.03847       0.1045        0.261\n",
       "  655     15       1   0.1529 0.03750       0.0946        0.247\n",
       "  687     14       1   0.1410 0.03643       0.0850        0.234\n",
       "  689     13       1   0.1293 0.03525       0.0757        0.221\n",
       "  705     12       1   0.1168 0.03400       0.0660        0.207\n",
       "  707     11       1   0.1048 0.03260       0.0570        0.193\n",
       "  731     10       1   0.0924 0.03102       0.0479        0.178\n",
       "  765      8       1   0.0794 0.02932       0.0385        0.164\n",
       "  791      7       1   0.0671 0.02734       0.0302        0.149\n",
       "  814      5       1   0.0516 0.02523       0.0198        0.135"
      ]
     },
     "metadata": {},
     "output_type": "display_data"
    }
   ],
   "source": [
    "summary(survfit(Cox_Sin41))"
   ]
  },
  {
   "cell_type": "code",
   "execution_count": 59,
   "metadata": {},
   "outputs": [
    {
     "data": {
      "image/png": "[encoded data removed]",
      "text/plain": [
       "plot without title"
      ]
     },
     "metadata": {
      "image/png": {
       "height": 420,
       "width": 420
      }
     },
     "output_type": "display_data"
    }
   ],
   "source": [
    "plot(survfit(Cox_Sin41))\n",
    "\n"
   ]
  },
  {
   "cell_type": "markdown",
   "metadata": {},
   "source": [
    "KM para sex"
   ]
  },
  {
   "cell_type": "code",
   "execution_count": 1,
   "metadata": {},
   "outputs": [
    {
     "ename": "ERROR",
     "evalue": "Error in survfit(): no se pudo encontrar la función \"survfit\"\n",
     "output_type": "error",
     "traceback": [
      "Error in survfit(): no se pudo encontrar la función \"survfit\"\nTraceback:\n"
     ]
    }
   ],
   "source": [
    "KM_sex <- survfit()"
   ]
  },
  {
   "cell_type": "code",
   "execution_count": null,
   "metadata": {},
   "outputs": [],
   "source": []
  }
 ],
 "metadata": {
  "kernelspec": {
   "display_name": "R",
   "language": "R",
   "name": "ir"
  },
  "language_info": {
   "codemirror_mode": "r",
   "file_extension": ".r",
   "mimetype": "text/x-r-source",
   "name": "R",
   "pygments_lexer": "r",
   "version": "3.6.1"
  }
 },
 "nbformat": 4,
 "nbformat_minor": 4
}
