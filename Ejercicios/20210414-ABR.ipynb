{
 "cells": [
  {
   "cell_type": "markdown",
   "id": "natural-pension",
   "metadata": {},
   "source": [
    "# Ejemplo 2"
   ]
  },
  {
   "cell_type": "code",
   "execution_count": 2,
   "id": "sixth-barbados",
   "metadata": {},
   "outputs": [],
   "source": [
    "setwd(\"D:/Estadistica\")"
   ]
  },
  {
   "cell_type": "code",
   "execution_count": 3,
   "id": "annoying-formula",
   "metadata": {},
   "outputs": [
    {
     "data": {
      "text/html": [
       "<table>\n",
       "<thead><tr><th scope=col>individuo</th><th scope=col>tiempo</th><th scope=col>falla</th></tr></thead>\n",
       "<tbody>\n",
       "\t<tr><td> 1</td><td> 4</td><td>1 </td></tr>\n",
       "\t<tr><td> 2</td><td>20</td><td>1 </td></tr>\n",
       "\t<tr><td> 3</td><td> 9</td><td>0 </td></tr>\n",
       "\t<tr><td> 4</td><td> 6</td><td>0 </td></tr>\n",
       "\t<tr><td> 5</td><td> 8</td><td>0 </td></tr>\n",
       "\t<tr><td> 6</td><td>20</td><td>1 </td></tr>\n",
       "\t<tr><td> 7</td><td> 7</td><td>0 </td></tr>\n",
       "\t<tr><td> 8</td><td> 3</td><td>0 </td></tr>\n",
       "\t<tr><td> 9</td><td> 5</td><td>1 </td></tr>\n",
       "\t<tr><td>10</td><td> 2</td><td>0 </td></tr>\n",
       "\t<tr><td>11</td><td> 5</td><td>0 </td></tr>\n",
       "\t<tr><td>12</td><td> 0</td><td>0 </td></tr>\n",
       "\t<tr><td>13</td><td> 4</td><td>1 </td></tr>\n",
       "\t<tr><td>14</td><td>12</td><td>1 </td></tr>\n",
       "\t<tr><td>15</td><td> 3</td><td>0 </td></tr>\n",
       "\t<tr><td>16</td><td> 6</td><td>0 </td></tr>\n",
       "\t<tr><td>17</td><td>16</td><td>0 </td></tr>\n",
       "\t<tr><td>18</td><td> 5</td><td>0 </td></tr>\n",
       "\t<tr><td>19</td><td> 5</td><td>0 </td></tr>\n",
       "\t<tr><td>20</td><td>19</td><td>1 </td></tr>\n",
       "\t<tr><td>21</td><td> 9</td><td>0 </td></tr>\n",
       "\t<tr><td>22</td><td>16</td><td>1 </td></tr>\n",
       "\t<tr><td>23</td><td>10</td><td>1 </td></tr>\n",
       "\t<tr><td>24</td><td> 8</td><td>0 </td></tr>\n",
       "\t<tr><td>25</td><td>18</td><td>0 </td></tr>\n",
       "\t<tr><td>26</td><td>19</td><td>1 </td></tr>\n",
       "\t<tr><td>27</td><td>18</td><td>1 </td></tr>\n",
       "\t<tr><td>28</td><td> 5</td><td>0 </td></tr>\n",
       "\t<tr><td>29</td><td>15</td><td>1 </td></tr>\n",
       "\t<tr><td>30</td><td>13</td><td>0 </td></tr>\n",
       "\t<tr><td>31</td><td> 8</td><td>0 </td></tr>\n",
       "\t<tr><td>32</td><td> 3</td><td>1 </td></tr>\n",
       "\t<tr><td>33</td><td>14</td><td>0 </td></tr>\n",
       "\t<tr><td>34</td><td>11</td><td>0 </td></tr>\n",
       "\t<tr><td>35</td><td> 3</td><td>0 </td></tr>\n",
       "\t<tr><td>36</td><td> 9</td><td>0 </td></tr>\n",
       "\t<tr><td>37</td><td> 2</td><td>1 </td></tr>\n",
       "\t<tr><td>38</td><td>11</td><td>0 </td></tr>\n",
       "\t<tr><td>39</td><td>16</td><td>0 </td></tr>\n",
       "\t<tr><td>40</td><td>17</td><td>0 </td></tr>\n",
       "\t<tr><td>41</td><td> 6</td><td>1 </td></tr>\n",
       "\t<tr><td>42</td><td> 6</td><td>0 </td></tr>\n",
       "\t<tr><td>43</td><td> 9</td><td>1 </td></tr>\n",
       "\t<tr><td>44</td><td> 9</td><td>1 </td></tr>\n",
       "\t<tr><td>45</td><td>11</td><td>0 </td></tr>\n",
       "\t<tr><td>46</td><td>13</td><td>1 </td></tr>\n",
       "\t<tr><td>47</td><td> 7</td><td>0 </td></tr>\n",
       "\t<tr><td>48</td><td> 8</td><td>1 </td></tr>\n",
       "\t<tr><td>49</td><td>13</td><td>0 </td></tr>\n",
       "\t<tr><td>50</td><td>10</td><td>0 </td></tr>\n",
       "\t<tr><td>51</td><td> 8</td><td>0 </td></tr>\n",
       "\t<tr><td>52</td><td>13</td><td>1 </td></tr>\n",
       "\t<tr><td>53</td><td>19</td><td>1 </td></tr>\n",
       "\t<tr><td>54</td><td>20</td><td>1 </td></tr>\n",
       "\t<tr><td>55</td><td>11</td><td>1 </td></tr>\n",
       "\t<tr><td>56</td><td> 4</td><td>1 </td></tr>\n",
       "\t<tr><td>57</td><td> 7</td><td>0 </td></tr>\n",
       "\t<tr><td>58</td><td>13</td><td>1 </td></tr>\n",
       "\t<tr><td>59</td><td>11</td><td>1 </td></tr>\n",
       "\t<tr><td>60</td><td>12</td><td>0 </td></tr>\n",
       "</tbody>\n",
       "</table>\n"
      ],
      "text/latex": [
       "\\begin{tabular}{r|lll}\n",
       " individuo & tiempo & falla\\\\\n",
       "\\hline\n",
       "\t  1 &  4 & 1 \\\\\n",
       "\t  2 & 20 & 1 \\\\\n",
       "\t  3 &  9 & 0 \\\\\n",
       "\t  4 &  6 & 0 \\\\\n",
       "\t  5 &  8 & 0 \\\\\n",
       "\t  6 & 20 & 1 \\\\\n",
       "\t  7 &  7 & 0 \\\\\n",
       "\t  8 &  3 & 0 \\\\\n",
       "\t  9 &  5 & 1 \\\\\n",
       "\t 10 &  2 & 0 \\\\\n",
       "\t 11 &  5 & 0 \\\\\n",
       "\t 12 &  0 & 0 \\\\\n",
       "\t 13 &  4 & 1 \\\\\n",
       "\t 14 & 12 & 1 \\\\\n",
       "\t 15 &  3 & 0 \\\\\n",
       "\t 16 &  6 & 0 \\\\\n",
       "\t 17 & 16 & 0 \\\\\n",
       "\t 18 &  5 & 0 \\\\\n",
       "\t 19 &  5 & 0 \\\\\n",
       "\t 20 & 19 & 1 \\\\\n",
       "\t 21 &  9 & 0 \\\\\n",
       "\t 22 & 16 & 1 \\\\\n",
       "\t 23 & 10 & 1 \\\\\n",
       "\t 24 &  8 & 0 \\\\\n",
       "\t 25 & 18 & 0 \\\\\n",
       "\t 26 & 19 & 1 \\\\\n",
       "\t 27 & 18 & 1 \\\\\n",
       "\t 28 &  5 & 0 \\\\\n",
       "\t 29 & 15 & 1 \\\\\n",
       "\t 30 & 13 & 0 \\\\\n",
       "\t 31 &  8 & 0 \\\\\n",
       "\t 32 &  3 & 1 \\\\\n",
       "\t 33 & 14 & 0 \\\\\n",
       "\t 34 & 11 & 0 \\\\\n",
       "\t 35 &  3 & 0 \\\\\n",
       "\t 36 &  9 & 0 \\\\\n",
       "\t 37 &  2 & 1 \\\\\n",
       "\t 38 & 11 & 0 \\\\\n",
       "\t 39 & 16 & 0 \\\\\n",
       "\t 40 & 17 & 0 \\\\\n",
       "\t 41 &  6 & 1 \\\\\n",
       "\t 42 &  6 & 0 \\\\\n",
       "\t 43 &  9 & 1 \\\\\n",
       "\t 44 &  9 & 1 \\\\\n",
       "\t 45 & 11 & 0 \\\\\n",
       "\t 46 & 13 & 1 \\\\\n",
       "\t 47 &  7 & 0 \\\\\n",
       "\t 48 &  8 & 1 \\\\\n",
       "\t 49 & 13 & 0 \\\\\n",
       "\t 50 & 10 & 0 \\\\\n",
       "\t 51 &  8 & 0 \\\\\n",
       "\t 52 & 13 & 1 \\\\\n",
       "\t 53 & 19 & 1 \\\\\n",
       "\t 54 & 20 & 1 \\\\\n",
       "\t 55 & 11 & 1 \\\\\n",
       "\t 56 &  4 & 1 \\\\\n",
       "\t 57 &  7 & 0 \\\\\n",
       "\t 58 & 13 & 1 \\\\\n",
       "\t 59 & 11 & 1 \\\\\n",
       "\t 60 & 12 & 0 \\\\\n",
       "\\end{tabular}\n"
      ],
      "text/markdown": [
       "\n",
       "| individuo | tiempo | falla |\n",
       "|---|---|---|\n",
       "|  1 |  4 | 1  |\n",
       "|  2 | 20 | 1  |\n",
       "|  3 |  9 | 0  |\n",
       "|  4 |  6 | 0  |\n",
       "|  5 |  8 | 0  |\n",
       "|  6 | 20 | 1  |\n",
       "|  7 |  7 | 0  |\n",
       "|  8 |  3 | 0  |\n",
       "|  9 |  5 | 1  |\n",
       "| 10 |  2 | 0  |\n",
       "| 11 |  5 | 0  |\n",
       "| 12 |  0 | 0  |\n",
       "| 13 |  4 | 1  |\n",
       "| 14 | 12 | 1  |\n",
       "| 15 |  3 | 0  |\n",
       "| 16 |  6 | 0  |\n",
       "| 17 | 16 | 0  |\n",
       "| 18 |  5 | 0  |\n",
       "| 19 |  5 | 0  |\n",
       "| 20 | 19 | 1  |\n",
       "| 21 |  9 | 0  |\n",
       "| 22 | 16 | 1  |\n",
       "| 23 | 10 | 1  |\n",
       "| 24 |  8 | 0  |\n",
       "| 25 | 18 | 0  |\n",
       "| 26 | 19 | 1  |\n",
       "| 27 | 18 | 1  |\n",
       "| 28 |  5 | 0  |\n",
       "| 29 | 15 | 1  |\n",
       "| 30 | 13 | 0  |\n",
       "| 31 |  8 | 0  |\n",
       "| 32 |  3 | 1  |\n",
       "| 33 | 14 | 0  |\n",
       "| 34 | 11 | 0  |\n",
       "| 35 |  3 | 0  |\n",
       "| 36 |  9 | 0  |\n",
       "| 37 |  2 | 1  |\n",
       "| 38 | 11 | 0  |\n",
       "| 39 | 16 | 0  |\n",
       "| 40 | 17 | 0  |\n",
       "| 41 |  6 | 1  |\n",
       "| 42 |  6 | 0  |\n",
       "| 43 |  9 | 1  |\n",
       "| 44 |  9 | 1  |\n",
       "| 45 | 11 | 0  |\n",
       "| 46 | 13 | 1  |\n",
       "| 47 |  7 | 0  |\n",
       "| 48 |  8 | 1  |\n",
       "| 49 | 13 | 0  |\n",
       "| 50 | 10 | 0  |\n",
       "| 51 |  8 | 0  |\n",
       "| 52 | 13 | 1  |\n",
       "| 53 | 19 | 1  |\n",
       "| 54 | 20 | 1  |\n",
       "| 55 | 11 | 1  |\n",
       "| 56 |  4 | 1  |\n",
       "| 57 |  7 | 0  |\n",
       "| 58 | 13 | 1  |\n",
       "| 59 | 11 | 1  |\n",
       "| 60 | 12 | 0  |\n",
       "\n"
      ],
      "text/plain": [
       "   individuo tiempo falla\n",
       "1   1         4     1    \n",
       "2   2        20     1    \n",
       "3   3         9     0    \n",
       "4   4         6     0    \n",
       "5   5         8     0    \n",
       "6   6        20     1    \n",
       "7   7         7     0    \n",
       "8   8         3     0    \n",
       "9   9         5     1    \n",
       "10 10         2     0    \n",
       "11 11         5     0    \n",
       "12 12         0     0    \n",
       "13 13         4     1    \n",
       "14 14        12     1    \n",
       "15 15         3     0    \n",
       "16 16         6     0    \n",
       "17 17        16     0    \n",
       "18 18         5     0    \n",
       "19 19         5     0    \n",
       "20 20        19     1    \n",
       "21 21         9     0    \n",
       "22 22        16     1    \n",
       "23 23        10     1    \n",
       "24 24         8     0    \n",
       "25 25        18     0    \n",
       "26 26        19     1    \n",
       "27 27        18     1    \n",
       "28 28         5     0    \n",
       "29 29        15     1    \n",
       "30 30        13     0    \n",
       "31 31         8     0    \n",
       "32 32         3     1    \n",
       "33 33        14     0    \n",
       "34 34        11     0    \n",
       "35 35         3     0    \n",
       "36 36         9     0    \n",
       "37 37         2     1    \n",
       "38 38        11     0    \n",
       "39 39        16     0    \n",
       "40 40        17     0    \n",
       "41 41         6     1    \n",
       "42 42         6     0    \n",
       "43 43         9     1    \n",
       "44 44         9     1    \n",
       "45 45        11     0    \n",
       "46 46        13     1    \n",
       "47 47         7     0    \n",
       "48 48         8     1    \n",
       "49 49        13     0    \n",
       "50 50        10     0    \n",
       "51 51         8     0    \n",
       "52 52        13     1    \n",
       "53 53        19     1    \n",
       "54 54        20     1    \n",
       "55 55        11     1    \n",
       "56 56         4     1    \n",
       "57 57         7     0    \n",
       "58 58        13     1    \n",
       "59 59        11     1    \n",
       "60 60        12     0    "
      ]
     },
     "metadata": {},
     "output_type": "display_data"
    }
   ],
   "source": [
    "DATOS<-read.table(\"Ejemplo1.csv\", header=TRUE, sep=\",\")\n",
    "DATOS"
   ]
  },
  {
   "cell_type": "code",
   "execution_count": 5,
   "id": "dense-stick",
   "metadata": {},
   "outputs": [
    {
     "name": "stderr",
     "output_type": "stream",
     "text": [
      "Warning message:\n",
      "\"package 'survival' was built under R version 3.6.3\""
     ]
    }
   ],
   "source": [
    "library(survival)"
   ]
  },
  {
   "cell_type": "markdown",
   "id": "decreased-interim",
   "metadata": {},
   "source": [
    "**Análisis descriptivo.**"
   ]
  },
  {
   "cell_type": "code",
   "execution_count": 6,
   "id": "continued-corner",
   "metadata": {},
   "outputs": [
    {
     "data": {
      "text/html": [
       "26"
      ],
      "text/latex": [
       "26"
      ],
      "text/markdown": [
       "26"
      ],
      "text/plain": [
       "[1] 26"
      ]
     },
     "metadata": {},
     "output_type": "display_data"
    }
   ],
   "source": [
    "sum(DATOS$falla)"
   ]
  },
  {
   "cell_type": "markdown",
   "id": "stable-allergy",
   "metadata": {},
   "source": [
    "Número de eventos de interés"
   ]
  },
  {
   "cell_type": "code",
   "execution_count": 7,
   "id": "naval-sapphire",
   "metadata": {},
   "outputs": [
    {
     "data": {
      "text/html": [
       "34"
      ],
      "text/latex": [
       "34"
      ],
      "text/markdown": [
       "34"
      ],
      "text/plain": [
       "[1] 34"
      ]
     },
     "metadata": {},
     "output_type": "display_data"
    }
   ],
   "source": [
    "length(DATOS$falla)-sum(DATOS$falla)"
   ]
  },
  {
   "cell_type": "markdown",
   "id": "informative-convenience",
   "metadata": {},
   "source": [
    "Número de eventos censurados"
   ]
  },
  {
   "cell_type": "markdown",
   "id": "southeast-restoration",
   "metadata": {},
   "source": [
    "**Cálculo de tiempo promedio para ítems**"
   ]
  },
  {
   "cell_type": "markdown",
   "id": "cubic-quebec",
   "metadata": {},
   "source": [
    "**Censurados**"
   ]
  },
  {
   "cell_type": "code",
   "execution_count": 8,
   "id": "civilian-helicopter",
   "metadata": {},
   "outputs": [
    {
     "data": {
      "text/html": [
       "8.55882352941176"
      ],
      "text/latex": [
       "8.55882352941176"
      ],
      "text/markdown": [
       "8.55882352941176"
      ],
      "text/plain": [
       "[1] 8.558824"
      ]
     },
     "metadata": {},
     "output_type": "display_data"
    }
   ],
   "source": [
    "mean(DATOS$tiempo[DATOS$falla==0])"
   ]
  },
  {
   "cell_type": "markdown",
   "id": "accepted-parish",
   "metadata": {},
   "source": [
    "**Evento de interés**"
   ]
  },
  {
   "cell_type": "code",
   "execution_count": 9,
   "id": "biological-cowboy",
   "metadata": {},
   "outputs": [
    {
     "data": {
      "text/html": [
       "11.6538461538462"
      ],
      "text/latex": [
       "11.6538461538462"
      ],
      "text/markdown": [
       "11.6538461538462"
      ],
      "text/plain": [
       "[1] 11.65385"
      ]
     },
     "metadata": {},
     "output_type": "display_data"
    }
   ],
   "source": [
    "mean(DATOS$tiempo[DATOS$falla==1])"
   ]
  },
  {
   "cell_type": "markdown",
   "id": "powerful-nightlife",
   "metadata": {},
   "source": [
    "**Gráfica de pastel**"
   ]
  },
  {
   "cell_type": "code",
   "execution_count": null,
   "id": "satellite-drive",
   "metadata": {},
   "outputs": [],
   "source": []
  },
  {
   "cell_type": "markdown",
   "id": "reported-backup",
   "metadata": {},
   "source": [
    "## Análisis de supervivencia"
   ]
  },
  {
   "cell_type": "code",
   "execution_count": 11,
   "id": "stainless-ranch",
   "metadata": {},
   "outputs": [
    {
     "data": {
      "text/plain": [
       " [1]  4  20   9+  6+  8+ 20   7+  3+  5   2+  5+  0+  4  12   3+  6+ 16+  5+  5+\n",
       "[20] 19   9+ 16  10   8+ 18+ 19  18   5+ 15  13+  8+  3  14+ 11+  3+  9+  2  11+\n",
       "[39] 16+ 17+  6   6+  9   9  11+ 13   7+  8  13+ 10+  8+ 13  19  20  11   4   7+\n",
       "[58] 13  11  12+"
      ]
     },
     "metadata": {},
     "output_type": "display_data"
    }
   ],
   "source": [
    "d1<-Surv(DATOS$tiempo, DATOS$falla) #Cuando tenemos 0 y 1, no es necesario especificar\n",
    "d1"
   ]
  },
  {
   "cell_type": "markdown",
   "id": "limiting-configuration",
   "metadata": {},
   "source": [
    "**Estimación de Kaplan Meier**"
   ]
  },
  {
   "cell_type": "markdown",
   "id": "adult-object",
   "metadata": {},
   "source": [
    "*Estimación sin discriminante*"
   ]
  },
  {
   "cell_type": "code",
   "execution_count": 12,
   "id": "packed-conservative",
   "metadata": {},
   "outputs": [
    {
     "data": {
      "text/plain": [
       "Call: survfit(formula = d1 ~ 1)\n",
       "\n",
       "      n  events  median 0.95LCL 0.95UCL \n",
       "     60      26      16      13      NA "
      ]
     },
     "metadata": {},
     "output_type": "display_data"
    }
   ],
   "source": [
    "KM.d1<-survfit(d1~1)\n",
    "KM.d1"
   ]
  },
  {
   "cell_type": "code",
   "execution_count": 13,
   "id": "current-sympathy",
   "metadata": {},
   "outputs": [
    {
     "data": {
      "text/plain": [
       "Call: survfit(formula = d1 ~ 1)\n",
       "\n",
       " time n.risk n.event survival std.err lower 95% CI upper 95% CI\n",
       "    2     59       1    0.983  0.0168       0.9507        1.000\n",
       "    3     57       1    0.966  0.0238       0.9203        1.000\n",
       "    4     53       3    0.911  0.0380       0.8397        0.989\n",
       "    5     50       1    0.893  0.0414       0.8154        0.978\n",
       "    6     45       1    0.873  0.0450       0.7893        0.966\n",
       "    8     38       1    0.850  0.0493       0.7588        0.952\n",
       "    9     33       2    0.799  0.0582       0.6922        0.921\n",
       "   10     28       1    0.770  0.0627       0.6564        0.903\n",
       "   11     26       2    0.711  0.0705       0.5852        0.863\n",
       "   12     21       1    0.677  0.0749       0.5451        0.841\n",
       "   13     19       3    0.570  0.0847       0.4260        0.763\n",
       "   15     13       1    0.526  0.0888       0.3780        0.733\n",
       "   16     12       1    0.482  0.0916       0.3324        0.700\n",
       "   18      8       1    0.422  0.0980       0.2677        0.665\n",
       "   19      6       3    0.211  0.0991       0.0841        0.530\n",
       "   20      3       3    0.000     NaN           NA           NA"
      ]
     },
     "metadata": {},
     "output_type": "display_data"
    }
   ],
   "source": [
    "summary(KM.d1)"
   ]
  },
  {
   "cell_type": "code",
   "execution_count": 15,
   "id": "metallic-control",
   "metadata": {},
   "outputs": [
    {
     "data": {
      "image/png": "[encoded data removed]",
      "text/plain": [
       "Plot with title \"Supervivencia estimada\""
      ]
     },
     "metadata": {},
     "output_type": "display_data"
    }
   ],
   "source": [
    "plot(KM.d1, main=\"Supervivencia estimada\")"
   ]
  },
  {
   "cell_type": "code",
   "execution_count": 16,
   "id": "chicken-luxury",
   "metadata": {},
   "outputs": [],
   "source": [
    "t<-c(2, 12, 18) #Suponiendo un vector de tiempos de interes"
   ]
  },
  {
   "cell_type": "code",
   "execution_count": 17,
   "id": "cooperative-thickness",
   "metadata": {},
   "outputs": [
    {
     "data": {
      "text/plain": [
       "Call: survfit(formula = d1 ~ 1)\n",
       "\n",
       " time n.risk n.event survival std.err lower 95% CI upper 95% CI\n",
       "    2     59       1    0.983  0.0168        0.951        1.000\n",
       "   12     21      13    0.677  0.0749        0.545        0.841\n",
       "   18      8       6    0.422  0.0980        0.268        0.665"
      ]
     },
     "metadata": {},
     "output_type": "display_data"
    }
   ],
   "source": [
    "summary(KM.d1, t)"
   ]
  },
  {
   "cell_type": "markdown",
   "id": "conventional-thinking",
   "metadata": {},
   "source": [
    "**Creando un vector de clasificación**"
   ]
  },
  {
   "cell_type": "code",
   "execution_count": 18,
   "id": "synthetic-department",
   "metadata": {},
   "outputs": [
    {
     "data": {
      "text/html": [
       "<ol class=list-inline>\n",
       "\t<li>1</li>\n",
       "\t<li>1</li>\n",
       "\t<li>1</li>\n",
       "\t<li>1</li>\n",
       "\t<li>1</li>\n",
       "\t<li>1</li>\n",
       "\t<li>1</li>\n",
       "\t<li>1</li>\n",
       "\t<li>1</li>\n",
       "\t<li>1</li>\n",
       "\t<li>1</li>\n",
       "\t<li>1</li>\n",
       "\t<li>1</li>\n",
       "\t<li>1</li>\n",
       "\t<li>1</li>\n",
       "\t<li>1</li>\n",
       "\t<li>1</li>\n",
       "\t<li>1</li>\n",
       "\t<li>1</li>\n",
       "\t<li>1</li>\n",
       "\t<li>1</li>\n",
       "\t<li>1</li>\n",
       "\t<li>1</li>\n",
       "\t<li>1</li>\n",
       "\t<li>1</li>\n",
       "\t<li>1</li>\n",
       "\t<li>1</li>\n",
       "\t<li>1</li>\n",
       "\t<li>1</li>\n",
       "\t<li>1</li>\n",
       "\t<li>2</li>\n",
       "\t<li>2</li>\n",
       "\t<li>2</li>\n",
       "\t<li>2</li>\n",
       "\t<li>2</li>\n",
       "\t<li>2</li>\n",
       "\t<li>2</li>\n",
       "\t<li>2</li>\n",
       "\t<li>2</li>\n",
       "\t<li>2</li>\n",
       "\t<li>2</li>\n",
       "\t<li>2</li>\n",
       "\t<li>2</li>\n",
       "\t<li>2</li>\n",
       "\t<li>2</li>\n",
       "\t<li>2</li>\n",
       "\t<li>2</li>\n",
       "\t<li>2</li>\n",
       "\t<li>2</li>\n",
       "\t<li>2</li>\n",
       "\t<li>2</li>\n",
       "\t<li>2</li>\n",
       "\t<li>2</li>\n",
       "\t<li>2</li>\n",
       "\t<li>2</li>\n",
       "\t<li>2</li>\n",
       "\t<li>2</li>\n",
       "\t<li>2</li>\n",
       "\t<li>2</li>\n",
       "\t<li>2</li>\n",
       "</ol>\n"
      ],
      "text/latex": [
       "\\begin{enumerate*}\n",
       "\\item 1\n",
       "\\item 1\n",
       "\\item 1\n",
       "\\item 1\n",
       "\\item 1\n",
       "\\item 1\n",
       "\\item 1\n",
       "\\item 1\n",
       "\\item 1\n",
       "\\item 1\n",
       "\\item 1\n",
       "\\item 1\n",
       "\\item 1\n",
       "\\item 1\n",
       "\\item 1\n",
       "\\item 1\n",
       "\\item 1\n",
       "\\item 1\n",
       "\\item 1\n",
       "\\item 1\n",
       "\\item 1\n",
       "\\item 1\n",
       "\\item 1\n",
       "\\item 1\n",
       "\\item 1\n",
       "\\item 1\n",
       "\\item 1\n",
       "\\item 1\n",
       "\\item 1\n",
       "\\item 1\n",
       "\\item 2\n",
       "\\item 2\n",
       "\\item 2\n",
       "\\item 2\n",
       "\\item 2\n",
       "\\item 2\n",
       "\\item 2\n",
       "\\item 2\n",
       "\\item 2\n",
       "\\item 2\n",
       "\\item 2\n",
       "\\item 2\n",
       "\\item 2\n",
       "\\item 2\n",
       "\\item 2\n",
       "\\item 2\n",
       "\\item 2\n",
       "\\item 2\n",
       "\\item 2\n",
       "\\item 2\n",
       "\\item 2\n",
       "\\item 2\n",
       "\\item 2\n",
       "\\item 2\n",
       "\\item 2\n",
       "\\item 2\n",
       "\\item 2\n",
       "\\item 2\n",
       "\\item 2\n",
       "\\item 2\n",
       "\\end{enumerate*}\n"
      ],
      "text/markdown": [
       "1. 1\n",
       "2. 1\n",
       "3. 1\n",
       "4. 1\n",
       "5. 1\n",
       "6. 1\n",
       "7. 1\n",
       "8. 1\n",
       "9. 1\n",
       "10. 1\n",
       "11. 1\n",
       "12. 1\n",
       "13. 1\n",
       "14. 1\n",
       "15. 1\n",
       "16. 1\n",
       "17. 1\n",
       "18. 1\n",
       "19. 1\n",
       "20. 1\n",
       "21. 1\n",
       "22. 1\n",
       "23. 1\n",
       "24. 1\n",
       "25. 1\n",
       "26. 1\n",
       "27. 1\n",
       "28. 1\n",
       "29. 1\n",
       "30. 1\n",
       "31. 2\n",
       "32. 2\n",
       "33. 2\n",
       "34. 2\n",
       "35. 2\n",
       "36. 2\n",
       "37. 2\n",
       "38. 2\n",
       "39. 2\n",
       "40. 2\n",
       "41. 2\n",
       "42. 2\n",
       "43. 2\n",
       "44. 2\n",
       "45. 2\n",
       "46. 2\n",
       "47. 2\n",
       "48. 2\n",
       "49. 2\n",
       "50. 2\n",
       "51. 2\n",
       "52. 2\n",
       "53. 2\n",
       "54. 2\n",
       "55. 2\n",
       "56. 2\n",
       "57. 2\n",
       "58. 2\n",
       "59. 2\n",
       "60. 2\n",
       "\n",
       "\n"
      ],
      "text/plain": [
       " [1] 1 1 1 1 1 1 1 1 1 1 1 1 1 1 1 1 1 1 1 1 1 1 1 1 1 1 1 1 1 1 2 2 2 2 2 2 2 2\n",
       "[39] 2 2 2 2 2 2 2 2 2 2 2 2 2 2 2 2 2 2 2 2 2 2"
      ]
     },
     "metadata": {},
     "output_type": "display_data"
    }
   ],
   "source": [
    "turno<-c(rep(1,30), rep(2,30))\n",
    "turno"
   ]
  },
  {
   "cell_type": "markdown",
   "id": "considered-marijuana",
   "metadata": {},
   "source": [
    "**KM para comparación**"
   ]
  },
  {
   "cell_type": "code",
   "execution_count": 19,
   "id": "unknown-credits",
   "metadata": {},
   "outputs": [],
   "source": [
    "km.t<-survfit(d1~turno)"
   ]
  },
  {
   "cell_type": "markdown",
   "id": "provincial-petroleum",
   "metadata": {},
   "source": [
    "Indicando un discriminante.\n",
    "Si hay 2 debería hacer dos clasificaciones , genera dos funciones de supervivencia."
   ]
  },
  {
   "cell_type": "code",
   "execution_count": 20,
   "id": "conditional-viking",
   "metadata": {},
   "outputs": [
    {
     "data": {
      "text/plain": [
       "Call: survfit(formula = d1 ~ turno)\n",
       "\n",
       "                turno=1 \n",
       " time n.risk n.event survival std.err lower 95% CI upper 95% CI\n",
       "    4     26       2    0.923  0.0523       0.8261        1.000\n",
       "    5     24       1    0.885  0.0627       0.7700        1.000\n",
       "   10     12       1    0.811  0.0910       0.6508        1.000\n",
       "   12     11       1    0.737  0.1086       0.5524        0.984\n",
       "   15      9       1    0.655  0.1236       0.4528        0.948\n",
       "   16      8       1    0.573  0.1325       0.3645        0.902\n",
       "   18      6       1    0.478  0.1407       0.2682        0.851\n",
       "   19      4       2    0.239  0.1386       0.0766        0.745\n",
       "   20      2       2    0.000     NaN           NA           NA\n",
       "\n",
       "                turno=2 \n",
       " time n.risk n.event survival std.err lower 95% CI upper 95% CI\n",
       "    2     30       1    0.967  0.0328        0.905        1.000\n",
       "    3     29       1    0.933  0.0455        0.848        1.000\n",
       "    4     27       1    0.899  0.0554        0.796        1.000\n",
       "    6     26       1    0.864  0.0632        0.749        0.997\n",
       "    8     22       1    0.825  0.0715        0.696        0.978\n",
       "    9     19       2    0.738  0.0864        0.587        0.928\n",
       "   11     15       2    0.640  0.0990        0.472        0.866\n",
       "   13      9       3    0.426  0.1202        0.245        0.741\n",
       "   19      2       1    0.213  0.1623        0.048        0.948\n",
       "   20      1       1    0.000     NaN           NA           NA\n"
      ]
     },
     "metadata": {},
     "output_type": "display_data"
    }
   ],
   "source": [
    "summary(km.t)"
   ]
  },
  {
   "cell_type": "code",
   "execution_count": 24,
   "id": "permanent-connectivity",
   "metadata": {},
   "outputs": [
    {
     "data": {
      "image/png": "[encoded data removed]",
      "text/plain": [
       "Plot with title \"Comparación de funciones de supervivencia\""
      ]
     },
     "metadata": {},
     "output_type": "display_data"
    }
   ],
   "source": [
    "plot(km.t, col=c(2, 3), main=\"Comparación de funciones de supervivencia\")#poner dos colores"
   ]
  },
  {
   "cell_type": "markdown",
   "id": "novel-philip",
   "metadata": {},
   "source": [
    "**Estimaciones de supervivencia por turno**"
   ]
  },
  {
   "cell_type": "code",
   "execution_count": 28,
   "id": "chinese-chicago",
   "metadata": {},
   "outputs": [
    {
     "data": {
      "text/plain": [
       "Call: survfit(formula = d1[1:30] ~ 1)\n",
       "\n",
       "      n  events  median 0.95LCL 0.95UCL \n",
       "     30      12      18      15      NA "
      ]
     },
     "metadata": {},
     "output_type": "display_data"
    }
   ],
   "source": [
    "km.t1<-survfit(d1[1:30]~1)\n",
    "km.t1"
   ]
  },
  {
   "cell_type": "code",
   "execution_count": 33,
   "id": "alpine-equation",
   "metadata": {},
   "outputs": [
    {
     "data": {
      "text/plain": [
       "Call: survfit(formula = d1 ~ turno)\n",
       "\n",
       " time n.risk n.event survival std.err lower 95% CI upper 95% CI\n",
       "    4     26       2    0.923  0.0523       0.8261        1.000\n",
       "    5     24       1    0.885  0.0627       0.7700        1.000\n",
       "   10     12       1    0.811  0.0910       0.6508        1.000\n",
       "   12     11       1    0.737  0.1086       0.5524        0.984\n",
       "   15      9       1    0.655  0.1236       0.4528        0.948\n",
       "   16      8       1    0.573  0.1325       0.3645        0.902\n",
       "   18      6       1    0.478  0.1407       0.2682        0.851\n",
       "   19      4       2    0.239  0.1386       0.0766        0.745\n",
       "   20      2       2    0.000     NaN           NA           NA"
      ]
     },
     "metadata": {},
     "output_type": "display_data"
    }
   ],
   "source": [
    "summary(km.t[1])"
   ]
  },
  {
   "cell_type": "code",
   "execution_count": 32,
   "id": "upper-grenada",
   "metadata": {},
   "outputs": [
    {
     "data": {
      "image/png": "[encoded data removed]",
      "text/plain": [
       "Plot with title \"Supervivencia estimada turno 1\""
      ]
     },
     "metadata": {},
     "output_type": "display_data"
    }
   ],
   "source": [
    "plot(km.t[1], col=2, main=\"Supervivencia estimada turno 1\")"
   ]
  },
  {
   "cell_type": "code",
   "execution_count": 29,
   "id": "relevant-timber",
   "metadata": {},
   "outputs": [
    {
     "data": {
      "text/plain": [
       "Call: survfit(formula = d1[31:60] ~ 1)\n",
       "\n",
       "      n  events  median 0.95LCL 0.95UCL \n",
       "     30      14      13      11      NA "
      ]
     },
     "metadata": {},
     "output_type": "display_data"
    }
   ],
   "source": [
    "km.t2<-survfit(d1[31:60]~1)\n",
    "km.t2"
   ]
  },
  {
   "cell_type": "code",
   "execution_count": 34,
   "id": "eleven-boulder",
   "metadata": {},
   "outputs": [
    {
     "data": {
      "text/plain": [
       "Call: survfit(formula = d1 ~ turno)\n",
       "\n",
       " time n.risk n.event survival std.err lower 95% CI upper 95% CI\n",
       "    2     30       1    0.967  0.0328        0.905        1.000\n",
       "    3     29       1    0.933  0.0455        0.848        1.000\n",
       "    4     27       1    0.899  0.0554        0.796        1.000\n",
       "    6     26       1    0.864  0.0632        0.749        0.997\n",
       "    8     22       1    0.825  0.0715        0.696        0.978\n",
       "    9     19       2    0.738  0.0864        0.587        0.928\n",
       "   11     15       2    0.640  0.0990        0.472        0.866\n",
       "   13      9       3    0.426  0.1202        0.245        0.741\n",
       "   19      2       1    0.213  0.1623        0.048        0.948\n",
       "   20      1       1    0.000     NaN           NA           NA"
      ]
     },
     "metadata": {},
     "output_type": "display_data"
    }
   ],
   "source": [
    "summary(km.t[2])"
   ]
  },
  {
   "cell_type": "code",
   "execution_count": 31,
   "id": "higher-electric",
   "metadata": {},
   "outputs": [
    {
     "data": {
      "image/png": "[encoded data removed]",
      "text/plain": [
       "Plot with title \"Supervivencia estimada turno 1\""
      ]
     },
     "metadata": {},
     "output_type": "display_data"
    }
   ],
   "source": [
    "plot(km.t[2], col=3, main=\"Supervivencia estimada turno 2\")"
   ]
  },
  {
   "cell_type": "markdown",
   "id": "german-trance",
   "metadata": {},
   "source": [
    "**Graficando en la misma ventana**"
   ]
  },
  {
   "cell_type": "code",
   "execution_count": 39,
   "id": "fuzzy-award",
   "metadata": {},
   "outputs": [],
   "source": [
    "par(mfrow=c(1,3))#1 renglón con 3 columnas"
   ]
  },
  {
   "cell_type": "code",
   "execution_count": 37,
   "id": "coordinated-letter",
   "metadata": {},
   "outputs": [
    {
     "data": {
      "image/png": "[encoded data removed]",
      "text/plain": [
       "Plot with title \"Supervivencia estimada \""
      ]
     },
     "metadata": {},
     "output_type": "display_data"
    },
    {
     "data": {
      "image/png": "[encoded data removed]",
      "text/plain": [
       "Plot with title \"Supervivencia estimada turno 1\""
      ]
     },
     "metadata": {},
     "output_type": "display_data"
    },
    {
     "data": {
      "image/png": "[encoded data removed]",
      "text/plain": [
       "Plot with title \"Supervivencia estimada turno 2\""
      ]
     },
     "metadata": {},
     "output_type": "display_data"
    }
   ],
   "source": [
    "plot(km.t, col=5, main=\"Supervivencia estimada \")\n",
    "plot(km.t[1], col=2, main=\"Supervivencia estimada turno 1\")\n",
    "plot(km.t[2], col=3, main=\"Supervivencia estimada turno 2\")"
   ]
  },
  {
   "cell_type": "markdown",
   "id": "modular-ethernet",
   "metadata": {},
   "source": [
    "**Prueba de igualdad de funciones de supervivencia**"
   ]
  },
  {
   "cell_type": "markdown",
   "id": "alert-poster",
   "metadata": {},
   "source": [
    "* H0: Las funciones de supervivencia son iguales.\n",
    "* Ha: Las funciones de supervivencia difieren."
   ]
  },
  {
   "cell_type": "code",
   "execution_count": 40,
   "id": "healthy-strength",
   "metadata": {},
   "outputs": [
    {
     "data": {
      "text/plain": [
       "Call:\n",
       "survdiff(formula = d1 ~ turno, rho = 0)\n",
       "\n",
       "         N Observed Expected (O-E)^2/E (O-E)^2/V\n",
       "turno=1 30       12     14.1     0.316     0.878\n",
       "turno=2 30       14     11.9     0.375     0.878\n",
       "\n",
       " Chisq= 0.9  on 1 degrees of freedom, p= 0.3 "
      ]
     },
     "metadata": {},
     "output_type": "display_data"
    }
   ],
   "source": [
    "survdiff(d1~turno, rho=0)"
   ]
  },
  {
   "cell_type": "markdown",
   "id": "biological-elevation",
   "metadata": {},
   "source": [
    "**Conclusión:** No se rechaza H0, con un intervalo de confianza del 95% las funciones de supervivencia son iguales."
   ]
  },
  {
   "cell_type": "markdown",
   "id": "super-telling",
   "metadata": {},
   "source": [
    "**Nota:** Cuando son diferentes, puedo arriesgrame a hacer una sugerencia (en caso médico)."
   ]
  },
  {
   "cell_type": "code",
   "execution_count": 41,
   "id": "blessed-gender",
   "metadata": {},
   "outputs": [],
   "source": [
    "par(mfrow=c(1,1))"
   ]
  },
  {
   "cell_type": "code",
   "execution_count": 44,
   "id": "eleven-swift",
   "metadata": {},
   "outputs": [
    {
     "data": {
      "image/png": "[encoded data removed]",
      "text/plain": [
       "plot without title"
      ]
     },
     "metadata": {},
     "output_type": "display_data"
    }
   ],
   "source": [
    "plot(survfit(d1~1), conf.int=0.90)"
   ]
  },
  {
   "cell_type": "code",
   "execution_count": 45,
   "id": "tender-policy",
   "metadata": {},
   "outputs": [
    {
     "data": {
      "image/png": "[encoded data removed]",
      "text/plain": [
       "plot without title"
      ]
     },
     "metadata": {},
     "output_type": "display_data"
    }
   ],
   "source": [
    "plot(survfit(d1~1), conf.int=F)"
   ]
  },
  {
   "cell_type": "code",
   "execution_count": 46,
   "id": "short-coverage",
   "metadata": {},
   "outputs": [],
   "source": [
    "data(\"heart\")"
   ]
  },
  {
   "cell_type": "code",
   "execution_count": 48,
   "id": "affected-identifier",
   "metadata": {},
   "outputs": [
    {
     "data": {
      "text/html": [
       "<table>\n",
       "<thead><tr><th scope=col>start</th><th scope=col>stop</th><th scope=col>event</th><th scope=col>age</th><th scope=col>year</th><th scope=col>surgery</th><th scope=col>transplant</th><th scope=col>id</th></tr></thead>\n",
       "<tbody>\n",
       "\t<tr><td> 0          </td><td>  50        </td><td>1           </td><td>-17.15537303</td><td>0.1232033   </td><td>0           </td><td>0           </td><td> 1          </td></tr>\n",
       "\t<tr><td> 0          </td><td>   6        </td><td>1           </td><td>  3.83572895</td><td>0.2546201   </td><td>0           </td><td>0           </td><td> 2          </td></tr>\n",
       "\t<tr><td> 0          </td><td>   1        </td><td>0           </td><td>  6.29705681</td><td>0.2655715   </td><td>0           </td><td>0           </td><td> 3          </td></tr>\n",
       "\t<tr><td> 1          </td><td>  16        </td><td>1           </td><td>  6.29705681</td><td>0.2655715   </td><td>0           </td><td>1           </td><td> 3          </td></tr>\n",
       "\t<tr><td> 0          </td><td>  36        </td><td>0           </td><td> -7.73716632</td><td>0.4900753   </td><td>0           </td><td>0           </td><td> 4          </td></tr>\n",
       "\t<tr><td>36          </td><td>  39        </td><td>1           </td><td> -7.73716632</td><td>0.4900753   </td><td>0           </td><td>1           </td><td> 4          </td></tr>\n",
       "\t<tr><td> 0          </td><td>  18        </td><td>1           </td><td>-27.21423682</td><td>0.6078029   </td><td>0           </td><td>0           </td><td> 5          </td></tr>\n",
       "\t<tr><td> 0          </td><td>   3        </td><td>1           </td><td>  6.59548255</td><td>0.7008898   </td><td>0           </td><td>0           </td><td> 6          </td></tr>\n",
       "\t<tr><td> 0          </td><td>  51        </td><td>0           </td><td>  2.86926762</td><td>0.7802875   </td><td>0           </td><td>0           </td><td> 7          </td></tr>\n",
       "\t<tr><td>51          </td><td> 675        </td><td>1           </td><td>  2.86926762</td><td>0.7802875   </td><td>0           </td><td>1           </td><td> 7          </td></tr>\n",
       "\t<tr><td> 0          </td><td>  40        </td><td>1           </td><td> -2.65023956</td><td>0.8350445   </td><td>0           </td><td>0           </td><td> 8          </td></tr>\n",
       "\t<tr><td> 0          </td><td>  85        </td><td>1           </td><td> -0.83778234</td><td>0.8569473   </td><td>0           </td><td>0           </td><td> 9          </td></tr>\n",
       "\t<tr><td> 0          </td><td>  12        </td><td>0           </td><td> -5.49760438</td><td>0.8624230   </td><td>0           </td><td>0           </td><td>10          </td></tr>\n",
       "\t<tr><td>12          </td><td>  58        </td><td>1           </td><td> -5.49760438</td><td>0.8624230   </td><td>0           </td><td>1           </td><td>10          </td></tr>\n",
       "\t<tr><td> 0          </td><td>  26        </td><td>0           </td><td> -0.01916496</td><td>0.8733744   </td><td>0           </td><td>0           </td><td>11          </td></tr>\n",
       "\t<tr><td>26          </td><td> 153        </td><td>1           </td><td> -0.01916496</td><td>0.8733744   </td><td>0           </td><td>1           </td><td>11          </td></tr>\n",
       "\t<tr><td> 0          </td><td>   8        </td><td>1           </td><td>  5.19370294</td><td>0.9637235   </td><td>0           </td><td>0           </td><td>12          </td></tr>\n",
       "\t<tr><td> 0          </td><td>  17        </td><td>0           </td><td>  6.57357974</td><td>0.9691992   </td><td>0           </td><td>0           </td><td>13          </td></tr>\n",
       "\t<tr><td>17          </td><td>  81        </td><td>1           </td><td>  6.57357974</td><td>0.9691992   </td><td>0           </td><td>1           </td><td>13          </td></tr>\n",
       "\t<tr><td> 0          </td><td>  37        </td><td>0           </td><td>  6.01232033</td><td>0.9719370   </td><td>0           </td><td>0           </td><td>14          </td></tr>\n",
       "\t<tr><td>37          </td><td>1387        </td><td>1           </td><td>  6.01232033</td><td>0.9719370   </td><td>0           </td><td>1           </td><td>14          </td></tr>\n",
       "\t<tr><td> 0          </td><td>   1        </td><td>1           </td><td>  5.81519507</td><td>0.9911020   </td><td>1           </td><td>0           </td><td>15          </td></tr>\n",
       "\t<tr><td> 0          </td><td>  28        </td><td>0           </td><td>  1.44832307</td><td>1.0704997   </td><td>0           </td><td>0           </td><td>16          </td></tr>\n",
       "\t<tr><td>28          </td><td> 308        </td><td>1           </td><td>  1.44832307</td><td>1.0704997   </td><td>0           </td><td>1           </td><td>16          </td></tr>\n",
       "\t<tr><td> 0          </td><td>  36        </td><td>1           </td><td>-27.66872005</td><td>1.0759754   </td><td>0           </td><td>0           </td><td>17          </td></tr>\n",
       "\t<tr><td> 0          </td><td>  20        </td><td>0           </td><td>  8.84873374</td><td>1.0869268   </td><td>0           </td><td>0           </td><td>18          </td></tr>\n",
       "\t<tr><td>20          </td><td>  43        </td><td>1           </td><td>  8.84873374</td><td>1.0869268   </td><td>0           </td><td>1           </td><td>18          </td></tr>\n",
       "\t<tr><td> 0          </td><td>  37        </td><td>1           </td><td> 11.12388775</td><td>1.1334702   </td><td>0           </td><td>0           </td><td>19          </td></tr>\n",
       "\t<tr><td> 0          </td><td>  18        </td><td>0           </td><td>  7.27994524</td><td>1.3305955   </td><td>0           </td><td>0           </td><td>20          </td></tr>\n",
       "\t<tr><td>18          </td><td>  28        </td><td>1           </td><td>  7.27994524</td><td>1.3305955   </td><td>0           </td><td>1           </td><td>20          </td></tr>\n",
       "\t<tr><td>...</td><td>...</td><td>...</td><td>...</td><td>...</td><td>...</td><td>...</td><td>...</td></tr>\n",
       "\t<tr><td>  8        </td><td>397        </td><td>0          </td><td>  0.9199179</td><td> 5.41546886</td><td>0          </td><td>1          </td><td> 86        </td></tr>\n",
       "\t<tr><td>  0        </td><td> 60        </td><td>0          </td><td> -1.7467488</td><td> 5.47022587</td><td>0          </td><td>0          </td><td> 87        </td></tr>\n",
       "\t<tr><td> 60        </td><td>110        </td><td>1          </td><td> -1.7467488</td><td> 5.47022587</td><td>0          </td><td>1          </td><td> 87        </td></tr>\n",
       "\t<tr><td>  0        </td><td> 31        </td><td>0          </td><td>  6.3627652</td><td> 5.48939083</td><td>0          </td><td>0          </td><td> 88        </td></tr>\n",
       "\t<tr><td> 31        </td><td>370        </td><td>0          </td><td>  6.3627652</td><td> 5.48939083</td><td>0          </td><td>1          </td><td> 88        </td></tr>\n",
       "\t<tr><td>  0        </td><td>139        </td><td>0          </td><td>  3.0472279</td><td> 5.51129363</td><td>0          </td><td>0          </td><td> 89        </td></tr>\n",
       "\t<tr><td>139        </td><td>207        </td><td>1          </td><td>  3.0472279</td><td> 5.51129363</td><td>0          </td><td>1          </td><td> 89        </td></tr>\n",
       "\t<tr><td>  0        </td><td>160        </td><td>0          </td><td>  4.0328542</td><td> 5.51403149</td><td>1          </td><td>0          </td><td> 90        </td></tr>\n",
       "\t<tr><td>160        </td><td>186        </td><td>1          </td><td>  4.0328542</td><td> 5.51403149</td><td>1          </td><td>1          </td><td> 90        </td></tr>\n",
       "\t<tr><td>  0        </td><td>340        </td><td>1          </td><td> -0.4052019</td><td> 5.53319644</td><td>0          </td><td>0          </td><td> 91        </td></tr>\n",
       "\t<tr><td>  0        </td><td>310        </td><td>0          </td><td> -3.0171116</td><td> 5.57152635</td><td>0          </td><td>0          </td><td> 92        </td></tr>\n",
       "\t<tr><td>310        </td><td>340        </td><td>0          </td><td> -3.0171116</td><td> 5.57152635</td><td>0          </td><td>1          </td><td> 92        </td></tr>\n",
       "\t<tr><td>  0        </td><td> 28        </td><td>0          </td><td> -0.2491444</td><td> 5.77686516</td><td>0          </td><td>0          </td><td> 93        </td></tr>\n",
       "\t<tr><td> 28        </td><td>265        </td><td>0          </td><td> -0.2491444</td><td> 5.77686516</td><td>0          </td><td>1          </td><td> 93        </td></tr>\n",
       "\t<tr><td>  0        </td><td>  4        </td><td>0          </td><td> -4.1587953</td><td> 5.95482546</td><td>1          </td><td>0          </td><td> 94        </td></tr>\n",
       "\t<tr><td>  4        </td><td>165        </td><td>1          </td><td> -4.1587953</td><td> 5.95482546</td><td>1          </td><td>1          </td><td> 94        </td></tr>\n",
       "\t<tr><td>  0        </td><td>  2        </td><td>0          </td><td> -7.7180014</td><td> 5.97672827</td><td>0          </td><td>0          </td><td> 95        </td></tr>\n",
       "\t<tr><td>  2        </td><td> 16        </td><td>1          </td><td> -7.7180014</td><td> 5.97672827</td><td>0          </td><td>1          </td><td> 95        </td></tr>\n",
       "\t<tr><td>  0        </td><td> 13        </td><td>0          </td><td>-21.3497604</td><td> 6.00958248</td><td>0          </td><td>0          </td><td> 96        </td></tr>\n",
       "\t<tr><td> 13        </td><td>180        </td><td>0          </td><td>-21.3497604</td><td> 6.00958248</td><td>0          </td><td>1          </td><td> 96        </td></tr>\n",
       "\t<tr><td>  0        </td><td> 21        </td><td>0          </td><td>-24.3832991</td><td> 6.14373717</td><td>0          </td><td>0          </td><td> 97        </td></tr>\n",
       "\t<tr><td> 21        </td><td>131        </td><td>0          </td><td>-24.3832991</td><td> 6.14373717</td><td>0          </td><td>1          </td><td> 97        </td></tr>\n",
       "\t<tr><td>  0        </td><td> 96        </td><td>0          </td><td>-19.3702943</td><td> 6.20396988</td><td>0          </td><td>0          </td><td> 98        </td></tr>\n",
       "\t<tr><td> 96        </td><td>109        </td><td>0          </td><td>-19.3702943</td><td> 6.20396988</td><td>0          </td><td>1          </td><td> 98        </td></tr>\n",
       "\t<tr><td>  0        </td><td> 21        </td><td>1          </td><td>  1.8343600</td><td> 6.23408624</td><td>0          </td><td>0          </td><td> 99        </td></tr>\n",
       "\t<tr><td>  0        </td><td> 38        </td><td>0          </td><td>-12.9390828</td><td> 6.39561944</td><td>1          </td><td>0          </td><td>100        </td></tr>\n",
       "\t<tr><td> 38        </td><td> 39        </td><td>0          </td><td>-12.9390828</td><td> 6.39561944</td><td>1          </td><td>1          </td><td>100        </td></tr>\n",
       "\t<tr><td>  0        </td><td> 31        </td><td>0          </td><td>  1.5167693</td><td> 6.41752225</td><td>0          </td><td>0          </td><td>101        </td></tr>\n",
       "\t<tr><td>  0        </td><td> 11        </td><td>0          </td><td> -7.6084873</td><td> 6.47227926</td><td>0          </td><td>0          </td><td>102        </td></tr>\n",
       "\t<tr><td>  0        </td><td>  6        </td><td>1          </td><td> -8.6844627</td><td>-0.04928131</td><td>0          </td><td>0          </td><td>103        </td></tr>\n",
       "</tbody>\n",
       "</table>\n"
      ],
      "text/latex": [
       "\\begin{tabular}{r|llllllll}\n",
       " start & stop & event & age & year & surgery & transplant & id\\\\\n",
       "\\hline\n",
       "\t  0           &   50         & 1            & -17.15537303 & 0.1232033    & 0            & 0            &  1          \\\\\n",
       "\t  0           &    6         & 1            &   3.83572895 & 0.2546201    & 0            & 0            &  2          \\\\\n",
       "\t  0           &    1         & 0            &   6.29705681 & 0.2655715    & 0            & 0            &  3          \\\\\n",
       "\t  1           &   16         & 1            &   6.29705681 & 0.2655715    & 0            & 1            &  3          \\\\\n",
       "\t  0           &   36         & 0            &  -7.73716632 & 0.4900753    & 0            & 0            &  4          \\\\\n",
       "\t 36           &   39         & 1            &  -7.73716632 & 0.4900753    & 0            & 1            &  4          \\\\\n",
       "\t  0           &   18         & 1            & -27.21423682 & 0.6078029    & 0            & 0            &  5          \\\\\n",
       "\t  0           &    3         & 1            &   6.59548255 & 0.7008898    & 0            & 0            &  6          \\\\\n",
       "\t  0           &   51         & 0            &   2.86926762 & 0.7802875    & 0            & 0            &  7          \\\\\n",
       "\t 51           &  675         & 1            &   2.86926762 & 0.7802875    & 0            & 1            &  7          \\\\\n",
       "\t  0           &   40         & 1            &  -2.65023956 & 0.8350445    & 0            & 0            &  8          \\\\\n",
       "\t  0           &   85         & 1            &  -0.83778234 & 0.8569473    & 0            & 0            &  9          \\\\\n",
       "\t  0           &   12         & 0            &  -5.49760438 & 0.8624230    & 0            & 0            & 10          \\\\\n",
       "\t 12           &   58         & 1            &  -5.49760438 & 0.8624230    & 0            & 1            & 10          \\\\\n",
       "\t  0           &   26         & 0            &  -0.01916496 & 0.8733744    & 0            & 0            & 11          \\\\\n",
       "\t 26           &  153         & 1            &  -0.01916496 & 0.8733744    & 0            & 1            & 11          \\\\\n",
       "\t  0           &    8         & 1            &   5.19370294 & 0.9637235    & 0            & 0            & 12          \\\\\n",
       "\t  0           &   17         & 0            &   6.57357974 & 0.9691992    & 0            & 0            & 13          \\\\\n",
       "\t 17           &   81         & 1            &   6.57357974 & 0.9691992    & 0            & 1            & 13          \\\\\n",
       "\t  0           &   37         & 0            &   6.01232033 & 0.9719370    & 0            & 0            & 14          \\\\\n",
       "\t 37           & 1387         & 1            &   6.01232033 & 0.9719370    & 0            & 1            & 14          \\\\\n",
       "\t  0           &    1         & 1            &   5.81519507 & 0.9911020    & 1            & 0            & 15          \\\\\n",
       "\t  0           &   28         & 0            &   1.44832307 & 1.0704997    & 0            & 0            & 16          \\\\\n",
       "\t 28           &  308         & 1            &   1.44832307 & 1.0704997    & 0            & 1            & 16          \\\\\n",
       "\t  0           &   36         & 1            & -27.66872005 & 1.0759754    & 0            & 0            & 17          \\\\\n",
       "\t  0           &   20         & 0            &   8.84873374 & 1.0869268    & 0            & 0            & 18          \\\\\n",
       "\t 20           &   43         & 1            &   8.84873374 & 1.0869268    & 0            & 1            & 18          \\\\\n",
       "\t  0           &   37         & 1            &  11.12388775 & 1.1334702    & 0            & 0            & 19          \\\\\n",
       "\t  0           &   18         & 0            &   7.27994524 & 1.3305955    & 0            & 0            & 20          \\\\\n",
       "\t 18           &   28         & 1            &   7.27994524 & 1.3305955    & 0            & 1            & 20          \\\\\n",
       "\t ... & ... & ... & ... & ... & ... & ... & ...\\\\\n",
       "\t   8         & 397         & 0           &   0.9199179 &  5.41546886 & 0           & 1           &  86        \\\\\n",
       "\t   0         &  60         & 0           &  -1.7467488 &  5.47022587 & 0           & 0           &  87        \\\\\n",
       "\t  60         & 110         & 1           &  -1.7467488 &  5.47022587 & 0           & 1           &  87        \\\\\n",
       "\t   0         &  31         & 0           &   6.3627652 &  5.48939083 & 0           & 0           &  88        \\\\\n",
       "\t  31         & 370         & 0           &   6.3627652 &  5.48939083 & 0           & 1           &  88        \\\\\n",
       "\t   0         & 139         & 0           &   3.0472279 &  5.51129363 & 0           & 0           &  89        \\\\\n",
       "\t 139         & 207         & 1           &   3.0472279 &  5.51129363 & 0           & 1           &  89        \\\\\n",
       "\t   0         & 160         & 0           &   4.0328542 &  5.51403149 & 1           & 0           &  90        \\\\\n",
       "\t 160         & 186         & 1           &   4.0328542 &  5.51403149 & 1           & 1           &  90        \\\\\n",
       "\t   0         & 340         & 1           &  -0.4052019 &  5.53319644 & 0           & 0           &  91        \\\\\n",
       "\t   0         & 310         & 0           &  -3.0171116 &  5.57152635 & 0           & 0           &  92        \\\\\n",
       "\t 310         & 340         & 0           &  -3.0171116 &  5.57152635 & 0           & 1           &  92        \\\\\n",
       "\t   0         &  28         & 0           &  -0.2491444 &  5.77686516 & 0           & 0           &  93        \\\\\n",
       "\t  28         & 265         & 0           &  -0.2491444 &  5.77686516 & 0           & 1           &  93        \\\\\n",
       "\t   0         &   4         & 0           &  -4.1587953 &  5.95482546 & 1           & 0           &  94        \\\\\n",
       "\t   4         & 165         & 1           &  -4.1587953 &  5.95482546 & 1           & 1           &  94        \\\\\n",
       "\t   0         &   2         & 0           &  -7.7180014 &  5.97672827 & 0           & 0           &  95        \\\\\n",
       "\t   2         &  16         & 1           &  -7.7180014 &  5.97672827 & 0           & 1           &  95        \\\\\n",
       "\t   0         &  13         & 0           & -21.3497604 &  6.00958248 & 0           & 0           &  96        \\\\\n",
       "\t  13         & 180         & 0           & -21.3497604 &  6.00958248 & 0           & 1           &  96        \\\\\n",
       "\t   0         &  21         & 0           & -24.3832991 &  6.14373717 & 0           & 0           &  97        \\\\\n",
       "\t  21         & 131         & 0           & -24.3832991 &  6.14373717 & 0           & 1           &  97        \\\\\n",
       "\t   0         &  96         & 0           & -19.3702943 &  6.20396988 & 0           & 0           &  98        \\\\\n",
       "\t  96         & 109         & 0           & -19.3702943 &  6.20396988 & 0           & 1           &  98        \\\\\n",
       "\t   0         &  21         & 1           &   1.8343600 &  6.23408624 & 0           & 0           &  99        \\\\\n",
       "\t   0         &  38         & 0           & -12.9390828 &  6.39561944 & 1           & 0           & 100        \\\\\n",
       "\t  38         &  39         & 0           & -12.9390828 &  6.39561944 & 1           & 1           & 100        \\\\\n",
       "\t   0         &  31         & 0           &   1.5167693 &  6.41752225 & 0           & 0           & 101        \\\\\n",
       "\t   0         &  11         & 0           &  -7.6084873 &  6.47227926 & 0           & 0           & 102        \\\\\n",
       "\t   0         &   6         & 1           &  -8.6844627 & -0.04928131 & 0           & 0           & 103        \\\\\n",
       "\\end{tabular}\n"
      ],
      "text/markdown": [
       "\n",
       "| start | stop | event | age | year | surgery | transplant | id |\n",
       "|---|---|---|---|---|---|---|---|\n",
       "|  0           |   50         | 1            | -17.15537303 | 0.1232033    | 0            | 0            |  1           |\n",
       "|  0           |    6         | 1            |   3.83572895 | 0.2546201    | 0            | 0            |  2           |\n",
       "|  0           |    1         | 0            |   6.29705681 | 0.2655715    | 0            | 0            |  3           |\n",
       "|  1           |   16         | 1            |   6.29705681 | 0.2655715    | 0            | 1            |  3           |\n",
       "|  0           |   36         | 0            |  -7.73716632 | 0.4900753    | 0            | 0            |  4           |\n",
       "| 36           |   39         | 1            |  -7.73716632 | 0.4900753    | 0            | 1            |  4           |\n",
       "|  0           |   18         | 1            | -27.21423682 | 0.6078029    | 0            | 0            |  5           |\n",
       "|  0           |    3         | 1            |   6.59548255 | 0.7008898    | 0            | 0            |  6           |\n",
       "|  0           |   51         | 0            |   2.86926762 | 0.7802875    | 0            | 0            |  7           |\n",
       "| 51           |  675         | 1            |   2.86926762 | 0.7802875    | 0            | 1            |  7           |\n",
       "|  0           |   40         | 1            |  -2.65023956 | 0.8350445    | 0            | 0            |  8           |\n",
       "|  0           |   85         | 1            |  -0.83778234 | 0.8569473    | 0            | 0            |  9           |\n",
       "|  0           |   12         | 0            |  -5.49760438 | 0.8624230    | 0            | 0            | 10           |\n",
       "| 12           |   58         | 1            |  -5.49760438 | 0.8624230    | 0            | 1            | 10           |\n",
       "|  0           |   26         | 0            |  -0.01916496 | 0.8733744    | 0            | 0            | 11           |\n",
       "| 26           |  153         | 1            |  -0.01916496 | 0.8733744    | 0            | 1            | 11           |\n",
       "|  0           |    8         | 1            |   5.19370294 | 0.9637235    | 0            | 0            | 12           |\n",
       "|  0           |   17         | 0            |   6.57357974 | 0.9691992    | 0            | 0            | 13           |\n",
       "| 17           |   81         | 1            |   6.57357974 | 0.9691992    | 0            | 1            | 13           |\n",
       "|  0           |   37         | 0            |   6.01232033 | 0.9719370    | 0            | 0            | 14           |\n",
       "| 37           | 1387         | 1            |   6.01232033 | 0.9719370    | 0            | 1            | 14           |\n",
       "|  0           |    1         | 1            |   5.81519507 | 0.9911020    | 1            | 0            | 15           |\n",
       "|  0           |   28         | 0            |   1.44832307 | 1.0704997    | 0            | 0            | 16           |\n",
       "| 28           |  308         | 1            |   1.44832307 | 1.0704997    | 0            | 1            | 16           |\n",
       "|  0           |   36         | 1            | -27.66872005 | 1.0759754    | 0            | 0            | 17           |\n",
       "|  0           |   20         | 0            |   8.84873374 | 1.0869268    | 0            | 0            | 18           |\n",
       "| 20           |   43         | 1            |   8.84873374 | 1.0869268    | 0            | 1            | 18           |\n",
       "|  0           |   37         | 1            |  11.12388775 | 1.1334702    | 0            | 0            | 19           |\n",
       "|  0           |   18         | 0            |   7.27994524 | 1.3305955    | 0            | 0            | 20           |\n",
       "| 18           |   28         | 1            |   7.27994524 | 1.3305955    | 0            | 1            | 20           |\n",
       "| ... | ... | ... | ... | ... | ... | ... | ... |\n",
       "|   8         | 397         | 0           |   0.9199179 |  5.41546886 | 0           | 1           |  86         |\n",
       "|   0         |  60         | 0           |  -1.7467488 |  5.47022587 | 0           | 0           |  87         |\n",
       "|  60         | 110         | 1           |  -1.7467488 |  5.47022587 | 0           | 1           |  87         |\n",
       "|   0         |  31         | 0           |   6.3627652 |  5.48939083 | 0           | 0           |  88         |\n",
       "|  31         | 370         | 0           |   6.3627652 |  5.48939083 | 0           | 1           |  88         |\n",
       "|   0         | 139         | 0           |   3.0472279 |  5.51129363 | 0           | 0           |  89         |\n",
       "| 139         | 207         | 1           |   3.0472279 |  5.51129363 | 0           | 1           |  89         |\n",
       "|   0         | 160         | 0           |   4.0328542 |  5.51403149 | 1           | 0           |  90         |\n",
       "| 160         | 186         | 1           |   4.0328542 |  5.51403149 | 1           | 1           |  90         |\n",
       "|   0         | 340         | 1           |  -0.4052019 |  5.53319644 | 0           | 0           |  91         |\n",
       "|   0         | 310         | 0           |  -3.0171116 |  5.57152635 | 0           | 0           |  92         |\n",
       "| 310         | 340         | 0           |  -3.0171116 |  5.57152635 | 0           | 1           |  92         |\n",
       "|   0         |  28         | 0           |  -0.2491444 |  5.77686516 | 0           | 0           |  93         |\n",
       "|  28         | 265         | 0           |  -0.2491444 |  5.77686516 | 0           | 1           |  93         |\n",
       "|   0         |   4         | 0           |  -4.1587953 |  5.95482546 | 1           | 0           |  94         |\n",
       "|   4         | 165         | 1           |  -4.1587953 |  5.95482546 | 1           | 1           |  94         |\n",
       "|   0         |   2         | 0           |  -7.7180014 |  5.97672827 | 0           | 0           |  95         |\n",
       "|   2         |  16         | 1           |  -7.7180014 |  5.97672827 | 0           | 1           |  95         |\n",
       "|   0         |  13         | 0           | -21.3497604 |  6.00958248 | 0           | 0           |  96         |\n",
       "|  13         | 180         | 0           | -21.3497604 |  6.00958248 | 0           | 1           |  96         |\n",
       "|   0         |  21         | 0           | -24.3832991 |  6.14373717 | 0           | 0           |  97         |\n",
       "|  21         | 131         | 0           | -24.3832991 |  6.14373717 | 0           | 1           |  97         |\n",
       "|   0         |  96         | 0           | -19.3702943 |  6.20396988 | 0           | 0           |  98         |\n",
       "|  96         | 109         | 0           | -19.3702943 |  6.20396988 | 0           | 1           |  98         |\n",
       "|   0         |  21         | 1           |   1.8343600 |  6.23408624 | 0           | 0           |  99         |\n",
       "|   0         |  38         | 0           | -12.9390828 |  6.39561944 | 1           | 0           | 100         |\n",
       "|  38         |  39         | 0           | -12.9390828 |  6.39561944 | 1           | 1           | 100         |\n",
       "|   0         |  31         | 0           |   1.5167693 |  6.41752225 | 0           | 0           | 101         |\n",
       "|   0         |  11         | 0           |  -7.6084873 |  6.47227926 | 0           | 0           | 102         |\n",
       "|   0         |   6         | 1           |  -8.6844627 | -0.04928131 | 0           | 0           | 103         |\n",
       "\n"
      ],
      "text/plain": [
       "    start stop event age          year        surgery transplant id \n",
       "1    0      50 1     -17.15537303 0.1232033   0       0           1 \n",
       "2    0       6 1       3.83572895 0.2546201   0       0           2 \n",
       "3    0       1 0       6.29705681 0.2655715   0       0           3 \n",
       "4    1      16 1       6.29705681 0.2655715   0       1           3 \n",
       "5    0      36 0      -7.73716632 0.4900753   0       0           4 \n",
       "6   36      39 1      -7.73716632 0.4900753   0       1           4 \n",
       "7    0      18 1     -27.21423682 0.6078029   0       0           5 \n",
       "8    0       3 1       6.59548255 0.7008898   0       0           6 \n",
       "9    0      51 0       2.86926762 0.7802875   0       0           7 \n",
       "10  51     675 1       2.86926762 0.7802875   0       1           7 \n",
       "11   0      40 1      -2.65023956 0.8350445   0       0           8 \n",
       "12   0      85 1      -0.83778234 0.8569473   0       0           9 \n",
       "13   0      12 0      -5.49760438 0.8624230   0       0          10 \n",
       "14  12      58 1      -5.49760438 0.8624230   0       1          10 \n",
       "15   0      26 0      -0.01916496 0.8733744   0       0          11 \n",
       "16  26     153 1      -0.01916496 0.8733744   0       1          11 \n",
       "17   0       8 1       5.19370294 0.9637235   0       0          12 \n",
       "18   0      17 0       6.57357974 0.9691992   0       0          13 \n",
       "19  17      81 1       6.57357974 0.9691992   0       1          13 \n",
       "20   0      37 0       6.01232033 0.9719370   0       0          14 \n",
       "21  37    1387 1       6.01232033 0.9719370   0       1          14 \n",
       "22   0       1 1       5.81519507 0.9911020   1       0          15 \n",
       "23   0      28 0       1.44832307 1.0704997   0       0          16 \n",
       "24  28     308 1       1.44832307 1.0704997   0       1          16 \n",
       "25   0      36 1     -27.66872005 1.0759754   0       0          17 \n",
       "26   0      20 0       8.84873374 1.0869268   0       0          18 \n",
       "27  20      43 1       8.84873374 1.0869268   0       1          18 \n",
       "28   0      37 1      11.12388775 1.1334702   0       0          19 \n",
       "29   0      18 0       7.27994524 1.3305955   0       0          20 \n",
       "30  18      28 1       7.27994524 1.3305955   0       1          20 \n",
       "... ...   ...  ...   ...          ...         ...     ...        ...\n",
       "143   8   397  0       0.9199179   5.41546886 0       1           86\n",
       "144   0    60  0      -1.7467488   5.47022587 0       0           87\n",
       "145  60   110  1      -1.7467488   5.47022587 0       1           87\n",
       "146   0    31  0       6.3627652   5.48939083 0       0           88\n",
       "147  31   370  0       6.3627652   5.48939083 0       1           88\n",
       "148   0   139  0       3.0472279   5.51129363 0       0           89\n",
       "149 139   207  1       3.0472279   5.51129363 0       1           89\n",
       "150   0   160  0       4.0328542   5.51403149 1       0           90\n",
       "151 160   186  1       4.0328542   5.51403149 1       1           90\n",
       "152   0   340  1      -0.4052019   5.53319644 0       0           91\n",
       "153   0   310  0      -3.0171116   5.57152635 0       0           92\n",
       "154 310   340  0      -3.0171116   5.57152635 0       1           92\n",
       "155   0    28  0      -0.2491444   5.77686516 0       0           93\n",
       "156  28   265  0      -0.2491444   5.77686516 0       1           93\n",
       "157   0     4  0      -4.1587953   5.95482546 1       0           94\n",
       "158   4   165  1      -4.1587953   5.95482546 1       1           94\n",
       "159   0     2  0      -7.7180014   5.97672827 0       0           95\n",
       "160   2    16  1      -7.7180014   5.97672827 0       1           95\n",
       "161   0    13  0     -21.3497604   6.00958248 0       0           96\n",
       "162  13   180  0     -21.3497604   6.00958248 0       1           96\n",
       "163   0    21  0     -24.3832991   6.14373717 0       0           97\n",
       "164  21   131  0     -24.3832991   6.14373717 0       1           97\n",
       "165   0    96  0     -19.3702943   6.20396988 0       0           98\n",
       "166  96   109  0     -19.3702943   6.20396988 0       1           98\n",
       "167   0    21  1       1.8343600   6.23408624 0       0           99\n",
       "168   0    38  0     -12.9390828   6.39561944 1       0          100\n",
       "169  38    39  0     -12.9390828   6.39561944 1       1          100\n",
       "170   0    31  0       1.5167693   6.41752225 0       0          101\n",
       "171   0    11  0      -7.6084873   6.47227926 0       0          102\n",
       "172   0     6  1      -8.6844627  -0.04928131 0       0          103"
      ]
     },
     "metadata": {},
     "output_type": "display_data"
    }
   ],
   "source": [
    "d2<-heart\n",
    "d2"
   ]
  },
  {
   "cell_type": "code",
   "execution_count": 49,
   "id": "excellent-fighter",
   "metadata": {},
   "outputs": [
    {
     "data": {
      "text/html": [
       "<ol class=list-inline>\n",
       "\t<li>'start'</li>\n",
       "\t<li>'stop'</li>\n",
       "\t<li>'event'</li>\n",
       "\t<li>'age'</li>\n",
       "\t<li>'year'</li>\n",
       "\t<li>'surgery'</li>\n",
       "\t<li>'transplant'</li>\n",
       "\t<li>'id'</li>\n",
       "</ol>\n"
      ],
      "text/latex": [
       "\\begin{enumerate*}\n",
       "\\item 'start'\n",
       "\\item 'stop'\n",
       "\\item 'event'\n",
       "\\item 'age'\n",
       "\\item 'year'\n",
       "\\item 'surgery'\n",
       "\\item 'transplant'\n",
       "\\item 'id'\n",
       "\\end{enumerate*}\n"
      ],
      "text/markdown": [
       "1. 'start'\n",
       "2. 'stop'\n",
       "3. 'event'\n",
       "4. 'age'\n",
       "5. 'year'\n",
       "6. 'surgery'\n",
       "7. 'transplant'\n",
       "8. 'id'\n",
       "\n",
       "\n"
      ],
      "text/plain": [
       "[1] \"start\"      \"stop\"       \"event\"      \"age\"        \"year\"      \n",
       "[6] \"surgery\"    \"transplant\" \"id\"        "
      ]
     },
     "metadata": {},
     "output_type": "display_data"
    }
   ],
   "source": [
    "names(d2)"
   ]
  },
  {
   "cell_type": "markdown",
   "id": "vulnerable-geography",
   "metadata": {},
   "source": [
    "considerando event como 1=muerte\n",
    "tiempo, falla"
   ]
  },
  {
   "cell_type": "code",
   "execution_count": 50,
   "id": "sexual-muslim",
   "metadata": {},
   "outputs": [
    {
     "data": {
      "text/plain": [
       "  [1]   50.0     6.0     1.0+   15.0    36.0+    3.0    18.0     3.0    51.0+\n",
       " [10]  624.0    40.0    85.0    12.0+   46.0    26.0+  127.0     8.0    17.0+\n",
       " [19]   64.0    37.0+ 1350.0     1.0    28.0+  280.0    36.0    20.0+   23.0 \n",
       " [28]   37.0    18.0+   10.0     8.0+ 1024.0    12.0+   39.0     3.0+  730.0 \n",
       " [37]   83.0+  136.0    25.0+ 1775.0+ 1401.0+  263.0    71.0+    1.0    35.0 \n",
       " [46]   16.0+  836.0    16.0    17.0+   60.0    51.0+ 1536.0+   23.0+ 1549.0+\n",
       " [55]   12.0    46.0+   54.0    19.0+   47.0     4.5+    0.5     2.0+   51.0 \n",
       " [64]   41.0+ 1367.0+   58.0+ 1264.0+    3.0     2.0    40.0     1.0+   44.0 \n",
       " [73]    2.0+  994.0    21.0+   51.0     9.0    36.0+ 1106.0+   83.0+  897.0 \n",
       " [82]   32.0+  253.0   102.0    41.0+  147.0     3.0    10.0+   51.0    67.0+\n",
       " [91]  875.0+  149.0    21.0+  322.0    78.0+  838.0+    3.0+   65.0     2.0 \n",
       "[100]   69.0    27.0+  815.0+   33.0+  551.0    12.0+   66.0    32.0    57.0+\n",
       "[109]  228.0     3.0+   65.0    10.0+  660.0+    5.0+   25.0    31.0+  589.0+\n",
       "[118]    4.0+  592.0+   27.0+   63.0     5.0+   12.0     2.0    46.0+  499.0+\n",
       "[127]   21.0   210.0+  305.0+   67.0+   29.0    26.0+  456.0+    6.0+  439.0+\n",
       "[136]  428.0+   32.0+   48.0    37.0+  297.0     5.0     8.0+  389.0+   60.0+\n",
       "[145]   50.0    31.0+  339.0+  139.0+   68.0   160.0+   26.0   340.0   310.0+\n",
       "[154]   30.0+   28.0+  237.0+    4.0+  161.0     2.0+   14.0    13.0+  167.0+\n",
       "[163]   21.0+  110.0+   96.0+   13.0+   21.0    38.0+    1.0+   31.0+   11.0+\n",
       "[172]    6.0 "
      ]
     },
     "metadata": {},
     "output_type": "display_data"
    }
   ],
   "source": [
    "tiempos<-d2$stop-d2$start\n",
    "cora<-Surv(tiempos, d2$event)\n",
    "cora"
   ]
  },
  {
   "cell_type": "markdown",
   "id": "maritime-lounge",
   "metadata": {},
   "source": [
    "*Revisar si exise diferencia en la supervivencia de un paciente con transplante previo* "
   ]
  },
  {
   "cell_type": "markdown",
   "id": "finished-america",
   "metadata": {},
   "source": [
    "**Estimación de Kaplan Meier**"
   ]
  },
  {
   "cell_type": "code",
   "execution_count": 51,
   "id": "marked-coffee",
   "metadata": {},
   "outputs": [
    {
     "data": {
      "text/plain": [
       "Call: survfit(formula = cora ~ d2$transplant)\n",
       "\n",
       "                  n events median 0.95LCL 0.95UCL\n",
       "d2$transplant=0 103     30    149      69      NA\n",
       "d2$transplant=1  69     45    228      66     836"
      ]
     },
     "metadata": {},
     "output_type": "display_data"
    }
   ],
   "source": [
    "km.trans<-survfit(cora~d2$transplant)\n",
    "km.trans"
   ]
  },
  {
   "cell_type": "code",
   "execution_count": 52,
   "id": "residential-hindu",
   "metadata": {},
   "outputs": [
    {
     "data": {
      "text/plain": [
       "Call: survfit(formula = cora ~ d2$transplant)\n",
       "\n",
       "                d2$transplant=0 \n",
       " time n.risk n.event survival std.err lower 95% CI upper 95% CI\n",
       "    1    103       1    0.990 0.00966       0.9715        1.000\n",
       "    2    100       3    0.961 0.01932       0.9235        0.999\n",
       "    3     94       3    0.930 0.02555       0.8812        0.981\n",
       "    5     85       1    0.919 0.02750       0.8666        0.974\n",
       "    6     82       2    0.897 0.03106       0.8377        0.960\n",
       "    8     79       1    0.885 0.03267       0.8234        0.952\n",
       "    9     76       1    0.874 0.03426       0.8089        0.943\n",
       "   12     72       1    0.861 0.03587       0.7939        0.935\n",
       "   16     67       1    0.849 0.03756       0.7781        0.925\n",
       "   18     63       1    0.835 0.03931       0.7615        0.916\n",
       "   21     59       2    0.807 0.04277       0.7272        0.895\n",
       "   32     43       1    0.788 0.04571       0.7034        0.883\n",
       "   35     39       1    0.768 0.04880       0.6779        0.870\n",
       "   36     38       1    0.748 0.05153       0.6532        0.856\n",
       "   37     35       1    0.726 0.05430       0.6273        0.841\n",
       "   40     31       2    0.679 0.06006       0.5713        0.808\n",
       "   50     25       1    0.652 0.06351       0.5389        0.789\n",
       "   69     17       1    0.614 0.07042       0.4903        0.769\n",
       "   85     12       1    0.563 0.08103       0.4243        0.746\n",
       "  102     10       1    0.506 0.09038       0.3570        0.719\n",
       "  149      8       1    0.443 0.09879       0.2863        0.686\n",
       "  263      5       1    0.355 0.11194       0.1909        0.658\n",
       "  340      3       1    0.236 0.12198       0.0859        0.650\n",
       "\n",
       "                d2$transplant=1 \n",
       "   time n.risk n.event survival std.err lower 95% CI upper 95% CI\n",
       "    0.5     69       1    0.986  0.0144       0.9577        1.000\n",
       "    1.0     68       1    0.971  0.0202       0.9322        1.000\n",
       "    3.0     66       1    0.956  0.0247       0.9091        1.000\n",
       "   10.0     65       1    0.942  0.0283       0.8876        0.999\n",
       "   12.0     64       1    0.927  0.0315       0.8672        0.991\n",
       "   14.0     62       1    0.912  0.0343       0.8470        0.982\n",
       "   15.0     61       1    0.897  0.0369       0.8275        0.972\n",
       "   23.0     60       1    0.882  0.0392       0.8085        0.962\n",
       "   25.0     59       1    0.867  0.0413       0.7898        0.952\n",
       "   26.0     58       1    0.852  0.0432       0.7715        0.941\n",
       "   29.0     57       1    0.837  0.0449       0.7536        0.930\n",
       "   39.0     55       1    0.822  0.0466       0.7355        0.919\n",
       "   44.0     54       1    0.807  0.0482       0.7176        0.907\n",
       "   46.0     53       1    0.792  0.0496       0.7000        0.895\n",
       "   47.0     52       1    0.776  0.0510       0.6826        0.883\n",
       "   48.0     51       1    0.761  0.0522       0.6654        0.871\n",
       "   50.0     50       1    0.746  0.0533       0.6484        0.858\n",
       "   51.0     49       3    0.700  0.0562       0.5983        0.819\n",
       "   54.0     46       1    0.685  0.0570       0.5819        0.806\n",
       "   60.0     45       1    0.670  0.0577       0.5657        0.793\n",
       "   63.0     44       1    0.655  0.0584       0.5495        0.780\n",
       "   64.0     43       1    0.639  0.0590       0.5336        0.766\n",
       "   65.0     42       2    0.609  0.0600       0.5020        0.739\n",
       "   66.0     40       1    0.594  0.0604       0.4864        0.725\n",
       "   68.0     39       1    0.578  0.0607       0.4709        0.711\n",
       "  127.0     37       1    0.563  0.0610       0.4550        0.696\n",
       "  136.0     36       1    0.547  0.0613       0.4392        0.682\n",
       "  147.0     35       1    0.532  0.0615       0.4236        0.667\n",
       "  161.0     34       1    0.516  0.0617       0.4081        0.652\n",
       "  228.0     32       1    0.500  0.0618       0.3922        0.637\n",
       "  253.0     30       1    0.483  0.0620       0.3757        0.621\n",
       "  280.0     29       1    0.466  0.0620       0.3594        0.605\n",
       "  297.0     28       1    0.450  0.0620       0.3433        0.589\n",
       "  322.0     26       1    0.432  0.0620       0.3266        0.573\n",
       "  551.0     20       1    0.411  0.0625       0.3049        0.554\n",
       "  624.0     17       1    0.387  0.0634       0.2805        0.533\n",
       "  730.0     15       1    0.361  0.0642       0.2547        0.511\n",
       "  836.0     13       1    0.333  0.0650       0.2273        0.488\n",
       "  897.0     10       1    0.300  0.0665       0.1942        0.463\n",
       "  994.0      9       1    0.267  0.0669       0.1629        0.436\n",
       " 1024.0      8       1    0.233  0.0663       0.1336        0.407\n",
       " 1350.0      5       1    0.187  0.0675       0.0918        0.379\n"
      ]
     },
     "metadata": {},
     "output_type": "display_data"
    }
   ],
   "source": [
    "summary(km.trans)"
   ]
  },
  {
   "cell_type": "code",
   "execution_count": 53,
   "id": "geographic-vacation",
   "metadata": {},
   "outputs": [
    {
     "data": {
      "image/png": "[encoded data removed]",
      "text/plain": [
       "plot without title"
      ]
     },
     "metadata": {},
     "output_type": "display_data"
    }
   ],
   "source": [
    "plot(km.trans, col=c(3,5))"
   ]
  },
  {
   "cell_type": "markdown",
   "id": "negative-found",
   "metadata": {},
   "source": [
    "*Aquí gráficamente se ve que son diferentes, pero no podemos afirmarlo solo por esto, por lo que debemos hacer la comparación de las fns de supervivencia*"
   ]
  },
  {
   "cell_type": "markdown",
   "id": "medieval-grant",
   "metadata": {},
   "source": [
    "**Comparando funciones de supervivencia**"
   ]
  },
  {
   "cell_type": "code",
   "execution_count": 54,
   "id": "attached-mounting",
   "metadata": {},
   "outputs": [
    {
     "data": {
      "text/plain": [
       "Call:\n",
       "survdiff(formula = cora ~ d2$transplant, rho = 0)\n",
       "\n",
       "                  N Observed Expected (O-E)^2/E (O-E)^2/V\n",
       "d2$transplant=0 103       30     26.7     0.397     0.712\n",
       "d2$transplant=1  69       45     48.3     0.220     0.712\n",
       "\n",
       " Chisq= 0.7  on 1 degrees of freedom, p= 0.4 "
      ]
     },
     "metadata": {},
     "output_type": "display_data"
    }
   ],
   "source": [
    "survdiff(cora~d2$transplant, rho=0)"
   ]
  },
  {
   "cell_type": "markdown",
   "id": "determined-blowing",
   "metadata": {},
   "source": [
    "Nota: No hay diferencia "
   ]
  },
  {
   "cell_type": "markdown",
   "id": "swiss-twins",
   "metadata": {},
   "source": [
    "Revisar si exise diferencia en la supervivencia de un paciente con cirugía previo "
   ]
  },
  {
   "cell_type": "code",
   "execution_count": 55,
   "id": "suburban-banking",
   "metadata": {},
   "outputs": [
    {
     "data": {
      "text/plain": [
       "Call: survfit(formula = cora ~ d2$surgery)\n",
       "\n",
       "               n events median 0.95LCL 0.95UCL\n",
       "d2$surgery=0 143     66    102      64     280\n",
       "d2$surgery=1  29      9    897     322      NA"
      ]
     },
     "metadata": {},
     "output_type": "display_data"
    }
   ],
   "source": [
    "km.cir<-survfit(cora~d2$surgery)\n",
    "km.cir"
   ]
  },
  {
   "cell_type": "code",
   "execution_count": 56,
   "id": "artificial-leadership",
   "metadata": {},
   "outputs": [
    {
     "data": {
      "text/plain": [
       "Call: survfit(formula = cora ~ d2$surgery)\n",
       "\n",
       "                d2$surgery=0 \n",
       "   time n.risk n.event survival std.err lower 95% CI upper 95% CI\n",
       "    0.5    143       1    0.993 0.00697       0.9794        1.000\n",
       "    1.0    142       1    0.986 0.00982       0.9670        1.000\n",
       "    2.0    139       2    0.972 0.01389       0.9450        0.999\n",
       "    3.0    135       4    0.943 0.01956       0.9055        0.982\n",
       "    5.0    126       1    0.936 0.02079       0.8957        0.977\n",
       "    6.0    123       2    0.920 0.02307       0.8762        0.967\n",
       "    8.0    120       1    0.913 0.02412       0.8666        0.961\n",
       "    9.0    117       1    0.905 0.02514       0.8569        0.956\n",
       "   10.0    116       1    0.897 0.02611       0.8473        0.950\n",
       "   12.0    112       2    0.881 0.02799       0.8279        0.938\n",
       "   14.0    105       1    0.873 0.02895       0.8177        0.931\n",
       "   15.0    104       1    0.864 0.02987       0.8077        0.925\n",
       "   16.0    103       1    0.856 0.03073       0.7977        0.918\n",
       "   18.0     99       1    0.847 0.03161       0.7875        0.912\n",
       "   21.0     95       2    0.829 0.03337       0.7665        0.897\n",
       "   23.0     91       1    0.820 0.03423       0.7559        0.890\n",
       "   25.0     89       1    0.811 0.03506       0.7452        0.883\n",
       "   29.0     82       1    0.801 0.03600       0.7336        0.875\n",
       "   32.0     77       1    0.791 0.03701       0.7215        0.867\n",
       "   35.0     74       1    0.780 0.03802       0.7090        0.858\n",
       "   36.0     73       1    0.769 0.03897       0.6967        0.850\n",
       "   37.0     71       1    0.759 0.03990       0.6843        0.841\n",
       "   39.0     68       1    0.747 0.04084       0.6715        0.832\n",
       "   40.0     67       1    0.736 0.04173       0.6588        0.823\n",
       "   44.0     65       1    0.725 0.04260       0.6461        0.813\n",
       "   46.0     64       1    0.714 0.04341       0.6334        0.804\n",
       "   47.0     62       1    0.702 0.04421       0.6206        0.794\n",
       "   48.0     61       1    0.691 0.04496       0.6078        0.785\n",
       "   50.0     60       2    0.668 0.04631       0.5827        0.765\n",
       "   51.0     58       3    0.633 0.04802       0.5456        0.734\n",
       "   54.0     53       1    0.621 0.04857       0.5328        0.724\n",
       "   60.0     51       1    0.609 0.04912       0.5198        0.713\n",
       "   63.0     49       1    0.596 0.04967       0.5067        0.702\n",
       "   64.0     48       1    0.584 0.05016       0.4936        0.691\n",
       "   65.0     47       2    0.559 0.05101       0.4676        0.669\n",
       "   66.0     45       1    0.547 0.05137       0.4548        0.657\n",
       "   68.0     42       1    0.534 0.05177       0.4413        0.646\n",
       "   69.0     41       1    0.521 0.05212       0.4280        0.634\n",
       "   85.0     38       1    0.507 0.05252       0.4139        0.621\n",
       "  102.0     36       1    0.493 0.05292       0.3994        0.608\n",
       "  127.0     34       1    0.478 0.05331       0.3846        0.595\n",
       "  136.0     33       1    0.464 0.05363       0.3699        0.582\n",
       "  147.0     31       1    0.449 0.05395       0.3548        0.568\n",
       "  149.0     30       1    0.434 0.05418       0.3398        0.554\n",
       "  228.0     27       1    0.418 0.05451       0.3237        0.540\n",
       "  253.0     25       1    0.401 0.05483       0.3069        0.524\n",
       "  263.0     24       1    0.385 0.05504       0.2904        0.509\n",
       "  280.0     23       1    0.368 0.05513       0.2742        0.493\n",
       "  297.0     22       1    0.351 0.05510       0.2581        0.478\n",
       "  340.0     18       1    0.332 0.05538       0.2390        0.460\n",
       "  624.0     12       1    0.304 0.05724       0.2101        0.440\n",
       "  730.0     10       1    0.274 0.05904       0.1792        0.418\n",
       "  836.0      8       1    0.239 0.06076       0.1455        0.394\n",
       " 1024.0      6       1    0.199 0.06237       0.1081        0.368\n",
       " 1350.0      5       1    0.160 0.06134       0.0751        0.339\n",
       "\n",
       "                d2$surgery=1 \n",
       " time n.risk n.event survival std.err lower 95% CI upper 95% CI\n",
       "    1     29       1    0.966  0.0339        0.901        1.000\n",
       "    2     27       1    0.930  0.0479        0.840        1.000\n",
       "   26     23       1    0.889  0.0605        0.778        1.000\n",
       "   40     18       1    0.840  0.0747        0.706        1.000\n",
       "  161     11       1    0.764  0.0995        0.591        0.986\n",
       "  322     10       1    0.687  0.1152        0.495        0.955\n",
       "  551      7       1    0.589  0.1342        0.377        0.921\n",
       "  897      5       1    0.471  0.1504        0.252        0.881\n",
       "  994      4       1    0.353  0.1521        0.152        0.822\n"
      ]
     },
     "metadata": {},
     "output_type": "display_data"
    }
   ],
   "source": [
    "summary(km.cir)"
   ]
  },
  {
   "cell_type": "code",
   "execution_count": 57,
   "id": "julian-tablet",
   "metadata": {},
   "outputs": [
    {
     "data": {
      "image/png": "[encoded data removed]",
      "text/plain": [
       "plot without title"
      ]
     },
     "metadata": {},
     "output_type": "display_data"
    }
   ],
   "source": [
    "plot(km.cir, col=c(3,5))"
   ]
  },
  {
   "cell_type": "code",
   "execution_count": 58,
   "id": "vital-transsexual",
   "metadata": {},
   "outputs": [
    {
     "data": {
      "text/plain": [
       "Call:\n",
       "survdiff(formula = cora ~ d2$surgery, rho = 0)\n",
       "\n",
       "               N Observed Expected (O-E)^2/E (O-E)^2/V\n",
       "d2$surgery=0 143       66     57.8      1.15      5.17\n",
       "d2$surgery=1  29        9     17.2      3.87      5.17\n",
       "\n",
       " Chisq= 5.2  on 1 degrees of freedom, p= 0.02 "
      ]
     },
     "metadata": {},
     "output_type": "display_data"
    }
   ],
   "source": [
    "survdiff(cora~d2$surgery, rho=0)"
   ]
  },
  {
   "cell_type": "markdown",
   "id": "qualified-flood",
   "metadata": {},
   "source": [
    "Las funciones de supervivencia difieren"
   ]
  },
  {
   "cell_type": "markdown",
   "id": "younger-bubble",
   "metadata": {},
   "source": [
    "Ojo apoyados en la gráfica, los pacientes con cirugía son los que tienen mayor supervivencia \n",
    "La curva que este más arriba es la que tiene mayor probabilidad de supervivencia."
   ]
  },
  {
   "cell_type": "code",
   "execution_count": 60,
   "id": "revolutionary-pacific",
   "metadata": {},
   "outputs": [
    {
     "data": {
      "text/plain": [
       "Call: survfit(formula = cora ~ d2$surgery)\n",
       "\n",
       "   time n.risk n.event survival std.err lower 95% CI upper 95% CI\n",
       "    0.5    143       1    0.993 0.00697       0.9794        1.000\n",
       "    1.0    142       1    0.986 0.00982       0.9670        1.000\n",
       "    2.0    139       2    0.972 0.01389       0.9450        0.999\n",
       "    3.0    135       4    0.943 0.01956       0.9055        0.982\n",
       "    5.0    126       1    0.936 0.02079       0.8957        0.977\n",
       "    6.0    123       2    0.920 0.02307       0.8762        0.967\n",
       "    8.0    120       1    0.913 0.02412       0.8666        0.961\n",
       "    9.0    117       1    0.905 0.02514       0.8569        0.956\n",
       "   10.0    116       1    0.897 0.02611       0.8473        0.950\n",
       "   12.0    112       2    0.881 0.02799       0.8279        0.938\n",
       "   14.0    105       1    0.873 0.02895       0.8177        0.931\n",
       "   15.0    104       1    0.864 0.02987       0.8077        0.925\n",
       "   16.0    103       1    0.856 0.03073       0.7977        0.918\n",
       "   18.0     99       1    0.847 0.03161       0.7875        0.912\n",
       "   21.0     95       2    0.829 0.03337       0.7665        0.897\n",
       "   23.0     91       1    0.820 0.03423       0.7559        0.890\n",
       "   25.0     89       1    0.811 0.03506       0.7452        0.883\n",
       "   29.0     82       1    0.801 0.03600       0.7336        0.875\n",
       "   32.0     77       1    0.791 0.03701       0.7215        0.867\n",
       "   35.0     74       1    0.780 0.03802       0.7090        0.858\n",
       "   36.0     73       1    0.769 0.03897       0.6967        0.850\n",
       "   37.0     71       1    0.759 0.03990       0.6843        0.841\n",
       "   39.0     68       1    0.747 0.04084       0.6715        0.832\n",
       "   40.0     67       1    0.736 0.04173       0.6588        0.823\n",
       "   44.0     65       1    0.725 0.04260       0.6461        0.813\n",
       "   46.0     64       1    0.714 0.04341       0.6334        0.804\n",
       "   47.0     62       1    0.702 0.04421       0.6206        0.794\n",
       "   48.0     61       1    0.691 0.04496       0.6078        0.785\n",
       "   50.0     60       2    0.668 0.04631       0.5827        0.765\n",
       "   51.0     58       3    0.633 0.04802       0.5456        0.734\n",
       "   54.0     53       1    0.621 0.04857       0.5328        0.724\n",
       "   60.0     51       1    0.609 0.04912       0.5198        0.713\n",
       "   63.0     49       1    0.596 0.04967       0.5067        0.702\n",
       "   64.0     48       1    0.584 0.05016       0.4936        0.691\n",
       "   65.0     47       2    0.559 0.05101       0.4676        0.669\n",
       "   66.0     45       1    0.547 0.05137       0.4548        0.657\n",
       "   68.0     42       1    0.534 0.05177       0.4413        0.646\n",
       "   69.0     41       1    0.521 0.05212       0.4280        0.634\n",
       "   85.0     38       1    0.507 0.05252       0.4139        0.621\n",
       "  102.0     36       1    0.493 0.05292       0.3994        0.608\n",
       "  127.0     34       1    0.478 0.05331       0.3846        0.595\n",
       "  136.0     33       1    0.464 0.05363       0.3699        0.582\n",
       "  147.0     31       1    0.449 0.05395       0.3548        0.568\n",
       "  149.0     30       1    0.434 0.05418       0.3398        0.554\n",
       "  228.0     27       1    0.418 0.05451       0.3237        0.540\n",
       "  253.0     25       1    0.401 0.05483       0.3069        0.524\n",
       "  263.0     24       1    0.385 0.05504       0.2904        0.509\n",
       "  280.0     23       1    0.368 0.05513       0.2742        0.493\n",
       "  297.0     22       1    0.351 0.05510       0.2581        0.478\n",
       "  340.0     18       1    0.332 0.05538       0.2390        0.460\n",
       "  624.0     12       1    0.304 0.05724       0.2101        0.440\n",
       "  730.0     10       1    0.274 0.05904       0.1792        0.418\n",
       "  836.0      8       1    0.239 0.06076       0.1455        0.394\n",
       " 1024.0      6       1    0.199 0.06237       0.1081        0.368\n",
       " 1350.0      5       1    0.160 0.06134       0.0751        0.339"
      ]
     },
     "metadata": {},
     "output_type": "display_data"
    }
   ],
   "source": [
    "summary(km.cir[1]) # corresponde a la primer impresión, sin cirugía"
   ]
  },
  {
   "cell_type": "code",
   "execution_count": 61,
   "id": "neural-aluminum",
   "metadata": {},
   "outputs": [
    {
     "data": {
      "text/plain": [
       "Call: survfit(formula = cora ~ d2$surgery)\n",
       "\n",
       " time n.risk n.event survival std.err lower 95% CI upper 95% CI\n",
       "    1     29       1    0.966  0.0339        0.901        1.000\n",
       "    2     27       1    0.930  0.0479        0.840        1.000\n",
       "   26     23       1    0.889  0.0605        0.778        1.000\n",
       "   40     18       1    0.840  0.0747        0.706        1.000\n",
       "  161     11       1    0.764  0.0995        0.591        0.986\n",
       "  322     10       1    0.687  0.1152        0.495        0.955\n",
       "  551      7       1    0.589  0.1342        0.377        0.921\n",
       "  897      5       1    0.471  0.1504        0.252        0.881\n",
       "  994      4       1    0.353  0.1521        0.152        0.822"
      ]
     },
     "metadata": {},
     "output_type": "display_data"
    }
   ],
   "source": [
    "summary(km.cir[2]) # corresponde a la segunda impresión, con cirugía"
   ]
  },
  {
   "cell_type": "markdown",
   "id": "authentic-corruption",
   "metadata": {},
   "source": [
    "Si el paciente antes o después de los 48 tiene diferente supervivencia"
   ]
  },
  {
   "cell_type": "code",
   "execution_count": 63,
   "id": "under-chicago",
   "metadata": {},
   "outputs": [
    {
     "data": {
      "text/html": [
       "<ol class=list-inline>\n",
       "\t<li>0</li>\n",
       "\t<li>1</li>\n",
       "\t<li>1</li>\n",
       "\t<li>1</li>\n",
       "\t<li>0</li>\n",
       "\t<li>0</li>\n",
       "\t<li>0</li>\n",
       "\t<li>1</li>\n",
       "\t<li>1</li>\n",
       "\t<li>1</li>\n",
       "\t<li>0</li>\n",
       "\t<li>0</li>\n",
       "\t<li>0</li>\n",
       "\t<li>0</li>\n",
       "\t<li>0</li>\n",
       "\t<li>0</li>\n",
       "\t<li>1</li>\n",
       "\t<li>1</li>\n",
       "\t<li>1</li>\n",
       "\t<li>1</li>\n",
       "\t<li>1</li>\n",
       "\t<li>1</li>\n",
       "\t<li>1</li>\n",
       "\t<li>1</li>\n",
       "\t<li>0</li>\n",
       "\t<li>1</li>\n",
       "\t<li>1</li>\n",
       "\t<li>1</li>\n",
       "\t<li>1</li>\n",
       "\t<li>1</li>\n",
       "\t<li>0</li>\n",
       "\t<li>0</li>\n",
       "\t<li>0</li>\n",
       "\t<li>0</li>\n",
       "\t<li>1</li>\n",
       "\t<li>1</li>\n",
       "\t<li>1</li>\n",
       "\t<li>1</li>\n",
       "\t<li>0</li>\n",
       "\t<li>0</li>\n",
       "\t<li>0</li>\n",
       "\t<li>0</li>\n",
       "\t<li>1</li>\n",
       "\t<li>1</li>\n",
       "\t<li>1</li>\n",
       "\t<li>0</li>\n",
       "\t<li>0</li>\n",
       "\t<li>1</li>\n",
       "\t<li>1</li>\n",
       "\t<li>1</li>\n",
       "\t<li>1</li>\n",
       "\t<li>1</li>\n",
       "\t<li>0</li>\n",
       "\t<li>0</li>\n",
       "\t<li>0</li>\n",
       "\t<li>1</li>\n",
       "\t<li>1</li>\n",
       "\t<li>1</li>\n",
       "\t<li>1</li>\n",
       "\t<li>0</li>\n",
       "\t<li>0</li>\n",
       "\t<li>1</li>\n",
       "\t<li>1</li>\n",
       "\t<li>1</li>\n",
       "\t<li>1</li>\n",
       "\t<li>0</li>\n",
       "\t<li>0</li>\n",
       "\t<li>0</li>\n",
       "\t<li>0</li>\n",
       "\t<li>0</li>\n",
       "\t<li>0</li>\n",
       "\t<li>0</li>\n",
       "\t<li>1</li>\n",
       "\t<li>1</li>\n",
       "\t<li>0</li>\n",
       "\t<li>0</li>\n",
       "\t<li>1</li>\n",
       "\t<li>0</li>\n",
       "\t<li>0</li>\n",
       "\t<li>0</li>\n",
       "\t<li>0</li>\n",
       "\t<li>1</li>\n",
       "\t<li>1</li>\n",
       "\t<li>0</li>\n",
       "\t<li>0</li>\n",
       "\t<li>0</li>\n",
       "\t<li>0</li>\n",
       "\t<li>1</li>\n",
       "\t<li>1</li>\n",
       "\t<li>0</li>\n",
       "\t<li>0</li>\n",
       "\t<li>0</li>\n",
       "\t<li>1</li>\n",
       "\t<li>1</li>\n",
       "\t<li>0</li>\n",
       "\t<li>0</li>\n",
       "\t<li>1</li>\n",
       "\t<li>1</li>\n",
       "\t<li>1</li>\n",
       "\t<li>0</li>\n",
       "\t<li>0</li>\n",
       "\t<li>0</li>\n",
       "\t<li>1</li>\n",
       "\t<li>1</li>\n",
       "\t<li>1</li>\n",
       "\t<li>1</li>\n",
       "\t<li>1</li>\n",
       "\t<li>0</li>\n",
       "\t<li>0</li>\n",
       "\t<li>0</li>\n",
       "\t<li>0</li>\n",
       "\t<li>0</li>\n",
       "\t<li>0</li>\n",
       "\t<li>1</li>\n",
       "\t<li>1</li>\n",
       "\t<li>0</li>\n",
       "\t<li>0</li>\n",
       "\t<li>0</li>\n",
       "\t<li>0</li>\n",
       "\t<li>1</li>\n",
       "\t<li>1</li>\n",
       "\t<li>0</li>\n",
       "\t<li>0</li>\n",
       "\t<li>1</li>\n",
       "\t<li>1</li>\n",
       "\t<li>1</li>\n",
       "\t<li>0</li>\n",
       "\t<li>1</li>\n",
       "\t<li>1</li>\n",
       "\t<li>1</li>\n",
       "\t<li>1</li>\n",
       "\t<li>0</li>\n",
       "\t<li>0</li>\n",
       "\t<li>1</li>\n",
       "\t<li>1</li>\n",
       "\t<li>0</li>\n",
       "\t<li>1</li>\n",
       "\t<li>1</li>\n",
       "\t<li>0</li>\n",
       "\t<li>0</li>\n",
       "\t<li>0</li>\n",
       "\t<li>1</li>\n",
       "\t<li>1</li>\n",
       "\t<li>0</li>\n",
       "\t<li>0</li>\n",
       "\t<li>1</li>\n",
       "\t<li>1</li>\n",
       "\t<li>1</li>\n",
       "\t<li>1</li>\n",
       "\t<li>1</li>\n",
       "\t<li>1</li>\n",
       "\t<li>0</li>\n",
       "\t<li>0</li>\n",
       "\t<li>0</li>\n",
       "\t<li>0</li>\n",
       "\t<li>0</li>\n",
       "\t<li>0</li>\n",
       "\t<li>0</li>\n",
       "\t<li>0</li>\n",
       "\t<li>0</li>\n",
       "\t<li>0</li>\n",
       "\t<li>0</li>\n",
       "\t<li>0</li>\n",
       "\t<li>0</li>\n",
       "\t<li>0</li>\n",
       "\t<li>0</li>\n",
       "\t<li>1</li>\n",
       "\t<li>0</li>\n",
       "\t<li>0</li>\n",
       "\t<li>1</li>\n",
       "\t<li>0</li>\n",
       "\t<li>0</li>\n",
       "</ol>\n"
      ],
      "text/latex": [
       "\\begin{enumerate*}\n",
       "\\item 0\n",
       "\\item 1\n",
       "\\item 1\n",
       "\\item 1\n",
       "\\item 0\n",
       "\\item 0\n",
       "\\item 0\n",
       "\\item 1\n",
       "\\item 1\n",
       "\\item 1\n",
       "\\item 0\n",
       "\\item 0\n",
       "\\item 0\n",
       "\\item 0\n",
       "\\item 0\n",
       "\\item 0\n",
       "\\item 1\n",
       "\\item 1\n",
       "\\item 1\n",
       "\\item 1\n",
       "\\item 1\n",
       "\\item 1\n",
       "\\item 1\n",
       "\\item 1\n",
       "\\item 0\n",
       "\\item 1\n",
       "\\item 1\n",
       "\\item 1\n",
       "\\item 1\n",
       "\\item 1\n",
       "\\item 0\n",
       "\\item 0\n",
       "\\item 0\n",
       "\\item 0\n",
       "\\item 1\n",
       "\\item 1\n",
       "\\item 1\n",
       "\\item 1\n",
       "\\item 0\n",
       "\\item 0\n",
       "\\item 0\n",
       "\\item 0\n",
       "\\item 1\n",
       "\\item 1\n",
       "\\item 1\n",
       "\\item 0\n",
       "\\item 0\n",
       "\\item 1\n",
       "\\item 1\n",
       "\\item 1\n",
       "\\item 1\n",
       "\\item 1\n",
       "\\item 0\n",
       "\\item 0\n",
       "\\item 0\n",
       "\\item 1\n",
       "\\item 1\n",
       "\\item 1\n",
       "\\item 1\n",
       "\\item 0\n",
       "\\item 0\n",
       "\\item 1\n",
       "\\item 1\n",
       "\\item 1\n",
       "\\item 1\n",
       "\\item 0\n",
       "\\item 0\n",
       "\\item 0\n",
       "\\item 0\n",
       "\\item 0\n",
       "\\item 0\n",
       "\\item 0\n",
       "\\item 1\n",
       "\\item 1\n",
       "\\item 0\n",
       "\\item 0\n",
       "\\item 1\n",
       "\\item 0\n",
       "\\item 0\n",
       "\\item 0\n",
       "\\item 0\n",
       "\\item 1\n",
       "\\item 1\n",
       "\\item 0\n",
       "\\item 0\n",
       "\\item 0\n",
       "\\item 0\n",
       "\\item 1\n",
       "\\item 1\n",
       "\\item 0\n",
       "\\item 0\n",
       "\\item 0\n",
       "\\item 1\n",
       "\\item 1\n",
       "\\item 0\n",
       "\\item 0\n",
       "\\item 1\n",
       "\\item 1\n",
       "\\item 1\n",
       "\\item 0\n",
       "\\item 0\n",
       "\\item 0\n",
       "\\item 1\n",
       "\\item 1\n",
       "\\item 1\n",
       "\\item 1\n",
       "\\item 1\n",
       "\\item 0\n",
       "\\item 0\n",
       "\\item 0\n",
       "\\item 0\n",
       "\\item 0\n",
       "\\item 0\n",
       "\\item 1\n",
       "\\item 1\n",
       "\\item 0\n",
       "\\item 0\n",
       "\\item 0\n",
       "\\item 0\n",
       "\\item 1\n",
       "\\item 1\n",
       "\\item 0\n",
       "\\item 0\n",
       "\\item 1\n",
       "\\item 1\n",
       "\\item 1\n",
       "\\item 0\n",
       "\\item 1\n",
       "\\item 1\n",
       "\\item 1\n",
       "\\item 1\n",
       "\\item 0\n",
       "\\item 0\n",
       "\\item 1\n",
       "\\item 1\n",
       "\\item 0\n",
       "\\item 1\n",
       "\\item 1\n",
       "\\item 0\n",
       "\\item 0\n",
       "\\item 0\n",
       "\\item 1\n",
       "\\item 1\n",
       "\\item 0\n",
       "\\item 0\n",
       "\\item 1\n",
       "\\item 1\n",
       "\\item 1\n",
       "\\item 1\n",
       "\\item 1\n",
       "\\item 1\n",
       "\\item 0\n",
       "\\item 0\n",
       "\\item 0\n",
       "\\item 0\n",
       "\\item 0\n",
       "\\item 0\n",
       "\\item 0\n",
       "\\item 0\n",
       "\\item 0\n",
       "\\item 0\n",
       "\\item 0\n",
       "\\item 0\n",
       "\\item 0\n",
       "\\item 0\n",
       "\\item 0\n",
       "\\item 1\n",
       "\\item 0\n",
       "\\item 0\n",
       "\\item 1\n",
       "\\item 0\n",
       "\\item 0\n",
       "\\end{enumerate*}\n"
      ],
      "text/markdown": [
       "1. 0\n",
       "2. 1\n",
       "3. 1\n",
       "4. 1\n",
       "5. 0\n",
       "6. 0\n",
       "7. 0\n",
       "8. 1\n",
       "9. 1\n",
       "10. 1\n",
       "11. 0\n",
       "12. 0\n",
       "13. 0\n",
       "14. 0\n",
       "15. 0\n",
       "16. 0\n",
       "17. 1\n",
       "18. 1\n",
       "19. 1\n",
       "20. 1\n",
       "21. 1\n",
       "22. 1\n",
       "23. 1\n",
       "24. 1\n",
       "25. 0\n",
       "26. 1\n",
       "27. 1\n",
       "28. 1\n",
       "29. 1\n",
       "30. 1\n",
       "31. 0\n",
       "32. 0\n",
       "33. 0\n",
       "34. 0\n",
       "35. 1\n",
       "36. 1\n",
       "37. 1\n",
       "38. 1\n",
       "39. 0\n",
       "40. 0\n",
       "41. 0\n",
       "42. 0\n",
       "43. 1\n",
       "44. 1\n",
       "45. 1\n",
       "46. 0\n",
       "47. 0\n",
       "48. 1\n",
       "49. 1\n",
       "50. 1\n",
       "51. 1\n",
       "52. 1\n",
       "53. 0\n",
       "54. 0\n",
       "55. 0\n",
       "56. 1\n",
       "57. 1\n",
       "58. 1\n",
       "59. 1\n",
       "60. 0\n",
       "61. 0\n",
       "62. 1\n",
       "63. 1\n",
       "64. 1\n",
       "65. 1\n",
       "66. 0\n",
       "67. 0\n",
       "68. 0\n",
       "69. 0\n",
       "70. 0\n",
       "71. 0\n",
       "72. 0\n",
       "73. 1\n",
       "74. 1\n",
       "75. 0\n",
       "76. 0\n",
       "77. 1\n",
       "78. 0\n",
       "79. 0\n",
       "80. 0\n",
       "81. 0\n",
       "82. 1\n",
       "83. 1\n",
       "84. 0\n",
       "85. 0\n",
       "86. 0\n",
       "87. 0\n",
       "88. 1\n",
       "89. 1\n",
       "90. 0\n",
       "91. 0\n",
       "92. 0\n",
       "93. 1\n",
       "94. 1\n",
       "95. 0\n",
       "96. 0\n",
       "97. 1\n",
       "98. 1\n",
       "99. 1\n",
       "100. 0\n",
       "101. 0\n",
       "102. 0\n",
       "103. 1\n",
       "104. 1\n",
       "105. 1\n",
       "106. 1\n",
       "107. 1\n",
       "108. 0\n",
       "109. 0\n",
       "110. 0\n",
       "111. 0\n",
       "112. 0\n",
       "113. 0\n",
       "114. 1\n",
       "115. 1\n",
       "116. 0\n",
       "117. 0\n",
       "118. 0\n",
       "119. 0\n",
       "120. 1\n",
       "121. 1\n",
       "122. 0\n",
       "123. 0\n",
       "124. 1\n",
       "125. 1\n",
       "126. 1\n",
       "127. 0\n",
       "128. 1\n",
       "129. 1\n",
       "130. 1\n",
       "131. 1\n",
       "132. 0\n",
       "133. 0\n",
       "134. 1\n",
       "135. 1\n",
       "136. 0\n",
       "137. 1\n",
       "138. 1\n",
       "139. 0\n",
       "140. 0\n",
       "141. 0\n",
       "142. 1\n",
       "143. 1\n",
       "144. 0\n",
       "145. 0\n",
       "146. 1\n",
       "147. 1\n",
       "148. 1\n",
       "149. 1\n",
       "150. 1\n",
       "151. 1\n",
       "152. 0\n",
       "153. 0\n",
       "154. 0\n",
       "155. 0\n",
       "156. 0\n",
       "157. 0\n",
       "158. 0\n",
       "159. 0\n",
       "160. 0\n",
       "161. 0\n",
       "162. 0\n",
       "163. 0\n",
       "164. 0\n",
       "165. 0\n",
       "166. 0\n",
       "167. 1\n",
       "168. 0\n",
       "169. 0\n",
       "170. 1\n",
       "171. 0\n",
       "172. 0\n",
       "\n",
       "\n"
      ],
      "text/plain": [
       "  [1] 0 1 1 1 0 0 0 1 1 1 0 0 0 0 0 0 1 1 1 1 1 1 1 1 0 1 1 1 1 1 0 0 0 0 1 1 1\n",
       " [38] 1 0 0 0 0 1 1 1 0 0 1 1 1 1 1 0 0 0 1 1 1 1 0 0 1 1 1 1 0 0 0 0 0 0 0 1 1\n",
       " [75] 0 0 1 0 0 0 0 1 1 0 0 0 0 1 1 0 0 0 1 1 0 0 1 1 1 0 0 0 1 1 1 1 1 0 0 0 0\n",
       "[112] 0 0 1 1 0 0 0 0 1 1 0 0 1 1 1 0 1 1 1 1 0 0 1 1 0 1 1 0 0 0 1 1 0 0 1 1 1\n",
       "[149] 1 1 1 0 0 0 0 0 0 0 0 0 0 0 0 0 0 0 1 0 0 1 0 0"
      ]
     },
     "metadata": {},
     "output_type": "display_data"
    }
   ],
   "source": [
    "critico<-d2$age\n",
    "critico[critico<0]<-0 \n",
    "#guardar cero en esas posiciones\n",
    "critico[critico>0]<-1\n",
    "critico\n",
    "#indica si el paciente es mayor a 48"
   ]
  },
  {
   "cell_type": "code",
   "execution_count": 64,
   "id": "familiar-server",
   "metadata": {},
   "outputs": [
    {
     "data": {
      "text/plain": [
       "Call: survfit(formula = cora ~ critico)\n",
       "\n",
       "           n events median 0.95LCL 0.95UCL\n",
       "critico=0 91     36    228     127      NA\n",
       "critico=1 81     39     68      60     624"
      ]
     },
     "metadata": {},
     "output_type": "display_data"
    }
   ],
   "source": [
    "km.edad<-survfit(cora~critico)\n",
    "km.edad"
   ]
  },
  {
   "cell_type": "code",
   "execution_count": 65,
   "id": "driven-explorer",
   "metadata": {},
   "outputs": [
    {
     "data": {
      "text/plain": [
       "Call: survfit(formula = cora ~ critico)\n",
       "\n",
       "                critico=0 \n",
       "   time n.risk n.event survival std.err lower 95% CI upper 95% CI\n",
       "    0.5     91       1    0.989  0.0109        0.968        1.000\n",
       "    2.0     88       1    0.978  0.0155        0.948        1.000\n",
       "    3.0     86       3    0.944  0.0245        0.897        0.993\n",
       "    5.0     79       1    0.932  0.0269        0.880        0.986\n",
       "    6.0     77       1    0.920  0.0292        0.864        0.979\n",
       "   12.0     73       2    0.894  0.0334        0.831        0.962\n",
       "   14.0     67       1    0.881  0.0354        0.814        0.953\n",
       "   18.0     65       1    0.868  0.0374        0.797        0.944\n",
       "   21.0     64       1    0.854  0.0392        0.780        0.934\n",
       "   36.0     53       1    0.838  0.0416        0.760        0.924\n",
       "   39.0     48       1    0.820  0.0443        0.738        0.912\n",
       "   40.0     47       2    0.785  0.0488        0.695        0.887\n",
       "   44.0     44       1    0.768  0.0508        0.674        0.874\n",
       "   46.0     43       1    0.750  0.0527        0.653        0.861\n",
       "   50.0     42       2    0.714  0.0559        0.612        0.833\n",
       "   51.0     40       1    0.696  0.0573        0.593        0.818\n",
       "   65.0     36       1    0.677  0.0589        0.571        0.803\n",
       "   69.0     34       1    0.657  0.0604        0.549        0.787\n",
       "   85.0     31       1    0.636  0.0621        0.525        0.770\n",
       "  102.0     29       1    0.614  0.0637        0.501        0.752\n",
       "  127.0     27       1    0.591  0.0653        0.476        0.734\n",
       "  147.0     26       1    0.568  0.0666        0.452        0.715\n",
       "  149.0     25       1    0.546  0.0677        0.428        0.696\n",
       "  161.0     24       1    0.523  0.0686        0.404        0.676\n",
       "  228.0     22       1    0.499  0.0695        0.380        0.656\n",
       "  263.0     20       1    0.474  0.0703        0.355        0.634\n",
       "  297.0     19       1    0.449  0.0709        0.330        0.612\n",
       "  340.0     17       1    0.423  0.0715        0.304        0.589\n",
       "  836.0     10       1    0.381  0.0758        0.257        0.562\n",
       "  897.0      7       1    0.326  0.0822        0.199        0.535\n",
       " 1024.0      6       1    0.272  0.0846        0.148        0.500\n",
       "\n",
       "                critico=1 \n",
       " time n.risk n.event survival std.err lower 95% CI upper 95% CI\n",
       "    1     81       2    0.975  0.0172       0.9421        1.000\n",
       "    2     78       2    0.950  0.0242       0.9040        0.999\n",
       "    3     74       1    0.937  0.0271       0.8858        0.992\n",
       "    6     70       1    0.924  0.0298       0.8674        0.984\n",
       "    8     68       1    0.910  0.0323       0.8493        0.976\n",
       "    9     66       1    0.897  0.0347       0.8312        0.967\n",
       "   10     65       1    0.883  0.0368       0.8137        0.958\n",
       "   15     62       1    0.869  0.0388       0.7958        0.948\n",
       "   16     61       1    0.854  0.0407       0.7782        0.938\n",
       "   21     55       1    0.839  0.0429       0.7590        0.927\n",
       "   23     53       1    0.823  0.0449       0.7396        0.916\n",
       "   25     52       1    0.807  0.0467       0.7207        0.904\n",
       "   26     51       1    0.791  0.0484       0.7020        0.892\n",
       "   29     48       1    0.775  0.0501       0.6826        0.880\n",
       "   32     45       1    0.758  0.0519       0.6625        0.867\n",
       "   35     41       1    0.739  0.0538       0.6409        0.853\n",
       "   37     40       1    0.721  0.0555       0.6197        0.838\n",
       "   47     35       1    0.700  0.0577       0.5958        0.823\n",
       "   48     34       1    0.680  0.0595       0.5723        0.807\n",
       "   51     33       2    0.638  0.0626       0.5267        0.774\n",
       "   54     29       1    0.616  0.0642       0.5025        0.756\n",
       "   60     28       1    0.594  0.0656       0.4787        0.738\n",
       "   63     27       1    0.572  0.0668       0.4554        0.719\n",
       "   64     26       1    0.550  0.0677       0.4324        0.700\n",
       "   65     25       1    0.528  0.0685       0.4097        0.681\n",
       "   66     24       1    0.506  0.0691       0.3875        0.662\n",
       "   68     22       1    0.483  0.0697       0.3643        0.641\n",
       "  136     19       1    0.458  0.0705       0.3386        0.619\n",
       "  253     15       1    0.427  0.0721       0.3070        0.595\n",
       "  280     14       1    0.397  0.0731       0.2765        0.569\n",
       "  322     12       1    0.364  0.0741       0.2439        0.542\n",
       "  551      7       1    0.312  0.0797       0.1889        0.515\n",
       "  624      6       1    0.260  0.0816       0.1404        0.481\n",
       "  730      5       1    0.208  0.0801       0.0976        0.443\n",
       "  994      4       1    0.156  0.0751       0.0606        0.401\n",
       " 1350      3       1    0.104  0.0656       0.0301        0.358\n"
      ]
     },
     "metadata": {},
     "output_type": "display_data"
    }
   ],
   "source": [
    "summary(km.edad)"
   ]
  },
  {
   "cell_type": "code",
   "execution_count": 66,
   "id": "distributed-disco",
   "metadata": {},
   "outputs": [
    {
     "data": {
      "image/png": "[encoded data removed]",
      "text/plain": [
       "plot without title"
      ]
     },
     "metadata": {},
     "output_type": "display_data"
    }
   ],
   "source": [
    "plot(km.edad, col=c(3,5))"
   ]
  },
  {
   "cell_type": "code",
   "execution_count": 67,
   "id": "sustained-athens",
   "metadata": {},
   "outputs": [
    {
     "data": {
      "text/plain": [
       "Call:\n",
       "survdiff(formula = cora ~ critico, rho = 0)\n",
       "\n",
       "           N Observed Expected (O-E)^2/E (O-E)^2/V\n",
       "critico=0 91       36     42.5     0.983      2.29\n",
       "critico=1 81       39     32.5     1.283      2.29\n",
       "\n",
       " Chisq= 2.3  on 1 degrees of freedom, p= 0.1 "
      ]
     },
     "metadata": {},
     "output_type": "display_data"
    }
   ],
   "source": [
    "survdiff(cora~critico, rho=0)"
   ]
  },
  {
   "cell_type": "markdown",
   "id": "focal-scotland",
   "metadata": {},
   "source": [
    "las funciones de supervivencia son iguales al 95% "
   ]
  },
  {
   "cell_type": "code",
   "execution_count": 68,
   "id": "qualified-economics",
   "metadata": {},
   "outputs": [
    {
     "data": {
      "image/png": "[encoded data removed]",
      "text/plain": [
       "Plot with title \"Mayores de 48\""
      ]
     },
     "metadata": {},
     "output_type": "display_data"
    }
   ],
   "source": [
    "par(mfrow=c(1,3))\n",
    "plot(km.edad, col=c(1,10), main=\"Comparativo por grupo\")\n",
    "plot(km.edad[1], col=c(1), main=\"Menores de 48\")\n",
    "plot(km.edad[2], col=c(10), main=\"Mayores de 48\")"
   ]
  },
  {
   "cell_type": "code",
   "execution_count": null,
   "id": "forward-breathing",
   "metadata": {},
   "outputs": [],
   "source": []
  }
 ],
 "metadata": {
  "kernelspec": {
   "display_name": "R",
   "language": "R",
   "name": "ir"
  },
  "language_info": {
   "codemirror_mode": "r",
   "file_extension": ".r",
   "mimetype": "text/x-r-source",
   "name": "R",
   "pygments_lexer": "r",
   "version": "3.6.1"
  }
 },
 "nbformat": 4,
 "nbformat_minor": 5
}
