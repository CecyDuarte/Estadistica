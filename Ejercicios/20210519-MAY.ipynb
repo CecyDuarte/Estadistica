{
 "cells": [
  {
   "cell_type": "markdown",
   "id": "weird-blackjack",
   "metadata": {},
   "source": [
    "# Modelos parametricos diabetes"
   ]
  },
  {
   "cell_type": "code",
   "execution_count": 2,
   "id": "sharing-difficulty",
   "metadata": {},
   "outputs": [
    {
     "name": "stderr",
     "output_type": "stream",
     "text": [
      "Warning message:\n",
      "\"package 'survival' was built under R version 3.6.3\""
     ]
    }
   ],
   "source": [
    "library(\"survival\")"
   ]
  },
  {
   "cell_type": "code",
   "execution_count": 3,
   "id": "tight-maine",
   "metadata": {},
   "outputs": [],
   "source": [
    "data(diabetic)"
   ]
  },
  {
   "cell_type": "code",
   "execution_count": null,
   "id": "acoustic-gregory",
   "metadata": {},
   "outputs": [],
   "source": []
  }
 ],
 "metadata": {
  "kernelspec": {
   "display_name": "R",
   "language": "R",
   "name": "ir"
  },
  "language_info": {
   "codemirror_mode": "r",
   "file_extension": ".r",
   "mimetype": "text/x-r-source",
   "name": "R",
   "pygments_lexer": "r",
   "version": "3.6.1"
  }
 },
 "nbformat": 4,
 "nbformat_minor": 5
}
