{
 "cells": [
  {
   "cell_type": "markdown",
   "id": "natural-pension",
   "metadata": {},
   "source": [
    "# Ejemplo 3"
   ]
  },
  {
   "cell_type": "code",
   "execution_count": 1,
   "id": "sixth-barbados",
   "metadata": {},
   "outputs": [],
   "source": [
    "setwd(\"D:/Estadistica\")"
   ]
  },
  {
   "cell_type": "code",
   "execution_count": 3,
   "id": "annoying-formula",
   "metadata": {},
   "outputs": [
    {
     "data": {
      "text/html": [
       "<table>\n",
       "<thead><tr><th scope=col>TIEMPO</th><th scope=col>ESTATUS</th><th scope=col>PESO</th><th scope=col>GRUPO</th></tr></thead>\n",
       "<tbody>\n",
       "\t<tr><td>20   </td><td>1    </td><td>5.385</td><td>A    </td></tr>\n",
       "\t<tr><td>34   </td><td>1    </td><td>7.413</td><td>A    </td></tr>\n",
       "\t<tr><td> 1   </td><td>1    </td><td>9.266</td><td>A    </td></tr>\n",
       "\t<tr><td> 2   </td><td>1    </td><td>6.228</td><td>A    </td></tr>\n",
       "\t<tr><td> 3   </td><td>1    </td><td>5.229</td><td>A    </td></tr>\n",
       "\t<tr><td> 3   </td><td>1    </td><td>9.699</td><td>A    </td></tr>\n",
       "\t<tr><td>50   </td><td>0    </td><td>1.973</td><td>A    </td></tr>\n",
       "\t<tr><td>26   </td><td>1    </td><td>5.838</td><td>A    </td></tr>\n",
       "\t<tr><td> 1   </td><td>1    </td><td>2.088</td><td>A    </td></tr>\n",
       "\t<tr><td>50   </td><td>0    </td><td>0.237</td><td>A    </td></tr>\n",
       "\t<tr><td>21   </td><td>1    </td><td>6.814</td><td>A    </td></tr>\n",
       "\t<tr><td> 3   </td><td>1    </td><td>5.502</td><td>A    </td></tr>\n",
       "\t<tr><td>13   </td><td>1    </td><td>1.137</td><td>A    </td></tr>\n",
       "\t<tr><td>11   </td><td>1    </td><td>6.323</td><td>A    </td></tr>\n",
       "\t<tr><td>22   </td><td>1    </td><td>7.384</td><td>A    </td></tr>\n",
       "\t<tr><td>50   </td><td>0    </td><td>8.713</td><td>A    </td></tr>\n",
       "\t<tr><td>50   </td><td>0    </td><td>7.458</td><td>A    </td></tr>\n",
       "\t<tr><td> 1   </td><td>1    </td><td>1.424</td><td>A    </td></tr>\n",
       "\t<tr><td>50   </td><td>0    </td><td>1.312</td><td>A    </td></tr>\n",
       "\t<tr><td> 9   </td><td>1    </td><td>5.162</td><td>A    </td></tr>\n",
       "\t<tr><td>50   </td><td>0    </td><td>7.187</td><td>A    </td></tr>\n",
       "\t<tr><td> 1   </td><td>1    </td><td>4.677</td><td>A    </td></tr>\n",
       "\t<tr><td>13   </td><td>1    </td><td>6.548</td><td>A    </td></tr>\n",
       "\t<tr><td>50   </td><td>0    </td><td>5.903</td><td>A    </td></tr>\n",
       "\t<tr><td>50   </td><td>0    </td><td>2.113</td><td>A    </td></tr>\n",
       "\t<tr><td> 1   </td><td>1    </td><td>7.617</td><td>A    </td></tr>\n",
       "\t<tr><td> 6   </td><td>1    </td><td>3.737</td><td>A    </td></tr>\n",
       "\t<tr><td>50   </td><td>0    </td><td>8.972</td><td>A    </td></tr>\n",
       "\t<tr><td>50   </td><td>0    </td><td>6.523</td><td>A    </td></tr>\n",
       "\t<tr><td>50   </td><td>0    </td><td>2.165</td><td>A    </td></tr>\n",
       "\t<tr><td>...</td><td>...</td><td>...</td><td>...</td></tr>\n",
       "\t<tr><td> 2    </td><td>1     </td><td> 5.594</td><td>C     </td></tr>\n",
       "\t<tr><td> 1    </td><td>1     </td><td>17.150</td><td>C     </td></tr>\n",
       "\t<tr><td>20    </td><td>1     </td><td>15.986</td><td>C     </td></tr>\n",
       "\t<tr><td> 2    </td><td>1     </td><td> 1.588</td><td>C     </td></tr>\n",
       "\t<tr><td>20    </td><td>1     </td><td> 2.055</td><td>C     </td></tr>\n",
       "\t<tr><td> 1    </td><td>1     </td><td>16.074</td><td>C     </td></tr>\n",
       "\t<tr><td>23    </td><td>1     </td><td>12.086</td><td>C     </td></tr>\n",
       "\t<tr><td>11    </td><td>1     </td><td>20.524</td><td>C     </td></tr>\n",
       "\t<tr><td> 1    </td><td>1     </td><td> 6.493</td><td>C     </td></tr>\n",
       "\t<tr><td> 1    </td><td>1     </td><td> 7.258</td><td>C     </td></tr>\n",
       "\t<tr><td>20    </td><td>1     </td><td>16.635</td><td>C     </td></tr>\n",
       "\t<tr><td> 9    </td><td>1     </td><td>10.324</td><td>C     </td></tr>\n",
       "\t<tr><td> 1    </td><td>1     </td><td> 5.228</td><td>C     </td></tr>\n",
       "\t<tr><td> 1    </td><td>1     </td><td> 0.784</td><td>C     </td></tr>\n",
       "\t<tr><td> 1    </td><td>1     </td><td> 5.587</td><td>C     </td></tr>\n",
       "\t<tr><td> 1    </td><td>1     </td><td> 5.011</td><td>C     </td></tr>\n",
       "\t<tr><td> 7    </td><td>1     </td><td> 7.441</td><td>C     </td></tr>\n",
       "\t<tr><td>11    </td><td>1     </td><td> 3.690</td><td>C     </td></tr>\n",
       "\t<tr><td> 1    </td><td>1     </td><td> 4.708</td><td>C     </td></tr>\n",
       "\t<tr><td> 3    </td><td>1     </td><td> 9.207</td><td>C     </td></tr>\n",
       "\t<tr><td> 1    </td><td>1     </td><td> 1.400</td><td>C     </td></tr>\n",
       "\t<tr><td> 5    </td><td>1     </td><td> 6.309</td><td>C     </td></tr>\n",
       "\t<tr><td> 9    </td><td>1     </td><td> 1.784</td><td>C     </td></tr>\n",
       "\t<tr><td>21    </td><td>1     </td><td> 0.767</td><td>C     </td></tr>\n",
       "\t<tr><td>10    </td><td>1     </td><td> 1.993</td><td>C     </td></tr>\n",
       "\t<tr><td>11    </td><td>1     </td><td> 1.030</td><td>C     </td></tr>\n",
       "\t<tr><td>30    </td><td>1     </td><td> 2.875</td><td>C     </td></tr>\n",
       "\t<tr><td> 1    </td><td>1     </td><td> 1.820</td><td>C     </td></tr>\n",
       "\t<tr><td> 1    </td><td>1     </td><td> 0.974</td><td>C     </td></tr>\n",
       "\t<tr><td>17    </td><td>1     </td><td> 0.100</td><td>C     </td></tr>\n",
       "</tbody>\n",
       "</table>\n"
      ],
      "text/latex": [
       "\\begin{tabular}{r|llll}\n",
       " TIEMPO & ESTATUS & PESO & GRUPO\\\\\n",
       "\\hline\n",
       "\t 20    & 1     & 5.385 & A    \\\\\n",
       "\t 34    & 1     & 7.413 & A    \\\\\n",
       "\t  1    & 1     & 9.266 & A    \\\\\n",
       "\t  2    & 1     & 6.228 & A    \\\\\n",
       "\t  3    & 1     & 5.229 & A    \\\\\n",
       "\t  3    & 1     & 9.699 & A    \\\\\n",
       "\t 50    & 0     & 1.973 & A    \\\\\n",
       "\t 26    & 1     & 5.838 & A    \\\\\n",
       "\t  1    & 1     & 2.088 & A    \\\\\n",
       "\t 50    & 0     & 0.237 & A    \\\\\n",
       "\t 21    & 1     & 6.814 & A    \\\\\n",
       "\t  3    & 1     & 5.502 & A    \\\\\n",
       "\t 13    & 1     & 1.137 & A    \\\\\n",
       "\t 11    & 1     & 6.323 & A    \\\\\n",
       "\t 22    & 1     & 7.384 & A    \\\\\n",
       "\t 50    & 0     & 8.713 & A    \\\\\n",
       "\t 50    & 0     & 7.458 & A    \\\\\n",
       "\t  1    & 1     & 1.424 & A    \\\\\n",
       "\t 50    & 0     & 1.312 & A    \\\\\n",
       "\t  9    & 1     & 5.162 & A    \\\\\n",
       "\t 50    & 0     & 7.187 & A    \\\\\n",
       "\t  1    & 1     & 4.677 & A    \\\\\n",
       "\t 13    & 1     & 6.548 & A    \\\\\n",
       "\t 50    & 0     & 5.903 & A    \\\\\n",
       "\t 50    & 0     & 2.113 & A    \\\\\n",
       "\t  1    & 1     & 7.617 & A    \\\\\n",
       "\t  6    & 1     & 3.737 & A    \\\\\n",
       "\t 50    & 0     & 8.972 & A    \\\\\n",
       "\t 50    & 0     & 6.523 & A    \\\\\n",
       "\t 50    & 0     & 2.165 & A    \\\\\n",
       "\t ... & ... & ... & ...\\\\\n",
       "\t  2     & 1      &  5.594 & C     \\\\\n",
       "\t  1     & 1      & 17.150 & C     \\\\\n",
       "\t 20     & 1      & 15.986 & C     \\\\\n",
       "\t  2     & 1      &  1.588 & C     \\\\\n",
       "\t 20     & 1      &  2.055 & C     \\\\\n",
       "\t  1     & 1      & 16.074 & C     \\\\\n",
       "\t 23     & 1      & 12.086 & C     \\\\\n",
       "\t 11     & 1      & 20.524 & C     \\\\\n",
       "\t  1     & 1      &  6.493 & C     \\\\\n",
       "\t  1     & 1      &  7.258 & C     \\\\\n",
       "\t 20     & 1      & 16.635 & C     \\\\\n",
       "\t  9     & 1      & 10.324 & C     \\\\\n",
       "\t  1     & 1      &  5.228 & C     \\\\\n",
       "\t  1     & 1      &  0.784 & C     \\\\\n",
       "\t  1     & 1      &  5.587 & C     \\\\\n",
       "\t  1     & 1      &  5.011 & C     \\\\\n",
       "\t  7     & 1      &  7.441 & C     \\\\\n",
       "\t 11     & 1      &  3.690 & C     \\\\\n",
       "\t  1     & 1      &  4.708 & C     \\\\\n",
       "\t  3     & 1      &  9.207 & C     \\\\\n",
       "\t  1     & 1      &  1.400 & C     \\\\\n",
       "\t  5     & 1      &  6.309 & C     \\\\\n",
       "\t  9     & 1      &  1.784 & C     \\\\\n",
       "\t 21     & 1      &  0.767 & C     \\\\\n",
       "\t 10     & 1      &  1.993 & C     \\\\\n",
       "\t 11     & 1      &  1.030 & C     \\\\\n",
       "\t 30     & 1      &  2.875 & C     \\\\\n",
       "\t  1     & 1      &  1.820 & C     \\\\\n",
       "\t  1     & 1      &  0.974 & C     \\\\\n",
       "\t 17     & 1      &  0.100 & C     \\\\\n",
       "\\end{tabular}\n"
      ],
      "text/markdown": [
       "\n",
       "| TIEMPO | ESTATUS | PESO | GRUPO |\n",
       "|---|---|---|---|\n",
       "| 20    | 1     | 5.385 | A     |\n",
       "| 34    | 1     | 7.413 | A     |\n",
       "|  1    | 1     | 9.266 | A     |\n",
       "|  2    | 1     | 6.228 | A     |\n",
       "|  3    | 1     | 5.229 | A     |\n",
       "|  3    | 1     | 9.699 | A     |\n",
       "| 50    | 0     | 1.973 | A     |\n",
       "| 26    | 1     | 5.838 | A     |\n",
       "|  1    | 1     | 2.088 | A     |\n",
       "| 50    | 0     | 0.237 | A     |\n",
       "| 21    | 1     | 6.814 | A     |\n",
       "|  3    | 1     | 5.502 | A     |\n",
       "| 13    | 1     | 1.137 | A     |\n",
       "| 11    | 1     | 6.323 | A     |\n",
       "| 22    | 1     | 7.384 | A     |\n",
       "| 50    | 0     | 8.713 | A     |\n",
       "| 50    | 0     | 7.458 | A     |\n",
       "|  1    | 1     | 1.424 | A     |\n",
       "| 50    | 0     | 1.312 | A     |\n",
       "|  9    | 1     | 5.162 | A     |\n",
       "| 50    | 0     | 7.187 | A     |\n",
       "|  1    | 1     | 4.677 | A     |\n",
       "| 13    | 1     | 6.548 | A     |\n",
       "| 50    | 0     | 5.903 | A     |\n",
       "| 50    | 0     | 2.113 | A     |\n",
       "|  1    | 1     | 7.617 | A     |\n",
       "|  6    | 1     | 3.737 | A     |\n",
       "| 50    | 0     | 8.972 | A     |\n",
       "| 50    | 0     | 6.523 | A     |\n",
       "| 50    | 0     | 2.165 | A     |\n",
       "| ... | ... | ... | ... |\n",
       "|  2     | 1      |  5.594 | C      |\n",
       "|  1     | 1      | 17.150 | C      |\n",
       "| 20     | 1      | 15.986 | C      |\n",
       "|  2     | 1      |  1.588 | C      |\n",
       "| 20     | 1      |  2.055 | C      |\n",
       "|  1     | 1      | 16.074 | C      |\n",
       "| 23     | 1      | 12.086 | C      |\n",
       "| 11     | 1      | 20.524 | C      |\n",
       "|  1     | 1      |  6.493 | C      |\n",
       "|  1     | 1      |  7.258 | C      |\n",
       "| 20     | 1      | 16.635 | C      |\n",
       "|  9     | 1      | 10.324 | C      |\n",
       "|  1     | 1      |  5.228 | C      |\n",
       "|  1     | 1      |  0.784 | C      |\n",
       "|  1     | 1      |  5.587 | C      |\n",
       "|  1     | 1      |  5.011 | C      |\n",
       "|  7     | 1      |  7.441 | C      |\n",
       "| 11     | 1      |  3.690 | C      |\n",
       "|  1     | 1      |  4.708 | C      |\n",
       "|  3     | 1      |  9.207 | C      |\n",
       "|  1     | 1      |  1.400 | C      |\n",
       "|  5     | 1      |  6.309 | C      |\n",
       "|  9     | 1      |  1.784 | C      |\n",
       "| 21     | 1      |  0.767 | C      |\n",
       "| 10     | 1      |  1.993 | C      |\n",
       "| 11     | 1      |  1.030 | C      |\n",
       "| 30     | 1      |  2.875 | C      |\n",
       "|  1     | 1      |  1.820 | C      |\n",
       "|  1     | 1      |  0.974 | C      |\n",
       "| 17     | 1      |  0.100 | C      |\n",
       "\n"
      ],
      "text/plain": [
       "    TIEMPO ESTATUS PESO   GRUPO\n",
       "1   20     1       5.385  A    \n",
       "2   34     1       7.413  A    \n",
       "3    1     1       9.266  A    \n",
       "4    2     1       6.228  A    \n",
       "5    3     1       5.229  A    \n",
       "6    3     1       9.699  A    \n",
       "7   50     0       1.973  A    \n",
       "8   26     1       5.838  A    \n",
       "9    1     1       2.088  A    \n",
       "10  50     0       0.237  A    \n",
       "11  21     1       6.814  A    \n",
       "12   3     1       5.502  A    \n",
       "13  13     1       1.137  A    \n",
       "14  11     1       6.323  A    \n",
       "15  22     1       7.384  A    \n",
       "16  50     0       8.713  A    \n",
       "17  50     0       7.458  A    \n",
       "18   1     1       1.424  A    \n",
       "19  50     0       1.312  A    \n",
       "20   9     1       5.162  A    \n",
       "21  50     0       7.187  A    \n",
       "22   1     1       4.677  A    \n",
       "23  13     1       6.548  A    \n",
       "24  50     0       5.903  A    \n",
       "25  50     0       2.113  A    \n",
       "26   1     1       7.617  A    \n",
       "27   6     1       3.737  A    \n",
       "28  50     0       8.972  A    \n",
       "29  50     0       6.523  A    \n",
       "30  50     0       2.165  A    \n",
       "... ...    ...     ...    ...  \n",
       "121  2     1        5.594 C    \n",
       "122  1     1       17.150 C    \n",
       "123 20     1       15.986 C    \n",
       "124  2     1        1.588 C    \n",
       "125 20     1        2.055 C    \n",
       "126  1     1       16.074 C    \n",
       "127 23     1       12.086 C    \n",
       "128 11     1       20.524 C    \n",
       "129  1     1        6.493 C    \n",
       "130  1     1        7.258 C    \n",
       "131 20     1       16.635 C    \n",
       "132  9     1       10.324 C    \n",
       "133  1     1        5.228 C    \n",
       "134  1     1        0.784 C    \n",
       "135  1     1        5.587 C    \n",
       "136  1     1        5.011 C    \n",
       "137  7     1        7.441 C    \n",
       "138 11     1        3.690 C    \n",
       "139  1     1        4.708 C    \n",
       "140  3     1        9.207 C    \n",
       "141  1     1        1.400 C    \n",
       "142  5     1        6.309 C    \n",
       "143  9     1        1.784 C    \n",
       "144 21     1        0.767 C    \n",
       "145 10     1        1.993 C    \n",
       "146 11     1        1.030 C    \n",
       "147 30     1        2.875 C    \n",
       "148  1     1        1.820 C    \n",
       "149  1     1        0.974 C    \n",
       "150 17     1        0.100 C    "
      ]
     },
     "metadata": {},
     "output_type": "display_data"
    }
   ],
   "source": [
    "DATOS<-read.table(\"cucarachas.csv\", header=TRUE, sep=\",\")\n",
    "DATOS"
   ]
  },
  {
   "cell_type": "code",
   "execution_count": 8,
   "id": "dense-stick",
   "metadata": {},
   "outputs": [],
   "source": [
    "library(survival)"
   ]
  },
  {
   "cell_type": "markdown",
   "id": "external-blond",
   "metadata": {},
   "source": [
    "**Desempeño del insecticida.**"
   ]
  },
  {
   "cell_type": "markdown",
   "id": "prepared-enforcement",
   "metadata": {},
   "source": [
    "**Objetivos**"
   ]
  },
  {
   "cell_type": "markdown",
   "id": "absolute-proxy",
   "metadata": {},
   "source": [
    "* Identificar el grupo del que se presentan más muertes.\n",
    "* Identificar si el peso afecta la supervivencia."
   ]
  },
  {
   "cell_type": "markdown",
   "id": "decreased-interim",
   "metadata": {},
   "source": [
    "**Análisis descriptivo.**"
   ]
  },
  {
   "cell_type": "code",
   "execution_count": 6,
   "id": "continued-corner",
   "metadata": {},
   "outputs": [
    {
     "data": {
      "text/html": [
       "130"
      ],
      "text/latex": [
       "130"
      ],
      "text/markdown": [
       "130"
      ],
      "text/plain": [
       "[1] 130"
      ]
     },
     "metadata": {},
     "output_type": "display_data"
    }
   ],
   "source": [
    "sum(DATOS$ESTATUS)"
   ]
  },
  {
   "cell_type": "markdown",
   "id": "stable-allergy",
   "metadata": {},
   "source": [
    "Número de eventos de interés"
   ]
  },
  {
   "cell_type": "code",
   "execution_count": 9,
   "id": "naval-sapphire",
   "metadata": {},
   "outputs": [
    {
     "data": {
      "text/html": [
       "20"
      ],
      "text/latex": [
       "20"
      ],
      "text/markdown": [
       "20"
      ],
      "text/plain": [
       "[1] 20"
      ]
     },
     "metadata": {},
     "output_type": "display_data"
    }
   ],
   "source": [
    "length(DATOS$ESTATUS)-sum(DATOS$ESTATUS)"
   ]
  },
  {
   "cell_type": "markdown",
   "id": "informative-convenience",
   "metadata": {},
   "source": [
    "Número de eventos censurados"
   ]
  },
  {
   "cell_type": "markdown",
   "id": "southeast-restoration",
   "metadata": {},
   "source": [
    "**Cálculo de tiempo promedio para ítems**"
   ]
  },
  {
   "cell_type": "markdown",
   "id": "cubic-quebec",
   "metadata": {},
   "source": [
    "**Censurados**"
   ]
  },
  {
   "cell_type": "code",
   "execution_count": 12,
   "id": "civilian-helicopter",
   "metadata": {},
   "outputs": [
    {
     "data": {
      "text/html": [
       "50"
      ],
      "text/latex": [
       "50"
      ],
      "text/markdown": [
       "50"
      ],
      "text/plain": [
       "[1] 50"
      ]
     },
     "metadata": {},
     "output_type": "display_data"
    }
   ],
   "source": [
    "mean(DATOS$TIEMPO[DATOS$ESTATUS==0])"
   ]
  },
  {
   "cell_type": "markdown",
   "id": "accepted-parish",
   "metadata": {},
   "source": [
    "**Evento de interés**"
   ]
  },
  {
   "cell_type": "code",
   "execution_count": 13,
   "id": "biological-cowboy",
   "metadata": {},
   "outputs": [
    {
     "data": {
      "text/html": [
       "9.81538461538462"
      ],
      "text/latex": [
       "9.81538461538462"
      ],
      "text/markdown": [
       "9.81538461538462"
      ],
      "text/plain": [
       "[1] 9.815385"
      ]
     },
     "metadata": {},
     "output_type": "display_data"
    }
   ],
   "source": [
    "mean(DATOS$TIEMPO[DATOS$ESTATUS==1])"
   ]
  },
  {
   "cell_type": "markdown",
   "id": "powerful-nightlife",
   "metadata": {},
   "source": [
    "**Gráfica de pastel**"
   ]
  },
  {
   "cell_type": "code",
   "execution_count": null,
   "id": "satellite-drive",
   "metadata": {},
   "outputs": [],
   "source": []
  },
  {
   "cell_type": "markdown",
   "id": "reported-backup",
   "metadata": {},
   "source": [
    "## Análisis de supervivencia"
   ]
  },
  {
   "cell_type": "code",
   "execution_count": 14,
   "id": "stainless-ranch",
   "metadata": {},
   "outputs": [
    {
     "data": {
      "text/plain": [
       "  [1] 20  34   1   2   3   3  50+ 26   1  50+ 21   3  13  11  22  50+ 50+  1 \n",
       " [19] 50+  9  50+  1  13  50+ 50+  1   6  50+ 50+ 50+ 36   3  46  10  50+  1 \n",
       " [37] 18   3  36  37  50+  7   1   1   7  24   4  50+ 12  17   1   1   1  21 \n",
       " [55] 50+ 50+  1  46  50+  1   8   2  12   3   2   1   5  50+  1   2   2   4 \n",
       " [73] 17   5   1  11   8   1   5   2  41   5  21   1  38  50+  3  19   4   7 \n",
       " [91]  1  46   2   5  40   4  50+  2   1  17   7   1   5   1   1   5   6   2 \n",
       "[109] 24   1   1   1   1   7  13   6  11  46   5  14   2   1  20   2  20   1 \n",
       "[127] 23  11   1   1  20   9   1   1   1   1   7  11   1   3   1   5   9  21 \n",
       "[145] 10  11  30   1   1  17 "
      ]
     },
     "metadata": {},
     "output_type": "display_data"
    }
   ],
   "source": [
    "d1<-Surv(DATOS$TIEMPO, DATOS$ESTATUS) #Cuando tenemos 0 y 1, no es necesario especificar\n",
    "d1"
   ]
  },
  {
   "cell_type": "markdown",
   "id": "limiting-configuration",
   "metadata": {},
   "source": [
    "**Estimación de Kaplan Meier**"
   ]
  },
  {
   "cell_type": "markdown",
   "id": "adult-object",
   "metadata": {},
   "source": [
    "*Estimación sin discriminante*"
   ]
  },
  {
   "cell_type": "code",
   "execution_count": 15,
   "id": "packed-conservative",
   "metadata": {},
   "outputs": [
    {
     "data": {
      "text/plain": [
       "Call: survfit(formula = d1 ~ 1)\n",
       "\n",
       "      n  events  median 0.95LCL 0.95UCL \n",
       "    150     130       7       5      11 "
      ]
     },
     "metadata": {},
     "output_type": "display_data"
    }
   ],
   "source": [
    "KM.d1<-survfit(d1~1)\n",
    "KM.d1"
   ]
  },
  {
   "cell_type": "code",
   "execution_count": 16,
   "id": "current-sympathy",
   "metadata": {},
   "outputs": [
    {
     "data": {
      "text/plain": [
       "Call: survfit(formula = d1 ~ 1)\n",
       "\n",
       " time n.risk n.event survival std.err lower 95% CI upper 95% CI\n",
       "    1    150      39    0.740  0.0358       0.6730        0.814\n",
       "    2    111      11    0.667  0.0385       0.5953        0.747\n",
       "    3    100       8    0.613  0.0398       0.5401        0.696\n",
       "    4     92       4    0.587  0.0402       0.5129        0.671\n",
       "    5     88       9    0.527  0.0408       0.4525        0.613\n",
       "    6     79       3    0.507  0.0408       0.4327        0.593\n",
       "    7     76       6    0.467  0.0407       0.3933        0.554\n",
       "    8     70       2    0.453  0.0406       0.3803        0.540\n",
       "    9     68       3    0.433  0.0405       0.3609        0.520\n",
       "   10     65       2    0.420  0.0403       0.3480        0.507\n",
       "   11     63       6    0.380  0.0396       0.3097        0.466\n",
       "   12     57       2    0.367  0.0393       0.2971        0.452\n",
       "   13     55       3    0.347  0.0389       0.2783        0.432\n",
       "   14     52       1    0.340  0.0387       0.2720        0.425\n",
       "   17     51       4    0.313  0.0379       0.2472        0.397\n",
       "   18     47       1    0.307  0.0376       0.2411        0.390\n",
       "   19     46       1    0.300  0.0374       0.2349        0.383\n",
       "   20     45       4    0.273  0.0364       0.2106        0.355\n",
       "   21     41       4    0.247  0.0352       0.1865        0.326\n",
       "   22     37       1    0.240  0.0349       0.1805        0.319\n",
       "   23     36       1    0.233  0.0345       0.1746        0.312\n",
       "   24     35       2    0.220  0.0338       0.1628        0.297\n",
       "   26     33       1    0.213  0.0334       0.1569        0.290\n",
       "   30     32       1    0.207  0.0331       0.1510        0.283\n",
       "   34     31       1    0.200  0.0327       0.1452        0.275\n",
       "   36     30       2    0.187  0.0318       0.1337        0.261\n",
       "   37     28       1    0.180  0.0314       0.1279        0.253\n",
       "   38     27       1    0.173  0.0309       0.1222        0.246\n",
       "   40     26       1    0.167  0.0304       0.1165        0.238\n",
       "   41     25       1    0.160  0.0299       0.1109        0.231\n",
       "   46     24       4    0.133  0.0278       0.0887        0.201"
      ]
     },
     "metadata": {},
     "output_type": "display_data"
    }
   ],
   "source": [
    "summary(KM.d1)"
   ]
  },
  {
   "cell_type": "code",
   "execution_count": 17,
   "id": "metallic-control",
   "metadata": {},
   "outputs": [
    {
     "data": {
      "image/png": "[encoded data removed]",
      "text/plain": [
       "Plot with title \"Supervivencia estimada\""
      ]
     },
     "metadata": {},
     "output_type": "display_data"
    }
   ],
   "source": [
    "plot(KM.d1, main=\"Supervivencia estimada\")"
   ]
  },
  {
   "cell_type": "markdown",
   "id": "maritime-maryland",
   "metadata": {},
   "source": [
    "**Estimación por grupo**"
   ]
  },
  {
   "cell_type": "code",
   "execution_count": 19,
   "id": "stock-dryer",
   "metadata": {},
   "outputs": [
    {
     "data": {
      "text/plain": [
       "Call: survfit(formula = d1 ~ DATOS$GRUPO)\n",
       "\n",
       "               n events median 0.95LCL 0.95UCL\n",
       "DATOS$GRUPO=A 50     36   17.5       9      36\n",
       "DATOS$GRUPO=B 50     44    5.0       2      12\n",
       "DATOS$GRUPO=C 50     50    5.0       1       9"
      ]
     },
     "metadata": {},
     "output_type": "display_data"
    }
   ],
   "source": [
    "KM.d2<-survfit(d1~DATOS$GRUPO)\n",
    "KM.d2"
   ]
  },
  {
   "cell_type": "code",
   "execution_count": 20,
   "id": "wound-barbados",
   "metadata": {},
   "outputs": [
    {
     "data": {
      "text/plain": [
       "Call: survfit(formula = d1 ~ DATOS$GRUPO)\n",
       "\n",
       "                DATOS$GRUPO=A \n",
       " time n.risk n.event survival std.err lower 95% CI upper 95% CI\n",
       "    1     50       8     0.84  0.0518        0.744        0.948\n",
       "    2     42       1     0.82  0.0543        0.720        0.934\n",
       "    3     41       5     0.72  0.0635        0.606        0.856\n",
       "    4     36       1     0.70  0.0648        0.584        0.839\n",
       "    6     35       1     0.68  0.0660        0.562        0.822\n",
       "    7     34       2     0.64  0.0679        0.520        0.788\n",
       "    9     32       1     0.62  0.0686        0.499        0.770\n",
       "   10     31       1     0.60  0.0693        0.478        0.752\n",
       "   11     30       1     0.58  0.0698        0.458        0.734\n",
       "   12     29       1     0.56  0.0702        0.438        0.716\n",
       "   13     28       2     0.52  0.0707        0.398        0.679\n",
       "   17     26       1     0.50  0.0707        0.379        0.660\n",
       "   18     25       1     0.48  0.0707        0.360        0.641\n",
       "   20     24       1     0.46  0.0705        0.341        0.621\n",
       "   21     23       1     0.44  0.0702        0.322        0.602\n",
       "   22     22       1     0.42  0.0698        0.303        0.582\n",
       "   24     21       1     0.40  0.0693        0.285        0.562\n",
       "   26     20       1     0.38  0.0686        0.267        0.541\n",
       "   34     19       1     0.36  0.0679        0.249        0.521\n",
       "   36     18       2     0.32  0.0660        0.214        0.479\n",
       "   37     16       1     0.30  0.0648        0.196        0.458\n",
       "   46     15       1     0.28  0.0635        0.180        0.437\n",
       "\n",
       "                DATOS$GRUPO=B \n",
       " time n.risk n.event survival std.err lower 95% CI upper 95% CI\n",
       "    1     50      12     0.76  0.0604       0.6504        0.888\n",
       "    2     38       7     0.62  0.0686       0.4991        0.770\n",
       "    3     31       2     0.58  0.0698       0.4581        0.734\n",
       "    4     29       3     0.52  0.0707       0.3984        0.679\n",
       "    5     26       5     0.42  0.0698       0.3032        0.582\n",
       "    7     21       1     0.40  0.0693       0.2849        0.562\n",
       "    8     20       2     0.36  0.0679       0.2488        0.521\n",
       "   11     18       1     0.34  0.0670       0.2311        0.500\n",
       "   12     17       1     0.32  0.0660       0.2136        0.479\n",
       "   17     16       2     0.28  0.0635       0.1795        0.437\n",
       "   19     14       1     0.26  0.0620       0.1629        0.415\n",
       "   21     13       2     0.22  0.0586       0.1305        0.371\n",
       "   38     11       1     0.20  0.0566       0.1149        0.348\n",
       "   40     10       1     0.18  0.0543       0.0996        0.325\n",
       "   41      9       1     0.16  0.0518       0.0848        0.302\n",
       "   46      8       2     0.12  0.0460       0.0566        0.254\n",
       "\n",
       "                DATOS$GRUPO=C \n",
       " time n.risk n.event survival std.err lower 95% CI upper 95% CI\n",
       "    1     50      19     0.62  0.0686      0.49906        0.770\n",
       "    2     31       3     0.56  0.0702      0.43801        0.716\n",
       "    3     28       1     0.54  0.0705      0.41811        0.697\n",
       "    5     27       4     0.46  0.0705      0.34067        0.621\n",
       "    6     23       2     0.42  0.0698      0.30324        0.582\n",
       "    7     21       3     0.36  0.0679      0.24877        0.521\n",
       "    9     18       2     0.32  0.0660      0.21363        0.479\n",
       "   10     16       1     0.30  0.0648      0.19644        0.458\n",
       "   11     15       4     0.22  0.0586      0.13054        0.371\n",
       "   13     11       1     0.20  0.0566      0.11489        0.348\n",
       "   14     10       1     0.18  0.0543      0.09962        0.325\n",
       "   17      9       1     0.16  0.0518      0.08478        0.302\n",
       "   20      8       3     0.10  0.0424      0.04354        0.230\n",
       "   21      5       1     0.08  0.0384      0.03125        0.205\n",
       "   23      4       1     0.06  0.0336      0.02003        0.180\n",
       "   24      3       1     0.04  0.0277      0.01029        0.156\n",
       "   30      2       1     0.02  0.0198      0.00287        0.139\n",
       "   46      1       1     0.00     NaN           NA           NA\n"
      ]
     },
     "metadata": {},
     "output_type": "display_data"
    }
   ],
   "source": [
    "summary(KM.d2)"
   ]
  },
  {
   "cell_type": "code",
   "execution_count": 21,
   "id": "impressed-crisis",
   "metadata": {},
   "outputs": [
    {
     "data": {
      "image/png": "[encoded data removed]",
      "text/plain": [
       "plot without title"
      ]
     },
     "metadata": {},
     "output_type": "display_data"
    }
   ],
   "source": [
    "plot(KM.d2, col=c(\"red\", \"blue\", \"green\"))"
   ]
  },
  {
   "cell_type": "markdown",
   "id": "modern-magic",
   "metadata": {},
   "source": [
    "**Prueba de igualdad**"
   ]
  },
  {
   "cell_type": "code",
   "execution_count": 23,
   "id": "earned-wheel",
   "metadata": {},
   "outputs": [
    {
     "data": {
      "text/plain": [
       "Call:\n",
       "survdiff(formula = d1 ~ DATOS$GRUPO, rho = 0)\n",
       "\n",
       "               N Observed Expected (O-E)^2/E (O-E)^2/V\n",
       "DATOS$GRUPO=A 50       36     56.4     7.406     15.29\n",
       "DATOS$GRUPO=B 50       44     41.2     0.192      0.32\n",
       "DATOS$GRUPO=C 50       50     32.4     9.608     15.49\n",
       "\n",
       " Chisq= 20.7  on 2 degrees of freedom, p= 3e-05 "
      ]
     },
     "metadata": {},
     "output_type": "display_data"
    }
   ],
   "source": [
    "KM.d3<-survdiff(d1~DATOS$GRUPO, rho=0)\n",
    "KM.d3"
   ]
  },
  {
   "cell_type": "markdown",
   "id": "organized-think",
   "metadata": {},
   "source": [
    "*Las funciones difieren.*"
   ]
  },
  {
   "cell_type": "markdown",
   "id": "functional-classification",
   "metadata": {},
   "source": [
    "**Comparación por pares (A vs B)**"
   ]
  },
  {
   "cell_type": "code",
   "execution_count": 24,
   "id": "fixed-messenger",
   "metadata": {},
   "outputs": [
    {
     "data": {
      "text/plain": [
       "Call:\n",
       "survdiff(formula = d1[DATOS$GRUPO != \"C\"] ~ DATOS$GRUPO[DATOS$GRUPO != \n",
       "    \"C\"], rho = 0)\n",
       "\n",
       "                                   N Observed Expected (O-E)^2/E (O-E)^2/V\n",
       "DATOS$GRUPO[DATOS$GRUPO != \"C\"]=A 50       36     45.9      2.15      5.57\n",
       "DATOS$GRUPO[DATOS$GRUPO != \"C\"]=B 50       44     34.1      2.89      5.57\n",
       "\n",
       " Chisq= 5.6  on 1 degrees of freedom, p= 0.02 "
      ]
     },
     "metadata": {},
     "output_type": "display_data"
    }
   ],
   "source": [
    "KM.d3<-survdiff(d1[DATOS$GRUPO!=\"C\"]~DATOS$GRUPO[DATOS$GRUPO!=\"C\"], rho=0)\n",
    "KM.d3"
   ]
  },
  {
   "cell_type": "code",
   "execution_count": 25,
   "id": "innovative-iraqi",
   "metadata": {},
   "outputs": [
    {
     "data": {
      "image/png": "[encoded data removed]",
      "text/plain": [
       "Plot with title \"Comparativa de supervivencia\""
      ]
     },
     "metadata": {},
     "output_type": "display_data"
    }
   ],
   "source": [
    "plot(KM.d2[-3], col=c(\"red\", \"blue\"), main=\"Comparativa de supervivencia\")"
   ]
  },
  {
   "cell_type": "markdown",
   "id": "understanding-romance",
   "metadata": {},
   "source": [
    "**B vs C**"
   ]
  },
  {
   "cell_type": "code",
   "execution_count": 26,
   "id": "oriented-plaza",
   "metadata": {},
   "outputs": [
    {
     "data": {
      "text/plain": [
       "Call:\n",
       "survdiff(formula = d1[DATOS$GRUPO != \"A\"] ~ DATOS$GRUPO[DATOS$GRUPO != \n",
       "    \"A\"], rho = 0)\n",
       "\n",
       "                                   N Observed Expected (O-E)^2/E (O-E)^2/V\n",
       "DATOS$GRUPO[DATOS$GRUPO != \"A\"]=B 50       44       53      1.52      4.39\n",
       "DATOS$GRUPO[DATOS$GRUPO != \"A\"]=C 50       50       41      1.96      4.39\n",
       "\n",
       " Chisq= 4.4  on 1 degrees of freedom, p= 0.04 "
      ]
     },
     "metadata": {},
     "output_type": "display_data"
    }
   ],
   "source": [
    "KM.d4<-survdiff(d1[DATOS$GRUPO!=\"A\"]~DATOS$GRUPO[DATOS$GRUPO!=\"A\"], rho=0)\n",
    "KM.d4"
   ]
  },
  {
   "cell_type": "code",
   "execution_count": 27,
   "id": "threatened-baseline",
   "metadata": {},
   "outputs": [
    {
     "data": {
      "image/png": "[encoded data removed]",
      "text/plain": [
       "Plot with title \"Comparativa de supervivencia\""
      ]
     },
     "metadata": {},
     "output_type": "display_data"
    }
   ],
   "source": [
    "plot(KM.d2[-1], col=c(\"red\", \"blue\"), main=\"Comparativa de supervivencia\")"
   ]
  },
  {
   "cell_type": "markdown",
   "id": "dietary-finding",
   "metadata": {},
   "source": [
    "**A vs C**"
   ]
  },
  {
   "cell_type": "code",
   "execution_count": 28,
   "id": "allied-purple",
   "metadata": {},
   "outputs": [
    {
     "data": {
      "text/plain": [
       "Call:\n",
       "survdiff(formula = d1[DATOS$GRUPO != \"B\"] ~ DATOS$GRUPO[DATOS$GRUPO != \n",
       "    \"B\"], rho = 0)\n",
       "\n",
       "                                   N Observed Expected (O-E)^2/E (O-E)^2/V\n",
       "DATOS$GRUPO[DATOS$GRUPO != \"B\"]=A 50       36     55.1       6.6      23.1\n",
       "DATOS$GRUPO[DATOS$GRUPO != \"B\"]=C 50       50     30.9      11.8      23.1\n",
       "\n",
       " Chisq= 23.1  on 1 degrees of freedom, p= 2e-06 "
      ]
     },
     "metadata": {},
     "output_type": "display_data"
    }
   ],
   "source": [
    "KM.d5<-survdiff(d1[DATOS$GRUPO!=\"B\"]~DATOS$GRUPO[DATOS$GRUPO!=\"B\"], rho=0)\n",
    "KM.d5"
   ]
  },
  {
   "cell_type": "markdown",
   "id": "inappropriate-layout",
   "metadata": {},
   "source": [
    "*El mejor desempeño lo muestra el insecticida es del grupo C*\n",
    "(Dado que es el de la gráfica inferior, y dado que quiero que mueran por el insecticida, es el de menos supervivencia, comprobado después de haber hecho la prueba)"
   ]
  },
  {
   "cell_type": "code",
   "execution_count": 29,
   "id": "employed-flight",
   "metadata": {},
   "outputs": [
    {
     "data": {
      "image/png": "[encoded data removed]",
      "text/plain": [
       "Plot with title \"Comparativa de supervivencia\""
      ]
     },
     "metadata": {},
     "output_type": "display_data"
    }
   ],
   "source": [
    "plot(KM.d2[-2], col=c(\"red\", \"blue\"), main=\"Comparativa de supervivencia\")"
   ]
  },
  {
   "cell_type": "markdown",
   "id": "collectible-reading",
   "metadata": {},
   "source": [
    "**Análisis de influencia de peso**"
   ]
  },
  {
   "cell_type": "code",
   "execution_count": 30,
   "id": "substantial-ethics",
   "metadata": {
    "scrolled": true
   },
   "outputs": [
    {
     "data": {
      "text/html": [
       "<ol class=list-inline>\n",
       "\t<li>5.385</li>\n",
       "\t<li>7.413</li>\n",
       "\t<li>9.266</li>\n",
       "\t<li>6.228</li>\n",
       "\t<li>5.229</li>\n",
       "\t<li>9.699</li>\n",
       "\t<li>1.973</li>\n",
       "\t<li>5.838</li>\n",
       "\t<li>2.088</li>\n",
       "\t<li>0.237</li>\n",
       "\t<li>6.814</li>\n",
       "\t<li>5.502</li>\n",
       "\t<li>1.137</li>\n",
       "\t<li>6.323</li>\n",
       "\t<li>7.384</li>\n",
       "\t<li>8.713</li>\n",
       "\t<li>7.458</li>\n",
       "\t<li>1.424</li>\n",
       "\t<li>1.312</li>\n",
       "\t<li>5.162</li>\n",
       "\t<li>7.187</li>\n",
       "\t<li>4.677</li>\n",
       "\t<li>6.548</li>\n",
       "\t<li>5.903</li>\n",
       "\t<li>2.113</li>\n",
       "\t<li>7.617</li>\n",
       "\t<li>3.737</li>\n",
       "\t<li>8.972</li>\n",
       "\t<li>6.523</li>\n",
       "\t<li>2.165</li>\n",
       "\t<li>4.895</li>\n",
       "\t<li>6.538</li>\n",
       "\t<li>1.674</li>\n",
       "\t<li>6.726</li>\n",
       "\t<li>2.671</li>\n",
       "\t<li>4.949</li>\n",
       "\t<li>4.819</li>\n",
       "\t<li>5.08</li>\n",
       "\t<li>3.532</li>\n",
       "\t<li>4.406</li>\n",
       "\t<li>6.286</li>\n",
       "\t<li>5.529</li>\n",
       "\t<li>2.27</li>\n",
       "\t<li>5.245</li>\n",
       "\t<li>9.675</li>\n",
       "\t<li>5.61</li>\n",
       "\t<li>4.297</li>\n",
       "\t<li>3.179</li>\n",
       "\t<li>6.776</li>\n",
       "\t<li>0.466</li>\n",
       "\t<li>0.626</li>\n",
       "\t<li>1.221</li>\n",
       "\t<li>0.124</li>\n",
       "\t<li>0.32</li>\n",
       "\t<li>2.282</li>\n",
       "\t<li>0.287</li>\n",
       "\t<li>3.468</li>\n",
       "\t<li>7.314</li>\n",
       "\t<li>4.901</li>\n",
       "\t<li>5.418</li>\n",
       "\t<li>6.344</li>\n",
       "\t<li>1.163</li>\n",
       "\t<li>12.126</li>\n",
       "\t<li>11.561</li>\n",
       "\t<li>8.333</li>\n",
       "\t<li>0.055</li>\n",
       "\t<li>10.583</li>\n",
       "\t<li>9.534</li>\n",
       "\t<li>13.182</li>\n",
       "\t<li>10.156</li>\n",
       "\t<li>16.881</li>\n",
       "\t<li>15.452</li>\n",
       "\t<li>16.831</li>\n",
       "\t<li>18.947</li>\n",
       "\t<li>19.099</li>\n",
       "\t<li>19</li>\n",
       "\t<li>9.652</li>\n",
       "\t<li>1.544</li>\n",
       "\t<li>10.786</li>\n",
       "\t<li>4.13</li>\n",
       "\t<li>2.2</li>\n",
       "\t<li>7.567</li>\n",
       "\t<li>14.581</li>\n",
       "\t<li>26.259</li>\n",
       "\t<li>0.44</li>\n",
       "\t<li>18.188</li>\n",
       "\t<li>6.789</li>\n",
       "\t<li>16.669</li>\n",
       "\t<li>38.177</li>\n",
       "\t<li>29.154</li>\n",
       "\t<li>14.578</li>\n",
       "\t<li>1.569</li>\n",
       "\t<li>0.345</li>\n",
       "\t<li>33.929</li>\n",
       "\t<li>28.958</li>\n",
       "\t<li>38.139</li>\n",
       "\t<li>26.822</li>\n",
       "\t<li>39.501</li>\n",
       "\t<li>9.264</li>\n",
       "\t<li>22.88</li>\n",
       "\t<li>27.48</li>\n",
       "\t<li>35.069</li>\n",
       "\t<li>4.974</li>\n",
       "\t<li>41.521</li>\n",
       "\t<li>42.09</li>\n",
       "\t<li>25.037</li>\n",
       "\t<li>9.509</li>\n",
       "\t<li>23.682</li>\n",
       "\t<li>0.352</li>\n",
       "\t<li>19.589</li>\n",
       "\t<li>7.426</li>\n",
       "\t<li>7.913</li>\n",
       "\t<li>2.37</li>\n",
       "\t<li>5.533</li>\n",
       "\t<li>18.8</li>\n",
       "\t<li>18.508</li>\n",
       "\t<li>3.343</li>\n",
       "\t<li>26.926</li>\n",
       "\t<li>2.388</li>\n",
       "\t<li>21.567</li>\n",
       "\t<li>5.594</li>\n",
       "\t<li>17.15</li>\n",
       "\t<li>15.986</li>\n",
       "\t<li>1.588</li>\n",
       "\t<li>2.055</li>\n",
       "\t<li>16.074</li>\n",
       "\t<li>12.086</li>\n",
       "\t<li>20.524</li>\n",
       "\t<li>6.493</li>\n",
       "\t<li>7.258</li>\n",
       "\t<li>16.635</li>\n",
       "\t<li>10.324</li>\n",
       "\t<li>5.228</li>\n",
       "\t<li>0.784</li>\n",
       "\t<li>5.587</li>\n",
       "\t<li>5.011</li>\n",
       "\t<li>7.441</li>\n",
       "\t<li>3.69</li>\n",
       "\t<li>4.708</li>\n",
       "\t<li>9.207</li>\n",
       "\t<li>1.4</li>\n",
       "\t<li>6.309</li>\n",
       "\t<li>1.784</li>\n",
       "\t<li>0.767</li>\n",
       "\t<li>1.993</li>\n",
       "\t<li>1.03</li>\n",
       "\t<li>2.875</li>\n",
       "\t<li>1.82</li>\n",
       "\t<li>0.974</li>\n",
       "\t<li>0.1</li>\n",
       "</ol>\n"
      ],
      "text/latex": [
       "\\begin{enumerate*}\n",
       "\\item 5.385\n",
       "\\item 7.413\n",
       "\\item 9.266\n",
       "\\item 6.228\n",
       "\\item 5.229\n",
       "\\item 9.699\n",
       "\\item 1.973\n",
       "\\item 5.838\n",
       "\\item 2.088\n",
       "\\item 0.237\n",
       "\\item 6.814\n",
       "\\item 5.502\n",
       "\\item 1.137\n",
       "\\item 6.323\n",
       "\\item 7.384\n",
       "\\item 8.713\n",
       "\\item 7.458\n",
       "\\item 1.424\n",
       "\\item 1.312\n",
       "\\item 5.162\n",
       "\\item 7.187\n",
       "\\item 4.677\n",
       "\\item 6.548\n",
       "\\item 5.903\n",
       "\\item 2.113\n",
       "\\item 7.617\n",
       "\\item 3.737\n",
       "\\item 8.972\n",
       "\\item 6.523\n",
       "\\item 2.165\n",
       "\\item 4.895\n",
       "\\item 6.538\n",
       "\\item 1.674\n",
       "\\item 6.726\n",
       "\\item 2.671\n",
       "\\item 4.949\n",
       "\\item 4.819\n",
       "\\item 5.08\n",
       "\\item 3.532\n",
       "\\item 4.406\n",
       "\\item 6.286\n",
       "\\item 5.529\n",
       "\\item 2.27\n",
       "\\item 5.245\n",
       "\\item 9.675\n",
       "\\item 5.61\n",
       "\\item 4.297\n",
       "\\item 3.179\n",
       "\\item 6.776\n",
       "\\item 0.466\n",
       "\\item 0.626\n",
       "\\item 1.221\n",
       "\\item 0.124\n",
       "\\item 0.32\n",
       "\\item 2.282\n",
       "\\item 0.287\n",
       "\\item 3.468\n",
       "\\item 7.314\n",
       "\\item 4.901\n",
       "\\item 5.418\n",
       "\\item 6.344\n",
       "\\item 1.163\n",
       "\\item 12.126\n",
       "\\item 11.561\n",
       "\\item 8.333\n",
       "\\item 0.055\n",
       "\\item 10.583\n",
       "\\item 9.534\n",
       "\\item 13.182\n",
       "\\item 10.156\n",
       "\\item 16.881\n",
       "\\item 15.452\n",
       "\\item 16.831\n",
       "\\item 18.947\n",
       "\\item 19.099\n",
       "\\item 19\n",
       "\\item 9.652\n",
       "\\item 1.544\n",
       "\\item 10.786\n",
       "\\item 4.13\n",
       "\\item 2.2\n",
       "\\item 7.567\n",
       "\\item 14.581\n",
       "\\item 26.259\n",
       "\\item 0.44\n",
       "\\item 18.188\n",
       "\\item 6.789\n",
       "\\item 16.669\n",
       "\\item 38.177\n",
       "\\item 29.154\n",
       "\\item 14.578\n",
       "\\item 1.569\n",
       "\\item 0.345\n",
       "\\item 33.929\n",
       "\\item 28.958\n",
       "\\item 38.139\n",
       "\\item 26.822\n",
       "\\item 39.501\n",
       "\\item 9.264\n",
       "\\item 22.88\n",
       "\\item 27.48\n",
       "\\item 35.069\n",
       "\\item 4.974\n",
       "\\item 41.521\n",
       "\\item 42.09\n",
       "\\item 25.037\n",
       "\\item 9.509\n",
       "\\item 23.682\n",
       "\\item 0.352\n",
       "\\item 19.589\n",
       "\\item 7.426\n",
       "\\item 7.913\n",
       "\\item 2.37\n",
       "\\item 5.533\n",
       "\\item 18.8\n",
       "\\item 18.508\n",
       "\\item 3.343\n",
       "\\item 26.926\n",
       "\\item 2.388\n",
       "\\item 21.567\n",
       "\\item 5.594\n",
       "\\item 17.15\n",
       "\\item 15.986\n",
       "\\item 1.588\n",
       "\\item 2.055\n",
       "\\item 16.074\n",
       "\\item 12.086\n",
       "\\item 20.524\n",
       "\\item 6.493\n",
       "\\item 7.258\n",
       "\\item 16.635\n",
       "\\item 10.324\n",
       "\\item 5.228\n",
       "\\item 0.784\n",
       "\\item 5.587\n",
       "\\item 5.011\n",
       "\\item 7.441\n",
       "\\item 3.69\n",
       "\\item 4.708\n",
       "\\item 9.207\n",
       "\\item 1.4\n",
       "\\item 6.309\n",
       "\\item 1.784\n",
       "\\item 0.767\n",
       "\\item 1.993\n",
       "\\item 1.03\n",
       "\\item 2.875\n",
       "\\item 1.82\n",
       "\\item 0.974\n",
       "\\item 0.1\n",
       "\\end{enumerate*}\n"
      ],
      "text/markdown": [
       "1. 5.385\n",
       "2. 7.413\n",
       "3. 9.266\n",
       "4. 6.228\n",
       "5. 5.229\n",
       "6. 9.699\n",
       "7. 1.973\n",
       "8. 5.838\n",
       "9. 2.088\n",
       "10. 0.237\n",
       "11. 6.814\n",
       "12. 5.502\n",
       "13. 1.137\n",
       "14. 6.323\n",
       "15. 7.384\n",
       "16. 8.713\n",
       "17. 7.458\n",
       "18. 1.424\n",
       "19. 1.312\n",
       "20. 5.162\n",
       "21. 7.187\n",
       "22. 4.677\n",
       "23. 6.548\n",
       "24. 5.903\n",
       "25. 2.113\n",
       "26. 7.617\n",
       "27. 3.737\n",
       "28. 8.972\n",
       "29. 6.523\n",
       "30. 2.165\n",
       "31. 4.895\n",
       "32. 6.538\n",
       "33. 1.674\n",
       "34. 6.726\n",
       "35. 2.671\n",
       "36. 4.949\n",
       "37. 4.819\n",
       "38. 5.08\n",
       "39. 3.532\n",
       "40. 4.406\n",
       "41. 6.286\n",
       "42. 5.529\n",
       "43. 2.27\n",
       "44. 5.245\n",
       "45. 9.675\n",
       "46. 5.61\n",
       "47. 4.297\n",
       "48. 3.179\n",
       "49. 6.776\n",
       "50. 0.466\n",
       "51. 0.626\n",
       "52. 1.221\n",
       "53. 0.124\n",
       "54. 0.32\n",
       "55. 2.282\n",
       "56. 0.287\n",
       "57. 3.468\n",
       "58. 7.314\n",
       "59. 4.901\n",
       "60. 5.418\n",
       "61. 6.344\n",
       "62. 1.163\n",
       "63. 12.126\n",
       "64. 11.561\n",
       "65. 8.333\n",
       "66. 0.055\n",
       "67. 10.583\n",
       "68. 9.534\n",
       "69. 13.182\n",
       "70. 10.156\n",
       "71. 16.881\n",
       "72. 15.452\n",
       "73. 16.831\n",
       "74. 18.947\n",
       "75. 19.099\n",
       "76. 19\n",
       "77. 9.652\n",
       "78. 1.544\n",
       "79. 10.786\n",
       "80. 4.13\n",
       "81. 2.2\n",
       "82. 7.567\n",
       "83. 14.581\n",
       "84. 26.259\n",
       "85. 0.44\n",
       "86. 18.188\n",
       "87. 6.789\n",
       "88. 16.669\n",
       "89. 38.177\n",
       "90. 29.154\n",
       "91. 14.578\n",
       "92. 1.569\n",
       "93. 0.345\n",
       "94. 33.929\n",
       "95. 28.958\n",
       "96. 38.139\n",
       "97. 26.822\n",
       "98. 39.501\n",
       "99. 9.264\n",
       "100. 22.88\n",
       "101. 27.48\n",
       "102. 35.069\n",
       "103. 4.974\n",
       "104. 41.521\n",
       "105. 42.09\n",
       "106. 25.037\n",
       "107. 9.509\n",
       "108. 23.682\n",
       "109. 0.352\n",
       "110. 19.589\n",
       "111. 7.426\n",
       "112. 7.913\n",
       "113. 2.37\n",
       "114. 5.533\n",
       "115. 18.8\n",
       "116. 18.508\n",
       "117. 3.343\n",
       "118. 26.926\n",
       "119. 2.388\n",
       "120. 21.567\n",
       "121. 5.594\n",
       "122. 17.15\n",
       "123. 15.986\n",
       "124. 1.588\n",
       "125. 2.055\n",
       "126. 16.074\n",
       "127. 12.086\n",
       "128. 20.524\n",
       "129. 6.493\n",
       "130. 7.258\n",
       "131. 16.635\n",
       "132. 10.324\n",
       "133. 5.228\n",
       "134. 0.784\n",
       "135. 5.587\n",
       "136. 5.011\n",
       "137. 7.441\n",
       "138. 3.69\n",
       "139. 4.708\n",
       "140. 9.207\n",
       "141. 1.4\n",
       "142. 6.309\n",
       "143. 1.784\n",
       "144. 0.767\n",
       "145. 1.993\n",
       "146. 1.03\n",
       "147. 2.875\n",
       "148. 1.82\n",
       "149. 0.974\n",
       "150. 0.1\n",
       "\n",
       "\n"
      ],
      "text/plain": [
       "  [1]  5.385  7.413  9.266  6.228  5.229  9.699  1.973  5.838  2.088  0.237\n",
       " [11]  6.814  5.502  1.137  6.323  7.384  8.713  7.458  1.424  1.312  5.162\n",
       " [21]  7.187  4.677  6.548  5.903  2.113  7.617  3.737  8.972  6.523  2.165\n",
       " [31]  4.895  6.538  1.674  6.726  2.671  4.949  4.819  5.080  3.532  4.406\n",
       " [41]  6.286  5.529  2.270  5.245  9.675  5.610  4.297  3.179  6.776  0.466\n",
       " [51]  0.626  1.221  0.124  0.320  2.282  0.287  3.468  7.314  4.901  5.418\n",
       " [61]  6.344  1.163 12.126 11.561  8.333  0.055 10.583  9.534 13.182 10.156\n",
       " [71] 16.881 15.452 16.831 18.947 19.099 19.000  9.652  1.544 10.786  4.130\n",
       " [81]  2.200  7.567 14.581 26.259  0.440 18.188  6.789 16.669 38.177 29.154\n",
       " [91] 14.578  1.569  0.345 33.929 28.958 38.139 26.822 39.501  9.264 22.880\n",
       "[101] 27.480 35.069  4.974 41.521 42.090 25.037  9.509 23.682  0.352 19.589\n",
       "[111]  7.426  7.913  2.370  5.533 18.800 18.508  3.343 26.926  2.388 21.567\n",
       "[121]  5.594 17.150 15.986  1.588  2.055 16.074 12.086 20.524  6.493  7.258\n",
       "[131] 16.635 10.324  5.228  0.784  5.587  5.011  7.441  3.690  4.708  9.207\n",
       "[141]  1.400  6.309  1.784  0.767  1.993  1.030  2.875  1.820  0.974  0.100"
      ]
     },
     "metadata": {},
     "output_type": "display_data"
    }
   ],
   "source": [
    "DATOS$PESO"
   ]
  },
  {
   "cell_type": "code",
   "execution_count": 33,
   "id": "renewable-onion",
   "metadata": {},
   "outputs": [
    {
     "data": {
      "text/plain": [
       "   Min. 1st Qu.  Median    Mean 3rd Qu.    Max. \n",
       "  0.055   2.459   6.316   9.390  11.955  42.090 "
      ]
     },
     "metadata": {},
     "output_type": "display_data"
    }
   ],
   "source": [
    "summary(DATOS$PESO)"
   ]
  },
  {
   "cell_type": "code",
   "execution_count": 34,
   "id": "relative-wallpaper",
   "metadata": {},
   "outputs": [],
   "source": [
    "peso.aux<-rep(0, length(DATOS$PESO))\n",
    "#considerando la mediana como corte\n",
    "peso.aux[DATOS$PESO>6.316]<-1"
   ]
  },
  {
   "cell_type": "code",
   "execution_count": 35,
   "id": "female-coach",
   "metadata": {},
   "outputs": [
    {
     "data": {
      "text/html": [
       "75"
      ],
      "text/latex": [
       "75"
      ],
      "text/markdown": [
       "75"
      ],
      "text/plain": [
       "[1] 75"
      ]
     },
     "metadata": {},
     "output_type": "display_data"
    }
   ],
   "source": [
    "sum(peso.aux)"
   ]
  },
  {
   "cell_type": "code",
   "execution_count": 36,
   "id": "combined-playing",
   "metadata": {},
   "outputs": [
    {
     "data": {
      "text/plain": [
       "Call: survfit(formula = d1 ~ peso.aux)\n",
       "\n",
       "            n events median 0.95LCL 0.95UCL\n",
       "peso.aux=0 75     63      7       3      18\n",
       "peso.aux=1 75     67      6       4      11"
      ]
     },
     "metadata": {},
     "output_type": "display_data"
    }
   ],
   "source": [
    "KM.P<-survfit(d1~peso.aux)\n",
    "KM.P"
   ]
  },
  {
   "cell_type": "code",
   "execution_count": 38,
   "id": "wooden-alberta",
   "metadata": {},
   "outputs": [
    {
     "data": {
      "image/png": "[encoded data removed]",
      "text/plain": [
       "Plot with title \"Comparativa de supervivencia por peso\""
      ]
     },
     "metadata": {},
     "output_type": "display_data"
    }
   ],
   "source": [
    "plot(KM.P, col=c(\"red\", \"blue\"), main=\"Comparativa de supervivencia por peso\")"
   ]
  },
  {
   "cell_type": "code",
   "execution_count": 37,
   "id": "visible-tuner",
   "metadata": {},
   "outputs": [
    {
     "data": {
      "text/plain": [
       "Call: survfit(formula = d1 ~ peso.aux)\n",
       "\n",
       "                peso.aux=0 \n",
       " time n.risk n.event survival std.err lower 95% CI upper 95% CI\n",
       "    1     75      22    0.707  0.0526       0.6108        0.818\n",
       "    2     53       6    0.627  0.0559       0.5262        0.746\n",
       "    3     47       3    0.587  0.0569       0.4852        0.709\n",
       "    4     44       1    0.573  0.0571       0.4716        0.697\n",
       "    5     43       3    0.533  0.0576       0.4316        0.659\n",
       "    6     40       1    0.520  0.0577       0.4184        0.646\n",
       "    7     39       2    0.493  0.0577       0.3922        0.621\n",
       "    9     37       2    0.467  0.0576       0.3664        0.594\n",
       "   10     35       1    0.453  0.0575       0.3536        0.581\n",
       "   11     34       3    0.413  0.0569       0.3156        0.541\n",
       "   13     31       1    0.400  0.0566       0.3032        0.528\n",
       "   17     30       2    0.373  0.0559       0.2785        0.501\n",
       "   18     28       1    0.360  0.0554       0.2662        0.487\n",
       "   20     27       2    0.333  0.0544       0.2420        0.459\n",
       "   21     25       2    0.307  0.0532       0.2182        0.431\n",
       "   24     23       2    0.280  0.0518       0.1948        0.403\n",
       "   26     21       1    0.267  0.0511       0.1832        0.388\n",
       "   30     20       1    0.253  0.0502       0.1718        0.374\n",
       "   36     19       2    0.227  0.0483       0.1492        0.344\n",
       "   37     17       1    0.213  0.0473       0.1381        0.329\n",
       "   38     16       1    0.200  0.0462       0.1272        0.314\n",
       "   41     15       1    0.187  0.0450       0.1164        0.299\n",
       "   46     14       2    0.160  0.0423       0.0953        0.269\n",
       "\n",
       "                peso.aux=1 \n",
       " time n.risk n.event survival std.err lower 95% CI upper 95% CI\n",
       "    1     75      17    0.773  0.0483       0.6842        0.874\n",
       "    2     58       5    0.707  0.0526       0.6108        0.818\n",
       "    3     53       5    0.640  0.0554       0.5401        0.758\n",
       "    4     48       3    0.600  0.0566       0.4988        0.722\n",
       "    5     45       6    0.520  0.0577       0.4184        0.646\n",
       "    6     39       2    0.493  0.0577       0.3922        0.621\n",
       "    7     37       4    0.440  0.0573       0.3409        0.568\n",
       "    8     33       2    0.413  0.0569       0.3156        0.541\n",
       "    9     31       1    0.400  0.0566       0.3032        0.528\n",
       "   10     30       1    0.387  0.0562       0.2908        0.514\n",
       "   11     29       3    0.347  0.0550       0.2541        0.473\n",
       "   12     26       2    0.320  0.0539       0.2301        0.445\n",
       "   13     24       2    0.293  0.0526       0.2064        0.417\n",
       "   14     22       1    0.280  0.0518       0.1948        0.403\n",
       "   17     21       2    0.253  0.0502       0.1718        0.374\n",
       "   19     19       1    0.240  0.0493       0.1604        0.359\n",
       "   20     18       2    0.213  0.0473       0.1381        0.329\n",
       "   21     16       2    0.187  0.0450       0.1164        0.299\n",
       "   22     14       1    0.173  0.0437       0.1057        0.284\n",
       "   23     13       1    0.160  0.0423       0.0953        0.269\n",
       "   34     12       1    0.147  0.0409       0.0850        0.253\n",
       "   40     11       1    0.133  0.0393       0.0749        0.237\n",
       "   46     10       2    0.107  0.0356       0.0554        0.205\n"
      ]
     },
     "metadata": {},
     "output_type": "display_data"
    }
   ],
   "source": [
    "summary(KM.P)"
   ]
  },
  {
   "cell_type": "markdown",
   "id": "sharing-baseball",
   "metadata": {},
   "source": [
    "**Comparativa de funciones de supervivencia**"
   ]
  },
  {
   "cell_type": "code",
   "execution_count": 41,
   "id": "infectious-summit",
   "metadata": {},
   "outputs": [
    {
     "data": {
      "text/plain": [
       "Call:\n",
       "survdiff(formula = d1 ~ peso.aux, rho = 0)\n",
       "\n",
       "            N Observed Expected (O-E)^2/E (O-E)^2/V\n",
       "peso.aux=0 75       63     68.6     0.454       1.1\n",
       "peso.aux=1 75       67     61.4     0.507       1.1\n",
       "\n",
       " Chisq= 1.1  on 1 degrees of freedom, p= 0.3 "
      ]
     },
     "metadata": {},
     "output_type": "display_data"
    }
   ],
   "source": [
    "survdiff(d1~peso.aux, rho=0)"
   ]
  },
  {
   "cell_type": "markdown",
   "id": "loose-point",
   "metadata": {},
   "source": [
    "*Aquí no difieren, al menos no por este comparativo*"
   ]
  },
  {
   "cell_type": "markdown",
   "id": "unauthorized-mailing",
   "metadata": {},
   "source": [
    "**Supervivencia para Cucarachas \"grandes\" por Grupo**"
   ]
  },
  {
   "cell_type": "code",
   "execution_count": 44,
   "id": "initial-diamond",
   "metadata": {},
   "outputs": [
    {
     "data": {
      "text/html": [
       "<table>\n",
       "<thead><tr><th></th><th scope=col>TIEMPO</th><th scope=col>ESTATUS</th><th scope=col>PESO</th><th scope=col>GRUPO</th></tr></thead>\n",
       "<tbody>\n",
       "\t<tr><th scope=row>2</th><td>34    </td><td>1     </td><td> 7.413</td><td>A     </td></tr>\n",
       "\t<tr><th scope=row>3</th><td> 1    </td><td>1     </td><td> 9.266</td><td>A     </td></tr>\n",
       "\t<tr><th scope=row>6</th><td> 3    </td><td>1     </td><td> 9.699</td><td>A     </td></tr>\n",
       "\t<tr><th scope=row>11</th><td>21    </td><td>1     </td><td> 6.814</td><td>A     </td></tr>\n",
       "\t<tr><th scope=row>14</th><td>11    </td><td>1     </td><td> 6.323</td><td>A     </td></tr>\n",
       "\t<tr><th scope=row>15</th><td>22    </td><td>1     </td><td> 7.384</td><td>A     </td></tr>\n",
       "\t<tr><th scope=row>16</th><td>50    </td><td>0     </td><td> 8.713</td><td>A     </td></tr>\n",
       "\t<tr><th scope=row>17</th><td>50    </td><td>0     </td><td> 7.458</td><td>A     </td></tr>\n",
       "\t<tr><th scope=row>21</th><td>50    </td><td>0     </td><td> 7.187</td><td>A     </td></tr>\n",
       "\t<tr><th scope=row>23</th><td>13    </td><td>1     </td><td> 6.548</td><td>A     </td></tr>\n",
       "\t<tr><th scope=row>26</th><td> 1    </td><td>1     </td><td> 7.617</td><td>A     </td></tr>\n",
       "\t<tr><th scope=row>28</th><td>50    </td><td>0     </td><td> 8.972</td><td>A     </td></tr>\n",
       "\t<tr><th scope=row>29</th><td>50    </td><td>0     </td><td> 6.523</td><td>A     </td></tr>\n",
       "\t<tr><th scope=row>32</th><td> 3    </td><td>1     </td><td> 6.538</td><td>A     </td></tr>\n",
       "\t<tr><th scope=row>34</th><td>10    </td><td>1     </td><td> 6.726</td><td>A     </td></tr>\n",
       "\t<tr><th scope=row>45</th><td> 7    </td><td>1     </td><td> 9.675</td><td>A     </td></tr>\n",
       "\t<tr><th scope=row>49</th><td>12    </td><td>1     </td><td> 6.776</td><td>A     </td></tr>\n",
       "\t<tr><th scope=row>58</th><td>46    </td><td>1     </td><td> 7.314</td><td>B     </td></tr>\n",
       "\t<tr><th scope=row>61</th><td> 8    </td><td>1     </td><td> 6.344</td><td>B     </td></tr>\n",
       "\t<tr><th scope=row>63</th><td>12    </td><td>1     </td><td>12.126</td><td>B     </td></tr>\n",
       "\t<tr><th scope=row>64</th><td> 3    </td><td>1     </td><td>11.561</td><td>B     </td></tr>\n",
       "\t<tr><th scope=row>65</th><td> 2    </td><td>1     </td><td> 8.333</td><td>B     </td></tr>\n",
       "\t<tr><th scope=row>67</th><td> 5    </td><td>1     </td><td>10.583</td><td>B     </td></tr>\n",
       "\t<tr><th scope=row>68</th><td>50    </td><td>0     </td><td> 9.534</td><td>B     </td></tr>\n",
       "\t<tr><th scope=row>69</th><td> 1    </td><td>1     </td><td>13.182</td><td>B     </td></tr>\n",
       "\t<tr><th scope=row>70</th><td> 2    </td><td>1     </td><td>10.156</td><td>B     </td></tr>\n",
       "\t<tr><th scope=row>71</th><td> 2    </td><td>1     </td><td>16.881</td><td>B     </td></tr>\n",
       "\t<tr><th scope=row>72</th><td> 4    </td><td>1     </td><td>15.452</td><td>B     </td></tr>\n",
       "\t<tr><th scope=row>73</th><td>17    </td><td>1     </td><td>16.831</td><td>B     </td></tr>\n",
       "\t<tr><th scope=row>74</th><td> 5    </td><td>1     </td><td>18.947</td><td>B     </td></tr>\n",
       "\t<tr><th scope=row>...</th><td>...</td><td>...</td><td>...</td><td>...</td></tr>\n",
       "\t<tr><th scope=row>96</th><td> 4    </td><td>1     </td><td>38.139</td><td>B     </td></tr>\n",
       "\t<tr><th scope=row>97</th><td>50    </td><td>0     </td><td>26.822</td><td>B     </td></tr>\n",
       "\t<tr><th scope=row>98</th><td> 2    </td><td>1     </td><td>39.501</td><td>B     </td></tr>\n",
       "\t<tr><th scope=row>99</th><td> 1    </td><td>1     </td><td> 9.264</td><td>B     </td></tr>\n",
       "\t<tr><th scope=row>100</th><td>17    </td><td>1     </td><td>22.880</td><td>B     </td></tr>\n",
       "\t<tr><th scope=row>101</th><td> 7    </td><td>1     </td><td>27.480</td><td>C     </td></tr>\n",
       "\t<tr><th scope=row>102</th><td> 1    </td><td>1     </td><td>35.069</td><td>C     </td></tr>\n",
       "\t<tr><th scope=row>104</th><td> 1    </td><td>1     </td><td>41.521</td><td>C     </td></tr>\n",
       "\t<tr><th scope=row>105</th><td> 1    </td><td>1     </td><td>42.090</td><td>C     </td></tr>\n",
       "\t<tr><th scope=row>106</th><td> 5    </td><td>1     </td><td>25.037</td><td>C     </td></tr>\n",
       "\t<tr><th scope=row>107</th><td> 6    </td><td>1     </td><td> 9.509</td><td>C     </td></tr>\n",
       "\t<tr><th scope=row>108</th><td> 2    </td><td>1     </td><td>23.682</td><td>C     </td></tr>\n",
       "\t<tr><th scope=row>110</th><td> 1    </td><td>1     </td><td>19.589</td><td>C     </td></tr>\n",
       "\t<tr><th scope=row>111</th><td> 1    </td><td>1     </td><td> 7.426</td><td>C     </td></tr>\n",
       "\t<tr><th scope=row>112</th><td> 1    </td><td>1     </td><td> 7.913</td><td>C     </td></tr>\n",
       "\t<tr><th scope=row>115</th><td>13    </td><td>1     </td><td>18.800</td><td>C     </td></tr>\n",
       "\t<tr><th scope=row>116</th><td> 6    </td><td>1     </td><td>18.508</td><td>C     </td></tr>\n",
       "\t<tr><th scope=row>118</th><td>46    </td><td>1     </td><td>26.926</td><td>C     </td></tr>\n",
       "\t<tr><th scope=row>120</th><td>14    </td><td>1     </td><td>21.567</td><td>C     </td></tr>\n",
       "\t<tr><th scope=row>122</th><td> 1    </td><td>1     </td><td>17.150</td><td>C     </td></tr>\n",
       "\t<tr><th scope=row>123</th><td>20    </td><td>1     </td><td>15.986</td><td>C     </td></tr>\n",
       "\t<tr><th scope=row>126</th><td> 1    </td><td>1     </td><td>16.074</td><td>C     </td></tr>\n",
       "\t<tr><th scope=row>127</th><td>23    </td><td>1     </td><td>12.086</td><td>C     </td></tr>\n",
       "\t<tr><th scope=row>128</th><td>11    </td><td>1     </td><td>20.524</td><td>C     </td></tr>\n",
       "\t<tr><th scope=row>129</th><td> 1    </td><td>1     </td><td> 6.493</td><td>C     </td></tr>\n",
       "\t<tr><th scope=row>130</th><td> 1    </td><td>1     </td><td> 7.258</td><td>C     </td></tr>\n",
       "\t<tr><th scope=row>131</th><td>20    </td><td>1     </td><td>16.635</td><td>C     </td></tr>\n",
       "\t<tr><th scope=row>132</th><td> 9    </td><td>1     </td><td>10.324</td><td>C     </td></tr>\n",
       "\t<tr><th scope=row>137</th><td> 7    </td><td>1     </td><td> 7.441</td><td>C     </td></tr>\n",
       "\t<tr><th scope=row>140</th><td> 3    </td><td>1     </td><td> 9.207</td><td>C     </td></tr>\n",
       "</tbody>\n",
       "</table>\n"
      ],
      "text/latex": [
       "\\begin{tabular}{r|llll}\n",
       "  & TIEMPO & ESTATUS & PESO & GRUPO\\\\\n",
       "\\hline\n",
       "\t2 & 34     & 1      &  7.413 & A     \\\\\n",
       "\t3 &  1     & 1      &  9.266 & A     \\\\\n",
       "\t6 &  3     & 1      &  9.699 & A     \\\\\n",
       "\t11 & 21     & 1      &  6.814 & A     \\\\\n",
       "\t14 & 11     & 1      &  6.323 & A     \\\\\n",
       "\t15 & 22     & 1      &  7.384 & A     \\\\\n",
       "\t16 & 50     & 0      &  8.713 & A     \\\\\n",
       "\t17 & 50     & 0      &  7.458 & A     \\\\\n",
       "\t21 & 50     & 0      &  7.187 & A     \\\\\n",
       "\t23 & 13     & 1      &  6.548 & A     \\\\\n",
       "\t26 &  1     & 1      &  7.617 & A     \\\\\n",
       "\t28 & 50     & 0      &  8.972 & A     \\\\\n",
       "\t29 & 50     & 0      &  6.523 & A     \\\\\n",
       "\t32 &  3     & 1      &  6.538 & A     \\\\\n",
       "\t34 & 10     & 1      &  6.726 & A     \\\\\n",
       "\t45 &  7     & 1      &  9.675 & A     \\\\\n",
       "\t49 & 12     & 1      &  6.776 & A     \\\\\n",
       "\t58 & 46     & 1      &  7.314 & B     \\\\\n",
       "\t61 &  8     & 1      &  6.344 & B     \\\\\n",
       "\t63 & 12     & 1      & 12.126 & B     \\\\\n",
       "\t64 &  3     & 1      & 11.561 & B     \\\\\n",
       "\t65 &  2     & 1      &  8.333 & B     \\\\\n",
       "\t67 &  5     & 1      & 10.583 & B     \\\\\n",
       "\t68 & 50     & 0      &  9.534 & B     \\\\\n",
       "\t69 &  1     & 1      & 13.182 & B     \\\\\n",
       "\t70 &  2     & 1      & 10.156 & B     \\\\\n",
       "\t71 &  2     & 1      & 16.881 & B     \\\\\n",
       "\t72 &  4     & 1      & 15.452 & B     \\\\\n",
       "\t73 & 17     & 1      & 16.831 & B     \\\\\n",
       "\t74 &  5     & 1      & 18.947 & B     \\\\\n",
       "\t... & ... & ... & ... & ...\\\\\n",
       "\t96 &  4     & 1      & 38.139 & B     \\\\\n",
       "\t97 & 50     & 0      & 26.822 & B     \\\\\n",
       "\t98 &  2     & 1      & 39.501 & B     \\\\\n",
       "\t99 &  1     & 1      &  9.264 & B     \\\\\n",
       "\t100 & 17     & 1      & 22.880 & B     \\\\\n",
       "\t101 &  7     & 1      & 27.480 & C     \\\\\n",
       "\t102 &  1     & 1      & 35.069 & C     \\\\\n",
       "\t104 &  1     & 1      & 41.521 & C     \\\\\n",
       "\t105 &  1     & 1      & 42.090 & C     \\\\\n",
       "\t106 &  5     & 1      & 25.037 & C     \\\\\n",
       "\t107 &  6     & 1      &  9.509 & C     \\\\\n",
       "\t108 &  2     & 1      & 23.682 & C     \\\\\n",
       "\t110 &  1     & 1      & 19.589 & C     \\\\\n",
       "\t111 &  1     & 1      &  7.426 & C     \\\\\n",
       "\t112 &  1     & 1      &  7.913 & C     \\\\\n",
       "\t115 & 13     & 1      & 18.800 & C     \\\\\n",
       "\t116 &  6     & 1      & 18.508 & C     \\\\\n",
       "\t118 & 46     & 1      & 26.926 & C     \\\\\n",
       "\t120 & 14     & 1      & 21.567 & C     \\\\\n",
       "\t122 &  1     & 1      & 17.150 & C     \\\\\n",
       "\t123 & 20     & 1      & 15.986 & C     \\\\\n",
       "\t126 &  1     & 1      & 16.074 & C     \\\\\n",
       "\t127 & 23     & 1      & 12.086 & C     \\\\\n",
       "\t128 & 11     & 1      & 20.524 & C     \\\\\n",
       "\t129 &  1     & 1      &  6.493 & C     \\\\\n",
       "\t130 &  1     & 1      &  7.258 & C     \\\\\n",
       "\t131 & 20     & 1      & 16.635 & C     \\\\\n",
       "\t132 &  9     & 1      & 10.324 & C     \\\\\n",
       "\t137 &  7     & 1      &  7.441 & C     \\\\\n",
       "\t140 &  3     & 1      &  9.207 & C     \\\\\n",
       "\\end{tabular}\n"
      ],
      "text/markdown": [
       "\n",
       "| <!--/--> | TIEMPO | ESTATUS | PESO | GRUPO |\n",
       "|---|---|---|---|---|\n",
       "| 2 | 34     | 1      |  7.413 | A      |\n",
       "| 3 |  1     | 1      |  9.266 | A      |\n",
       "| 6 |  3     | 1      |  9.699 | A      |\n",
       "| 11 | 21     | 1      |  6.814 | A      |\n",
       "| 14 | 11     | 1      |  6.323 | A      |\n",
       "| 15 | 22     | 1      |  7.384 | A      |\n",
       "| 16 | 50     | 0      |  8.713 | A      |\n",
       "| 17 | 50     | 0      |  7.458 | A      |\n",
       "| 21 | 50     | 0      |  7.187 | A      |\n",
       "| 23 | 13     | 1      |  6.548 | A      |\n",
       "| 26 |  1     | 1      |  7.617 | A      |\n",
       "| 28 | 50     | 0      |  8.972 | A      |\n",
       "| 29 | 50     | 0      |  6.523 | A      |\n",
       "| 32 |  3     | 1      |  6.538 | A      |\n",
       "| 34 | 10     | 1      |  6.726 | A      |\n",
       "| 45 |  7     | 1      |  9.675 | A      |\n",
       "| 49 | 12     | 1      |  6.776 | A      |\n",
       "| 58 | 46     | 1      |  7.314 | B      |\n",
       "| 61 |  8     | 1      |  6.344 | B      |\n",
       "| 63 | 12     | 1      | 12.126 | B      |\n",
       "| 64 |  3     | 1      | 11.561 | B      |\n",
       "| 65 |  2     | 1      |  8.333 | B      |\n",
       "| 67 |  5     | 1      | 10.583 | B      |\n",
       "| 68 | 50     | 0      |  9.534 | B      |\n",
       "| 69 |  1     | 1      | 13.182 | B      |\n",
       "| 70 |  2     | 1      | 10.156 | B      |\n",
       "| 71 |  2     | 1      | 16.881 | B      |\n",
       "| 72 |  4     | 1      | 15.452 | B      |\n",
       "| 73 | 17     | 1      | 16.831 | B      |\n",
       "| 74 |  5     | 1      | 18.947 | B      |\n",
       "| ... | ... | ... | ... | ... |\n",
       "| 96 |  4     | 1      | 38.139 | B      |\n",
       "| 97 | 50     | 0      | 26.822 | B      |\n",
       "| 98 |  2     | 1      | 39.501 | B      |\n",
       "| 99 |  1     | 1      |  9.264 | B      |\n",
       "| 100 | 17     | 1      | 22.880 | B      |\n",
       "| 101 |  7     | 1      | 27.480 | C      |\n",
       "| 102 |  1     | 1      | 35.069 | C      |\n",
       "| 104 |  1     | 1      | 41.521 | C      |\n",
       "| 105 |  1     | 1      | 42.090 | C      |\n",
       "| 106 |  5     | 1      | 25.037 | C      |\n",
       "| 107 |  6     | 1      |  9.509 | C      |\n",
       "| 108 |  2     | 1      | 23.682 | C      |\n",
       "| 110 |  1     | 1      | 19.589 | C      |\n",
       "| 111 |  1     | 1      |  7.426 | C      |\n",
       "| 112 |  1     | 1      |  7.913 | C      |\n",
       "| 115 | 13     | 1      | 18.800 | C      |\n",
       "| 116 |  6     | 1      | 18.508 | C      |\n",
       "| 118 | 46     | 1      | 26.926 | C      |\n",
       "| 120 | 14     | 1      | 21.567 | C      |\n",
       "| 122 |  1     | 1      | 17.150 | C      |\n",
       "| 123 | 20     | 1      | 15.986 | C      |\n",
       "| 126 |  1     | 1      | 16.074 | C      |\n",
       "| 127 | 23     | 1      | 12.086 | C      |\n",
       "| 128 | 11     | 1      | 20.524 | C      |\n",
       "| 129 |  1     | 1      |  6.493 | C      |\n",
       "| 130 |  1     | 1      |  7.258 | C      |\n",
       "| 131 | 20     | 1      | 16.635 | C      |\n",
       "| 132 |  9     | 1      | 10.324 | C      |\n",
       "| 137 |  7     | 1      |  7.441 | C      |\n",
       "| 140 |  3     | 1      |  9.207 | C      |\n",
       "\n"
      ],
      "text/plain": [
       "    TIEMPO ESTATUS PESO   GRUPO\n",
       "2   34     1        7.413 A    \n",
       "3    1     1        9.266 A    \n",
       "6    3     1        9.699 A    \n",
       "11  21     1        6.814 A    \n",
       "14  11     1        6.323 A    \n",
       "15  22     1        7.384 A    \n",
       "16  50     0        8.713 A    \n",
       "17  50     0        7.458 A    \n",
       "21  50     0        7.187 A    \n",
       "23  13     1        6.548 A    \n",
       "26   1     1        7.617 A    \n",
       "28  50     0        8.972 A    \n",
       "29  50     0        6.523 A    \n",
       "32   3     1        6.538 A    \n",
       "34  10     1        6.726 A    \n",
       "45   7     1        9.675 A    \n",
       "49  12     1        6.776 A    \n",
       "58  46     1        7.314 B    \n",
       "61   8     1        6.344 B    \n",
       "63  12     1       12.126 B    \n",
       "64   3     1       11.561 B    \n",
       "65   2     1        8.333 B    \n",
       "67   5     1       10.583 B    \n",
       "68  50     0        9.534 B    \n",
       "69   1     1       13.182 B    \n",
       "70   2     1       10.156 B    \n",
       "71   2     1       16.881 B    \n",
       "72   4     1       15.452 B    \n",
       "73  17     1       16.831 B    \n",
       "74   5     1       18.947 B    \n",
       "... ...    ...     ...    ...  \n",
       "96   4     1       38.139 B    \n",
       "97  50     0       26.822 B    \n",
       "98   2     1       39.501 B    \n",
       "99   1     1        9.264 B    \n",
       "100 17     1       22.880 B    \n",
       "101  7     1       27.480 C    \n",
       "102  1     1       35.069 C    \n",
       "104  1     1       41.521 C    \n",
       "105  1     1       42.090 C    \n",
       "106  5     1       25.037 C    \n",
       "107  6     1        9.509 C    \n",
       "108  2     1       23.682 C    \n",
       "110  1     1       19.589 C    \n",
       "111  1     1        7.426 C    \n",
       "112  1     1        7.913 C    \n",
       "115 13     1       18.800 C    \n",
       "116  6     1       18.508 C    \n",
       "118 46     1       26.926 C    \n",
       "120 14     1       21.567 C    \n",
       "122  1     1       17.150 C    \n",
       "123 20     1       15.986 C    \n",
       "126  1     1       16.074 C    \n",
       "127 23     1       12.086 C    \n",
       "128 11     1       20.524 C    \n",
       "129  1     1        6.493 C    \n",
       "130  1     1        7.258 C    \n",
       "131 20     1       16.635 C    \n",
       "132  9     1       10.324 C    \n",
       "137  7     1        7.441 C    \n",
       "140  3     1        9.207 C    "
      ]
     },
     "metadata": {},
     "output_type": "display_data"
    }
   ],
   "source": [
    "DATOS.g<-DATOS[DATOS$PESO>6.316,]\n",
    "DATOS.g"
   ]
  },
  {
   "cell_type": "code",
   "execution_count": 48,
   "id": "ambient-aquarium",
   "metadata": {},
   "outputs": [
    {
     "data": {
      "text/plain": [
       " [1] 34   1   3  21  11  22  50+ 50+ 50+ 13   1  50+ 50+  3  10   7  12  46   8 \n",
       "[20] 12   3   2   5  50+  1   2   2   4  17   5   1  11   8   5   5  21   1  50+\n",
       "[39]  3  19   4   7   1   5  40   4  50+  2   1  17   7   1   1   1   5   6   2 \n",
       "[58]  1   1   1  13   6  46  14   1  20   1  23  11   1   1  20   9   7   3 "
      ]
     },
     "metadata": {},
     "output_type": "display_data"
    }
   ],
   "source": [
    "dg<-Surv(DATOS.g$TIEMPO, DATOS.g$ESTATUS)\n",
    "dg"
   ]
  },
  {
   "cell_type": "code",
   "execution_count": 49,
   "id": "better-sister",
   "metadata": {},
   "outputs": [
    {
     "data": {
      "text/plain": [
       "Call: survfit(formula = dg ~ DATOS.g$GRUPO)\n",
       "\n",
       "                 n events median 0.95LCL 0.95UCL\n",
       "DATOS.g$GRUPO=A 17     12     13      10      NA\n",
       "DATOS.g$GRUPO=B 33     30      5       4      12\n",
       "DATOS.g$GRUPO=C 25     25      5       1      11"
      ]
     },
     "metadata": {},
     "output_type": "display_data"
    }
   ],
   "source": [
    "KM.gG<-survfit(dg~DATOS.g$GRUPO)\n",
    "KM.gG"
   ]
  },
  {
   "cell_type": "code",
   "execution_count": 53,
   "id": "tough-sampling",
   "metadata": {},
   "outputs": [
    {
     "data": {
      "image/png": "[encoded data removed]",
      "text/plain": [
       "plot without title"
      ]
     },
     "metadata": {},
     "output_type": "display_data"
    }
   ],
   "source": [
    "plot(KM.gG, col=c(\"magenta\", \"blue\", \"red\"))"
   ]
  },
  {
   "cell_type": "code",
   "execution_count": 52,
   "id": "single-patrick",
   "metadata": {},
   "outputs": [
    {
     "data": {
      "text/plain": [
       "Call:\n",
       "survdiff(formula = dg ~ DATOS.g$GRUPO, rho = 0)\n",
       "\n",
       "                 N Observed Expected (O-E)^2/E (O-E)^2/V\n",
       "DATOS.g$GRUPO=A 17       12     21.7     4.338     7.314\n",
       "DATOS.g$GRUPO=B 33       30     27.9     0.154     0.294\n",
       "DATOS.g$GRUPO=C 25       25     17.4     3.353     5.191\n",
       "\n",
       " Chisq= 9  on 2 degrees of freedom, p= 0.01 "
      ]
     },
     "metadata": {},
     "output_type": "display_data"
    }
   ],
   "source": [
    "survdiff(dg~DATOS.g$GRUPO, rho=0)"
   ]
  },
  {
   "cell_type": "markdown",
   "id": "bigger-therapy",
   "metadata": {},
   "source": [
    "*Aquí los datos difieren, por lo que tendríamos que hacer una comparación por pares*"
   ]
  },
  {
   "cell_type": "code",
   "execution_count": null,
   "id": "continuing-restaurant",
   "metadata": {},
   "outputs": [],
   "source": []
  }
 ],
 "metadata": {
  "kernelspec": {
   "display_name": "R",
   "language": "R",
   "name": "ir"
  },
  "language_info": {
   "codemirror_mode": "r",
   "file_extension": ".r",
   "mimetype": "text/x-r-source",
   "name": "R",
   "pygments_lexer": "r",
   "version": "3.6.1"
  }
 },
 "nbformat": 4,
 "nbformat_minor": 5
}
