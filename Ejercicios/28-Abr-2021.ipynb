{
 "cells": [
  {
   "cell_type": "markdown",
   "id": "simplified-exploration",
   "metadata": {},
   "source": [
    "# Analizando el conjunto cáncer."
   ]
  },
  {
   "cell_type": "code",
   "execution_count": 4,
   "id": "mounted-presence",
   "metadata": {},
   "outputs": [
    {
     "name": "stderr",
     "output_type": "stream",
     "text": [
      "Warning message:\n",
      "\"package 'survival' was built under R version 3.6.3\""
     ]
    }
   ],
   "source": [
    "library(survival)"
   ]
  },
  {
   "cell_type": "code",
   "execution_count": 5,
   "id": "established-heath",
   "metadata": {},
   "outputs": [],
   "source": [
    "data(cancer)"
   ]
  },
  {
   "cell_type": "code",
   "execution_count": 6,
   "id": "certain-scottish",
   "metadata": {},
   "outputs": [],
   "source": [
    "help(cancer)"
   ]
  },
  {
   "cell_type": "code",
   "execution_count": 3,
   "id": "talented-clearance",
   "metadata": {},
   "outputs": [
    {
     "data": {
      "text/html": [
       "<table>\n",
       "<thead><tr><th scope=col>inst</th><th scope=col>time</th><th scope=col>status</th><th scope=col>age</th><th scope=col>sex</th><th scope=col>ph.ecog</th><th scope=col>ph.karno</th><th scope=col>pat.karno</th><th scope=col>meal.cal</th><th scope=col>wt.loss</th></tr></thead>\n",
       "<tbody>\n",
       "\t<tr><td> 3  </td><td> 306</td><td>2   </td><td>74  </td><td>1   </td><td> 1  </td><td> 90 </td><td>100 </td><td>1175</td><td>NA  </td></tr>\n",
       "\t<tr><td> 3  </td><td> 455</td><td>2   </td><td>68  </td><td>1   </td><td> 0  </td><td> 90 </td><td> 90 </td><td>1225</td><td>15  </td></tr>\n",
       "\t<tr><td> 3  </td><td>1010</td><td>1   </td><td>56  </td><td>1   </td><td> 0  </td><td> 90 </td><td> 90 </td><td>  NA</td><td>15  </td></tr>\n",
       "\t<tr><td> 5  </td><td> 210</td><td>2   </td><td>57  </td><td>1   </td><td> 1  </td><td> 90 </td><td> 60 </td><td>1150</td><td>11  </td></tr>\n",
       "\t<tr><td> 1  </td><td> 883</td><td>2   </td><td>60  </td><td>1   </td><td> 0  </td><td>100 </td><td> 90 </td><td>  NA</td><td> 0  </td></tr>\n",
       "\t<tr><td>12  </td><td>1022</td><td>1   </td><td>74  </td><td>1   </td><td> 1  </td><td> 50 </td><td> 80 </td><td> 513</td><td> 0  </td></tr>\n",
       "\t<tr><td> 7  </td><td> 310</td><td>2   </td><td>68  </td><td>2   </td><td> 2  </td><td> 70 </td><td> 60 </td><td> 384</td><td>10  </td></tr>\n",
       "\t<tr><td>11  </td><td> 361</td><td>2   </td><td>71  </td><td>2   </td><td> 2  </td><td> 60 </td><td> 80 </td><td> 538</td><td> 1  </td></tr>\n",
       "\t<tr><td> 1  </td><td> 218</td><td>2   </td><td>53  </td><td>1   </td><td> 1  </td><td> 70 </td><td> 80 </td><td> 825</td><td>16  </td></tr>\n",
       "\t<tr><td> 7  </td><td> 166</td><td>2   </td><td>61  </td><td>1   </td><td> 2  </td><td> 70 </td><td> 70 </td><td> 271</td><td>34  </td></tr>\n",
       "\t<tr><td> 6  </td><td> 170</td><td>2   </td><td>57  </td><td>1   </td><td> 1  </td><td> 80 </td><td> 80 </td><td>1025</td><td>27  </td></tr>\n",
       "\t<tr><td>16  </td><td> 654</td><td>2   </td><td>68  </td><td>2   </td><td> 2  </td><td> 70 </td><td> 70 </td><td>  NA</td><td>23  </td></tr>\n",
       "\t<tr><td>11  </td><td> 728</td><td>2   </td><td>68  </td><td>2   </td><td> 1  </td><td> 90 </td><td> 90 </td><td>  NA</td><td> 5  </td></tr>\n",
       "\t<tr><td>21  </td><td>  71</td><td>2   </td><td>60  </td><td>1   </td><td>NA  </td><td> 60 </td><td> 70 </td><td>1225</td><td>32  </td></tr>\n",
       "\t<tr><td>12  </td><td> 567</td><td>2   </td><td>57  </td><td>1   </td><td> 1  </td><td> 80 </td><td> 70 </td><td>2600</td><td>60  </td></tr>\n",
       "\t<tr><td> 1  </td><td> 144</td><td>2   </td><td>67  </td><td>1   </td><td> 1  </td><td> 80 </td><td> 90 </td><td>  NA</td><td>15  </td></tr>\n",
       "\t<tr><td>22  </td><td> 613</td><td>2   </td><td>70  </td><td>1   </td><td> 1  </td><td> 90 </td><td>100 </td><td>1150</td><td>-5  </td></tr>\n",
       "\t<tr><td>16  </td><td> 707</td><td>2   </td><td>63  </td><td>1   </td><td> 2  </td><td> 50 </td><td> 70 </td><td>1025</td><td>22  </td></tr>\n",
       "\t<tr><td> 1  </td><td>  61</td><td>2   </td><td>56  </td><td>2   </td><td> 2  </td><td> 60 </td><td> 60 </td><td> 238</td><td>10  </td></tr>\n",
       "\t<tr><td>21  </td><td>  88</td><td>2   </td><td>57  </td><td>1   </td><td> 1  </td><td> 90 </td><td> 80 </td><td>1175</td><td>NA  </td></tr>\n",
       "</tbody>\n",
       "</table>\n"
      ],
      "text/latex": [
       "\\begin{tabular}{r|llllllllll}\n",
       " inst & time & status & age & sex & ph.ecog & ph.karno & pat.karno & meal.cal & wt.loss\\\\\n",
       "\\hline\n",
       "\t  3   &  306 & 2    & 74   & 1    &  1   &  90  & 100  & 1175 & NA  \\\\\n",
       "\t  3   &  455 & 2    & 68   & 1    &  0   &  90  &  90  & 1225 & 15  \\\\\n",
       "\t  3   & 1010 & 1    & 56   & 1    &  0   &  90  &  90  &   NA & 15  \\\\\n",
       "\t  5   &  210 & 2    & 57   & 1    &  1   &  90  &  60  & 1150 & 11  \\\\\n",
       "\t  1   &  883 & 2    & 60   & 1    &  0   & 100  &  90  &   NA &  0  \\\\\n",
       "\t 12   & 1022 & 1    & 74   & 1    &  1   &  50  &  80  &  513 &  0  \\\\\n",
       "\t  7   &  310 & 2    & 68   & 2    &  2   &  70  &  60  &  384 & 10  \\\\\n",
       "\t 11   &  361 & 2    & 71   & 2    &  2   &  60  &  80  &  538 &  1  \\\\\n",
       "\t  1   &  218 & 2    & 53   & 1    &  1   &  70  &  80  &  825 & 16  \\\\\n",
       "\t  7   &  166 & 2    & 61   & 1    &  2   &  70  &  70  &  271 & 34  \\\\\n",
       "\t  6   &  170 & 2    & 57   & 1    &  1   &  80  &  80  & 1025 & 27  \\\\\n",
       "\t 16   &  654 & 2    & 68   & 2    &  2   &  70  &  70  &   NA & 23  \\\\\n",
       "\t 11   &  728 & 2    & 68   & 2    &  1   &  90  &  90  &   NA &  5  \\\\\n",
       "\t 21   &   71 & 2    & 60   & 1    & NA   &  60  &  70  & 1225 & 32  \\\\\n",
       "\t 12   &  567 & 2    & 57   & 1    &  1   &  80  &  70  & 2600 & 60  \\\\\n",
       "\t  1   &  144 & 2    & 67   & 1    &  1   &  80  &  90  &   NA & 15  \\\\\n",
       "\t 22   &  613 & 2    & 70   & 1    &  1   &  90  & 100  & 1150 & -5  \\\\\n",
       "\t 16   &  707 & 2    & 63   & 1    &  2   &  50  &  70  & 1025 & 22  \\\\\n",
       "\t  1   &   61 & 2    & 56   & 2    &  2   &  60  &  60  &  238 & 10  \\\\\n",
       "\t 21   &   88 & 2    & 57   & 1    &  1   &  90  &  80  & 1175 & NA  \\\\\n",
       "\\end{tabular}\n"
      ],
      "text/markdown": [
       "\n",
       "| inst | time | status | age | sex | ph.ecog | ph.karno | pat.karno | meal.cal | wt.loss |\n",
       "|---|---|---|---|---|---|---|---|---|---|\n",
       "|  3   |  306 | 2    | 74   | 1    |  1   |  90  | 100  | 1175 | NA   |\n",
       "|  3   |  455 | 2    | 68   | 1    |  0   |  90  |  90  | 1225 | 15   |\n",
       "|  3   | 1010 | 1    | 56   | 1    |  0   |  90  |  90  |   NA | 15   |\n",
       "|  5   |  210 | 2    | 57   | 1    |  1   |  90  |  60  | 1150 | 11   |\n",
       "|  1   |  883 | 2    | 60   | 1    |  0   | 100  |  90  |   NA |  0   |\n",
       "| 12   | 1022 | 1    | 74   | 1    |  1   |  50  |  80  |  513 |  0   |\n",
       "|  7   |  310 | 2    | 68   | 2    |  2   |  70  |  60  |  384 | 10   |\n",
       "| 11   |  361 | 2    | 71   | 2    |  2   |  60  |  80  |  538 |  1   |\n",
       "|  1   |  218 | 2    | 53   | 1    |  1   |  70  |  80  |  825 | 16   |\n",
       "|  7   |  166 | 2    | 61   | 1    |  2   |  70  |  70  |  271 | 34   |\n",
       "|  6   |  170 | 2    | 57   | 1    |  1   |  80  |  80  | 1025 | 27   |\n",
       "| 16   |  654 | 2    | 68   | 2    |  2   |  70  |  70  |   NA | 23   |\n",
       "| 11   |  728 | 2    | 68   | 2    |  1   |  90  |  90  |   NA |  5   |\n",
       "| 21   |   71 | 2    | 60   | 1    | NA   |  60  |  70  | 1225 | 32   |\n",
       "| 12   |  567 | 2    | 57   | 1    |  1   |  80  |  70  | 2600 | 60   |\n",
       "|  1   |  144 | 2    | 67   | 1    |  1   |  80  |  90  |   NA | 15   |\n",
       "| 22   |  613 | 2    | 70   | 1    |  1   |  90  | 100  | 1150 | -5   |\n",
       "| 16   |  707 | 2    | 63   | 1    |  2   |  50  |  70  | 1025 | 22   |\n",
       "|  1   |   61 | 2    | 56   | 2    |  2   |  60  |  60  |  238 | 10   |\n",
       "| 21   |   88 | 2    | 57   | 1    |  1   |  90  |  80  | 1175 | NA   |\n",
       "\n"
      ],
      "text/plain": [
       "   inst time status age sex ph.ecog ph.karno pat.karno meal.cal wt.loss\n",
       "1   3    306 2      74  1    1       90      100       1175     NA     \n",
       "2   3    455 2      68  1    0       90       90       1225     15     \n",
       "3   3   1010 1      56  1    0       90       90         NA     15     \n",
       "4   5    210 2      57  1    1       90       60       1150     11     \n",
       "5   1    883 2      60  1    0      100       90         NA      0     \n",
       "6  12   1022 1      74  1    1       50       80        513      0     \n",
       "7   7    310 2      68  2    2       70       60        384     10     \n",
       "8  11    361 2      71  2    2       60       80        538      1     \n",
       "9   1    218 2      53  1    1       70       80        825     16     \n",
       "10  7    166 2      61  1    2       70       70        271     34     \n",
       "11  6    170 2      57  1    1       80       80       1025     27     \n",
       "12 16    654 2      68  2    2       70       70         NA     23     \n",
       "13 11    728 2      68  2    1       90       90         NA      5     \n",
       "14 21     71 2      60  1   NA       60       70       1225     32     \n",
       "15 12    567 2      57  1    1       80       70       2600     60     \n",
       "16  1    144 2      67  1    1       80       90         NA     15     \n",
       "17 22    613 2      70  1    1       90      100       1150     -5     \n",
       "18 16    707 2      63  1    2       50       70       1025     22     \n",
       "19  1     61 2      56  2    2       60       60        238     10     \n",
       "20 21     88 2      57  1    1       90       80       1175     NA     "
      ]
     },
     "metadata": {},
     "output_type": "display_data"
    }
   ],
   "source": [
    "cancer[1:20,]"
   ]
  },
  {
   "cell_type": "code",
   "execution_count": 6,
   "id": "above-cooler",
   "metadata": {},
   "outputs": [
    {
     "data": {
      "text/html": [
       "<dl class=dl-horizontal>\n",
       "\t<dt>inst</dt>\n",
       "\t\t<dd>1</dd>\n",
       "\t<dt>time</dt>\n",
       "\t\t<dd>0</dd>\n",
       "\t<dt>status</dt>\n",
       "\t\t<dd>0</dd>\n",
       "\t<dt>age</dt>\n",
       "\t\t<dd>0</dd>\n",
       "\t<dt>sex</dt>\n",
       "\t\t<dd>0</dd>\n",
       "\t<dt>ph.ecog</dt>\n",
       "\t\t<dd>1</dd>\n",
       "\t<dt>ph.karno</dt>\n",
       "\t\t<dd>1</dd>\n",
       "\t<dt>pat.karno</dt>\n",
       "\t\t<dd>3</dd>\n",
       "\t<dt>meal.cal</dt>\n",
       "\t\t<dd>47</dd>\n",
       "\t<dt>wt.loss</dt>\n",
       "\t\t<dd>14</dd>\n",
       "</dl>\n"
      ],
      "text/latex": [
       "\\begin{description*}\n",
       "\\item[inst] 1\n",
       "\\item[time] 0\n",
       "\\item[status] 0\n",
       "\\item[age] 0\n",
       "\\item[sex] 0\n",
       "\\item[ph.ecog] 1\n",
       "\\item[ph.karno] 1\n",
       "\\item[pat.karno] 3\n",
       "\\item[meal.cal] 47\n",
       "\\item[wt.loss] 14\n",
       "\\end{description*}\n"
      ],
      "text/markdown": [
       "inst\n",
       ":   1time\n",
       ":   0status\n",
       ":   0age\n",
       ":   0sex\n",
       ":   0ph.ecog\n",
       ":   1ph.karno\n",
       ":   1pat.karno\n",
       ":   3meal.cal\n",
       ":   47wt.loss\n",
       ":   14\n",
       "\n"
      ],
      "text/plain": [
       "     inst      time    status       age       sex   ph.ecog  ph.karno pat.karno \n",
       "        1         0         0         0         0         1         1         3 \n",
       " meal.cal   wt.loss \n",
       "       47        14 "
      ]
     },
     "metadata": {},
     "output_type": "display_data"
    }
   ],
   "source": [
    "sapply(cancer, function(x) sum(is.na(x)))"
   ]
  },
  {
   "cell_type": "code",
   "execution_count": 7,
   "id": "secondary-support",
   "metadata": {},
   "outputs": [
    {
     "data": {
      "text/html": [
       "228"
      ],
      "text/latex": [
       "228"
      ],
      "text/markdown": [
       "228"
      ],
      "text/plain": [
       "[1] 228"
      ]
     },
     "metadata": {},
     "output_type": "display_data"
    }
   ],
   "source": [
    "length(cancer$meal.cal)"
   ]
  },
  {
   "cell_type": "markdown",
   "id": "radio-monitoring",
   "metadata": {},
   "source": [
    "No quitaremos columnas, quitar renglones de NA\n",
    "Quitando renglones NA"
   ]
  },
  {
   "cell_type": "code",
   "execution_count": 17,
   "id": "arctic-ridge",
   "metadata": {
    "scrolled": true
   },
   "outputs": [
    {
     "data": {
      "text/html": [
       "<table>\n",
       "<thead><tr><th></th><th scope=col>inst</th><th scope=col>time</th><th scope=col>status</th><th scope=col>age</th><th scope=col>sex</th><th scope=col>ph.ecog</th><th scope=col>ph.karno</th><th scope=col>pat.karno</th><th scope=col>meal.cal</th><th scope=col>wt.loss</th></tr></thead>\n",
       "<tbody>\n",
       "\t<tr><th scope=row>2</th><td> 3  </td><td> 455</td><td>2   </td><td>68  </td><td>1   </td><td>0   </td><td> 90 </td><td> 90 </td><td>1225</td><td> 15 </td></tr>\n",
       "\t<tr><th scope=row>4</th><td> 5  </td><td> 210</td><td>2   </td><td>57  </td><td>1   </td><td>1   </td><td> 90 </td><td> 60 </td><td>1150</td><td> 11 </td></tr>\n",
       "\t<tr><th scope=row>6</th><td>12  </td><td>1022</td><td>1   </td><td>74  </td><td>1   </td><td>1   </td><td> 50 </td><td> 80 </td><td> 513</td><td>  0 </td></tr>\n",
       "\t<tr><th scope=row>7</th><td> 7  </td><td> 310</td><td>2   </td><td>68  </td><td>2   </td><td>2   </td><td> 70 </td><td> 60 </td><td> 384</td><td> 10 </td></tr>\n",
       "\t<tr><th scope=row>8</th><td>11  </td><td> 361</td><td>2   </td><td>71  </td><td>2   </td><td>2   </td><td> 60 </td><td> 80 </td><td> 538</td><td>  1 </td></tr>\n",
       "\t<tr><th scope=row>9</th><td> 1  </td><td> 218</td><td>2   </td><td>53  </td><td>1   </td><td>1   </td><td> 70 </td><td> 80 </td><td> 825</td><td> 16 </td></tr>\n",
       "\t<tr><th scope=row>10</th><td> 7  </td><td> 166</td><td>2   </td><td>61  </td><td>1   </td><td>2   </td><td> 70 </td><td> 70 </td><td> 271</td><td> 34 </td></tr>\n",
       "\t<tr><th scope=row>11</th><td> 6  </td><td> 170</td><td>2   </td><td>57  </td><td>1   </td><td>1   </td><td> 80 </td><td> 80 </td><td>1025</td><td> 27 </td></tr>\n",
       "\t<tr><th scope=row>15</th><td>12  </td><td> 567</td><td>2   </td><td>57  </td><td>1   </td><td>1   </td><td> 80 </td><td> 70 </td><td>2600</td><td> 60 </td></tr>\n",
       "\t<tr><th scope=row>17</th><td>22  </td><td> 613</td><td>2   </td><td>70  </td><td>1   </td><td>1   </td><td> 90 </td><td>100 </td><td>1150</td><td> -5 </td></tr>\n",
       "\t<tr><th scope=row>18</th><td>16  </td><td> 707</td><td>2   </td><td>63  </td><td>1   </td><td>2   </td><td> 50 </td><td> 70 </td><td>1025</td><td> 22 </td></tr>\n",
       "\t<tr><th scope=row>19</th><td> 1  </td><td>  61</td><td>2   </td><td>56  </td><td>2   </td><td>2   </td><td> 60 </td><td> 60 </td><td> 238</td><td> 10 </td></tr>\n",
       "\t<tr><th scope=row>21</th><td>11  </td><td> 301</td><td>2   </td><td>67  </td><td>1   </td><td>1   </td><td> 80 </td><td> 80 </td><td>1025</td><td> 17 </td></tr>\n",
       "\t<tr><th scope=row>22</th><td> 6  </td><td>  81</td><td>2   </td><td>49  </td><td>2   </td><td>0   </td><td>100 </td><td> 70 </td><td>1175</td><td> -8 </td></tr>\n",
       "\t<tr><th scope=row>24</th><td>15  </td><td> 371</td><td>2   </td><td>58  </td><td>1   </td><td>0   </td><td> 90 </td><td>100 </td><td> 975</td><td> 13 </td></tr>\n",
       "\t<tr><th scope=row>26</th><td>12  </td><td> 520</td><td>2   </td><td>70  </td><td>2   </td><td>1   </td><td> 90 </td><td> 80 </td><td> 825</td><td>  6 </td></tr>\n",
       "\t<tr><th scope=row>27</th><td> 4  </td><td> 574</td><td>2   </td><td>60  </td><td>1   </td><td>0   </td><td>100 </td><td>100 </td><td>1025</td><td>-13 </td></tr>\n",
       "\t<tr><th scope=row>28</th><td>13  </td><td> 118</td><td>2   </td><td>70  </td><td>1   </td><td>3   </td><td> 60 </td><td> 70 </td><td>1075</td><td> 20 </td></tr>\n",
       "\t<tr><th scope=row>29</th><td>13  </td><td> 390</td><td>2   </td><td>53  </td><td>1   </td><td>1   </td><td> 80 </td><td> 70 </td><td> 875</td><td> -7 </td></tr>\n",
       "\t<tr><th scope=row>30</th><td> 1  </td><td>  12</td><td>2   </td><td>74  </td><td>1   </td><td>2   </td><td> 70 </td><td> 50 </td><td> 305</td><td> 20 </td></tr>\n",
       "\t<tr><th scope=row>31</th><td>12  </td><td> 473</td><td>2   </td><td>69  </td><td>2   </td><td>1   </td><td> 90 </td><td> 90 </td><td>1025</td><td> -1 </td></tr>\n",
       "\t<tr><th scope=row>32</th><td> 1  </td><td>  26</td><td>2   </td><td>73  </td><td>1   </td><td>2   </td><td> 60 </td><td> 70 </td><td> 388</td><td> 20 </td></tr>\n",
       "\t<tr><th scope=row>34</th><td>16  </td><td> 107</td><td>2   </td><td>60  </td><td>2   </td><td>2   </td><td> 50 </td><td> 60 </td><td> 925</td><td>-15 </td></tr>\n",
       "\t<tr><th scope=row>35</th><td>12  </td><td>  53</td><td>2   </td><td>61  </td><td>1   </td><td>2   </td><td> 70 </td><td>100 </td><td>1075</td><td> 10 </td></tr>\n",
       "\t<tr><th scope=row>37</th><td>22  </td><td> 814</td><td>2   </td><td>65  </td><td>1   </td><td>2   </td><td> 70 </td><td> 60 </td><td> 513</td><td> 28 </td></tr>\n",
       "\t<tr><th scope=row>38</th><td>15  </td><td> 965</td><td>1   </td><td>66  </td><td>2   </td><td>1   </td><td> 70 </td><td> 90 </td><td> 875</td><td>  4 </td></tr>\n",
       "\t<tr><th scope=row>39</th><td> 1  </td><td>  93</td><td>2   </td><td>74  </td><td>1   </td><td>2   </td><td> 50 </td><td> 40 </td><td>1225</td><td> 24 </td></tr>\n",
       "\t<tr><th scope=row>40</th><td> 1  </td><td> 731</td><td>2   </td><td>64  </td><td>2   </td><td>1   </td><td> 80 </td><td>100 </td><td>1175</td><td> 15 </td></tr>\n",
       "\t<tr><th scope=row>41</th><td> 5  </td><td> 460</td><td>2   </td><td>70  </td><td>1   </td><td>1   </td><td> 80 </td><td> 60 </td><td> 975</td><td> 10 </td></tr>\n",
       "\t<tr><th scope=row>42</th><td>11  </td><td> 153</td><td>2   </td><td>73  </td><td>2   </td><td>2   </td><td> 60 </td><td> 70 </td><td>1075</td><td> 11 </td></tr>\n",
       "\t<tr><th scope=row>...</th><td>...</td><td>...</td><td>...</td><td>...</td><td>...</td><td>...</td><td>...</td><td>...</td><td>...</td><td>...</td></tr>\n",
       "\t<tr><th scope=row>187</th><td> 2  </td><td>285 </td><td>2   </td><td>72  </td><td>2   </td><td>2   </td><td> 70 </td><td> 90 </td><td> 463</td><td>20  </td></tr>\n",
       "\t<tr><th scope=row>188</th><td> 3  </td><td>259 </td><td>1   </td><td>58  </td><td>1   </td><td>0   </td><td> 90 </td><td> 80 </td><td>1300</td><td> 8  </td></tr>\n",
       "\t<tr><th scope=row>189</th><td>15  </td><td>110 </td><td>2   </td><td>64  </td><td>1   </td><td>1   </td><td> 80 </td><td> 60 </td><td>1025</td><td>12  </td></tr>\n",
       "\t<tr><th scope=row>190</th><td>22  </td><td>286 </td><td>2   </td><td>53  </td><td>1   </td><td>0   </td><td> 90 </td><td> 90 </td><td>1225</td><td> 8  </td></tr>\n",
       "\t<tr><th scope=row>191</th><td>16  </td><td>270 </td><td>2   </td><td>72  </td><td>1   </td><td>1   </td><td> 80 </td><td> 90 </td><td> 488</td><td>14  </td></tr>\n",
       "\t<tr><th scope=row>194</th><td> 1  </td><td>225 </td><td>1   </td><td>64  </td><td>1   </td><td>1   </td><td> 90 </td><td> 80 </td><td> 825</td><td>33  </td></tr>\n",
       "\t<tr><th scope=row>195</th><td>22  </td><td>269 </td><td>2   </td><td>71  </td><td>1   </td><td>1   </td><td> 90 </td><td> 90 </td><td>1300</td><td>-2  </td></tr>\n",
       "\t<tr><th scope=row>196</th><td>12  </td><td>225 </td><td>1   </td><td>70  </td><td>1   </td><td>0   </td><td>100 </td><td>100 </td><td>1175</td><td> 6  </td></tr>\n",
       "\t<tr><th scope=row>197</th><td>32  </td><td>243 </td><td>1   </td><td>63  </td><td>2   </td><td>1   </td><td> 80 </td><td> 90 </td><td> 825</td><td> 0  </td></tr>\n",
       "\t<tr><th scope=row>199</th><td> 1  </td><td>276 </td><td>1   </td><td>52  </td><td>2   </td><td>0   </td><td>100 </td><td> 80 </td><td> 975</td><td> 0  </td></tr>\n",
       "\t<tr><th scope=row>200</th><td>32  </td><td>135 </td><td>2   </td><td>60  </td><td>1   </td><td>1   </td><td> 90 </td><td> 70 </td><td>1275</td><td> 0  </td></tr>\n",
       "\t<tr><th scope=row>201</th><td>15  </td><td> 79 </td><td>2   </td><td>64  </td><td>2   </td><td>1   </td><td> 90 </td><td> 90 </td><td> 488</td><td>37  </td></tr>\n",
       "\t<tr><th scope=row>202</th><td>22  </td><td> 59 </td><td>2   </td><td>73  </td><td>1   </td><td>1   </td><td> 60 </td><td> 60 </td><td>2200</td><td> 5  </td></tr>\n",
       "\t<tr><th scope=row>203</th><td>32  </td><td>240 </td><td>1   </td><td>63  </td><td>2   </td><td>0   </td><td> 90 </td><td>100 </td><td>1025</td><td> 0  </td></tr>\n",
       "\t<tr><th scope=row>204</th><td> 3  </td><td>202 </td><td>1   </td><td>50  </td><td>2   </td><td>0   </td><td>100 </td><td>100 </td><td> 635</td><td> 1  </td></tr>\n",
       "\t<tr><th scope=row>205</th><td>26  </td><td>235 </td><td>1   </td><td>63  </td><td>2   </td><td>0   </td><td>100 </td><td> 90 </td><td> 413</td><td> 0  </td></tr>\n",
       "\t<tr><th scope=row>208</th><td>13  </td><td>239 </td><td>2   </td><td>50  </td><td>2   </td><td>2   </td><td> 60 </td><td> 60 </td><td>1025</td><td>-3  </td></tr>\n",
       "\t<tr><th scope=row>211</th><td> 1  </td><td>252 </td><td>1   </td><td>60  </td><td>2   </td><td>0   </td><td>100 </td><td> 90 </td><td> 488</td><td>-2  </td></tr>\n",
       "\t<tr><th scope=row>212</th><td> 6  </td><td>221 </td><td>1   </td><td>67  </td><td>1   </td><td>1   </td><td> 80 </td><td> 70 </td><td> 413</td><td>23  </td></tr>\n",
       "\t<tr><th scope=row>213</th><td>15  </td><td>185 </td><td>1   </td><td>69  </td><td>1   </td><td>1   </td><td> 90 </td><td> 70 </td><td>1075</td><td> 0  </td></tr>\n",
       "\t<tr><th scope=row>216</th><td>11  </td><td>222 </td><td>1   </td><td>65  </td><td>1   </td><td>1   </td><td> 90 </td><td> 70 </td><td>1025</td><td>18  </td></tr>\n",
       "\t<tr><th scope=row>218</th><td>21  </td><td>183 </td><td>2   </td><td>76  </td><td>1   </td><td>2   </td><td> 80 </td><td> 60 </td><td> 825</td><td> 7  </td></tr>\n",
       "\t<tr><th scope=row>219</th><td>11  </td><td>211 </td><td>1   </td><td>70  </td><td>2   </td><td>2   </td><td> 70 </td><td> 30 </td><td> 131</td><td> 3  </td></tr>\n",
       "\t<tr><th scope=row>220</th><td> 2  </td><td>175 </td><td>1   </td><td>57  </td><td>2   </td><td>0   </td><td> 80 </td><td> 80 </td><td> 725</td><td>11  </td></tr>\n",
       "\t<tr><th scope=row>221</th><td>22  </td><td>197 </td><td>1   </td><td>67  </td><td>1   </td><td>1   </td><td> 80 </td><td> 90 </td><td>1500</td><td> 2  </td></tr>\n",
       "\t<tr><th scope=row>222</th><td>11  </td><td>203 </td><td>1   </td><td>71  </td><td>2   </td><td>1   </td><td> 80 </td><td> 90 </td><td>1025</td><td> 0  </td></tr>\n",
       "\t<tr><th scope=row>225</th><td>13  </td><td>191 </td><td>1   </td><td>39  </td><td>1   </td><td>0   </td><td> 90 </td><td> 90 </td><td>2350</td><td>-5  </td></tr>\n",
       "\t<tr><th scope=row>226</th><td>32  </td><td>105 </td><td>1   </td><td>75  </td><td>2   </td><td>2   </td><td> 60 </td><td> 70 </td><td>1025</td><td> 5  </td></tr>\n",
       "\t<tr><th scope=row>227</th><td> 6  </td><td>174 </td><td>1   </td><td>66  </td><td>1   </td><td>1   </td><td> 90 </td><td>100 </td><td>1075</td><td> 1  </td></tr>\n",
       "\t<tr><th scope=row>228</th><td>22  </td><td>177 </td><td>1   </td><td>58  </td><td>2   </td><td>1   </td><td> 80 </td><td> 90 </td><td>1060</td><td> 0  </td></tr>\n",
       "</tbody>\n",
       "</table>\n"
      ],
      "text/latex": [
       "\\begin{tabular}{r|llllllllll}\n",
       "  & inst & time & status & age & sex & ph.ecog & ph.karno & pat.karno & meal.cal & wt.loss\\\\\n",
       "\\hline\n",
       "\t2 &  3   &  455 & 2    & 68   & 1    & 0    &  90  &  90  & 1225 &  15 \\\\\n",
       "\t4 &  5   &  210 & 2    & 57   & 1    & 1    &  90  &  60  & 1150 &  11 \\\\\n",
       "\t6 & 12   & 1022 & 1    & 74   & 1    & 1    &  50  &  80  &  513 &   0 \\\\\n",
       "\t7 &  7   &  310 & 2    & 68   & 2    & 2    &  70  &  60  &  384 &  10 \\\\\n",
       "\t8 & 11   &  361 & 2    & 71   & 2    & 2    &  60  &  80  &  538 &   1 \\\\\n",
       "\t9 &  1   &  218 & 2    & 53   & 1    & 1    &  70  &  80  &  825 &  16 \\\\\n",
       "\t10 &  7   &  166 & 2    & 61   & 1    & 2    &  70  &  70  &  271 &  34 \\\\\n",
       "\t11 &  6   &  170 & 2    & 57   & 1    & 1    &  80  &  80  & 1025 &  27 \\\\\n",
       "\t15 & 12   &  567 & 2    & 57   & 1    & 1    &  80  &  70  & 2600 &  60 \\\\\n",
       "\t17 & 22   &  613 & 2    & 70   & 1    & 1    &  90  & 100  & 1150 &  -5 \\\\\n",
       "\t18 & 16   &  707 & 2    & 63   & 1    & 2    &  50  &  70  & 1025 &  22 \\\\\n",
       "\t19 &  1   &   61 & 2    & 56   & 2    & 2    &  60  &  60  &  238 &  10 \\\\\n",
       "\t21 & 11   &  301 & 2    & 67   & 1    & 1    &  80  &  80  & 1025 &  17 \\\\\n",
       "\t22 &  6   &   81 & 2    & 49   & 2    & 0    & 100  &  70  & 1175 &  -8 \\\\\n",
       "\t24 & 15   &  371 & 2    & 58   & 1    & 0    &  90  & 100  &  975 &  13 \\\\\n",
       "\t26 & 12   &  520 & 2    & 70   & 2    & 1    &  90  &  80  &  825 &   6 \\\\\n",
       "\t27 &  4   &  574 & 2    & 60   & 1    & 0    & 100  & 100  & 1025 & -13 \\\\\n",
       "\t28 & 13   &  118 & 2    & 70   & 1    & 3    &  60  &  70  & 1075 &  20 \\\\\n",
       "\t29 & 13   &  390 & 2    & 53   & 1    & 1    &  80  &  70  &  875 &  -7 \\\\\n",
       "\t30 &  1   &   12 & 2    & 74   & 1    & 2    &  70  &  50  &  305 &  20 \\\\\n",
       "\t31 & 12   &  473 & 2    & 69   & 2    & 1    &  90  &  90  & 1025 &  -1 \\\\\n",
       "\t32 &  1   &   26 & 2    & 73   & 1    & 2    &  60  &  70  &  388 &  20 \\\\\n",
       "\t34 & 16   &  107 & 2    & 60   & 2    & 2    &  50  &  60  &  925 & -15 \\\\\n",
       "\t35 & 12   &   53 & 2    & 61   & 1    & 2    &  70  & 100  & 1075 &  10 \\\\\n",
       "\t37 & 22   &  814 & 2    & 65   & 1    & 2    &  70  &  60  &  513 &  28 \\\\\n",
       "\t38 & 15   &  965 & 1    & 66   & 2    & 1    &  70  &  90  &  875 &   4 \\\\\n",
       "\t39 &  1   &   93 & 2    & 74   & 1    & 2    &  50  &  40  & 1225 &  24 \\\\\n",
       "\t40 &  1   &  731 & 2    & 64   & 2    & 1    &  80  & 100  & 1175 &  15 \\\\\n",
       "\t41 &  5   &  460 & 2    & 70   & 1    & 1    &  80  &  60  &  975 &  10 \\\\\n",
       "\t42 & 11   &  153 & 2    & 73   & 2    & 2    &  60  &  70  & 1075 &  11 \\\\\n",
       "\t... & ... & ... & ... & ... & ... & ... & ... & ... & ... & ...\\\\\n",
       "\t187 &  2   & 285  & 2    & 72   & 2    & 2    &  70  &  90  &  463 & 20  \\\\\n",
       "\t188 &  3   & 259  & 1    & 58   & 1    & 0    &  90  &  80  & 1300 &  8  \\\\\n",
       "\t189 & 15   & 110  & 2    & 64   & 1    & 1    &  80  &  60  & 1025 & 12  \\\\\n",
       "\t190 & 22   & 286  & 2    & 53   & 1    & 0    &  90  &  90  & 1225 &  8  \\\\\n",
       "\t191 & 16   & 270  & 2    & 72   & 1    & 1    &  80  &  90  &  488 & 14  \\\\\n",
       "\t194 &  1   & 225  & 1    & 64   & 1    & 1    &  90  &  80  &  825 & 33  \\\\\n",
       "\t195 & 22   & 269  & 2    & 71   & 1    & 1    &  90  &  90  & 1300 & -2  \\\\\n",
       "\t196 & 12   & 225  & 1    & 70   & 1    & 0    & 100  & 100  & 1175 &  6  \\\\\n",
       "\t197 & 32   & 243  & 1    & 63   & 2    & 1    &  80  &  90  &  825 &  0  \\\\\n",
       "\t199 &  1   & 276  & 1    & 52   & 2    & 0    & 100  &  80  &  975 &  0  \\\\\n",
       "\t200 & 32   & 135  & 2    & 60   & 1    & 1    &  90  &  70  & 1275 &  0  \\\\\n",
       "\t201 & 15   &  79  & 2    & 64   & 2    & 1    &  90  &  90  &  488 & 37  \\\\\n",
       "\t202 & 22   &  59  & 2    & 73   & 1    & 1    &  60  &  60  & 2200 &  5  \\\\\n",
       "\t203 & 32   & 240  & 1    & 63   & 2    & 0    &  90  & 100  & 1025 &  0  \\\\\n",
       "\t204 &  3   & 202  & 1    & 50   & 2    & 0    & 100  & 100  &  635 &  1  \\\\\n",
       "\t205 & 26   & 235  & 1    & 63   & 2    & 0    & 100  &  90  &  413 &  0  \\\\\n",
       "\t208 & 13   & 239  & 2    & 50   & 2    & 2    &  60  &  60  & 1025 & -3  \\\\\n",
       "\t211 &  1   & 252  & 1    & 60   & 2    & 0    & 100  &  90  &  488 & -2  \\\\\n",
       "\t212 &  6   & 221  & 1    & 67   & 1    & 1    &  80  &  70  &  413 & 23  \\\\\n",
       "\t213 & 15   & 185  & 1    & 69   & 1    & 1    &  90  &  70  & 1075 &  0  \\\\\n",
       "\t216 & 11   & 222  & 1    & 65   & 1    & 1    &  90  &  70  & 1025 & 18  \\\\\n",
       "\t218 & 21   & 183  & 2    & 76   & 1    & 2    &  80  &  60  &  825 &  7  \\\\\n",
       "\t219 & 11   & 211  & 1    & 70   & 2    & 2    &  70  &  30  &  131 &  3  \\\\\n",
       "\t220 &  2   & 175  & 1    & 57   & 2    & 0    &  80  &  80  &  725 & 11  \\\\\n",
       "\t221 & 22   & 197  & 1    & 67   & 1    & 1    &  80  &  90  & 1500 &  2  \\\\\n",
       "\t222 & 11   & 203  & 1    & 71   & 2    & 1    &  80  &  90  & 1025 &  0  \\\\\n",
       "\t225 & 13   & 191  & 1    & 39   & 1    & 0    &  90  &  90  & 2350 & -5  \\\\\n",
       "\t226 & 32   & 105  & 1    & 75   & 2    & 2    &  60  &  70  & 1025 &  5  \\\\\n",
       "\t227 &  6   & 174  & 1    & 66   & 1    & 1    &  90  & 100  & 1075 &  1  \\\\\n",
       "\t228 & 22   & 177  & 1    & 58   & 2    & 1    &  80  &  90  & 1060 &  0  \\\\\n",
       "\\end{tabular}\n"
      ],
      "text/markdown": [
       "\n",
       "| <!--/--> | inst | time | status | age | sex | ph.ecog | ph.karno | pat.karno | meal.cal | wt.loss |\n",
       "|---|---|---|---|---|---|---|---|---|---|---|\n",
       "| 2 |  3   |  455 | 2    | 68   | 1    | 0    |  90  |  90  | 1225 |  15  |\n",
       "| 4 |  5   |  210 | 2    | 57   | 1    | 1    |  90  |  60  | 1150 |  11  |\n",
       "| 6 | 12   | 1022 | 1    | 74   | 1    | 1    |  50  |  80  |  513 |   0  |\n",
       "| 7 |  7   |  310 | 2    | 68   | 2    | 2    |  70  |  60  |  384 |  10  |\n",
       "| 8 | 11   |  361 | 2    | 71   | 2    | 2    |  60  |  80  |  538 |   1  |\n",
       "| 9 |  1   |  218 | 2    | 53   | 1    | 1    |  70  |  80  |  825 |  16  |\n",
       "| 10 |  7   |  166 | 2    | 61   | 1    | 2    |  70  |  70  |  271 |  34  |\n",
       "| 11 |  6   |  170 | 2    | 57   | 1    | 1    |  80  |  80  | 1025 |  27  |\n",
       "| 15 | 12   |  567 | 2    | 57   | 1    | 1    |  80  |  70  | 2600 |  60  |\n",
       "| 17 | 22   |  613 | 2    | 70   | 1    | 1    |  90  | 100  | 1150 |  -5  |\n",
       "| 18 | 16   |  707 | 2    | 63   | 1    | 2    |  50  |  70  | 1025 |  22  |\n",
       "| 19 |  1   |   61 | 2    | 56   | 2    | 2    |  60  |  60  |  238 |  10  |\n",
       "| 21 | 11   |  301 | 2    | 67   | 1    | 1    |  80  |  80  | 1025 |  17  |\n",
       "| 22 |  6   |   81 | 2    | 49   | 2    | 0    | 100  |  70  | 1175 |  -8  |\n",
       "| 24 | 15   |  371 | 2    | 58   | 1    | 0    |  90  | 100  |  975 |  13  |\n",
       "| 26 | 12   |  520 | 2    | 70   | 2    | 1    |  90  |  80  |  825 |   6  |\n",
       "| 27 |  4   |  574 | 2    | 60   | 1    | 0    | 100  | 100  | 1025 | -13  |\n",
       "| 28 | 13   |  118 | 2    | 70   | 1    | 3    |  60  |  70  | 1075 |  20  |\n",
       "| 29 | 13   |  390 | 2    | 53   | 1    | 1    |  80  |  70  |  875 |  -7  |\n",
       "| 30 |  1   |   12 | 2    | 74   | 1    | 2    |  70  |  50  |  305 |  20  |\n",
       "| 31 | 12   |  473 | 2    | 69   | 2    | 1    |  90  |  90  | 1025 |  -1  |\n",
       "| 32 |  1   |   26 | 2    | 73   | 1    | 2    |  60  |  70  |  388 |  20  |\n",
       "| 34 | 16   |  107 | 2    | 60   | 2    | 2    |  50  |  60  |  925 | -15  |\n",
       "| 35 | 12   |   53 | 2    | 61   | 1    | 2    |  70  | 100  | 1075 |  10  |\n",
       "| 37 | 22   |  814 | 2    | 65   | 1    | 2    |  70  |  60  |  513 |  28  |\n",
       "| 38 | 15   |  965 | 1    | 66   | 2    | 1    |  70  |  90  |  875 |   4  |\n",
       "| 39 |  1   |   93 | 2    | 74   | 1    | 2    |  50  |  40  | 1225 |  24  |\n",
       "| 40 |  1   |  731 | 2    | 64   | 2    | 1    |  80  | 100  | 1175 |  15  |\n",
       "| 41 |  5   |  460 | 2    | 70   | 1    | 1    |  80  |  60  |  975 |  10  |\n",
       "| 42 | 11   |  153 | 2    | 73   | 2    | 2    |  60  |  70  | 1075 |  11  |\n",
       "| ... | ... | ... | ... | ... | ... | ... | ... | ... | ... | ... |\n",
       "| 187 |  2   | 285  | 2    | 72   | 2    | 2    |  70  |  90  |  463 | 20   |\n",
       "| 188 |  3   | 259  | 1    | 58   | 1    | 0    |  90  |  80  | 1300 |  8   |\n",
       "| 189 | 15   | 110  | 2    | 64   | 1    | 1    |  80  |  60  | 1025 | 12   |\n",
       "| 190 | 22   | 286  | 2    | 53   | 1    | 0    |  90  |  90  | 1225 |  8   |\n",
       "| 191 | 16   | 270  | 2    | 72   | 1    | 1    |  80  |  90  |  488 | 14   |\n",
       "| 194 |  1   | 225  | 1    | 64   | 1    | 1    |  90  |  80  |  825 | 33   |\n",
       "| 195 | 22   | 269  | 2    | 71   | 1    | 1    |  90  |  90  | 1300 | -2   |\n",
       "| 196 | 12   | 225  | 1    | 70   | 1    | 0    | 100  | 100  | 1175 |  6   |\n",
       "| 197 | 32   | 243  | 1    | 63   | 2    | 1    |  80  |  90  |  825 |  0   |\n",
       "| 199 |  1   | 276  | 1    | 52   | 2    | 0    | 100  |  80  |  975 |  0   |\n",
       "| 200 | 32   | 135  | 2    | 60   | 1    | 1    |  90  |  70  | 1275 |  0   |\n",
       "| 201 | 15   |  79  | 2    | 64   | 2    | 1    |  90  |  90  |  488 | 37   |\n",
       "| 202 | 22   |  59  | 2    | 73   | 1    | 1    |  60  |  60  | 2200 |  5   |\n",
       "| 203 | 32   | 240  | 1    | 63   | 2    | 0    |  90  | 100  | 1025 |  0   |\n",
       "| 204 |  3   | 202  | 1    | 50   | 2    | 0    | 100  | 100  |  635 |  1   |\n",
       "| 205 | 26   | 235  | 1    | 63   | 2    | 0    | 100  |  90  |  413 |  0   |\n",
       "| 208 | 13   | 239  | 2    | 50   | 2    | 2    |  60  |  60  | 1025 | -3   |\n",
       "| 211 |  1   | 252  | 1    | 60   | 2    | 0    | 100  |  90  |  488 | -2   |\n",
       "| 212 |  6   | 221  | 1    | 67   | 1    | 1    |  80  |  70  |  413 | 23   |\n",
       "| 213 | 15   | 185  | 1    | 69   | 1    | 1    |  90  |  70  | 1075 |  0   |\n",
       "| 216 | 11   | 222  | 1    | 65   | 1    | 1    |  90  |  70  | 1025 | 18   |\n",
       "| 218 | 21   | 183  | 2    | 76   | 1    | 2    |  80  |  60  |  825 |  7   |\n",
       "| 219 | 11   | 211  | 1    | 70   | 2    | 2    |  70  |  30  |  131 |  3   |\n",
       "| 220 |  2   | 175  | 1    | 57   | 2    | 0    |  80  |  80  |  725 | 11   |\n",
       "| 221 | 22   | 197  | 1    | 67   | 1    | 1    |  80  |  90  | 1500 |  2   |\n",
       "| 222 | 11   | 203  | 1    | 71   | 2    | 1    |  80  |  90  | 1025 |  0   |\n",
       "| 225 | 13   | 191  | 1    | 39   | 1    | 0    |  90  |  90  | 2350 | -5   |\n",
       "| 226 | 32   | 105  | 1    | 75   | 2    | 2    |  60  |  70  | 1025 |  5   |\n",
       "| 227 |  6   | 174  | 1    | 66   | 1    | 1    |  90  | 100  | 1075 |  1   |\n",
       "| 228 | 22   | 177  | 1    | 58   | 2    | 1    |  80  |  90  | 1060 |  0   |\n",
       "\n"
      ],
      "text/plain": [
       "    inst time status age sex ph.ecog ph.karno pat.karno meal.cal wt.loss\n",
       "2    3    455 2      68  1   0        90       90       1225      15    \n",
       "4    5    210 2      57  1   1        90       60       1150      11    \n",
       "6   12   1022 1      74  1   1        50       80        513       0    \n",
       "7    7    310 2      68  2   2        70       60        384      10    \n",
       "8   11    361 2      71  2   2        60       80        538       1    \n",
       "9    1    218 2      53  1   1        70       80        825      16    \n",
       "10   7    166 2      61  1   2        70       70        271      34    \n",
       "11   6    170 2      57  1   1        80       80       1025      27    \n",
       "15  12    567 2      57  1   1        80       70       2600      60    \n",
       "17  22    613 2      70  1   1        90      100       1150      -5    \n",
       "18  16    707 2      63  1   2        50       70       1025      22    \n",
       "19   1     61 2      56  2   2        60       60        238      10    \n",
       "21  11    301 2      67  1   1        80       80       1025      17    \n",
       "22   6     81 2      49  2   0       100       70       1175      -8    \n",
       "24  15    371 2      58  1   0        90      100        975      13    \n",
       "26  12    520 2      70  2   1        90       80        825       6    \n",
       "27   4    574 2      60  1   0       100      100       1025     -13    \n",
       "28  13    118 2      70  1   3        60       70       1075      20    \n",
       "29  13    390 2      53  1   1        80       70        875      -7    \n",
       "30   1     12 2      74  1   2        70       50        305      20    \n",
       "31  12    473 2      69  2   1        90       90       1025      -1    \n",
       "32   1     26 2      73  1   2        60       70        388      20    \n",
       "34  16    107 2      60  2   2        50       60        925     -15    \n",
       "35  12     53 2      61  1   2        70      100       1075      10    \n",
       "37  22    814 2      65  1   2        70       60        513      28    \n",
       "38  15    965 1      66  2   1        70       90        875       4    \n",
       "39   1     93 2      74  1   2        50       40       1225      24    \n",
       "40   1    731 2      64  2   1        80      100       1175      15    \n",
       "41   5    460 2      70  1   1        80       60        975      10    \n",
       "42  11    153 2      73  2   2        60       70       1075      11    \n",
       "... ...  ...  ...    ... ... ...     ...      ...       ...      ...    \n",
       "187  2   285  2      72  2   2        70       90        463     20     \n",
       "188  3   259  1      58  1   0        90       80       1300      8     \n",
       "189 15   110  2      64  1   1        80       60       1025     12     \n",
       "190 22   286  2      53  1   0        90       90       1225      8     \n",
       "191 16   270  2      72  1   1        80       90        488     14     \n",
       "194  1   225  1      64  1   1        90       80        825     33     \n",
       "195 22   269  2      71  1   1        90       90       1300     -2     \n",
       "196 12   225  1      70  1   0       100      100       1175      6     \n",
       "197 32   243  1      63  2   1        80       90        825      0     \n",
       "199  1   276  1      52  2   0       100       80        975      0     \n",
       "200 32   135  2      60  1   1        90       70       1275      0     \n",
       "201 15    79  2      64  2   1        90       90        488     37     \n",
       "202 22    59  2      73  1   1        60       60       2200      5     \n",
       "203 32   240  1      63  2   0        90      100       1025      0     \n",
       "204  3   202  1      50  2   0       100      100        635      1     \n",
       "205 26   235  1      63  2   0       100       90        413      0     \n",
       "208 13   239  2      50  2   2        60       60       1025     -3     \n",
       "211  1   252  1      60  2   0       100       90        488     -2     \n",
       "212  6   221  1      67  1   1        80       70        413     23     \n",
       "213 15   185  1      69  1   1        90       70       1075      0     \n",
       "216 11   222  1      65  1   1        90       70       1025     18     \n",
       "218 21   183  2      76  1   2        80       60        825      7     \n",
       "219 11   211  1      70  2   2        70       30        131      3     \n",
       "220  2   175  1      57  2   0        80       80        725     11     \n",
       "221 22   197  1      67  1   1        80       90       1500      2     \n",
       "222 11   203  1      71  2   1        80       90       1025      0     \n",
       "225 13   191  1      39  1   0        90       90       2350     -5     \n",
       "226 32   105  1      75  2   2        60       70       1025      5     \n",
       "227  6   174  1      66  1   1        90      100       1075      1     \n",
       "228 22   177  1      58  2   1        80       90       1060      0     "
      ]
     },
     "metadata": {},
     "output_type": "display_data"
    }
   ],
   "source": [
    "cancer2<-na.omit(cancer)\n",
    "cancer2"
   ]
  },
  {
   "cell_type": "code",
   "execution_count": 18,
   "id": "incorrect-hello",
   "metadata": {},
   "outputs": [
    {
     "data": {
      "text/html": [
       "<dl class=dl-horizontal>\n",
       "\t<dt>inst</dt>\n",
       "\t\t<dd>0</dd>\n",
       "\t<dt>time</dt>\n",
       "\t\t<dd>0</dd>\n",
       "\t<dt>status</dt>\n",
       "\t\t<dd>0</dd>\n",
       "\t<dt>age</dt>\n",
       "\t\t<dd>0</dd>\n",
       "\t<dt>sex</dt>\n",
       "\t\t<dd>0</dd>\n",
       "\t<dt>ph.ecog</dt>\n",
       "\t\t<dd>0</dd>\n",
       "\t<dt>ph.karno</dt>\n",
       "\t\t<dd>0</dd>\n",
       "\t<dt>pat.karno</dt>\n",
       "\t\t<dd>0</dd>\n",
       "\t<dt>meal.cal</dt>\n",
       "\t\t<dd>0</dd>\n",
       "\t<dt>wt.loss</dt>\n",
       "\t\t<dd>0</dd>\n",
       "</dl>\n"
      ],
      "text/latex": [
       "\\begin{description*}\n",
       "\\item[inst] 0\n",
       "\\item[time] 0\n",
       "\\item[status] 0\n",
       "\\item[age] 0\n",
       "\\item[sex] 0\n",
       "\\item[ph.ecog] 0\n",
       "\\item[ph.karno] 0\n",
       "\\item[pat.karno] 0\n",
       "\\item[meal.cal] 0\n",
       "\\item[wt.loss] 0\n",
       "\\end{description*}\n"
      ],
      "text/markdown": [
       "inst\n",
       ":   0time\n",
       ":   0status\n",
       ":   0age\n",
       ":   0sex\n",
       ":   0ph.ecog\n",
       ":   0ph.karno\n",
       ":   0pat.karno\n",
       ":   0meal.cal\n",
       ":   0wt.loss\n",
       ":   0\n",
       "\n"
      ],
      "text/plain": [
       "     inst      time    status       age       sex   ph.ecog  ph.karno pat.karno \n",
       "        0         0         0         0         0         0         0         0 \n",
       " meal.cal   wt.loss \n",
       "        0         0 "
      ]
     },
     "metadata": {},
     "output_type": "display_data"
    }
   ],
   "source": [
    "sapply(cancer2, function(x) sum(is.na(x)))"
   ]
  },
  {
   "cell_type": "markdown",
   "id": "complimentary-professor",
   "metadata": {},
   "source": [
    "## Descriptiva variable sex."
   ]
  },
  {
   "cell_type": "markdown",
   "id": "rapid-integration",
   "metadata": {},
   "source": [
    "**Tabla de contingencia.**"
   ]
  },
  {
   "cell_type": "code",
   "execution_count": 19,
   "id": "rocky-thesis",
   "metadata": {},
   "outputs": [
    {
     "data": {
      "text/plain": [
       "   \n",
       "     1  2\n",
       "  1 21 26\n",
       "  2 82 38"
      ]
     },
     "metadata": {},
     "output_type": "display_data"
    }
   ],
   "source": [
    "table(cancer2$status, cancer2$sex)"
   ]
  },
  {
   "cell_type": "markdown",
   "id": "lonely-charm",
   "metadata": {},
   "source": [
    "**Gráfica de pastel.**"
   ]
  },
  {
   "cell_type": "code",
   "execution_count": 20,
   "id": "light-ambassador",
   "metadata": {},
   "outputs": [],
   "source": [
    "sexo<-factor(cancer2$sex)\n",
    "#1 hombre\n",
    "#2 mujer"
   ]
  },
  {
   "cell_type": "code",
   "execution_count": 21,
   "id": "laden-clothing",
   "metadata": {},
   "outputs": [],
   "source": [
    "levels(sexo)<-c(\"Masculino\", \"Fememino\")"
   ]
  },
  {
   "cell_type": "code",
   "execution_count": 22,
   "id": "russian-sequence",
   "metadata": {},
   "outputs": [
    {
     "data": {
      "text/plain": [
       "sexo\n",
       "Masculino  Fememino \n",
       "      103        64 "
      ]
     },
     "metadata": {},
     "output_type": "display_data"
    }
   ],
   "source": [
    "table(sexo)"
   ]
  },
  {
   "cell_type": "code",
   "execution_count": 23,
   "id": "creative-positive",
   "metadata": {},
   "outputs": [
    {
     "data": {
      "image/png": "[encoded data removed]",
      "text/plain": [
       "Plot with title \"Proporción por Sexo\""
      ]
     },
     "metadata": {},
     "output_type": "display_data"
    }
   ],
   "source": [
    "pie(table(sexo), col=c(\"green\", \"purple\"), main=\"Proporción por Sexo\")"
   ]
  },
  {
   "cell_type": "markdown",
   "id": "moving-jumping",
   "metadata": {},
   "source": [
    "**Respuesta compuesta.**"
   ]
  },
  {
   "cell_type": "code",
   "execution_count": 24,
   "id": "norman-advertiser",
   "metadata": {},
   "outputs": [
    {
     "data": {
      "text/plain": [
       "  [1]  455   210  1022+  310   361   218   166   170   567   613   707    61 \n",
       " [13]  301    81   371   520   574   118   390    12   473    26   107    53 \n",
       " [25]  814   965+   93   731   460   153   433   583    95   303   519   643 \n",
       " [37]  765    53   246   689     5   687   345   444   223    60   163    65 \n",
       " [49]  821+  428   230   840+  305    11   226   426   705   363   176   791 \n",
       " [61]   95   196+  167   806+  284   641   147   740+  163   655    88   245 \n",
       " [73]   30   477   559+  450   156   529+  429   351    15   181   283    13 \n",
       " [85]  212   524   288   363   199   550    54   558   207    92    60   551+\n",
       " [97]  293   353   267   511+  457   337   201   404+  222    62   458+  353 \n",
       "[109]  163    31   229   156   291   179   376+  384+  268   292+  142   413+\n",
       "[121]  266+  320   181   285   301+  348   197   382+  303+  296+  180   145 \n",
       "[133]  269+  300+  284+  292+  332+  285   259+  110   286   270   225+  269 \n",
       "[145]  225+  243+  276+  135    79    59   240+  202+  235+  239   252+  221+\n",
       "[157]  185+  222+  183   211+  175+  197+  203+  191+  105+  174+  177+"
      ]
     },
     "metadata": {},
     "output_type": "display_data"
    }
   ],
   "source": [
    "res.c<-Surv(cancer2$time, cancer2$status)#asociación del signo más\n",
    "res.c"
   ]
  },
  {
   "cell_type": "code",
   "execution_count": 25,
   "id": "dying-elephant",
   "metadata": {},
   "outputs": [
    {
     "data": {
      "text/plain": [
       "Call:\n",
       "coxph(formula = res.c ~ cancer2$inst + cancer2$age + cancer2$sex + \n",
       "    cancer2$ph.ecog + cancer2$ph.karno + cancer2$pat.karno + \n",
       "    cancer2$meal.cal + cancer2$wt.loss)\n",
       "\n",
       "                        coef  exp(coef)   se(coef)      z        p\n",
       "cancer2$inst      -3.037e-02  9.701e-01  1.312e-02 -2.315 0.020619\n",
       "cancer2$age        1.281e-02  1.013e+00  1.194e-02  1.073 0.283403\n",
       "cancer2$sex       -5.666e-01  5.674e-01  2.014e-01 -2.814 0.004890\n",
       "cancer2$ph.ecog    9.074e-01  2.478e+00  2.386e-01  3.803 0.000143\n",
       "cancer2$ph.karno   2.658e-02  1.027e+00  1.163e-02  2.286 0.022231\n",
       "cancer2$pat.karno -1.091e-02  9.891e-01  8.141e-03 -1.340 0.180160\n",
       "cancer2$meal.cal   2.602e-06  1.000e+00  2.677e-04  0.010 0.992244\n",
       "cancer2$wt.loss   -1.671e-02  9.834e-01  7.911e-03 -2.112 0.034647\n",
       "\n",
       "Likelihood ratio test=33.7  on 8 df, p=4.609e-05\n",
       "n= 167, number of events= 120 "
      ]
     },
     "metadata": {},
     "output_type": "display_data"
    }
   ],
   "source": [
    "cox1.cancer<-coxph(res.c~cancer2$inst+cancer2$age+cancer2$sex+cancer2$ph.ecog+cancer2$ph.karno+cancer2$pat.karno+cancer2$meal.cal+cancer2$wt.loss)\n",
    "cox1.cancer"
   ]
  },
  {
   "cell_type": "code",
   "execution_count": 26,
   "id": "proprietary-bosnia",
   "metadata": {},
   "outputs": [
    {
     "data": {
      "text/plain": [
       "Call:\n",
       "coxph(formula = res.c ~ cancer2$inst + cancer2$age + cancer2$sex + \n",
       "    cancer2$ph.ecog + cancer2$ph.karno + cancer2$pat.karno + \n",
       "    cancer2$meal.cal + cancer2$wt.loss)\n",
       "\n",
       "  n= 167, number of events= 120 \n",
       "\n",
       "                        coef  exp(coef)   se(coef)      z Pr(>|z|)    \n",
       "cancer2$inst      -3.037e-02  9.701e-01  1.312e-02 -2.315 0.020619 *  \n",
       "cancer2$age        1.281e-02  1.013e+00  1.194e-02  1.073 0.283403    \n",
       "cancer2$sex       -5.666e-01  5.674e-01  2.014e-01 -2.814 0.004890 ** \n",
       "cancer2$ph.ecog    9.074e-01  2.478e+00  2.386e-01  3.803 0.000143 ***\n",
       "cancer2$ph.karno   2.658e-02  1.027e+00  1.163e-02  2.286 0.022231 *  \n",
       "cancer2$pat.karno -1.091e-02  9.891e-01  8.141e-03 -1.340 0.180160    \n",
       "cancer2$meal.cal   2.602e-06  1.000e+00  2.677e-04  0.010 0.992244    \n",
       "cancer2$wt.loss   -1.671e-02  9.834e-01  7.911e-03 -2.112 0.034647 *  \n",
       "---\n",
       "Signif. codes:  0 '***' 0.001 '**' 0.01 '*' 0.05 '.' 0.1 ' ' 1\n",
       "\n",
       "                  exp(coef) exp(-coef) lower .95 upper .95\n",
       "cancer2$inst         0.9701     1.0308    0.9455    0.9954\n",
       "cancer2$age          1.0129     0.9873    0.9895    1.0369\n",
       "cancer2$sex          0.5674     1.7623    0.3824    0.8420\n",
       "cancer2$ph.ecog      2.4778     0.4036    1.5523    3.9552\n",
       "cancer2$ph.karno     1.0269     0.9738    1.0038    1.0506\n",
       "cancer2$pat.karno    0.9891     1.0110    0.9735    1.0051\n",
       "cancer2$meal.cal     1.0000     1.0000    0.9995    1.0005\n",
       "cancer2$wt.loss      0.9834     1.0169    0.9683    0.9988\n",
       "\n",
       "Concordance= 0.648  (se = 0.03 )\n",
       "Likelihood ratio test= 33.7  on 8 df,   p=5e-05\n",
       "Wald test            = 31.72  on 8 df,   p=1e-04\n",
       "Score (logrank) test = 32.51  on 8 df,   p=8e-05\n"
      ]
     },
     "metadata": {},
     "output_type": "display_data"
    }
   ],
   "source": [
    "summary(cox1.cancer)"
   ]
  },
  {
   "cell_type": "markdown",
   "id": "vulnerable-halifax",
   "metadata": {},
   "source": [
    "*El modelo es signicativo, por lo que al menos una de las variables es importantes*\n",
    "\n",
    "*Voy a quitar meal.cal*"
   ]
  },
  {
   "cell_type": "code",
   "execution_count": 28,
   "id": "traditional-exchange",
   "metadata": {},
   "outputs": [
    {
     "data": {
      "text/plain": [
       "Call:\n",
       "coxph(formula = res.c ~ cancer2$inst + cancer2$age + cancer2$sex + \n",
       "    cancer2$ph.ecog + cancer2$ph.karno + cancer2$pat.karno + \n",
       "    cancer2$wt.loss)\n",
       "\n",
       "                       coef exp(coef)  se(coef)      z        p\n",
       "cancer2$inst      -0.030375  0.970082  0.013104 -2.318 0.020455\n",
       "cancer2$age        0.012791  1.012873  0.011766  1.087 0.276968\n",
       "cancer2$sex       -0.566868  0.567299  0.200033 -2.834 0.004599\n",
       "cancer2$ph.ecog    0.907317  2.477666  0.238504  3.804 0.000142\n",
       "cancer2$ph.karno   0.026580  1.026936  0.011617  2.288 0.022136\n",
       "cancer2$pat.karno -0.010896  0.989163  0.007999 -1.362 0.173133\n",
       "cancer2$wt.loss   -0.016712  0.983427  0.007912 -2.112 0.034663\n",
       "\n",
       "Likelihood ratio test=33.7  on 7 df, p=1.962e-05\n",
       "n= 167, number of events= 120 "
      ]
     },
     "metadata": {},
     "output_type": "display_data"
    }
   ],
   "source": [
    "cox2.cancer<-coxph(res.c~cancer2$inst+cancer2$age+cancer2$sex+cancer2$ph.ecog+cancer2$ph.karno+cancer2$pat.karno+cancer2$wt.loss)\n",
    "cox2.cancer"
   ]
  },
  {
   "cell_type": "code",
   "execution_count": 29,
   "id": "valued-reputation",
   "metadata": {},
   "outputs": [
    {
     "data": {
      "text/plain": [
       "Call:\n",
       "coxph(formula = res.c ~ cancer2$inst + cancer2$age + cancer2$sex + \n",
       "    cancer2$ph.ecog + cancer2$ph.karno + cancer2$pat.karno + \n",
       "    cancer2$wt.loss)\n",
       "\n",
       "  n= 167, number of events= 120 \n",
       "\n",
       "                       coef exp(coef)  se(coef)      z Pr(>|z|)    \n",
       "cancer2$inst      -0.030375  0.970082  0.013104 -2.318 0.020455 *  \n",
       "cancer2$age        0.012791  1.012873  0.011766  1.087 0.276968    \n",
       "cancer2$sex       -0.566868  0.567299  0.200033 -2.834 0.004599 ** \n",
       "cancer2$ph.ecog    0.907317  2.477666  0.238504  3.804 0.000142 ***\n",
       "cancer2$ph.karno   0.026580  1.026936  0.011617  2.288 0.022136 *  \n",
       "cancer2$pat.karno -0.010896  0.989163  0.007999 -1.362 0.173133    \n",
       "cancer2$wt.loss   -0.016712  0.983427  0.007912 -2.112 0.034663 *  \n",
       "---\n",
       "Signif. codes:  0 '***' 0.001 '**' 0.01 '*' 0.05 '.' 0.1 ' ' 1\n",
       "\n",
       "                  exp(coef) exp(-coef) lower .95 upper .95\n",
       "cancer2$inst         0.9701     1.0308    0.9455    0.9953\n",
       "cancer2$age          1.0129     0.9873    0.9898    1.0365\n",
       "cancer2$sex          0.5673     1.7627    0.3833    0.8396\n",
       "cancer2$ph.ecog      2.4777     0.4036    1.5525    3.9542\n",
       "cancer2$ph.karno     1.0269     0.9738    1.0038    1.0506\n",
       "cancer2$pat.karno    0.9892     1.0110    0.9738    1.0048\n",
       "cancer2$wt.loss      0.9834     1.0169    0.9683    0.9988\n",
       "\n",
       "Concordance= 0.648  (se = 0.03 )\n",
       "Likelihood ratio test= 33.7  on 7 df,   p=2e-05\n",
       "Wald test            = 31.72  on 7 df,   p=5e-05\n",
       "Score (logrank) test = 32.47  on 7 df,   p=3e-05\n"
      ]
     },
     "metadata": {},
     "output_type": "display_data"
    }
   ],
   "source": [
    "summary(cox2.cancer)"
   ]
  },
  {
   "cell_type": "markdown",
   "id": "personalized-ladder",
   "metadata": {},
   "source": [
    "*La prueba es significativa, pero voy a quitar la edad*"
   ]
  },
  {
   "cell_type": "code",
   "execution_count": 30,
   "id": "spread-portrait",
   "metadata": {},
   "outputs": [
    {
     "data": {
      "text/plain": [
       "Call:\n",
       "coxph(formula = res.c ~ cancer2$inst + cancer2$sex + cancer2$ph.ecog + \n",
       "    cancer2$ph.karno + cancer2$pat.karno + cancer2$wt.loss)\n",
       "\n",
       "  n= 167, number of events= 120 \n",
       "\n",
       "                       coef exp(coef)  se(coef)      z Pr(>|z|)    \n",
       "cancer2$inst      -0.029154  0.971267  0.012955 -2.250 0.024420 *  \n",
       "cancer2$sex       -0.562968  0.569516  0.199296 -2.825 0.004731 ** \n",
       "cancer2$ph.ecog    0.901508  2.463314  0.240839  3.743 0.000182 ***\n",
       "cancer2$ph.karno   0.023804  1.024090  0.011400  2.088 0.036782 *  \n",
       "cancer2$pat.karno -0.011548  0.988519  0.008026 -1.439 0.150201    \n",
       "cancer2$wt.loss   -0.016810  0.983330  0.007811 -2.152 0.031383 *  \n",
       "---\n",
       "Signif. codes:  0 '***' 0.001 '**' 0.01 '*' 0.05 '.' 0.1 ' ' 1\n",
       "\n",
       "                  exp(coef) exp(-coef) lower .95 upper .95\n",
       "cancer2$inst         0.9713     1.0296    0.9469    0.9962\n",
       "cancer2$sex          0.5695     1.7559    0.3854    0.8417\n",
       "cancer2$ph.ecog      2.4633     0.4060    1.5364    3.9493\n",
       "cancer2$ph.karno     1.0241     0.9765    1.0015    1.0472\n",
       "cancer2$pat.karno    0.9885     1.0116    0.9731    1.0042\n",
       "cancer2$wt.loss      0.9833     1.0170    0.9684    0.9985\n",
       "\n",
       "Concordance= 0.653  (se = 0.03 )\n",
       "Likelihood ratio test= 32.49  on 6 df,   p=1e-05\n",
       "Wald test            = 31.2  on 6 df,   p=2e-05\n",
       "Score (logrank) test = 31.8  on 6 df,   p=2e-05\n"
      ]
     },
     "metadata": {},
     "output_type": "display_data"
    }
   ],
   "source": [
    "summary(coxph(res.c~cancer2$inst+cancer2$sex+cancer2$ph.ecog+cancer2$ph.karno+cancer2$pat.karno+cancer2$wt.loss))\n"
   ]
  },
  {
   "cell_type": "code",
   "execution_count": 32,
   "id": "economic-gauge",
   "metadata": {},
   "outputs": [
    {
     "data": {
      "text/plain": [
       "Call:\n",
       "coxph(formula = res.c ~ cancer2$inst + cancer2$sex + cancer2$ph.ecog + \n",
       "    cancer2$ph.karno + cancer2$wt.loss)\n",
       "\n",
       "  n= 167, number of events= 120 \n",
       "\n",
       "                      coef exp(coef)  se(coef)      z Pr(>|z|)    \n",
       "cancer2$inst     -0.030042  0.970404  0.012931 -2.323  0.02016 *  \n",
       "cancer2$sex      -0.571959  0.564419  0.198865 -2.876  0.00403 ** \n",
       "cancer2$ph.ecog   0.993224  2.699926  0.232115  4.279 1.88e-05 ***\n",
       "cancer2$ph.karno  0.021492  1.021725  0.011222  1.915  0.05547 .  \n",
       "cancer2$wt.loss  -0.014800  0.985309  0.007664 -1.931  0.05348 .  \n",
       "---\n",
       "Signif. codes:  0 '***' 0.001 '**' 0.01 '*' 0.05 '.' 0.1 ' ' 1\n",
       "\n",
       "                 exp(coef) exp(-coef) lower .95 upper .95\n",
       "cancer2$inst        0.9704     1.0305    0.9461    0.9953\n",
       "cancer2$sex         0.5644     1.7717    0.3822    0.8334\n",
       "cancer2$ph.ecog     2.6999     0.3704    1.7131    4.2553\n",
       "cancer2$ph.karno    1.0217     0.9787    0.9995    1.0444\n",
       "cancer2$wt.loss     0.9853     1.0149    0.9706    1.0002\n",
       "\n",
       "Concordance= 0.641  (se = 0.032 )\n",
       "Likelihood ratio test= 30.44  on 5 df,   p=1e-05\n",
       "Wald test            = 29.36  on 5 df,   p=2e-05\n",
       "Score (logrank) test = 29.49  on 5 df,   p=2e-05\n"
      ]
     },
     "metadata": {},
     "output_type": "display_data"
    }
   ],
   "source": [
    "cox4.cancer<-coxph(res.c~cancer2$inst+cancer2$sex+cancer2$ph.ecog+cancer2$ph.karno+cancer2$wt.loss)\n",
    "summary(coxph(res.c~cancer2$inst+cancer2$sex+cancer2$ph.ecog+cancer2$ph.karno+cancer2$wt.loss))"
   ]
  },
  {
   "cell_type": "markdown",
   "id": "particular-population",
   "metadata": {},
   "source": [
    "*Es significativa para un valor de 0.1*"
   ]
  },
  {
   "cell_type": "markdown",
   "id": "complete-output",
   "metadata": {},
   "source": [
    "*Hasta aquí el modelo elegido al 90%.*"
   ]
  },
  {
   "cell_type": "markdown",
   "id": "unable-boulder",
   "metadata": {},
   "source": [
    "## Residuos."
   ]
  },
  {
   "cell_type": "code",
   "execution_count": 33,
   "id": "central-award",
   "metadata": {},
   "outputs": [
    {
     "data": {
      "image/png": "[encoded data removed]",
      "text/plain": [
       "plot without title"
      ]
     },
     "metadata": {},
     "output_type": "display_data"
    }
   ],
   "source": [
    "res<-resid(cox4.cancer, type=\"martingale\")# Calculo de residuales\n",
    "plot(res)"
   ]
  },
  {
   "cell_type": "markdown",
   "id": "relevant-siemens",
   "metadata": {},
   "source": [
    "**Residuos de desvio**"
   ]
  },
  {
   "cell_type": "code",
   "execution_count": 36,
   "id": "brief-hanging",
   "metadata": {},
   "outputs": [],
   "source": [
    "d<-resid(cox4.cancer, type=\"deviance\")"
   ]
  },
  {
   "cell_type": "code",
   "execution_count": 37,
   "id": "emotional-demand",
   "metadata": {},
   "outputs": [
    {
     "data": {
      "text/html": [
       "<strong>41:</strong> 3.15736338252216"
      ],
      "text/latex": [
       "\\textbf{41:} 3.15736338252216"
      ],
      "text/markdown": [
       "**41:** 3.15736338252216"
      ],
      "text/plain": [
       "      41 \n",
       "3.157363 "
      ]
     },
     "metadata": {},
     "output_type": "display_data"
    },
    {
     "data": {
      "image/png": "[encoded data removed]",
      "text/plain": [
       "plot without title"
      ]
     },
     "metadata": {},
     "output_type": "display_data"
    }
   ],
   "source": [
    "d[abs(d)>3]#detectar atipicos\n",
    "plot(d, ylim=c(-3.5, 3.5))#plot de residuales\n",
    "abline(h=c(-3,3), col=\"purple\")#impresión de bandas para atipicos"
   ]
  },
  {
   "cell_type": "markdown",
   "id": "simple-harassment",
   "metadata": {},
   "source": [
    "**Elimando el atípico.**"
   ]
  },
  {
   "cell_type": "code",
   "execution_count": 38,
   "id": "expanded-rocket",
   "metadata": {},
   "outputs": [
    {
     "data": {
      "image/png": "[encoded data removed]",
      "text/plain": [
       "plot without title"
      ]
     },
     "metadata": {},
     "output_type": "display_data"
    }
   ],
   "source": [
    "nuevo<-d[-41]\n",
    "plot(nuevo,ylim=c(-3.5, 3.5))\n",
    "abline(h=c(-3,3), col=\"purple\")"
   ]
  },
  {
   "cell_type": "code",
   "execution_count": 42,
   "id": "operating-domestic",
   "metadata": {
    "scrolled": true
   },
   "outputs": [
    {
     "data": {
      "image/png": "[encoded data removed]",
      "text/plain": [
       "plot without title"
      ]
     },
     "metadata": {},
     "output_type": "display_data"
    }
   ],
   "source": [
    "sin41<-cox4.cancer<-coxph(res.c[-41]~cancer2$inst[-41]+cancer2$sex[-41]+cancer2$ph.ecog[-41]+cancer2$ph.karno[-41]+cancer2$wt.loss[-41])\n",
    "plot(resid(sin41, type=\"deviance\"),ylim=c(-3.5, 3.5))\n",
    "abline(h=c(-3,3), col=\"purple\")"
   ]
  },
  {
   "cell_type": "markdown",
   "id": "preceding-illustration",
   "metadata": {},
   "source": [
    "**Residuales de Schoenfeld.**"
   ]
  },
  {
   "cell_type": "code",
   "execution_count": 44,
   "id": "composite-gross",
   "metadata": {},
   "outputs": [
    {
     "data": {
      "text/html": [
       "<table>\n",
       "<thead><tr><th></th><th scope=col>cancer2$inst[-41]</th><th scope=col>cancer2$sex[-41]</th><th scope=col>cancer2$ph.ecog[-41]</th><th scope=col>cancer2$ph.karno[-41]</th><th scope=col>cancer2$wt.loss[-41]</th></tr></thead>\n",
       "<tbody>\n",
       "\t<tr><th scope=row>11</th><td>-4.229700   </td><td>-0.2516312  </td><td> 0.6887517  </td><td> -8.00961047</td><td> -9.5388505 </td></tr>\n",
       "\t<tr><th scope=row>12</th><td>-8.311822   </td><td>-0.2565167  </td><td> 0.7021241  </td><td> -8.16512027</td><td> 10.2759489 </td></tr>\n",
       "\t<tr><th scope=row>13</th><td>-8.448126   </td><td>-0.2607233  </td><td> 0.7136382  </td><td> -8.29901888</td><td> 10.4444627 </td></tr>\n",
       "\t<tr><th scope=row>15</th><td> 3.411025   </td><td>-0.2650702  </td><td>-1.2744639  </td><td> 11.56261772</td><td>  0.6185955 </td></tr>\n",
       "\t<tr><th scope=row>26</th><td>-8.579707   </td><td>-0.2657904  </td><td> 0.7220731  </td><td>-18.40596429</td><td> 10.6202763 </td></tr>\n",
       "\t<tr><th scope=row>30</th><td> 2.302766   </td><td>-0.2694313  </td><td> 0.7319643  </td><td>  1.34190618</td><td> -2.2342444 </td></tr>\n",
       "\t<tr><th scope=row>31</th><td> 2.345912   </td><td>-0.2744795  </td><td>-1.2543213  </td><td> 21.36704883</td><td> 17.7238936 </td></tr>\n",
       "\t<tr><th scope=row>53</th><td> 2.368396   </td><td>-0.2764252  </td><td> 0.7441037  </td><td> -8.59773746</td><td>  0.7697824 </td></tr>\n",
       "\t<tr><th scope=row>53</th><td>11.368396   </td><td>-0.2764252  </td><td>-1.2558963  </td><td> 11.40226254</td><td> -9.2302176 </td></tr>\n",
       "\t<tr><th scope=row>54</th><td> 1.416922   </td><td>-0.2800243  </td><td> 0.7498610  </td><td>-18.67037126</td><td>-12.2398497 </td></tr>\n",
       "\t<tr><th scope=row>59</th><td>12.438480   </td><td>-0.2842849  </td><td>-0.2387298  </td><td>-18.95444170</td><td> -4.4260795 </td></tr>\n",
       "\t<tr><th scope=row>60</th><td> 1.489119   </td><td> 0.7151345  </td><td>-0.2403695  </td><td> 10.99593568</td><td> -9.4731921 </td></tr>\n",
       "\t<tr><th scope=row>60</th><td> 2.489119   </td><td>-0.2848655  </td><td>-0.2403695  </td><td>  0.99593568</td><td> -9.4731921 </td></tr>\n",
       "\t<tr><th scope=row>61</th><td>-8.489921   </td><td> 0.7164014  </td><td> 0.7572068  </td><td>-18.95262982</td><td>  0.4312868 </td></tr>\n",
       "\t<tr><th scope=row>62</th><td>-8.570069   </td><td> 0.7231644  </td><td>-0.2356449  </td><td>  0.86845077</td><td> -9.5646417 </td></tr>\n",
       "\t<tr><th scope=row>65</th><td>-6.622496   </td><td>-0.2724117  </td><td> 0.7629135  </td><td> -9.12623656</td><td> -1.6231526 </td></tr>\n",
       "\t<tr><th scope=row>79</th><td> 5.236228   </td><td> 0.7217770  </td><td>-0.2208114  </td><td> 10.67907482</td><td> 27.3422209 </td></tr>\n",
       "\t<tr><th scope=row>81</th><td>-3.748578   </td><td> 0.7238714  </td><td>-1.2214521  </td><td> 20.71006254</td><td>-17.5784395 </td></tr>\n",
       "\t<tr><th scope=row>88</th><td>-4.761257   </td><td>-0.2736803  </td><td>-0.2255833  </td><td> 10.78010777</td><td> -1.6378930 </td></tr>\n",
       "\t<tr><th scope=row>92</th><td>-2.815102   </td><td>-0.2767754  </td><td>-0.2281344  </td><td>  0.90201996</td><td>  3.3435841 </td></tr>\n",
       "\t<tr><th scope=row>93</th><td>-8.837743   </td><td>-0.2790014  </td><td> 0.7700307  </td><td>-29.09072518</td><td> 14.3704762 </td></tr>\n",
       "\t<tr><th scope=row>95</th><td>-2.950530   </td><td> 0.7198195  </td><td> 0.7817841  </td><td>-19.52301513</td><td>-33.5684031 </td></tr>\n",
       "\t<tr><th scope=row>95</th><td> 3.049470   </td><td>-0.2801805  </td><td>-0.2182159  </td><td> -9.52301513</td><td>  5.4315969 </td></tr>\n",
       "\t<tr><th scope=row>107</th><td> 6.127081   </td><td> 0.7296452  </td><td> 0.7928078  </td><td>-29.85955198</td><td>-24.9301240 </td></tr>\n",
       "\t<tr><th scope=row>110</th><td> 5.175204   </td><td>-0.2646241  </td><td>-0.2009654  </td><td> -0.09407153</td><td>  1.8740726 </td></tr>\n",
       "\t<tr><th scope=row>118</th><td> 3.210198   </td><td>-0.2664134  </td><td> 1.7976757  </td><td>-20.09470763</td><td>  9.8867448 </td></tr>\n",
       "\t<tr><th scope=row>135</th><td>22.315637   </td><td>-0.2751638  </td><td>-0.1432794  </td><td>  9.24527806</td><td> -9.7885232 </td></tr>\n",
       "\t<tr><th scope=row>142</th><td>-3.544273   </td><td>-0.2768912  </td><td>-0.1441788  </td><td>  9.30331652</td><td> -7.8499720 </td></tr>\n",
       "\t<tr><th scope=row>145</th><td>-8.591879   </td><td> 0.7193897  </td><td>-0.1461154  </td><td> -0.57172304</td><td>  3.0445886 </td></tr>\n",
       "\t<tr><th scope=row>147</th><td>11.357779   </td><td>-0.2763953  </td><td>-1.1469715  </td><td> 19.42492713</td><td> -5.9375725 </td></tr>\n",
       "\t<tr><th scope=row>...</th><td>...</td><td>...</td><td>...</td><td>...</td><td>...</td></tr>\n",
       "\t<tr><th scope=row>428</th><td> 11.6735906  </td><td>-0.3151090   </td><td>-1.0062620711</td><td> 17.98111666 </td><td> -9.7544913  </td></tr>\n",
       "\t<tr><th scope=row>429</th><td> 10.8432507  </td><td>-0.3196887   </td><td>-0.0208867516</td><td> 18.24244827 </td><td> -4.8962598  </td></tr>\n",
       "\t<tr><th scope=row>433</th><td>  0.2762881  </td><td> 0.6675442   </td><td>-1.0217208876</td><td>  8.97098108 </td><td> 16.9082025  </td></tr>\n",
       "\t<tr><th scope=row>444</th><td> 12.2780490  </td><td> 0.6717986   </td><td> 0.9717674803</td><td>-10.97184506 </td><td> -1.9840382  </td></tr>\n",
       "\t<tr><th scope=row>450</th><td> -3.3454338  </td><td> 0.6923999   </td><td> 0.0015675915</td><td> -1.30830642 </td><td> -7.0448804  </td></tr>\n",
       "\t<tr><th scope=row>455</th><td> -6.4272598  </td><td>-0.2906647   </td><td>-0.9983940668</td><td>  8.65969368 </td><td>  4.7828087  </td></tr>\n",
       "\t<tr><th scope=row>457</th><td> -8.5466373  </td><td>-0.2960634   </td><td>-0.0169378641</td><td>  8.82053559 </td><td>-15.1283573  </td></tr>\n",
       "\t<tr><th scope=row>460</th><td> -5.2075196  </td><td>-0.3289737   </td><td>-0.0188206690</td><td> -0.48813572 </td><td> -0.7979658  </td></tr>\n",
       "\t<tr><th scope=row>473</th><td>  1.5360594  </td><td> 0.6548275   </td><td>-0.0197474086</td><td>  9.48782822 </td><td>-11.8372581  </td></tr>\n",
       "\t<tr><th scope=row>477</th><td>  0.5867023  </td><td>-0.3235833   </td><td>-0.0203984676</td><td>  9.80063563 </td><td>-11.2275247  </td></tr>\n",
       "\t<tr><th scope=row>519</th><td> -7.1216604  </td><td>-0.3304113   </td><td>-0.0004082277</td><td>  0.01371531 </td><td> -1.4142580  </td></tr>\n",
       "\t<tr><th scope=row>520</th><td>  1.4336139  </td><td> 0.6489555   </td><td>-0.0004337202</td><td> 10.01457179 </td><td> -5.5025741  </td></tr>\n",
       "\t<tr><th scope=row>524</th><td> -9.5155144  </td><td>-0.3280163   </td><td> 0.9995508892</td><td>-19.63006123 </td><td> 18.3021672  </td></tr>\n",
       "\t<tr><th scope=row>550</th><td> -8.1196322  </td><td> 0.6545315   </td><td> 0.1026941164</td><td>-11.64686597 </td><td>-10.1677300  </td></tr>\n",
       "\t<tr><th scope=row>558</th><td>-10.1497631  </td><td>-0.2773265   </td><td>-0.8239078900</td><td>  7.76766987 </td><td>  7.5295166  </td></tr>\n",
       "\t<tr><th scope=row>567</th><td>  0.2222376  </td><td>-0.2690781   </td><td> 0.1251142109</td><td> -1.49764330 </td><td> 50.9445775  </td></tr>\n",
       "\t<tr><th scope=row>574</th><td> -7.7707749  </td><td>-0.2775384   </td><td>-0.8709519638</td><td> 18.45526799 </td><td>-20.4536295  </td></tr>\n",
       "\t<tr><th scope=row>583</th><td> -5.3305179  </td><td>-0.2975300   </td><td> 0.0663117846</td><td>-20.21536555 </td><td> -1.9269415  </td></tr>\n",
       "\t<tr><th scope=row>613</th><td>  9.3451223  </td><td>-0.3156346   </td><td> 0.0703468286</td><td>  8.55453804 </td><td>-14.0441951  </td></tr>\n",
       "\t<tr><th scope=row>641</th><td> 10.2504241  </td><td> 0.6537886   </td><td> 0.0771616250</td><td> -0.61674748 </td><td> -9.4047160  </td></tr>\n",
       "\t<tr><th scope=row>643</th><td>  1.6668561  </td><td>-0.3196507   </td><td>-0.9197036199</td><td>  9.35819664 </td><td> -8.7867904  </td></tr>\n",
       "\t<tr><th scope=row>655</th><td> -0.2585098  </td><td>-0.3339632   </td><td>-0.9608837212</td><td> 19.77721368 </td><td>-12.1802225  </td></tr>\n",
       "\t<tr><th scope=row>687</th><td> -8.2754673  </td><td> 0.6441297   </td><td>-0.0239152174</td><td>  1.07454793 </td><td> -1.9792137  </td></tr>\n",
       "\t<tr><th scope=row>689</th><td> -5.8946571  </td><td>-0.3076751   </td><td>-0.0257046098</td><td> 11.15494812 </td><td>  2.8726969  </td></tr>\n",
       "\t<tr><th scope=row>705</th><td>-11.8825420  </td><td> 0.6407617   </td><td>-1.0300124421</td><td> 23.02440448 </td><td>-11.6458682  </td></tr>\n",
       "\t<tr><th scope=row>707</th><td>  2.3625474  </td><td>-0.3185300   </td><td> 0.9045497608</td><td>-25.51283036 </td><td>  9.6142573  </td></tr>\n",
       "\t<tr><th scope=row>731</th><td>-12.2517746  </td><td> 0.6294710   </td><td> 0.0522145126</td><td>  0.32228460 </td><td>  4.1837529  </td></tr>\n",
       "\t<tr><th scope=row>765</th><td>  7.1593127  </td><td> 0.7584457   </td><td> 0.0629129370</td><td> 11.15615093 </td><td> -4.1162251  </td></tr>\n",
       "\t<tr><th scope=row>791</th><td>-10.0452527  </td><td>-0.1572873   </td><td>-0.9300971287</td><td> 22.39565374 </td><td> -3.5735578  </td></tr>\n",
       "\t<tr><th scope=row>814</th><td>  6.1775524  </td><td>-0.2455063   </td><td> 0.8696456992</td><td> -1.47139309 </td><td> 16.1364557  </td></tr>\n",
       "</tbody>\n",
       "</table>\n"
      ],
      "text/latex": [
       "\\begin{tabular}{r|lllll}\n",
       "  & cancer2\\$inst{[}-41{]} & cancer2\\$sex{[}-41{]} & cancer2\\$ph.ecog{[}-41{]} & cancer2\\$ph.karno{[}-41{]} & cancer2\\$wt.loss{[}-41{]}\\\\\n",
       "\\hline\n",
       "\t11 & -4.229700    & -0.2516312   &  0.6887517   &  -8.00961047 &  -9.5388505 \\\\\n",
       "\t12 & -8.311822    & -0.2565167   &  0.7021241   &  -8.16512027 &  10.2759489 \\\\\n",
       "\t13 & -8.448126    & -0.2607233   &  0.7136382   &  -8.29901888 &  10.4444627 \\\\\n",
       "\t15 &  3.411025    & -0.2650702   & -1.2744639   &  11.56261772 &   0.6185955 \\\\\n",
       "\t26 & -8.579707    & -0.2657904   &  0.7220731   & -18.40596429 &  10.6202763 \\\\\n",
       "\t30 &  2.302766    & -0.2694313   &  0.7319643   &   1.34190618 &  -2.2342444 \\\\\n",
       "\t31 &  2.345912    & -0.2744795   & -1.2543213   &  21.36704883 &  17.7238936 \\\\\n",
       "\t53 &  2.368396    & -0.2764252   &  0.7441037   &  -8.59773746 &   0.7697824 \\\\\n",
       "\t53 & 11.368396    & -0.2764252   & -1.2558963   &  11.40226254 &  -9.2302176 \\\\\n",
       "\t54 &  1.416922    & -0.2800243   &  0.7498610   & -18.67037126 & -12.2398497 \\\\\n",
       "\t59 & 12.438480    & -0.2842849   & -0.2387298   & -18.95444170 &  -4.4260795 \\\\\n",
       "\t60 &  1.489119    &  0.7151345   & -0.2403695   &  10.99593568 &  -9.4731921 \\\\\n",
       "\t60 &  2.489119    & -0.2848655   & -0.2403695   &   0.99593568 &  -9.4731921 \\\\\n",
       "\t61 & -8.489921    &  0.7164014   &  0.7572068   & -18.95262982 &   0.4312868 \\\\\n",
       "\t62 & -8.570069    &  0.7231644   & -0.2356449   &   0.86845077 &  -9.5646417 \\\\\n",
       "\t65 & -6.622496    & -0.2724117   &  0.7629135   &  -9.12623656 &  -1.6231526 \\\\\n",
       "\t79 &  5.236228    &  0.7217770   & -0.2208114   &  10.67907482 &  27.3422209 \\\\\n",
       "\t81 & -3.748578    &  0.7238714   & -1.2214521   &  20.71006254 & -17.5784395 \\\\\n",
       "\t88 & -4.761257    & -0.2736803   & -0.2255833   &  10.78010777 &  -1.6378930 \\\\\n",
       "\t92 & -2.815102    & -0.2767754   & -0.2281344   &   0.90201996 &   3.3435841 \\\\\n",
       "\t93 & -8.837743    & -0.2790014   &  0.7700307   & -29.09072518 &  14.3704762 \\\\\n",
       "\t95 & -2.950530    &  0.7198195   &  0.7817841   & -19.52301513 & -33.5684031 \\\\\n",
       "\t95 &  3.049470    & -0.2801805   & -0.2182159   &  -9.52301513 &   5.4315969 \\\\\n",
       "\t107 &  6.127081    &  0.7296452   &  0.7928078   & -29.85955198 & -24.9301240 \\\\\n",
       "\t110 &  5.175204    & -0.2646241   & -0.2009654   &  -0.09407153 &   1.8740726 \\\\\n",
       "\t118 &  3.210198    & -0.2664134   &  1.7976757   & -20.09470763 &   9.8867448 \\\\\n",
       "\t135 & 22.315637    & -0.2751638   & -0.1432794   &   9.24527806 &  -9.7885232 \\\\\n",
       "\t142 & -3.544273    & -0.2768912   & -0.1441788   &   9.30331652 &  -7.8499720 \\\\\n",
       "\t145 & -8.591879    &  0.7193897   & -0.1461154   &  -0.57172304 &   3.0445886 \\\\\n",
       "\t147 & 11.357779    & -0.2763953   & -1.1469715   &  19.42492713 &  -5.9375725 \\\\\n",
       "\t... & ... & ... & ... & ... & ...\\\\\n",
       "\t428 &  11.6735906   & -0.3151090    & -1.0062620711 &  17.98111666  &  -9.7544913  \\\\\n",
       "\t429 &  10.8432507   & -0.3196887    & -0.0208867516 &  18.24244827  &  -4.8962598  \\\\\n",
       "\t433 &   0.2762881   &  0.6675442    & -1.0217208876 &   8.97098108  &  16.9082025  \\\\\n",
       "\t444 &  12.2780490   &  0.6717986    &  0.9717674803 & -10.97184506  &  -1.9840382  \\\\\n",
       "\t450 &  -3.3454338   &  0.6923999    &  0.0015675915 &  -1.30830642  &  -7.0448804  \\\\\n",
       "\t455 &  -6.4272598   & -0.2906647    & -0.9983940668 &   8.65969368  &   4.7828087  \\\\\n",
       "\t457 &  -8.5466373   & -0.2960634    & -0.0169378641 &   8.82053559  & -15.1283573  \\\\\n",
       "\t460 &  -5.2075196   & -0.3289737    & -0.0188206690 &  -0.48813572  &  -0.7979658  \\\\\n",
       "\t473 &   1.5360594   &  0.6548275    & -0.0197474086 &   9.48782822  & -11.8372581  \\\\\n",
       "\t477 &   0.5867023   & -0.3235833    & -0.0203984676 &   9.80063563  & -11.2275247  \\\\\n",
       "\t519 &  -7.1216604   & -0.3304113    & -0.0004082277 &   0.01371531  &  -1.4142580  \\\\\n",
       "\t520 &   1.4336139   &  0.6489555    & -0.0004337202 &  10.01457179  &  -5.5025741  \\\\\n",
       "\t524 &  -9.5155144   & -0.3280163    &  0.9995508892 & -19.63006123  &  18.3021672  \\\\\n",
       "\t550 &  -8.1196322   &  0.6545315    &  0.1026941164 & -11.64686597  & -10.1677300  \\\\\n",
       "\t558 & -10.1497631   & -0.2773265    & -0.8239078900 &   7.76766987  &   7.5295166  \\\\\n",
       "\t567 &   0.2222376   & -0.2690781    &  0.1251142109 &  -1.49764330  &  50.9445775  \\\\\n",
       "\t574 &  -7.7707749   & -0.2775384    & -0.8709519638 &  18.45526799  & -20.4536295  \\\\\n",
       "\t583 &  -5.3305179   & -0.2975300    &  0.0663117846 & -20.21536555  &  -1.9269415  \\\\\n",
       "\t613 &   9.3451223   & -0.3156346    &  0.0703468286 &   8.55453804  & -14.0441951  \\\\\n",
       "\t641 &  10.2504241   &  0.6537886    &  0.0771616250 &  -0.61674748  &  -9.4047160  \\\\\n",
       "\t643 &   1.6668561   & -0.3196507    & -0.9197036199 &   9.35819664  &  -8.7867904  \\\\\n",
       "\t655 &  -0.2585098   & -0.3339632    & -0.9608837212 &  19.77721368  & -12.1802225  \\\\\n",
       "\t687 &  -8.2754673   &  0.6441297    & -0.0239152174 &   1.07454793  &  -1.9792137  \\\\\n",
       "\t689 &  -5.8946571   & -0.3076751    & -0.0257046098 &  11.15494812  &   2.8726969  \\\\\n",
       "\t705 & -11.8825420   &  0.6407617    & -1.0300124421 &  23.02440448  & -11.6458682  \\\\\n",
       "\t707 &   2.3625474   & -0.3185300    &  0.9045497608 & -25.51283036  &   9.6142573  \\\\\n",
       "\t731 & -12.2517746   &  0.6294710    &  0.0522145126 &   0.32228460  &   4.1837529  \\\\\n",
       "\t765 &   7.1593127   &  0.7584457    &  0.0629129370 &  11.15615093  &  -4.1162251  \\\\\n",
       "\t791 & -10.0452527   & -0.1572873    & -0.9300971287 &  22.39565374  &  -3.5735578  \\\\\n",
       "\t814 &   6.1775524   & -0.2455063    &  0.8696456992 &  -1.47139309  &  16.1364557  \\\\\n",
       "\\end{tabular}\n"
      ],
      "text/markdown": [
       "\n",
       "| <!--/--> | cancer2$inst[-41] | cancer2$sex[-41] | cancer2$ph.ecog[-41] | cancer2$ph.karno[-41] | cancer2$wt.loss[-41] |\n",
       "|---|---|---|---|---|---|\n",
       "| 11 | -4.229700    | -0.2516312   |  0.6887517   |  -8.00961047 |  -9.5388505  |\n",
       "| 12 | -8.311822    | -0.2565167   |  0.7021241   |  -8.16512027 |  10.2759489  |\n",
       "| 13 | -8.448126    | -0.2607233   |  0.7136382   |  -8.29901888 |  10.4444627  |\n",
       "| 15 |  3.411025    | -0.2650702   | -1.2744639   |  11.56261772 |   0.6185955  |\n",
       "| 26 | -8.579707    | -0.2657904   |  0.7220731   | -18.40596429 |  10.6202763  |\n",
       "| 30 |  2.302766    | -0.2694313   |  0.7319643   |   1.34190618 |  -2.2342444  |\n",
       "| 31 |  2.345912    | -0.2744795   | -1.2543213   |  21.36704883 |  17.7238936  |\n",
       "| 53 |  2.368396    | -0.2764252   |  0.7441037   |  -8.59773746 |   0.7697824  |\n",
       "| 53 | 11.368396    | -0.2764252   | -1.2558963   |  11.40226254 |  -9.2302176  |\n",
       "| 54 |  1.416922    | -0.2800243   |  0.7498610   | -18.67037126 | -12.2398497  |\n",
       "| 59 | 12.438480    | -0.2842849   | -0.2387298   | -18.95444170 |  -4.4260795  |\n",
       "| 60 |  1.489119    |  0.7151345   | -0.2403695   |  10.99593568 |  -9.4731921  |\n",
       "| 60 |  2.489119    | -0.2848655   | -0.2403695   |   0.99593568 |  -9.4731921  |\n",
       "| 61 | -8.489921    |  0.7164014   |  0.7572068   | -18.95262982 |   0.4312868  |\n",
       "| 62 | -8.570069    |  0.7231644   | -0.2356449   |   0.86845077 |  -9.5646417  |\n",
       "| 65 | -6.622496    | -0.2724117   |  0.7629135   |  -9.12623656 |  -1.6231526  |\n",
       "| 79 |  5.236228    |  0.7217770   | -0.2208114   |  10.67907482 |  27.3422209  |\n",
       "| 81 | -3.748578    |  0.7238714   | -1.2214521   |  20.71006254 | -17.5784395  |\n",
       "| 88 | -4.761257    | -0.2736803   | -0.2255833   |  10.78010777 |  -1.6378930  |\n",
       "| 92 | -2.815102    | -0.2767754   | -0.2281344   |   0.90201996 |   3.3435841  |\n",
       "| 93 | -8.837743    | -0.2790014   |  0.7700307   | -29.09072518 |  14.3704762  |\n",
       "| 95 | -2.950530    |  0.7198195   |  0.7817841   | -19.52301513 | -33.5684031  |\n",
       "| 95 |  3.049470    | -0.2801805   | -0.2182159   |  -9.52301513 |   5.4315969  |\n",
       "| 107 |  6.127081    |  0.7296452   |  0.7928078   | -29.85955198 | -24.9301240  |\n",
       "| 110 |  5.175204    | -0.2646241   | -0.2009654   |  -0.09407153 |   1.8740726  |\n",
       "| 118 |  3.210198    | -0.2664134   |  1.7976757   | -20.09470763 |   9.8867448  |\n",
       "| 135 | 22.315637    | -0.2751638   | -0.1432794   |   9.24527806 |  -9.7885232  |\n",
       "| 142 | -3.544273    | -0.2768912   | -0.1441788   |   9.30331652 |  -7.8499720  |\n",
       "| 145 | -8.591879    |  0.7193897   | -0.1461154   |  -0.57172304 |   3.0445886  |\n",
       "| 147 | 11.357779    | -0.2763953   | -1.1469715   |  19.42492713 |  -5.9375725  |\n",
       "| ... | ... | ... | ... | ... | ... |\n",
       "| 428 |  11.6735906   | -0.3151090    | -1.0062620711 |  17.98111666  |  -9.7544913   |\n",
       "| 429 |  10.8432507   | -0.3196887    | -0.0208867516 |  18.24244827  |  -4.8962598   |\n",
       "| 433 |   0.2762881   |  0.6675442    | -1.0217208876 |   8.97098108  |  16.9082025   |\n",
       "| 444 |  12.2780490   |  0.6717986    |  0.9717674803 | -10.97184506  |  -1.9840382   |\n",
       "| 450 |  -3.3454338   |  0.6923999    |  0.0015675915 |  -1.30830642  |  -7.0448804   |\n",
       "| 455 |  -6.4272598   | -0.2906647    | -0.9983940668 |   8.65969368  |   4.7828087   |\n",
       "| 457 |  -8.5466373   | -0.2960634    | -0.0169378641 |   8.82053559  | -15.1283573   |\n",
       "| 460 |  -5.2075196   | -0.3289737    | -0.0188206690 |  -0.48813572  |  -0.7979658   |\n",
       "| 473 |   1.5360594   |  0.6548275    | -0.0197474086 |   9.48782822  | -11.8372581   |\n",
       "| 477 |   0.5867023   | -0.3235833    | -0.0203984676 |   9.80063563  | -11.2275247   |\n",
       "| 519 |  -7.1216604   | -0.3304113    | -0.0004082277 |   0.01371531  |  -1.4142580   |\n",
       "| 520 |   1.4336139   |  0.6489555    | -0.0004337202 |  10.01457179  |  -5.5025741   |\n",
       "| 524 |  -9.5155144   | -0.3280163    |  0.9995508892 | -19.63006123  |  18.3021672   |\n",
       "| 550 |  -8.1196322   |  0.6545315    |  0.1026941164 | -11.64686597  | -10.1677300   |\n",
       "| 558 | -10.1497631   | -0.2773265    | -0.8239078900 |   7.76766987  |   7.5295166   |\n",
       "| 567 |   0.2222376   | -0.2690781    |  0.1251142109 |  -1.49764330  |  50.9445775   |\n",
       "| 574 |  -7.7707749   | -0.2775384    | -0.8709519638 |  18.45526799  | -20.4536295   |\n",
       "| 583 |  -5.3305179   | -0.2975300    |  0.0663117846 | -20.21536555  |  -1.9269415   |\n",
       "| 613 |   9.3451223   | -0.3156346    |  0.0703468286 |   8.55453804  | -14.0441951   |\n",
       "| 641 |  10.2504241   |  0.6537886    |  0.0771616250 |  -0.61674748  |  -9.4047160   |\n",
       "| 643 |   1.6668561   | -0.3196507    | -0.9197036199 |   9.35819664  |  -8.7867904   |\n",
       "| 655 |  -0.2585098   | -0.3339632    | -0.9608837212 |  19.77721368  | -12.1802225   |\n",
       "| 687 |  -8.2754673   |  0.6441297    | -0.0239152174 |   1.07454793  |  -1.9792137   |\n",
       "| 689 |  -5.8946571   | -0.3076751    | -0.0257046098 |  11.15494812  |   2.8726969   |\n",
       "| 705 | -11.8825420   |  0.6407617    | -1.0300124421 |  23.02440448  | -11.6458682   |\n",
       "| 707 |   2.3625474   | -0.3185300    |  0.9045497608 | -25.51283036  |   9.6142573   |\n",
       "| 731 | -12.2517746   |  0.6294710    |  0.0522145126 |   0.32228460  |   4.1837529   |\n",
       "| 765 |   7.1593127   |  0.7584457    |  0.0629129370 |  11.15615093  |  -4.1162251   |\n",
       "| 791 | -10.0452527   | -0.1572873    | -0.9300971287 |  22.39565374  |  -3.5735578   |\n",
       "| 814 |   6.1775524   | -0.2455063    |  0.8696456992 |  -1.47139309  |  16.1364557   |\n",
       "\n"
      ],
      "text/plain": [
       "    cancer2$inst[-41] cancer2$sex[-41] cancer2$ph.ecog[-41]\n",
       "11  -4.229700         -0.2516312        0.6887517          \n",
       "12  -8.311822         -0.2565167        0.7021241          \n",
       "13  -8.448126         -0.2607233        0.7136382          \n",
       "15   3.411025         -0.2650702       -1.2744639          \n",
       "26  -8.579707         -0.2657904        0.7220731          \n",
       "30   2.302766         -0.2694313        0.7319643          \n",
       "31   2.345912         -0.2744795       -1.2543213          \n",
       "53   2.368396         -0.2764252        0.7441037          \n",
       "53  11.368396         -0.2764252       -1.2558963          \n",
       "54   1.416922         -0.2800243        0.7498610          \n",
       "59  12.438480         -0.2842849       -0.2387298          \n",
       "60   1.489119          0.7151345       -0.2403695          \n",
       "60   2.489119         -0.2848655       -0.2403695          \n",
       "61  -8.489921          0.7164014        0.7572068          \n",
       "62  -8.570069          0.7231644       -0.2356449          \n",
       "65  -6.622496         -0.2724117        0.7629135          \n",
       "79   5.236228          0.7217770       -0.2208114          \n",
       "81  -3.748578          0.7238714       -1.2214521          \n",
       "88  -4.761257         -0.2736803       -0.2255833          \n",
       "92  -2.815102         -0.2767754       -0.2281344          \n",
       "93  -8.837743         -0.2790014        0.7700307          \n",
       "95  -2.950530          0.7198195        0.7817841          \n",
       "95   3.049470         -0.2801805       -0.2182159          \n",
       "107  6.127081          0.7296452        0.7928078          \n",
       "110  5.175204         -0.2646241       -0.2009654          \n",
       "118  3.210198         -0.2664134        1.7976757          \n",
       "135 22.315637         -0.2751638       -0.1432794          \n",
       "142 -3.544273         -0.2768912       -0.1441788          \n",
       "145 -8.591879          0.7193897       -0.1461154          \n",
       "147 11.357779         -0.2763953       -1.1469715          \n",
       "... ...               ...              ...                 \n",
       "428  11.6735906       -0.3151090       -1.0062620711       \n",
       "429  10.8432507       -0.3196887       -0.0208867516       \n",
       "433   0.2762881        0.6675442       -1.0217208876       \n",
       "444  12.2780490        0.6717986        0.9717674803       \n",
       "450  -3.3454338        0.6923999        0.0015675915       \n",
       "455  -6.4272598       -0.2906647       -0.9983940668       \n",
       "457  -8.5466373       -0.2960634       -0.0169378641       \n",
       "460  -5.2075196       -0.3289737       -0.0188206690       \n",
       "473   1.5360594        0.6548275       -0.0197474086       \n",
       "477   0.5867023       -0.3235833       -0.0203984676       \n",
       "519  -7.1216604       -0.3304113       -0.0004082277       \n",
       "520   1.4336139        0.6489555       -0.0004337202       \n",
       "524  -9.5155144       -0.3280163        0.9995508892       \n",
       "550  -8.1196322        0.6545315        0.1026941164       \n",
       "558 -10.1497631       -0.2773265       -0.8239078900       \n",
       "567   0.2222376       -0.2690781        0.1251142109       \n",
       "574  -7.7707749       -0.2775384       -0.8709519638       \n",
       "583  -5.3305179       -0.2975300        0.0663117846       \n",
       "613   9.3451223       -0.3156346        0.0703468286       \n",
       "641  10.2504241        0.6537886        0.0771616250       \n",
       "643   1.6668561       -0.3196507       -0.9197036199       \n",
       "655  -0.2585098       -0.3339632       -0.9608837212       \n",
       "687  -8.2754673        0.6441297       -0.0239152174       \n",
       "689  -5.8946571       -0.3076751       -0.0257046098       \n",
       "705 -11.8825420        0.6407617       -1.0300124421       \n",
       "707   2.3625474       -0.3185300        0.9045497608       \n",
       "731 -12.2517746        0.6294710        0.0522145126       \n",
       "765   7.1593127        0.7584457        0.0629129370       \n",
       "791 -10.0452527       -0.1572873       -0.9300971287       \n",
       "814   6.1775524       -0.2455063        0.8696456992       \n",
       "    cancer2$ph.karno[-41] cancer2$wt.loss[-41]\n",
       "11   -8.00961047           -9.5388505         \n",
       "12   -8.16512027           10.2759489         \n",
       "13   -8.29901888           10.4444627         \n",
       "15   11.56261772            0.6185955         \n",
       "26  -18.40596429           10.6202763         \n",
       "30    1.34190618           -2.2342444         \n",
       "31   21.36704883           17.7238936         \n",
       "53   -8.59773746            0.7697824         \n",
       "53   11.40226254           -9.2302176         \n",
       "54  -18.67037126          -12.2398497         \n",
       "59  -18.95444170           -4.4260795         \n",
       "60   10.99593568           -9.4731921         \n",
       "60    0.99593568           -9.4731921         \n",
       "61  -18.95262982            0.4312868         \n",
       "62    0.86845077           -9.5646417         \n",
       "65   -9.12623656           -1.6231526         \n",
       "79   10.67907482           27.3422209         \n",
       "81   20.71006254          -17.5784395         \n",
       "88   10.78010777           -1.6378930         \n",
       "92    0.90201996            3.3435841         \n",
       "93  -29.09072518           14.3704762         \n",
       "95  -19.52301513          -33.5684031         \n",
       "95   -9.52301513            5.4315969         \n",
       "107 -29.85955198          -24.9301240         \n",
       "110  -0.09407153            1.8740726         \n",
       "118 -20.09470763            9.8867448         \n",
       "135   9.24527806           -9.7885232         \n",
       "142   9.30331652           -7.8499720         \n",
       "145  -0.57172304            3.0445886         \n",
       "147  19.42492713           -5.9375725         \n",
       "... ...                   ...                 \n",
       "428  17.98111666           -9.7544913         \n",
       "429  18.24244827           -4.8962598         \n",
       "433   8.97098108           16.9082025         \n",
       "444 -10.97184506           -1.9840382         \n",
       "450  -1.30830642           -7.0448804         \n",
       "455   8.65969368            4.7828087         \n",
       "457   8.82053559          -15.1283573         \n",
       "460  -0.48813572           -0.7979658         \n",
       "473   9.48782822          -11.8372581         \n",
       "477   9.80063563          -11.2275247         \n",
       "519   0.01371531           -1.4142580         \n",
       "520  10.01457179           -5.5025741         \n",
       "524 -19.63006123           18.3021672         \n",
       "550 -11.64686597          -10.1677300         \n",
       "558   7.76766987            7.5295166         \n",
       "567  -1.49764330           50.9445775         \n",
       "574  18.45526799          -20.4536295         \n",
       "583 -20.21536555           -1.9269415         \n",
       "613   8.55453804          -14.0441951         \n",
       "641  -0.61674748           -9.4047160         \n",
       "643   9.35819664           -8.7867904         \n",
       "655  19.77721368          -12.1802225         \n",
       "687   1.07454793           -1.9792137         \n",
       "689  11.15494812            2.8726969         \n",
       "705  23.02440448          -11.6458682         \n",
       "707 -25.51283036            9.6142573         \n",
       "731   0.32228460            4.1837529         \n",
       "765  11.15615093           -4.1162251         \n",
       "791  22.39565374           -3.5735578         \n",
       "814  -1.47139309           16.1364557         "
      ]
     },
     "metadata": {},
     "output_type": "display_data"
    },
    {
     "data": {
      "image/png": "[encoded data removed]",
      "text/plain": [
       "plot without title"
      ]
     },
     "metadata": {},
     "output_type": "display_data"
    }
   ],
   "source": [
    "s<-resid(sin41, type=\"schoenfeld\")\n",
    "s#tengo vectores de residuales\n",
    "plot(s) #esta combinando"
   ]
  },
  {
   "cell_type": "code",
   "execution_count": 45,
   "id": "modern-terrorism",
   "metadata": {},
   "outputs": [
    {
     "data": {
      "image/png": "[encoded data removed]",
      "text/plain": [
       "plot without title"
      ]
     },
     "metadata": {},
     "output_type": "display_data"
    }
   ],
   "source": [
    "d2<-cancer2[-41,]#datos sin e renglon 41, todas las columnas\n",
    "plot(d2$sex[d2$status==2], s[,2])#para la variable sex"
   ]
  },
  {
   "cell_type": "code",
   "execution_count": 46,
   "id": "wrapped-express",
   "metadata": {},
   "outputs": [
    {
     "data": {
      "image/png": "[encoded data removed]",
      "text/plain": [
       "plot without title"
      ]
     },
     "metadata": {},
     "output_type": "display_data"
    }
   ],
   "source": [
    "plot(d2$ph.ecog[d2$status==2], s[,3])#para la variable ph.ecog"
   ]
  },
  {
   "cell_type": "code",
   "execution_count": 50,
   "id": "naval-drink",
   "metadata": {},
   "outputs": [
    {
     "data": {
      "image/png": "[encoded data removed]",
      "text/plain": [
       "plot without title"
      ]
     },
     "metadata": {},
     "output_type": "display_data"
    }
   ],
   "source": [
    "plot(d2$wt.loss[d2$status==2], s[,5])#para la variable inst"
   ]
  },
  {
   "cell_type": "code",
   "execution_count": 51,
   "id": "specific-career",
   "metadata": {},
   "outputs": [
    {
     "data": {
      "image/png": "[encoded data removed]",
      "text/plain": [
       "plot without title"
      ]
     },
     "metadata": {},
     "output_type": "display_data"
    }
   ],
   "source": [
    "plot(d2$inst[d2$status==2], s[,1])#para la variable inst"
   ]
  },
  {
   "cell_type": "code",
   "execution_count": 52,
   "id": "ready-absolute",
   "metadata": {},
   "outputs": [
    {
     "data": {
      "image/png": "[encoded data removed]",
      "text/plain": [
       "plot without title"
      ]
     },
     "metadata": {},
     "output_type": "display_data"
    }
   ],
   "source": [
    "plot(d2$ph.karno[d2$status==2], s[,4])#para la variable inst"
   ]
  },
  {
   "cell_type": "markdown",
   "id": "protected-mountain",
   "metadata": {},
   "source": [
    "**Residuales de puntaje**"
   ]
  },
  {
   "cell_type": "code",
   "execution_count": 53,
   "id": "retained-consequence",
   "metadata": {},
   "outputs": [],
   "source": [
    "p<-resid(sin41, type=\"score\")"
   ]
  },
  {
   "cell_type": "code",
   "execution_count": 54,
   "id": "received-badge",
   "metadata": {},
   "outputs": [
    {
     "data": {
      "image/png": "[encoded data removed]",
      "text/plain": [
       "plot without title"
      ]
     },
     "metadata": {},
     "output_type": "display_data"
    }
   ],
   "source": [
    "plot(p[,1], p[,2])# para revisar si hay un punto donde se esten concentrando"
   ]
  },
  {
   "cell_type": "code",
   "execution_count": 55,
   "id": "human-vinyl",
   "metadata": {},
   "outputs": [
    {
     "data": {
      "image/png": "[encoded data removed]",
      "text/plain": [
       "plot without title"
      ]
     },
     "metadata": {},
     "output_type": "display_data"
    }
   ],
   "source": [
    "plot(p[,2], p[,3])# para revisar si hay un punto donde se esten concentrando"
   ]
  },
  {
   "cell_type": "code",
   "execution_count": 56,
   "id": "instrumental-reputation",
   "metadata": {},
   "outputs": [
    {
     "data": {
      "image/png": "[encoded data removed]",
      "text/plain": [
       "plot without title"
      ]
     },
     "metadata": {},
     "output_type": "display_data"
    }
   ],
   "source": [
    "plot(p[,4], p[,5])# para revisar si hay un punto donde se esten concentrando"
   ]
  },
  {
   "cell_type": "markdown",
   "id": "particular-cradle",
   "metadata": {},
   "source": [
    "*Con los graficos anteriores vemos que el modelo viene bien*"
   ]
  },
  {
   "cell_type": "markdown",
   "id": "administrative-mother",
   "metadata": {},
   "source": [
    "## Estimación función de supervivencia gral."
   ]
  },
  {
   "cell_type": "code",
   "execution_count": 58,
   "id": "removed-original",
   "metadata": {},
   "outputs": [
    {
     "data": {
      "text/plain": [
       "Call: survfit(formula = sin41)\n",
       "\n",
       " time n.risk n.event survival std.err lower 95% CI upper 95% CI\n",
       "   11    166       1   0.9951 0.00492       0.9855        1.000\n",
       "   12    165       1   0.9901 0.00701       0.9764        1.000\n",
       "   13    164       1   0.9850 0.00864       0.9683        1.000\n",
       "   15    163       1   0.9799 0.01003       0.9605        1.000\n",
       "   26    162       1   0.9748 0.01124       0.9531        0.997\n",
       "   30    161       1   0.9697 0.01234       0.9458        0.994\n",
       "   31    160       1   0.9645 0.01338       0.9386        0.991\n",
       "   53    159       2   0.9541 0.01523       0.9247        0.984\n",
       "   54    157       1   0.9489 0.01607       0.9179        0.981\n",
       "   59    156       1   0.9436 0.01688       0.9111        0.977\n",
       "   60    155       2   0.9331 0.01839       0.8977        0.970\n",
       "   61    153       1   0.9278 0.01909       0.8911        0.966\n",
       "   62    152       1   0.9225 0.01977       0.8845        0.962\n",
       "   65    151       1   0.9172 0.02042       0.8780        0.958\n",
       "   79    150       1   0.9118 0.02107       0.8714        0.954\n",
       "   81    149       1   0.9065 0.02169       0.8649        0.950\n",
       "   88    148       1   0.9011 0.02228       0.8585        0.946\n",
       "   92    147       1   0.8957 0.02286       0.8520        0.942\n",
       "   93    146       1   0.8903 0.02342       0.8456        0.937\n",
       "   95    145       2   0.8795 0.02451       0.8327        0.929\n",
       "  107    142       1   0.8740 0.02504       0.8263        0.924\n",
       "  110    141       1   0.8685 0.02556       0.8198        0.920\n",
       "  118    140       1   0.8630 0.02606       0.8134        0.916\n",
       "  135    139       1   0.8574 0.02656       0.8069        0.911\n",
       "  142    138       1   0.8517 0.02705       0.8003        0.906\n",
       "  145    137       1   0.8461 0.02753       0.7938        0.902\n",
       "  147    136       1   0.8404 0.02800       0.7873        0.897\n",
       "  153    135       1   0.8347 0.02845       0.7808        0.892\n",
       "  156    134       2   0.8234 0.02932       0.7679        0.883\n",
       "  163    132       3   0.8062 0.03057       0.7485        0.868\n",
       "  166    129       1   0.8003 0.03097       0.7419        0.863\n",
       "  167    128       1   0.7944 0.03136       0.7353        0.858\n",
       "  170    127       1   0.7885 0.03175       0.7287        0.853\n",
       "  176    124       1   0.7825 0.03214       0.7220        0.848\n",
       "  179    122       1   0.7765 0.03252       0.7153        0.843\n",
       "  180    121       1   0.7705 0.03289       0.7086        0.838\n",
       "  181    120       2   0.7581 0.03362       0.6950        0.827\n",
       "  183    118       1   0.7519 0.03398       0.6881        0.821\n",
       "  197    114       1   0.7453 0.03435       0.6810        0.816\n",
       "  199    112       1   0.7387 0.03473       0.6737        0.810\n",
       "  201    111       1   0.7321 0.03510       0.6665        0.804\n",
       "  207    108       1   0.7254 0.03547       0.6591        0.798\n",
       "  210    107       1   0.7187 0.03583       0.6518        0.792\n",
       "  212    105       1   0.7118 0.03619       0.6443        0.786\n",
       "  218    104       1   0.7048 0.03655       0.6367        0.780\n",
       "  222    102       1   0.6977 0.03691       0.6290        0.774\n",
       "  223    100       1   0.6904 0.03727       0.6211        0.767\n",
       "  226     97       1   0.6830 0.03764       0.6131        0.761\n",
       "  229     96       1   0.6756 0.03799       0.6051        0.754\n",
       "  230     95       1   0.6682 0.03833       0.5972        0.748\n",
       "  239     93       1   0.6608 0.03866       0.5892        0.741\n",
       "  245     90       1   0.6533 0.03899       0.5811        0.734\n",
       "  246     89       1   0.6458 0.03930       0.5732        0.728\n",
       "  267     85       1   0.6381 0.03962       0.5650        0.721\n",
       "  268     84       1   0.6305 0.03993       0.5569        0.714\n",
       "  269     83       1   0.6229 0.04022       0.5489        0.707\n",
       "  270     81       1   0.6152 0.04051       0.5407        0.700\n",
       "  283     79       1   0.6075 0.04079       0.5326        0.693\n",
       "  284     78       1   0.5997 0.04106       0.5244        0.686\n",
       "  285     76       2   0.5838 0.04159       0.5077        0.671\n",
       "  286     74       1   0.5758 0.04184       0.4994        0.664\n",
       "  288     73       1   0.5679 0.04206       0.4912        0.657\n",
       "  291     72       1   0.5599 0.04228       0.4829        0.649\n",
       "  293     69       1   0.5514 0.04252       0.4741        0.641\n",
       "  301     66       1   0.5429 0.04276       0.4652        0.633\n",
       "  303     64       1   0.5341 0.04301       0.4561        0.625\n",
       "  305     62       1   0.5250 0.04326       0.4467        0.617\n",
       "  310     61       1   0.5161 0.04348       0.4375        0.609\n",
       "  320     60       1   0.5070 0.04368       0.4282        0.600\n",
       "  337     58       1   0.4979 0.04387       0.4189        0.592\n",
       "  345     57       1   0.4889 0.04403       0.4098        0.583\n",
       "  348     56       1   0.4798 0.04417       0.4006        0.575\n",
       "  351     55       1   0.4708 0.04428       0.3915        0.566\n",
       "  353     54       2   0.4527 0.04445       0.3734        0.549\n",
       "  361     52       1   0.4437 0.04450       0.3645        0.540\n",
       "  363     51       2   0.4255 0.04455       0.3466        0.522\n",
       "  371     49       1   0.4164 0.04454       0.3377        0.514\n",
       "  390     45       1   0.4072 0.04454       0.3286        0.505\n",
       "  426     42       1   0.3973 0.04458       0.3189        0.495\n",
       "  428     41       1   0.3875 0.04459       0.3093        0.486\n",
       "  429     40       1   0.3778 0.04455       0.2999        0.476\n",
       "  433     39       1   0.3680 0.04451       0.2904        0.466\n",
       "  444     38       1   0.3584 0.04441       0.2811        0.457\n",
       "  450     37       1   0.3487 0.04430       0.2719        0.447\n",
       "  455     36       1   0.3391 0.04416       0.2627        0.438\n",
       "  457     35       1   0.3296 0.04398       0.2537        0.428\n",
       "  460     33       1   0.3193 0.04382       0.2440        0.418\n",
       "  473     32       1   0.3089 0.04363       0.2342        0.407\n",
       "  477     31       1   0.2984 0.04340       0.2244        0.397\n",
       "  519     29       1   0.2875 0.04318       0.2142        0.386\n",
       "  520     28       1   0.2763 0.04292       0.2038        0.375\n",
       "  524     27       1   0.2652 0.04261       0.1935        0.363\n",
       "  550     25       1   0.2532 0.04232       0.1824        0.351\n",
       "  558     23       1   0.2405 0.04202       0.1708        0.339\n",
       "  567     21       1   0.2278 0.04167       0.1592        0.326\n",
       "  574     20       1   0.2154 0.04119       0.1481        0.313\n",
       "  583     19       1   0.2028 0.04065       0.1369        0.300\n",
       "  613     18       1   0.1903 0.04001       0.1260        0.287\n",
       "  641     17       1   0.1774 0.03930       0.1150        0.274\n",
       "  643     16       1   0.1650 0.03847       0.1045        0.261\n",
       "  655     15       1   0.1529 0.03750       0.0946        0.247\n",
       "  687     14       1   0.1410 0.03643       0.0850        0.234\n",
       "  689     13       1   0.1293 0.03525       0.0757        0.221\n",
       "  705     12       1   0.1168 0.03400       0.0660        0.207\n",
       "  707     11       1   0.1048 0.03260       0.0570        0.193\n",
       "  731     10       1   0.0924 0.03102       0.0479        0.178\n",
       "  765      8       1   0.0794 0.02932       0.0385        0.164\n",
       "  791      7       1   0.0671 0.02734       0.0302        0.149\n",
       "  814      5       1   0.0516 0.02523       0.0198        0.135"
      ]
     },
     "metadata": {},
     "output_type": "display_data"
    }
   ],
   "source": [
    "cancer.sup<-survfit(sin41)\n",
    "summary(cancer.sup)"
   ]
  },
  {
   "cell_type": "code",
   "execution_count": 59,
   "id": "macro-primary",
   "metadata": {},
   "outputs": [
    {
     "data": {
      "image/png": "[encoded data removed]",
      "text/plain": [
       "plot without title"
      ]
     },
     "metadata": {},
     "output_type": "display_data"
    }
   ],
   "source": [
    "plot(cancer.sup)"
   ]
  },
  {
   "cell_type": "code",
   "execution_count": 61,
   "id": "unavailable-terrorist",
   "metadata": {},
   "outputs": [
    {
     "data": {
      "text/plain": [
       "Call: survfit(formula = res.c ~ cancer2$sex)\n",
       "\n",
       "                n events median 0.95LCL 0.95UCL\n",
       "cancer2$sex=1 103     82    284     223     353\n",
       "cancer2$sex=2  64     38    426     345     641"
      ]
     },
     "metadata": {},
     "output_type": "display_data"
    }
   ],
   "source": [
    "km.sex<-survfit(res.c~cancer2$sex)\n",
    "km.sex"
   ]
  },
  {
   "cell_type": "code",
   "execution_count": 62,
   "id": "respective-hierarchy",
   "metadata": {},
   "outputs": [
    {
     "data": {
      "text/plain": [
       "Call: survfit(formula = res.c ~ cancer2$sex)\n",
       "\n",
       "                cancer2$sex=1 \n",
       " time n.risk n.event survival std.err lower 95% CI upper 95% CI\n",
       "   11    103       1   0.9903 0.00966       0.9715        1.000\n",
       "   12    102       1   0.9806 0.01360       0.9543        1.000\n",
       "   13    101       1   0.9709 0.01657       0.9389        1.000\n",
       "   15    100       1   0.9612 0.01904       0.9246        0.999\n",
       "   26     99       1   0.9515 0.02118       0.9108        0.994\n",
       "   30     98       1   0.9417 0.02308       0.8976        0.988\n",
       "   31     97       1   0.9320 0.02480       0.8847        0.982\n",
       "   53     96       2   0.9126 0.02782       0.8597        0.969\n",
       "   54     94       1   0.9029 0.02917       0.8475        0.962\n",
       "   59     93       1   0.8932 0.03043       0.8355        0.955\n",
       "   60     92       1   0.8835 0.03161       0.8237        0.948\n",
       "   65     91       1   0.8738 0.03272       0.8119        0.940\n",
       "   88     90       1   0.8641 0.03377       0.8004        0.933\n",
       "   92     89       1   0.8544 0.03476       0.7889        0.925\n",
       "   93     88       1   0.8447 0.03569       0.7775        0.918\n",
       "   95     87       1   0.8350 0.03658       0.7663        0.910\n",
       "  110     86       1   0.8252 0.03742       0.7551        0.902\n",
       "  118     85       1   0.8155 0.03822       0.7440        0.894\n",
       "  135     84       1   0.8058 0.03898       0.7329        0.886\n",
       "  142     83       1   0.7961 0.03970       0.7220        0.878\n",
       "  147     82       1   0.7864 0.04038       0.7111        0.870\n",
       "  156     81       2   0.7670 0.04165       0.6895        0.853\n",
       "  163     79       3   0.7379 0.04333       0.6576        0.828\n",
       "  166     76       1   0.7282 0.04384       0.6471        0.819\n",
       "  170     75       1   0.7184 0.04432       0.6366        0.811\n",
       "  176     73       1   0.7086 0.04479       0.6260        0.802\n",
       "  179     72       1   0.6988 0.04523       0.6155        0.793\n",
       "  180     71       1   0.6889 0.04566       0.6050        0.784\n",
       "  181     70       2   0.6692 0.04642       0.5842        0.767\n",
       "  183     68       1   0.6594 0.04677       0.5738        0.758\n",
       "  197     64       1   0.6491 0.04716       0.5629        0.748\n",
       "  207     62       1   0.6386 0.04755       0.5519        0.739\n",
       "  210     61       1   0.6282 0.04791       0.5409        0.729\n",
       "  212     60       1   0.6177 0.04824       0.5300        0.720\n",
       "  218     59       1   0.6072 0.04855       0.5191        0.710\n",
       "  222     57       1   0.5966 0.04885       0.5081        0.700\n",
       "  223     55       1   0.5857 0.04915       0.4969        0.690\n",
       "  229     52       1   0.5745 0.04948       0.4852        0.680\n",
       "  230     51       1   0.5632 0.04977       0.4736        0.670\n",
       "  246     50       1   0.5519 0.05004       0.4621        0.659\n",
       "  267     48       1   0.5404 0.05030       0.4503        0.649\n",
       "  269     47       1   0.5289 0.05053       0.4386        0.638\n",
       "  270     46       1   0.5174 0.05072       0.4270        0.627\n",
       "  283     45       1   0.5059 0.05088       0.4154        0.616\n",
       "  284     44       1   0.4944 0.05101       0.4039        0.605\n",
       "  285     42       1   0.4827 0.05113       0.3922        0.594\n",
       "  286     41       1   0.4709 0.05122       0.3805        0.583\n",
       "  288     40       1   0.4591 0.05128       0.3689        0.571\n",
       "  291     39       1   0.4473 0.05129       0.3573        0.560\n",
       "  301     36       1   0.4349 0.05135       0.3451        0.548\n",
       "  303     34       1   0.4221 0.05141       0.3325        0.536\n",
       "  320     32       1   0.4089 0.05147       0.3195        0.523\n",
       "  337     31       1   0.3957 0.05147       0.3067        0.511\n",
       "  353     30       2   0.3694 0.05131       0.2813        0.485\n",
       "  363     28       1   0.3562 0.05114       0.2688        0.472\n",
       "  371     27       1   0.3430 0.05092       0.2564        0.459\n",
       "  390     26       1   0.3298 0.05064       0.2441        0.446\n",
       "  428     23       1   0.3154 0.05043       0.2306        0.432\n",
       "  429     22       1   0.3011 0.05014       0.2173        0.417\n",
       "  455     21       1   0.2868 0.04976       0.2041        0.403\n",
       "  457     20       1   0.2724 0.04929       0.1911        0.388\n",
       "  460     18       1   0.2573 0.04882       0.1774        0.373\n",
       "  477     17       1   0.2422 0.04824       0.1639        0.358\n",
       "  519     16       1   0.2270 0.04754       0.1506        0.342\n",
       "  524     15       1   0.2119 0.04672       0.1375        0.326\n",
       "  558     14       1   0.1968 0.04577       0.1247        0.310\n",
       "  567     13       1   0.1816 0.04468       0.1121        0.294\n",
       "  574     12       1   0.1665 0.04344       0.0998        0.278\n",
       "  583     11       1   0.1514 0.04205       0.0878        0.261\n",
       "  613     10       1   0.1362 0.04048       0.0761        0.244\n",
       "  643      9       1   0.1211 0.03870       0.0647        0.227\n",
       "  655      8       1   0.1059 0.03671       0.0537        0.209\n",
       "  689      7       1   0.0908 0.03444       0.0432        0.191\n",
       "  707      6       1   0.0757 0.03185       0.0332        0.173\n",
       "  791      5       1   0.0605 0.02886       0.0238        0.154\n",
       "  814      3       1   0.0404 0.02533       0.0118        0.138\n",
       "\n",
       "                cancer2$sex=2 \n",
       " time n.risk n.event survival std.err lower 95% CI upper 95% CI\n",
       "    5     64       1    0.984  0.0155       0.9545        1.000\n",
       "   60     63       1    0.969  0.0217       0.9270        1.000\n",
       "   61     62       1    0.953  0.0264       0.9027        1.000\n",
       "   62     61       1    0.938  0.0303       0.8800        0.999\n",
       "   79     60       1    0.922  0.0335       0.8584        0.990\n",
       "   81     59       1    0.906  0.0364       0.8376        0.981\n",
       "   95     58       1    0.891  0.0390       0.8174        0.970\n",
       "  107     56       1    0.875  0.0414       0.7972        0.960\n",
       "  145     55       1    0.859  0.0436       0.7774        0.949\n",
       "  153     54       1    0.843  0.0456       0.7581        0.937\n",
       "  167     53       1    0.827  0.0475       0.7390        0.925\n",
       "  199     50       1    0.810  0.0493       0.7194        0.913\n",
       "  201     49       1    0.794  0.0510       0.7000        0.900\n",
       "  226     45       1    0.776  0.0528       0.6794        0.887\n",
       "  239     43       1    0.758  0.0546       0.6584        0.873\n",
       "  245     40       1    0.739  0.0564       0.6366        0.859\n",
       "  268     37       1    0.719  0.0583       0.6136        0.843\n",
       "  285     34       1    0.698  0.0603       0.5894        0.827\n",
       "  293     32       1    0.676  0.0623       0.5647        0.810\n",
       "  305     30       1    0.654  0.0641       0.5394        0.792\n",
       "  310     29       1    0.631  0.0658       0.5146        0.774\n",
       "  345     27       1    0.608  0.0674       0.4892        0.755\n",
       "  348     26       1    0.584  0.0687       0.4642        0.736\n",
       "  351     25       1    0.561  0.0698       0.4397        0.716\n",
       "  361     24       1    0.538  0.0707       0.4155        0.696\n",
       "  363     23       1    0.514  0.0714       0.3918        0.675\n",
       "  426     19       1    0.487  0.0726       0.3639        0.653\n",
       "  433     18       1    0.460  0.0734       0.3366        0.629\n",
       "  444     17       1    0.433  0.0739       0.3100        0.605\n",
       "  450     16       1    0.406  0.0741       0.2839        0.581\n",
       "  473     15       1    0.379  0.0739       0.2585        0.556\n",
       "  520     13       1    0.350  0.0738       0.2314        0.529\n",
       "  550     11       1    0.318  0.0736       0.2020        0.501\n",
       "  641      8       1    0.278  0.0744       0.1648        0.470\n",
       "  687      7       1    0.239  0.0736       0.1303        0.437\n",
       "  705      6       1    0.199  0.0713       0.0984        0.401\n",
       "  731      5       1    0.159  0.0672       0.0695        0.364\n",
       "  765      3       1    0.106  0.0623       0.0335        0.335\n"
      ]
     },
     "metadata": {},
     "output_type": "display_data"
    }
   ],
   "source": [
    "summary(km.sex)"
   ]
  },
  {
   "cell_type": "code",
   "execution_count": 63,
   "id": "french-happening",
   "metadata": {},
   "outputs": [
    {
     "data": {
      "image/png": "[encoded data removed]",
      "text/plain": [
       "plot without title"
      ]
     },
     "metadata": {},
     "output_type": "display_data"
    }
   ],
   "source": [
    "plot(km.sex)"
   ]
  },
  {
   "cell_type": "code",
   "execution_count": null,
   "id": "elementary-smile",
   "metadata": {},
   "outputs": [],
   "source": []
  }
 ],
 "metadata": {
  "kernelspec": {
   "display_name": "R",
   "language": "R",
   "name": "ir"
  },
  "language_info": {
   "codemirror_mode": "r",
   "file_extension": ".r",
   "mimetype": "text/x-r-source",
   "name": "R",
   "pygments_lexer": "r",
   "version": "3.6.1"
  }
 },
 "nbformat": 4,
 "nbformat_minor": 5
}
