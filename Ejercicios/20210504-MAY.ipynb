{
 "cells": [
  {
   "cell_type": "code",
   "execution_count": 1,
   "id": "gentle-music",
   "metadata": {},
   "outputs": [
    {
     "name": "stderr",
     "output_type": "stream",
     "text": [
      "Warning message:\n",
      "\"package 'survival' was built under R version 3.6.3\""
     ]
    }
   ],
   "source": [
    "library(survival)"
   ]
  },
  {
   "cell_type": "code",
   "execution_count": 2,
   "id": "assisted-patio",
   "metadata": {},
   "outputs": [],
   "source": [
    "data(diabetic)"
   ]
  },
  {
   "cell_type": "markdown",
   "id": "greek-rings",
   "metadata": {},
   "source": [
    "* Falla definida como pérdida de visión==1"
   ]
  },
  {
   "cell_type": "markdown",
   "id": "guided-contrary",
   "metadata": {},
   "source": [
    "## Análisis descriptivo."
   ]
  },
  {
   "cell_type": "code",
   "execution_count": 3,
   "id": "supposed-advancement",
   "metadata": {},
   "outputs": [
    {
     "data": {
      "text/html": [
       "0"
      ],
      "text/latex": [
       "0"
      ],
      "text/markdown": [
       "0"
      ],
      "text/plain": [
       "[1] 0"
      ]
     },
     "metadata": {},
     "output_type": "display_data"
    }
   ],
   "source": [
    "sum(is.na(diabetic))"
   ]
  },
  {
   "cell_type": "markdown",
   "id": "proof-holocaust",
   "metadata": {},
   "source": [
    "**Conteo**"
   ]
  },
  {
   "cell_type": "code",
   "execution_count": 4,
   "id": "animal-bridges",
   "metadata": {},
   "outputs": [
    {
     "data": {
      "text/html": [
       "114"
      ],
      "text/latex": [
       "114"
      ],
      "text/markdown": [
       "114"
      ],
      "text/plain": [
       "[1] 114"
      ]
     },
     "metadata": {},
     "output_type": "display_data"
    }
   ],
   "source": [
    "sum(diabetic$eye==\"left\" & diabetic$laser==\"xenon\")"
   ]
  },
  {
   "cell_type": "code",
   "execution_count": 5,
   "id": "advisory-cattle",
   "metadata": {},
   "outputs": [
    {
     "data": {
      "text/html": [
       "114"
      ],
      "text/latex": [
       "114"
      ],
      "text/markdown": [
       "114"
      ],
      "text/plain": [
       "[1] 114"
      ]
     },
     "metadata": {},
     "output_type": "display_data"
    }
   ],
   "source": [
    "sum(diabetic$trt==0 & diabetic$laser==\"xenon\")"
   ]
  },
  {
   "cell_type": "markdown",
   "id": "racial-device",
   "metadata": {},
   "source": [
    "**Promedios**"
   ]
  },
  {
   "cell_type": "markdown",
   "id": "necessary-borough",
   "metadata": {},
   "source": [
    "*Promedio por categorías*"
   ]
  },
  {
   "cell_type": "code",
   "execution_count": 6,
   "id": "scientific-cowboy",
   "metadata": {},
   "outputs": [
    {
     "data": {
      "text/html": [
       "17.8312643678161"
      ],
      "text/latex": [
       "17.8312643678161"
      ],
      "text/markdown": [
       "17.8312643678161"
      ],
      "text/plain": [
       "[1] 17.83126"
      ]
     },
     "metadata": {},
     "output_type": "display_data"
    },
    {
     "data": {
      "text/html": [
       "19.8013235294118"
      ],
      "text/latex": [
       "19.8013235294118"
      ],
      "text/markdown": [
       "19.8013235294118"
      ],
      "text/plain": [
       "[1] 19.80132"
      ]
     },
     "metadata": {},
     "output_type": "display_data"
    }
   ],
   "source": [
    "mean(diabetic$time[diabetic$status==1 & diabetic$laser==\"xenon\"])\n",
    "mean(diabetic$time[diabetic$status==1 & diabetic$laser==\"argon\"])"
   ]
  },
  {
   "cell_type": "markdown",
   "id": "simplified-facial",
   "metadata": {},
   "source": [
    "**Gráficas**"
   ]
  },
  {
   "cell_type": "code",
   "execution_count": 7,
   "id": "instrumental-vegetation",
   "metadata": {},
   "outputs": [],
   "source": [
    "laser<-factor(diabetic$laser, labels=c(\"xenon\", \"argon\"))# el orden esta segun el orden del resumen "
   ]
  },
  {
   "cell_type": "code",
   "execution_count": 10,
   "id": "provincial-impact",
   "metadata": {},
   "outputs": [
    {
     "data": {
      "image/png": "[encoded data removed]",
      "text/plain": [
       "Plot with title \"Proporción de láser\""
      ]
     },
     "metadata": {},
     "output_type": "display_data"
    }
   ],
   "source": [
    "pie(table(laser), col=c(\"red\", \"blue\"), main=\"Proporción de láser\")"
   ]
  },
  {
   "cell_type": "markdown",
   "id": "contrary-verification",
   "metadata": {},
   "source": [
    "**Boxplot comparativo para dispersión de tiempos por láser**"
   ]
  },
  {
   "cell_type": "code",
   "execution_count": 11,
   "id": "going-washer",
   "metadata": {
    "scrolled": true
   },
   "outputs": [
    {
     "data": {
      "image/png": "[encoded data removed]",
      "text/plain": [
       "plot without title"
      ]
     },
     "metadata": {},
     "output_type": "display_data"
    }
   ],
   "source": [
    "boxplot(diabetic$time[diabetic$status==1 & diabetic$laser==\"xenon\"])"
   ]
  },
  {
   "cell_type": "code",
   "execution_count": 12,
   "id": "wired-toronto",
   "metadata": {},
   "outputs": [
    {
     "data": {
      "image/png": "[encoded data removed]",
      "text/plain": [
       "plot without title"
      ]
     },
     "metadata": {},
     "output_type": "display_data"
    }
   ],
   "source": [
    "boxplot(diabetic$time[diabetic$status==1 & diabetic$laser==\"argon\"])"
   ]
  },
  {
   "cell_type": "code",
   "execution_count": 13,
   "id": "round-commercial",
   "metadata": {},
   "outputs": [
    {
     "data": {
      "image/png": "[encoded data removed]",
      "text/plain": [
       "plot without title"
      ]
     },
     "metadata": {},
     "output_type": "display_data"
    }
   ],
   "source": [
    "boxplot(diabetic$time[diabetic$status==1 & diabetic$laser==\"xenon\"],diabetic$time[diabetic$status==1 & diabetic$laser==\"argon\"], names=c(\"xenon\", \"argon\"))"
   ]
  },
  {
   "cell_type": "markdown",
   "id": "funny-gothic",
   "metadata": {},
   "source": [
    "* minimo, primer cuartil,mediana tercer cuartil, máximo (generalmente siempre y cuando no haya datos atipicos), lo anterior revisarlo en el resumen "
   ]
  },
  {
   "cell_type": "code",
   "execution_count": null,
   "id": "parliamentary-corruption",
   "metadata": {},
   "outputs": [],
   "source": []
  }
 ],
 "metadata": {
  "kernelspec": {
   "display_name": "R",
   "language": "R",
   "name": "ir"
  },
  "language_info": {
   "codemirror_mode": "r",
   "file_extension": ".r",
   "mimetype": "text/x-r-source",
   "name": "R",
   "pygments_lexer": "r",
   "version": "3.6.1"
  }
 },
 "nbformat": 4,
 "nbformat_minor": 5
}
