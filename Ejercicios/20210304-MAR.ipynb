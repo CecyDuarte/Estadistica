{
 "cells": [
  {
   "cell_type": "markdown",
   "id": "increased-backup",
   "metadata": {},
   "source": [
    "# Análisis del conjunto diabetic"
   ]
  },
  {
   "cell_type": "code",
   "execution_count": 19,
   "id": "suspended-cedar",
   "metadata": {},
   "outputs": [],
   "source": [
    "library(survival)"
   ]
  },
  {
   "cell_type": "code",
   "execution_count": 20,
   "id": "personalized-connection",
   "metadata": {},
   "outputs": [],
   "source": [
    "data(diabetic)"
   ]
  },
  {
   "cell_type": "code",
   "execution_count": 21,
   "id": "younger-donna",
   "metadata": {},
   "outputs": [
    {
     "data": {
      "text/html": [
       "<table>\n",
       "<thead><tr><th scope=col>id</th><th scope=col>laser</th><th scope=col>age</th><th scope=col>eye</th><th scope=col>trt</th><th scope=col>risk</th><th scope=col>time</th><th scope=col>status</th></tr></thead>\n",
       "<tbody>\n",
       "\t<tr><td>  5  </td><td>argon</td><td>28   </td><td>left </td><td>0    </td><td> 9   </td><td>46.23</td><td>0    </td></tr>\n",
       "\t<tr><td>  5  </td><td>argon</td><td>28   </td><td>right</td><td>1    </td><td> 9   </td><td>46.23</td><td>0    </td></tr>\n",
       "\t<tr><td> 14  </td><td>xenon</td><td>12   </td><td>left </td><td>1    </td><td> 8   </td><td>42.50</td><td>0    </td></tr>\n",
       "\t<tr><td> 14  </td><td>xenon</td><td>12   </td><td>right</td><td>0    </td><td> 6   </td><td>31.30</td><td>1    </td></tr>\n",
       "\t<tr><td> 16  </td><td>xenon</td><td> 9   </td><td>left </td><td>1    </td><td>11   </td><td>42.27</td><td>0    </td></tr>\n",
       "\t<tr><td> 16  </td><td>xenon</td><td> 9   </td><td>right</td><td>0    </td><td>11   </td><td>42.27</td><td>0    </td></tr>\n",
       "\t<tr><td> 25  </td><td>xenon</td><td> 9   </td><td>left </td><td>0    </td><td>11   </td><td>20.60</td><td>0    </td></tr>\n",
       "\t<tr><td> 25  </td><td>xenon</td><td> 9   </td><td>right</td><td>1    </td><td>11   </td><td>20.60</td><td>0    </td></tr>\n",
       "\t<tr><td> 29  </td><td>xenon</td><td>13   </td><td>left </td><td>0    </td><td>10   </td><td> 0.30</td><td>1    </td></tr>\n",
       "\t<tr><td> 29  </td><td>xenon</td><td>13   </td><td>right</td><td>1    </td><td> 9   </td><td>38.77</td><td>0    </td></tr>\n",
       "\t<tr><td> 46  </td><td>xenon</td><td>12   </td><td>left </td><td>1    </td><td> 9   </td><td>65.23</td><td>0    </td></tr>\n",
       "\t<tr><td> 46  </td><td>xenon</td><td>12   </td><td>right</td><td>0    </td><td> 9   </td><td>54.27</td><td>1    </td></tr>\n",
       "\t<tr><td> 49  </td><td>xenon</td><td> 8   </td><td>left </td><td>1    </td><td> 8   </td><td>63.50</td><td>0    </td></tr>\n",
       "\t<tr><td> 49  </td><td>xenon</td><td> 8   </td><td>right</td><td>0    </td><td> 6   </td><td>10.80</td><td>1    </td></tr>\n",
       "\t<tr><td> 56  </td><td>xenon</td><td>12   </td><td>left </td><td>1    </td><td> 8   </td><td>23.17</td><td>0    </td></tr>\n",
       "\t<tr><td> 56  </td><td>xenon</td><td>12   </td><td>right</td><td>0    </td><td> 9   </td><td>23.17</td><td>0    </td></tr>\n",
       "\t<tr><td> 61  </td><td>xenon</td><td>16   </td><td>left </td><td>1    </td><td> 9   </td><td> 1.47</td><td>0    </td></tr>\n",
       "\t<tr><td> 61  </td><td>xenon</td><td>16   </td><td>right</td><td>0    </td><td>10   </td><td> 1.47</td><td>0    </td></tr>\n",
       "\t<tr><td> 71  </td><td>argon</td><td>21   </td><td>left </td><td>1    </td><td> 9   </td><td>58.07</td><td>0    </td></tr>\n",
       "\t<tr><td> 71  </td><td>argon</td><td>21   </td><td>right</td><td>0    </td><td> 9   </td><td>13.83</td><td>1    </td></tr>\n",
       "\t<tr><td>100  </td><td>argon</td><td>23   </td><td>left </td><td>0    </td><td> 9   </td><td>48.53</td><td>0    </td></tr>\n",
       "\t<tr><td>100  </td><td>argon</td><td>23   </td><td>right</td><td>1    </td><td> 9   </td><td>46.43</td><td>1    </td></tr>\n",
       "\t<tr><td>112  </td><td>argon</td><td>44   </td><td>left </td><td>1    </td><td>11   </td><td>44.40</td><td>0    </td></tr>\n",
       "\t<tr><td>112  </td><td>argon</td><td>44   </td><td>right</td><td>0    </td><td>12   </td><td> 7.90</td><td>1    </td></tr>\n",
       "\t<tr><td>120  </td><td>argon</td><td>47   </td><td>left </td><td>0    </td><td> 6   </td><td>39.57</td><td>0    </td></tr>\n",
       "\t<tr><td>120  </td><td>argon</td><td>47   </td><td>right</td><td>1    </td><td>11   </td><td>39.57</td><td>0    </td></tr>\n",
       "\t<tr><td>127  </td><td>argon</td><td>48   </td><td>left </td><td>1    </td><td> 6   </td><td>30.83</td><td>1    </td></tr>\n",
       "\t<tr><td>127  </td><td>argon</td><td>48   </td><td>right</td><td>0    </td><td>10   </td><td>38.57</td><td>1    </td></tr>\n",
       "\t<tr><td>133  </td><td>argon</td><td>26   </td><td>left </td><td>1    </td><td>10   </td><td>66.27</td><td>0    </td></tr>\n",
       "\t<tr><td>133  </td><td>argon</td><td>26   </td><td>right</td><td>0    </td><td> 9   </td><td>14.10</td><td>1    </td></tr>\n",
       "\t<tr><td>...</td><td>...</td><td>...</td><td>...</td><td>...</td><td>...</td><td>...</td><td>...</td></tr>\n",
       "\t<tr><td>1619 </td><td>argon</td><td>20   </td><td>left </td><td>0    </td><td>12   </td><td>61.83</td><td>1    </td></tr>\n",
       "\t<tr><td>1619 </td><td>argon</td><td>20   </td><td>right</td><td>1    </td><td> 9   </td><td>74.97</td><td>0    </td></tr>\n",
       "\t<tr><td>1627 </td><td>xenon</td><td>10   </td><td>left </td><td>0    </td><td>12   </td><td>66.97</td><td>0    </td></tr>\n",
       "\t<tr><td>1627 </td><td>xenon</td><td>10   </td><td>right</td><td>1    </td><td>10   </td><td> 6.57</td><td>1    </td></tr>\n",
       "\t<tr><td>1636 </td><td>xenon</td><td>16   </td><td>left </td><td>1    </td><td> 6   </td><td>38.87</td><td>1    </td></tr>\n",
       "\t<tr><td>1636 </td><td>xenon</td><td>16   </td><td>right</td><td>0    </td><td> 6   </td><td>68.30</td><td>0    </td></tr>\n",
       "\t<tr><td>1640 </td><td>xenon</td><td>10   </td><td>left </td><td>0    </td><td> 9   </td><td>46.63</td><td>1    </td></tr>\n",
       "\t<tr><td>1640 </td><td>xenon</td><td>10   </td><td>right</td><td>1    </td><td>11   </td><td>42.43</td><td>1    </td></tr>\n",
       "\t<tr><td>1643 </td><td>xenon</td><td>11   </td><td>left </td><td>1    </td><td> 9   </td><td>67.07</td><td>0    </td></tr>\n",
       "\t<tr><td>1643 </td><td>xenon</td><td>11   </td><td>right</td><td>0    </td><td> 9   </td><td>67.07</td><td>0    </td></tr>\n",
       "\t<tr><td>1649 </td><td>xenon</td><td> 1   </td><td>left </td><td>1    </td><td>10   </td><td> 2.70</td><td>1    </td></tr>\n",
       "\t<tr><td>1649 </td><td>xenon</td><td> 1   </td><td>right</td><td>0    </td><td>12   </td><td> 2.70</td><td>0    </td></tr>\n",
       "\t<tr><td>1666 </td><td>xenon</td><td>17   </td><td>left </td><td>0    </td><td> 8   </td><td>63.80</td><td>0    </td></tr>\n",
       "\t<tr><td>1666 </td><td>xenon</td><td>17   </td><td>right</td><td>1    </td><td> 6   </td><td>63.80</td><td>0    </td></tr>\n",
       "\t<tr><td>1672 </td><td>xenon</td><td> 7   </td><td>left </td><td>0    </td><td> 9   </td><td>32.63</td><td>0    </td></tr>\n",
       "\t<tr><td>1672 </td><td>xenon</td><td> 7   </td><td>right</td><td>1    </td><td> 9   </td><td>32.63</td><td>0    </td></tr>\n",
       "\t<tr><td>1683 </td><td>argon</td><td>29   </td><td>left </td><td>1    </td><td>10   </td><td>62.00</td><td>0    </td></tr>\n",
       "\t<tr><td>1683 </td><td>argon</td><td>29   </td><td>right</td><td>0    </td><td> 8   </td><td>62.00</td><td>0    </td></tr>\n",
       "\t<tr><td>1688 </td><td>xenon</td><td> 5   </td><td>left </td><td>0    </td><td>10   </td><td>54.80</td><td>0    </td></tr>\n",
       "\t<tr><td>1688 </td><td>xenon</td><td> 5   </td><td>right</td><td>1    </td><td>11   </td><td>13.10</td><td>1    </td></tr>\n",
       "\t<tr><td>1705 </td><td>xenon</td><td> 1   </td><td>left </td><td>0    </td><td> 8   </td><td> 8.00</td><td>0    </td></tr>\n",
       "\t<tr><td>1705 </td><td>xenon</td><td> 1   </td><td>right</td><td>1    </td><td> 8   </td><td> 8.00</td><td>0    </td></tr>\n",
       "\t<tr><td>1717 </td><td>argon</td><td>22   </td><td>left </td><td>0    </td><td>11   </td><td>42.33</td><td>1    </td></tr>\n",
       "\t<tr><td>1717 </td><td>argon</td><td>22   </td><td>right</td><td>1    </td><td>12   </td><td>51.60</td><td>0    </td></tr>\n",
       "\t<tr><td>1727 </td><td>argon</td><td>33   </td><td>left </td><td>1    </td><td> 9   </td><td>49.97</td><td>0    </td></tr>\n",
       "\t<tr><td>1727 </td><td>argon</td><td>33   </td><td>right</td><td>0    </td><td>10   </td><td> 2.90</td><td>1    </td></tr>\n",
       "\t<tr><td>1746 </td><td>xenon</td><td> 3   </td><td>left </td><td>1    </td><td>10   </td><td>45.90</td><td>0    </td></tr>\n",
       "\t<tr><td>1746 </td><td>xenon</td><td> 3   </td><td>right</td><td>0    </td><td>10   </td><td> 1.43</td><td>1    </td></tr>\n",
       "\t<tr><td>1749 </td><td>argon</td><td>32   </td><td>left </td><td>1    </td><td> 9   </td><td>41.93</td><td>0    </td></tr>\n",
       "\t<tr><td>1749 </td><td>argon</td><td>32   </td><td>right</td><td>0    </td><td> 9   </td><td>41.93</td><td>0    </td></tr>\n",
       "</tbody>\n",
       "</table>\n"
      ],
      "text/latex": [
       "\\begin{tabular}{r|llllllll}\n",
       " id & laser & age & eye & trt & risk & time & status\\\\\n",
       "\\hline\n",
       "\t   5   & argon & 28    & left  & 0     &  9    & 46.23 & 0    \\\\\n",
       "\t   5   & argon & 28    & right & 1     &  9    & 46.23 & 0    \\\\\n",
       "\t  14   & xenon & 12    & left  & 1     &  8    & 42.50 & 0    \\\\\n",
       "\t  14   & xenon & 12    & right & 0     &  6    & 31.30 & 1    \\\\\n",
       "\t  16   & xenon &  9    & left  & 1     & 11    & 42.27 & 0    \\\\\n",
       "\t  16   & xenon &  9    & right & 0     & 11    & 42.27 & 0    \\\\\n",
       "\t  25   & xenon &  9    & left  & 0     & 11    & 20.60 & 0    \\\\\n",
       "\t  25   & xenon &  9    & right & 1     & 11    & 20.60 & 0    \\\\\n",
       "\t  29   & xenon & 13    & left  & 0     & 10    &  0.30 & 1    \\\\\n",
       "\t  29   & xenon & 13    & right & 1     &  9    & 38.77 & 0    \\\\\n",
       "\t  46   & xenon & 12    & left  & 1     &  9    & 65.23 & 0    \\\\\n",
       "\t  46   & xenon & 12    & right & 0     &  9    & 54.27 & 1    \\\\\n",
       "\t  49   & xenon &  8    & left  & 1     &  8    & 63.50 & 0    \\\\\n",
       "\t  49   & xenon &  8    & right & 0     &  6    & 10.80 & 1    \\\\\n",
       "\t  56   & xenon & 12    & left  & 1     &  8    & 23.17 & 0    \\\\\n",
       "\t  56   & xenon & 12    & right & 0     &  9    & 23.17 & 0    \\\\\n",
       "\t  61   & xenon & 16    & left  & 1     &  9    &  1.47 & 0    \\\\\n",
       "\t  61   & xenon & 16    & right & 0     & 10    &  1.47 & 0    \\\\\n",
       "\t  71   & argon & 21    & left  & 1     &  9    & 58.07 & 0    \\\\\n",
       "\t  71   & argon & 21    & right & 0     &  9    & 13.83 & 1    \\\\\n",
       "\t 100   & argon & 23    & left  & 0     &  9    & 48.53 & 0    \\\\\n",
       "\t 100   & argon & 23    & right & 1     &  9    & 46.43 & 1    \\\\\n",
       "\t 112   & argon & 44    & left  & 1     & 11    & 44.40 & 0    \\\\\n",
       "\t 112   & argon & 44    & right & 0     & 12    &  7.90 & 1    \\\\\n",
       "\t 120   & argon & 47    & left  & 0     &  6    & 39.57 & 0    \\\\\n",
       "\t 120   & argon & 47    & right & 1     & 11    & 39.57 & 0    \\\\\n",
       "\t 127   & argon & 48    & left  & 1     &  6    & 30.83 & 1    \\\\\n",
       "\t 127   & argon & 48    & right & 0     & 10    & 38.57 & 1    \\\\\n",
       "\t 133   & argon & 26    & left  & 1     & 10    & 66.27 & 0    \\\\\n",
       "\t 133   & argon & 26    & right & 0     &  9    & 14.10 & 1    \\\\\n",
       "\t ... & ... & ... & ... & ... & ... & ... & ...\\\\\n",
       "\t 1619  & argon & 20    & left  & 0     & 12    & 61.83 & 1    \\\\\n",
       "\t 1619  & argon & 20    & right & 1     &  9    & 74.97 & 0    \\\\\n",
       "\t 1627  & xenon & 10    & left  & 0     & 12    & 66.97 & 0    \\\\\n",
       "\t 1627  & xenon & 10    & right & 1     & 10    &  6.57 & 1    \\\\\n",
       "\t 1636  & xenon & 16    & left  & 1     &  6    & 38.87 & 1    \\\\\n",
       "\t 1636  & xenon & 16    & right & 0     &  6    & 68.30 & 0    \\\\\n",
       "\t 1640  & xenon & 10    & left  & 0     &  9    & 46.63 & 1    \\\\\n",
       "\t 1640  & xenon & 10    & right & 1     & 11    & 42.43 & 1    \\\\\n",
       "\t 1643  & xenon & 11    & left  & 1     &  9    & 67.07 & 0    \\\\\n",
       "\t 1643  & xenon & 11    & right & 0     &  9    & 67.07 & 0    \\\\\n",
       "\t 1649  & xenon &  1    & left  & 1     & 10    &  2.70 & 1    \\\\\n",
       "\t 1649  & xenon &  1    & right & 0     & 12    &  2.70 & 0    \\\\\n",
       "\t 1666  & xenon & 17    & left  & 0     &  8    & 63.80 & 0    \\\\\n",
       "\t 1666  & xenon & 17    & right & 1     &  6    & 63.80 & 0    \\\\\n",
       "\t 1672  & xenon &  7    & left  & 0     &  9    & 32.63 & 0    \\\\\n",
       "\t 1672  & xenon &  7    & right & 1     &  9    & 32.63 & 0    \\\\\n",
       "\t 1683  & argon & 29    & left  & 1     & 10    & 62.00 & 0    \\\\\n",
       "\t 1683  & argon & 29    & right & 0     &  8    & 62.00 & 0    \\\\\n",
       "\t 1688  & xenon &  5    & left  & 0     & 10    & 54.80 & 0    \\\\\n",
       "\t 1688  & xenon &  5    & right & 1     & 11    & 13.10 & 1    \\\\\n",
       "\t 1705  & xenon &  1    & left  & 0     &  8    &  8.00 & 0    \\\\\n",
       "\t 1705  & xenon &  1    & right & 1     &  8    &  8.00 & 0    \\\\\n",
       "\t 1717  & argon & 22    & left  & 0     & 11    & 42.33 & 1    \\\\\n",
       "\t 1717  & argon & 22    & right & 1     & 12    & 51.60 & 0    \\\\\n",
       "\t 1727  & argon & 33    & left  & 1     &  9    & 49.97 & 0    \\\\\n",
       "\t 1727  & argon & 33    & right & 0     & 10    &  2.90 & 1    \\\\\n",
       "\t 1746  & xenon &  3    & left  & 1     & 10    & 45.90 & 0    \\\\\n",
       "\t 1746  & xenon &  3    & right & 0     & 10    &  1.43 & 1    \\\\\n",
       "\t 1749  & argon & 32    & left  & 1     &  9    & 41.93 & 0    \\\\\n",
       "\t 1749  & argon & 32    & right & 0     &  9    & 41.93 & 0    \\\\\n",
       "\\end{tabular}\n"
      ],
      "text/markdown": [
       "\n",
       "| id | laser | age | eye | trt | risk | time | status |\n",
       "|---|---|---|---|---|---|---|---|\n",
       "|   5   | argon | 28    | left  | 0     |  9    | 46.23 | 0     |\n",
       "|   5   | argon | 28    | right | 1     |  9    | 46.23 | 0     |\n",
       "|  14   | xenon | 12    | left  | 1     |  8    | 42.50 | 0     |\n",
       "|  14   | xenon | 12    | right | 0     |  6    | 31.30 | 1     |\n",
       "|  16   | xenon |  9    | left  | 1     | 11    | 42.27 | 0     |\n",
       "|  16   | xenon |  9    | right | 0     | 11    | 42.27 | 0     |\n",
       "|  25   | xenon |  9    | left  | 0     | 11    | 20.60 | 0     |\n",
       "|  25   | xenon |  9    | right | 1     | 11    | 20.60 | 0     |\n",
       "|  29   | xenon | 13    | left  | 0     | 10    |  0.30 | 1     |\n",
       "|  29   | xenon | 13    | right | 1     |  9    | 38.77 | 0     |\n",
       "|  46   | xenon | 12    | left  | 1     |  9    | 65.23 | 0     |\n",
       "|  46   | xenon | 12    | right | 0     |  9    | 54.27 | 1     |\n",
       "|  49   | xenon |  8    | left  | 1     |  8    | 63.50 | 0     |\n",
       "|  49   | xenon |  8    | right | 0     |  6    | 10.80 | 1     |\n",
       "|  56   | xenon | 12    | left  | 1     |  8    | 23.17 | 0     |\n",
       "|  56   | xenon | 12    | right | 0     |  9    | 23.17 | 0     |\n",
       "|  61   | xenon | 16    | left  | 1     |  9    |  1.47 | 0     |\n",
       "|  61   | xenon | 16    | right | 0     | 10    |  1.47 | 0     |\n",
       "|  71   | argon | 21    | left  | 1     |  9    | 58.07 | 0     |\n",
       "|  71   | argon | 21    | right | 0     |  9    | 13.83 | 1     |\n",
       "| 100   | argon | 23    | left  | 0     |  9    | 48.53 | 0     |\n",
       "| 100   | argon | 23    | right | 1     |  9    | 46.43 | 1     |\n",
       "| 112   | argon | 44    | left  | 1     | 11    | 44.40 | 0     |\n",
       "| 112   | argon | 44    | right | 0     | 12    |  7.90 | 1     |\n",
       "| 120   | argon | 47    | left  | 0     |  6    | 39.57 | 0     |\n",
       "| 120   | argon | 47    | right | 1     | 11    | 39.57 | 0     |\n",
       "| 127   | argon | 48    | left  | 1     |  6    | 30.83 | 1     |\n",
       "| 127   | argon | 48    | right | 0     | 10    | 38.57 | 1     |\n",
       "| 133   | argon | 26    | left  | 1     | 10    | 66.27 | 0     |\n",
       "| 133   | argon | 26    | right | 0     |  9    | 14.10 | 1     |\n",
       "| ... | ... | ... | ... | ... | ... | ... | ... |\n",
       "| 1619  | argon | 20    | left  | 0     | 12    | 61.83 | 1     |\n",
       "| 1619  | argon | 20    | right | 1     |  9    | 74.97 | 0     |\n",
       "| 1627  | xenon | 10    | left  | 0     | 12    | 66.97 | 0     |\n",
       "| 1627  | xenon | 10    | right | 1     | 10    |  6.57 | 1     |\n",
       "| 1636  | xenon | 16    | left  | 1     |  6    | 38.87 | 1     |\n",
       "| 1636  | xenon | 16    | right | 0     |  6    | 68.30 | 0     |\n",
       "| 1640  | xenon | 10    | left  | 0     |  9    | 46.63 | 1     |\n",
       "| 1640  | xenon | 10    | right | 1     | 11    | 42.43 | 1     |\n",
       "| 1643  | xenon | 11    | left  | 1     |  9    | 67.07 | 0     |\n",
       "| 1643  | xenon | 11    | right | 0     |  9    | 67.07 | 0     |\n",
       "| 1649  | xenon |  1    | left  | 1     | 10    |  2.70 | 1     |\n",
       "| 1649  | xenon |  1    | right | 0     | 12    |  2.70 | 0     |\n",
       "| 1666  | xenon | 17    | left  | 0     |  8    | 63.80 | 0     |\n",
       "| 1666  | xenon | 17    | right | 1     |  6    | 63.80 | 0     |\n",
       "| 1672  | xenon |  7    | left  | 0     |  9    | 32.63 | 0     |\n",
       "| 1672  | xenon |  7    | right | 1     |  9    | 32.63 | 0     |\n",
       "| 1683  | argon | 29    | left  | 1     | 10    | 62.00 | 0     |\n",
       "| 1683  | argon | 29    | right | 0     |  8    | 62.00 | 0     |\n",
       "| 1688  | xenon |  5    | left  | 0     | 10    | 54.80 | 0     |\n",
       "| 1688  | xenon |  5    | right | 1     | 11    | 13.10 | 1     |\n",
       "| 1705  | xenon |  1    | left  | 0     |  8    |  8.00 | 0     |\n",
       "| 1705  | xenon |  1    | right | 1     |  8    |  8.00 | 0     |\n",
       "| 1717  | argon | 22    | left  | 0     | 11    | 42.33 | 1     |\n",
       "| 1717  | argon | 22    | right | 1     | 12    | 51.60 | 0     |\n",
       "| 1727  | argon | 33    | left  | 1     |  9    | 49.97 | 0     |\n",
       "| 1727  | argon | 33    | right | 0     | 10    |  2.90 | 1     |\n",
       "| 1746  | xenon |  3    | left  | 1     | 10    | 45.90 | 0     |\n",
       "| 1746  | xenon |  3    | right | 0     | 10    |  1.43 | 1     |\n",
       "| 1749  | argon | 32    | left  | 1     |  9    | 41.93 | 0     |\n",
       "| 1749  | argon | 32    | right | 0     |  9    | 41.93 | 0     |\n",
       "\n"
      ],
      "text/plain": [
       "    id   laser age eye   trt risk time  status\n",
       "1     5  argon 28  left  0    9   46.23 0     \n",
       "2     5  argon 28  right 1    9   46.23 0     \n",
       "3    14  xenon 12  left  1    8   42.50 0     \n",
       "4    14  xenon 12  right 0    6   31.30 1     \n",
       "5    16  xenon  9  left  1   11   42.27 0     \n",
       "6    16  xenon  9  right 0   11   42.27 0     \n",
       "7    25  xenon  9  left  0   11   20.60 0     \n",
       "8    25  xenon  9  right 1   11   20.60 0     \n",
       "9    29  xenon 13  left  0   10    0.30 1     \n",
       "10   29  xenon 13  right 1    9   38.77 0     \n",
       "11   46  xenon 12  left  1    9   65.23 0     \n",
       "12   46  xenon 12  right 0    9   54.27 1     \n",
       "13   49  xenon  8  left  1    8   63.50 0     \n",
       "14   49  xenon  8  right 0    6   10.80 1     \n",
       "15   56  xenon 12  left  1    8   23.17 0     \n",
       "16   56  xenon 12  right 0    9   23.17 0     \n",
       "17   61  xenon 16  left  1    9    1.47 0     \n",
       "18   61  xenon 16  right 0   10    1.47 0     \n",
       "19   71  argon 21  left  1    9   58.07 0     \n",
       "20   71  argon 21  right 0    9   13.83 1     \n",
       "21  100  argon 23  left  0    9   48.53 0     \n",
       "22  100  argon 23  right 1    9   46.43 1     \n",
       "23  112  argon 44  left  1   11   44.40 0     \n",
       "24  112  argon 44  right 0   12    7.90 1     \n",
       "25  120  argon 47  left  0    6   39.57 0     \n",
       "26  120  argon 47  right 1   11   39.57 0     \n",
       "27  127  argon 48  left  1    6   30.83 1     \n",
       "28  127  argon 48  right 0   10   38.57 1     \n",
       "29  133  argon 26  left  1   10   66.27 0     \n",
       "30  133  argon 26  right 0    9   14.10 1     \n",
       "... ...  ...   ... ...   ... ...  ...   ...   \n",
       "365 1619 argon 20  left  0   12   61.83 1     \n",
       "366 1619 argon 20  right 1    9   74.97 0     \n",
       "367 1627 xenon 10  left  0   12   66.97 0     \n",
       "368 1627 xenon 10  right 1   10    6.57 1     \n",
       "369 1636 xenon 16  left  1    6   38.87 1     \n",
       "370 1636 xenon 16  right 0    6   68.30 0     \n",
       "371 1640 xenon 10  left  0    9   46.63 1     \n",
       "372 1640 xenon 10  right 1   11   42.43 1     \n",
       "373 1643 xenon 11  left  1    9   67.07 0     \n",
       "374 1643 xenon 11  right 0    9   67.07 0     \n",
       "375 1649 xenon  1  left  1   10    2.70 1     \n",
       "376 1649 xenon  1  right 0   12    2.70 0     \n",
       "377 1666 xenon 17  left  0    8   63.80 0     \n",
       "378 1666 xenon 17  right 1    6   63.80 0     \n",
       "379 1672 xenon  7  left  0    9   32.63 0     \n",
       "380 1672 xenon  7  right 1    9   32.63 0     \n",
       "381 1683 argon 29  left  1   10   62.00 0     \n",
       "382 1683 argon 29  right 0    8   62.00 0     \n",
       "383 1688 xenon  5  left  0   10   54.80 0     \n",
       "384 1688 xenon  5  right 1   11   13.10 1     \n",
       "385 1705 xenon  1  left  0    8    8.00 0     \n",
       "386 1705 xenon  1  right 1    8    8.00 0     \n",
       "387 1717 argon 22  left  0   11   42.33 1     \n",
       "388 1717 argon 22  right 1   12   51.60 0     \n",
       "389 1727 argon 33  left  1    9   49.97 0     \n",
       "390 1727 argon 33  right 0   10    2.90 1     \n",
       "391 1746 xenon  3  left  1   10   45.90 0     \n",
       "392 1746 xenon  3  right 0   10    1.43 1     \n",
       "393 1749 argon 32  left  1    9   41.93 0     \n",
       "394 1749 argon 32  right 0    9   41.93 0     "
      ]
     },
     "metadata": {},
     "output_type": "display_data"
    }
   ],
   "source": [
    "diabetic"
   ]
  },
  {
   "cell_type": "markdown",
   "id": "dress-bookmark",
   "metadata": {},
   "source": [
    "## Falla definida como pérdida de vision==1"
   ]
  },
  {
   "cell_type": "markdown",
   "id": "infectious-geometry",
   "metadata": {},
   "source": [
    "**Descrptiva**"
   ]
  },
  {
   "cell_type": "code",
   "execution_count": 27,
   "id": "signed-hybrid",
   "metadata": {},
   "outputs": [
    {
     "data": {
      "text/html": [
       "0"
      ],
      "text/latex": [
       "0"
      ],
      "text/markdown": [
       "0"
      ],
      "text/plain": [
       "[1] 0"
      ]
     },
     "metadata": {},
     "output_type": "display_data"
    }
   ],
   "source": [
    "sum(is.na(diabetic))"
   ]
  },
  {
   "cell_type": "markdown",
   "id": "willing-aaron",
   "metadata": {},
   "source": [
    "**Conteo bajo ciertas categorías**"
   ]
  },
  {
   "cell_type": "code",
   "execution_count": 28,
   "id": "severe-liquid",
   "metadata": {},
   "outputs": [
    {
     "data": {
      "text/html": [
       "114"
      ],
      "text/latex": [
       "114"
      ],
      "text/markdown": [
       "114"
      ],
      "text/plain": [
       "[1] 114"
      ]
     },
     "metadata": {},
     "output_type": "display_data"
    }
   ],
   "source": [
    "sum(diabetic$eye==\"left\" & diabetic$laser==\"xenon\")"
   ]
  },
  {
   "cell_type": "markdown",
   "id": "blind-oriental",
   "metadata": {},
   "source": [
    "**Promedios**"
   ]
  },
  {
   "cell_type": "code",
   "execution_count": 29,
   "id": "junior-canyon",
   "metadata": {},
   "outputs": [
    {
     "data": {
      "text/html": [
       "17.8312643678161"
      ],
      "text/latex": [
       "17.8312643678161"
      ],
      "text/markdown": [
       "17.8312643678161"
      ],
      "text/plain": [
       "[1] 17.83126"
      ]
     },
     "metadata": {},
     "output_type": "display_data"
    }
   ],
   "source": [
    "mean(diabetic$time[diabetic$status==1 & diabetic$laser==\"xenon\"])"
   ]
  },
  {
   "cell_type": "markdown",
   "id": "minus-regression",
   "metadata": {},
   "source": [
    "**Gráficas**"
   ]
  },
  {
   "cell_type": "code",
   "execution_count": 30,
   "id": "funded-franklin",
   "metadata": {},
   "outputs": [],
   "source": [
    "laser<-factor(diabetic$laser, labels=c(\"xenon\", \"argon\"))"
   ]
  },
  {
   "cell_type": "code",
   "execution_count": 31,
   "id": "proved-incidence",
   "metadata": {
    "scrolled": true
   },
   "outputs": [
    {
     "data": {
      "image/png": "[encoded data removed]",
      "text/plain": [
       "Plot with title \"Proporción de laser\""
      ]
     },
     "metadata": {},
     "output_type": "display_data"
    }
   ],
   "source": [
    "pie(table(laser), col=c(\"blue\", \"green\"), main=\"Proporción de laser\")"
   ]
  },
  {
   "cell_type": "markdown",
   "id": "growing-python",
   "metadata": {},
   "source": [
    "*Boxplot comparativo para dispersión de tiempos por laser*"
   ]
  },
  {
   "cell_type": "code",
   "execution_count": 32,
   "id": "small-season",
   "metadata": {},
   "outputs": [
    {
     "data": {
      "image/png": "[encoded data removed]",
      "text/plain": [
       "plot without title"
      ]
     },
     "metadata": {},
     "output_type": "display_data"
    }
   ],
   "source": [
    "boxplot(diabetic$time[diabetic$status==1 & diabetic$laser==\"xenon\"], \n",
    "        diabetic$time[diabetic$status==1 & diabetic$laser==\"argon\"])"
   ]
  },
  {
   "cell_type": "markdown",
   "id": "tracked-continent",
   "metadata": {},
   "source": [
    "## Objeto surv"
   ]
  },
  {
   "cell_type": "code",
   "execution_count": 34,
   "id": "civic-hayes",
   "metadata": {},
   "outputs": [],
   "source": [
    "r.dia<-Surv(diabetic$time, diabetic$status)"
   ]
  },
  {
   "cell_type": "code",
   "execution_count": 35,
   "id": "afraid-chance",
   "metadata": {},
   "outputs": [
    {
     "data": {
      "text/plain": [
       " Length   Class    Mode \n",
       "      3 formula    call "
      ]
     },
     "metadata": {},
     "output_type": "display_data"
    }
   ],
   "source": [
    "summary(r.dia~diabetic$id+diabetic$laser+diabetic$age+diabetic$eye+diabetic$trt+diabetic$risk)"
   ]
  },
  {
   "cell_type": "code",
   "execution_count": 36,
   "id": "distinct-attendance",
   "metadata": {},
   "outputs": [
    {
     "data": {
      "text/plain": [
       "Call:\n",
       "coxph(formula = r.dia ~ diabetic$id + diabetic$eye + diabetic$trt + \n",
       "    diabetic$risk)\n",
       "\n",
       "  n= 394, number of events= 155 \n",
       "\n",
       "                        coef  exp(coef)   se(coef)      z Pr(>|z|)    \n",
       "diabetic$id       -0.0003824  0.9996176  0.0001637 -2.337   0.0194 *  \n",
       "diabetic$eyeright  0.3376084  1.4015916  0.1628860  2.073   0.0382 *  \n",
       "diabetic$trt      -0.8260376  0.4377805  0.1698888 -4.862 1.16e-06 ***\n",
       "diabetic$risk      0.1421855  1.1527904  0.0554172  2.566   0.0103 *  \n",
       "---\n",
       "Signif. codes:  0 '***' 0.001 '**' 0.01 '*' 0.05 '.' 0.1 ' ' 1\n",
       "\n",
       "                  exp(coef) exp(-coef) lower .95 upper .95\n",
       "diabetic$id          0.9996     1.0004    0.9993    0.9999\n",
       "diabetic$eyeright    1.4016     0.7135    1.0185    1.9287\n",
       "diabetic$trt         0.4378     2.2842    0.3138    0.6108\n",
       "diabetic$risk        1.1528     0.8675    1.0341    1.2851\n",
       "\n",
       "Concordance= 0.646  (se = 0.023 )\n",
       "Likelihood ratio test= 39.39  on 4 df,   p=6e-08\n",
       "Wald test            = 37.98  on 4 df,   p=1e-07\n",
       "Score (logrank) test = 38.75  on 4 df,   p=8e-08\n"
      ]
     },
     "metadata": {},
     "output_type": "display_data"
    }
   ],
   "source": [
    "cox2<-coxph(r.dia~diabetic$id+diabetic$eye+diabetic$trt+diabetic$risk)\n",
    "summary(cox2)"
   ]
  },
  {
   "cell_type": "markdown",
   "id": "egyptian-expert",
   "metadata": {},
   "source": [
    "**Residuales**"
   ]
  },
  {
   "cell_type": "code",
   "execution_count": 37,
   "id": "adopted-sector",
   "metadata": {},
   "outputs": [
    {
     "data": {
      "image/png": "[encoded data removed]",
      "text/plain": [
       "plot without title"
      ]
     },
     "metadata": {},
     "output_type": "display_data"
    }
   ],
   "source": [
    "plot(resid(cox2, type=\"martingale\"))"
   ]
  },
  {
   "cell_type": "code",
   "execution_count": 38,
   "id": "appreciated-coach",
   "metadata": {},
   "outputs": [],
   "source": [
    "desv.dia<-resid(cox2, type=\"deviance\")"
   ]
  },
  {
   "cell_type": "code",
   "execution_count": 39,
   "id": "skilled-original",
   "metadata": {},
   "outputs": [
    {
     "data": {
      "image/png": "[encoded data removed]",
      "text/plain": [
       "plot without title"
      ]
     },
     "metadata": {},
     "output_type": "display_data"
    }
   ],
   "source": [
    "plot(desv.dia, ylim=c(-3.1, 3.1))"
   ]
  },
  {
   "cell_type": "code",
   "execution_count": 40,
   "id": "brutal-mapping",
   "metadata": {},
   "outputs": [
    {
     "ename": "ERROR",
     "evalue": "Error in int_abline(a = a, b = b, h = h, v = v, untf = untf, ...): plot.new has not been called yet\n",
     "output_type": "error",
     "traceback": [
      "Error in int_abline(a = a, b = b, h = h, v = v, untf = untf, ...): plot.new has not been called yet\nTraceback:\n",
      "1. abline(h = c(-3, 3), col = \"purple\")",
      "2. int_abline(a = a, b = b, h = h, v = v, untf = untf, ...)"
     ]
    }
   ],
   "source": [
    "abline(h=c(-3,3), col=\"purple\")"
   ]
  },
  {
   "cell_type": "code",
   "execution_count": 41,
   "id": "buried-breath",
   "metadata": {},
   "outputs": [
    {
     "data": {
      "text/html": [
       "<strong>9:</strong> 3.00119932919153"
      ],
      "text/latex": [
       "\\textbf{9:} 3.00119932919153"
      ],
      "text/markdown": [
       "**9:** 3.00119932919153"
      ],
      "text/plain": [
       "       9 \n",
       "3.001199 "
      ]
     },
     "metadata": {},
     "output_type": "display_data"
    }
   ],
   "source": [
    "desv.dia[desv.dia>3]#detectamos la obs 9 como atipico"
   ]
  },
  {
   "cell_type": "markdown",
   "id": "headed-calibration",
   "metadata": {},
   "source": [
    "**Retomando sin la obs 9**"
   ]
  },
  {
   "cell_type": "code",
   "execution_count": 42,
   "id": "minimal-freeware",
   "metadata": {},
   "outputs": [],
   "source": [
    "dia2<-diabetic[-9,]"
   ]
  },
  {
   "cell_type": "code",
   "execution_count": 43,
   "id": "mineral-letter",
   "metadata": {},
   "outputs": [],
   "source": [
    "resp.sin9<-Surv(dia2$time, dia2$status)"
   ]
  },
  {
   "cell_type": "code",
   "execution_count": 44,
   "id": "sought-timber",
   "metadata": {},
   "outputs": [],
   "source": [
    "cox2.sin9<-coxph(resp.sin9~dia2$id + dia2$eye +dia2$trt +dia2$risk)"
   ]
  },
  {
   "cell_type": "code",
   "execution_count": 45,
   "id": "cooperative-enough",
   "metadata": {},
   "outputs": [
    {
     "data": {
      "text/plain": [
       "Call:\n",
       "coxph(formula = resp.sin9 ~ dia2$id + dia2$eye + dia2$trt + dia2$risk)\n",
       "\n",
       "  n= 393, number of events= 154 \n",
       "\n",
       "                    coef  exp(coef)   se(coef)      z Pr(>|z|)    \n",
       "dia2$id       -0.0003616  0.9996385  0.0001640 -2.205   0.0275 *  \n",
       "dia2$eyeright  0.3522808  1.4223079  0.1635440  2.154   0.0312 *  \n",
       "dia2$trt      -0.8183882  0.4411421  0.1701834 -4.809 1.52e-06 ***\n",
       "dia2$risk      0.1419463  1.1525148  0.0555980  2.553   0.0107 *  \n",
       "---\n",
       "Signif. codes:  0 '***' 0.001 '**' 0.01 '*' 0.05 '.' 0.1 ' ' 1\n",
       "\n",
       "              exp(coef) exp(-coef) lower .95 upper .95\n",
       "dia2$id          0.9996     1.0004    0.9993    1.0000\n",
       "dia2$eyeright    1.4223     0.7031    1.0322    1.9598\n",
       "dia2$trt         0.4411     2.2668    0.3160    0.6158\n",
       "dia2$risk        1.1525     0.8677    1.0335    1.2852\n",
       "\n",
       "Concordance= 0.643  (se = 0.023 )\n",
       "Likelihood ratio test= 38.46  on 4 df,   p=9e-08\n",
       "Wald test            = 37.11  on 4 df,   p=2e-07\n",
       "Score (logrank) test = 37.84  on 4 df,   p=1e-07\n"
      ]
     },
     "metadata": {},
     "output_type": "display_data"
    }
   ],
   "source": [
    "summary(cox2.sin9)"
   ]
  },
  {
   "cell_type": "code",
   "execution_count": null,
   "id": "faced-briefing",
   "metadata": {},
   "outputs": [],
   "source": []
  }
 ],
 "metadata": {
  "kernelspec": {
   "display_name": "R",
   "language": "R",
   "name": "ir"
  },
  "language_info": {
   "codemirror_mode": "r",
   "file_extension": ".r",
   "mimetype": "text/x-r-source",
   "name": "R",
   "pygments_lexer": "r",
   "version": "3.6.1"
  }
 },
 "nbformat": 4,
 "nbformat_minor": 5
}
