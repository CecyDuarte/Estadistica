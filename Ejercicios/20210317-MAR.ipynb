{
 "cells": [
  {
   "cell_type": "code",
   "execution_count": 2,
   "id": "prompt-russia",
   "metadata": {},
   "outputs": [
    {
     "name": "stderr",
     "output_type": "stream",
     "text": [
      "Warning message:\n",
      "\"package 'TSA' was built under R version 3.6.3\"\n",
      "Attaching package: 'TSA'\n",
      "\n",
      "The following objects are masked from 'package:stats':\n",
      "\n",
      "    acf, arima\n",
      "\n",
      "The following object is masked from 'package:utils':\n",
      "\n",
      "    tar\n",
      "\n"
     ]
    }
   ],
   "source": [
    "library(tseries)\n",
    "library(TSA)"
   ]
  },
  {
   "cell_type": "code",
   "execution_count": 3,
   "id": "centered-january",
   "metadata": {},
   "outputs": [
    {
     "data": {
      "image/png": "[encoded data removed]",
      "text/plain": [
       "plot without title"
      ]
     },
     "metadata": {},
     "output_type": "display_data"
    }
   ],
   "source": [
    "data(days)\n",
    "plot(days)"
   ]
  },
  {
   "cell_type": "markdown",
   "id": "suspended-faith",
   "metadata": {},
   "source": [
    "## Clasificación"
   ]
  },
  {
   "cell_type": "code",
   "execution_count": 4,
   "id": "colonial-operations",
   "metadata": {},
   "outputs": [
    {
     "data": {
      "text/plain": [
       "\n",
       "Call:\n",
       "lm(formula = days ~ time(days))\n",
       "\n",
       "Residuals:\n",
       "    Min      1Q  Median      3Q     Max \n",
       "-11.921  -4.778  -1.524   4.233  36.753 \n",
       "\n",
       "Coefficients:\n",
       "            Estimate Std. Error t value Pr(>|t|)    \n",
       "(Intercept) 31.10555    1.26902  24.512   <2e-16 ***\n",
       "time(days)  -0.03767    0.01681  -2.241   0.0268 *  \n",
       "---\n",
       "Signif. codes:  0 '***' 0.001 '**' 0.01 '*' 0.05 '.' 0.1 ' ' 1\n",
       "\n",
       "Residual standard error: 7.193 on 128 degrees of freedom\n",
       "Multiple R-squared:  0.03774,\tAdjusted R-squared:  0.03022 \n",
       "F-statistic:  5.02 on 1 and 128 DF,  p-value: 0.02678\n"
      ]
     },
     "metadata": {},
     "output_type": "display_data"
    }
   ],
   "source": [
    "r<-lm(days~time(days))\n",
    "summary(r)"
   ]
  },
  {
   "cell_type": "markdown",
   "id": "earlier-punch",
   "metadata": {},
   "source": [
    "**Modelo cuadrático**"
   ]
  },
  {
   "cell_type": "code",
   "execution_count": 5,
   "id": "absolute-threshold",
   "metadata": {},
   "outputs": [
    {
     "data": {
      "text/plain": [
       "\n",
       "Call:\n",
       "lm(formula = days ~ poly(tt, degree = 2))\n",
       "\n",
       "Residuals:\n",
       "    Min      1Q  Median      3Q     Max \n",
       "-11.836  -5.537  -1.265   4.705  35.033 \n",
       "\n",
       "Coefficients:\n",
       "                      Estimate Std. Error t value Pr(>|t|)    \n",
       "(Intercept)            28.6385     0.6291  45.524   <2e-16 ***\n",
       "poly(tt, degree = 2)1 -16.1159     7.1726  -2.247   0.0264 *  \n",
       "poly(tt, degree = 2)2   9.4143     7.1726   1.313   0.1917    \n",
       "---\n",
       "Signif. codes:  0 '***' 0.001 '**' 0.01 '*' 0.05 '.' 0.1 ' ' 1\n",
       "\n",
       "Residual standard error: 7.173 on 127 degrees of freedom\n",
       "Multiple R-squared:  0.05062,\tAdjusted R-squared:  0.03567 \n",
       "F-statistic: 3.386 on 2 and 127 DF,  p-value: 0.03694\n"
      ]
     },
     "metadata": {},
     "output_type": "display_data"
    }
   ],
   "source": [
    "tt<-as.numeric(time(days))\n",
    "tenc<-lm(days~poly(tt, degree=2))\n",
    "summary(tenc)"
   ]
  },
  {
   "cell_type": "code",
   "execution_count": null,
   "id": "upset-venture",
   "metadata": {},
   "outputs": [],
   "source": [
    "abline(lm(days~time(days)), col=\"red\")\n",
    "lines(tt, fitted.values(tenc), col=\"blue\")"
   ]
  },
  {
   "cell_type": "markdown",
   "id": "renewable-directive",
   "metadata": {},
   "source": [
    "**Varianza**"
   ]
  },
  {
   "cell_type": "code",
   "execution_count": 6,
   "id": "metallic-postage",
   "metadata": {},
   "outputs": [
    {
     "name": "stderr",
     "output_type": "stream",
     "text": [
      "Warning message in adf.test(days, alternative = \"stationary\"):\n",
      "\"p-value smaller than printed p-value\""
     ]
    },
    {
     "data": {
      "text/plain": [
       "\n",
       "\tAugmented Dickey-Fuller Test\n",
       "\n",
       "data:  days\n",
       "Dickey-Fuller = -4.8997, Lag order = 5, p-value = 0.01\n",
       "alternative hypothesis: stationary\n"
      ]
     },
     "metadata": {},
     "output_type": "display_data"
    }
   ],
   "source": [
    "adf.test(days, alternative=\"stationary\")"
   ]
  },
  {
   "cell_type": "markdown",
   "id": "exciting-doubt",
   "metadata": {},
   "source": [
    "<font color= \"red\"> Nota:</font> si es estacionaria\n",
    "<u>Por lo tanto, si es estacionaria </u>"
   ]
  },
  {
   "cell_type": "markdown",
   "id": "exempt-designer",
   "metadata": {},
   "source": []
  },
  {
   "cell_type": "markdown",
   "id": "located-employment",
   "metadata": {},
   "source": [
    "## Modelado"
   ]
  },
  {
   "cell_type": "markdown",
   "id": "common-malawi",
   "metadata": {},
   "source": [
    "**AR**"
   ]
  },
  {
   "cell_type": "code",
   "execution_count": 9,
   "id": "capital-steam",
   "metadata": {},
   "outputs": [
    {
     "data": {
      "text/plain": [
       "\n",
       "Call:\n",
       "ar(x = days)\n",
       "\n",
       "\n",
       "Order selected 0  sigma^2 estimated as  53.35"
      ]
     },
     "metadata": {},
     "output_type": "display_data"
    }
   ],
   "source": [
    "ar(days)"
   ]
  },
  {
   "cell_type": "markdown",
   "id": "laden-elizabeth",
   "metadata": {},
   "source": [
    "**MA**"
   ]
  },
  {
   "cell_type": "code",
   "execution_count": 7,
   "id": "received-singles",
   "metadata": {},
   "outputs": [
    {
     "data": {
      "text/html": [
       "888.954595115148"
      ],
      "text/latex": [
       "888.954595115148"
      ],
      "text/markdown": [
       "888.954595115148"
      ],
      "text/plain": [
       "[1] 888.9546"
      ]
     },
     "metadata": {},
     "output_type": "display_data"
    },
    {
     "data": {
      "text/html": [
       "2"
      ],
      "text/latex": [
       "2"
      ],
      "text/markdown": [
       "2"
      ],
      "text/plain": [
       "[1] 2"
      ]
     },
     "metadata": {},
     "output_type": "display_data"
    }
   ],
   "source": [
    "aic0<-Inf # le das un numero muy grande\n",
    "for (i in 1:10)\n",
    "{\n",
    "  aic1<-AIC(arima(days, order = c(0,0,i), method =\"ML\" ))\n",
    "  if(aic1<aic0)\n",
    "  {\n",
    "    aic0<-aic1\n",
    "    MA.mejor<-i\n",
    "  }\n",
    "}\n",
    "aic0 \n",
    "MA.mejor"
   ]
  },
  {
   "cell_type": "markdown",
   "id": "forward-canal",
   "metadata": {},
   "source": [
    "**ARMA**"
   ]
  },
  {
   "cell_type": "code",
   "execution_count": 10,
   "id": "indirect-vatican",
   "metadata": {},
   "outputs": [
    {
     "name": "stderr",
     "output_type": "stream",
     "text": [
      "Warning message in log(s2):\n",
      "\"Se han producido NaNs\"Warning message in stats::arima(x = x, order = order, seasonal = seasonal, xreg = xreg, :\n",
      "\"possible convergence problem: optim gave code = 1\"Warning message in stats::arima(x = x, order = order, seasonal = seasonal, xreg = xreg, :\n",
      "\"possible convergence problem: optim gave code = 1\"Warning message in stats::arima(x = x, order = order, seasonal = seasonal, xreg = xreg, :\n",
      "\"possible convergence problem: optim gave code = 1\"Warning message in stats::arima(x = x, order = order, seasonal = seasonal, xreg = xreg, :\n",
      "\"possible convergence problem: optim gave code = 1\"Warning message in stats::arima(x = x, order = order, seasonal = seasonal, xreg = xreg, :\n",
      "\"possible convergence problem: optim gave code = 1\"Warning message in stats::arima(x = x, order = order, seasonal = seasonal, xreg = xreg, :\n",
      "\"possible convergence problem: optim gave code = 1\"Warning message in stats::arima(x = x, order = order, seasonal = seasonal, xreg = xreg, :\n",
      "\"possible convergence problem: optim gave code = 1\"Warning message in log(s2):\n",
      "\"Se han producido NaNs\"Warning message in log(s2):\n",
      "\"Se han producido NaNs\"Warning message in log(s2):\n",
      "\"Se han producido NaNs\"Warning message in log(s2):\n",
      "\"Se han producido NaNs\"Warning message in log(s2):\n",
      "\"Se han producido NaNs\"Warning message in stats::arima(x = x, order = order, seasonal = seasonal, xreg = xreg, :\n",
      "\"possible convergence problem: optim gave code = 1\"Warning message in stats::arima(x = x, order = order, seasonal = seasonal, xreg = xreg, :\n",
      "\"possible convergence problem: optim gave code = 1\"Warning message in stats::arima(x = x, order = order, seasonal = seasonal, xreg = xreg, :\n",
      "\"possible convergence problem: optim gave code = 1\"Warning message in stats::arima(x = x, order = order, seasonal = seasonal, xreg = xreg, :\n",
      "\"possible convergence problem: optim gave code = 1\"Warning message in log(s2):\n",
      "\"Se han producido NaNs\"Warning message in log(s2):\n",
      "\"Se han producido NaNs\"Warning message in log(s2):\n",
      "\"Se han producido NaNs\"Warning message in stats::arima(x = x, order = order, seasonal = seasonal, xreg = xreg, :\n",
      "\"possible convergence problem: optim gave code = 1\"Warning message in stats::arima(x = x, order = order, seasonal = seasonal, xreg = xreg, :\n",
      "\"possible convergence problem: optim gave code = 1\"Warning message in log(s2):\n",
      "\"Se han producido NaNs\"Warning message in stats::arima(x = x, order = order, seasonal = seasonal, xreg = xreg, :\n",
      "\"possible convergence problem: optim gave code = 1\"Warning message in stats::arima(x = x, order = order, seasonal = seasonal, xreg = xreg, :\n",
      "\"possible convergence problem: optim gave code = 1\"Warning message in stats::arima(x = x, order = order, seasonal = seasonal, xreg = xreg, :\n",
      "\"possible convergence problem: optim gave code = 1\"Warning message in stats::arima(x = x, order = order, seasonal = seasonal, xreg = xreg, :\n",
      "\"possible convergence problem: optim gave code = 1\"Warning message in stats::arima(x = x, order = order, seasonal = seasonal, xreg = xreg, :\n",
      "\"possible convergence problem: optim gave code = 1\"Warning message in stats::arima(x = x, order = order, seasonal = seasonal, xreg = xreg, :\n",
      "\"possible convergence problem: optim gave code = 1\"Warning message in stats::arima(x = x, order = order, seasonal = seasonal, xreg = xreg, :\n",
      "\"possible convergence problem: optim gave code = 1\"Warning message in stats::arima(x = x, order = order, seasonal = seasonal, xreg = xreg, :\n",
      "\"possible convergence problem: optim gave code = 1\"Warning message in stats::arima(x = x, order = order, seasonal = seasonal, xreg = xreg, :\n",
      "\"possible convergence problem: optim gave code = 1\""
     ]
    },
    {
     "data": {
      "text/html": [
       "888.223863246376"
      ],
      "text/latex": [
       "888.223863246376"
      ],
      "text/markdown": [
       "888.223863246376"
      ],
      "text/plain": [
       "[1] 888.2239"
      ]
     },
     "metadata": {},
     "output_type": "display_data"
    },
    {
     "data": {
      "text/html": [
       "<ol class=list-inline>\n",
       "\t<li>1</li>\n",
       "\t<li>2</li>\n",
       "</ol>\n"
      ],
      "text/latex": [
       "\\begin{enumerate*}\n",
       "\\item 1\n",
       "\\item 2\n",
       "\\end{enumerate*}\n"
      ],
      "text/markdown": [
       "1. 1\n",
       "2. 2\n",
       "\n",
       "\n"
      ],
      "text/plain": [
       "[1] 1 2"
      ]
     },
     "metadata": {},
     "output_type": "display_data"
    }
   ],
   "source": [
    "arma.aic<-Inf\n",
    "for(j in 1:10)\n",
    "{\n",
    "  for (i in 1:10)\n",
    "  {\n",
    "    aux<-AIC(arima(days, order = c(j,0,i), method =\"ML\" ))\n",
    "    if(aux<arma.aic)\n",
    "    {\n",
    "      arma.aic<-aux\n",
    "      ARMA.mejor<-c(j,i)\n",
    "    }\n",
    "  }\n",
    "}\n",
    "arma.aic\n",
    "ARMA.mejor "
   ]
  },
  {
   "cell_type": "markdown",
   "id": "obvious-appraisal",
   "metadata": {},
   "source": [
    "## Ruido blanco"
   ]
  },
  {
   "cell_type": "code",
   "execution_count": 13,
   "id": "supported-fifty",
   "metadata": {},
   "outputs": [
    {
     "name": "stdout",
     "output_type": "stream",
     "text": [
      "Time Series:\n",
      "Start = 1 \n",
      "End = 130 \n",
      "Frequency = 1 \n",
      "  [1]   9.96344933   9.11175072   9.63696427  -4.14308236  -1.58782816\n",
      "  [6]   1.21962079  -4.73886505  -1.68024543  -3.95334929   9.71853470\n",
      " [11]   5.92587817   6.40877812   9.09871143  -6.23377631   9.51792467\n",
      " [16]  -4.32217672   7.13754431  -1.86043130   8.43294544  10.84867328\n",
      " [21]   4.80843681  -3.85531379  -4.32968711   8.29081956   5.08514321\n",
      " [26]   4.46659214   2.79988235  11.21770144   3.06579097  -0.03591650\n",
      " [31]  -6.79690957  -7.48031406  -0.17821694  -2.48033606  -0.47100192\n",
      " [36]  -0.12115923  -0.92578672  -0.35537052  -0.61640900  -8.54902024\n",
      " [41]  -0.59575734  -2.15915106  -2.33034997  -2.38077387  -0.70172826\n",
      " [46]  -7.95739839  -0.05944042  -5.04854473  -3.20624881   7.37910320\n",
      " [51]  -9.15896708  -7.45085724   7.40588233   3.20891010  -9.17177670\n",
      " [56]   5.63357133  -5.89304980 -12.97907720  -2.70998586  -7.79886006\n",
      " [61]  -0.67241345  -7.28940726  26.38466527   9.05867480  -9.64190922\n",
      " [66]   1.02914340  -2.91478560  10.57471105  -4.34117234  -8.41579035\n",
      " [71]   7.66051575   3.24837565 -11.26974697   4.93917024   4.51402981\n",
      " [76]  10.68888143  -2.23832001   6.23503861  -0.35943065  -4.16035779\n",
      " [81]   0.65798923  -3.31850895  -1.99829767  -2.05800897  -3.34897521\n",
      " [86]  -2.97707811   7.05008769   5.75531813   4.23596919   5.81661341\n",
      " [91] -10.08965200   2.01228705  -1.79366388  -5.30200042   0.55806011\n",
      " [96]  -1.94248122  -3.39890983  -2.96583829  -2.94627971   5.92613979\n",
      "[101]  -1.03319610  -1.82450755  -6.38275354  -6.35968910  -5.50156018\n",
      "[106]  21.08485647   4.72950731  -5.53620735   2.18011342  -2.51047314\n",
      "[111]  -8.35036592  -0.27106830  -0.47684173  -3.38851582  -1.64858687\n",
      "[116]  -2.32705371  -6.21817788  -5.66215375  -5.11653950   6.29238492\n",
      "[121]  -2.77495390 -10.89547146   2.18306773  -9.13277392  -1.54070339\n",
      "[126] -10.23312830  -1.78813788  -5.74664796  33.40555720  -5.47624006\n"
     ]
    }
   ],
   "source": [
    "res<-residuals(arima(days, order=c(1,0,2)))\n",
    "print(res)"
   ]
  },
  {
   "cell_type": "markdown",
   "id": "monetary-dynamics",
   "metadata": {},
   "source": [
    "**Media**"
   ]
  },
  {
   "cell_type": "code",
   "execution_count": 14,
   "id": "destroyed-laser",
   "metadata": {},
   "outputs": [
    {
     "data": {
      "text/html": [
       "-0.0104013227710698"
      ],
      "text/latex": [
       "-0.0104013227710698"
      ],
      "text/markdown": [
       "-0.0104013227710698"
      ],
      "text/plain": [
       "[1] -0.01040132"
      ]
     },
     "metadata": {},
     "output_type": "display_data"
    }
   ],
   "source": [
    "mean(res)"
   ]
  },
  {
   "cell_type": "markdown",
   "id": "abroad-transcription",
   "metadata": {},
   "source": [
    "**Varianza**"
   ]
  },
  {
   "cell_type": "code",
   "execution_count": 15,
   "id": "consolidated-extra",
   "metadata": {},
   "outputs": [
    {
     "data": {
      "image/png": "[encoded data removed]",
      "text/plain": [
       "plot without title"
      ]
     },
     "metadata": {},
     "output_type": "display_data"
    }
   ],
   "source": [
    "plot(res, type=\"p\")"
   ]
  },
  {
   "cell_type": "markdown",
   "id": "large-strand",
   "metadata": {},
   "source": [
    "**Incorrelación**"
   ]
  },
  {
   "cell_type": "code",
   "execution_count": 16,
   "id": "ranging-brand",
   "metadata": {},
   "outputs": [
    {
     "data": {
      "image/png": "[encoded data removed]",
      "text/plain": [
       "Plot with title \"Series res\""
      ]
     },
     "metadata": {},
     "output_type": "display_data"
    },
    {
     "data": {
      "image/png": "[encoded data removed]",
      "text/plain": [
       "Plot with title \"Series  res\""
      ]
     },
     "metadata": {},
     "output_type": "display_data"
    }
   ],
   "source": [
    "acf(res) \n",
    "pacf(res) "
   ]
  },
  {
   "cell_type": "markdown",
   "id": "electoral-nebraska",
   "metadata": {},
   "source": [
    "**Incorrelación de forma analítica**"
   ]
  },
  {
   "cell_type": "code",
   "execution_count": 17,
   "id": "understood-livestock",
   "metadata": {},
   "outputs": [
    {
     "data": {
      "text/plain": [
       "\n",
       "\tBox-Pierce test\n",
       "\n",
       "data:  res\n",
       "X-squared = 0.0049536, df = 1, p-value = 0.9439\n"
      ]
     },
     "metadata": {},
     "output_type": "display_data"
    }
   ],
   "source": [
    "Box.test(res)"
   ]
  },
  {
   "cell_type": "markdown",
   "id": "invisible-object",
   "metadata": {},
   "source": [
    "**Normalidad**"
   ]
  },
  {
   "cell_type": "code",
   "execution_count": 18,
   "id": "laughing-bargain",
   "metadata": {},
   "outputs": [
    {
     "data": {
      "text/plain": [
       "\n",
       "\tShapiro-Wilk normality test\n",
       "\n",
       "data:  res\n",
       "W = 0.91088, p-value = 3.054e-07\n"
      ]
     },
     "metadata": {},
     "output_type": "display_data"
    }
   ],
   "source": [
    "shapiro.test(res)"
   ]
  },
  {
   "cell_type": "code",
   "execution_count": null,
   "id": "angry-motivation",
   "metadata": {},
   "outputs": [],
   "source": [
    "Nota: no proviene de una distribución normal"
   ]
  },
  {
   "cell_type": "markdown",
   "id": "centered-exposure",
   "metadata": {},
   "source": [
    "## Predicciones"
   ]
  },
  {
   "cell_type": "code",
   "execution_count": 19,
   "id": "smoking-defeat",
   "metadata": {},
   "outputs": [
    {
     "data": {
      "image/png": "[encoded data removed]",
      "text/plain": [
       "plot without title"
      ]
     },
     "metadata": {},
     "output_type": "display_data"
    }
   ],
   "source": [
    "p<-predict(arima(days, order=c(1, 0,2), method=\"ML\"), n.ahead=20)$pred\n",
    "plot(days)\n",
    "lines(p, col=\"magenta\")"
   ]
  },
  {
   "cell_type": "code",
   "execution_count": 20,
   "id": "continental-carter",
   "metadata": {},
   "outputs": [
    {
     "data": {
      "image/png": "[encoded data removed]",
      "text/plain": [
       "plot without title"
      ]
     },
     "metadata": {},
     "output_type": "display_data"
    }
   ],
   "source": [
    "data(larain)\n",
    "plot(larain)"
   ]
  },
  {
   "cell_type": "markdown",
   "id": "helpful-actress",
   "metadata": {},
   "source": [
    "## Clasificación"
   ]
  },
  {
   "cell_type": "markdown",
   "id": "afraid-session",
   "metadata": {},
   "source": [
    "**Tendencia lineal**"
   ]
  },
  {
   "cell_type": "code",
   "execution_count": 21,
   "id": "alleged-dating",
   "metadata": {},
   "outputs": [
    {
     "data": {
      "text/plain": [
       "\n",
       "Call:\n",
       "lm(formula = larain ~ time(larain))\n",
       "\n",
       "Residuals:\n",
       "     Min       1Q   Median       3Q      Max \n",
       "-10.5871  -5.0542  -0.9686   3.2917  24.6733 \n",
       "\n",
       "Coefficients:\n",
       "             Estimate Std. Error t value Pr(>|t|)\n",
       "(Intercept)  42.51849   37.48118   1.134    0.259\n",
       "time(larain) -0.01428    0.01937  -0.737    0.462\n",
       "\n",
       "Residual standard error: 6.895 on 113 degrees of freedom\n",
       "Multiple R-squared:  0.004787,\tAdjusted R-squared:  -0.00402 \n",
       "F-statistic: 0.5436 on 1 and 113 DF,  p-value: 0.4625\n"
      ]
     },
     "metadata": {},
     "output_type": "display_data"
    }
   ],
   "source": [
    "t<-lm(larain~time(larain))\n",
    "summary(t)"
   ]
  },
  {
   "cell_type": "markdown",
   "id": "broadband-house",
   "metadata": {},
   "source": [
    "Nota: estacionaria en media"
   ]
  },
  {
   "cell_type": "markdown",
   "id": "sharing-empire",
   "metadata": {},
   "source": [
    "**Varianza**"
   ]
  },
  {
   "cell_type": "code",
   "execution_count": 22,
   "id": "guilty-corps",
   "metadata": {},
   "outputs": [
    {
     "data": {
      "text/plain": [
       "\n",
       "\tAugmented Dickey-Fuller Test\n",
       "\n",
       "data:  larain\n",
       "Dickey-Fuller = -3.4351, Lag order = 4, p-value = 0.05218\n",
       "alternative hypothesis: stationary\n"
      ]
     },
     "metadata": {},
     "output_type": "display_data"
    }
   ],
   "source": [
    "adf.test(larain)"
   ]
  },
  {
   "cell_type": "markdown",
   "id": "announced-focus",
   "metadata": {},
   "source": [
    "No es estacionaria en varianza en varianza, por lo que no es estacionaria"
   ]
  },
  {
   "cell_type": "markdown",
   "id": "impossible-bundle",
   "metadata": {},
   "source": [
    "## Correciones"
   ]
  },
  {
   "cell_type": "code",
   "execution_count": 24,
   "id": "fantastic-discretion",
   "metadata": {},
   "outputs": [
    {
     "name": "stderr",
     "output_type": "stream",
     "text": [
      "Warning message in adf.test(c1):\n",
      "\"p-value smaller than printed p-value\""
     ]
    },
    {
     "data": {
      "text/plain": [
       "\n",
       "\tAugmented Dickey-Fuller Test\n",
       "\n",
       "data:  c1\n",
       "Dickey-Fuller = -7.2194, Lag order = 4, p-value = 0.01\n",
       "alternative hypothesis: stationary\n"
      ]
     },
     "metadata": {},
     "output_type": "display_data"
    },
    {
     "data": {
      "text/plain": [
       "\n",
       "Call:\n",
       "lm(formula = c1 ~ time(c1))\n",
       "\n",
       "Residuals:\n",
       "    Min      1Q  Median      3Q     Max \n",
       "-29.453  -5.793   1.573   6.670  26.464 \n",
       "\n",
       "Coefficients:\n",
       "              Estimate Std. Error t value Pr(>|t|)\n",
       "(Intercept) -12.364584  54.716223  -0.226    0.822\n",
       "time(c1)      0.006396   0.028266   0.226    0.821\n",
       "\n",
       "Residual standard error: 9.931 on 112 degrees of freedom\n",
       "Multiple R-squared:  0.000457,\tAdjusted R-squared:  -0.008467 \n",
       "F-statistic: 0.05121 on 1 and 112 DF,  p-value: 0.8214\n"
      ]
     },
     "metadata": {},
     "output_type": "display_data"
    },
    {
     "data": {
      "image/png": "[encoded data removed]",
      "text/plain": [
       "plot without title"
      ]
     },
     "metadata": {},
     "output_type": "display_data"
    }
   ],
   "source": [
    "c1<-diff(larain)\n",
    "plot(c1)\n",
    "adf.test(c1)\n",
    "t1<-lm(c1~time(c1))\n",
    "summary(t1)"
   ]
  },
  {
   "cell_type": "markdown",
   "id": "different-knitting",
   "metadata": {},
   "source": [
    "## Modelación"
   ]
  },
  {
   "cell_type": "code",
   "execution_count": 28,
   "id": "modular-english",
   "metadata": {},
   "outputs": [
    {
     "data": {
      "text/plain": [
       "\n",
       "Call:\n",
       "ar(x = c1)\n",
       "\n",
       "Coefficients:\n",
       "      1        2        3        4  \n",
       "-0.8601  -0.6386  -0.4473  -0.2684  \n",
       "\n",
       "Order selected 4  sigma^2 estimated as  56.06"
      ]
     },
     "metadata": {},
     "output_type": "display_data"
    },
    {
     "data": {
      "text/html": [
       "783.572067742176"
      ],
      "text/latex": [
       "783.572067742176"
      ],
      "text/markdown": [
       "783.572067742176"
      ],
      "text/plain": [
       "[1] 783.5721"
      ]
     },
     "metadata": {},
     "output_type": "display_data"
    }
   ],
   "source": [
    "ar(c1)\n",
    "AIC(arima(c1, order=c(4,0,0), method=\"ML\"))"
   ]
  },
  {
   "cell_type": "code",
   "execution_count": 27,
   "id": "ethical-accounting",
   "metadata": {},
   "outputs": [
    {
     "data": {
      "text/html": [
       "768.529001354705"
      ],
      "text/latex": [
       "768.529001354705"
      ],
      "text/markdown": [
       "768.529001354705"
      ],
      "text/plain": [
       "[1] 768.529"
      ]
     },
     "metadata": {},
     "output_type": "display_data"
    },
    {
     "data": {
      "text/html": [
       "11"
      ],
      "text/latex": [
       "11"
      ],
      "text/markdown": [
       "11"
      ],
      "text/plain": [
       "[1] 11"
      ]
     },
     "metadata": {},
     "output_type": "display_data"
    }
   ],
   "source": [
    "aic0<-Inf # le das un numero muy grande\n",
    "for (i in 1:15)\n",
    "{\n",
    "  aic1<-AIC(arima(c1, order = c(0,0,i), method =\"ML\" ))\n",
    "  if(aic1<aic0)\n",
    "  {\n",
    "    aic0<-aic1\n",
    "    MA.mejor<-i\n",
    "  }\n",
    "}\n",
    "aic0 \n",
    "MA.mejor"
   ]
  },
  {
   "cell_type": "code",
   "execution_count": 30,
   "id": "cloudy-springer",
   "metadata": {},
   "outputs": [
    {
     "name": "stderr",
     "output_type": "stream",
     "text": [
      "Warning message in stats::arima(x = x, order = order, seasonal = seasonal, xreg = xreg, :\n",
      "\"possible convergence problem: optim gave code = 1\"Warning message in stats::arima(x = x, order = order, seasonal = seasonal, xreg = xreg, :\n",
      "\"possible convergence problem: optim gave code = 1\"Warning message in stats::arima(x = x, order = order, seasonal = seasonal, xreg = xreg, :\n",
      "\"possible convergence problem: optim gave code = 1\"Warning message in log(s2):\n",
      "\"Se han producido NaNs\"Warning message in log(s2):\n",
      "\"Se han producido NaNs\"Warning message in log(s2):\n",
      "\"Se han producido NaNs\"Warning message in log(s2):\n",
      "\"Se han producido NaNs\"Warning message in log(s2):\n",
      "\"Se han producido NaNs\"Warning message in log(s2):\n",
      "\"Se han producido NaNs\"Warning message in log(s2):\n",
      "\"Se han producido NaNs\"Warning message in stats::arima(x = x, order = order, seasonal = seasonal, xreg = xreg, :\n",
      "\"possible convergence problem: optim gave code = 1\"Warning message in stats::arima(x = x, order = order, seasonal = seasonal, xreg = xreg, :\n",
      "\"possible convergence problem: optim gave code = 1\"Warning message in stats::arima(x = x, order = order, seasonal = seasonal, xreg = xreg, :\n",
      "\"possible convergence problem: optim gave code = 1\"Warning message in stats::arima(x = x, order = order, seasonal = seasonal, xreg = xreg, :\n",
      "\"possible convergence problem: optim gave code = 1\"Warning message in log(s2):\n",
      "\"Se han producido NaNs\"Warning message in stats::arima(x = x, order = order, seasonal = seasonal, xreg = xreg, :\n",
      "\"possible convergence problem: optim gave code = 1\"Warning message in stats::arima(x = x, order = order, seasonal = seasonal, xreg = xreg, :\n",
      "\"possible convergence problem: optim gave code = 1\"Warning message in stats::arima(x = x, order = order, seasonal = seasonal, xreg = xreg, :\n",
      "\"possible convergence problem: optim gave code = 1\"Warning message in stats::arima(x = x, order = order, seasonal = seasonal, xreg = xreg, :\n",
      "\"possible convergence problem: optim gave code = 1\"Warning message in stats::arima(x = x, order = order, seasonal = seasonal, xreg = xreg, :\n",
      "\"possible convergence problem: optim gave code = 1\"Warning message in stats::arima(x = x, order = order, seasonal = seasonal, xreg = xreg, :\n",
      "\"possible convergence problem: optim gave code = 1\"Warning message in stats::arima(x = x, order = order, seasonal = seasonal, xreg = xreg, :\n",
      "\"possible convergence problem: optim gave code = 1\"Warning message in stats::arima(x = x, order = order, seasonal = seasonal, xreg = xreg, :\n",
      "\"possible convergence problem: optim gave code = 1\""
     ]
    },
    {
     "data": {
      "text/html": [
       "767.138780965932"
      ],
      "text/latex": [
       "767.138780965932"
      ],
      "text/markdown": [
       "767.138780965932"
      ],
      "text/plain": [
       "[1] 767.1388"
      ]
     },
     "metadata": {},
     "output_type": "display_data"
    },
    {
     "data": {
      "text/html": [
       "<ol class=list-inline>\n",
       "\t<li>7</li>\n",
       "\t<li>6</li>\n",
       "</ol>\n"
      ],
      "text/latex": [
       "\\begin{enumerate*}\n",
       "\\item 7\n",
       "\\item 6\n",
       "\\end{enumerate*}\n"
      ],
      "text/markdown": [
       "1. 7\n",
       "2. 6\n",
       "\n",
       "\n"
      ],
      "text/plain": [
       "[1] 7 6"
      ]
     },
     "metadata": {},
     "output_type": "display_data"
    }
   ],
   "source": [
    "arma.aic<-Inf\n",
    "for(j in 1:10)\n",
    "{\n",
    "  for (i in 1:10)\n",
    "  {\n",
    "    aux<-AIC(arima(c1, order = c(j,0,i), method =\"ML\" ))\n",
    "    if(aux<arma.aic)\n",
    "    {\n",
    "      arma.aic<-aux\n",
    "      ARMA.mejor<-c(j,i)\n",
    "    }\n",
    "  }\n",
    "}\n",
    "arma.aic\n",
    "ARMA.mejor "
   ]
  },
  {
   "cell_type": "code",
   "execution_count": 31,
   "id": "medical-resort",
   "metadata": {},
   "outputs": [],
   "source": [
    "res.517<-residuals(arima(c1, order=c(7,0,6), method=\"ML\"))"
   ]
  },
  {
   "cell_type": "code",
   "execution_count": 32,
   "id": "virgin-sympathy",
   "metadata": {},
   "outputs": [
    {
     "data": {
      "text/html": [
       "-0.308671010927406"
      ],
      "text/latex": [
       "-0.308671010927406"
      ],
      "text/markdown": [
       "-0.308671010927406"
      ],
      "text/plain": [
       "[1] -0.308671"
      ]
     },
     "metadata": {},
     "output_type": "display_data"
    }
   ],
   "source": [
    "mean(res.517)"
   ]
  },
  {
   "cell_type": "code",
   "execution_count": 33,
   "id": "affecting-gentleman",
   "metadata": {},
   "outputs": [
    {
     "data": {
      "image/png": "[encoded data removed]",
      "text/plain": [
       "plot without title"
      ]
     },
     "metadata": {},
     "output_type": "display_data"
    }
   ],
   "source": [
    "plot(res.517, type=\"p\")"
   ]
  },
  {
   "cell_type": "code",
   "execution_count": 34,
   "id": "studied-nylon",
   "metadata": {
    "scrolled": true
   },
   "outputs": [
    {
     "data": {
      "image/png": "[encoded data removed]",
      "text/plain": [
       "Plot with title \"Series res.517\""
      ]
     },
     "metadata": {},
     "output_type": "display_data"
    }
   ],
   "source": [
    "acf(res.517)\n",
    "acf(res.517)"
   ]
  },
  {
   "cell_type": "code",
   "execution_count": 39,
   "id": "cubic-extent",
   "metadata": {},
   "outputs": [
    {
     "data": {
      "image/png": "[encoded data removed]",
      "text/plain": [
       "plot without title"
      ]
     },
     "metadata": {},
     "output_type": "display_data"
    }
   ],
   "source": [
    "p<-predict(arima(c1, order=c(7, 0,6), method=\"ML\"), n.ahead=20)$pred\n",
    "plot(c1, xlim=c(1880, 2012))\n",
    "lines(p, col=\"magenta\")"
   ]
  },
  {
   "cell_type": "code",
   "execution_count": null,
   "id": "operating-bronze",
   "metadata": {},
   "outputs": [],
   "source": []
  }
 ],
 "metadata": {
  "kernelspec": {
   "display_name": "R",
   "language": "R",
   "name": "ir"
  },
  "language_info": {
   "codemirror_mode": "r",
   "file_extension": ".r",
   "mimetype": "text/x-r-source",
   "name": "R",
   "pygments_lexer": "r",
   "version": "3.6.1"
  }
 },
 "nbformat": 4,
 "nbformat_minor": 5
}
